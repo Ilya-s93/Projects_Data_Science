{
 "cells": [
  {
   "cell_type": "markdown",
   "metadata": {},
   "source": [
    "# Восстановление золота из руды"
   ]
  },
  {
   "cell_type": "markdown",
   "metadata": {},
   "source": [
    "Подготовьте прототип модели машинного обучения. Компания разрабатывает решения для эффективной работы промышленных предприятий.\n",
    "\n",
    "Модель должна предсказать коэффициент восстановления золота из золотосодержащей руды. Используйте данные с параметрами добычи и очистки. \n",
    "\n",
    "Модель поможет оптимизировать производство, чтобы не запускать предприятие с убыточными характеристиками."
   ]
  },
  {
   "cell_type": "markdown",
   "metadata": {},
   "source": [
    "### Технологический процесс\n",
    "\n",
    "1. Флотация\n",
    "\n",
    "    Во флотационную установку подаётся смесь золотосодержащей руды. После обогащения получается черновой концентрат и «отвальные хвосты», то есть остатки продукта с низкой концентрацией ценных металлов. На стабильность этого процесса влияет непостоянное и неоптимальное физико-химическое состояние флотационной пульпы (смеси твёрдых частиц и жидкости).\n",
    "\n",
    "2. Очистка\n",
    "\n",
    "    Черновой концентрат проходит две очистки. На выходе получается финальный концентрат и новые отвальные хвосты."
   ]
  },
  {
   "cell_type": "markdown",
   "metadata": {},
   "source": [
    "### Расчёт эффективности\n",
    "\n",
    "Эффективность обогащения рассчитывается по формуле:\n",
    "\n",
    "![title](./f.png)\n",
    "\n",
    "где:\n",
    "\n",
    "C — доля золота в концентрате после флотации/очистки; \\\n",
    "F — доля золота в сырье/концентрате до флотации/очистки; \\\n",
    "T — доля золота в отвальных хвостах после флотации/очистки."
   ]
  },
  {
   "cell_type": "markdown",
   "metadata": {},
   "source": [
    "# Описание данных\n",
    "\n",
    "- Rougher feed — исходное сырье\n",
    "- Rougher additions (или reagent additions) — флотационные реагенты: Xanthate, Sulphate, Depressant\n",
    "- Xanthate — ксантогенат (промотер, или активатор флотации);\n",
    "- Sulphate — сульфат (на данном производстве сульфид натрия);\n",
    "- Depressant — депрессант (силикат натрия).\n",
    "- Rougher process (англ. «грубый процесс») — флотация\n",
    "- Rougher tails — отвальные хвосты\n",
    "- Float banks — флотационная установка\n",
    "- Cleaner process — очистка\n",
    "- Rougher Au — черновой концентрат золота\n",
    "- Final Au — финальный концентрат золота\n",
    "\n",
    "Параметры этапов\n",
    "- air amount — объём воздуха\n",
    "- fluid levels — уровень жидкости\n",
    "- feed size — размер гранул сырья\n",
    "- feed rate — скорость подачи\n",
    "Наименование признаков\n",
    "\n",
    "Наименование признаков должно быть такое:\n",
    "[этап].[тип_параметра].[название_параметра]\n",
    "Пример: rougher.input.feed_ag\n",
    "\n",
    "Возможные значения для блока [этап]:\n",
    "- rougher — флотация\n",
    "- primary_cleaner — первичная очистка\n",
    "- secondary_cleaner — вторичная очистка\n",
    "- final — финальные характеристики\n",
    "\n",
    "Возможные значения для блока [тип_параметра]:\n",
    "- input — параметры сырья\n",
    "- output — параметры продукта\n",
    "- state — параметры, характеризующие текущее состояние этапа\n",
    "- calculation — расчётные характеристики"
   ]
  },
  {
   "cell_type": "markdown",
   "metadata": {},
   "source": [
    "## Подготовка данных"
   ]
  },
  {
   "cell_type": "code",
   "execution_count": 1,
   "metadata": {},
   "outputs": [],
   "source": [
    "import pandas as pd\n",
    "import numpy as np\n",
    "import seaborn as sns\n",
    "import matplotlib.pyplot as plt\n",
    "\n",
    "\n",
    "from sklearn.metrics import mean_absolute_error\n",
    "from sklearn.metrics import make_scorer\n",
    "from sklearn.pipeline import  make_pipeline\n",
    "from sklearn.ensemble import RandomForestRegressor\n",
    "from sklearn.preprocessing import StandardScaler\n",
    "from sklearn.model_selection import cross_val_score\n",
    "from sklearn.model_selection import GridSearchCV\n",
    "from sklearn.linear_model import LinearRegression\n",
    "from sklearn.tree import DecisionTreeRegressor\n",
    "from sklearn.dummy import DummyRegressor\n",
    "\n",
    "import warnings\n",
    "warnings.simplefilter(action='ignore', category=FutureWarning)"
   ]
  },
  {
   "cell_type": "code",
   "execution_count": 2,
   "metadata": {},
   "outputs": [
    {
     "name": "stdout",
     "output_type": "stream",
     "text": [
      "<class 'pandas.core.frame.DataFrame'>\n",
      "RangeIndex: 14149 entries, 0 to 14148\n",
      "Data columns (total 87 columns):\n",
      " #   Column                                              Non-Null Count  Dtype  \n",
      "---  ------                                              --------------  -----  \n",
      " 0   date                                                14149 non-null  object \n",
      " 1   final.output.concentrate_ag                         14148 non-null  float64\n",
      " 2   final.output.concentrate_pb                         14148 non-null  float64\n",
      " 3   final.output.concentrate_sol                        13938 non-null  float64\n",
      " 4   final.output.concentrate_au                         14149 non-null  float64\n",
      " 5   final.output.recovery                               14149 non-null  float64\n",
      " 6   final.output.tail_ag                                14149 non-null  float64\n",
      " 7   final.output.tail_pb                                14049 non-null  float64\n",
      " 8   final.output.tail_sol                               14144 non-null  float64\n",
      " 9   final.output.tail_au                                14149 non-null  float64\n",
      " 10  primary_cleaner.input.sulfate                       14129 non-null  float64\n",
      " 11  primary_cleaner.input.depressant                    14117 non-null  float64\n",
      " 12  primary_cleaner.input.feed_size                     14149 non-null  float64\n",
      " 13  primary_cleaner.input.xanthate                      14049 non-null  float64\n",
      " 14  primary_cleaner.output.concentrate_ag               14149 non-null  float64\n",
      " 15  primary_cleaner.output.concentrate_pb               14063 non-null  float64\n",
      " 16  primary_cleaner.output.concentrate_sol              13863 non-null  float64\n",
      " 17  primary_cleaner.output.concentrate_au               14149 non-null  float64\n",
      " 18  primary_cleaner.output.tail_ag                      14148 non-null  float64\n",
      " 19  primary_cleaner.output.tail_pb                      14134 non-null  float64\n",
      " 20  primary_cleaner.output.tail_sol                     14103 non-null  float64\n",
      " 21  primary_cleaner.output.tail_au                      14149 non-null  float64\n",
      " 22  primary_cleaner.state.floatbank8_a_air              14145 non-null  float64\n",
      " 23  primary_cleaner.state.floatbank8_a_level            14148 non-null  float64\n",
      " 24  primary_cleaner.state.floatbank8_b_air              14145 non-null  float64\n",
      " 25  primary_cleaner.state.floatbank8_b_level            14148 non-null  float64\n",
      " 26  primary_cleaner.state.floatbank8_c_air              14147 non-null  float64\n",
      " 27  primary_cleaner.state.floatbank8_c_level            14148 non-null  float64\n",
      " 28  primary_cleaner.state.floatbank8_d_air              14146 non-null  float64\n",
      " 29  primary_cleaner.state.floatbank8_d_level            14148 non-null  float64\n",
      " 30  rougher.calculation.sulfate_to_au_concentrate       14148 non-null  float64\n",
      " 31  rougher.calculation.floatbank10_sulfate_to_au_feed  14148 non-null  float64\n",
      " 32  rougher.calculation.floatbank11_sulfate_to_au_feed  14148 non-null  float64\n",
      " 33  rougher.calculation.au_pb_ratio                     14149 non-null  float64\n",
      " 34  rougher.input.feed_ag                               14149 non-null  float64\n",
      " 35  rougher.input.feed_pb                               14049 non-null  float64\n",
      " 36  rougher.input.feed_rate                             14141 non-null  float64\n",
      " 37  rougher.input.feed_size                             14005 non-null  float64\n",
      " 38  rougher.input.feed_sol                              14071 non-null  float64\n",
      " 39  rougher.input.feed_au                               14149 non-null  float64\n",
      " 40  rougher.input.floatbank10_sulfate                   14120 non-null  float64\n",
      " 41  rougher.input.floatbank10_xanthate                  14141 non-null  float64\n",
      " 42  rougher.input.floatbank11_sulfate                   14113 non-null  float64\n",
      " 43  rougher.input.floatbank11_xanthate                  13721 non-null  float64\n",
      " 44  rougher.output.concentrate_ag                       14149 non-null  float64\n",
      " 45  rougher.output.concentrate_pb                       14149 non-null  float64\n",
      " 46  rougher.output.concentrate_sol                      14127 non-null  float64\n",
      " 47  rougher.output.concentrate_au                       14149 non-null  float64\n",
      " 48  rougher.output.recovery                             14149 non-null  float64\n",
      " 49  rougher.output.tail_ag                              14148 non-null  float64\n",
      " 50  rougher.output.tail_pb                              14149 non-null  float64\n",
      " 51  rougher.output.tail_sol                             14149 non-null  float64\n",
      " 52  rougher.output.tail_au                              14149 non-null  float64\n",
      " 53  rougher.state.floatbank10_a_air                     14148 non-null  float64\n",
      " 54  rougher.state.floatbank10_a_level                   14148 non-null  float64\n",
      " 55  rougher.state.floatbank10_b_air                     14148 non-null  float64\n",
      " 56  rougher.state.floatbank10_b_level                   14148 non-null  float64\n",
      " 57  rougher.state.floatbank10_c_air                     14148 non-null  float64\n",
      " 58  rougher.state.floatbank10_c_level                   14148 non-null  float64\n",
      " 59  rougher.state.floatbank10_d_air                     14149 non-null  float64\n",
      " 60  rougher.state.floatbank10_d_level                   14149 non-null  float64\n",
      " 61  rougher.state.floatbank10_e_air                     13713 non-null  float64\n",
      " 62  rougher.state.floatbank10_e_level                   14149 non-null  float64\n",
      " 63  rougher.state.floatbank10_f_air                     14149 non-null  float64\n",
      " 64  rougher.state.floatbank10_f_level                   14149 non-null  float64\n",
      " 65  secondary_cleaner.output.tail_ag                    14147 non-null  float64\n",
      " 66  secondary_cleaner.output.tail_pb                    14139 non-null  float64\n",
      " 67  secondary_cleaner.output.tail_sol                   12544 non-null  float64\n",
      " 68  secondary_cleaner.output.tail_au                    14149 non-null  float64\n",
      " 69  secondary_cleaner.state.floatbank2_a_air            13932 non-null  float64\n",
      " 70  secondary_cleaner.state.floatbank2_a_level          14148 non-null  float64\n",
      " 71  secondary_cleaner.state.floatbank2_b_air            14128 non-null  float64\n",
      " 72  secondary_cleaner.state.floatbank2_b_level          14148 non-null  float64\n",
      " 73  secondary_cleaner.state.floatbank3_a_air            14145 non-null  float64\n",
      " 74  secondary_cleaner.state.floatbank3_a_level          14148 non-null  float64\n",
      " 75  secondary_cleaner.state.floatbank3_b_air            14148 non-null  float64\n",
      " 76  secondary_cleaner.state.floatbank3_b_level          14148 non-null  float64\n",
      " 77  secondary_cleaner.state.floatbank4_a_air            14143 non-null  float64\n",
      " 78  secondary_cleaner.state.floatbank4_a_level          14148 non-null  float64\n",
      " 79  secondary_cleaner.state.floatbank4_b_air            14148 non-null  float64\n",
      " 80  secondary_cleaner.state.floatbank4_b_level          14148 non-null  float64\n",
      " 81  secondary_cleaner.state.floatbank5_a_air            14148 non-null  float64\n",
      " 82  secondary_cleaner.state.floatbank5_a_level          14148 non-null  float64\n",
      " 83  secondary_cleaner.state.floatbank5_b_air            14148 non-null  float64\n",
      " 84  secondary_cleaner.state.floatbank5_b_level          14148 non-null  float64\n",
      " 85  secondary_cleaner.state.floatbank6_a_air            14147 non-null  float64\n",
      " 86  secondary_cleaner.state.floatbank6_a_level          14148 non-null  float64\n",
      "dtypes: float64(86), object(1)\n",
      "memory usage: 9.4+ MB\n"
     ]
    }
   ],
   "source": [
    "data_train = pd.read_csv('./gold_recovery_train_new.csv')\n",
    "data_train.info()"
   ]
  },
  {
   "cell_type": "code",
   "execution_count": 3,
   "metadata": {},
   "outputs": [
    {
     "name": "stdout",
     "output_type": "stream",
     "text": [
      "<class 'pandas.core.frame.DataFrame'>\n",
      "RangeIndex: 5290 entries, 0 to 5289\n",
      "Data columns (total 53 columns):\n",
      " #   Column                                      Non-Null Count  Dtype  \n",
      "---  ------                                      --------------  -----  \n",
      " 0   date                                        5290 non-null   object \n",
      " 1   primary_cleaner.input.sulfate               5286 non-null   float64\n",
      " 2   primary_cleaner.input.depressant            5285 non-null   float64\n",
      " 3   primary_cleaner.input.feed_size             5290 non-null   float64\n",
      " 4   primary_cleaner.input.xanthate              5286 non-null   float64\n",
      " 5   primary_cleaner.state.floatbank8_a_air      5290 non-null   float64\n",
      " 6   primary_cleaner.state.floatbank8_a_level    5290 non-null   float64\n",
      " 7   primary_cleaner.state.floatbank8_b_air      5290 non-null   float64\n",
      " 8   primary_cleaner.state.floatbank8_b_level    5290 non-null   float64\n",
      " 9   primary_cleaner.state.floatbank8_c_air      5290 non-null   float64\n",
      " 10  primary_cleaner.state.floatbank8_c_level    5290 non-null   float64\n",
      " 11  primary_cleaner.state.floatbank8_d_air      5290 non-null   float64\n",
      " 12  primary_cleaner.state.floatbank8_d_level    5290 non-null   float64\n",
      " 13  rougher.input.feed_ag                       5290 non-null   float64\n",
      " 14  rougher.input.feed_pb                       5290 non-null   float64\n",
      " 15  rougher.input.feed_rate                     5287 non-null   float64\n",
      " 16  rougher.input.feed_size                     5289 non-null   float64\n",
      " 17  rougher.input.feed_sol                      5269 non-null   float64\n",
      " 18  rougher.input.feed_au                       5290 non-null   float64\n",
      " 19  rougher.input.floatbank10_sulfate           5285 non-null   float64\n",
      " 20  rougher.input.floatbank10_xanthate          5290 non-null   float64\n",
      " 21  rougher.input.floatbank11_sulfate           5282 non-null   float64\n",
      " 22  rougher.input.floatbank11_xanthate          5265 non-null   float64\n",
      " 23  rougher.state.floatbank10_a_air             5290 non-null   float64\n",
      " 24  rougher.state.floatbank10_a_level           5290 non-null   float64\n",
      " 25  rougher.state.floatbank10_b_air             5290 non-null   float64\n",
      " 26  rougher.state.floatbank10_b_level           5290 non-null   float64\n",
      " 27  rougher.state.floatbank10_c_air             5290 non-null   float64\n",
      " 28  rougher.state.floatbank10_c_level           5290 non-null   float64\n",
      " 29  rougher.state.floatbank10_d_air             5290 non-null   float64\n",
      " 30  rougher.state.floatbank10_d_level           5290 non-null   float64\n",
      " 31  rougher.state.floatbank10_e_air             5290 non-null   float64\n",
      " 32  rougher.state.floatbank10_e_level           5290 non-null   float64\n",
      " 33  rougher.state.floatbank10_f_air             5290 non-null   float64\n",
      " 34  rougher.state.floatbank10_f_level           5290 non-null   float64\n",
      " 35  secondary_cleaner.state.floatbank2_a_air    5287 non-null   float64\n",
      " 36  secondary_cleaner.state.floatbank2_a_level  5290 non-null   float64\n",
      " 37  secondary_cleaner.state.floatbank2_b_air    5288 non-null   float64\n",
      " 38  secondary_cleaner.state.floatbank2_b_level  5290 non-null   float64\n",
      " 39  secondary_cleaner.state.floatbank3_a_air    5281 non-null   float64\n",
      " 40  secondary_cleaner.state.floatbank3_a_level  5290 non-null   float64\n",
      " 41  secondary_cleaner.state.floatbank3_b_air    5290 non-null   float64\n",
      " 42  secondary_cleaner.state.floatbank3_b_level  5290 non-null   float64\n",
      " 43  secondary_cleaner.state.floatbank4_a_air    5290 non-null   float64\n",
      " 44  secondary_cleaner.state.floatbank4_a_level  5290 non-null   float64\n",
      " 45  secondary_cleaner.state.floatbank4_b_air    5290 non-null   float64\n",
      " 46  secondary_cleaner.state.floatbank4_b_level  5290 non-null   float64\n",
      " 47  secondary_cleaner.state.floatbank5_a_air    5290 non-null   float64\n",
      " 48  secondary_cleaner.state.floatbank5_a_level  5290 non-null   float64\n",
      " 49  secondary_cleaner.state.floatbank5_b_air    5290 non-null   float64\n",
      " 50  secondary_cleaner.state.floatbank5_b_level  5290 non-null   float64\n",
      " 51  secondary_cleaner.state.floatbank6_a_air    5290 non-null   float64\n",
      " 52  secondary_cleaner.state.floatbank6_a_level  5290 non-null   float64\n",
      "dtypes: float64(52), object(1)\n",
      "memory usage: 2.1+ MB\n"
     ]
    }
   ],
   "source": [
    "data_test = pd.read_csv('./gold_recovery_test_new.csv')\n",
    "data_test.info()"
   ]
  },
  {
   "cell_type": "code",
   "execution_count": 4,
   "metadata": {},
   "outputs": [
    {
     "name": "stdout",
     "output_type": "stream",
     "text": [
      "<class 'pandas.core.frame.DataFrame'>\n",
      "RangeIndex: 19439 entries, 0 to 19438\n",
      "Data columns (total 87 columns):\n",
      " #   Column                                              Non-Null Count  Dtype  \n",
      "---  ------                                              --------------  -----  \n",
      " 0   date                                                19439 non-null  object \n",
      " 1   final.output.concentrate_ag                         19438 non-null  float64\n",
      " 2   final.output.concentrate_pb                         19438 non-null  float64\n",
      " 3   final.output.concentrate_sol                        19228 non-null  float64\n",
      " 4   final.output.concentrate_au                         19439 non-null  float64\n",
      " 5   final.output.recovery                               19439 non-null  float64\n",
      " 6   final.output.tail_ag                                19438 non-null  float64\n",
      " 7   final.output.tail_pb                                19338 non-null  float64\n",
      " 8   final.output.tail_sol                               19433 non-null  float64\n",
      " 9   final.output.tail_au                                19439 non-null  float64\n",
      " 10  primary_cleaner.input.sulfate                       19415 non-null  float64\n",
      " 11  primary_cleaner.input.depressant                    19402 non-null  float64\n",
      " 12  primary_cleaner.input.feed_size                     19439 non-null  float64\n",
      " 13  primary_cleaner.input.xanthate                      19335 non-null  float64\n",
      " 14  primary_cleaner.output.concentrate_ag               19439 non-null  float64\n",
      " 15  primary_cleaner.output.concentrate_pb               19323 non-null  float64\n",
      " 16  primary_cleaner.output.concentrate_sol              19069 non-null  float64\n",
      " 17  primary_cleaner.output.concentrate_au               19439 non-null  float64\n",
      " 18  primary_cleaner.output.tail_ag                      19435 non-null  float64\n",
      " 19  primary_cleaner.output.tail_pb                      19418 non-null  float64\n",
      " 20  primary_cleaner.output.tail_sol                     19377 non-null  float64\n",
      " 21  primary_cleaner.output.tail_au                      19439 non-null  float64\n",
      " 22  primary_cleaner.state.floatbank8_a_air              19435 non-null  float64\n",
      " 23  primary_cleaner.state.floatbank8_a_level            19438 non-null  float64\n",
      " 24  primary_cleaner.state.floatbank8_b_air              19435 non-null  float64\n",
      " 25  primary_cleaner.state.floatbank8_b_level            19438 non-null  float64\n",
      " 26  primary_cleaner.state.floatbank8_c_air              19437 non-null  float64\n",
      " 27  primary_cleaner.state.floatbank8_c_level            19438 non-null  float64\n",
      " 28  primary_cleaner.state.floatbank8_d_air              19436 non-null  float64\n",
      " 29  primary_cleaner.state.floatbank8_d_level            19438 non-null  float64\n",
      " 30  rougher.calculation.sulfate_to_au_concentrate       19437 non-null  float64\n",
      " 31  rougher.calculation.floatbank10_sulfate_to_au_feed  19437 non-null  float64\n",
      " 32  rougher.calculation.floatbank11_sulfate_to_au_feed  19437 non-null  float64\n",
      " 33  rougher.calculation.au_pb_ratio                     19439 non-null  float64\n",
      " 34  rougher.input.feed_ag                               19439 non-null  float64\n",
      " 35  rougher.input.feed_pb                               19339 non-null  float64\n",
      " 36  rougher.input.feed_rate                             19428 non-null  float64\n",
      " 37  rougher.input.feed_size                             19294 non-null  float64\n",
      " 38  rougher.input.feed_sol                              19340 non-null  float64\n",
      " 39  rougher.input.feed_au                               19439 non-null  float64\n",
      " 40  rougher.input.floatbank10_sulfate                   19405 non-null  float64\n",
      " 41  rougher.input.floatbank10_xanthate                  19431 non-null  float64\n",
      " 42  rougher.input.floatbank11_sulfate                   19395 non-null  float64\n",
      " 43  rougher.input.floatbank11_xanthate                  18986 non-null  float64\n",
      " 44  rougher.output.concentrate_ag                       19439 non-null  float64\n",
      " 45  rougher.output.concentrate_pb                       19439 non-null  float64\n",
      " 46  rougher.output.concentrate_sol                      19416 non-null  float64\n",
      " 47  rougher.output.concentrate_au                       19439 non-null  float64\n",
      " 48  rougher.output.recovery                             19439 non-null  float64\n",
      " 49  rougher.output.tail_ag                              19438 non-null  float64\n",
      " 50  rougher.output.tail_pb                              19439 non-null  float64\n",
      " 51  rougher.output.tail_sol                             19439 non-null  float64\n",
      " 52  rougher.output.tail_au                              19439 non-null  float64\n",
      " 53  rougher.state.floatbank10_a_air                     19438 non-null  float64\n",
      " 54  rougher.state.floatbank10_a_level                   19438 non-null  float64\n",
      " 55  rougher.state.floatbank10_b_air                     19438 non-null  float64\n",
      " 56  rougher.state.floatbank10_b_level                   19438 non-null  float64\n",
      " 57  rougher.state.floatbank10_c_air                     19438 non-null  float64\n",
      " 58  rougher.state.floatbank10_c_level                   19438 non-null  float64\n",
      " 59  rougher.state.floatbank10_d_air                     19439 non-null  float64\n",
      " 60  rougher.state.floatbank10_d_level                   19439 non-null  float64\n",
      " 61  rougher.state.floatbank10_e_air                     19003 non-null  float64\n",
      " 62  rougher.state.floatbank10_e_level                   19439 non-null  float64\n",
      " 63  rougher.state.floatbank10_f_air                     19439 non-null  float64\n",
      " 64  rougher.state.floatbank10_f_level                   19439 non-null  float64\n",
      " 65  secondary_cleaner.output.tail_ag                    19437 non-null  float64\n",
      " 66  secondary_cleaner.output.tail_pb                    19427 non-null  float64\n",
      " 67  secondary_cleaner.output.tail_sol                   17691 non-null  float64\n",
      " 68  secondary_cleaner.output.tail_au                    19439 non-null  float64\n",
      " 69  secondary_cleaner.state.floatbank2_a_air            19219 non-null  float64\n",
      " 70  secondary_cleaner.state.floatbank2_a_level          19438 non-null  float64\n",
      " 71  secondary_cleaner.state.floatbank2_b_air            19416 non-null  float64\n",
      " 72  secondary_cleaner.state.floatbank2_b_level          19438 non-null  float64\n",
      " 73  secondary_cleaner.state.floatbank3_a_air            19426 non-null  float64\n",
      " 74  secondary_cleaner.state.floatbank3_a_level          19438 non-null  float64\n",
      " 75  secondary_cleaner.state.floatbank3_b_air            19438 non-null  float64\n",
      " 76  secondary_cleaner.state.floatbank3_b_level          19438 non-null  float64\n",
      " 77  secondary_cleaner.state.floatbank4_a_air            19433 non-null  float64\n",
      " 78  secondary_cleaner.state.floatbank4_a_level          19438 non-null  float64\n",
      " 79  secondary_cleaner.state.floatbank4_b_air            19438 non-null  float64\n",
      " 80  secondary_cleaner.state.floatbank4_b_level          19438 non-null  float64\n",
      " 81  secondary_cleaner.state.floatbank5_a_air            19438 non-null  float64\n",
      " 82  secondary_cleaner.state.floatbank5_a_level          19438 non-null  float64\n",
      " 83  secondary_cleaner.state.floatbank5_b_air            19438 non-null  float64\n",
      " 84  secondary_cleaner.state.floatbank5_b_level          19438 non-null  float64\n",
      " 85  secondary_cleaner.state.floatbank6_a_air            19437 non-null  float64\n",
      " 86  secondary_cleaner.state.floatbank6_a_level          19438 non-null  float64\n",
      "dtypes: float64(86), object(1)\n",
      "memory usage: 12.9+ MB\n"
     ]
    }
   ],
   "source": [
    "data_full = pd.read_csv('./gold_recovery_full_new.csv')\n",
    "data_full.info()"
   ]
  },
  {
   "cell_type": "markdown",
   "metadata": {},
   "source": [
    "Удалим пропуски в столбцах (rougher.output.concentrate_au, rougher.input.feed_au, rougher.output.tail_au, rougher.output.recovery), которые в дальнейшем потребуются для расчета эффективности обогащения:"
   ]
  },
  {
   "cell_type": "code",
   "execution_count": 5,
   "metadata": {},
   "outputs": [
    {
     "name": "stdout",
     "output_type": "stream",
     "text": [
      "<class 'pandas.core.frame.DataFrame'>\n",
      "Int64Index: 14149 entries, 0 to 14148\n",
      "Data columns (total 87 columns):\n",
      " #   Column                                              Non-Null Count  Dtype  \n",
      "---  ------                                              --------------  -----  \n",
      " 0   date                                                14149 non-null  object \n",
      " 1   final.output.concentrate_ag                         14148 non-null  float64\n",
      " 2   final.output.concentrate_pb                         14148 non-null  float64\n",
      " 3   final.output.concentrate_sol                        13938 non-null  float64\n",
      " 4   final.output.concentrate_au                         14149 non-null  float64\n",
      " 5   final.output.recovery                               14149 non-null  float64\n",
      " 6   final.output.tail_ag                                14149 non-null  float64\n",
      " 7   final.output.tail_pb                                14049 non-null  float64\n",
      " 8   final.output.tail_sol                               14144 non-null  float64\n",
      " 9   final.output.tail_au                                14149 non-null  float64\n",
      " 10  primary_cleaner.input.sulfate                       14129 non-null  float64\n",
      " 11  primary_cleaner.input.depressant                    14117 non-null  float64\n",
      " 12  primary_cleaner.input.feed_size                     14149 non-null  float64\n",
      " 13  primary_cleaner.input.xanthate                      14049 non-null  float64\n",
      " 14  primary_cleaner.output.concentrate_ag               14149 non-null  float64\n",
      " 15  primary_cleaner.output.concentrate_pb               14063 non-null  float64\n",
      " 16  primary_cleaner.output.concentrate_sol              13863 non-null  float64\n",
      " 17  primary_cleaner.output.concentrate_au               14149 non-null  float64\n",
      " 18  primary_cleaner.output.tail_ag                      14148 non-null  float64\n",
      " 19  primary_cleaner.output.tail_pb                      14134 non-null  float64\n",
      " 20  primary_cleaner.output.tail_sol                     14103 non-null  float64\n",
      " 21  primary_cleaner.output.tail_au                      14149 non-null  float64\n",
      " 22  primary_cleaner.state.floatbank8_a_air              14145 non-null  float64\n",
      " 23  primary_cleaner.state.floatbank8_a_level            14148 non-null  float64\n",
      " 24  primary_cleaner.state.floatbank8_b_air              14145 non-null  float64\n",
      " 25  primary_cleaner.state.floatbank8_b_level            14148 non-null  float64\n",
      " 26  primary_cleaner.state.floatbank8_c_air              14147 non-null  float64\n",
      " 27  primary_cleaner.state.floatbank8_c_level            14148 non-null  float64\n",
      " 28  primary_cleaner.state.floatbank8_d_air              14146 non-null  float64\n",
      " 29  primary_cleaner.state.floatbank8_d_level            14148 non-null  float64\n",
      " 30  rougher.calculation.sulfate_to_au_concentrate       14148 non-null  float64\n",
      " 31  rougher.calculation.floatbank10_sulfate_to_au_feed  14148 non-null  float64\n",
      " 32  rougher.calculation.floatbank11_sulfate_to_au_feed  14148 non-null  float64\n",
      " 33  rougher.calculation.au_pb_ratio                     14149 non-null  float64\n",
      " 34  rougher.input.feed_ag                               14149 non-null  float64\n",
      " 35  rougher.input.feed_pb                               14049 non-null  float64\n",
      " 36  rougher.input.feed_rate                             14141 non-null  float64\n",
      " 37  rougher.input.feed_size                             14005 non-null  float64\n",
      " 38  rougher.input.feed_sol                              14071 non-null  float64\n",
      " 39  rougher.input.feed_au                               14149 non-null  float64\n",
      " 40  rougher.input.floatbank10_sulfate                   14120 non-null  float64\n",
      " 41  rougher.input.floatbank10_xanthate                  14141 non-null  float64\n",
      " 42  rougher.input.floatbank11_sulfate                   14113 non-null  float64\n",
      " 43  rougher.input.floatbank11_xanthate                  13721 non-null  float64\n",
      " 44  rougher.output.concentrate_ag                       14149 non-null  float64\n",
      " 45  rougher.output.concentrate_pb                       14149 non-null  float64\n",
      " 46  rougher.output.concentrate_sol                      14127 non-null  float64\n",
      " 47  rougher.output.concentrate_au                       14149 non-null  float64\n",
      " 48  rougher.output.recovery                             14149 non-null  float64\n",
      " 49  rougher.output.tail_ag                              14148 non-null  float64\n",
      " 50  rougher.output.tail_pb                              14149 non-null  float64\n",
      " 51  rougher.output.tail_sol                             14149 non-null  float64\n",
      " 52  rougher.output.tail_au                              14149 non-null  float64\n",
      " 53  rougher.state.floatbank10_a_air                     14148 non-null  float64\n",
      " 54  rougher.state.floatbank10_a_level                   14148 non-null  float64\n",
      " 55  rougher.state.floatbank10_b_air                     14148 non-null  float64\n",
      " 56  rougher.state.floatbank10_b_level                   14148 non-null  float64\n",
      " 57  rougher.state.floatbank10_c_air                     14148 non-null  float64\n",
      " 58  rougher.state.floatbank10_c_level                   14148 non-null  float64\n",
      " 59  rougher.state.floatbank10_d_air                     14149 non-null  float64\n",
      " 60  rougher.state.floatbank10_d_level                   14149 non-null  float64\n",
      " 61  rougher.state.floatbank10_e_air                     13713 non-null  float64\n",
      " 62  rougher.state.floatbank10_e_level                   14149 non-null  float64\n",
      " 63  rougher.state.floatbank10_f_air                     14149 non-null  float64\n",
      " 64  rougher.state.floatbank10_f_level                   14149 non-null  float64\n",
      " 65  secondary_cleaner.output.tail_ag                    14147 non-null  float64\n",
      " 66  secondary_cleaner.output.tail_pb                    14139 non-null  float64\n",
      " 67  secondary_cleaner.output.tail_sol                   12544 non-null  float64\n",
      " 68  secondary_cleaner.output.tail_au                    14149 non-null  float64\n",
      " 69  secondary_cleaner.state.floatbank2_a_air            13932 non-null  float64\n",
      " 70  secondary_cleaner.state.floatbank2_a_level          14148 non-null  float64\n",
      " 71  secondary_cleaner.state.floatbank2_b_air            14128 non-null  float64\n",
      " 72  secondary_cleaner.state.floatbank2_b_level          14148 non-null  float64\n",
      " 73  secondary_cleaner.state.floatbank3_a_air            14145 non-null  float64\n",
      " 74  secondary_cleaner.state.floatbank3_a_level          14148 non-null  float64\n",
      " 75  secondary_cleaner.state.floatbank3_b_air            14148 non-null  float64\n",
      " 76  secondary_cleaner.state.floatbank3_b_level          14148 non-null  float64\n",
      " 77  secondary_cleaner.state.floatbank4_a_air            14143 non-null  float64\n",
      " 78  secondary_cleaner.state.floatbank4_a_level          14148 non-null  float64\n",
      " 79  secondary_cleaner.state.floatbank4_b_air            14148 non-null  float64\n",
      " 80  secondary_cleaner.state.floatbank4_b_level          14148 non-null  float64\n",
      " 81  secondary_cleaner.state.floatbank5_a_air            14148 non-null  float64\n",
      " 82  secondary_cleaner.state.floatbank5_a_level          14148 non-null  float64\n",
      " 83  secondary_cleaner.state.floatbank5_b_air            14148 non-null  float64\n",
      " 84  secondary_cleaner.state.floatbank5_b_level          14148 non-null  float64\n",
      " 85  secondary_cleaner.state.floatbank6_a_air            14147 non-null  float64\n",
      " 86  secondary_cleaner.state.floatbank6_a_level          14148 non-null  float64\n",
      "dtypes: float64(86), object(1)\n",
      "memory usage: 9.5+ MB\n"
     ]
    }
   ],
   "source": [
    "data_train.dropna(subset=['rougher.output.concentrate_au', 'rougher.input.feed_au','rougher.output.tail_au',\n",
    "                          'rougher.output.recovery'], inplace=True)\n",
    "data_train.info()"
   ]
  },
  {
   "cell_type": "markdown",
   "metadata": {},
   "source": [
    "### Рассчитаем эффективность обогащения"
   ]
  },
  {
   "cell_type": "code",
   "execution_count": 6,
   "metadata": {},
   "outputs": [
    {
     "data": {
      "text/plain": [
       "0        87.107763\n",
       "1        86.843261\n",
       "2        86.842308\n",
       "3        87.226430\n",
       "4        86.688794\n",
       "           ...    \n",
       "14144    89.574376\n",
       "14145    87.724007\n",
       "14146    88.890579\n",
       "14147    89.858126\n",
       "14148    89.514960\n",
       "Length: 14149, dtype: float64"
      ]
     },
     "execution_count": 6,
     "metadata": {},
     "output_type": "execute_result"
    }
   ],
   "source": [
    "#рассчитаем эффективность обогащения\n",
    "concentrate_au = data_train['rougher.output.concentrate_au']\n",
    "feed_au = data_train['rougher.input.feed_au']\n",
    "tail_au = data_train['rougher.output.tail_au']\n",
    "recovery_reckoning = (concentrate_au * (feed_au - tail_au) / (feed_au * (concentrate_au - tail_au))) * 100\n",
    "recovery_reckoning"
   ]
  },
  {
   "cell_type": "markdown",
   "metadata": {},
   "source": [
    "Найдем MAE:"
   ]
  },
  {
   "cell_type": "code",
   "execution_count": 7,
   "metadata": {},
   "outputs": [
    {
     "name": "stdout",
     "output_type": "stream",
     "text": [
      "Абсолютная средняя ошибка = 0.000000000000010\n"
     ]
    }
   ],
   "source": [
    "recovery_data = data_train['rougher.output.recovery']\n",
    "print('Абсолютная средняя ошибка = {:.15f}'. format(mean_absolute_error(recovery_data, recovery_reckoning)))"
   ]
  },
  {
   "cell_type": "markdown",
   "metadata": {},
   "source": [
    "Отклонение очень маленькое. Значит, посчитанные данные совпадают с rougher.output.recovery."
   ]
  },
  {
   "cell_type": "markdown",
   "metadata": {},
   "source": [
    "### Проанализируем признаки, недоступные в тестовой выборке"
   ]
  },
  {
   "cell_type": "markdown",
   "metadata": {},
   "source": [
    "Если посмотреть на таблицы data_train и data_test, то их количество столбцов расходится: data_train (87 столбцов),  data_test (53 столбца). "
   ]
  },
  {
   "cell_type": "code",
   "execution_count": 8,
   "metadata": {},
   "outputs": [
    {
     "data": {
      "text/plain": [
       "(14149, 87)"
      ]
     },
     "execution_count": 8,
     "metadata": {},
     "output_type": "execute_result"
    }
   ],
   "source": [
    "data_train.shape"
   ]
  },
  {
   "cell_type": "code",
   "execution_count": 9,
   "metadata": {},
   "outputs": [
    {
     "data": {
      "text/plain": [
       "(5290, 53)"
      ]
     },
     "execution_count": 9,
     "metadata": {},
     "output_type": "execute_result"
    }
   ],
   "source": [
    "data_test.shape"
   ]
  },
  {
   "cell_type": "code",
   "execution_count": 10,
   "metadata": {},
   "outputs": [
    {
     "name": "stdout",
     "output_type": "stream",
     "text": [
      "Количество параметров, отсутствующих в тестовой выборке: 34\n"
     ]
    },
    {
     "data": {
      "text/plain": [
       "{'final.output.concentrate_ag',\n",
       " 'final.output.concentrate_au',\n",
       " 'final.output.concentrate_pb',\n",
       " 'final.output.concentrate_sol',\n",
       " 'final.output.recovery',\n",
       " 'final.output.tail_ag',\n",
       " 'final.output.tail_au',\n",
       " 'final.output.tail_pb',\n",
       " 'final.output.tail_sol',\n",
       " 'primary_cleaner.output.concentrate_ag',\n",
       " 'primary_cleaner.output.concentrate_au',\n",
       " 'primary_cleaner.output.concentrate_pb',\n",
       " 'primary_cleaner.output.concentrate_sol',\n",
       " 'primary_cleaner.output.tail_ag',\n",
       " 'primary_cleaner.output.tail_au',\n",
       " 'primary_cleaner.output.tail_pb',\n",
       " 'primary_cleaner.output.tail_sol',\n",
       " 'rougher.calculation.au_pb_ratio',\n",
       " 'rougher.calculation.floatbank10_sulfate_to_au_feed',\n",
       " 'rougher.calculation.floatbank11_sulfate_to_au_feed',\n",
       " 'rougher.calculation.sulfate_to_au_concentrate',\n",
       " 'rougher.output.concentrate_ag',\n",
       " 'rougher.output.concentrate_au',\n",
       " 'rougher.output.concentrate_pb',\n",
       " 'rougher.output.concentrate_sol',\n",
       " 'rougher.output.recovery',\n",
       " 'rougher.output.tail_ag',\n",
       " 'rougher.output.tail_au',\n",
       " 'rougher.output.tail_pb',\n",
       " 'rougher.output.tail_sol',\n",
       " 'secondary_cleaner.output.tail_ag',\n",
       " 'secondary_cleaner.output.tail_au',\n",
       " 'secondary_cleaner.output.tail_pb',\n",
       " 'secondary_cleaner.output.tail_sol'}"
      ]
     },
     "execution_count": 10,
     "metadata": {},
     "output_type": "execute_result"
    }
   ],
   "source": [
    "print('Количество параметров, отсутствующих в тестовой выборке:' , len(set(data_train) - set(data_test)))\n",
    "set(data_train.columns) - set(data_test.columns)"
   ]
  },
  {
   "cell_type": "markdown",
   "metadata": {},
   "source": [
    "Возможно некоторые данные недоступны в связи с тем, что данные измеряются или рассчитываются значительно позже, поэтому 34 параметра отсутствуют в тестовой выборке."
   ]
  },
  {
   "cell_type": "markdown",
   "metadata": {},
   "source": [
    "### Проведем предобработку данных."
   ]
  },
  {
   "cell_type": "code",
   "execution_count": 11,
   "metadata": {},
   "outputs": [
    {
     "data": {
      "text/plain": [
       "date                                            0\n",
       "final.output.concentrate_ag                     1\n",
       "final.output.concentrate_pb                     1\n",
       "final.output.concentrate_sol                  211\n",
       "final.output.concentrate_au                     0\n",
       "                                             ... \n",
       "secondary_cleaner.state.floatbank5_a_level      1\n",
       "secondary_cleaner.state.floatbank5_b_air        1\n",
       "secondary_cleaner.state.floatbank5_b_level      1\n",
       "secondary_cleaner.state.floatbank6_a_air        2\n",
       "secondary_cleaner.state.floatbank6_a_level      1\n",
       "Length: 87, dtype: int64"
      ]
     },
     "execution_count": 11,
     "metadata": {},
     "output_type": "execute_result"
    }
   ],
   "source": [
    "#посмотрим пропуски\n",
    "data_train.isnull().sum()"
   ]
  },
  {
   "cell_type": "code",
   "execution_count": 12,
   "metadata": {},
   "outputs": [],
   "source": [
    "#удалим пропуски\n",
    "data_train = data_train.dropna()"
   ]
  },
  {
   "cell_type": "code",
   "execution_count": 13,
   "metadata": {},
   "outputs": [
    {
     "data": {
      "text/plain": [
       "0"
      ]
     },
     "execution_count": 13,
     "metadata": {},
     "output_type": "execute_result"
    }
   ],
   "source": [
    "#дубликатов нет\n",
    "data_train.duplicated().sum()"
   ]
  },
  {
   "cell_type": "code",
   "execution_count": 14,
   "metadata": {},
   "outputs": [
    {
     "data": {
      "text/plain": [
       "date                                           0\n",
       "primary_cleaner.input.sulfate                  4\n",
       "primary_cleaner.input.depressant               5\n",
       "primary_cleaner.input.feed_size                0\n",
       "primary_cleaner.input.xanthate                 4\n",
       "primary_cleaner.state.floatbank8_a_air         0\n",
       "primary_cleaner.state.floatbank8_a_level       0\n",
       "primary_cleaner.state.floatbank8_b_air         0\n",
       "primary_cleaner.state.floatbank8_b_level       0\n",
       "primary_cleaner.state.floatbank8_c_air         0\n",
       "primary_cleaner.state.floatbank8_c_level       0\n",
       "primary_cleaner.state.floatbank8_d_air         0\n",
       "primary_cleaner.state.floatbank8_d_level       0\n",
       "rougher.input.feed_ag                          0\n",
       "rougher.input.feed_pb                          0\n",
       "rougher.input.feed_rate                        3\n",
       "rougher.input.feed_size                        1\n",
       "rougher.input.feed_sol                        21\n",
       "rougher.input.feed_au                          0\n",
       "rougher.input.floatbank10_sulfate              5\n",
       "rougher.input.floatbank10_xanthate             0\n",
       "rougher.input.floatbank11_sulfate              8\n",
       "rougher.input.floatbank11_xanthate            25\n",
       "rougher.state.floatbank10_a_air                0\n",
       "rougher.state.floatbank10_a_level              0\n",
       "rougher.state.floatbank10_b_air                0\n",
       "rougher.state.floatbank10_b_level              0\n",
       "rougher.state.floatbank10_c_air                0\n",
       "rougher.state.floatbank10_c_level              0\n",
       "rougher.state.floatbank10_d_air                0\n",
       "rougher.state.floatbank10_d_level              0\n",
       "rougher.state.floatbank10_e_air                0\n",
       "rougher.state.floatbank10_e_level              0\n",
       "rougher.state.floatbank10_f_air                0\n",
       "rougher.state.floatbank10_f_level              0\n",
       "secondary_cleaner.state.floatbank2_a_air       3\n",
       "secondary_cleaner.state.floatbank2_a_level     0\n",
       "secondary_cleaner.state.floatbank2_b_air       2\n",
       "secondary_cleaner.state.floatbank2_b_level     0\n",
       "secondary_cleaner.state.floatbank3_a_air       9\n",
       "secondary_cleaner.state.floatbank3_a_level     0\n",
       "secondary_cleaner.state.floatbank3_b_air       0\n",
       "secondary_cleaner.state.floatbank3_b_level     0\n",
       "secondary_cleaner.state.floatbank4_a_air       0\n",
       "secondary_cleaner.state.floatbank4_a_level     0\n",
       "secondary_cleaner.state.floatbank4_b_air       0\n",
       "secondary_cleaner.state.floatbank4_b_level     0\n",
       "secondary_cleaner.state.floatbank5_a_air       0\n",
       "secondary_cleaner.state.floatbank5_a_level     0\n",
       "secondary_cleaner.state.floatbank5_b_air       0\n",
       "secondary_cleaner.state.floatbank5_b_level     0\n",
       "secondary_cleaner.state.floatbank6_a_air       0\n",
       "secondary_cleaner.state.floatbank6_a_level     0\n",
       "dtype: int64"
      ]
     },
     "execution_count": 14,
     "metadata": {},
     "output_type": "execute_result"
    }
   ],
   "source": [
    "#посмотрим пропуски\n",
    "data_test.isnull().sum()"
   ]
  },
  {
   "cell_type": "code",
   "execution_count": 15,
   "metadata": {},
   "outputs": [],
   "source": [
    "#удалим пропуски\n",
    "data_test = data_test.dropna()"
   ]
  },
  {
   "cell_type": "code",
   "execution_count": 16,
   "metadata": {},
   "outputs": [
    {
     "data": {
      "text/plain": [
       "0"
      ]
     },
     "execution_count": 16,
     "metadata": {},
     "output_type": "execute_result"
    }
   ],
   "source": [
    "#дубликатов нет\n",
    "data_test.duplicated().sum()"
   ]
  },
  {
   "cell_type": "code",
   "execution_count": 17,
   "metadata": {},
   "outputs": [
    {
     "data": {
      "text/plain": [
       "date                                            0\n",
       "final.output.concentrate_ag                     1\n",
       "final.output.concentrate_pb                     1\n",
       "final.output.concentrate_sol                  211\n",
       "final.output.concentrate_au                     0\n",
       "                                             ... \n",
       "secondary_cleaner.state.floatbank5_a_level      1\n",
       "secondary_cleaner.state.floatbank5_b_air        1\n",
       "secondary_cleaner.state.floatbank5_b_level      1\n",
       "secondary_cleaner.state.floatbank6_a_air        2\n",
       "secondary_cleaner.state.floatbank6_a_level      1\n",
       "Length: 87, dtype: int64"
      ]
     },
     "execution_count": 17,
     "metadata": {},
     "output_type": "execute_result"
    }
   ],
   "source": [
    "#посмотрим пропуски\n",
    "data_full.isnull().sum()"
   ]
  },
  {
   "cell_type": "code",
   "execution_count": 18,
   "metadata": {},
   "outputs": [],
   "source": [
    "#удалим пропуски\n",
    "data_full = data_full.dropna()"
   ]
  },
  {
   "cell_type": "code",
   "execution_count": 19,
   "metadata": {},
   "outputs": [
    {
     "data": {
      "text/plain": [
       "0"
      ]
     },
     "execution_count": 19,
     "metadata": {},
     "output_type": "execute_result"
    }
   ],
   "source": [
    "#дубликатов нет\n",
    "data_full.duplicated().sum()"
   ]
  },
  {
   "cell_type": "markdown",
   "metadata": {},
   "source": [
    "Вывод:\n",
    "\n",
    "- вручную посчитали эффективность обогащения, сравнили с rougher.output.recovery, отклонение очень маленькое (MAE=0.000000000000009)\n",
    "- количество параметров, отсутствующих в тестовой выборке: 34. Возможно эти данные недоступны в связи с тем, что измеряются или рассчитываются значительно позже.\n",
    "- удалили пропуски, дубликатов нет"
   ]
  },
  {
   "cell_type": "markdown",
   "metadata": {},
   "source": [
    "## Анализ данных"
   ]
  },
  {
   "cell_type": "markdown",
   "metadata": {},
   "source": [
    "### Посмотрим, как меняется концентрация металлов (Au, Ag, Pb)"
   ]
  },
  {
   "cell_type": "markdown",
   "metadata": {},
   "source": [
    "#### Изменение концентрации золота"
   ]
  },
  {
   "cell_type": "code",
   "execution_count": 20,
   "metadata": {},
   "outputs": [
    {
     "data": {
      "image/png": "[encoded data removed]",
      "text/plain": [
       "<Figure size 936x504 with 1 Axes>"
      ]
     },
     "metadata": {
      "needs_background": "light"
     },
     "output_type": "display_data"
    }
   ],
   "source": [
    "plt.figure(figsize=[13,7])\n",
    "\n",
    "sns.set(style=\"darkgrid\")\n",
    "plt.hist(data_train['rougher.output.concentrate_au'], bins=100, label='rougher.output.', alpha=0.5)\n",
    "plt.hist(data_train['primary_cleaner.output.concentrate_au'], bins=100, label='primary_cleaner.output.', alpha=0.5)\n",
    "plt.hist(data_train['final.output.concentrate_au'], bins=100, label='final.output.', alpha=0.5)\n",
    "\n",
    "\n",
    "plt.xlabel('Концентрация золота по этапам')\n",
    "plt.ylabel('Количество результатов')\n",
    "\n",
    "plt.legend(loc='upper left', fontsize='medium')\n",
    "\n",
    "plt.title('Гистограмма распределения концентрации золота')\n",
    "plt.show()"
   ]
  },
  {
   "cell_type": "markdown",
   "metadata": {},
   "source": [
    "На графике видно, что концентрация золота с каждым этапом увеличивается, что и требовалось после флотации и очистки. Есть аномальные значения в 0 и выбросы в rougher от 0 до 15, в cleaner от 0 до 25 и в final от 0 до 35. Избавимся от них, так как аномальные значения находятся далеко от нашего распределения и выбросы, чтобы распределение было более точным."
   ]
  },
  {
   "cell_type": "code",
   "execution_count": 21,
   "metadata": {},
   "outputs": [],
   "source": [
    "#удалили аномальные значения и избавимся от выбросов\n",
    "data_train = data_train.drop(data_train[data_train['rougher.output.concentrate_au'] < 15].index)\n",
    "data_train = data_train.drop(data_train[data_train['primary_cleaner.output.concentrate_au'] < 25].index)\n",
    "data_train = data_train.drop(data_train[data_train['final.output.concentrate_au'] < 35].index)"
   ]
  },
  {
   "cell_type": "markdown",
   "metadata": {},
   "source": [
    "#### Изменение концентрации серебра"
   ]
  },
  {
   "cell_type": "code",
   "execution_count": 22,
   "metadata": {},
   "outputs": [
    {
     "data": {
      "image/png": "[encoded data removed]",
      "text/plain": [
       "<Figure size 936x504 with 1 Axes>"
      ]
     },
     "metadata": {},
     "output_type": "display_data"
    }
   ],
   "source": [
    "plt.figure(figsize=[13,7])\n",
    "\n",
    "plt.hist(data_train['rougher.output.concentrate_ag'], bins=100, label='rougher.output.', alpha=0.5)\n",
    "plt.hist(data_train['primary_cleaner.output.concentrate_ag'], bins=100, label='primary_cleaner.output.', alpha=0.5)\n",
    "plt.hist(data_train['final.output.concentrate_ag'], bins=100, label='final.output.', alpha=0.5)\n",
    "\n",
    "\n",
    "plt.xlabel('Концентрация серебра по этапам')\n",
    "plt.ylabel('Количество результатов')\n",
    "\n",
    "plt.legend(loc='upper right', fontsize='medium')\n",
    "\n",
    "plt.title('Распределения концентрации серебра')\n",
    "plt.show()"
   ]
  },
  {
   "cell_type": "markdown",
   "metadata": {},
   "source": [
    "Концентрация серебра уменьшается с каждым шагом очистки, так как основным металлом является золото."
   ]
  },
  {
   "cell_type": "markdown",
   "metadata": {},
   "source": [
    "#### Изменение концентрации свинца."
   ]
  },
  {
   "cell_type": "code",
   "execution_count": 23,
   "metadata": {},
   "outputs": [
    {
     "data": {
      "image/png": "[encoded data removed]",
      "text/plain": [
       "<Figure size 936x504 with 1 Axes>"
      ]
     },
     "metadata": {},
     "output_type": "display_data"
    }
   ],
   "source": [
    "plt.figure(figsize=[13,7])\n",
    "\n",
    "sns.set(style=\"darkgrid\")\n",
    "plt.hist(data_train['rougher.output.concentrate_pb'], bins=100, label='rougher.output.', alpha=0.5)\n",
    "plt.hist(data_train['primary_cleaner.output.concentrate_pb'], bins=100, label='primary_cleaner.output.', alpha=0.5)\n",
    "plt.hist(data_train['final.output.concentrate_pb'], bins=100, label='final.output.', alpha=0.5)\n",
    "\n",
    "\n",
    "plt.xlabel('Концентрация свинца по этапам')\n",
    "plt.ylabel('Количество результатов')\n",
    "\n",
    "plt.legend(loc='upper right', fontsize='medium')\n",
    "\n",
    "plt.title('Распределения концентрации свинца')\n",
    "plt.show()"
   ]
  },
  {
   "cell_type": "markdown",
   "metadata": {},
   "source": [
    "Концентрация свинца увеличивается с флотации до очистки и пытается сравняться с финальными характеристиками. Это связано с химическими процессами очищения золота."
   ]
  },
  {
   "cell_type": "markdown",
   "metadata": {},
   "source": [
    "### Сравним распределения размеров гранул сырья на обучающей и тестовой выборках."
   ]
  },
  {
   "cell_type": "code",
   "execution_count": 24,
   "metadata": {},
   "outputs": [
    {
     "data": {
      "image/png": "[encoded data removed]",
      "text/plain": [
       "<Figure size 936x504 with 1 Axes>"
      ]
     },
     "metadata": {},
     "output_type": "display_data"
    }
   ],
   "source": [
    "plt.figure(figsize=[13,7])\n",
    "\n",
    "plt.hist(data_train['rougher.input.feed_size'], bins=150, label='train rougher.output.feed_size', alpha=0.5)\n",
    "plt.hist(data_test['rougher.input.feed_size'], bins=150, label='test rougher.input.feed_size', alpha=0.5)\n",
    "\n",
    "\n",
    "plt.xlabel('Размер гранул')\n",
    "plt.ylabel('Количество результатов')\n",
    "\n",
    "plt.legend(loc='upper right', fontsize='medium')\n",
    "\n",
    "plt.title('Распределения гранул сырья до флотации')\n",
    "plt.show()"
   ]
  },
  {
   "cell_type": "markdown",
   "metadata": {},
   "source": [
    "Распределения гранул сырья между обучающей и тестовой выборках похожее, оба смещаются влево."
   ]
  },
  {
   "cell_type": "code",
   "execution_count": 25,
   "metadata": {},
   "outputs": [
    {
     "data": {
      "image/png": "[encoded data removed]",
      "text/plain": [
       "<Figure size 936x504 with 1 Axes>"
      ]
     },
     "metadata": {},
     "output_type": "display_data"
    }
   ],
   "source": [
    "plt.figure(figsize=[13,7])\n",
    "\n",
    "plt.hist(data_train['primary_cleaner.input.feed_size'], bins=100, label='train primary_cleaner.input.feed_size', \n",
    "         alpha=0.5)\n",
    "plt.hist(data_test['primary_cleaner.input.feed_size'], bins=100, label='test primary_cleaner.input.feed_size', \n",
    "         alpha=0.5)\n",
    "\n",
    "\n",
    "plt.xlabel('Размер гранул')\n",
    "plt.ylabel('Количество результатов')\n",
    "\n",
    "plt.legend(loc='upper right', fontsize='medium')\n",
    "\n",
    "plt.title('Распределения гранул сырья перед первичной очисткой')\n",
    "plt.show()"
   ]
  },
  {
   "cell_type": "markdown",
   "metadata": {},
   "source": [
    "Распределение гранул сырья одинаковое (Нормальное распределение)."
   ]
  },
  {
   "cell_type": "markdown",
   "metadata": {},
   "source": [
    "### Исследуем суммарную концентрацию всех веществ на разных стадиях."
   ]
  },
  {
   "cell_type": "markdown",
   "metadata": {},
   "source": [
    "Суммируем концентрацию всех веществ:"
   ]
  },
  {
   "cell_type": "code",
   "execution_count": 26,
   "metadata": {},
   "outputs": [],
   "source": [
    "sum_rougher_output_concentrate_train = (data_train['rougher.output.concentrate_ag'] + \n",
    "                                    data_train['rougher.output.concentrate_pb'] + \n",
    "                                    data_train['rougher.output.concentrate_sol'] + \n",
    "                                    data_train['rougher.output.concentrate_au'])\n",
    "\n",
    "sum_primary_cleaner_output_concentrate_train = (data_train['primary_cleaner.output.concentrate_ag'] + \n",
    "                                            data_train['primary_cleaner.output.concentrate_pb'] + \n",
    "                                            data_train['primary_cleaner.output.concentrate_sol'] + \n",
    "                                            data_train['primary_cleaner.output.concentrate_au'])\n",
    "\n",
    "sum_final_output_concentrate_train = (data_train['final.output.concentrate_ag'] + \n",
    "                                  data_train['final.output.concentrate_pb'] + \n",
    "                                  data_train['final.output.concentrate_sol'] + \n",
    "                                  data_train['final.output.concentrate_au'])"
   ]
  },
  {
   "cell_type": "code",
   "execution_count": 27,
   "metadata": {},
   "outputs": [
    {
     "data": {
      "image/png": "[encoded data removed]",
      "text/plain": [
       "<Figure size 936x504 with 1 Axes>"
      ]
     },
     "metadata": {},
     "output_type": "display_data"
    }
   ],
   "source": [
    "plt.figure(figsize=[13,7])\n",
    "\n",
    "plt.hist(sum_rougher_output_concentrate_train, bins=100, label='rougher_output_concentrate', \n",
    "         alpha=0.5)\n",
    "plt.hist(sum_primary_cleaner_output_concentrate_train, bins=100, label='primary_cleaner_output_concentrate', \n",
    "         alpha=0.5)\n",
    "plt.hist(sum_final_output_concentrate_train, bins=100, label='final_output_concentrate', \n",
    "         alpha=0.5)\n",
    "\n",
    "\n",
    "plt.xlabel('Размер концентрации всех веществ')\n",
    "plt.ylabel('Количество результатов')\n",
    "\n",
    "plt.legend(loc='upper left', fontsize='medium')\n",
    "\n",
    "plt.title('Распределения суммарных концентраций всех веществ')\n",
    "plt.show()"
   ]
  },
  {
   "cell_type": "markdown",
   "metadata": {},
   "source": [
    "Аномальных значений нет, так как мы избавились от них выше."
   ]
  },
  {
   "cell_type": "markdown",
   "metadata": {},
   "source": [
    "Вывод:\n",
    "\n",
    "    - проанализировали, как меняется концентрация металлов (Au, Ag, Pb) на различных этапах очистки;\n",
    "    - нашли аномалии в 0 и выбросы, удалили их;\n",
    "    - сравнили распределения размеров гранул сырья на обучающей и тестовой выборках (распределения похожие);\n",
    "    - исследовали суммарную концентрацию всех веществ (аномалий больше не нашли)."
   ]
  },
  {
   "cell_type": "markdown",
   "metadata": {},
   "source": [
    "## Модель"
   ]
  },
  {
   "cell_type": "code",
   "execution_count": 28,
   "metadata": {},
   "outputs": [],
   "source": [
    "#удалим столбец дата, так как он не содержит важных данных\n",
    "data_test_no = data_test.drop('date',axis = 1)\n",
    "data_train_no = data_train.drop('date',axis = 1)"
   ]
  },
  {
   "cell_type": "code",
   "execution_count": 29,
   "metadata": {},
   "outputs": [],
   "source": [
    "#выберем признаки\n",
    "train_features_data_rougher = data_train_no.loc[:,data_test_no.columns]\n",
    "train_target_data_rougher = data_train_no['rougher.output.recovery']\n",
    "train_features_data_final = train_features_data_rougher \n",
    "train_target_data_final = data_train_no['final.output.recovery']"
   ]
  },
  {
   "cell_type": "markdown",
   "metadata": {},
   "source": [
    "### Функция для вычисления итоговой sMAPE"
   ]
  },
  {
   "cell_type": "markdown",
   "metadata": {},
   "source": [
    "![title](./model.png)"
   ]
  },
  {
   "cell_type": "code",
   "execution_count": 30,
   "metadata": {},
   "outputs": [],
   "source": [
    "def smape(y_true, y_pred):\n",
    "    y_true = np.array(y_true)\n",
    "    y_pred = np.array(y_pred)\n",
    "    total = 0\n",
    "    for i in range(len(y_true)):\n",
    "        total += abs(y_true[i] - y_pred[i]) / ( (abs(y_true[i]) + abs(y_pred[i]) )/2)\n",
    "        smape = abs(total*100 / len(y_true))\n",
    "    return abs(smape)"
   ]
  },
  {
   "cell_type": "code",
   "execution_count": 31,
   "metadata": {},
   "outputs": [],
   "source": [
    "def final_sMAPE(smape_rougher,smape_final):\n",
    "    return (0.25*smape_rougher + 0.75*smape_final)"
   ]
  },
  {
   "cell_type": "code",
   "execution_count": 32,
   "metadata": {},
   "outputs": [],
   "source": [
    "custom_score = make_scorer(smape,greater_is_better=False)"
   ]
  },
  {
   "cell_type": "markdown",
   "metadata": {},
   "source": [
    "### Обучим разные модели и оценим их качество"
   ]
  },
  {
   "cell_type": "markdown",
   "metadata": {},
   "source": [
    "Подготовим pipeline"
   ]
  },
  {
   "cell_type": "code",
   "execution_count": 33,
   "metadata": {},
   "outputs": [],
   "source": [
    "model_1 = make_pipeline(StandardScaler(),RandomForestRegressor())\n",
    "model_2 = make_pipeline(StandardScaler(),DecisionTreeRegressor())"
   ]
  },
  {
   "cell_type": "code",
   "execution_count": 34,
   "metadata": {},
   "outputs": [],
   "source": [
    "#параметров для GridSearchCV\n",
    "params_RF = {\"randomforestregressor__n_estimators\":[5,100],\n",
    "             \"randomforestregressor__max_depth\":[1,10]}\n",
    "params_DT= {\"decisiontreeregressor__max_depth\":[1,10]}"
   ]
  },
  {
   "cell_type": "code",
   "execution_count": 35,
   "metadata": {},
   "outputs": [],
   "source": [
    "grid_rougher = GridSearchCV(model_1,param_grid = params_RF,scoring=custom_score)\n",
    "grid_final = GridSearchCV(model_1,param_grid = params_RF,scoring=custom_score)\n",
    "grid_rougher_DT = GridSearchCV(model_2,param_grid = params_DT,scoring=custom_score)\n",
    "grid_final_DT = GridSearchCV(model_2,param_grid = params_DT,scoring=custom_score)"
   ]
  },
  {
   "cell_type": "markdown",
   "metadata": {},
   "source": [
    "Обучение:"
   ]
  },
  {
   "cell_type": "code",
   "execution_count": 36,
   "metadata": {},
   "outputs": [
    {
     "data": {
      "text/plain": [
       "GridSearchCV(estimator=Pipeline(steps=[('standardscaler', StandardScaler()),\n",
       "                                       ('decisiontreeregressor',\n",
       "                                        DecisionTreeRegressor())]),\n",
       "             param_grid={'decisiontreeregressor__max_depth': [1, 10]},\n",
       "             scoring=make_scorer(smape, greater_is_better=False))"
      ]
     },
     "execution_count": 36,
     "metadata": {},
     "output_type": "execute_result"
    }
   ],
   "source": [
    "grid_rougher.fit(train_features_data_rougher, train_target_data_rougher)\n",
    "grid_final.fit(train_features_data_final, train_target_data_final)\n",
    "grid_rougher_DT.fit(train_features_data_rougher, train_target_data_rougher)\n",
    "grid_final_DT.fit(train_features_data_final, train_target_data_final)"
   ]
  },
  {
   "cell_type": "code",
   "execution_count": 37,
   "metadata": {},
   "outputs": [
    {
     "name": "stdout",
     "output_type": "stream",
     "text": [
      "Лучшие модели\n",
      "Pipeline(steps=[('standardscaler', StandardScaler()),\n",
      "                ('randomforestregressor',\n",
      "                 RandomForestRegressor(max_depth=10, n_estimators=5))])\n",
      "Pipeline(steps=[('standardscaler', StandardScaler()),\n",
      "                ('randomforestregressor', RandomForestRegressor(max_depth=1))])\n",
      "Pipeline(steps=[('standardscaler', StandardScaler()),\n",
      "                ('decisiontreeregressor', DecisionTreeRegressor(max_depth=1))])\n",
      "Pipeline(steps=[('standardscaler', StandardScaler()),\n",
      "                ('decisiontreeregressor', DecisionTreeRegressor(max_depth=1))])\n"
     ]
    }
   ],
   "source": [
    "print(\"Лучшие модели\")\n",
    "print(grid_rougher.best_estimator_)\n",
    "print(grid_final.best_estimator_)\n",
    "print(grid_rougher_DT.best_estimator_)\n",
    "print(grid_final_DT.best_estimator_)"
   ]
  },
  {
   "cell_type": "code",
   "execution_count": 38,
   "metadata": {},
   "outputs": [],
   "source": [
    "best_score_rougher = grid_rougher.best_score_\n",
    "best_score_final = grid_final.best_score_\n",
    "best_score_rougher_DT = grid_rougher_DT.best_score_\n",
    "best_score_final_DT = grid_final_DT.best_score_"
   ]
  },
  {
   "cell_type": "markdown",
   "metadata": {},
   "source": [
    "Определим лучшую модель для каждого целевого признака"
   ]
  },
  {
   "cell_type": "code",
   "execution_count": 39,
   "metadata": {},
   "outputs": [
    {
     "name": "stdout",
     "output_type": "stream",
     "text": [
      "rougher\n",
      "RandomForest -6.140302670639414 DecisionTree -6.939490944679487\n",
      "final\n",
      "RandomForest -7.903555045124328 DecisionTree -7.952142401430857\n"
     ]
    }
   ],
   "source": [
    "print(\"rougher\")\n",
    "print(\"RandomForest\",best_score_rougher,\"DecisionTree\",best_score_rougher_DT)\n",
    "print(\"final\")\n",
    "print(\"RandomForest\",best_score_final,\"DecisionTree\",best_score_final_DT)"
   ]
  },
  {
   "cell_type": "markdown",
   "metadata": {},
   "source": [
    "Видно, что лучше всего подходит модель RandomForest"
   ]
  },
  {
   "cell_type": "markdown",
   "metadata": {},
   "source": [
    "### Лучшие результаты на тренировочной выборке\n"
   ]
  },
  {
   "cell_type": "code",
   "execution_count": 40,
   "metadata": {},
   "outputs": [
    {
     "name": "stdout",
     "output_type": "stream",
     "text": [
      "Финальный sMAPE рандомного леса: -7.46\n",
      "Финальный sMAPE решающего дерева: -7.70\n"
     ]
    }
   ],
   "source": [
    "print('Финальный sMAPE рандомного леса: {:.2f}'. format(final_sMAPE(best_score_rougher,best_score_final)))\n",
    "print('Финальный sMAPE решающего дерева: {:.2f}'. format(final_sMAPE(best_score_rougher_DT,best_score_final_DT)))"
   ]
  },
  {
   "cell_type": "markdown",
   "metadata": {},
   "source": [
    "Наименьшую ошибку мы получили при использовании рандомного леса"
   ]
  },
  {
   "cell_type": "code",
   "execution_count": 41,
   "metadata": {},
   "outputs": [],
   "source": [
    "#предсказания на тестовой выборке\n",
    "rogher_test = grid_rougher.predict(data_test_no)\n",
    "final_test = grid_final.predict(data_test_no)"
   ]
  },
  {
   "cell_type": "code",
   "execution_count": 42,
   "metadata": {},
   "outputs": [],
   "source": [
    "test_frame_for_target = data_test.merge(data_full.loc[:,['date',\"rougher.output.recovery\",\"final.output.recovery\"]],\n",
    "                                        on = 'date')\n",
    "target_test_rougher = test_frame_for_target[\"rougher.output.recovery\"]\n",
    "target_test_final = test_frame_for_target[\"final.output.recovery\"]"
   ]
  },
  {
   "cell_type": "code",
   "execution_count": 43,
   "metadata": {},
   "outputs": [
    {
     "name": "stdout",
     "output_type": "stream",
     "text": [
      "Финальная ошибка на тестовой выборке: 8.75\n"
     ]
    }
   ],
   "source": [
    "print('Финальная ошибка на тестовой выборке: {:.2f}'. format(final_sMAPE(smape(target_test_rougher,rogher_test),\n",
    "                                                          smape(target_test_final,final_test))))"
   ]
  },
  {
   "cell_type": "markdown",
   "metadata": {},
   "source": [
    "### Подготовим и обучим константную модель"
   ]
  },
  {
   "cell_type": "code",
   "execution_count": 44,
   "metadata": {},
   "outputs": [],
   "source": [
    "base = DummyRegressor(strategy=\"median\")\n",
    "base_final = DummyRegressor(strategy=\"median\")"
   ]
  },
  {
   "cell_type": "code",
   "execution_count": 45,
   "metadata": {},
   "outputs": [
    {
     "data": {
      "text/plain": [
       "DummyRegressor(strategy='median')"
      ]
     },
     "execution_count": 45,
     "metadata": {},
     "output_type": "execute_result"
    }
   ],
   "source": [
    "base.fit(train_features_data_rougher,train_target_data_rougher)\n",
    "base_final.fit(train_features_data_final,train_target_data_final)"
   ]
  },
  {
   "cell_type": "markdown",
   "metadata": {},
   "source": [
    "Предскажем метки"
   ]
  },
  {
   "cell_type": "code",
   "execution_count": 46,
   "metadata": {},
   "outputs": [],
   "source": [
    "base_rougher = base.predict(data_test_no)\n",
    "base_final_pred = base_final.predict(data_test_no)"
   ]
  },
  {
   "cell_type": "code",
   "execution_count": 47,
   "metadata": {},
   "outputs": [
    {
     "data": {
      "text/plain": [
       "8.55653196849559"
      ]
     },
     "execution_count": 47,
     "metadata": {},
     "output_type": "execute_result"
    }
   ],
   "source": [
    "final_sMAPE(smape(target_test_rougher,base_rougher),smape(target_test_final,base_final_pred))"
   ]
  },
  {
   "cell_type": "markdown",
   "metadata": {},
   "source": [
    "Вывод:\n",
    "\n",
    "    Была написана функция для вычисления sMAPE. \n",
    "    Самая лучшая модель - RandomForest. Ее значение sMAPE самое низкое."
   ]
  },
  {
   "cell_type": "markdown",
   "metadata": {},
   "source": [
    "## Вывод:\n",
    "\n",
    "В ходе работы было выполнено:\n",
    "    \n",
    "* подготовлены данные;\n",
    "* проведен исследовательский анализ данных;\n",
    "* построена и обучена модель.\n",
    "\n",
    "Самая лучшая модель - RandomForest с параметрами max_depth=10, n_estimators=100. Ее значение sMAPE самое низкое 8.85. Если сравнивать с константной моделью, значение проигрывает на 0.3 \n",
    "       "
   ]
  }
 ],
 "metadata": {
  "kernelspec": {
   "display_name": "Python 3",
   "language": "python",
   "name": "python3"
  },
  "language_info": {
   "codemirror_mode": {
    "name": "ipython",
    "version": 3
   },
   "file_extension": ".py",
   "mimetype": "text/x-python",
   "name": "python",
   "nbconvert_exporter": "python",
   "pygments_lexer": "ipython3",
   "version": "3.8.5"
  },
  "toc": {
   "base_numbering": 1,
   "nav_menu": {},
   "number_sections": true,
   "sideBar": true,
   "skip_h1_title": true,
   "title_cell": "Содержание",
   "title_sidebar": "Contents",
   "toc_cell": true,
   "toc_position": {},
   "toc_section_display": true,
   "toc_window_display": false
  }
 },
 "nbformat": 4,
 "nbformat_minor": 2
}
