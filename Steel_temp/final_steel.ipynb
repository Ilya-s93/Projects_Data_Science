{
 "cells": [
  {
   "cell_type": "markdown",
   "metadata": {},
   "source": [
    "# Предсказание температуры стали\n",
    "\n",
    "Чтобы оптимизировать производственные расходы, металлургический комбинат ООО «Так закаляем сталь» решил уменьшить потребление электроэнергии на этапе обработки стали. Вам предстоит построить модель, которая предскажет температуру стали."
   ]
  },
  {
   "cell_type": "markdown",
   "metadata": {},
   "source": [
    "# Описание этапа обработки\n",
    "\n",
    "1. Сталь обрабатывают в металлическом ковше вместимостью около 100 тонн. Ковш облицовывают огнеупорным кирпичом, чтобы он выдержал высокие температуры;\n",
    "2. Расплавленную сталь заливают в ковш и подогревают до нужной температуры графитовыми электродами. Они установлены в крышке ковша;\n",
    "3. Из сплава выводится сера (десульфурация), добавлением примесей корректируется химический состав и отбираются пробы.\n",
    "4. Сталь легируют - изменяют состав - подавая куски сплава из бункера для сыпучих материалов или проволоку через специальный трайб-аппарат(traib-масса);\n",
    "\n",
    "Основа:\n",
    "\n",
    "5. Перед тем как первый раз ввести легирующие добавки, измеряют температуру стали и производят её химический анализ;\n",
    "6. Потом температуру на несколько минут повышают, добавляют легирующие материалы и продувают сплав инертным газом. Затем его перемешивают и снова проводят измерения;\n",
    "7. Такой цикл повторяется до достижения целевого химического состава и оптимальной температуры плавки;\n",
    "8. Тогда расплавленная сталь отправляется на доводку металла или поступает в машину непрерывной разливки;\n",
    "9. Оттуда готовый продукт выходит в виде заготовок-слябов (англ. slab, «плита»)."
   ]
  },
  {
   "cell_type": "markdown",
   "metadata": {},
   "source": [
    "# Описание данных\n",
    "\n",
    "Данные состоят из файлов, полученных из разных источников:\n",
    "\n",
    "- `data_arc.csv` — данные об электродах;\n",
    "- `data_bulk.csv` — данные о подаче сыпучих материалов (объём);\n",
    "- `data_bulk_time.csv` *—* данные о подаче сыпучих материалов (время);\n",
    "- `data_gas.csv` — данные о продувке сплава газом;\n",
    "- `data_temp.csv` — результаты измерения температуры;\n",
    "- `data_wire.csv` — данные о проволочных материалах (объём);\n",
    "- `data_wire_time.csv` — данные о проволочных материалах (время).\n",
    "\n",
    "Во всех файлах столбец `key` содержит номер партии. В файлах может быть несколько строк с одинаковым значением `key`: они соответствуют разным итерациям обработки."
   ]
  },
  {
   "cell_type": "markdown",
   "metadata": {},
   "source": [
    "# План работы\n",
    "\n",
    "1. Загрузим и подготовим данные: изменим тип данных, везде разное количество партий, решим какие партии использовать.\n",
    "2. Соединим все таблицы в одну и выделим target и features.\n",
    "3. Задача регрессии, поэтому выберем определенные модели LinearRegression, RandomForestRegressor, CatBoostRegressor и другие.\n",
    "4. Обучим каждую модель и протестируем;\n",
    "5. Выберем лучший показатель с наименьшей средней ошибкой."
   ]
  },
  {
   "cell_type": "markdown",
   "metadata": {},
   "source": [
    "## Загрузка данных"
   ]
  },
  {
   "cell_type": "code",
   "execution_count": 1,
   "metadata": {},
   "outputs": [],
   "source": [
    "import pandas as pd\n",
    "import numpy as np\n",
    "import seaborn as sns\n",
    "import matplotlib.pyplot as plt\n",
    "\n",
    "\n",
    "from pyod.models.knn import KNN\n",
    "from scipy import stats as st\n",
    "from sklearn.model_selection import train_test_split\n",
    "from sklearn.metrics import mean_absolute_error\n",
    "from sklearn.model_selection import cross_val_score\n",
    "from sklearn.model_selection import GridSearchCV\n",
    "from sklearn.linear_model import LinearRegression\n",
    "from sklearn.ensemble import RandomForestRegressor\n",
    "from catboost import CatBoostRegressor\n",
    "from lightgbm import LGBMRegressor\n",
    "from xgboost import XGBRegressor\n",
    "\n",
    "import warnings\n",
    "warnings.filterwarnings('ignore')"
   ]
  },
  {
   "cell_type": "markdown",
   "metadata": {},
   "source": [
    "### Данные об электродах"
   ]
  },
  {
   "cell_type": "code",
   "execution_count": 2,
   "metadata": {},
   "outputs": [
    {
     "name": "stdout",
     "output_type": "stream",
     "text": [
      "<class 'pandas.core.frame.DataFrame'>\n",
      "RangeIndex: 14876 entries, 0 to 14875\n",
      "Data columns (total 5 columns):\n",
      " #   Column                Non-Null Count  Dtype  \n",
      "---  ------                --------------  -----  \n",
      " 0   key                   14876 non-null  int64  \n",
      " 1   Начало нагрева дугой  14876 non-null  object \n",
      " 2   Конец нагрева дугой   14876 non-null  object \n",
      " 3   Активная мощность     14876 non-null  float64\n",
      " 4   Реактивная мощность   14876 non-null  float64\n",
      "dtypes: float64(2), int64(1), object(2)\n",
      "memory usage: 581.2+ KB\n"
     ]
    }
   ],
   "source": [
    "data_arc = pd.read_csv('../final_steel/data_arc.csv')\n",
    "data_arc.info()"
   ]
  },
  {
   "cell_type": "markdown",
   "metadata": {},
   "source": [
    "Напишем функцию для просмотра значений каждого столбца."
   ]
  },
  {
   "cell_type": "code",
   "execution_count": 3,
   "metadata": {},
   "outputs": [],
   "source": [
    "def info(data):\n",
    "    for column in data.columns:\n",
    "        print('Уникальные значения столбца', column)\n",
    "        print(data[column].sort_values().unique())"
   ]
  },
  {
   "cell_type": "code",
   "execution_count": 4,
   "metadata": {},
   "outputs": [
    {
     "name": "stdout",
     "output_type": "stream",
     "text": [
      "Уникальные значения столбца key\n",
      "[   1    2    3 ... 3239 3240 3241]\n",
      "Уникальные значения столбца Начало нагрева дугой\n",
      "['2019-05-03 11:02:14' '2019-05-03 11:07:28' '2019-05-03 11:11:44' ...\n",
      " '2019-09-01 04:16:41' '2019-09-01 04:31:51' '2019-09-01 04:34:47']\n",
      "Уникальные значения столбца Конец нагрева дугой\n",
      "['2019-05-03 11:06:02' '2019-05-03 11:10:33' '2019-05-03 11:14:36' ...\n",
      " '2019-09-01 04:19:45' '2019-09-01 04:32:48' '2019-09-01 04:36:08']\n",
      "Уникальные значения столбца Активная мощность\n",
      "[0.03000194 0.03018816 0.0301905  ... 3.15076178 3.15627646 3.73159611]\n",
      "Уникальные значения столбца Реактивная мощность\n",
      "[-7.15504924e+02  2.08063126e-02  2.11541653e-02 ...  2.45995915e+00\n",
      "  2.50420606e+00  2.67638755e+00]\n"
     ]
    }
   ],
   "source": [
    "info(data_arc)"
   ]
  },
  {
   "cell_type": "markdown",
   "metadata": {},
   "source": [
    "В реактивной мощности есть отрицательное значение. Посмотрим график только с положительными."
   ]
  },
  {
   "cell_type": "code",
   "execution_count": 5,
   "metadata": {},
   "outputs": [
    {
     "data": {
      "text/plain": [
       "<AxesSubplot:>"
      ]
     },
     "execution_count": 5,
     "metadata": {},
     "output_type": "execute_result"
    },
    {
     "data": {
      "image/png": "[encoded data removed]",
      "text/plain": [
       "<Figure size 864x504 with 1 Axes>"
      ]
     },
     "metadata": {
      "needs_background": "light"
     },
     "output_type": "display_data"
    }
   ],
   "source": [
    "data_arc[data_arc['Реактивная мощность'] > 0]['Реактивная мощность'].hist(bins=100, figsize=(12,7))"
   ]
  },
  {
   "cell_type": "code",
   "execution_count": 6,
   "metadata": {},
   "outputs": [
    {
     "data": {
      "text/plain": [
       "3214"
      ]
     },
     "execution_count": 6,
     "metadata": {},
     "output_type": "execute_result"
    }
   ],
   "source": [
    "#уникальные значения партий\n",
    "len(data_arc['key'].unique())"
   ]
  },
  {
   "cell_type": "markdown",
   "metadata": {},
   "source": [
    "### Данные о подаче сыпучих материалов (объём)"
   ]
  },
  {
   "cell_type": "code",
   "execution_count": 7,
   "metadata": {},
   "outputs": [
    {
     "name": "stdout",
     "output_type": "stream",
     "text": [
      "<class 'pandas.core.frame.DataFrame'>\n",
      "RangeIndex: 3129 entries, 0 to 3128\n",
      "Data columns (total 16 columns):\n",
      " #   Column   Non-Null Count  Dtype  \n",
      "---  ------   --------------  -----  \n",
      " 0   key      3129 non-null   int64  \n",
      " 1   Bulk 1   252 non-null    float64\n",
      " 2   Bulk 2   22 non-null     float64\n",
      " 3   Bulk 3   1298 non-null   float64\n",
      " 4   Bulk 4   1014 non-null   float64\n",
      " 5   Bulk 5   77 non-null     float64\n",
      " 6   Bulk 6   576 non-null    float64\n",
      " 7   Bulk 7   25 non-null     float64\n",
      " 8   Bulk 8   1 non-null      float64\n",
      " 9   Bulk 9   19 non-null     float64\n",
      " 10  Bulk 10  176 non-null    float64\n",
      " 11  Bulk 11  177 non-null    float64\n",
      " 12  Bulk 12  2450 non-null   float64\n",
      " 13  Bulk 13  18 non-null     float64\n",
      " 14  Bulk 14  2806 non-null   float64\n",
      " 15  Bulk 15  2248 non-null   float64\n",
      "dtypes: float64(15), int64(1)\n",
      "memory usage: 391.2 KB\n"
     ]
    }
   ],
   "source": [
    "data_bulk = pd.read_csv('../final_steel/data_bulk.csv')\n",
    "data_bulk.info()"
   ]
  },
  {
   "cell_type": "code",
   "execution_count": 8,
   "metadata": {},
   "outputs": [
    {
     "name": "stdout",
     "output_type": "stream",
     "text": [
      "Уникальные значения столбца key\n",
      "[   1    2    3 ... 3239 3240 3241]\n",
      "Уникальные значения столбца Bulk 1\n",
      "[ 10.  16.  19.  21.  22.  24.  26.  27.  28.  29.  30.  31.  32.  33.\n",
      "  34.  36.  37.  38.  39.  41.  43.  44.  46.  47.  48.  50.  51.  52.\n",
      "  54.  58.  60.  62.  63.  65.  67.  69.  73.  74.  75.  78.  83.  90.\n",
      "  92.  94. 104. 118. 185.  nan]\n",
      "Уникальные значения столбца Bulk 2\n",
      "[228. 232. 233. 236. 242. 246. 247. 248. 249. 254. 257. 258. 270. 282.\n",
      " 325.  nan]\n",
      "Уникальные значения столбца Bulk 3\n",
      "[  6.  17.  18.  19.  20.  21.  22.  23.  24.  25.  26.  27.  28.  29.\n",
      "  30.  31.  32.  34.  36.  37.  38.  39.  40.  41.  42.  43.  44.  45.\n",
      "  46.  47.  48.  49.  50.  51.  52.  53.  54.  55.  56.  57.  58.  59.\n",
      "  60.  61.  62.  63.  64.  65.  66.  67.  68.  69.  70.  71.  72.  73.\n",
      "  74.  75.  76.  77.  78.  79.  80.  81.  82.  83.  84.  85.  86.  87.\n",
      "  88.  89.  90.  91.  92.  93.  94.  95.  96.  97.  98.  99. 100. 101.\n",
      " 102. 103. 104. 105. 106. 107. 108. 109. 110. 111. 112. 113. 114. 115.\n",
      " 116. 117. 118. 119. 120. 121. 122. 123. 124. 125. 126. 127. 128. 129.\n",
      " 130. 131. 132. 133. 134. 135. 136. 137. 138. 139. 140. 141. 142. 143.\n",
      " 144. 145. 146. 147. 148. 149. 150. 151. 152. 153. 154. 155. 156. 157.\n",
      " 158. 159. 162. 163. 164. 165. 166. 167. 168. 169. 170. 171. 172. 173.\n",
      " 174. 175. 176. 177. 178. 180. 181. 182. 183. 184. 185. 186. 187. 188.\n",
      " 189. 190. 191. 193. 194. 196. 197. 198. 199. 200. 201. 202. 203. 204.\n",
      " 206. 207. 208. 209. 210. 211. 212. 213. 214. 215. 220. 221. 222. 224.\n",
      " 225. 226. 227. 230. 231. 232. 234. 235. 236. 237. 239. 240. 242. 243.\n",
      " 244. 245. 246. 248. 249. 250. 251. 252. 255. 256. 258. 259. 260. 261.\n",
      " 262. 263. 264. 265. 266. 267. 268. 269. 270. 272. 278. 280. 282. 284.\n",
      " 285. 286. 289. 290. 291. 292. 294. 295. 297. 298. 300. 301. 302. 303.\n",
      " 304. 305. 308. 310. 315. 316. 323. 324. 334. 335. 341. 342. 343. 349.\n",
      " 352. 353. 354. 356. 358. 372. 379. 395. 405. 421. 445. 454.  nan]\n",
      "Уникальные значения столбца Bulk 4\n",
      "[ 12.  13.  16.  17.  19.  20.  21.  22.  23.  24.  25.  26.  27.  28.\n",
      "  30.  31.  32.  33.  34.  36.  37.  38.  39.  40.  41.  42.  43.  44.\n",
      "  45.  46.  47.  48.  49.  50.  51.  52.  53.  54.  55.  56.  57.  58.\n",
      "  59.  60.  61.  62.  63.  64.  65.  66.  67.  68.  69.  70.  71.  72.\n",
      "  73.  74.  75.  76.  77.  78.  79.  80.  81.  82.  83.  84.  85.  86.\n",
      "  87.  88.  89.  90.  91.  92.  93.  94.  95.  96.  97.  98.  99. 100.\n",
      " 101. 102. 103. 104. 105. 106. 107. 108. 109. 110. 111. 112. 113. 114.\n",
      " 115. 116. 117. 118. 119. 120. 121. 122. 123. 124. 125. 126. 127. 128.\n",
      " 129. 130. 131. 132. 133. 134. 135. 136. 137. 138. 139. 140. 141. 142.\n",
      " 143. 144. 145. 146. 147. 148. 149. 150. 151. 152. 153. 154. 155. 156.\n",
      " 157. 158. 159. 160. 161. 162. 163. 164. 165. 166. 167. 168. 170. 171.\n",
      " 172. 174. 175. 176. 177. 179. 180. 181. 182. 184. 185. 186. 188. 189.\n",
      " 190. 192. 193. 194. 195. 196. 198. 199. 200. 201. 202. 203. 205. 206.\n",
      " 208. 212. 214. 218. 220. 221. 222. 223. 224. 228. 231. 233. 238. 239.\n",
      " 241. 242. 243. 255. 256. 258. 265. 271. 276. 281.  nan]\n",
      "Уникальные значения столбца Bulk 5\n",
      "[ 11.  18.  19.  22.  23.  28.  31.  33.  34.  42.  43.  50.  54.  61.\n",
      "  62.  70.  72.  73.  74.  77.  78.  79.  82.  83.  84.  86.  88.  90.\n",
      "  94. 102. 103. 104. 112. 120. 121. 122. 124. 128. 132. 136. 142. 144.\n",
      " 146. 148. 160. 180. 182. 184. 189. 197. 234. 242. 256. 293. 603.  nan]\n",
      "Уникальные значения столбца Bulk 6\n",
      "[ 17.  23.  24.  25.  26.  27.  28.  30.  32.  34.  36.  37.  38.  40.\n",
      "  42.  43.  44.  45.  46.  47.  48.  49.  50.  51.  53.  54.  55.  56.\n",
      "  57.  58.  59.  60.  61.  62.  63.  64.  65.  66.  67.  68.  69.  70.\n",
      "  71.  72.  73.  74.  75.  76.  77.  78.  79.  80.  81.  82.  83.  84.\n",
      "  85.  86.  87.  88.  89.  90.  91.  92.  93.  94.  95.  96.  97.  98.\n",
      "  99. 100. 101. 102. 103. 104. 105. 106. 107. 108. 109. 110. 111. 112.\n",
      " 114. 115. 116. 117. 118. 120. 121. 123. 124. 125. 126. 127. 128. 130.\n",
      " 131. 132. 134. 135. 136. 137. 138. 139. 140. 141. 142. 143. 144. 145.\n",
      " 146. 149. 150. 151. 152. 153. 155. 156. 157. 158. 159. 160. 162. 163.\n",
      " 164. 165. 166. 167. 168. 170. 172. 173. 174. 175. 176. 177. 178. 179.\n",
      " 180. 181. 182. 184. 185. 186. 187. 189. 190. 193. 194. 195. 196. 198.\n",
      " 202. 203. 204. 206. 208. 211. 212. 215. 218. 219. 220. 224. 226. 230.\n",
      " 231. 232. 234. 236. 240. 247. 250. 252. 254. 255. 261. 262. 264. 265.\n",
      " 266. 271. 272. 278. 280. 283. 284. 285. 288. 294. 295. 297. 321. 325.\n",
      " 326. 330. 350. 357. 359. 407. 414. 498. 503.  nan]\n",
      "Уникальные значения столбца Bulk 7\n",
      "[ 47.  50.  54.  75.  92. 108. 155. 178. 208. 250. 252. 296. 298. 306.\n",
      " 340. 352. 392. 405. 406. 462. 506. 507. 553. 576. 772.  nan]\n",
      "Уникальные значения столбца Bulk 8\n",
      "[49. nan]\n",
      "Уникальные значения столбца Bulk 9\n",
      "[ 63.  65.  66.  68.  70.  71.  74. 108. 111. 147.  nan]\n",
      "Уникальные значения столбца Bulk 10\n",
      "[ 24.  26.  28.  30.  32.  34.  36.  38.  45.  46.  47.  49.  50.  52.\n",
      "  54.  55.  56.  57.  58.  59.  61.  62.  63.  64.  65.  67.  68.  70.\n",
      "  72.  73.  75.  76.  77.  79.  80.  81.  82.  83.  84.  85.  86.  87.\n",
      "  88.  89.  90.  91.  92.  93.  95.  96.  97.  98.  99. 100. 101. 102.\n",
      " 103. 104. 105. 106. 107. 108. 110. 111. 113. 114. 115. 117. 118. 122.\n",
      " 124. 125. 126. 128. 147. 154. 159.  nan]\n",
      "Уникальные значения столбца Bulk 11\n",
      "[  8.  14.  16.  17.  18.  19.  20.  21.  22.  23.  24.  25.  26.  28.\n",
      "  29.  31.  32.  34.  37.  38.  39.  40.  41.  42.  43.  46.  47.  48.\n",
      "  49.  50.  51.  53.  54.  56.  58.  62.  64.  66.  67.  68.  69.  71.\n",
      "  72.  74.  76.  81.  82.  83.  84.  87.  88.  89.  90.  91.  93.  94.\n",
      "  95.  96.  97.  98. 100. 102. 103. 104. 106. 107. 114. 120. 124. 126.\n",
      " 128. 131. 133. 136. 139. 140. 144. 146. 148. 151. 152. 154. 156. 158.\n",
      " 162. 172. 174. 176. 178. 185. 188. 198. 200. 204. 205. 206. 211. 225.\n",
      " 226. 242. 313.  nan]\n",
      "Уникальные значения столбца Bulk 12\n",
      "[  53.   54.   55.   56.   58.   88.  102.  103.  104.  105.  106.  107.\n",
      "  108.  109.  110.  111.  115.  116.  123.  124.  125.  126.  127.  128.\n",
      "  129.  135.  136.  137.  138.  139.  143.  145.  152.  153.  154.  155.\n",
      "  156.  157.  158.  159.  160.  162.  165.  166.  167.  168.  170.  173.\n",
      "  174.  175.  176.  177.  178.  180.  181.  182.  183.  184.  185.  186.\n",
      "  187.  188.  189.  191.  192.  195.  201.  202.  203.  204.  205.  206.\n",
      "  207.  208.  209.  210.  211.  212.  213.  214.  215.  216.  217.  219.\n",
      "  220.  221.  222.  223.  224.  225.  226.  227.  228.  229.  230.  232.\n",
      "  233.  234.  235.  236.  238.  239.  240.  242.  244.  247.  248.  250.\n",
      "  252.  253.  254.  255.  256.  257.  258.  259.  260.  261.  262.  263.\n",
      "  264.  265.  266.  267.  268.  270.  271.  272.  273.  274.  275.  276.\n",
      "  277.  279.  280.  281.  282.  283.  284.  285.  286.  289.  290.  291.\n",
      "  296.  301.  302.  303.  304.  305.  306.  307.  308.  309.  310.  311.\n",
      "  312.  313.  314.  316.  319.  321.  322.  325.  329.  330.  331.  332.\n",
      "  333.  334.  335.  337.  338.  340.  342.  343.  345.  346.  349.  351.\n",
      "  352.  356.  358.  359.  360.  361.  362.  363.  364.  366.  368.  369.\n",
      "  370.  371.  372.  373.  375.  377.  378.  379.  380.  381.  382.  383.\n",
      "  385.  387.  388.  390.  391.  392.  393.  394.  395.  397.  399.  401.\n",
      "  402.  404.  406.  407.  408.  409.  410.  411.  412.  413.  414.  415.\n",
      "  416.  417.  418.  419.  420.  421.  422.  423.  424.  425.  428.  430.\n",
      "  431.  432.  433.  434.  435.  436.  437.  439.  440.  441.  443.  444.\n",
      "  445.  446.  447.  452.  453.  456.  457.  458.  459.  460.  461.  462.\n",
      "  463.  464.  465.  466.  467.  468.  469.  470.  473.  474.  475.  478.\n",
      "  479.  481.  483.  484.  496.  501.  507.  508.  509.  510.  511.  512.\n",
      "  513.  514.  515.  516.  517.  518.  519.  520.  521.  522.  528.  542.\n",
      "  550.  558.  561.  562.  563.  564.  567.  570.  572.  583.  586.  597.\n",
      "  609.  616.  618.  620.  622.  624.  647.  666.  667.  668.  669.  671.\n",
      "  685.  733.  774.  775.  833.  853. 1849.   nan]\n",
      "Уникальные значения столбца Bulk 13\n",
      "[151. 152. 153. 154. 155. 156. 157. 159. 202. 204. 206. 214. 278. 305.\n",
      "  nan]\n",
      "Уникальные значения столбца Bulk 14\n",
      "[ 16.  18.  24.  29.  48.  52.  64.  68.  69.  72.  76.  78.  80.  82.\n",
      "  83.  84.  85.  86.  88.  89.  90.  91.  92.  93.  94.  95.  96.  97.\n",
      "  98.  99. 100. 101. 102. 103. 104. 105. 106. 107. 108. 109. 110. 111.\n",
      " 112. 113. 114. 115. 116. 117. 118. 119. 120. 121. 122. 123. 124. 125.\n",
      " 126. 127. 128. 129. 130. 131. 132. 133. 134. 135. 136. 137. 138. 139.\n",
      " 140. 141. 142. 143. 144. 145. 146. 147. 148. 149. 150. 151. 152. 153.\n",
      " 154. 155. 156. 157. 158. 159. 160. 161. 162. 163. 164. 165. 166. 167.\n",
      " 168. 169. 170. 171. 173. 174. 176. 177. 178. 179. 180. 181. 182. 183.\n",
      " 184. 185. 186. 187. 188. 189. 190. 191. 192. 193. 194. 195. 196. 197.\n",
      " 198. 199. 200. 201. 202. 203. 204. 205. 206. 207. 208. 209. 210. 211.\n",
      " 212. 213. 214. 215. 216. 217. 218. 219. 220. 221. 222. 223. 224. 225.\n",
      " 226. 227. 228. 229. 230. 231. 232. 233. 234. 235. 236. 237. 238. 239.\n",
      " 240. 241. 242. 243. 244. 245. 246. 247. 248. 249. 250. 251. 252. 253.\n",
      " 254. 255. 256. 257. 258. 259. 260. 261. 262. 263. 264. 265. 266. 267.\n",
      " 268. 269. 270. 271. 272. 274. 275. 276. 277. 278. 279. 280. 281. 282.\n",
      " 283. 284. 286. 288. 289. 290. 291. 292. 294. 295. 296. 297. 298. 299.\n",
      " 300. 301. 302. 303. 304. 305. 306. 307. 308. 309. 310. 311. 312. 313.\n",
      " 315. 316. 317. 320. 321. 324. 325. 327. 330. 333. 336. 337. 342. 347.\n",
      " 348. 349. 351. 352. 353. 354. 356. 366. 371. 375. 376. 379. 385. 389.\n",
      " 390. 398. 400. 401. 402. 403. 405. 406. 407. 417. 428. 446. 450. 452.\n",
      " 504. 552. 601. 636.  nan]\n",
      "Уникальные значения столбца Bulk 15\n",
      "[  1.  10.  44.  50.  51.  52.  53.  54.  55.  56.  58.  59.  63.  64.\n",
      "  65.  69.  70.  72.  73.  74.  75.  85.  86.  87.  88.  99. 100. 101.\n",
      " 102. 103. 104. 105. 106. 107. 108. 109. 110. 111. 112. 113. 114. 115.\n",
      " 116. 117. 118. 123. 124. 125. 126. 127. 128. 134. 136. 137. 145. 147.\n",
      " 148. 149. 150. 151. 152. 153. 154. 155. 156. 157. 158. 159. 160. 161.\n",
      " 163. 164. 166. 167. 168. 169. 170. 171. 172. 174. 175. 176. 177. 178.\n",
      " 179. 181. 183. 185. 186. 187. 188. 189. 190. 191. 192. 193. 194. 196.\n",
      " 197. 198. 199. 200. 201. 202. 203. 204. 205. 206. 207. 208. 209. 210.\n",
      " 211. 212. 213. 214. 215. 216. 217. 218. 219. 220. 221. 222. 223. 224.\n",
      " 225. 226. 227. 228. 229. 230. 231. 232. 233. 234. 235. 236. 237. 238.\n",
      " 239. 240. 246. 251. 258. 260. 261. 262. 264. 266. 290. 295. 320. 322.\n",
      " 337. 405.  nan]\n"
     ]
    }
   ],
   "source": [
    "info(data_bulk)"
   ]
  },
  {
   "cell_type": "code",
   "execution_count": 9,
   "metadata": {},
   "outputs": [
    {
     "name": "stdout",
     "output_type": "stream",
     "text": [
      "key\n"
     ]
    },
    {
     "data": {
      "text/plain": [
       "count    3129.000000\n",
       "mean     1624.383509\n",
       "std       933.337642\n",
       "min         1.000000\n",
       "25%       816.000000\n",
       "50%      1622.000000\n",
       "75%      2431.000000\n",
       "max      3241.000000\n",
       "Name: key, dtype: float64"
      ]
     },
     "metadata": {},
     "output_type": "display_data"
    },
    {
     "name": "stdout",
     "output_type": "stream",
     "text": [
      "Bulk 1\n"
     ]
    },
    {
     "data": {
      "text/plain": [
       "count    252.000000\n",
       "mean      39.242063\n",
       "std       18.277654\n",
       "min       10.000000\n",
       "25%       27.000000\n",
       "50%       31.000000\n",
       "75%       46.000000\n",
       "max      185.000000\n",
       "Name: Bulk 1, dtype: float64"
      ]
     },
     "metadata": {},
     "output_type": "display_data"
    },
    {
     "name": "stdout",
     "output_type": "stream",
     "text": [
      "Bulk 2\n"
     ]
    },
    {
     "data": {
      "text/plain": [
       "count     22.000000\n",
       "mean     253.045455\n",
       "std       21.180578\n",
       "min      228.000000\n",
       "25%      242.000000\n",
       "50%      251.500000\n",
       "75%      257.750000\n",
       "max      325.000000\n",
       "Name: Bulk 2, dtype: float64"
      ]
     },
     "metadata": {},
     "output_type": "display_data"
    },
    {
     "name": "stdout",
     "output_type": "stream",
     "text": [
      "Bulk 3\n"
     ]
    },
    {
     "data": {
      "text/plain": [
       "count    1298.000000\n",
       "mean      113.879045\n",
       "std        75.483494\n",
       "min         6.000000\n",
       "25%        58.000000\n",
       "50%        97.500000\n",
       "75%       152.000000\n",
       "max       454.000000\n",
       "Name: Bulk 3, dtype: float64"
      ]
     },
     "metadata": {},
     "output_type": "display_data"
    },
    {
     "name": "stdout",
     "output_type": "stream",
     "text": [
      "Bulk 4\n"
     ]
    },
    {
     "data": {
      "text/plain": [
       "count    1014.000000\n",
       "mean      104.394477\n",
       "std        48.184126\n",
       "min        12.000000\n",
       "25%        72.000000\n",
       "50%       102.000000\n",
       "75%       133.000000\n",
       "max       281.000000\n",
       "Name: Bulk 4, dtype: float64"
      ]
     },
     "metadata": {},
     "output_type": "display_data"
    },
    {
     "name": "stdout",
     "output_type": "stream",
     "text": [
      "Bulk 5\n"
     ]
    },
    {
     "data": {
      "text/plain": [
       "count     77.000000\n",
       "mean     107.025974\n",
       "std       81.790646\n",
       "min       11.000000\n",
       "25%       70.000000\n",
       "50%       86.000000\n",
       "75%      132.000000\n",
       "max      603.000000\n",
       "Name: Bulk 5, dtype: float64"
      ]
     },
     "metadata": {},
     "output_type": "display_data"
    },
    {
     "name": "stdout",
     "output_type": "stream",
     "text": [
      "Bulk 6\n"
     ]
    },
    {
     "data": {
      "text/plain": [
       "count    576.000000\n",
       "mean     118.925347\n",
       "std       72.057776\n",
       "min       17.000000\n",
       "25%       69.750000\n",
       "50%      100.000000\n",
       "75%      157.000000\n",
       "max      503.000000\n",
       "Name: Bulk 6, dtype: float64"
      ]
     },
     "metadata": {},
     "output_type": "display_data"
    },
    {
     "name": "stdout",
     "output_type": "stream",
     "text": [
      "Bulk 7\n"
     ]
    },
    {
     "data": {
      "text/plain": [
       "count     25.000000\n",
       "mean     305.600000\n",
       "std      191.022904\n",
       "min       47.000000\n",
       "25%      155.000000\n",
       "50%      298.000000\n",
       "75%      406.000000\n",
       "max      772.000000\n",
       "Name: Bulk 7, dtype: float64"
      ]
     },
     "metadata": {},
     "output_type": "display_data"
    },
    {
     "name": "stdout",
     "output_type": "stream",
     "text": [
      "Bulk 8\n"
     ]
    },
    {
     "data": {
      "text/plain": [
       "count     1.0\n",
       "mean     49.0\n",
       "std       NaN\n",
       "min      49.0\n",
       "25%      49.0\n",
       "50%      49.0\n",
       "75%      49.0\n",
       "max      49.0\n",
       "Name: Bulk 8, dtype: float64"
      ]
     },
     "metadata": {},
     "output_type": "display_data"
    },
    {
     "name": "stdout",
     "output_type": "stream",
     "text": [
      "Bulk 9\n"
     ]
    },
    {
     "data": {
      "text/plain": [
       "count     19.000000\n",
       "mean      76.315789\n",
       "std       21.720581\n",
       "min       63.000000\n",
       "25%       66.000000\n",
       "50%       68.000000\n",
       "75%       70.500000\n",
       "max      147.000000\n",
       "Name: Bulk 9, dtype: float64"
      ]
     },
     "metadata": {},
     "output_type": "display_data"
    },
    {
     "name": "stdout",
     "output_type": "stream",
     "text": [
      "Bulk 10\n"
     ]
    },
    {
     "data": {
      "text/plain": [
       "count    176.000000\n",
       "mean      83.284091\n",
       "std       26.060347\n",
       "min       24.000000\n",
       "25%       64.000000\n",
       "50%       86.500000\n",
       "75%      102.000000\n",
       "max      159.000000\n",
       "Name: Bulk 10, dtype: float64"
      ]
     },
     "metadata": {},
     "output_type": "display_data"
    },
    {
     "name": "stdout",
     "output_type": "stream",
     "text": [
      "Bulk 11\n"
     ]
    },
    {
     "data": {
      "text/plain": [
       "count    177.000000\n",
       "mean      76.819209\n",
       "std       59.655365\n",
       "min        8.000000\n",
       "25%       25.000000\n",
       "50%       64.000000\n",
       "75%      106.000000\n",
       "max      313.000000\n",
       "Name: Bulk 11, dtype: float64"
      ]
     },
     "metadata": {},
     "output_type": "display_data"
    },
    {
     "name": "stdout",
     "output_type": "stream",
     "text": [
      "Bulk 12\n"
     ]
    },
    {
     "data": {
      "text/plain": [
       "count    2450.000000\n",
       "mean      260.471020\n",
       "std       120.649269\n",
       "min        53.000000\n",
       "25%       204.000000\n",
       "50%       208.000000\n",
       "75%       316.000000\n",
       "max      1849.000000\n",
       "Name: Bulk 12, dtype: float64"
      ]
     },
     "metadata": {},
     "output_type": "display_data"
    },
    {
     "name": "stdout",
     "output_type": "stream",
     "text": [
      "Bulk 13\n"
     ]
    },
    {
     "data": {
      "text/plain": [
       "count     18.000000\n",
       "mean     181.111111\n",
       "std       46.088009\n",
       "min      151.000000\n",
       "25%      153.250000\n",
       "50%      155.500000\n",
       "75%      203.500000\n",
       "max      305.000000\n",
       "Name: Bulk 13, dtype: float64"
      ]
     },
     "metadata": {},
     "output_type": "display_data"
    },
    {
     "name": "stdout",
     "output_type": "stream",
     "text": [
      "Bulk 14\n"
     ]
    },
    {
     "data": {
      "text/plain": [
       "count    2806.000000\n",
       "mean      170.284747\n",
       "std        65.868652\n",
       "min        16.000000\n",
       "25%       119.000000\n",
       "50%       151.000000\n",
       "75%       205.750000\n",
       "max       636.000000\n",
       "Name: Bulk 14, dtype: float64"
      ]
     },
     "metadata": {},
     "output_type": "display_data"
    },
    {
     "name": "stdout",
     "output_type": "stream",
     "text": [
      "Bulk 15\n"
     ]
    },
    {
     "data": {
      "text/plain": [
       "count    2248.000000\n",
       "mean      160.513345\n",
       "std        51.765319\n",
       "min         1.000000\n",
       "25%       105.000000\n",
       "50%       160.000000\n",
       "75%       205.000000\n",
       "max       405.000000\n",
       "Name: Bulk 15, dtype: float64"
      ]
     },
     "metadata": {},
     "output_type": "display_data"
    }
   ],
   "source": [
    "for column in data_bulk.columns:\n",
    "    print(column)\n",
    "    display(data_bulk[column].describe())"
   ]
  },
  {
   "cell_type": "code",
   "execution_count": 10,
   "metadata": {},
   "outputs": [
    {
     "data": {
      "image/png": "[encoded data removed]",
      "text/plain": [
       "<Figure size 1440x1080 with 16 Axes>"
      ]
     },
     "metadata": {
      "needs_background": "light"
     },
     "output_type": "display_data"
    }
   ],
   "source": [
    "data_bulk.hist(bins=50, figsize=(20,15), edgecolor='black')\n",
    "plt.show()"
   ]
  },
  {
   "cell_type": "code",
   "execution_count": 11,
   "metadata": {},
   "outputs": [
    {
     "data": {
      "text/plain": [
       "<AxesSubplot:>"
      ]
     },
     "execution_count": 11,
     "metadata": {},
     "output_type": "execute_result"
    },
    {
     "data": {
      "image/png": "[encoded data removed]",
      "text/plain": [
       "<Figure size 432x288 with 1 Axes>"
      ]
     },
     "metadata": {
      "needs_background": "light"
     },
     "output_type": "display_data"
    }
   ],
   "source": [
    "data_bulk[column].hist(bins=100)"
   ]
  },
  {
   "cell_type": "code",
   "execution_count": 12,
   "metadata": {},
   "outputs": [
    {
     "data": {
      "text/plain": [
       "3129"
      ]
     },
     "execution_count": 12,
     "metadata": {},
     "output_type": "execute_result"
    }
   ],
   "source": [
    "#уникальные значения партий\n",
    "len(data_bulk['key'].unique())"
   ]
  },
  {
   "cell_type": "markdown",
   "metadata": {},
   "source": [
    "### Данные о подаче сыпучих материалов (время)"
   ]
  },
  {
   "cell_type": "code",
   "execution_count": 13,
   "metadata": {},
   "outputs": [
    {
     "name": "stdout",
     "output_type": "stream",
     "text": [
      "<class 'pandas.core.frame.DataFrame'>\n",
      "RangeIndex: 3129 entries, 0 to 3128\n",
      "Data columns (total 16 columns):\n",
      " #   Column   Non-Null Count  Dtype \n",
      "---  ------   --------------  ----- \n",
      " 0   key      3129 non-null   int64 \n",
      " 1   Bulk 1   252 non-null    object\n",
      " 2   Bulk 2   22 non-null     object\n",
      " 3   Bulk 3   1298 non-null   object\n",
      " 4   Bulk 4   1014 non-null   object\n",
      " 5   Bulk 5   77 non-null     object\n",
      " 6   Bulk 6   576 non-null    object\n",
      " 7   Bulk 7   25 non-null     object\n",
      " 8   Bulk 8   1 non-null      object\n",
      " 9   Bulk 9   19 non-null     object\n",
      " 10  Bulk 10  176 non-null    object\n",
      " 11  Bulk 11  177 non-null    object\n",
      " 12  Bulk 12  2450 non-null   object\n",
      " 13  Bulk 13  18 non-null     object\n",
      " 14  Bulk 14  2806 non-null   object\n",
      " 15  Bulk 15  2248 non-null   object\n",
      "dtypes: int64(1), object(15)\n",
      "memory usage: 391.2+ KB\n"
     ]
    }
   ],
   "source": [
    "data_bulk_time = pd.read_csv('../final_steel/data_bulk_time.csv')\n",
    "data_bulk_time.info()"
   ]
  },
  {
   "cell_type": "code",
   "execution_count": 14,
   "metadata": {},
   "outputs": [
    {
     "name": "stdout",
     "output_type": "stream",
     "text": [
      "Уникальные значения столбца key\n",
      "[   1    2    3 ... 3239 3240 3241]\n",
      "Уникальные значения столбца Bulk 1\n",
      "['2019-05-03 17:50:19' '2019-05-05 10:09:13' '2019-05-05 11:01:42'\n",
      " '2019-05-05 11:59:23' '2019-05-05 13:13:45' '2019-05-05 14:17:04'\n",
      " '2019-05-05 15:03:54' '2019-05-05 16:00:33' '2019-05-05 20:49:32'\n",
      " '2019-05-07 11:24:41' '2019-05-07 15:37:52' '2019-05-07 16:15:34'\n",
      " '2019-05-07 17:35:13' '2019-05-08 01:00:11' '2019-05-08 05:26:23'\n",
      " '2019-05-08 10:05:03' '2019-05-08 10:39:56' '2019-05-08 11:33:17'\n",
      " '2019-05-08 15:14:16' '2019-05-09 04:35:17' '2019-05-10 16:46:26'\n",
      " '2019-05-10 17:16:52' '2019-05-10 18:41:05' '2019-05-10 20:05:32'\n",
      " '2019-05-11 10:46:17' '2019-05-11 12:15:55' '2019-05-11 17:50:54'\n",
      " '2019-05-12 15:36:08' '2019-05-12 16:43:26' '2019-05-12 21:33:11'\n",
      " '2019-05-13 13:14:48' '2019-05-13 14:36:57' '2019-05-14 12:01:34'\n",
      " '2019-05-14 14:09:52' '2019-05-14 16:24:02' '2019-05-14 21:58:07'\n",
      " '2019-05-15 09:27:40' '2019-05-15 15:05:04' '2019-05-15 21:42:31'\n",
      " '2019-05-15 23:52:57' '2019-05-16 01:41:04' '2019-05-16 02:24:02'\n",
      " '2019-05-16 15:12:05' '2019-05-17 02:40:29' '2019-05-17 04:47:27'\n",
      " '2019-05-18 01:18:32' '2019-05-18 02:06:39' '2019-05-18 05:09:07'\n",
      " '2019-05-18 17:02:16' '2019-05-19 18:40:49' '2019-05-20 03:14:34'\n",
      " '2019-05-20 04:02:44' '2019-05-20 04:41:37' '2019-05-21 11:39:25'\n",
      " '2019-05-21 12:35:48' '2019-05-21 16:57:34' '2019-05-22 00:21:02'\n",
      " '2019-05-23 01:38:59' '2019-05-23 15:30:11' '2019-05-27 04:48:20'\n",
      " '2019-05-27 05:33:00' '2019-05-27 12:21:27' '2019-05-27 22:43:35'\n",
      " '2019-05-28 03:53:36' '2019-05-28 21:32:08' '2019-05-28 22:23:16'\n",
      " '2019-06-01 14:12:45' '2019-06-01 15:18:37' '2019-06-02 19:05:37'\n",
      " '2019-06-02 23:36:17' '2019-06-03 16:56:36' '2019-06-04 02:06:13'\n",
      " '2019-06-04 21:27:53' '2019-06-04 23:36:14' '2019-06-05 00:31:20'\n",
      " '2019-06-05 01:06:06' '2019-06-05 01:48:22' '2019-06-05 03:54:54'\n",
      " '2019-06-06 11:36:54' '2019-06-07 01:29:04' '2019-06-07 09:07:27'\n",
      " '2019-06-07 13:15:30' '2019-06-07 13:54:21' '2019-06-08 05:05:11'\n",
      " '2019-06-08 05:37:19' '2019-06-09 03:00:48' '2019-06-09 03:54:52'\n",
      " '2019-06-09 06:08:03' '2019-06-09 08:08:46' '2019-06-09 09:34:48'\n",
      " '2019-06-09 10:20:35' '2019-06-09 11:39:43' '2019-06-09 14:52:53'\n",
      " '2019-06-10 20:44:47' '2019-06-11 08:08:12' '2019-06-11 09:09:34'\n",
      " '2019-06-11 16:45:19' '2019-06-11 21:37:51' '2019-06-12 11:37:19'\n",
      " '2019-06-13 12:47:35' '2019-06-13 13:35:57' '2019-06-13 20:11:19'\n",
      " '2019-06-14 06:45:17' '2019-06-15 16:02:39' '2019-06-16 12:54:17'\n",
      " '2019-06-16 14:26:41' '2019-06-17 02:02:36' '2019-06-17 02:34:38'\n",
      " '2019-06-17 06:12:53' '2019-06-17 17:50:43' '2019-06-17 18:27:52'\n",
      " '2019-06-18 16:53:59' '2019-06-18 21:44:37' '2019-06-18 22:26:17'\n",
      " '2019-06-19 04:19:23' '2019-06-19 05:01:32' '2019-06-20 02:45:32'\n",
      " '2019-06-20 03:38:22' '2019-06-20 06:34:51' '2019-06-21 17:06:32'\n",
      " '2019-06-21 17:54:57' '2019-06-21 21:21:51' '2019-06-21 23:10:43'\n",
      " '2019-06-22 02:07:55' '2019-06-22 11:45:50' '2019-06-23 02:00:57'\n",
      " '2019-06-23 03:02:34' '2019-06-23 07:55:28' '2019-06-23 10:32:21'\n",
      " '2019-06-23 12:23:06' '2019-06-25 06:18:12' '2019-06-25 07:05:55'\n",
      " '2019-06-25 08:34:20' '2019-06-25 09:52:22' '2019-06-25 12:22:10'\n",
      " '2019-06-25 13:40:06' '2019-06-26 10:54:23' '2019-06-26 23:51:04'\n",
      " '2019-06-27 16:22:25' '2019-06-27 17:22:15' '2019-06-27 18:13:42'\n",
      " '2019-06-28 09:26:12' '2019-06-30 09:18:10' '2019-06-30 12:27:16'\n",
      " '2019-07-01 05:32:06' '2019-07-01 08:55:05' '2019-07-01 15:48:42'\n",
      " '2019-07-01 16:19:45' '2019-07-01 18:26:49' '2019-07-02 20:11:07'\n",
      " '2019-07-02 22:31:41' '2019-07-02 23:01:01' '2019-07-03 04:32:06'\n",
      " '2019-07-03 06:50:55' '2019-07-03 11:46:46' '2019-07-03 13:55:20'\n",
      " '2019-07-03 15:20:24' '2019-07-03 16:00:57' '2019-07-03 17:29:33'\n",
      " '2019-07-03 18:14:30' '2019-07-03 21:23:34' '2019-07-04 23:39:32'\n",
      " '2019-07-06 04:34:46' '2019-07-06 21:44:23' '2019-07-06 22:24:47'\n",
      " '2019-07-07 02:05:35' '2019-07-07 15:49:53' '2019-07-08 14:05:52'\n",
      " '2019-07-08 14:52:58' '2019-07-09 11:58:57' '2019-07-09 12:40:58'\n",
      " '2019-07-09 13:36:02' '2019-07-09 20:30:16' '2019-07-09 21:05:27'\n",
      " '2019-07-19 10:53:29' '2019-07-19 18:07:06' '2019-07-19 19:05:31'\n",
      " '2019-07-23 03:00:44' '2019-07-23 08:38:38' '2019-07-23 10:10:15'\n",
      " '2019-07-23 11:07:27' '2019-07-23 11:49:52' '2019-07-23 14:35:55'\n",
      " '2019-07-23 15:37:44' '2019-07-23 18:01:50' '2019-07-24 12:11:09'\n",
      " '2019-07-25 11:41:55' '2019-07-26 14:25:20' '2019-07-26 16:45:23'\n",
      " '2019-07-28 00:18:04' '2019-07-29 16:53:56' '2019-07-29 22:15:23'\n",
      " '2019-07-30 18:08:20' '2019-07-31 21:06:07' '2019-08-01 03:31:31'\n",
      " '2019-08-04 13:19:14' '2019-08-04 13:53:04' '2019-08-05 04:50:32'\n",
      " '2019-08-05 06:17:28' '2019-08-06 15:20:59' '2019-08-08 04:30:02'\n",
      " '2019-08-08 08:44:52' '2019-08-08 09:34:53' '2019-08-08 10:16:41'\n",
      " '2019-08-08 11:08:58' '2019-08-08 11:51:23' '2019-08-08 14:33:22'\n",
      " '2019-08-08 15:21:12' '2019-08-08 16:12:17' '2019-08-08 17:16:39'\n",
      " '2019-08-09 10:21:56' '2019-08-09 13:03:28' '2019-08-09 15:17:06'\n",
      " '2019-08-09 21:34:10' '2019-08-09 22:29:33' '2019-08-10 00:20:44'\n",
      " '2019-08-14 07:37:08' '2019-08-15 16:17:10' '2019-08-15 21:06:24'\n",
      " '2019-08-16 19:40:51' '2019-08-18 22:05:13' '2019-08-19 20:33:35'\n",
      " '2019-08-20 04:06:08' '2019-08-20 22:27:31' '2019-08-21 19:37:56'\n",
      " '2019-08-21 20:29:42' '2019-08-21 21:33:23' '2019-08-21 23:54:24'\n",
      " '2019-08-22 11:13:33' '2019-08-22 11:51:27' '2019-08-22 15:43:56'\n",
      " '2019-08-23 05:41:49' '2019-08-23 06:50:00' '2019-08-24 11:48:15'\n",
      " '2019-08-25 08:28:47' '2019-08-26 14:02:33' '2019-08-26 14:49:02'\n",
      " '2019-08-27 12:25:04' '2019-08-27 13:19:35' '2019-08-27 14:04:20'\n",
      " '2019-08-28 07:48:04' '2019-08-28 13:23:30' '2019-08-29 00:00:13'\n",
      " '2019-08-29 19:54:32' '2019-08-30 05:12:42' '2019-08-30 09:17:06'\n",
      " '2019-08-30 10:15:46' '2019-08-30 10:54:00' '2019-08-30 15:39:35'\n",
      " '2019-08-30 16:20:30' '2019-08-30 19:23:57' '2019-08-30 23:01:32' nan]\n",
      "Уникальные значения столбца Bulk 2\n",
      "['2019-05-07 08:36:19' '2019-05-07 10:05:35' '2019-05-07 11:37:42'\n",
      " '2019-05-07 15:45:34' '2019-05-07 16:27:56' '2019-05-07 17:38:50'\n",
      " '2019-07-23 08:42:23' '2019-07-23 10:13:13' '2019-07-23 11:10:20'\n",
      " '2019-07-23 11:52:43' '2019-07-23 14:35:55' '2019-07-23 15:37:44'\n",
      " '2019-07-23 18:01:50' '2019-08-08 08:44:52' '2019-08-08 09:34:53'\n",
      " '2019-08-08 10:16:41' '2019-08-08 11:08:58' '2019-08-08 11:51:23'\n",
      " '2019-08-08 14:33:22' '2019-08-08 15:21:12' '2019-08-08 16:12:17'\n",
      " '2019-08-08 17:34:38' nan]\n",
      "Уникальные значения столбца Bulk 3\n",
      "['2019-05-03 20:13:36' '2019-05-04 03:47:10' '2019-05-04 04:29:57' ...\n",
      " '2019-08-31 22:51:28' '2019-08-31 23:39:11' nan]\n",
      "Уникальные значения столбца Bulk 4\n",
      "['2019-05-03 11:21:30' '2019-05-03 11:46:38' '2019-05-03 12:31:06' ...\n",
      " '2019-08-30 16:59:23' '2019-08-30 17:36:30' nan]\n",
      "Уникальные значения столбца Bulk 5\n",
      "['2019-05-07 08:36:19' '2019-05-07 10:05:35' '2019-05-07 11:37:42'\n",
      " '2019-05-07 15:45:34' '2019-05-07 16:27:56' '2019-05-07 17:38:50'\n",
      " '2019-05-09 06:47:16' '2019-05-11 21:33:53' '2019-05-11 22:17:50'\n",
      " '2019-05-11 23:16:30' '2019-05-12 00:01:33' '2019-05-12 00:42:20'\n",
      " '2019-05-12 01:19:42' '2019-05-12 03:17:38' '2019-05-16 14:29:07'\n",
      " '2019-05-22 05:41:37' '2019-06-07 10:43:07' '2019-06-13 23:19:08'\n",
      " '2019-06-17 19:01:49' '2019-06-17 19:42:11' '2019-07-01 20:44:03'\n",
      " '2019-07-01 21:19:05' '2019-07-01 22:19:07' '2019-07-01 22:57:26'\n",
      " '2019-07-01 23:42:34' '2019-07-02 01:31:20' '2019-07-02 03:00:23'\n",
      " '2019-07-02 03:18:29' '2019-07-02 04:11:13' '2019-07-04 19:41:57'\n",
      " '2019-07-04 20:45:38' '2019-07-04 22:02:33' '2019-07-05 00:07:30'\n",
      " '2019-07-06 15:06:36' '2019-07-07 03:40:08' '2019-07-07 04:27:53'\n",
      " '2019-07-21 21:46:09' '2019-07-21 22:41:03' '2019-07-21 23:25:54'\n",
      " '2019-07-22 00:17:37' '2019-07-22 01:04:19' '2019-07-22 01:58:01'\n",
      " '2019-07-22 03:08:06' '2019-07-23 08:42:23' '2019-07-23 10:13:13'\n",
      " '2019-07-23 11:10:20' '2019-07-23 11:52:43' '2019-07-23 14:35:55'\n",
      " '2019-07-23 15:37:44' '2019-07-23 18:01:50' '2019-07-29 13:11:44'\n",
      " '2019-07-29 13:59:26' '2019-07-29 14:57:30' '2019-08-08 08:44:52'\n",
      " '2019-08-08 09:34:53' '2019-08-08 10:16:41' '2019-08-08 11:08:58'\n",
      " '2019-08-08 11:51:23' '2019-08-08 15:21:12' '2019-08-08 16:12:17'\n",
      " '2019-08-08 18:02:03' '2019-08-12 10:09:10' '2019-08-12 11:11:12'\n",
      " '2019-08-12 11:31:20' '2019-08-19 18:58:29' '2019-08-27 03:15:03'\n",
      " '2019-08-27 03:56:20' '2019-08-27 04:41:19' '2019-08-28 01:33:02'\n",
      " '2019-08-28 02:11:29' '2019-08-28 02:46:22' '2019-08-28 04:27:52'\n",
      " '2019-08-28 05:34:33' '2019-08-28 07:17:38' '2019-08-28 07:51:52'\n",
      " '2019-08-28 08:23:07' '2019-08-28 09:01:08' nan]\n",
      "Уникальные значения столбца Bulk 6\n",
      "['2019-05-03 18:52:57' '2019-05-03 21:15:20' '2019-05-03 23:53:11'\n",
      " '2019-05-04 00:53:02' '2019-05-04 06:44:51' '2019-05-04 22:33:48'\n",
      " '2019-05-04 23:17:36' '2019-05-05 00:51:48' '2019-05-05 01:24:18'\n",
      " '2019-05-05 01:48:53' '2019-05-05 04:04:30' '2019-05-05 05:03:01'\n",
      " '2019-05-05 10:25:10' '2019-05-05 11:05:20' '2019-05-05 12:14:19'\n",
      " '2019-05-05 13:18:53' '2019-05-05 14:20:57' '2019-05-05 15:08:59'\n",
      " '2019-05-05 16:02:20' '2019-05-05 16:45:05' '2019-05-05 18:52:46'\n",
      " '2019-05-06 02:28:27' '2019-05-06 03:15:07' '2019-05-06 09:33:35'\n",
      " '2019-05-06 10:32:48' '2019-05-06 11:39:00' '2019-05-06 12:09:16'\n",
      " '2019-05-06 13:54:11' '2019-05-06 14:40:36' '2019-05-06 15:22:32'\n",
      " '2019-05-06 15:46:23' '2019-05-06 16:26:00' '2019-05-06 17:23:13'\n",
      " '2019-05-07 03:28:06' '2019-05-08 06:34:30' '2019-05-08 08:30:11'\n",
      " '2019-05-08 23:40:46' '2019-05-09 00:56:53' '2019-05-09 02:28:20'\n",
      " '2019-05-09 04:38:12' '2019-05-09 07:32:31' '2019-05-09 11:05:30'\n",
      " '2019-05-09 12:02:55' '2019-05-09 14:14:18' '2019-05-09 15:15:36'\n",
      " '2019-05-09 17:05:35' '2019-05-09 18:06:25' '2019-05-09 18:55:20'\n",
      " '2019-05-09 19:29:54' '2019-05-09 20:16:36' '2019-05-09 21:00:21'\n",
      " '2019-05-09 21:31:41' '2019-05-10 04:45:41' '2019-05-10 05:30:27'\n",
      " '2019-05-10 08:25:11' '2019-05-10 09:37:08' '2019-05-10 11:00:40'\n",
      " '2019-05-10 18:00:40' '2019-05-11 19:58:40' '2019-05-12 05:45:07'\n",
      " '2019-05-12 12:05:28' '2019-05-13 01:43:13' '2019-05-13 03:01:52'\n",
      " '2019-05-13 15:57:45' '2019-05-13 19:45:38' '2019-05-13 20:57:35'\n",
      " '2019-05-13 23:03:37' '2019-05-14 05:44:15' '2019-05-14 20:59:27'\n",
      " '2019-05-14 22:07:18' '2019-05-14 23:25:54' '2019-05-15 04:42:46'\n",
      " '2019-05-15 06:42:54' '2019-05-15 07:53:16' '2019-05-15 22:37:41'\n",
      " '2019-05-16 00:26:25' '2019-05-16 06:57:08' '2019-05-16 07:35:49'\n",
      " '2019-05-16 07:58:12' '2019-05-16 08:42:22' '2019-05-16 15:19:33'\n",
      " '2019-05-16 16:21:39' '2019-05-16 17:17:17' '2019-05-16 22:29:37'\n",
      " '2019-05-18 09:35:04' '2019-05-18 10:09:34' '2019-05-21 00:56:17'\n",
      " '2019-05-21 01:56:44' '2019-05-22 00:40:22' '2019-05-22 02:16:06'\n",
      " '2019-05-22 11:24:59' '2019-05-22 12:16:20' '2019-05-22 17:10:59'\n",
      " '2019-05-22 19:14:40' '2019-05-22 21:20:46' '2019-05-22 21:44:34'\n",
      " '2019-05-23 11:26:21' '2019-05-23 15:32:55' '2019-05-23 16:14:48'\n",
      " '2019-05-23 16:57:39' '2019-05-23 17:57:40' '2019-05-23 18:39:58'\n",
      " '2019-05-23 19:42:49' '2019-05-23 20:55:42' '2019-05-23 21:22:11'\n",
      " '2019-05-24 12:12:58' '2019-05-24 12:39:23' '2019-05-24 14:04:20'\n",
      " '2019-05-24 21:12:13' '2019-05-25 15:36:02' '2019-05-25 16:49:24'\n",
      " '2019-05-26 09:44:20' '2019-05-26 10:37:49' '2019-05-26 13:19:20'\n",
      " '2019-05-26 14:38:27' '2019-05-26 15:40:07' '2019-05-26 16:12:22'\n",
      " '2019-05-27 06:35:27' '2019-05-27 13:20:01' '2019-05-28 20:27:56'\n",
      " '2019-05-28 21:35:04' '2019-05-28 22:28:13' '2019-05-28 23:35:21'\n",
      " '2019-05-29 11:06:01' '2019-05-29 12:04:20' '2019-05-29 12:59:53'\n",
      " '2019-05-29 14:06:53' '2019-05-29 14:55:29' '2019-06-01 16:45:14'\n",
      " '2019-06-01 20:32:29' '2019-06-02 02:23:15' '2019-06-02 10:14:44'\n",
      " '2019-06-02 13:10:58' '2019-06-02 14:06:39' '2019-06-02 15:18:46'\n",
      " '2019-06-02 17:27:55' '2019-06-02 18:15:46' '2019-06-03 18:35:07'\n",
      " '2019-06-04 03:17:48' '2019-06-04 04:58:00' '2019-06-04 06:19:15'\n",
      " '2019-06-04 07:13:11' '2019-06-04 09:28:19' '2019-06-04 17:50:25'\n",
      " '2019-06-05 08:16:41' '2019-06-05 14:35:41' '2019-06-05 19:27:05'\n",
      " '2019-06-05 20:09:42' '2019-06-05 21:27:23' '2019-06-05 22:08:12'\n",
      " '2019-06-05 22:56:17' '2019-06-06 00:12:43' '2019-06-06 02:44:40'\n",
      " '2019-06-06 04:25:29' '2019-06-06 05:22:30' '2019-06-06 06:35:21'\n",
      " '2019-06-06 17:26:01' '2019-06-07 00:26:07' '2019-06-07 09:10:23'\n",
      " '2019-06-07 10:04:36' '2019-06-07 12:23:55' '2019-06-07 12:42:07'\n",
      " '2019-06-07 13:19:05' '2019-06-07 14:01:14' '2019-06-09 07:27:53'\n",
      " '2019-06-09 08:18:26' '2019-06-09 09:10:34' '2019-06-09 09:38:43'\n",
      " '2019-06-09 10:25:59' '2019-06-09 11:42:09' '2019-06-09 12:47:24'\n",
      " '2019-06-09 14:56:08' '2019-06-09 15:28:53' '2019-06-09 16:25:32'\n",
      " '2019-06-09 18:40:03' '2019-06-09 19:24:25' '2019-06-09 20:09:17'\n",
      " '2019-06-09 20:55:09' '2019-06-09 22:01:17' '2019-06-09 22:50:22'\n",
      " '2019-06-09 23:36:06' '2019-06-10 00:11:25' '2019-06-10 05:09:09'\n",
      " '2019-06-10 06:37:49' '2019-06-10 15:56:32' '2019-06-10 16:30:55'\n",
      " '2019-06-10 17:29:54' '2019-06-10 18:41:29' '2019-06-10 19:27:11'\n",
      " '2019-06-10 20:44:47' '2019-06-12 09:08:14' '2019-06-12 10:09:38'\n",
      " '2019-06-12 11:05:25' '2019-06-12 11:42:35' '2019-06-12 12:17:10'\n",
      " '2019-06-12 12:42:08' '2019-06-12 14:10:59' '2019-06-12 19:12:02'\n",
      " '2019-06-13 11:25:34' '2019-06-15 00:42:38' '2019-06-15 01:19:19'\n",
      " '2019-06-15 02:02:53' '2019-06-15 02:34:25' '2019-06-15 03:24:25'\n",
      " '2019-06-15 04:26:08' '2019-06-15 05:25:35' '2019-06-15 06:29:37'\n",
      " '2019-06-15 07:43:52' '2019-06-15 08:40:35' '2019-06-15 09:02:53'\n",
      " '2019-06-16 09:30:24' '2019-06-16 17:11:52' '2019-06-18 06:54:29'\n",
      " '2019-06-19 05:04:25' '2019-06-20 11:45:50' '2019-06-20 18:28:10'\n",
      " '2019-06-20 20:09:34' '2019-06-21 02:39:06' '2019-06-21 15:19:30'\n",
      " '2019-06-21 15:55:10' '2019-06-21 16:28:10' '2019-06-21 17:21:24'\n",
      " '2019-06-21 18:04:06' '2019-06-21 19:42:47' '2019-06-21 20:15:39'\n",
      " '2019-06-21 21:26:12' '2019-06-22 04:29:15' '2019-06-22 17:46:24'\n",
      " '2019-06-23 05:09:50' '2019-06-23 07:12:22' '2019-06-23 07:59:02'\n",
      " '2019-06-23 09:26:00' '2019-06-23 10:08:13' '2019-06-23 10:36:40'\n",
      " '2019-06-23 23:17:53' '2019-06-26 12:11:19' '2019-06-26 14:17:30'\n",
      " '2019-06-26 15:32:34' '2019-06-26 15:58:46' '2019-06-26 16:41:42'\n",
      " '2019-06-26 17:06:12' '2019-06-26 17:44:24' '2019-06-26 18:47:42'\n",
      " '2019-06-26 19:30:51' '2019-06-26 20:10:33' '2019-06-27 17:26:28'\n",
      " '2019-06-28 20:30:13' '2019-06-29 09:42:07' '2019-06-29 10:02:57'\n",
      " '2019-06-29 10:44:23' '2019-06-29 19:49:07' '2019-06-29 20:29:00'\n",
      " '2019-06-29 20:57:10' '2019-06-29 21:43:36' '2019-06-29 23:29:27'\n",
      " '2019-06-30 00:18:07' '2019-06-30 00:57:58' '2019-06-30 01:45:44'\n",
      " '2019-06-30 02:26:59' '2019-06-30 03:15:39' '2019-06-30 04:24:10'\n",
      " '2019-06-30 04:48:17' '2019-06-30 05:21:03' '2019-06-30 05:51:04'\n",
      " '2019-06-30 06:34:45' '2019-06-30 06:57:15' '2019-07-01 19:17:54'\n",
      " '2019-07-01 20:44:03' '2019-07-01 21:19:05' '2019-07-01 22:19:07'\n",
      " '2019-07-01 22:57:26' '2019-07-01 23:42:34' '2019-07-02 00:29:05'\n",
      " '2019-07-02 02:09:11' '2019-07-02 02:44:48' '2019-07-02 03:18:29'\n",
      " '2019-07-02 04:05:19' '2019-07-02 15:45:57' '2019-07-02 17:14:49'\n",
      " '2019-07-02 17:58:15' '2019-07-02 18:37:09' '2019-07-02 23:20:28'\n",
      " '2019-07-03 00:12:47' '2019-07-04 19:21:08' '2019-07-04 20:45:38'\n",
      " '2019-07-04 22:02:33' '2019-07-04 23:43:00' '2019-07-06 02:36:26'\n",
      " '2019-07-06 05:16:31' '2019-07-07 07:44:17' '2019-07-07 08:58:42'\n",
      " '2019-07-07 10:41:08' '2019-07-08 12:49:35' '2019-07-09 01:41:30'\n",
      " '2019-07-09 03:17:36' '2019-07-09 06:06:02' '2019-07-09 07:21:47'\n",
      " '2019-07-09 16:28:49' '2019-07-09 23:31:39' '2019-07-10 01:04:57'\n",
      " '2019-07-15 03:12:25' '2019-07-15 23:31:37' '2019-07-16 00:41:21'\n",
      " '2019-07-16 01:54:11' '2019-07-16 04:13:12' '2019-07-16 04:48:27'\n",
      " '2019-07-16 06:20:47' '2019-07-16 07:19:47' '2019-07-16 08:42:23'\n",
      " '2019-07-16 09:58:56' '2019-07-16 10:36:08' '2019-07-16 11:11:23'\n",
      " '2019-07-16 12:07:15' '2019-07-16 13:10:20' '2019-07-16 14:01:16'\n",
      " '2019-07-16 17:04:59' '2019-07-16 19:27:06' '2019-07-16 20:50:30'\n",
      " '2019-07-16 22:36:44' '2019-07-17 05:03:27' '2019-07-17 06:01:39'\n",
      " '2019-07-17 08:06:35' '2019-07-17 12:12:17' '2019-07-17 21:32:27'\n",
      " '2019-07-18 08:02:46' '2019-07-18 13:38:54' '2019-07-18 15:04:39'\n",
      " '2019-07-18 15:26:33' '2019-07-18 16:05:12' '2019-07-19 01:04:08'\n",
      " '2019-07-19 13:13:08' '2019-07-19 22:57:57' '2019-07-20 14:00:15'\n",
      " '2019-07-20 15:00:16' '2019-07-20 15:49:50' '2019-07-20 16:15:37'\n",
      " '2019-07-20 16:52:32' '2019-07-20 17:30:01' '2019-07-20 18:08:09'\n",
      " '2019-07-20 18:49:49' '2019-07-20 19:51:09' '2019-07-20 20:30:34'\n",
      " '2019-07-20 22:12:45' '2019-07-20 23:21:23' '2019-07-21 00:27:22'\n",
      " '2019-07-21 01:50:04' '2019-07-21 03:08:03' '2019-07-21 03:42:18'\n",
      " '2019-07-21 04:22:22' '2019-07-21 04:48:37' '2019-07-21 05:27:37'\n",
      " '2019-07-21 06:04:02' '2019-07-21 06:41:29' '2019-07-21 07:59:04'\n",
      " '2019-07-21 21:46:09' '2019-07-22 15:22:04' '2019-07-23 01:18:31'\n",
      " '2019-07-23 02:05:09' '2019-07-23 04:33:55' '2019-07-23 05:07:10'\n",
      " '2019-07-23 05:40:43' '2019-07-23 06:09:58' '2019-07-23 07:26:23'\n",
      " '2019-07-23 22:25:41' '2019-07-24 00:15:51' '2019-07-24 00:39:50'\n",
      " '2019-07-24 01:43:29' '2019-07-24 02:30:27' '2019-07-24 03:53:06'\n",
      " '2019-07-24 04:36:00' '2019-07-24 19:30:58' '2019-07-24 23:21:47'\n",
      " '2019-07-24 23:56:15' '2019-07-25 00:30:12' '2019-07-25 01:09:26'\n",
      " '2019-07-25 03:11:48' '2019-07-26 00:15:59' '2019-07-26 09:08:49'\n",
      " '2019-07-26 17:38:41' '2019-07-26 18:26:01' '2019-07-26 19:23:03'\n",
      " '2019-07-26 20:12:32' '2019-07-26 21:26:36' '2019-07-26 22:30:37'\n",
      " '2019-07-26 23:18:38' '2019-07-27 00:33:00' '2019-07-27 08:26:29'\n",
      " '2019-07-27 20:02:16' '2019-07-27 20:48:35' '2019-07-27 21:50:02'\n",
      " '2019-07-27 23:43:27' '2019-07-28 00:23:47' '2019-07-28 01:02:24'\n",
      " '2019-07-28 01:45:15' '2019-07-28 21:34:37' '2019-07-28 22:15:22'\n",
      " '2019-07-28 22:46:28' '2019-07-29 13:11:44' '2019-07-29 20:50:31'\n",
      " '2019-07-29 22:19:49' '2019-07-29 23:25:28' '2019-07-31 08:38:23'\n",
      " '2019-07-31 11:40:55' '2019-07-31 23:36:56' '2019-08-01 00:38:49'\n",
      " '2019-08-01 01:40:43' '2019-08-01 02:50:11' '2019-08-01 03:31:31'\n",
      " '2019-08-01 04:12:21' '2019-08-01 04:37:18' '2019-08-01 06:26:35'\n",
      " '2019-08-01 20:02:49' '2019-08-01 20:59:10' '2019-08-01 22:15:58'\n",
      " '2019-08-01 23:28:26' '2019-08-02 00:01:25' '2019-08-02 00:53:26'\n",
      " '2019-08-02 01:47:28' '2019-08-02 02:36:55' '2019-08-02 03:14:31'\n",
      " '2019-08-02 03:48:03' '2019-08-02 04:23:10' '2019-08-02 05:11:24'\n",
      " '2019-08-02 05:58:33' '2019-08-02 07:01:01' '2019-08-02 20:56:32'\n",
      " '2019-08-03 05:49:07' '2019-08-03 06:44:55' '2019-08-03 07:11:05'\n",
      " '2019-08-03 07:46:01' '2019-08-03 08:23:38' '2019-08-03 08:55:29'\n",
      " '2019-08-03 09:24:16' '2019-08-03 11:03:08' '2019-08-03 11:31:36'\n",
      " '2019-08-03 12:09:33' '2019-08-03 12:40:48' '2019-08-03 13:10:49'\n",
      " '2019-08-03 15:42:55' '2019-08-03 19:49:38' '2019-08-04 03:09:14'\n",
      " '2019-08-04 09:52:28' '2019-08-05 15:28:05' '2019-08-05 20:43:06'\n",
      " '2019-08-06 10:51:02' '2019-08-06 11:33:45' '2019-08-06 12:10:11'\n",
      " '2019-08-06 12:55:00' '2019-08-06 13:21:38' '2019-08-06 14:10:53'\n",
      " '2019-08-06 15:15:09' '2019-08-06 15:44:40' '2019-08-06 16:41:36'\n",
      " '2019-08-06 17:22:18' '2019-08-06 18:01:34' '2019-08-06 18:40:30'\n",
      " '2019-08-06 19:32:35' '2019-08-06 20:12:55' '2019-08-06 23:03:59'\n",
      " '2019-08-07 04:57:12' '2019-08-07 05:32:36' '2019-08-07 05:53:06'\n",
      " '2019-08-07 06:26:20' '2019-08-07 07:05:06' '2019-08-07 10:54:09'\n",
      " '2019-08-07 11:18:49' '2019-08-07 11:57:51' '2019-08-07 15:52:16'\n",
      " '2019-08-07 18:07:49' '2019-08-07 19:20:45' '2019-08-08 19:29:01'\n",
      " '2019-08-08 20:29:05' '2019-08-08 23:47:00' '2019-08-09 04:38:26'\n",
      " '2019-08-09 10:27:02' '2019-08-09 11:25:41' '2019-08-09 13:06:09'\n",
      " '2019-08-09 13:58:06' '2019-08-09 14:39:52' '2019-08-09 15:18:53'\n",
      " '2019-08-09 15:55:07' '2019-08-09 20:23:44' '2019-08-09 21:36:06'\n",
      " '2019-08-10 00:28:29' '2019-08-10 09:21:32' '2019-08-10 10:53:15'\n",
      " '2019-08-10 17:21:47' '2019-08-10 19:05:05' '2019-08-10 20:10:21'\n",
      " '2019-08-10 21:06:15' '2019-08-10 21:51:40' '2019-08-10 22:31:40'\n",
      " '2019-08-10 23:28:12' '2019-08-11 16:35:59' '2019-08-11 17:37:39'\n",
      " '2019-08-11 18:39:13' '2019-08-11 20:50:47' '2019-08-11 21:57:27'\n",
      " '2019-08-12 00:59:44' '2019-08-12 01:53:24' '2019-08-12 02:33:17'\n",
      " '2019-08-12 03:08:46' '2019-08-12 03:33:09' '2019-08-12 03:59:17'\n",
      " '2019-08-12 04:35:33' '2019-08-12 05:01:41' '2019-08-12 05:49:49'\n",
      " '2019-08-12 06:44:47' '2019-08-12 07:23:29' '2019-08-12 08:08:12'\n",
      " '2019-08-12 09:16:13' '2019-08-12 12:41:54' '2019-08-13 14:15:16'\n",
      " '2019-08-15 06:47:01' '2019-08-15 08:17:25' '2019-08-15 09:27:48'\n",
      " '2019-08-15 10:28:10' '2019-08-15 11:20:59' '2019-08-15 12:37:33'\n",
      " '2019-08-16 06:01:11' '2019-08-16 07:38:43' '2019-08-16 09:30:10'\n",
      " '2019-08-16 10:33:25' '2019-08-16 11:41:20' '2019-08-16 12:14:46'\n",
      " '2019-08-16 21:37:45' '2019-08-17 04:44:35' '2019-08-17 22:18:36'\n",
      " '2019-08-17 23:51:39' '2019-08-18 01:16:33' '2019-08-18 12:46:23'\n",
      " '2019-08-18 13:24:08' '2019-08-18 14:57:29' '2019-08-19 03:39:01'\n",
      " '2019-08-19 04:49:59' '2019-08-19 05:47:10' '2019-08-19 06:44:11'\n",
      " '2019-08-19 07:43:27' '2019-08-19 08:51:08' '2019-08-19 10:49:26'\n",
      " '2019-08-19 11:51:45' '2019-08-19 18:58:28' '2019-08-19 20:49:03'\n",
      " '2019-08-19 21:43:59' '2019-08-20 02:54:47' '2019-08-20 04:11:08'\n",
      " '2019-08-20 06:50:17' '2019-08-21 07:34:27' '2019-08-21 15:37:35'\n",
      " '2019-08-21 22:25:12' '2019-08-25 06:26:24' '2019-08-25 08:33:09'\n",
      " '2019-08-25 17:38:55' '2019-08-25 18:12:03' '2019-08-25 19:51:03'\n",
      " '2019-08-25 20:26:17' '2019-08-25 21:31:42' '2019-08-26 10:51:24'\n",
      " '2019-08-26 11:37:54' '2019-08-26 12:14:35' '2019-08-28 01:33:02'\n",
      " '2019-08-28 02:11:27' '2019-08-28 02:46:22' '2019-08-28 04:27:52'\n",
      " '2019-08-28 05:34:33' '2019-08-28 07:17:38' '2019-08-28 07:51:52'\n",
      " '2019-08-28 08:23:07' '2019-08-28 09:01:08' '2019-08-29 18:12:16'\n",
      " '2019-08-31 12:12:40' '2019-08-31 13:50:34' '2019-08-31 15:01:05'\n",
      " '2019-08-31 16:00:49' '2019-09-01 01:51:58' '2019-09-01 03:12:40' nan]\n",
      "Уникальные значения столбца Bulk 7\n",
      "['2019-05-07 11:37:42' '2019-05-15 09:35:53' '2019-06-15 00:42:38'\n",
      " '2019-06-21 14:05:53' '2019-07-17 07:14:04' '2019-07-17 10:30:04'\n",
      " '2019-07-17 11:25:12' '2019-07-23 08:42:23' '2019-07-23 10:13:13'\n",
      " '2019-07-23 11:10:20' '2019-07-23 11:52:43' '2019-07-23 14:35:55'\n",
      " '2019-07-23 15:37:44' '2019-07-23 18:01:50' '2019-08-08 08:46:28'\n",
      " '2019-08-08 09:38:06' '2019-08-08 10:27:58' '2019-08-08 11:21:17'\n",
      " '2019-08-08 12:03:38' '2019-08-08 14:45:03' '2019-08-08 16:25:14'\n",
      " '2019-08-08 17:34:38' '2019-08-31 06:20:47' '2019-08-31 06:55:58'\n",
      " '2019-08-31 07:22:25' nan]\n",
      "Уникальные значения столбца Bulk 8\n",
      "['2019-07-05 17:46:11' nan]\n",
      "Уникальные значения столбца Bulk 9\n",
      "['2019-05-14 00:04:56' '2019-05-14 00:37:47' '2019-05-14 01:09:57'\n",
      " '2019-05-14 01:45:42' '2019-05-14 02:23:06' '2019-05-14 02:51:41'\n",
      " '2019-05-14 03:30:41' '2019-05-14 04:01:02' '2019-05-14 04:38:14'\n",
      " '2019-05-14 05:15:06' '2019-07-05 17:44:46' '2019-07-18 17:35:46'\n",
      " '2019-07-18 18:58:01' '2019-08-11 11:12:43' '2019-08-11 12:13:43'\n",
      " '2019-08-11 13:20:19' '2019-08-11 13:54:18' '2019-08-11 14:33:19'\n",
      " '2019-08-11 15:09:33' nan]\n",
      "Уникальные значения столбца Bulk 10\n",
      "['2019-05-06 01:36:24' '2019-05-06 18:04:52' '2019-05-06 19:03:57'\n",
      " '2019-05-06 20:19:14' '2019-05-06 20:55:50' '2019-05-06 21:50:10'\n",
      " '2019-05-06 22:53:08' '2019-05-07 00:01:01' '2019-05-14 07:04:50'\n",
      " '2019-05-14 07:57:59' '2019-05-15 13:32:01' '2019-05-17 08:08:43'\n",
      " '2019-05-17 08:34:33' '2019-05-17 09:18:33' '2019-05-17 09:50:19'\n",
      " '2019-05-17 10:38:29' '2019-05-17 21:59:42' '2019-05-20 10:46:30'\n",
      " '2019-05-20 11:43:47' '2019-05-20 12:40:04' '2019-05-20 14:23:52'\n",
      " '2019-05-20 15:16:43' '2019-05-20 16:30:56' '2019-05-20 17:18:39'\n",
      " '2019-05-20 18:08:45' '2019-05-21 05:47:42' '2019-05-21 06:41:27'\n",
      " '2019-05-21 16:29:38' '2019-05-21 17:52:51' '2019-05-21 18:26:44'\n",
      " '2019-05-21 20:04:35' '2019-05-21 20:53:54' '2019-05-24 01:51:50'\n",
      " '2019-05-24 02:45:20' '2019-05-24 03:18:18' '2019-05-24 04:20:47'\n",
      " '2019-05-25 19:39:59' '2019-05-25 20:18:23' '2019-05-27 08:24:12'\n",
      " '2019-05-28 12:12:54' '2019-05-30 06:05:56' '2019-05-30 11:37:46'\n",
      " '2019-05-30 20:49:52' '2019-05-31 13:37:29' '2019-05-31 16:06:47'\n",
      " '2019-05-31 16:59:45' '2019-05-31 17:54:16' '2019-05-31 18:46:44'\n",
      " '2019-05-31 21:44:40' '2019-06-01 01:49:26' '2019-06-04 22:02:41'\n",
      " '2019-06-08 19:50:12' '2019-06-08 20:45:59' '2019-06-08 22:52:10'\n",
      " '2019-06-11 01:02:36' '2019-06-11 03:16:32' '2019-06-11 04:15:08'\n",
      " '2019-06-18 01:36:58' '2019-06-18 02:29:00' '2019-06-18 13:30:45'\n",
      " '2019-06-18 16:00:11' '2019-06-18 17:03:43' '2019-06-21 05:38:57'\n",
      " '2019-06-21 06:52:18' '2019-06-23 11:20:56' '2019-06-23 11:54:23'\n",
      " '2019-06-23 13:24:32' '2019-06-23 14:06:20' '2019-06-25 12:33:34'\n",
      " '2019-06-25 13:48:40' '2019-06-25 14:19:54' '2019-06-25 14:56:37'\n",
      " '2019-06-25 15:42:19' '2019-06-26 06:07:34' '2019-06-26 06:51:49'\n",
      " '2019-06-26 07:43:51' '2019-06-26 08:10:57' '2019-06-26 08:33:53'\n",
      " '2019-06-26 09:19:18' '2019-06-28 07:50:45' '2019-06-28 11:35:11'\n",
      " '2019-06-28 13:00:27' '2019-06-28 15:45:48' '2019-07-01 20:02:57'\n",
      " '2019-07-03 05:57:08' '2019-07-03 06:54:20' '2019-07-03 07:54:28'\n",
      " '2019-07-03 08:24:48' '2019-07-03 08:55:03' '2019-07-03 10:31:05'\n",
      " '2019-07-03 11:21:16' '2019-07-03 11:56:07' '2019-07-06 05:56:51'\n",
      " '2019-07-06 06:39:03' '2019-07-06 07:23:22' '2019-07-06 20:51:07'\n",
      " '2019-07-06 21:51:04' '2019-07-09 15:37:05' '2019-07-15 12:38:33'\n",
      " '2019-07-15 14:13:26' '2019-07-18 06:01:27' '2019-07-18 07:09:44'\n",
      " '2019-07-20 12:55:18' '2019-07-24 05:46:29' '2019-07-24 06:46:46'\n",
      " '2019-07-24 07:40:10' '2019-07-24 08:21:31' '2019-07-24 08:51:27'\n",
      " '2019-07-24 09:26:47' '2019-07-24 10:24:22' '2019-07-24 11:35:41'\n",
      " '2019-07-24 12:16:12' '2019-07-25 03:10:29' '2019-07-25 05:46:37'\n",
      " '2019-07-25 06:26:20' '2019-07-25 07:01:54' '2019-07-25 07:30:52'\n",
      " '2019-07-25 07:59:48' '2019-07-26 05:57:37' '2019-07-26 08:32:50'\n",
      " '2019-07-27 06:11:57' '2019-07-27 07:01:22' '2019-07-27 07:49:10'\n",
      " '2019-07-27 09:41:01' '2019-07-28 13:49:39' '2019-07-28 14:54:40'\n",
      " '2019-07-28 17:21:59' '2019-07-28 18:18:56' '2019-07-28 20:34:33'\n",
      " '2019-07-28 21:00:25' '2019-07-30 15:51:28' '2019-07-30 19:14:54'\n",
      " '2019-07-30 20:11:14' '2019-07-30 23:28:53' '2019-07-31 09:11:02'\n",
      " '2019-07-31 13:18:28' '2019-07-31 14:13:42' '2019-07-31 15:59:07'\n",
      " '2019-07-31 16:44:41' '2019-08-02 20:27:19' '2019-08-06 00:36:47'\n",
      " '2019-08-06 01:14:16' '2019-08-06 02:05:26' '2019-08-10 05:43:25'\n",
      " '2019-08-10 06:14:18' '2019-08-10 07:01:59' '2019-08-10 07:56:15'\n",
      " '2019-08-11 01:46:20' '2019-08-15 22:34:16' '2019-08-16 00:43:10'\n",
      " '2019-08-16 01:56:23' '2019-08-16 02:24:26' '2019-08-16 03:05:53'\n",
      " '2019-08-16 03:32:08' '2019-08-21 07:50:54' '2019-08-22 02:05:52'\n",
      " '2019-08-23 12:32:59' '2019-08-23 13:14:59' '2019-08-23 13:44:49'\n",
      " '2019-08-23 15:00:17' '2019-08-24 03:43:54' '2019-08-24 05:28:45'\n",
      " '2019-08-24 10:13:15' '2019-08-24 10:55:52' '2019-08-24 11:25:45'\n",
      " '2019-08-26 00:46:24' '2019-08-26 01:46:58' '2019-08-26 02:25:28'\n",
      " '2019-08-26 03:19:35' '2019-08-27 22:01:32' '2019-08-27 22:33:52'\n",
      " '2019-08-27 23:32:50' '2019-08-28 20:30:58' '2019-08-28 21:05:20'\n",
      " '2019-08-30 00:31:28' '2019-08-30 01:30:42' nan]\n",
      "Уникальные значения столбца Bulk 11\n",
      "['2019-05-05 16:45:05' '2019-05-06 09:33:35' '2019-05-06 17:23:13'\n",
      " '2019-05-07 03:28:06' '2019-05-07 11:37:42' '2019-05-08 06:34:30'\n",
      " '2019-05-08 23:40:46' '2019-05-09 04:38:12' '2019-05-09 21:40:37'\n",
      " '2019-05-10 04:45:41' '2019-05-10 08:25:11' '2019-05-10 11:00:40'\n",
      " '2019-05-16 17:17:17' '2019-05-16 22:31:11' '2019-05-18 09:35:04'\n",
      " '2019-05-18 10:09:34' '2019-05-21 01:56:44' '2019-05-22 11:24:59'\n",
      " '2019-05-22 19:14:40' '2019-05-23 16:57:39' '2019-05-24 14:04:20'\n",
      " '2019-05-24 21:24:56' '2019-05-26 14:38:27' '2019-06-02 10:14:44'\n",
      " '2019-06-02 12:03:21' '2019-06-03 18:35:07' '2019-06-04 05:13:31'\n",
      " '2019-06-04 17:50:25' '2019-06-05 14:35:41' '2019-06-05 20:45:35'\n",
      " '2019-06-06 05:22:30' '2019-06-09 07:14:59' '2019-06-09 18:54:42'\n",
      " '2019-06-09 22:50:22' '2019-06-10 01:07:30' '2019-06-10 01:59:20'\n",
      " '2019-06-10 05:09:09' '2019-06-10 16:42:00' '2019-06-10 17:29:54'\n",
      " '2019-06-10 19:27:11' '2019-06-10 20:44:47' '2019-06-11 13:49:16'\n",
      " '2019-06-12 01:47:51' '2019-06-12 12:17:10' '2019-06-12 19:24:37'\n",
      " '2019-06-13 11:25:34' '2019-06-13 15:54:23' '2019-06-15 06:29:37'\n",
      " '2019-06-15 08:40:35' '2019-06-19 17:57:55' '2019-06-23 07:12:22'\n",
      " '2019-06-23 10:21:19' '2019-06-25 02:04:53' '2019-06-26 22:35:27'\n",
      " '2019-06-27 02:10:00' '2019-06-29 10:44:23' '2019-07-01 19:17:54'\n",
      " '2019-07-02 17:58:15' '2019-07-02 18:37:09' '2019-07-04 09:07:54'\n",
      " '2019-07-06 05:16:31' '2019-07-07 05:10:26' '2019-07-08 05:34:08'\n",
      " '2019-07-08 08:14:23' '2019-07-09 01:41:30' '2019-07-09 06:06:02'\n",
      " '2019-07-09 07:21:47' '2019-07-09 23:31:39' '2019-07-15 23:31:37'\n",
      " '2019-07-16 07:49:01' '2019-07-16 09:46:26' '2019-07-16 11:57:24'\n",
      " '2019-07-16 14:01:16' '2019-07-16 17:04:59' '2019-07-16 19:27:06'\n",
      " '2019-07-17 00:47:35' '2019-07-17 06:01:39' '2019-07-17 12:12:17'\n",
      " '2019-07-18 09:04:14' '2019-07-18 09:50:10' '2019-07-18 11:27:31'\n",
      " '2019-07-18 12:10:21' '2019-07-19 01:04:08' '2019-07-19 13:13:08'\n",
      " '2019-07-20 14:00:15' '2019-07-20 15:00:16' '2019-07-20 16:15:37'\n",
      " '2019-07-20 17:30:01' '2019-07-20 18:08:09' '2019-07-20 18:38:54'\n",
      " '2019-07-20 19:39:09' '2019-07-20 20:30:34' '2019-07-20 22:12:45'\n",
      " '2019-07-21 03:42:18' '2019-07-21 06:04:02' '2019-07-21 06:41:29'\n",
      " '2019-07-22 06:18:45' '2019-07-23 01:18:31' '2019-07-23 05:07:10'\n",
      " '2019-07-24 01:43:29' '2019-07-24 04:36:00' '2019-07-24 23:56:15'\n",
      " '2019-07-25 18:04:48' '2019-07-26 09:08:49' '2019-07-26 17:38:41'\n",
      " '2019-07-26 22:18:21' '2019-07-26 23:18:38' '2019-07-26 23:53:27'\n",
      " '2019-07-27 00:33:00' '2019-07-27 08:26:29' '2019-07-27 20:02:16'\n",
      " '2019-07-28 22:15:22' '2019-07-29 20:50:31' '2019-07-30 04:49:12'\n",
      " '2019-07-30 06:00:56' '2019-07-30 06:57:26' '2019-07-31 11:40:55'\n",
      " '2019-08-01 03:31:31' '2019-08-01 04:37:18' '2019-08-03 07:57:38'\n",
      " '2019-08-03 09:06:24' '2019-08-03 13:22:32' '2019-08-03 13:42:19'\n",
      " '2019-08-03 15:42:55' '2019-08-04 03:09:14' '2019-08-04 11:34:42'\n",
      " '2019-08-04 16:00:02' '2019-08-05 05:13:09' '2019-08-05 15:28:05'\n",
      " '2019-08-05 20:43:06' '2019-08-06 15:44:40' '2019-08-06 17:20:14'\n",
      " '2019-08-06 18:01:34' '2019-08-06 18:40:30' '2019-08-07 05:32:36'\n",
      " '2019-08-07 11:18:49' '2019-08-07 15:52:16' '2019-08-07 18:07:49'\n",
      " '2019-08-07 19:20:45' '2019-08-07 22:47:05' '2019-08-08 20:43:02'\n",
      " '2019-08-08 23:47:00' '2019-08-09 02:10:02' '2019-08-09 03:08:05'\n",
      " '2019-08-09 03:55:11' '2019-08-09 04:38:26' '2019-08-09 14:39:52'\n",
      " '2019-08-09 20:23:44' '2019-08-10 00:28:29' '2019-08-10 09:34:24'\n",
      " '2019-08-10 10:53:15' '2019-08-11 17:25:23' '2019-08-11 18:39:13'\n",
      " '2019-08-12 03:59:17' '2019-08-12 05:01:41' '2019-08-12 06:44:47'\n",
      " '2019-08-12 07:21:46' '2019-08-12 09:29:10' '2019-08-12 12:41:54'\n",
      " '2019-08-13 10:42:43' '2019-08-16 09:30:11' '2019-08-16 11:10:04'\n",
      " '2019-08-16 11:41:20' '2019-08-17 04:44:35' '2019-08-17 23:10:57'\n",
      " '2019-08-17 23:51:39' '2019-08-19 10:13:53' '2019-08-19 10:49:26'\n",
      " '2019-08-19 11:51:45' '2019-08-19 20:49:03' '2019-08-25 19:19:41'\n",
      " '2019-08-25 20:26:17' '2019-08-25 21:31:42' '2019-08-31 12:12:40'\n",
      " '2019-08-31 13:50:34' '2019-08-31 15:01:05' '2019-08-31 16:00:49' nan]\n",
      "Уникальные значения столбца Bulk 12\n",
      "['2019-05-03 11:03:52' '2019-05-03 11:40:20' '2019-05-03 12:09:40' ...\n",
      " '2019-08-31 23:33:09' '2019-09-01 01:39:41' nan]\n",
      "Уникальные значения столбца Bulk 13\n",
      "['2019-05-05 00:39:35' '2019-05-10 16:46:26' '2019-05-10 21:16:38'\n",
      " '2019-05-15 17:09:56' '2019-05-26 20:42:03' '2019-05-31 04:40:34'\n",
      " '2019-06-07 12:36:20' '2019-06-19 13:06:49' '2019-06-28 01:03:50'\n",
      " '2019-06-29 19:39:20' '2019-07-02 18:49:35' '2019-07-08 02:53:15'\n",
      " '2019-07-24 23:34:05' '2019-08-02 20:51:12' '2019-08-17 18:32:34'\n",
      " '2019-08-21 07:35:23' '2019-08-24 11:33:10' '2019-08-26 20:31:16' nan]\n",
      "Уникальные значения столбца Bulk 14\n",
      "['2019-05-03 11:03:52' '2019-05-03 11:40:20' '2019-05-03 12:09:40' ...\n",
      " '2019-09-01 02:41:27' '2019-09-01 04:05:34' nan]\n",
      "Уникальные значения столбца Bulk 15\n",
      "['2019-05-03 11:03:52' '2019-05-03 11:40:20' '2019-05-03 12:09:40' ...\n",
      " '2019-09-01 02:41:27' '2019-09-01 04:05:34' nan]\n"
     ]
    }
   ],
   "source": [
    "info(data_bulk_time)"
   ]
  },
  {
   "cell_type": "code",
   "execution_count": 15,
   "metadata": {},
   "outputs": [
    {
     "data": {
      "text/plain": [
       "3129"
      ]
     },
     "execution_count": 15,
     "metadata": {},
     "output_type": "execute_result"
    }
   ],
   "source": [
    "len(data_bulk_time['key'].unique())"
   ]
  },
  {
   "cell_type": "markdown",
   "metadata": {},
   "source": [
    "### Данные о продувке сплава газом"
   ]
  },
  {
   "cell_type": "code",
   "execution_count": 16,
   "metadata": {},
   "outputs": [
    {
     "name": "stdout",
     "output_type": "stream",
     "text": [
      "<class 'pandas.core.frame.DataFrame'>\n",
      "RangeIndex: 3239 entries, 0 to 3238\n",
      "Data columns (total 2 columns):\n",
      " #   Column  Non-Null Count  Dtype  \n",
      "---  ------  --------------  -----  \n",
      " 0   key     3239 non-null   int64  \n",
      " 1   Газ 1   3239 non-null   float64\n",
      "dtypes: float64(1), int64(1)\n",
      "memory usage: 50.7 KB\n"
     ]
    }
   ],
   "source": [
    "data_gas = pd.read_csv('../final_steel/data_gas.csv')\n",
    "data_gas.info()"
   ]
  },
  {
   "cell_type": "code",
   "execution_count": 17,
   "metadata": {},
   "outputs": [
    {
     "name": "stdout",
     "output_type": "stream",
     "text": [
      "Уникальные значения столбца key\n",
      "[   1    2    3 ... 3239 3240 3241]\n",
      "Уникальные значения столбца Газ 1\n",
      "[8.39852910e-03 1.66956024e-02 2.63028954e-01 ... 5.21423726e+01\n",
      " 6.09356892e+01 7.79950397e+01]\n"
     ]
    }
   ],
   "source": [
    "info(data_gas)"
   ]
  },
  {
   "cell_type": "code",
   "execution_count": 18,
   "metadata": {},
   "outputs": [
    {
     "data": {
      "text/plain": [
       "3239"
      ]
     },
     "execution_count": 18,
     "metadata": {},
     "output_type": "execute_result"
    }
   ],
   "source": [
    "len(data_gas['key'].unique())"
   ]
  },
  {
   "cell_type": "code",
   "execution_count": 19,
   "metadata": {},
   "outputs": [
    {
     "data": {
      "text/plain": [
       "count    3239.000000\n",
       "mean       11.002062\n",
       "std         6.220327\n",
       "min         0.008399\n",
       "25%         7.043089\n",
       "50%         9.836267\n",
       "75%        13.769915\n",
       "max        77.995040\n",
       "Name: Газ 1, dtype: float64"
      ]
     },
     "execution_count": 19,
     "metadata": {},
     "output_type": "execute_result"
    },
    {
     "data": {
      "image/png": "[encoded data removed]",
      "text/plain": [
       "<Figure size 720x360 with 1 Axes>"
      ]
     },
     "metadata": {
      "needs_background": "light"
     },
     "output_type": "display_data"
    }
   ],
   "source": [
    "data_gas['Газ 1'].hist(bins=100, figsize=(10,5))\n",
    "data_gas['Газ 1'].describe()"
   ]
  },
  {
   "cell_type": "markdown",
   "metadata": {},
   "source": [
    "### Результаты измерения температуры"
   ]
  },
  {
   "cell_type": "code",
   "execution_count": 20,
   "metadata": {},
   "outputs": [
    {
     "name": "stdout",
     "output_type": "stream",
     "text": [
      "<class 'pandas.core.frame.DataFrame'>\n",
      "RangeIndex: 15907 entries, 0 to 15906\n",
      "Data columns (total 3 columns):\n",
      " #   Column        Non-Null Count  Dtype  \n",
      "---  ------        --------------  -----  \n",
      " 0   key           15907 non-null  int64  \n",
      " 1   Время замера  15907 non-null  object \n",
      " 2   Температура   13006 non-null  float64\n",
      "dtypes: float64(1), int64(1), object(1)\n",
      "memory usage: 372.9+ KB\n"
     ]
    }
   ],
   "source": [
    "data_temp = pd.read_csv('../final_steel/data_temp.csv')\n",
    "data_temp.info()"
   ]
  },
  {
   "cell_type": "code",
   "execution_count": 21,
   "metadata": {},
   "outputs": [
    {
     "name": "stdout",
     "output_type": "stream",
     "text": [
      "Уникальные значения столбца key\n",
      "[   1    2    3 ... 3239 3240 3241]\n",
      "Уникальные значения столбца Время замера\n",
      "['2019-05-03 11:16:18' '2019-05-03 11:25:53' '2019-05-03 11:29:11' ...\n",
      " '2019-09-01 04:22:39' '2019-09-01 04:33:42' '2019-09-01 04:38:08']\n",
      "Уникальные значения столбца Температура\n",
      "[1191. 1204. 1208. 1218. 1227. 1383. 1519. 1520. 1525. 1526. 1527. 1528.\n",
      " 1529. 1530. 1531. 1532. 1533. 1534. 1535. 1536. 1537. 1538. 1539. 1540.\n",
      " 1541. 1542. 1543. 1544. 1545. 1546. 1547. 1548. 1549. 1550. 1551. 1552.\n",
      " 1553. 1554. 1555. 1556. 1557. 1558. 1559. 1560. 1561. 1562. 1563. 1564.\n",
      " 1565. 1566. 1567. 1568. 1569. 1570. 1571. 1572. 1573. 1574. 1575. 1576.\n",
      " 1577. 1578. 1579. 1580. 1581. 1582. 1583. 1584. 1585. 1586. 1587. 1588.\n",
      " 1589. 1590. 1591. 1592. 1593. 1594. 1595. 1596. 1597. 1598. 1599. 1600.\n",
      " 1601. 1602. 1603. 1604. 1605. 1606. 1607. 1608. 1609. 1610. 1611. 1612.\n",
      " 1613. 1614. 1615. 1616. 1617. 1618. 1619. 1620. 1621. 1622. 1623. 1624.\n",
      " 1625. 1626. 1627. 1628. 1629. 1630. 1631. 1632. 1633. 1634. 1635. 1636.\n",
      " 1637. 1638. 1639. 1640. 1641. 1642. 1643. 1644. 1645. 1646. 1647. 1648.\n",
      " 1649. 1650. 1651. 1652. 1653. 1654. 1655. 1656. 1657. 1658. 1659. 1660.\n",
      " 1661. 1662. 1663. 1664. 1665. 1666. 1667. 1668. 1669. 1670. 1671. 1672.\n",
      " 1673. 1674. 1675. 1676. 1678. 1679. 1680. 1681. 1682. 1683. 1684. 1690.\n",
      " 1691. 1694. 1696. 1700. 1702. 1704. 1705.   nan]\n"
     ]
    }
   ],
   "source": [
    "info(data_temp)"
   ]
  },
  {
   "cell_type": "code",
   "execution_count": 22,
   "metadata": {},
   "outputs": [
    {
     "data": {
      "text/plain": [
       "3216"
      ]
     },
     "execution_count": 22,
     "metadata": {},
     "output_type": "execute_result"
    }
   ],
   "source": [
    "len(data_temp['key'].unique())"
   ]
  },
  {
   "cell_type": "code",
   "execution_count": 23,
   "metadata": {},
   "outputs": [
    {
     "data": {
      "text/plain": [
       "count    13006.000000\n",
       "mean      1591.840920\n",
       "std         21.375851\n",
       "min       1191.000000\n",
       "25%       1581.000000\n",
       "50%       1591.000000\n",
       "75%       1601.000000\n",
       "max       1705.000000\n",
       "Name: Температура, dtype: float64"
      ]
     },
     "execution_count": 23,
     "metadata": {},
     "output_type": "execute_result"
    },
    {
     "data": {
      "image/png": "[encoded data removed]",
      "text/plain": [
       "<Figure size 720x360 with 1 Axes>"
      ]
     },
     "metadata": {
      "needs_background": "light"
     },
     "output_type": "display_data"
    }
   ],
   "source": [
    "data_temp['Температура'].hist(bins=100, figsize=(10,5))\n",
    "data_temp['Температура'].describe()"
   ]
  },
  {
   "cell_type": "markdown",
   "metadata": {},
   "source": [
    "### Данные о проволочных материалах (объём)"
   ]
  },
  {
   "cell_type": "code",
   "execution_count": 24,
   "metadata": {},
   "outputs": [
    {
     "name": "stdout",
     "output_type": "stream",
     "text": [
      "<class 'pandas.core.frame.DataFrame'>\n",
      "RangeIndex: 3081 entries, 0 to 3080\n",
      "Data columns (total 10 columns):\n",
      " #   Column  Non-Null Count  Dtype  \n",
      "---  ------  --------------  -----  \n",
      " 0   key     3081 non-null   int64  \n",
      " 1   Wire 1  3055 non-null   float64\n",
      " 2   Wire 2  1079 non-null   float64\n",
      " 3   Wire 3  63 non-null     float64\n",
      " 4   Wire 4  14 non-null     float64\n",
      " 5   Wire 5  1 non-null      float64\n",
      " 6   Wire 6  73 non-null     float64\n",
      " 7   Wire 7  11 non-null     float64\n",
      " 8   Wire 8  19 non-null     float64\n",
      " 9   Wire 9  29 non-null     float64\n",
      "dtypes: float64(9), int64(1)\n",
      "memory usage: 240.8 KB\n"
     ]
    }
   ],
   "source": [
    "data_wire = pd.read_csv('../final_steel/data_wire.csv')\n",
    "data_wire.info()"
   ]
  },
  {
   "cell_type": "code",
   "execution_count": 25,
   "metadata": {},
   "outputs": [
    {
     "name": "stdout",
     "output_type": "stream",
     "text": [
      "Уникальные значения столбца key\n",
      "[   1    2    3 ... 3239 3240 3241]\n",
      "Уникальные значения столбца Wire 1\n",
      "[  1.9188     2.09664    3.10128  ... 280.987214 330.314424        nan]\n",
      "Уникальные значения столбца Wire 2\n",
      "[3.01600000e-02 6.03200000e-02 9.04800000e-02 9.04800000e-02\n",
      " 1.74720000e-01 5.82400000e-01 1.17624000e+00 1.60160000e+00\n",
      " 2.74456000e+00 3.98112000e+00 4.10176000e+00 4.13192000e+00\n",
      " 5.12720000e+00 7.72096000e+00 8.08288000e+00 8.11304000e+00\n",
      " 8.17336000e+00 8.83688000e+00 9.01784000e+00 9.04800000e+00\n",
      " 9.07816000e+00 9.08544100e+00 9.10832000e+00 9.11456000e+00\n",
      " 9.13848000e+00 9.14368100e+00 9.16864000e+00 9.19880000e+00\n",
      " 9.22896000e+00 9.31944000e+00 9.68136000e+00 1.00432800e+01\n",
      " 1.00734400e+01 1.01036000e+01 1.01337590e+01 1.01337600e+01\n",
      " 1.01639190e+01 1.01940790e+01 1.02242400e+01 1.10385600e+01\n",
      " 1.10687200e+01 1.10988800e+01 1.11238400e+01 1.11290400e+01\n",
      " 1.11592000e+01 1.11893600e+01 1.12195200e+01 1.20338400e+01\n",
      " 1.20848000e+01 1.20941600e+01 1.21243200e+01 1.21430400e+01\n",
      " 1.21544800e+01 1.21721600e+01 1.21846410e+01 1.23760000e+01\n",
      " 1.30894400e+01 1.31196000e+01 1.31799200e+01 1.32100800e+01\n",
      " 1.40244000e+01 1.40358410e+01 1.40649600e+01 1.40847200e+01\n",
      " 1.41450400e+01 1.41752000e+01 1.42053590e+01 1.42355200e+01\n",
      " 1.50196790e+01 1.50259210e+01 1.50498400e+01 1.50800000e+01\n",
      " 1.50841610e+01 1.51101600e+01 1.51132800e+01 1.51403200e+01\n",
      " 1.51424010e+01 1.51704800e+01 1.52006400e+01 1.52308000e+01\n",
      " 1.52609600e+01 1.61033610e+01 1.61054400e+01 1.61355990e+01\n",
      " 1.61657600e+01 1.61959190e+01 1.62562390e+01 1.62864000e+01\n",
      " 1.70705600e+01 1.71007200e+01 1.71225610e+01 1.71308800e+01\n",
      " 1.71610390e+01 1.80356810e+01 1.80658400e+01 1.80960000e+01\n",
      " 1.80960010e+01 1.81126400e+01 1.81261600e+01 1.81417600e+01\n",
      " 1.81563210e+01 1.81708810e+01 1.82769600e+01 1.83071190e+01\n",
      " 1.83372800e+01 1.90309600e+01 1.90912800e+01 1.91214410e+01\n",
      " 1.91318420e+01 1.91516000e+01 1.91900810e+01 2.00865590e+01\n",
      " 2.00928000e+01 2.01167200e+01 2.01468790e+01 2.01510410e+01\n",
      " 2.01770400e+01 2.01770410e+01 2.01801610e+01 2.02071990e+01\n",
      " 2.02373590e+01 2.03548800e+01 2.05389600e+01 2.06294400e+01\n",
      " 2.07199190e+01 2.10818390e+01 2.11120000e+01 2.11421590e+01\n",
      " 2.11702400e+01 2.11723190e+01 2.12024780e+01 2.13231200e+01\n",
      " 2.15945600e+01 2.16548800e+01 2.19564780e+01 2.20771200e+01\n",
      " 2.21072810e+01 2.21374400e+01 2.22279210e+01 2.28612800e+01\n",
      " 2.30120810e+01 2.30339200e+01 2.31025600e+01 2.31327210e+01\n",
      " 2.31504000e+01 2.31628800e+01 2.31930390e+01 2.32232000e+01\n",
      " 2.34946400e+01 2.38263990e+01 2.40978390e+01 2.41280000e+01\n",
      " 2.41581590e+01 2.42184790e+01 2.43994390e+01 2.44296020e+01\n",
      " 2.46105590e+01 2.49724790e+01 2.50327990e+01 2.50432010e+01\n",
      " 2.50629600e+01 2.50931190e+01 2.51014400e+01 2.51232800e+01\n",
      " 2.51305600e+01 2.51534390e+01 2.52137580e+01 2.53344000e+01\n",
      " 2.54852010e+01 2.57264800e+01 2.60884000e+01 2.61185610e+01\n",
      " 2.61206400e+01 2.61487200e+01 2.61497590e+01 2.62090400e+01\n",
      " 2.64804790e+01 2.70233610e+01 2.70836790e+01 2.70836800e+01\n",
      " 2.71741600e+01 2.72646410e+01 2.75360790e+01 2.78075190e+01\n",
      " 2.80789580e+01 2.81008000e+01 2.81091190e+01 2.81299210e+01\n",
      " 2.81392800e+01 2.90908810e+01 2.91345600e+01 2.91647190e+01\n",
      " 2.92853600e+01 3.00092010e+01 3.00227200e+01 3.00393580e+01\n",
      " 3.00518420e+01 3.00695210e+01 3.00996800e+01 3.01100810e+01\n",
      " 3.01298400e+01 3.01298410e+01 3.01600000e+01 3.01901610e+01\n",
      " 3.02203200e+01 3.02504810e+01 3.02806390e+01 3.02806400e+01\n",
      " 3.03107990e+01 3.03108010e+01 3.03409600e+01 3.04314410e+01\n",
      " 3.04616010e+01 3.04917600e+01 3.10648000e+01 3.10949590e+01\n",
      " 3.11584000e+01 3.12155990e+01 3.12759210e+01 3.14267200e+01\n",
      " 3.20299220e+01 3.20600810e+01 3.20902400e+01 3.21484870e+01\n",
      " 3.21505620e+01 3.22711990e+01 3.22712020e+01 3.23315200e+01\n",
      " 3.23616790e+01 3.24979210e+01 3.27537580e+01 3.29045600e+01\n",
      " 3.31759990e+01 3.32363210e+01 3.41712800e+01 3.42617570e+01\n",
      " 3.42919190e+01 3.49252780e+01 3.50459180e+01 3.50604820e+01\n",
      " 3.50760800e+01 3.50760800e+01 3.51062390e+01 3.51187210e+01\n",
      " 3.51363980e+01 3.51478390e+01 3.51665570e+01 3.51967200e+01\n",
      " 3.52872010e+01 3.60713620e+01 3.61618390e+01 3.63428000e+01\n",
      " 3.64031180e+01 3.65237580e+01 3.70666390e+01 3.70967980e+01\n",
      " 3.71269610e+01 3.71571240e+01 3.71872830e+01 3.78268810e+01\n",
      " 3.80920790e+01 3.83219180e+01 3.83635180e+01 3.91476780e+01\n",
      " 3.91778410e+01 3.92381630e+01 3.93286400e+01 3.96604000e+01\n",
      " 3.97810400e+01 4.00223160e+01 4.00400010e+01 4.00524790e+01\n",
      " 4.00691220e+01 4.00826420e+01 4.01128010e+01 4.01429560e+01\n",
      " 4.01429630e+01 4.01731190e+01 4.02032810e+01 4.02032820e+01\n",
      " 4.02635970e+01 4.02635990e+01 4.10779230e+01 4.11080780e+01\n",
      " 4.11382410e+01 4.11684000e+01 4.12588810e+01 4.20732000e+01\n",
      " 4.21033590e+01 4.23144800e+01 4.23446380e+01 4.23747990e+01\n",
      " 4.24351190e+01 4.25256000e+01 4.30102420e+01 4.30975990e+01\n",
      " 4.31287990e+01 4.34304020e+01 4.36716770e+01 4.40637590e+01\n",
      " 4.40939220e+01 4.41240810e+01 4.43050380e+01 4.47875990e+01\n",
      " 4.49384000e+01 4.50590400e+01 4.50891990e+01 4.51068840e+01\n",
      " 4.51193580e+01 4.51359980e+01 4.51495210e+01 4.51796800e+01\n",
      " 4.52098390e+01 4.52399980e+01 4.52701610e+01 4.54812790e+01\n",
      " 4.59336770e+01 4.60543170e+01 4.61749570e+01 4.62051200e+01\n",
      " 4.62956040e+01 4.66793630e+01 4.71452830e+01 4.71702380e+01\n",
      " 4.71702390e+01 4.72004010e+01 4.73512000e+01 4.74115220e+01\n",
      " 4.79543980e+01 4.81353600e+01 4.81353610e+01 4.81655200e+01\n",
      " 4.82861590e+01 4.82861600e+01 4.90380820e+01 4.91004790e+01\n",
      " 5.00052800e+01 5.00052820e+01 5.00354420e+01 5.00655980e+01\n",
      " 5.00957600e+01 5.01259190e+01 5.01446380e+01 5.01560820e+01\n",
      " 5.01862370e+01 5.02164000e+01 5.02465590e+01 5.03193630e+01\n",
      " 5.03671950e+01 5.03672030e+01 5.07291220e+01 5.07561610e+01\n",
      " 5.10307200e+01 5.10910420e+01 5.12720030e+01 5.13021620e+01\n",
      " 5.13323170e+01 5.16640820e+01 5.18148770e+01 5.20561560e+01\n",
      " 5.20956800e+01 5.21466410e+01 5.21768000e+01 5.22069590e+01\n",
      " 5.23275990e+01 5.24160030e+01 5.31117590e+01 5.31720810e+01\n",
      " 5.31731180e+01 5.32022400e+01 5.33228830e+01 5.40467220e+01\n",
      " 5.41371990e+01 5.42276810e+01 5.50118370e+01 5.50721590e+01\n",
      " 5.51023220e+01 5.51241650e+01 5.51324770e+01 5.51626400e+01\n",
      " 5.51928020e+01 5.52832800e+01 5.53435970e+01 5.55848770e+01\n",
      " 5.61277620e+01 5.61579210e+01 5.65198360e+01 5.67912810e+01\n",
      " 5.70928800e+01 5.71230390e+01 5.72499200e+01 5.80579990e+01\n",
      " 5.81183200e+01 5.81484790e+01 5.82389570e+01 5.82389600e+01\n",
      " 5.84199150e+01 5.86611970e+01 5.90532770e+01 5.92040830e+01\n",
      " 5.92342410e+01 5.92643970e+01 5.98374410e+01 6.00485610e+01\n",
      " 6.00787160e+01 6.01036830e+01 6.01088790e+01 6.01390420e+01\n",
      " 6.01619220e+01 6.01691970e+01 6.01692010e+01 6.01993600e+01\n",
      " 6.02295190e+01 6.02492790e+01 6.02492830e+01 6.02596820e+01\n",
      " 6.02898410e+01 6.03200010e+01 6.03501590e+01 6.10740010e+01\n",
      " 6.12247980e+01 6.17978400e+01 6.21899190e+01 6.30947190e+01\n",
      " 6.31321600e+01 6.31852000e+01 6.32486420e+01 6.32756770e+01\n",
      " 6.33661580e+01 6.41503220e+01 6.41513570e+01 6.41804810e+01\n",
      " 6.42407990e+01 6.44519170e+01 6.45881570e+01 6.50249560e+01\n",
      " 6.50551200e+01 6.50551220e+01 6.50852810e+01 6.51154400e+01\n",
      " 6.51154410e+01 6.51455990e+01 6.51757560e+01 6.51757580e+01\n",
      " 6.51996840e+01 6.52059190e+01 6.52579190e+01 6.63821560e+01\n",
      " 6.71059990e+01 6.71215980e+01 6.71964800e+01 6.72380820e+01\n",
      " 6.76187210e+01 6.82520830e+01 6.83727190e+01 6.90965580e+01\n",
      " 6.92172010e+01 6.92172020e+01 6.92775190e+01 6.92775200e+01\n",
      " 6.93378380e+01 7.00616840e+01 7.00627210e+01 7.01220020e+01\n",
      " 7.01521610e+01 7.01823200e+01 7.02124790e+01 7.02426370e+01\n",
      " 7.02727960e+01 7.03331150e+01 7.06648790e+01 7.08458410e+01\n",
      " 7.11172790e+01 7.11474380e+01 7.20220790e+01 7.20823940e+01\n",
      " 7.21125560e+01 7.21427230e+01 7.21728820e+01 7.21884840e+01\n",
      " 7.22030410e+01 7.22332000e+01 7.22633590e+01 7.22758400e+01\n",
      " 7.27459180e+01 7.30776830e+01 7.31983180e+01 7.34094370e+01\n",
      " 7.38015210e+01 7.39221590e+01 7.44348760e+01 7.45555200e+01\n",
      " 7.50380790e+01 7.50682450e+01 7.50983960e+01 7.51285550e+01\n",
      " 7.51296000e+01 7.51587140e+01 7.51587150e+01 7.52491990e+01\n",
      " 7.53043220e+01 7.53095170e+01 7.53095250e+01 7.53396760e+01\n",
      " 7.53698350e+01 7.54000010e+01 7.54301600e+01 7.60936740e+01\n",
      " 7.61539990e+01 7.62361660e+01 7.81144030e+01 7.81747140e+01\n",
      " 7.82953560e+01 7.86874390e+01 8.00446320e+01 8.01049580e+01\n",
      " 8.01351170e+01 8.01652830e+01 8.01964870e+01 8.02557600e+01\n",
      " 8.02859270e+01 8.03160860e+01 8.03462430e+01 8.03764000e+01\n",
      " 8.04065630e+01 8.11605610e+01 8.13415220e+01 8.17034380e+01\n",
      " 8.20955200e+01 8.22057650e+01 8.23368000e+01 8.24876010e+01\n",
      " 8.32416000e+01 8.33123250e+01 8.42150420e+01 8.50012740e+01\n",
      " 8.51115190e+01 8.51416780e+01 8.52019960e+01 8.52623140e+01\n",
      " 8.53226390e+01 8.54131210e+01 8.55035940e+01 8.55639190e+01\n",
      " 8.57448760e+01 8.61068040e+01 8.65155250e+01 8.80370410e+01\n",
      " 8.80973590e+01 8.81275170e+01 8.94243920e+01 9.00577620e+01\n",
      " 9.00879190e+01 9.00879210e+01 9.01180800e+01 9.01264040e+01\n",
      " 9.01482380e+01 9.01482390e+01 9.01783980e+01 9.01846470e+01\n",
      " 9.02085570e+01 9.02387240e+01 9.02688750e+01 9.02720110e+01\n",
      " 9.03011170e+01 9.03302390e+01 9.03593520e+01 9.03895110e+01\n",
      " 9.04196780e+01 9.06308060e+01 9.18371960e+01 9.21086350e+01\n",
      " 9.21991190e+01 9.21991200e+01 9.23499150e+01 9.31340790e+01\n",
      " 9.32848740e+01 9.33150410e+01 9.40991970e+01 9.51547930e+01\n",
      " 9.51849670e+01 9.53056030e+01 9.53659210e+01 9.71151960e+01\n",
      " 9.79898330e+01 9.80501550e+01 9.83673630e+01 9.88343260e+01\n",
      " 9.92263950e+01 9.97089570e+01 9.99107210e+01 1.00040726e+02\n",
      " 1.00101036e+02 1.00251839e+02 1.00282005e+02 1.00289276e+02\n",
      " 1.00312157e+02 1.00312164e+02 1.00402641e+02 1.00674072e+02\n",
      " 1.00764565e+02 1.01156639e+02 1.01247119e+02 1.02182076e+02\n",
      " 1.02182083e+02 1.03177353e+02 1.03207520e+02 1.03358322e+02\n",
      " 1.05137756e+02 1.05167923e+02 1.05288566e+02 1.05318718e+02\n",
      " 1.06258888e+02 1.07460075e+02 1.08123596e+02 1.08153756e+02\n",
      " 1.08153763e+02 1.08244240e+02 1.08425198e+02 1.08515679e+02\n",
      " 1.08696634e+02 1.09360160e+02 1.09462082e+02 1.10084000e+02\n",
      " 1.10174484e+02 1.10295120e+02 1.10355438e+02 1.10385599e+02\n",
      " 1.11049118e+02 1.11296654e+02 1.11411034e+02 1.14879433e+02\n",
      " 1.14907524e+02 1.15090560e+02 1.15211197e+02 1.15301681e+02\n",
      " 1.15301682e+02 1.15331833e+02 1.17149767e+02 1.17322395e+02\n",
      " 1.17382725e+02 1.17835120e+02 1.18136719e+02 1.18257354e+02\n",
      " 1.18528805e+02 1.20097122e+02 1.20157432e+02 1.20187599e+02\n",
      " 1.20368553e+02 1.21213043e+02 1.23233764e+02 1.23233765e+02\n",
      " 1.24289360e+02 1.24741764e+02 1.25163997e+02 1.25194160e+02\n",
      " 1.25254471e+02 1.27908561e+02 1.28692722e+02 1.28903839e+02\n",
      " 1.28994324e+02 1.29326080e+02 1.30110245e+02 1.30200714e+02\n",
      " 1.31195999e+02 1.31346802e+02 1.31376957e+02 1.32100800e+02\n",
      " 1.33096076e+02 1.33277046e+02 1.33367524e+02 1.34242157e+02\n",
      " 1.35267593e+02 1.35267593e+02 1.35358078e+02 1.35388229e+02\n",
      " 1.36293045e+02 1.40213837e+02 1.40274154e+02 1.42958401e+02\n",
      " 1.44289596e+02 1.48176082e+02 1.48930079e+02 1.50106322e+02\n",
      " 1.50257128e+02 1.50287293e+02 1.50377756e+02 1.50407913e+02\n",
      " 1.53333448e+02 1.55293831e+02 1.56138321e+02 1.59063842e+02\n",
      " 1.59335282e+02 1.60330566e+02 1.60511520e+02 1.61356003e+02\n",
      " 1.70283356e+02 1.70886566e+02 1.71550073e+02 1.75501037e+02\n",
      " 1.78124955e+02 1.80236161e+02 1.85122086e+02 1.88228550e+02\n",
      " 1.88258724e+02 1.95225677e+02 1.98452789e+02 2.10245362e+02\n",
      " 2.15432892e+02 2.19866410e+02 2.20348953e+02 2.31568481e+02\n",
      " 2.82780152e+02            nan]\n",
      "Уникальные значения столбца Wire 3\n",
      "[1.44144000e-01 5.28528000e-01 9.60960000e-01 8.86485670e+01\n",
      " 9.01380540e+01 9.30689770e+01 9.31170270e+01 9.31650770e+01\n",
      " 9.32131270e+01 9.41260380e+01 9.49908980e+01 9.52791900e+01\n",
      " 9.53752820e+01 9.60479510e+01 9.60960010e+01 9.61921010e+01\n",
      " 9.62401500e+01 9.62881930e+01 9.70089110e+01 1.00180092e+02\n",
      " 1.98678491e+02 2.03627441e+02 2.31014801e+02 2.31110901e+02\n",
      " 2.31495285e+02 2.31591369e+02 2.35194977e+02 2.36972740e+02\n",
      " 2.40143906e+02 2.40240005e+02 2.44468246e+02 2.50041794e+02\n",
      " 2.50137894e+02 2.50185944e+02 2.54077850e+02 2.54462219e+02\n",
      " 2.60083832e+02 2.60131897e+02 2.60179932e+02 2.68348081e+02\n",
      " 2.76179963e+02 2.76324066e+02 2.77044769e+02 2.77092834e+02\n",
      " 2.78053802e+02 2.78101837e+02 2.79783508e+02 2.80215942e+02\n",
      " 2.82089813e+02 2.83242963e+02 2.85116821e+02 2.88432144e+02\n",
      " 2.93188919e+02 3.09381073e+02 3.27233753e+02 3.85008668e+02\n",
      "            nan]\n",
      "Уникальные значения столбца Wire 4\n",
      "[ 24.148801  25.132641  33.182243  40.069122  43.020641  43.065361\n",
      "  43.244242  47.224323  56.07888   58.046562  82.150638  92.570401\n",
      " 103.034882 113.231044        nan]\n",
      "Уникальные значения столбца Wire 5\n",
      "[15.132    nan]\n",
      "Уникальные значения столбца Wire 6\n",
      "[3.43200000e-02 1.37280000e-01 9.95280000e-01 3.02015700e+00\n",
      " 8.16816000e+00 9.19776100e+00 1.00557600e+01 1.30759210e+01\n",
      " 1.40712000e+01 1.50664820e+01 1.51694410e+01 1.80866410e+01\n",
      " 2.01458420e+01 2.02144810e+01 2.23080030e+01 2.50536000e+01\n",
      " 2.51565590e+01 2.61518420e+01 2.69755230e+01 2.81080820e+01\n",
      " 3.00643230e+01 3.01672820e+01 3.02016030e+01 3.21235240e+01\n",
      " 3.40111240e+01 3.51780010e+01 3.52123220e+01 3.81981620e+01\n",
      " 3.81981620e+01 3.91591220e+01 4.00514410e+01 4.00857620e+01\n",
      " 4.03260010e+01 4.20763240e+01 4.31745610e+01 4.43071250e+01\n",
      " 4.51994440e+01 4.52337570e+01 5.00728840e+01 5.01072010e+01\n",
      " 5.12054410e+01 5.31960030e+01 5.41226430e+01 5.51865650e+01\n",
      " 5.52208820e+01 5.94765660e+01 6.00256840e+01 6.00943220e+01\n",
      " 6.01972810e+01 6.16387250e+01 6.30458450e+01 6.42127230e+01\n",
      " 6.50364000e+01 6.53109670e+01 6.74388000e+01 6.84340870e+01\n",
      " 7.03560110e+01 7.23122480e+01 7.31702470e+01 7.33075260e+01\n",
      " 7.36164070e+01 7.80780020e+01 8.11324920e+01 9.14284870e+01\n",
      " 9.82238470e+01 9.92191220e+01 1.20188644e+02 1.37142731e+02\n",
      " 1.45139283e+02 1.80454575e+02            nan]\n",
      "Уникальные значения столбца Wire 7\n",
      "[ 0.234208  1.053936  5.035472  8.49004   8.490041  9.017009  9.134113\n",
      " 11.417641 12.354473 32.847674       nan]\n",
      "Уникальные значения столбца Wire 8\n",
      "[ 45.076721  45.354401  46.002319  46.094879  46.187439  46.279999\n",
      "  48.001202  48.001203  48.089603  53.652562  68.494405  95.244248\n",
      " 102.762401        nan]\n",
      "Уникальные значения столбца Wire 9\n",
      "[ 4.6228    7.753203 10.01     10.0464   11.3568   15.0696   17.0352\n",
      " 22.058401 23.5508   25.1888   28.0644   30.030001 30.066399 30.1028\n",
      " 35.0168   35.0532   39.967201 42.0784   43.862003 48.193606 53.071201\n",
      " 55.000397 62.0256   63.0448   90.053604       nan]\n"
     ]
    }
   ],
   "source": [
    "info(data_wire)"
   ]
  },
  {
   "cell_type": "code",
   "execution_count": 26,
   "metadata": {},
   "outputs": [
    {
     "name": "stdout",
     "output_type": "stream",
     "text": [
      "key\n"
     ]
    },
    {
     "data": {
      "text/plain": [
       "count    3081.000000\n",
       "mean     1623.426485\n",
       "std       932.996726\n",
       "min         1.000000\n",
       "25%       823.000000\n",
       "50%      1619.000000\n",
       "75%      2434.000000\n",
       "max      3241.000000\n",
       "Name: key, dtype: float64"
      ]
     },
     "metadata": {},
     "output_type": "display_data"
    },
    {
     "name": "stdout",
     "output_type": "stream",
     "text": [
      "Wire 1\n"
     ]
    },
    {
     "data": {
      "text/plain": [
       "count    3055.000000\n",
       "mean      100.895853\n",
       "std        42.012518\n",
       "min         1.918800\n",
       "25%        72.115684\n",
       "50%       100.158234\n",
       "75%       126.060484\n",
       "max       330.314424\n",
       "Name: Wire 1, dtype: float64"
      ]
     },
     "metadata": {},
     "output_type": "display_data"
    },
    {
     "name": "stdout",
     "output_type": "stream",
     "text": [
      "Wire 2\n"
     ]
    },
    {
     "data": {
      "text/plain": [
       "count    1079.000000\n",
       "mean       50.577323\n",
       "std        39.320216\n",
       "min         0.030160\n",
       "25%        20.193680\n",
       "50%        40.142956\n",
       "75%        70.227558\n",
       "max       282.780152\n",
       "Name: Wire 2, dtype: float64"
      ]
     },
     "metadata": {},
     "output_type": "display_data"
    },
    {
     "name": "stdout",
     "output_type": "stream",
     "text": [
      "Wire 3\n"
     ]
    },
    {
     "data": {
      "text/plain": [
       "count     63.000000\n",
       "mean     189.482681\n",
       "std       99.513444\n",
       "min        0.144144\n",
       "25%       95.135044\n",
       "50%      235.194977\n",
       "75%      276.252014\n",
       "max      385.008668\n",
       "Name: Wire 3, dtype: float64"
      ]
     },
     "metadata": {},
     "output_type": "display_data"
    },
    {
     "name": "stdout",
     "output_type": "stream",
     "text": [
      "Wire 4\n"
     ]
    },
    {
     "data": {
      "text/plain": [
       "count     14.000000\n",
       "mean      57.442842\n",
       "std       28.824667\n",
       "min       24.148801\n",
       "25%       40.807002\n",
       "50%       45.234282\n",
       "75%       76.124619\n",
       "max      113.231044\n",
       "Name: Wire 4, dtype: float64"
      ]
     },
     "metadata": {},
     "output_type": "display_data"
    },
    {
     "name": "stdout",
     "output_type": "stream",
     "text": [
      "Wire 5\n"
     ]
    },
    {
     "data": {
      "text/plain": [
       "count     1.000\n",
       "mean     15.132\n",
       "std         NaN\n",
       "min      15.132\n",
       "25%      15.132\n",
       "50%      15.132\n",
       "75%      15.132\n",
       "max      15.132\n",
       "Name: Wire 5, dtype: float64"
      ]
     },
     "metadata": {},
     "output_type": "display_data"
    },
    {
     "name": "stdout",
     "output_type": "stream",
     "text": [
      "Wire 6\n"
     ]
    },
    {
     "data": {
      "text/plain": [
       "count     73.000000\n",
       "mean      48.016974\n",
       "std       33.919845\n",
       "min        0.034320\n",
       "25%       25.053600\n",
       "50%       42.076324\n",
       "75%       64.212723\n",
       "max      180.454575\n",
       "Name: Wire 6, dtype: float64"
      ]
     },
     "metadata": {},
     "output_type": "display_data"
    },
    {
     "name": "stdout",
     "output_type": "stream",
     "text": [
      "Wire 7\n"
     ]
    },
    {
     "data": {
      "text/plain": [
       "count    11.000000\n",
       "mean     10.039007\n",
       "std       8.610584\n",
       "min       0.234208\n",
       "25%       6.762756\n",
       "50%       9.017009\n",
       "75%      11.886057\n",
       "max      32.847674\n",
       "Name: Wire 7, dtype: float64"
      ]
     },
     "metadata": {},
     "output_type": "display_data"
    },
    {
     "name": "stdout",
     "output_type": "stream",
     "text": [
      "Wire 8\n"
     ]
    },
    {
     "data": {
      "text/plain": [
       "count     19.000000\n",
       "mean      53.625193\n",
       "std       16.881728\n",
       "min       45.076721\n",
       "25%       46.094879\n",
       "50%       46.279999\n",
       "75%       48.089603\n",
       "max      102.762401\n",
       "Name: Wire 8, dtype: float64"
      ]
     },
     "metadata": {},
     "output_type": "display_data"
    },
    {
     "name": "stdout",
     "output_type": "stream",
     "text": [
      "Wire 9\n"
     ]
    },
    {
     "data": {
      "text/plain": [
       "count    29.000000\n",
       "mean     34.155752\n",
       "std      19.931616\n",
       "min       4.622800\n",
       "25%      22.058401\n",
       "50%      30.066399\n",
       "75%      43.862003\n",
       "max      90.053604\n",
       "Name: Wire 9, dtype: float64"
      ]
     },
     "metadata": {},
     "output_type": "display_data"
    }
   ],
   "source": [
    "for column in data_wire.columns:\n",
    "    print(column)\n",
    "    display(data_wire[column].describe())"
   ]
  },
  {
   "cell_type": "code",
   "execution_count": 27,
   "metadata": {},
   "outputs": [
    {
     "data": {
      "image/png": "[encoded data removed]",
      "text/plain": [
       "<Figure size 1440x1080 with 12 Axes>"
      ]
     },
     "metadata": {
      "needs_background": "light"
     },
     "output_type": "display_data"
    }
   ],
   "source": [
    "data_wire.hist(bins=50, figsize=(20,15), edgecolor='black')\n",
    "plt.show()"
   ]
  },
  {
   "cell_type": "code",
   "execution_count": 28,
   "metadata": {},
   "outputs": [
    {
     "data": {
      "text/plain": [
       "3081"
      ]
     },
     "execution_count": 28,
     "metadata": {},
     "output_type": "execute_result"
    }
   ],
   "source": [
    "len(data_wire['key'].unique())"
   ]
  },
  {
   "cell_type": "markdown",
   "metadata": {},
   "source": [
    "### Данные о проволочных материалах (время)"
   ]
  },
  {
   "cell_type": "code",
   "execution_count": 29,
   "metadata": {},
   "outputs": [
    {
     "name": "stdout",
     "output_type": "stream",
     "text": [
      "<class 'pandas.core.frame.DataFrame'>\n",
      "RangeIndex: 3081 entries, 0 to 3080\n",
      "Data columns (total 10 columns):\n",
      " #   Column  Non-Null Count  Dtype \n",
      "---  ------  --------------  ----- \n",
      " 0   key     3081 non-null   int64 \n",
      " 1   Wire 1  3055 non-null   object\n",
      " 2   Wire 2  1079 non-null   object\n",
      " 3   Wire 3  63 non-null     object\n",
      " 4   Wire 4  14 non-null     object\n",
      " 5   Wire 5  1 non-null      object\n",
      " 6   Wire 6  73 non-null     object\n",
      " 7   Wire 7  11 non-null     object\n",
      " 8   Wire 8  19 non-null     object\n",
      " 9   Wire 9  29 non-null     object\n",
      "dtypes: int64(1), object(9)\n",
      "memory usage: 240.8+ KB\n"
     ]
    }
   ],
   "source": [
    "data_wire_time = pd.read_csv('../final_steel/data_wire_time.csv')\n",
    "data_wire_time.info()"
   ]
  },
  {
   "cell_type": "code",
   "execution_count": 30,
   "metadata": {},
   "outputs": [
    {
     "name": "stdout",
     "output_type": "stream",
     "text": [
      "Уникальные значения столбца key\n",
      "[   1    2    3 ... 3239 3240 3241]\n",
      "Уникальные значения столбца Wire 1\n",
      "['2019-05-03 11:11:41' '2019-05-03 11:46:10' '2019-05-03 12:13:47' ...\n",
      " '2019-09-01 03:12:02' '2019-09-01 04:16:01' nan]\n",
      "Уникальные значения столбца Wire 2\n",
      "['2019-05-03 13:32:06' '2019-05-03 13:59:54' '2019-05-03 15:58:12' ...\n",
      " '2019-08-31 13:14:22' '2019-08-31 18:50:15' nan]\n",
      "Уникальные значения столбца Wire 3\n",
      "['2019-05-04 04:47:53' '2019-05-04 05:40:08' '2019-05-07 08:50:29'\n",
      " '2019-05-07 10:17:14' '2019-05-07 15:50:31' '2019-05-07 16:34:12'\n",
      " '2019-05-07 17:43:23' '2019-05-07 21:58:49' '2019-05-07 22:40:07'\n",
      " '2019-05-07 23:27:46' '2019-05-18 13:04:48' '2019-05-18 13:41:36'\n",
      " '2019-05-18 20:52:18' '2019-05-18 21:49:12' '2019-06-02 20:37:44'\n",
      " '2019-06-08 16:23:31' '2019-06-10 13:19:54' '2019-06-10 14:05:33'\n",
      " '2019-06-10 14:25:42' '2019-06-12 01:29:02' '2019-06-12 20:11:25'\n",
      " '2019-06-12 21:27:01' '2019-07-07 18:33:17' '2019-07-07 19:25:35'\n",
      " '2019-07-07 20:16:17' '2019-07-08 17:20:59' '2019-07-08 18:12:51'\n",
      " '2019-07-15 20:37:37' '2019-07-15 22:01:36' '2019-07-15 22:46:29'\n",
      " '2019-07-17 16:25:00' '2019-07-17 21:35:47' '2019-07-23 08:50:46'\n",
      " '2019-07-23 10:14:46' '2019-07-23 11:25:12' '2019-07-23 11:58:58'\n",
      " '2019-07-23 14:43:41' '2019-07-23 15:42:20' '2019-07-23 18:07:01'\n",
      " '2019-08-06 04:29:47' '2019-08-06 05:10:36' '2019-08-06 08:44:03'\n",
      " '2019-08-06 09:26:10' '2019-08-06 10:25:40' '2019-08-06 16:53:33'\n",
      " '2019-08-08 08:53:54' '2019-08-08 09:44:29' '2019-08-08 10:23:01'\n",
      " '2019-08-08 11:15:53' '2019-08-08 11:58:25' '2019-08-08 14:40:37'\n",
      " '2019-08-08 15:27:54' '2019-08-08 16:21:38' '2019-08-12 15:42:12'\n",
      " '2019-08-12 16:21:14' '2019-08-12 17:07:44' '2019-08-21 02:35:54'\n",
      " '2019-08-21 03:56:27' '2019-08-21 05:05:13' '2019-08-21 05:33:09'\n",
      " '2019-08-27 07:52:00' '2019-08-27 08:50:52' '2019-08-28 02:11:18' nan]\n",
      "Уникальные значения столбца Wire 4\n",
      "['2019-05-07 08:48:23' '2019-05-07 10:14:55' '2019-05-07 16:09:18'\n",
      " '2019-07-17 07:15:28' '2019-07-17 11:25:32' '2019-07-23 08:44:49'\n",
      " '2019-07-23 10:16:15' '2019-07-23 11:12:30' '2019-07-23 11:52:57'\n",
      " '2019-07-23 14:40:29' '2019-07-23 15:42:50' '2019-07-23 18:09:32'\n",
      " '2019-08-08 09:00:26' '2019-08-08 12:03:12' nan]\n",
      "Уникальные значения столбца Wire 5\n",
      "['2019-08-08 16:01:07' nan]\n",
      "Уникальные значения столбца Wire 6\n",
      "['2019-05-07 08:37:20' '2019-05-07 10:06:35' '2019-05-07 11:38:44'\n",
      " '2019-05-07 15:48:13' '2019-05-07 16:29:11' '2019-05-07 17:39:18'\n",
      " '2019-05-07 21:41:02' '2019-05-07 22:26:31' '2019-05-07 23:00:40'\n",
      " '2019-05-08 00:23:48' '2019-05-08 05:41:30' '2019-05-08 06:32:57'\n",
      " '2019-05-08 08:30:38' '2019-05-08 09:20:22' '2019-05-08 10:04:54'\n",
      " '2019-05-08 10:45:26' '2019-05-08 11:36:29' '2019-05-08 12:31:36'\n",
      " '2019-05-08 13:11:38' '2019-05-08 14:12:27' '2019-05-08 15:18:20'\n",
      " '2019-05-08 15:54:38' '2019-05-08 18:10:03' '2019-05-08 18:52:53'\n",
      " '2019-05-08 20:57:55' '2019-07-23 07:26:22' '2019-07-23 08:44:02'\n",
      " '2019-07-23 10:14:47' '2019-07-23 11:12:06' '2019-07-23 11:53:52'\n",
      " '2019-07-23 14:38:11' '2019-07-23 15:37:45' '2019-07-23 18:02:33'\n",
      " '2019-07-23 21:40:34' '2019-07-23 23:44:52' '2019-07-24 00:16:25'\n",
      " '2019-07-24 03:28:47' '2019-07-24 08:52:15' '2019-07-24 13:49:32'\n",
      " '2019-07-24 14:21:38' '2019-07-24 14:53:47' '2019-07-24 17:15:54'\n",
      " '2019-07-25 03:12:12' '2019-07-26 14:29:00' '2019-07-26 17:40:48'\n",
      " '2019-08-08 08:46:56' '2019-08-08 09:35:19' '2019-08-08 10:16:47'\n",
      " '2019-08-08 11:08:50' '2019-08-08 12:03:43' '2019-08-08 14:33:59'\n",
      " '2019-08-08 16:12:14' '2019-08-08 18:02:16' '2019-08-08 19:30:11'\n",
      " '2019-08-08 20:28:45' '2019-08-08 22:02:01' '2019-08-08 22:44:43'\n",
      " '2019-08-08 23:47:40' '2019-08-09 01:06:57' '2019-08-09 03:55:27'\n",
      " '2019-08-09 04:58:12' '2019-08-09 05:37:32' '2019-08-09 10:26:39'\n",
      " '2019-08-09 11:27:25' '2019-08-13 18:02:42' '2019-08-13 19:20:22'\n",
      " '2019-08-13 19:57:19' '2019-08-13 20:30:31' '2019-08-13 21:20:38'\n",
      " '2019-08-13 21:47:52' '2019-08-13 22:42:00' '2019-08-14 00:04:33'\n",
      " '2019-08-14 00:59:11' nan]\n",
      "Уникальные значения столбца Wire 7\n",
      "['2019-07-23 12:08:44' '2019-07-23 12:42:00' '2019-07-23 19:16:46'\n",
      " '2019-07-23 19:46:16' '2019-08-08 10:01:56' '2019-08-08 10:43:30'\n",
      " '2019-08-08 11:23:43' '2019-08-08 12:21:19' '2019-08-08 13:05:02'\n",
      " '2019-08-08 16:45:44' '2019-08-08 18:27:34' nan]\n",
      "Уникальные значения столбца Wire 8\n",
      "['2019-05-14 00:03:32' '2019-05-14 00:36:39' '2019-05-14 01:08:35'\n",
      " '2019-05-14 01:44:34' '2019-05-14 02:21:43' '2019-05-14 02:50:24'\n",
      " '2019-05-14 03:29:28' '2019-05-14 03:59:47' '2019-05-14 04:37:08'\n",
      " '2019-05-14 05:14:25' '2019-07-05 17:34:22' '2019-07-18 17:36:23'\n",
      " '2019-07-18 18:58:07' '2019-08-11 11:12:56' '2019-08-11 12:13:47'\n",
      " '2019-08-11 13:20:31' '2019-08-11 13:54:30' '2019-08-11 14:33:40'\n",
      " '2019-08-11 15:09:29' nan]\n",
      "Уникальные значения столбца Wire 9\n",
      "['2019-05-04 16:09:11' '2019-06-01 02:25:26' '2019-06-01 04:57:26'\n",
      " '2019-06-01 05:45:01' '2019-06-01 07:26:42' '2019-06-01 09:54:01'\n",
      " '2019-06-07 14:29:39' '2019-06-07 20:28:19' '2019-06-07 21:03:47'\n",
      " '2019-06-07 21:42:24' '2019-06-07 22:47:35' '2019-06-07 23:25:28'\n",
      " '2019-06-07 23:59:16' '2019-06-09 08:20:14' '2019-06-09 10:26:00'\n",
      " '2019-07-02 05:22:29' '2019-07-02 06:41:51' '2019-07-02 08:17:45'\n",
      " '2019-07-02 12:29:04' '2019-07-02 13:04:13' '2019-08-04 19:49:15'\n",
      " '2019-08-04 20:48:59' '2019-08-04 22:04:50' '2019-08-04 23:15:18'\n",
      " '2019-08-05 00:21:11' '2019-08-05 01:13:57' '2019-08-05 02:48:39'\n",
      " '2019-08-05 04:16:10' '2019-08-29 03:51:31' nan]\n"
     ]
    }
   ],
   "source": [
    "info(data_wire_time)"
   ]
  },
  {
   "cell_type": "code",
   "execution_count": 31,
   "metadata": {},
   "outputs": [
    {
     "data": {
      "text/plain": [
       "3081"
      ]
     },
     "execution_count": 31,
     "metadata": {},
     "output_type": "execute_result"
    }
   ],
   "source": [
    "len(data_wire_time['key'].unique())"
   ]
  },
  {
   "cell_type": "markdown",
   "metadata": {},
   "source": [
    "### Вывод:\n",
    "\n",
    "1. Нужно изменить тип данных в столбцах таблице data_bulk с float на int, в столбцах даты на datetime, в столбцах температуры так же изменить на int;\n",
    "2. Название столбцов изменить на английский;\n",
    "3. Есть пропуски в значениях. Возможно ошибка в данных, либо отсутсвие выполнения действий на этапе обработки.\n",
    "4. У каждой таблицы разное количество партий(key). Это связанно с тем, что некоторые этапы обработки могут повторяться, таким образом увеличивается кол-во партий.\n",
    "5. В таблице data_arc есть аномально значени в столбце \"Реактивная мощность\" отрицательное значение."
   ]
  },
  {
   "cell_type": "markdown",
   "metadata": {},
   "source": [
    "## Подготовка данных"
   ]
  },
  {
   "cell_type": "markdown",
   "metadata": {},
   "source": [
    "1. Найдем суммы значений активной и реактивной мощности\n",
    "2. Cоздадим новую таблицу из первого и последнего замера температуры\n",
    "3. Значения столбца key переведем в индексы датафреймов.\n",
    "4. Заполним nan значения 0 для таблиц data_bulk и data_wire.\n",
    "5. Приведем типы данных для ускорения работы.\n",
    "6. Разобьем данные на train/test в соотношении 75/25."
   ]
  },
  {
   "cell_type": "markdown",
   "metadata": {},
   "source": [
    "Составим из таблицы data_arc сгрупированную таблицу data_arc_sum по key для дальнейшего объединения данных."
   ]
  },
  {
   "cell_type": "code",
   "execution_count": 32,
   "metadata": {},
   "outputs": [
    {
     "data": {
      "text/html": [
       "<div>\n",
       "<style scoped>\n",
       "    .dataframe tbody tr th:only-of-type {\n",
       "        vertical-align: middle;\n",
       "    }\n",
       "\n",
       "    .dataframe tbody tr th {\n",
       "        vertical-align: top;\n",
       "    }\n",
       "\n",
       "    .dataframe thead th {\n",
       "        text-align: right;\n",
       "    }\n",
       "</style>\n",
       "<table border=\"1\" class=\"dataframe\">\n",
       "  <thead>\n",
       "    <tr style=\"text-align: right;\">\n",
       "      <th></th>\n",
       "      <th>sum_active_power</th>\n",
       "      <th>sum_reactive_power</th>\n",
       "    </tr>\n",
       "    <tr>\n",
       "      <th>key</th>\n",
       "      <th></th>\n",
       "      <th></th>\n",
       "    </tr>\n",
       "  </thead>\n",
       "  <tbody>\n",
       "    <tr>\n",
       "      <th>1</th>\n",
       "      <td>4.878147</td>\n",
       "      <td>3.183241</td>\n",
       "    </tr>\n",
       "    <tr>\n",
       "      <th>2</th>\n",
       "      <td>3.052598</td>\n",
       "      <td>1.998112</td>\n",
       "    </tr>\n",
       "    <tr>\n",
       "      <th>3</th>\n",
       "      <td>2.525882</td>\n",
       "      <td>1.599076</td>\n",
       "    </tr>\n",
       "    <tr>\n",
       "      <th>4</th>\n",
       "      <td>3.209250</td>\n",
       "      <td>2.060298</td>\n",
       "    </tr>\n",
       "    <tr>\n",
       "      <th>5</th>\n",
       "      <td>3.347173</td>\n",
       "      <td>2.252643</td>\n",
       "    </tr>\n",
       "  </tbody>\n",
       "</table>\n",
       "</div>"
      ],
      "text/plain": [
       "     sum_active_power  sum_reactive_power\n",
       "key                                      \n",
       "1            4.878147            3.183241\n",
       "2            3.052598            1.998112\n",
       "3            2.525882            1.599076\n",
       "4            3.209250            2.060298\n",
       "5            3.347173            2.252643"
      ]
     },
     "execution_count": 32,
     "metadata": {},
     "output_type": "execute_result"
    }
   ],
   "source": [
    "data_arc.columns = ['key', 'start_time','end_time', 'active_power', 'reactive_power']\n",
    "data_arc = data_arc.query('reactive_power > 0')\n",
    "data_arc_sum = pd.pivot_table(data_arc, index='key',\n",
    "                              values=['active_power', 'reactive_power'], \n",
    "                              aggfunc = {'active_power' : sum,\n",
    "                                         'reactive_power' : sum})\n",
    "data_arc_sum.columns = ['sum_active_power','sum_reactive_power']\n",
    "data_arc_sum.head()"
   ]
  },
  {
   "cell_type": "markdown",
   "metadata": {},
   "source": [
    "Удалим партии, где нет значения последней температуры и где есть только одно измерение температуры:"
   ]
  },
  {
   "cell_type": "code",
   "execution_count": 33,
   "metadata": {},
   "outputs": [
    {
     "name": "stdout",
     "output_type": "stream",
     "text": [
      "[11, 38, 43, 51, 64, 69, 73, 81, 177, 179, 180, 182, 185, 195, 213, 216, 220, 222, 267, 271, 279, 293, 296, 297, 321, 325, 326, 444, 445, 448, 453, 456, 470, 471, 472, 491, 535, 562, 586, 587, 588, 590, 592, 593, 596, 616, 638, 641, 704, 731, 733, 741, 757, 786, 869, 870, 874, 878, 928, 929, 932, 934, 997, 1057, 1060, 1152, 1153, 1161, 1232, 1313, 1316, 1341, 1371, 1381, 1402, 1433, 1458, 1461, 1464, 1493, 1505, 1558, 1578, 1618, 1622, 1623, 1624, 1639, 1657, 1683, 1685, 1712, 1713, 1720, 1724, 1811, 1813, 1837, 1872, 1873, 1876, 1946, 1949, 1964, 1966, 1987, 1989, 1990, 1992, 1993, 1994, 2053, 2078, 2138, 2140, 2142, 2143, 2152, 2211, 2221, 2261, 2263, 2265, 2300, 2303, 2389, 2390, 2393, 2398, 2425, 2427, 2451, 2457, 2522, 2540, 2543, 2544, 2572, 2601, 2604, 2606, 2667, 2670, 2671, 2695, 2698, 2736, 2743, 2787, 2808, 2809, 2814, 2838, 2842, 2843, 2862, 2898, 2951, 2960, 2988, 3044, 3047, 3146, 3153, 3156, 3187, 3204, 3209, 3211, 3212, 3216] 171\n"
     ]
    }
   ],
   "source": [
    "bad_keys = []\n",
    "for key in list(data_temp['key'].unique()):\n",
    "    try:\n",
    "        if ((data_temp[data_temp['key'] == key]['Время замера'].max() < \n",
    "            data_arc[data_arc['key'] == key]['end_time'].max()) or\n",
    "           (data_temp[data_temp['key'] == key]['Время замера'].max() == \n",
    "            data_temp[data_temp['key'] == key]['Время замера'].min())):\n",
    "            bad_keys.append(key)\n",
    "    except:\n",
    "        bad_keys.append(key)\n",
    "print(bad_keys, len(bad_keys))"
   ]
  },
  {
   "cell_type": "markdown",
   "metadata": {},
   "source": [
    "Оставим партии, где нет ошибок и удалим все пропуски"
   ]
  },
  {
   "cell_type": "code",
   "execution_count": 34,
   "metadata": {},
   "outputs": [
    {
     "name": "stdout",
     "output_type": "stream",
     "text": [
      "<class 'pandas.core.frame.DataFrame'>\n",
      "Int64Index: 12381 entries, 0 to 15902\n",
      "Data columns (total 3 columns):\n",
      " #   Column        Non-Null Count  Dtype  \n",
      "---  ------        --------------  -----  \n",
      " 0   key           12381 non-null  int64  \n",
      " 1   Время замера  12381 non-null  object \n",
      " 2   Температура   12381 non-null  float64\n",
      "dtypes: float64(1), int64(1), object(1)\n",
      "memory usage: 386.9+ KB\n"
     ]
    }
   ],
   "source": [
    "data_temp = data_temp.query('key != @bad_keys')\n",
    "data_temp = data_temp.dropna()\n",
    "data_temp.info()"
   ]
  },
  {
   "cell_type": "code",
   "execution_count": 35,
   "metadata": {},
   "outputs": [
    {
     "data": {
      "text/plain": [
       "1214    16\n",
       "44      16\n",
       "1513    16\n",
       "46      16\n",
       "1689    15\n",
       "        ..\n",
       "1211     2\n",
       "1801     2\n",
       "151      2\n",
       "1836     2\n",
       "1736     2\n",
       "Name: key, Length: 2344, dtype: int64"
      ]
     },
     "execution_count": 35,
     "metadata": {},
     "output_type": "execute_result"
    }
   ],
   "source": [
    "count_of_bad_keys = (data_temp['key'].value_counts() < 2).sum() \n",
    "good_keys = list(data_temp['key'].value_counts().index[:-count_of_bad_keys])\n",
    "data_temp = data_temp.query('key in @good_keys')\n",
    "data_temp['key'].value_counts()"
   ]
  },
  {
   "cell_type": "markdown",
   "metadata": {},
   "source": [
    "Создадим таблицу с временем начального и конечного измерения температуры"
   ]
  },
  {
   "cell_type": "code",
   "execution_count": 36,
   "metadata": {},
   "outputs": [
    {
     "data": {
      "text/html": [
       "<div>\n",
       "<style scoped>\n",
       "    .dataframe tbody tr th:only-of-type {\n",
       "        vertical-align: middle;\n",
       "    }\n",
       "\n",
       "    .dataframe tbody tr th {\n",
       "        vertical-align: top;\n",
       "    }\n",
       "\n",
       "    .dataframe thead th {\n",
       "        text-align: right;\n",
       "    }\n",
       "</style>\n",
       "<table border=\"1\" class=\"dataframe\">\n",
       "  <thead>\n",
       "    <tr style=\"text-align: right;\">\n",
       "      <th></th>\n",
       "      <th>amax</th>\n",
       "      <th>amin</th>\n",
       "    </tr>\n",
       "    <tr>\n",
       "      <th>key</th>\n",
       "      <th></th>\n",
       "      <th></th>\n",
       "    </tr>\n",
       "  </thead>\n",
       "  <tbody>\n",
       "    <tr>\n",
       "      <th>1</th>\n",
       "      <td>2019-05-03 11:30:39</td>\n",
       "      <td>2019-05-03 11:16:18</td>\n",
       "    </tr>\n",
       "    <tr>\n",
       "      <th>2</th>\n",
       "      <td>2019-05-03 11:59:12</td>\n",
       "      <td>2019-05-03 11:37:27</td>\n",
       "    </tr>\n",
       "    <tr>\n",
       "      <th>3</th>\n",
       "      <td>2019-05-03 12:34:57</td>\n",
       "      <td>2019-05-03 12:13:17</td>\n",
       "    </tr>\n",
       "    <tr>\n",
       "      <th>4</th>\n",
       "      <td>2019-05-03 12:59:25</td>\n",
       "      <td>2019-05-03 12:52:57</td>\n",
       "    </tr>\n",
       "    <tr>\n",
       "      <th>5</th>\n",
       "      <td>2019-05-03 13:36:01</td>\n",
       "      <td>2019-05-03 13:23:19</td>\n",
       "    </tr>\n",
       "  </tbody>\n",
       "</table>\n",
       "</div>"
      ],
      "text/plain": [
       "                    amax                 amin\n",
       "key                                          \n",
       "1    2019-05-03 11:30:39  2019-05-03 11:16:18\n",
       "2    2019-05-03 11:59:12  2019-05-03 11:37:27\n",
       "3    2019-05-03 12:34:57  2019-05-03 12:13:17\n",
       "4    2019-05-03 12:59:25  2019-05-03 12:52:57\n",
       "5    2019-05-03 13:36:01  2019-05-03 13:23:19"
      ]
     },
     "execution_count": 36,
     "metadata": {},
     "output_type": "execute_result"
    }
   ],
   "source": [
    "data_temp.columns = ['key', 'time','temp']\n",
    "data_temp_pt = pd.pivot_table(data_temp, \n",
    "                              values='time',\n",
    "                              index='key',\n",
    "                              aggfunc={'time': [np.min, np.max]})\n",
    "data_temp_pt.head()"
   ]
  },
  {
   "cell_type": "markdown",
   "metadata": {},
   "source": [
    "Теперь сформируем данные на основе времени и сохраним их в data_temp_final."
   ]
  },
  {
   "cell_type": "code",
   "execution_count": 37,
   "metadata": {},
   "outputs": [
    {
     "data": {
      "text/html": [
       "<div>\n",
       "<style scoped>\n",
       "    .dataframe tbody tr th:only-of-type {\n",
       "        vertical-align: middle;\n",
       "    }\n",
       "\n",
       "    .dataframe tbody tr th {\n",
       "        vertical-align: top;\n",
       "    }\n",
       "\n",
       "    .dataframe thead th {\n",
       "        text-align: right;\n",
       "    }\n",
       "</style>\n",
       "<table border=\"1\" class=\"dataframe\">\n",
       "  <thead>\n",
       "    <tr style=\"text-align: right;\">\n",
       "      <th></th>\n",
       "      <th>start_temp</th>\n",
       "      <th>end_temp</th>\n",
       "    </tr>\n",
       "    <tr>\n",
       "      <th>key</th>\n",
       "      <th></th>\n",
       "      <th></th>\n",
       "    </tr>\n",
       "  </thead>\n",
       "  <tbody>\n",
       "    <tr>\n",
       "      <th>1</th>\n",
       "      <td>1571.0</td>\n",
       "      <td>1613.0</td>\n",
       "    </tr>\n",
       "    <tr>\n",
       "      <th>2</th>\n",
       "      <td>1581.0</td>\n",
       "      <td>1602.0</td>\n",
       "    </tr>\n",
       "    <tr>\n",
       "      <th>3</th>\n",
       "      <td>1596.0</td>\n",
       "      <td>1599.0</td>\n",
       "    </tr>\n",
       "    <tr>\n",
       "      <th>4</th>\n",
       "      <td>1601.0</td>\n",
       "      <td>1625.0</td>\n",
       "    </tr>\n",
       "    <tr>\n",
       "      <th>5</th>\n",
       "      <td>1576.0</td>\n",
       "      <td>1602.0</td>\n",
       "    </tr>\n",
       "  </tbody>\n",
       "</table>\n",
       "</div>"
      ],
      "text/plain": [
       "     start_temp  end_temp\n",
       "key                      \n",
       "1        1571.0    1613.0\n",
       "2        1581.0    1602.0\n",
       "3        1596.0    1599.0\n",
       "4        1601.0    1625.0\n",
       "5        1576.0    1602.0"
      ]
     },
     "execution_count": 37,
     "metadata": {},
     "output_type": "execute_result"
    }
   ],
   "source": [
    "start_time_list = list(data_temp_pt['amin'])\n",
    "end_time_list = list(data_temp_pt['amax'])\n",
    "data_temp_start = data_temp.query('time == @start_time_list').set_index('key')\n",
    "data_temp_end = data_temp.query('time == @end_time_list').set_index('key')\n",
    "data_temp_final = data_temp_start.copy()\n",
    "data_temp_final.columns = ['time','start_temp']\n",
    "data_temp_final['end_temp'] = data_temp_end['temp']\n",
    "data_temp_final = data_temp_final.drop('time', axis=1)\n",
    "data_temp_final.head()"
   ]
  },
  {
   "cell_type": "markdown",
   "metadata": {},
   "source": [
    "Для объединения нам потребуются датафреймы data_arc_sum, data_temp_final, data_bulk, data_gas и data_wire. В каждой таблице преобразуем index в значение столбца key."
   ]
  },
  {
   "cell_type": "code",
   "execution_count": 38,
   "metadata": {},
   "outputs": [],
   "source": [
    "data_bulk = data_bulk.set_index('key')\n",
    "data_bulk.columns = [f'bulk_{x}' for x in range(1,16)]\n",
    "data_gas = data_gas.set_index('key')\n",
    "data_gas.columns = ['gas']\n",
    "data_wire = data_wire.set_index('key')\n",
    "data_wire.columns = [f'wire_{x}' for x in range(1,10)]"
   ]
  },
  {
   "cell_type": "markdown",
   "metadata": {},
   "source": [
    "Будем предсказывать целевой признак - end_temp. Удалим партии, где нет информации о температуре. Столбец wire_5 удалим из-за отсуствия информации во всех запясях."
   ]
  },
  {
   "cell_type": "code",
   "execution_count": 39,
   "metadata": {},
   "outputs": [
    {
     "name": "stdout",
     "output_type": "stream",
     "text": [
      "<class 'pandas.core.frame.DataFrame'>\n",
      "Int64Index: 2344 entries, 1 to 2499\n",
      "Data columns (total 29 columns):\n",
      " #   Column              Non-Null Count  Dtype  \n",
      "---  ------              --------------  -----  \n",
      " 0   sum_active_power    2344 non-null   float64\n",
      " 1   sum_reactive_power  2344 non-null   float64\n",
      " 2   start_temp          2344 non-null   float64\n",
      " 3   end_temp            2344 non-null   float64\n",
      " 4   bulk_1              189 non-null    float64\n",
      " 5   bulk_2              13 non-null     float64\n",
      " 6   bulk_3              931 non-null    float64\n",
      " 7   bulk_4              758 non-null    float64\n",
      " 8   bulk_5              53 non-null     float64\n",
      " 9   bulk_6              433 non-null    float64\n",
      " 10  bulk_7              13 non-null     float64\n",
      " 11  bulk_8              1 non-null      float64\n",
      " 12  bulk_9              13 non-null     float64\n",
      " 13  bulk_10             130 non-null    float64\n",
      " 14  bulk_11             124 non-null    float64\n",
      " 15  bulk_12             1797 non-null   float64\n",
      " 16  bulk_13             13 non-null     float64\n",
      " 17  bulk_14             2043 non-null   float64\n",
      " 18  bulk_15             1633 non-null   float64\n",
      " 19  gas                 2342 non-null   float64\n",
      " 20  wire_1              2227 non-null   float64\n",
      " 21  wire_2              797 non-null    float64\n",
      " 22  wire_3              39 non-null     float64\n",
      " 23  wire_4              12 non-null     float64\n",
      " 24  wire_5              0 non-null      float64\n",
      " 25  wire_6              45 non-null     float64\n",
      " 26  wire_7              4 non-null      float64\n",
      " 27  wire_8              13 non-null     float64\n",
      " 28  wire_9              26 non-null     float64\n",
      "dtypes: float64(29)\n",
      "memory usage: 549.4 KB\n"
     ]
    }
   ],
   "source": [
    "data_steel = pd.concat([data_arc_sum, data_temp_final, data_bulk, data_gas, data_wire], axis=1, sort=False)\n",
    "data_steel = data_steel.dropna(subset=['end_temp'])\n",
    "data_steel.info()\n",
    "data_steel = data_steel.drop('wire_5',axis=1)"
   ]
  },
  {
   "cell_type": "markdown",
   "metadata": {},
   "source": [
    "Приведем типы столбцов start_temp, end_temp и bulk к целому типу int, так как там храняться только целые числа. Заранее во все NaN разместим значения 0."
   ]
  },
  {
   "cell_type": "code",
   "execution_count": 40,
   "metadata": {},
   "outputs": [
    {
     "name": "stdout",
     "output_type": "stream",
     "text": [
      "<class 'pandas.core.frame.DataFrame'>\n",
      "Int64Index: 2344 entries, 1 to 2499\n",
      "Data columns (total 28 columns):\n",
      " #   Column              Non-Null Count  Dtype  \n",
      "---  ------              --------------  -----  \n",
      " 0   sum_active_power    2344 non-null   float64\n",
      " 1   sum_reactive_power  2344 non-null   float64\n",
      " 2   start_temp          2344 non-null   int16  \n",
      " 3   end_temp            2344 non-null   int16  \n",
      " 4   bulk_1              2344 non-null   int16  \n",
      " 5   bulk_2              2344 non-null   int16  \n",
      " 6   bulk_3              2344 non-null   int16  \n",
      " 7   bulk_4              2344 non-null   int16  \n",
      " 8   bulk_5              2344 non-null   int16  \n",
      " 9   bulk_6              2344 non-null   int16  \n",
      " 10  bulk_7              2344 non-null   int16  \n",
      " 11  bulk_8              2344 non-null   int16  \n",
      " 12  bulk_9              2344 non-null   int16  \n",
      " 13  bulk_10             2344 non-null   int16  \n",
      " 14  bulk_11             2344 non-null   int16  \n",
      " 15  bulk_12             2344 non-null   int16  \n",
      " 16  bulk_13             2344 non-null   int16  \n",
      " 17  bulk_14             2344 non-null   int16  \n",
      " 18  bulk_15             2344 non-null   int16  \n",
      " 19  gas                 2344 non-null   float64\n",
      " 20  wire_1              2344 non-null   float64\n",
      " 21  wire_2              2344 non-null   float64\n",
      " 22  wire_3              2344 non-null   float64\n",
      " 23  wire_4              2344 non-null   float64\n",
      " 24  wire_6              2344 non-null   float64\n",
      " 25  wire_7              2344 non-null   float64\n",
      " 26  wire_8              2344 non-null   float64\n",
      " 27  wire_9              2344 non-null   float64\n",
      "dtypes: float64(11), int16(17)\n",
      "memory usage: 297.6 KB\n"
     ]
    }
   ],
   "source": [
    "data_steel = data_steel.fillna(0)\n",
    "data_steel['start_temp'] = data_steel['start_temp'].astype('int16')\n",
    "data_steel['end_temp'] = data_steel['end_temp'].astype('int16')\n",
    "for i in range(1,16):\n",
    "    data_steel[f'bulk_{i}'] = data_steel[f'bulk_{i}'].astype('int16')\n",
    "data_steel.info()"
   ]
  },
  {
   "cell_type": "code",
   "execution_count": 41,
   "metadata": {},
   "outputs": [
    {
     "data": {
      "image/png": "[encoded data removed]",
      "text/plain": [
       "<Figure size 1152x720 with 1 Axes>"
      ]
     },
     "metadata": {
      "needs_background": "light"
     },
     "output_type": "display_data"
    }
   ],
   "source": [
    "data_steel.boxplot(column=['sum_active_power','sum_reactive_power'], figsize=(16,10))\n",
    "plt.show()"
   ]
  },
  {
   "cell_type": "code",
   "execution_count": 42,
   "metadata": {},
   "outputs": [
    {
     "data": {
      "image/png": "[encoded data removed]",
      "text/plain": [
       "<Figure size 1152x720 with 1 Axes>"
      ]
     },
     "metadata": {
      "needs_background": "light"
     },
     "output_type": "display_data"
    }
   ],
   "source": [
    "data_steel.boxplot(column=['start_temp','end_temp'], figsize=(16,10))\n",
    "plt.show()"
   ]
  },
  {
   "cell_type": "markdown",
   "metadata": {},
   "source": [
    "Выполним оценку мультиколлинеарности и посмотрим зависимости между признаками."
   ]
  },
  {
   "cell_type": "code",
   "execution_count": 43,
   "metadata": {},
   "outputs": [
    {
     "data": {
      "image/png": "[encoded data removed]",
      "text/plain": [
       "<Figure size 1440x1440 with 2 Axes>"
      ]
     },
     "metadata": {
      "needs_background": "light"
     },
     "output_type": "display_data"
    }
   ],
   "source": [
    "plt.figure(figsize=(20, 20))\n",
    "heatmap = sns.heatmap(data_steel.corr(), vmin=-1, vmax=1, annot=True)\n",
    "heatmap.set_title('Correlation Heatmap', fontdict={'fontsize':12}, pad=12)\n",
    "plt.show()"
   ]
  },
  {
   "cell_type": "markdown",
   "metadata": {},
   "source": [
    "На графике heatmap видно, что есть сильные зависимости между sum_active_power и sum_reactive_power, bulk_9 и wire_8. Так как они дублируют по сути друг друга, удалим из обучения sum_reactive_power и wire_8."
   ]
  },
  {
   "cell_type": "code",
   "execution_count": 44,
   "metadata": {},
   "outputs": [],
   "source": [
    "data_steel_knn = data_steel.copy()\n",
    "data_steel_knn = data_steel_knn.drop(['sum_reactive_power', 'wire_8'], axis=1)"
   ]
  },
  {
   "cell_type": "markdown",
   "metadata": {},
   "source": [
    "Посмотрим, какие столбцы влияют на результат end_temp."
   ]
  },
  {
   "cell_type": "code",
   "execution_count": 45,
   "metadata": {},
   "outputs": [
    {
     "data": {
      "text/plain": [
       "sum_active_power    0.247650\n",
       "start_temp          0.366398\n",
       "end_temp            1.000000\n",
       "bulk_1             -0.082638\n",
       "bulk_2             -0.067612\n",
       "bulk_3             -0.088806\n",
       "bulk_4              0.061157\n",
       "bulk_5             -0.034697\n",
       "bulk_6             -0.188054\n",
       "bulk_7             -0.084039\n",
       "bulk_8             -0.021390\n",
       "bulk_9             -0.020254\n",
       "bulk_10             0.018222\n",
       "bulk_11            -0.095105\n",
       "bulk_12             0.180171\n",
       "bulk_13            -0.012884\n",
       "bulk_14             0.017625\n",
       "bulk_15             0.019843\n",
       "gas                -0.025723\n",
       "wire_1             -0.048129\n",
       "wire_2             -0.215639\n",
       "wire_3             -0.048014\n",
       "wire_4             -0.121044\n",
       "wire_6             -0.073452\n",
       "wire_7             -0.100990\n",
       "wire_9             -0.039511\n",
       "Name: end_temp, dtype: float64"
      ]
     },
     "execution_count": 45,
     "metadata": {},
     "output_type": "execute_result"
    }
   ],
   "source": [
    "data_steel_knn.corr()['end_temp']"
   ]
  },
  {
   "cell_type": "markdown",
   "metadata": {},
   "source": [
    "Не все столбцы значимо влияют на данные. Для выявления аномалий возьмем те, чья корреляция больше 10%"
   ]
  },
  {
   "cell_type": "code",
   "execution_count": 46,
   "metadata": {},
   "outputs": [
    {
     "data": {
      "text/plain": [
       "sum_active_power     True\n",
       "start_temp           True\n",
       "end_temp             True\n",
       "bulk_1              False\n",
       "bulk_2              False\n",
       "bulk_3              False\n",
       "bulk_4              False\n",
       "bulk_5              False\n",
       "bulk_6               True\n",
       "bulk_7              False\n",
       "bulk_8              False\n",
       "bulk_9              False\n",
       "bulk_10             False\n",
       "bulk_11             False\n",
       "bulk_12              True\n",
       "bulk_13             False\n",
       "bulk_14             False\n",
       "bulk_15             False\n",
       "gas                 False\n",
       "wire_1              False\n",
       "wire_2               True\n",
       "wire_3              False\n",
       "wire_4               True\n",
       "wire_6              False\n",
       "wire_7               True\n",
       "wire_9              False\n",
       "Name: end_temp, dtype: bool"
      ]
     },
     "execution_count": 46,
     "metadata": {},
     "output_type": "execute_result"
    }
   ],
   "source": [
    "data_steel_knn.corr()['end_temp'].abs() >= 0.1"
   ]
  },
  {
   "cell_type": "code",
   "execution_count": 47,
   "metadata": {},
   "outputs": [
    {
     "name": "stdout",
     "output_type": "stream",
     "text": [
      "Количество аномалий (KNN):  196\n"
     ]
    },
    {
     "data": {
      "text/plain": [
       "(2148, 26)"
      ]
     },
     "execution_count": 47,
     "metadata": {},
     "output_type": "execute_result"
    }
   ],
   "source": [
    "model = KNN()\n",
    "data_steel_have_anomaly = data_steel_knn[['sum_active_power',\n",
    "                                          'start_temp',\n",
    "                                          'end_temp',\n",
    "                                          'bulk_6',\n",
    "                                          'bulk_12',\n",
    "                                          'wire_2',\n",
    "                                          'wire_4',\n",
    "                                          'wire_7']]\n",
    "model.fit(data_steel_have_anomaly)\n",
    "data_steel_have_anomaly['is_outlier'] =  model.predict(data_steel_have_anomaly) == 1\n",
    "outliers_knn = data_steel_have_anomaly['is_outlier'].sum()\n",
    "print(\"Количество аномалий (KNN): \", outliers_knn)\n",
    "\n",
    "outlier_indexes = list(data_steel_have_anomaly[data_steel_have_anomaly['is_outlier'] == 1].index)\n",
    "good_indexes = list(set(data_steel_have_anomaly.index) - set(outlier_indexes))\n",
    "\n",
    "data_steel_new = data_steel_knn.drop(outlier_indexes)\n",
    "data_steel_new.shape"
   ]
  },
  {
   "cell_type": "markdown",
   "metadata": {},
   "source": [
    "### Вывод \n",
    "\n",
    "- удалили партии, где нет значения последней температуры и где есть только одно измерение температуры в таблице data_temp;\n",
    "- пропуски nan заменили на значения 0 для таблиц data_bulk и data_wire;\n",
    "- значения столбца key перевели в индексы;\n",
    "- изменили тип данных в стобцах start_temp, end_temp, bulk_1-15 на int 16, чтобы ускорить процесс работы;\n",
    "- после построения мультиколлинеарности, удалили из обучения sum_reactive_power и wire_8, так как есть сильные зависимости между sum_active_power и sum_reactive_power, bulk_9 и wire_8;\n",
    "- так же выявили количество аномалий с помощью модели KNN и удалили их.\n",
    "\n",
    "Целевым признаком является столбец end_temp."
   ]
  },
  {
   "cell_type": "markdown",
   "metadata": {},
   "source": [
    "## Обучение моделей"
   ]
  },
  {
   "cell_type": "markdown",
   "metadata": {},
   "source": [
    "Выберем модели:\n",
    "- LinearRegression\n",
    "- RandomForestRegressor\n",
    "- CatBoostRegressor\n",
    "- LGBMRegressor\n",
    "- XGBRegressor"
   ]
  },
  {
   "cell_type": "markdown",
   "metadata": {},
   "source": [
    "Для начало разобьем данные на выборки: train - 75%, test - 25%"
   ]
  },
  {
   "cell_type": "code",
   "execution_count": 48,
   "metadata": {},
   "outputs": [],
   "source": [
    "features = data_steel_new.drop('end_temp', axis=1)\n",
    "target = data_steel_new['end_temp']\n",
    "\n",
    "features_train, features_test, target_train, target_test = train_test_split(features,\n",
    "                                                                            target,\n",
    "                                                                            test_size=0.25,\n",
    "                                                                            random_state=12345)"
   ]
  },
  {
   "cell_type": "markdown",
   "metadata": {},
   "source": [
    "### LinearRegression"
   ]
  },
  {
   "cell_type": "code",
   "execution_count": 49,
   "metadata": {},
   "outputs": [
    {
     "name": "stdout",
     "output_type": "stream",
     "text": [
      "Средняя абсолютная ошибка LinearRegression = 7.647884400270082\n",
      "CPU times: user 103 ms, sys: 3.29 ms, total: 106 ms\n",
      "Wall time: 31.7 ms\n"
     ]
    }
   ],
   "source": [
    "%%time\n",
    "\n",
    "model = LinearRegression()\n",
    "cv_mae_lr = (cross_val_score(model, \n",
    "                             features_train, \n",
    "                             target_train, \n",
    "                             cv=5, \n",
    "                             scoring='neg_mean_absolute_error').mean() * -1)\n",
    "print('Средняя абсолютная ошибка LinearRegression =', cv_mae_lr)"
   ]
  },
  {
   "cell_type": "markdown",
   "metadata": {},
   "source": [
    "### RandomForestRegressor"
   ]
  },
  {
   "cell_type": "code",
   "execution_count": 50,
   "metadata": {},
   "outputs": [
    {
     "name": "stdout",
     "output_type": "stream",
     "text": [
      "6.185335 for {'criterion': 'mse', 'n_estimators': 50, 'random_state': 12345}\n",
      "6.155988 for {'criterion': 'mse', 'n_estimators': 100, 'random_state': 12345}\n",
      "6.145319 for {'criterion': 'mse', 'n_estimators': 150, 'random_state': 12345}\n",
      "6.146206 for {'criterion': 'mse', 'n_estimators': 200, 'random_state': 12345}\n",
      "6.145505 for {'criterion': 'mse', 'n_estimators': 250, 'random_state': 12345}\n",
      "6.135812 for {'criterion': 'mse', 'n_estimators': 300, 'random_state': 12345}\n",
      "6.131557 for {'criterion': 'mse', 'n_estimators': 350, 'random_state': 12345}\n",
      "6.129082 for {'criterion': 'mse', 'n_estimators': 400, 'random_state': 12345}\n",
      "6.128503 for {'criterion': 'mse', 'n_estimators': 450, 'random_state': 12345}\n",
      "\n",
      "Лучшие параметры: {'criterion': 'mse', 'n_estimators': 450, 'random_state': 12345}\n",
      "Средняя абсолютная ошибка RandomForestRegressor =  6.128503406854735\n",
      "CPU times: user 1min 11s, sys: 639 ms, total: 1min 12s\n",
      "Wall time: 1min 11s\n"
     ]
    }
   ],
   "source": [
    "%%time\n",
    "\n",
    "model = RandomForestRegressor()\n",
    "hyperparams = [{'criterion' : ['mse'],\n",
    "                'n_estimators' : [x for x in range(50, 500, 50)],\n",
    "                'random_state' : [12345]}]\n",
    "\n",
    "clf = GridSearchCV(model, hyperparams, scoring='neg_mean_absolute_error', cv=5)\n",
    "clf.fit(features_train, target_train)\n",
    "\n",
    "means = clf.cv_results_['mean_test_score']\n",
    "stds = clf.cv_results_['std_test_score']\n",
    "for mean, std, params in zip(means, stds, clf.cv_results_['params']):\n",
    "    print(\"%0.6f for %r\"% ((mean*-1), params))\n",
    "print()\n",
    "cv_mae_rfr = (max(means) * -1)\n",
    "\n",
    "best_params_rfr = clf.best_params_\n",
    "print('Лучшие параметры:', clf.best_params_)\n",
    "print('Средняя абсолютная ошибка RandomForestRegressor = ', cv_mae_rfr)"
   ]
  },
  {
   "cell_type": "markdown",
   "metadata": {},
   "source": [
    "### CatBoostRegressor"
   ]
  },
  {
   "cell_type": "code",
   "execution_count": 51,
   "metadata": {},
   "outputs": [
    {
     "name": "stdout",
     "output_type": "stream",
     "text": [
      "Средняя абсолютная ошибка CatBoostRegressor = 5.853149635863169\n",
      "CPU times: user 44.6 s, sys: 1.53 s, total: 46.1 s\n",
      "Wall time: 7.74 s\n"
     ]
    },
    {
     "data": {
      "text/plain": [
       "{'nan_mode': 'Min',\n",
       " 'eval_metric': 'RMSE',\n",
       " 'iterations': 1000,\n",
       " 'sampling_frequency': 'PerTree',\n",
       " 'leaf_estimation_method': 'Newton',\n",
       " 'grow_policy': 'SymmetricTree',\n",
       " 'penalties_coefficient': 1,\n",
       " 'boosting_type': 'Plain',\n",
       " 'model_shrink_mode': 'Constant',\n",
       " 'feature_border_type': 'GreedyLogSum',\n",
       " 'bayesian_matrix_reg': 0.10000000149011612,\n",
       " 'l2_leaf_reg': 3,\n",
       " 'random_strength': 1,\n",
       " 'rsm': 1,\n",
       " 'boost_from_average': True,\n",
       " 'model_size_reg': 0.5,\n",
       " 'pool_metainfo_options': {'tags': {}},\n",
       " 'subsample': 0.800000011920929,\n",
       " 'use_best_model': False,\n",
       " 'random_seed': 12345,\n",
       " 'depth': 6,\n",
       " 'posterior_sampling': False,\n",
       " 'border_count': 254,\n",
       " 'classes_count': 0,\n",
       " 'auto_class_weights': 'None',\n",
       " 'sparse_features_conflict_fraction': 0,\n",
       " 'leaf_estimation_backtracking': 'AnyImprovement',\n",
       " 'best_model_min_trees': 1,\n",
       " 'model_shrink_rate': 0,\n",
       " 'min_data_in_leaf': 1,\n",
       " 'loss_function': 'RMSE',\n",
       " 'learning_rate': 0.04248800128698349,\n",
       " 'score_function': 'Cosine',\n",
       " 'task_type': 'CPU',\n",
       " 'leaf_estimation_iterations': 1,\n",
       " 'bootstrap_type': 'MVS',\n",
       " 'max_leaves': 64}"
      ]
     },
     "execution_count": 51,
     "metadata": {},
     "output_type": "execute_result"
    }
   ],
   "source": [
    "%%time\n",
    "\n",
    "model = CatBoostRegressor(verbose=False, random_state=12345)\n",
    "\n",
    "cv_mae_cbr = (cross_val_score(model,\n",
    "                              features_train,\n",
    "                              target_train,\n",
    "                              cv = 5,\n",
    "                              scoring='neg_mean_absolute_error').mean() * -1)\n",
    "\n",
    "best_params_cbr = model.fit(features_train,target_train).get_all_params()\n",
    "print('Средняя абсолютная ошибка CatBoostRegressor =', cv_mae_cbr)\n",
    "best_params_cbr"
   ]
  },
  {
   "cell_type": "markdown",
   "metadata": {},
   "source": [
    "### LGBMRegressor"
   ]
  },
  {
   "cell_type": "code",
   "execution_count": 52,
   "metadata": {},
   "outputs": [
    {
     "name": "stdout",
     "output_type": "stream",
     "text": [
      "[LightGBM] [Warning] Unknown parameter: learnin_rate\n",
      "[LightGBM] [Warning] Unknown parameter: learnin_rate\n",
      "[LightGBM] [Warning] Unknown parameter: learnin_rate\n",
      "[LightGBM] [Warning] Unknown parameter: learnin_rate\n",
      "[LightGBM] [Warning] Unknown parameter: learnin_rate\n",
      "[LightGBM] [Warning] Unknown parameter: learnin_rate\n",
      "[LightGBM] [Warning] Unknown parameter: learnin_rate\n",
      "[LightGBM] [Warning] Unknown parameter: learnin_rate\n",
      "[LightGBM] [Warning] Unknown parameter: learnin_rate\n",
      "[LightGBM] [Warning] Unknown parameter: learnin_rate\n",
      "[LightGBM] [Warning] Unknown parameter: learnin_rate\n",
      "[LightGBM] [Warning] Unknown parameter: learnin_rate\n",
      "[LightGBM] [Warning] Unknown parameter: learnin_rate\n",
      "[LightGBM] [Warning] Unknown parameter: learnin_rate\n",
      "[LightGBM] [Warning] Unknown parameter: learnin_rate\n",
      "[LightGBM] [Warning] Unknown parameter: learnin_rate\n",
      "[LightGBM] [Warning] Unknown parameter: learnin_rate\n",
      "[LightGBM] [Warning] Unknown parameter: learnin_rate\n",
      "[LightGBM] [Warning] Unknown parameter: learnin_rate\n",
      "[LightGBM] [Warning] Unknown parameter: learnin_rate\n",
      "[LightGBM] [Warning] Unknown parameter: learnin_rate\n",
      "[LightGBM] [Warning] Unknown parameter: learnin_rate\n",
      "[LightGBM] [Warning] Unknown parameter: learnin_rate\n",
      "[LightGBM] [Warning] Unknown parameter: learnin_rate\n",
      "[LightGBM] [Warning] Unknown parameter: learnin_rate\n",
      "[LightGBM] [Warning] Unknown parameter: learnin_rate\n",
      "[LightGBM] [Warning] Unknown parameter: learnin_rate\n",
      "[LightGBM] [Warning] Unknown parameter: learnin_rate\n",
      "[LightGBM] [Warning] Unknown parameter: learnin_rate\n",
      "[LightGBM] [Warning] Unknown parameter: learnin_rate\n",
      "[LightGBM] [Warning] Unknown parameter: learnin_rate\n",
      "[LightGBM] [Warning] Unknown parameter: learnin_rate\n",
      "[LightGBM] [Warning] Unknown parameter: learnin_rate\n",
      "[LightGBM] [Warning] Unknown parameter: learnin_rate\n",
      "[LightGBM] [Warning] Unknown parameter: learnin_rate\n",
      "[LightGBM] [Warning] Unknown parameter: learnin_rate\n",
      "[LightGBM] [Warning] Unknown parameter: learnin_rate\n",
      "[LightGBM] [Warning] Unknown parameter: learnin_rate\n",
      "[LightGBM] [Warning] Unknown parameter: learnin_rate\n",
      "[LightGBM] [Warning] Unknown parameter: learnin_rate\n",
      "[LightGBM] [Warning] Unknown parameter: learnin_rate\n",
      "[LightGBM] [Warning] Unknown parameter: learnin_rate\n",
      "[LightGBM] [Warning] Unknown parameter: learnin_rate\n",
      "[LightGBM] [Warning] Unknown parameter: learnin_rate\n",
      "[LightGBM] [Warning] Unknown parameter: learnin_rate\n",
      "[LightGBM] [Warning] Unknown parameter: learnin_rate\n",
      "[LightGBM] [Warning] Unknown parameter: learnin_rate\n",
      "[LightGBM] [Warning] Unknown parameter: learnin_rate\n",
      "[LightGBM] [Warning] Unknown parameter: learnin_rate\n",
      "[LightGBM] [Warning] Unknown parameter: learnin_rate\n",
      "[LightGBM] [Warning] Unknown parameter: learnin_rate\n",
      "[LightGBM] [Warning] Unknown parameter: learnin_rate\n",
      "[LightGBM] [Warning] Unknown parameter: learnin_rate\n",
      "[LightGBM] [Warning] Unknown parameter: learnin_rate\n",
      "[LightGBM] [Warning] Unknown parameter: learnin_rate\n",
      "[LightGBM] [Warning] Unknown parameter: learnin_rate\n",
      "[LightGBM] [Warning] Unknown parameter: learnin_rate\n",
      "[LightGBM] [Warning] Unknown parameter: learnin_rate\n",
      "[LightGBM] [Warning] Unknown parameter: learnin_rate\n",
      "[LightGBM] [Warning] Unknown parameter: learnin_rate\n",
      "[LightGBM] [Warning] Unknown parameter: learnin_rate\n",
      "[LightGBM] [Warning] Unknown parameter: learnin_rate\n",
      "[LightGBM] [Warning] Unknown parameter: learnin_rate\n",
      "[LightGBM] [Warning] Unknown parameter: learnin_rate\n",
      "[LightGBM] [Warning] Unknown parameter: learnin_rate\n",
      "[LightGBM] [Warning] Unknown parameter: learnin_rate\n",
      "[LightGBM] [Warning] Unknown parameter: learnin_rate\n",
      "[LightGBM] [Warning] Unknown parameter: learnin_rate\n",
      "[LightGBM] [Warning] Unknown parameter: learnin_rate\n",
      "[LightGBM] [Warning] Unknown parameter: learnin_rate\n",
      "[LightGBM] [Warning] Unknown parameter: learnin_rate\n",
      "[LightGBM] [Warning] Unknown parameter: learnin_rate\n",
      "[LightGBM] [Warning] Unknown parameter: learnin_rate\n",
      "[LightGBM] [Warning] Unknown parameter: learnin_rate\n",
      "[LightGBM] [Warning] Unknown parameter: learnin_rate\n",
      "[LightGBM] [Warning] Unknown parameter: learnin_rate\n",
      "[LightGBM] [Warning] Unknown parameter: learnin_rate\n",
      "[LightGBM] [Warning] Unknown parameter: learnin_rate\n",
      "[LightGBM] [Warning] Unknown parameter: learnin_rate\n",
      "[LightGBM] [Warning] Unknown parameter: learnin_rate\n",
      "[LightGBM] [Warning] Unknown parameter: learnin_rate\n",
      "[LightGBM] [Warning] Unknown parameter: learnin_rate\n",
      "[LightGBM] [Warning] Unknown parameter: learnin_rate\n",
      "[LightGBM] [Warning] Unknown parameter: learnin_rate\n",
      "[LightGBM] [Warning] Unknown parameter: learnin_rate\n",
      "[LightGBM] [Warning] Unknown parameter: learnin_rate\n",
      "[LightGBM] [Warning] Unknown parameter: learnin_rate\n",
      "[LightGBM] [Warning] Unknown parameter: learnin_rate\n",
      "[LightGBM] [Warning] Unknown parameter: learnin_rate\n",
      "[LightGBM] [Warning] Unknown parameter: learnin_rate\n",
      "[LightGBM] [Warning] Unknown parameter: learnin_rate\n",
      "[LightGBM] [Warning] Unknown parameter: learnin_rate\n",
      "[LightGBM] [Warning] Unknown parameter: learnin_rate\n",
      "[LightGBM] [Warning] Unknown parameter: learnin_rate\n",
      "[LightGBM] [Warning] Unknown parameter: learnin_rate\n",
      "[LightGBM] [Warning] Unknown parameter: learnin_rate\n",
      "[LightGBM] [Warning] Unknown parameter: learnin_rate\n",
      "[LightGBM] [Warning] Unknown parameter: learnin_rate\n",
      "[LightGBM] [Warning] Unknown parameter: learnin_rate\n",
      "[LightGBM] [Warning] Unknown parameter: learnin_rate\n",
      "[LightGBM] [Warning] Unknown parameter: learnin_rate\n",
      "[LightGBM] [Warning] Unknown parameter: learnin_rate\n",
      "[LightGBM] [Warning] Unknown parameter: learnin_rate\n",
      "[LightGBM] [Warning] Unknown parameter: learnin_rate\n",
      "[LightGBM] [Warning] Unknown parameter: learnin_rate\n",
      "[LightGBM] [Warning] Unknown parameter: learnin_rate\n",
      "[LightGBM] [Warning] Unknown parameter: learnin_rate\n",
      "[LightGBM] [Warning] Unknown parameter: learnin_rate\n",
      "[LightGBM] [Warning] Unknown parameter: learnin_rate\n",
      "[LightGBM] [Warning] Unknown parameter: learnin_rate\n",
      "[LightGBM] [Warning] Unknown parameter: learnin_rate\n",
      "[LightGBM] [Warning] Unknown parameter: learnin_rate\n",
      "[LightGBM] [Warning] Unknown parameter: learnin_rate\n",
      "[LightGBM] [Warning] Unknown parameter: learnin_rate\n",
      "[LightGBM] [Warning] Unknown parameter: learnin_rate\n",
      "[LightGBM] [Warning] Unknown parameter: learnin_rate\n",
      "[LightGBM] [Warning] Unknown parameter: learnin_rate\n",
      "[LightGBM] [Warning] Unknown parameter: learnin_rate\n",
      "[LightGBM] [Warning] Unknown parameter: learnin_rate\n",
      "[LightGBM] [Warning] Unknown parameter: learnin_rate\n",
      "[LightGBM] [Warning] Unknown parameter: learnin_rate\n",
      "[LightGBM] [Warning] Unknown parameter: learnin_rate\n",
      "[LightGBM] [Warning] Unknown parameter: learnin_rate\n",
      "[LightGBM] [Warning] Unknown parameter: learnin_rate\n",
      "[LightGBM] [Warning] Unknown parameter: learnin_rate\n",
      "[LightGBM] [Warning] Unknown parameter: learnin_rate\n",
      "[LightGBM] [Warning] Unknown parameter: learnin_rate\n",
      "[LightGBM] [Warning] Unknown parameter: learnin_rate\n",
      "[LightGBM] [Warning] Unknown parameter: learnin_rate\n",
      "[LightGBM] [Warning] Unknown parameter: learnin_rate\n",
      "[LightGBM] [Warning] Unknown parameter: learnin_rate\n",
      "[LightGBM] [Warning] Unknown parameter: learnin_rate\n",
      "[LightGBM] [Warning] Unknown parameter: learnin_rate\n",
      "[LightGBM] [Warning] Unknown parameter: learnin_rate\n",
      "[LightGBM] [Warning] Unknown parameter: learnin_rate\n",
      "[LightGBM] [Warning] Unknown parameter: learnin_rate\n",
      "[LightGBM] [Warning] Unknown parameter: learnin_rate\n",
      "[LightGBM] [Warning] Unknown parameter: learnin_rate\n",
      "[LightGBM] [Warning] Unknown parameter: learnin_rate\n",
      "[LightGBM] [Warning] Unknown parameter: learnin_rate\n",
      "[LightGBM] [Warning] Unknown parameter: learnin_rate\n",
      "[LightGBM] [Warning] Unknown parameter: learnin_rate\n",
      "[LightGBM] [Warning] Unknown parameter: learnin_rate\n",
      "[LightGBM] [Warning] Unknown parameter: learnin_rate\n",
      "[LightGBM] [Warning] Unknown parameter: learnin_rate\n",
      "[LightGBM] [Warning] Unknown parameter: learnin_rate\n",
      "[LightGBM] [Warning] Unknown parameter: learnin_rate\n",
      "[LightGBM] [Warning] Unknown parameter: learnin_rate\n",
      "[LightGBM] [Warning] Unknown parameter: learnin_rate\n",
      "[LightGBM] [Warning] Unknown parameter: learnin_rate\n",
      "[LightGBM] [Warning] Unknown parameter: learnin_rate\n",
      "[LightGBM] [Warning] Unknown parameter: learnin_rate\n",
      "[LightGBM] [Warning] Unknown parameter: learnin_rate\n",
      "[LightGBM] [Warning] Unknown parameter: learnin_rate\n",
      "[LightGBM] [Warning] Unknown parameter: learnin_rate\n",
      "[LightGBM] [Warning] Unknown parameter: learnin_rate\n",
      "[LightGBM] [Warning] Unknown parameter: learnin_rate\n"
     ]
    },
    {
     "name": "stdout",
     "output_type": "stream",
     "text": [
      "[LightGBM] [Warning] Unknown parameter: learnin_rate\n",
      "[LightGBM] [Warning] Unknown parameter: learnin_rate\n",
      "[LightGBM] [Warning] Unknown parameter: learnin_rate\n",
      "[LightGBM] [Warning] Unknown parameter: learnin_rate\n",
      "[LightGBM] [Warning] Unknown parameter: learnin_rate\n",
      "[LightGBM] [Warning] Unknown parameter: learnin_rate\n",
      "[LightGBM] [Warning] Unknown parameter: learnin_rate\n",
      "[LightGBM] [Warning] Unknown parameter: learnin_rate\n",
      "[LightGBM] [Warning] Unknown parameter: learnin_rate\n",
      "[LightGBM] [Warning] Unknown parameter: learnin_rate\n",
      "[LightGBM] [Warning] Unknown parameter: learnin_rate\n",
      "[LightGBM] [Warning] Unknown parameter: learnin_rate\n",
      "[LightGBM] [Warning] Unknown parameter: learnin_rate\n",
      "[LightGBM] [Warning] Unknown parameter: learnin_rate\n",
      "[LightGBM] [Warning] Unknown parameter: learnin_rate\n",
      "[LightGBM] [Warning] Unknown parameter: learnin_rate\n",
      "[LightGBM] [Warning] Unknown parameter: learnin_rate\n",
      "[LightGBM] [Warning] Unknown parameter: learnin_rate\n",
      "[LightGBM] [Warning] Unknown parameter: learnin_rate\n",
      "[LightGBM] [Warning] Unknown parameter: learnin_rate\n",
      "[LightGBM] [Warning] Unknown parameter: learnin_rate\n",
      "[LightGBM] [Warning] Unknown parameter: learnin_rate\n",
      "[LightGBM] [Warning] Unknown parameter: learnin_rate\n",
      "[LightGBM] [Warning] Unknown parameter: learnin_rate\n",
      "[LightGBM] [Warning] Unknown parameter: learnin_rate\n",
      "[LightGBM] [Warning] Unknown parameter: learnin_rate\n",
      "[LightGBM] [Warning] Unknown parameter: learnin_rate\n",
      "[LightGBM] [Warning] Unknown parameter: learnin_rate\n",
      "[LightGBM] [Warning] Unknown parameter: learnin_rate\n",
      "[LightGBM] [Warning] Unknown parameter: learnin_rate\n",
      "[LightGBM] [Warning] Unknown parameter: learnin_rate\n",
      "[LightGBM] [Warning] Unknown parameter: learnin_rate\n",
      "[LightGBM] [Warning] Unknown parameter: learnin_rate\n",
      "[LightGBM] [Warning] Unknown parameter: learnin_rate\n",
      "[LightGBM] [Warning] Unknown parameter: learnin_rate\n",
      "[LightGBM] [Warning] Unknown parameter: learnin_rate\n",
      "[LightGBM] [Warning] Unknown parameter: learnin_rate\n",
      "[LightGBM] [Warning] Unknown parameter: learnin_rate\n",
      "[LightGBM] [Warning] Unknown parameter: learnin_rate\n",
      "[LightGBM] [Warning] Unknown parameter: learnin_rate\n",
      "[LightGBM] [Warning] Unknown parameter: learnin_rate\n",
      "[LightGBM] [Warning] Unknown parameter: learnin_rate\n",
      "[LightGBM] [Warning] Unknown parameter: learnin_rate\n",
      "[LightGBM] [Warning] Unknown parameter: learnin_rate\n",
      "[LightGBM] [Warning] Unknown parameter: learnin_rate\n",
      "[LightGBM] [Warning] Unknown parameter: learnin_rate\n",
      "[LightGBM] [Warning] Unknown parameter: learnin_rate\n",
      "[LightGBM] [Warning] Unknown parameter: learnin_rate\n",
      "[LightGBM] [Warning] Unknown parameter: learnin_rate\n",
      "[LightGBM] [Warning] Unknown parameter: learnin_rate\n",
      "[LightGBM] [Warning] Unknown parameter: learnin_rate\n",
      "[LightGBM] [Warning] Unknown parameter: learnin_rate\n",
      "[LightGBM] [Warning] Unknown parameter: learnin_rate\n",
      "[LightGBM] [Warning] Unknown parameter: learnin_rate\n",
      "[LightGBM] [Warning] Unknown parameter: learnin_rate\n",
      "[LightGBM] [Warning] Unknown parameter: learnin_rate\n",
      "[LightGBM] [Warning] Unknown parameter: learnin_rate\n",
      "[LightGBM] [Warning] Unknown parameter: learnin_rate\n",
      "[LightGBM] [Warning] Unknown parameter: learnin_rate\n",
      "[LightGBM] [Warning] Unknown parameter: learnin_rate\n",
      "[LightGBM] [Warning] Unknown parameter: learnin_rate\n",
      "[LightGBM] [Warning] Unknown parameter: learnin_rate\n",
      "[LightGBM] [Warning] Unknown parameter: learnin_rate\n",
      "[LightGBM] [Warning] Unknown parameter: learnin_rate\n",
      "[LightGBM] [Warning] Unknown parameter: learnin_rate\n",
      "[LightGBM] [Warning] Unknown parameter: learnin_rate\n",
      "[LightGBM] [Warning] Unknown parameter: learnin_rate\n",
      "[LightGBM] [Warning] Unknown parameter: learnin_rate\n",
      "[LightGBM] [Warning] Unknown parameter: learnin_rate\n",
      "[LightGBM] [Warning] Unknown parameter: learnin_rate\n",
      "[LightGBM] [Warning] Unknown parameter: learnin_rate\n",
      "[LightGBM] [Warning] Unknown parameter: learnin_rate\n",
      "[LightGBM] [Warning] Unknown parameter: learnin_rate\n",
      "[LightGBM] [Warning] Unknown parameter: learnin_rate\n",
      "[LightGBM] [Warning] Unknown parameter: learnin_rate\n",
      "[LightGBM] [Warning] Unknown parameter: learnin_rate\n",
      "[LightGBM] [Warning] Unknown parameter: learnin_rate\n",
      "[LightGBM] [Warning] Unknown parameter: learnin_rate\n",
      "[LightGBM] [Warning] Unknown parameter: learnin_rate\n",
      "[LightGBM] [Warning] Unknown parameter: learnin_rate\n",
      "[LightGBM] [Warning] Unknown parameter: learnin_rate\n",
      "[LightGBM] [Warning] Unknown parameter: learnin_rate\n",
      "[LightGBM] [Warning] Unknown parameter: learnin_rate\n",
      "[LightGBM] [Warning] Unknown parameter: learnin_rate\n",
      "[LightGBM] [Warning] Unknown parameter: learnin_rate\n",
      "[LightGBM] [Warning] Unknown parameter: learnin_rate\n",
      "[LightGBM] [Warning] Unknown parameter: learnin_rate\n",
      "[LightGBM] [Warning] Unknown parameter: learnin_rate\n",
      "[LightGBM] [Warning] Unknown parameter: learnin_rate\n",
      "[LightGBM] [Warning] Unknown parameter: learnin_rate\n",
      "[LightGBM] [Warning] Unknown parameter: learnin_rate\n",
      "[LightGBM] [Warning] Unknown parameter: learnin_rate\n",
      "[LightGBM] [Warning] Unknown parameter: learnin_rate\n",
      "[LightGBM] [Warning] Unknown parameter: learnin_rate\n",
      "[LightGBM] [Warning] Unknown parameter: learnin_rate\n",
      "[LightGBM] [Warning] Unknown parameter: learnin_rate\n",
      "[LightGBM] [Warning] Unknown parameter: learnin_rate\n",
      "[LightGBM] [Warning] Unknown parameter: learnin_rate\n",
      "[LightGBM] [Warning] Unknown parameter: learnin_rate\n",
      "[LightGBM] [Warning] Unknown parameter: learnin_rate\n",
      "[LightGBM] [Warning] Unknown parameter: learnin_rate\n",
      "[LightGBM] [Warning] Unknown parameter: learnin_rate\n",
      "[LightGBM] [Warning] Unknown parameter: learnin_rate\n",
      "[LightGBM] [Warning] Unknown parameter: learnin_rate\n",
      "[LightGBM] [Warning] Unknown parameter: learnin_rate\n",
      "[LightGBM] [Warning] Unknown parameter: learnin_rate\n",
      "[LightGBM] [Warning] Unknown parameter: learnin_rate\n",
      "[LightGBM] [Warning] Unknown parameter: learnin_rate\n",
      "[LightGBM] [Warning] Unknown parameter: learnin_rate\n",
      "[LightGBM] [Warning] Unknown parameter: learnin_rate\n",
      "[LightGBM] [Warning] Unknown parameter: learnin_rate\n",
      "[LightGBM] [Warning] Unknown parameter: learnin_rate\n",
      "[LightGBM] [Warning] Unknown parameter: learnin_rate\n",
      "[LightGBM] [Warning] Unknown parameter: learnin_rate\n",
      "[LightGBM] [Warning] Unknown parameter: learnin_rate\n",
      "[LightGBM] [Warning] Unknown parameter: learnin_rate\n",
      "[LightGBM] [Warning] Unknown parameter: learnin_rate\n",
      "[LightGBM] [Warning] Unknown parameter: learnin_rate\n",
      "[LightGBM] [Warning] Unknown parameter: learnin_rate\n",
      "[LightGBM] [Warning] Unknown parameter: learnin_rate\n",
      "[LightGBM] [Warning] Unknown parameter: learnin_rate\n",
      "[LightGBM] [Warning] Unknown parameter: learnin_rate\n",
      "[LightGBM] [Warning] Unknown parameter: learnin_rate\n",
      "[LightGBM] [Warning] Unknown parameter: learnin_rate\n",
      "[LightGBM] [Warning] Unknown parameter: learnin_rate\n",
      "[LightGBM] [Warning] Unknown parameter: learnin_rate\n",
      "[LightGBM] [Warning] Unknown parameter: learnin_rate\n",
      "[LightGBM] [Warning] Unknown parameter: learnin_rate\n",
      "[LightGBM] [Warning] Unknown parameter: learnin_rate\n",
      "[LightGBM] [Warning] Unknown parameter: learnin_rate\n",
      "[LightGBM] [Warning] Unknown parameter: learnin_rate\n",
      "[LightGBM] [Warning] Unknown parameter: learnin_rate\n",
      "[LightGBM] [Warning] Unknown parameter: learnin_rate\n",
      "[LightGBM] [Warning] Unknown parameter: learnin_rate\n",
      "[LightGBM] [Warning] Unknown parameter: learnin_rate\n",
      "[LightGBM] [Warning] Unknown parameter: learnin_rate\n",
      "[LightGBM] [Warning] Unknown parameter: learnin_rate\n",
      "[LightGBM] [Warning] Unknown parameter: learnin_rate\n",
      "[LightGBM] [Warning] Unknown parameter: learnin_rate\n",
      "[LightGBM] [Warning] Unknown parameter: learnin_rate\n",
      "[LightGBM] [Warning] Unknown parameter: learnin_rate\n",
      "[LightGBM] [Warning] Unknown parameter: learnin_rate\n",
      "[LightGBM] [Warning] Unknown parameter: learnin_rate\n",
      "[LightGBM] [Warning] Unknown parameter: learnin_rate\n",
      "[LightGBM] [Warning] Unknown parameter: learnin_rate\n",
      "[LightGBM] [Warning] Unknown parameter: learnin_rate\n",
      "[LightGBM] [Warning] Unknown parameter: learnin_rate\n",
      "[LightGBM] [Warning] Unknown parameter: learnin_rate\n",
      "[LightGBM] [Warning] Unknown parameter: learnin_rate\n",
      "[LightGBM] [Warning] Unknown parameter: learnin_rate\n",
      "[LightGBM] [Warning] Unknown parameter: learnin_rate\n",
      "[LightGBM] [Warning] Unknown parameter: learnin_rate\n",
      "[LightGBM] [Warning] Unknown parameter: learnin_rate\n",
      "[LightGBM] [Warning] Unknown parameter: learnin_rate\n",
      "[LightGBM] [Warning] Unknown parameter: learnin_rate\n",
      "[LightGBM] [Warning] Unknown parameter: learnin_rate\n",
      "[LightGBM] [Warning] Unknown parameter: learnin_rate\n",
      "[LightGBM] [Warning] Unknown parameter: learnin_rate\n",
      "[LightGBM] [Warning] Unknown parameter: learnin_rate\n"
     ]
    },
    {
     "name": "stdout",
     "output_type": "stream",
     "text": [
      "[LightGBM] [Warning] Unknown parameter: learnin_rate\n",
      "[LightGBM] [Warning] Unknown parameter: learnin_rate\n",
      "[LightGBM] [Warning] Unknown parameter: learnin_rate\n",
      "[LightGBM] [Warning] Unknown parameter: learnin_rate\n",
      "[LightGBM] [Warning] Unknown parameter: learnin_rate\n",
      "[LightGBM] [Warning] Unknown parameter: learnin_rate\n",
      "[LightGBM] [Warning] Unknown parameter: learnin_rate\n",
      "[LightGBM] [Warning] Unknown parameter: learnin_rate\n",
      "[LightGBM] [Warning] Unknown parameter: learnin_rate\n",
      "[LightGBM] [Warning] Unknown parameter: learnin_rate\n",
      "[LightGBM] [Warning] Unknown parameter: learnin_rate\n",
      "[LightGBM] [Warning] Unknown parameter: learnin_rate\n",
      "[LightGBM] [Warning] Unknown parameter: learnin_rate\n",
      "[LightGBM] [Warning] Unknown parameter: learnin_rate\n",
      "[LightGBM] [Warning] Unknown parameter: learnin_rate\n",
      "[LightGBM] [Warning] Unknown parameter: learnin_rate\n",
      "[LightGBM] [Warning] Unknown parameter: learnin_rate\n",
      "[LightGBM] [Warning] Unknown parameter: learnin_rate\n",
      "[LightGBM] [Warning] Unknown parameter: learnin_rate\n",
      "[LightGBM] [Warning] Unknown parameter: learnin_rate\n",
      "[LightGBM] [Warning] Unknown parameter: learnin_rate\n",
      "[LightGBM] [Warning] Unknown parameter: learnin_rate\n",
      "[LightGBM] [Warning] Unknown parameter: learnin_rate\n",
      "[LightGBM] [Warning] Unknown parameter: learnin_rate\n",
      "[LightGBM] [Warning] Unknown parameter: learnin_rate\n",
      "[LightGBM] [Warning] Unknown parameter: learnin_rate\n",
      "[LightGBM] [Warning] Unknown parameter: learnin_rate\n",
      "[LightGBM] [Warning] Unknown parameter: learnin_rate\n",
      "[LightGBM] [Warning] Unknown parameter: learnin_rate\n",
      "[LightGBM] [Warning] Unknown parameter: learnin_rate\n",
      "[LightGBM] [Warning] Unknown parameter: learnin_rate\n",
      "[LightGBM] [Warning] Unknown parameter: learnin_rate\n",
      "[LightGBM] [Warning] Unknown parameter: learnin_rate\n",
      "[LightGBM] [Warning] Unknown parameter: learnin_rate\n",
      "[LightGBM] [Warning] Unknown parameter: learnin_rate\n",
      "[LightGBM] [Warning] Unknown parameter: learnin_rate\n",
      "[LightGBM] [Warning] Unknown parameter: learnin_rate\n",
      "[LightGBM] [Warning] Unknown parameter: learnin_rate\n",
      "[LightGBM] [Warning] Unknown parameter: learnin_rate\n",
      "[LightGBM] [Warning] Unknown parameter: learnin_rate\n",
      "[LightGBM] [Warning] Unknown parameter: learnin_rate\n",
      "[LightGBM] [Warning] Unknown parameter: learnin_rate\n",
      "[LightGBM] [Warning] Unknown parameter: learnin_rate\n",
      "[LightGBM] [Warning] Unknown parameter: learnin_rate\n",
      "[LightGBM] [Warning] Unknown parameter: learnin_rate\n",
      "[LightGBM] [Warning] Unknown parameter: learnin_rate\n",
      "[LightGBM] [Warning] Unknown parameter: learnin_rate\n",
      "[LightGBM] [Warning] Unknown parameter: learnin_rate\n",
      "[LightGBM] [Warning] Unknown parameter: learnin_rate\n",
      "[LightGBM] [Warning] Unknown parameter: learnin_rate\n",
      "[LightGBM] [Warning] Unknown parameter: learnin_rate\n",
      "[LightGBM] [Warning] Unknown parameter: learnin_rate\n",
      "[LightGBM] [Warning] Unknown parameter: learnin_rate\n",
      "[LightGBM] [Warning] Unknown parameter: learnin_rate\n",
      "[LightGBM] [Warning] Unknown parameter: learnin_rate\n",
      "[LightGBM] [Warning] Unknown parameter: learnin_rate\n",
      "[LightGBM] [Warning] Unknown parameter: learnin_rate\n",
      "[LightGBM] [Warning] Unknown parameter: learnin_rate\n",
      "[LightGBM] [Warning] Unknown parameter: learnin_rate\n",
      "[LightGBM] [Warning] Unknown parameter: learnin_rate\n",
      "[LightGBM] [Warning] Unknown parameter: learnin_rate\n",
      "[LightGBM] [Warning] Unknown parameter: learnin_rate\n",
      "[LightGBM] [Warning] Unknown parameter: learnin_rate\n",
      "[LightGBM] [Warning] Unknown parameter: learnin_rate\n",
      "[LightGBM] [Warning] Unknown parameter: learnin_rate\n",
      "[LightGBM] [Warning] Unknown parameter: learnin_rate\n",
      "[LightGBM] [Warning] Unknown parameter: learnin_rate\n",
      "[LightGBM] [Warning] Unknown parameter: learnin_rate\n",
      "[LightGBM] [Warning] Unknown parameter: learnin_rate\n",
      "[LightGBM] [Warning] Unknown parameter: learnin_rate\n",
      "[LightGBM] [Warning] Unknown parameter: learnin_rate\n",
      "[LightGBM] [Warning] Unknown parameter: learnin_rate\n",
      "[LightGBM] [Warning] Unknown parameter: learnin_rate\n",
      "[LightGBM] [Warning] Unknown parameter: learnin_rate\n",
      "[LightGBM] [Warning] Unknown parameter: learnin_rate\n",
      "[LightGBM] [Warning] Unknown parameter: learnin_rate\n",
      "[LightGBM] [Warning] Unknown parameter: learnin_rate\n",
      "[LightGBM] [Warning] Unknown parameter: learnin_rate\n",
      "[LightGBM] [Warning] Unknown parameter: learnin_rate\n",
      "[LightGBM] [Warning] Unknown parameter: learnin_rate\n",
      "[LightGBM] [Warning] Unknown parameter: learnin_rate\n",
      "[LightGBM] [Warning] Unknown parameter: learnin_rate\n",
      "[LightGBM] [Warning] Unknown parameter: learnin_rate\n",
      "[LightGBM] [Warning] Unknown parameter: learnin_rate\n",
      "[LightGBM] [Warning] Unknown parameter: learnin_rate\n",
      "[LightGBM] [Warning] Unknown parameter: learnin_rate\n",
      "[LightGBM] [Warning] Unknown parameter: learnin_rate\n",
      "[LightGBM] [Warning] Unknown parameter: learnin_rate\n",
      "[LightGBM] [Warning] Unknown parameter: learnin_rate\n",
      "[LightGBM] [Warning] Unknown parameter: learnin_rate\n",
      "[LightGBM] [Warning] Unknown parameter: learnin_rate\n",
      "[LightGBM] [Warning] Unknown parameter: learnin_rate\n",
      "[LightGBM] [Warning] Unknown parameter: learnin_rate\n",
      "[LightGBM] [Warning] Unknown parameter: learnin_rate\n",
      "[LightGBM] [Warning] Unknown parameter: learnin_rate\n",
      "[LightGBM] [Warning] Unknown parameter: learnin_rate\n",
      "[LightGBM] [Warning] Unknown parameter: learnin_rate\n",
      "[LightGBM] [Warning] Unknown parameter: learnin_rate\n",
      "[LightGBM] [Warning] Unknown parameter: learnin_rate\n",
      "[LightGBM] [Warning] Unknown parameter: learnin_rate\n",
      "[LightGBM] [Warning] Unknown parameter: learnin_rate\n",
      "[LightGBM] [Warning] Unknown parameter: learnin_rate\n",
      "[LightGBM] [Warning] Unknown parameter: learnin_rate\n",
      "[LightGBM] [Warning] Unknown parameter: learnin_rate\n",
      "[LightGBM] [Warning] Unknown parameter: learnin_rate\n",
      "[LightGBM] [Warning] Unknown parameter: learnin_rate\n",
      "[LightGBM] [Warning] Unknown parameter: learnin_rate\n",
      "[LightGBM] [Warning] Unknown parameter: learnin_rate\n",
      "[LightGBM] [Warning] Unknown parameter: learnin_rate\n",
      "[LightGBM] [Warning] Unknown parameter: learnin_rate\n",
      "[LightGBM] [Warning] Unknown parameter: learnin_rate\n",
      "[LightGBM] [Warning] Unknown parameter: learnin_rate\n",
      "[LightGBM] [Warning] Unknown parameter: learnin_rate\n",
      "[LightGBM] [Warning] Unknown parameter: learnin_rate\n",
      "[LightGBM] [Warning] Unknown parameter: learnin_rate\n",
      "[LightGBM] [Warning] Unknown parameter: learnin_rate\n",
      "[LightGBM] [Warning] Unknown parameter: learnin_rate\n",
      "[LightGBM] [Warning] Unknown parameter: learnin_rate\n",
      "[LightGBM] [Warning] Unknown parameter: learnin_rate\n",
      "[LightGBM] [Warning] Unknown parameter: learnin_rate\n",
      "[LightGBM] [Warning] Unknown parameter: learnin_rate\n",
      "[LightGBM] [Warning] Unknown parameter: learnin_rate\n",
      "[LightGBM] [Warning] Unknown parameter: learnin_rate\n",
      "[LightGBM] [Warning] Unknown parameter: learnin_rate\n",
      "[LightGBM] [Warning] Unknown parameter: learnin_rate\n",
      "[LightGBM] [Warning] Unknown parameter: learnin_rate\n",
      "[LightGBM] [Warning] Unknown parameter: learnin_rate\n",
      "[LightGBM] [Warning] Unknown parameter: learnin_rate\n",
      "[LightGBM] [Warning] Unknown parameter: learnin_rate\n",
      "[LightGBM] [Warning] Unknown parameter: learnin_rate\n",
      "[LightGBM] [Warning] Unknown parameter: learnin_rate\n",
      "[LightGBM] [Warning] Unknown parameter: learnin_rate\n",
      "[LightGBM] [Warning] Unknown parameter: learnin_rate\n",
      "[LightGBM] [Warning] Unknown parameter: learnin_rate\n",
      "[LightGBM] [Warning] Unknown parameter: learnin_rate\n",
      "[LightGBM] [Warning] Unknown parameter: learnin_rate\n",
      "[LightGBM] [Warning] Unknown parameter: learnin_rate\n",
      "[LightGBM] [Warning] Unknown parameter: learnin_rate\n",
      "[LightGBM] [Warning] Unknown parameter: learnin_rate\n",
      "[LightGBM] [Warning] Unknown parameter: learnin_rate\n",
      "[LightGBM] [Warning] Unknown parameter: learnin_rate\n",
      "[LightGBM] [Warning] Unknown parameter: learnin_rate\n",
      "[LightGBM] [Warning] Unknown parameter: learnin_rate\n",
      "[LightGBM] [Warning] Unknown parameter: learnin_rate\n",
      "[LightGBM] [Warning] Unknown parameter: learnin_rate\n",
      "[LightGBM] [Warning] Unknown parameter: learnin_rate\n",
      "[LightGBM] [Warning] Unknown parameter: learnin_rate\n",
      "[LightGBM] [Warning] Unknown parameter: learnin_rate\n",
      "[LightGBM] [Warning] Unknown parameter: learnin_rate\n",
      "[LightGBM] [Warning] Unknown parameter: learnin_rate\n",
      "[LightGBM] [Warning] Unknown parameter: learnin_rate\n",
      "[LightGBM] [Warning] Unknown parameter: learnin_rate\n",
      "[LightGBM] [Warning] Unknown parameter: learnin_rate\n",
      "[LightGBM] [Warning] Unknown parameter: learnin_rate\n",
      "[LightGBM] [Warning] Unknown parameter: learnin_rate\n",
      "[LightGBM] [Warning] Unknown parameter: learnin_rate\n",
      "[LightGBM] [Warning] Unknown parameter: learnin_rate\n",
      "[LightGBM] [Warning] Unknown parameter: learnin_rate\n",
      "[LightGBM] [Warning] Unknown parameter: learnin_rate\n",
      "[LightGBM] [Warning] Unknown parameter: learnin_rate\n"
     ]
    },
    {
     "name": "stdout",
     "output_type": "stream",
     "text": [
      "[LightGBM] [Warning] Unknown parameter: learnin_rate\n",
      "[LightGBM] [Warning] Unknown parameter: learnin_rate\n",
      "[LightGBM] [Warning] Unknown parameter: learnin_rate\n",
      "[LightGBM] [Warning] Unknown parameter: learnin_rate\n",
      "[LightGBM] [Warning] Unknown parameter: learnin_rate\n",
      "[LightGBM] [Warning] Unknown parameter: learnin_rate\n",
      "[LightGBM] [Warning] Unknown parameter: learnin_rate\n",
      "[LightGBM] [Warning] Unknown parameter: learnin_rate\n",
      "[LightGBM] [Warning] Unknown parameter: learnin_rate\n",
      "[LightGBM] [Warning] Unknown parameter: learnin_rate\n",
      "[LightGBM] [Warning] Unknown parameter: learnin_rate\n",
      "[LightGBM] [Warning] Unknown parameter: learnin_rate\n",
      "[LightGBM] [Warning] Unknown parameter: learnin_rate\n",
      "[LightGBM] [Warning] Unknown parameter: learnin_rate\n",
      "[LightGBM] [Warning] Unknown parameter: learnin_rate\n",
      "[LightGBM] [Warning] Unknown parameter: learnin_rate\n",
      "[LightGBM] [Warning] Unknown parameter: learnin_rate\n",
      "[LightGBM] [Warning] Unknown parameter: learnin_rate\n",
      "[LightGBM] [Warning] Unknown parameter: learnin_rate\n",
      "[LightGBM] [Warning] Unknown parameter: learnin_rate\n",
      "[LightGBM] [Warning] Unknown parameter: learnin_rate\n",
      "[LightGBM] [Warning] Unknown parameter: learnin_rate\n",
      "[LightGBM] [Warning] Unknown parameter: learnin_rate\n",
      "[LightGBM] [Warning] Unknown parameter: learnin_rate\n",
      "[LightGBM] [Warning] Unknown parameter: learnin_rate\n",
      "5.998681 for {'learnin_rate': 0.01, 'num_leaves': 5, 'random_state': 12345}\n",
      "6.001870 for {'learnin_rate': 0.01, 'num_leaves': 6, 'random_state': 12345}\n",
      "5.951981 for {'learnin_rate': 0.01, 'num_leaves': 7, 'random_state': 12345}\n",
      "5.946569 for {'learnin_rate': 0.01, 'num_leaves': 8, 'random_state': 12345}\n",
      "5.930128 for {'learnin_rate': 0.01, 'num_leaves': 9, 'random_state': 12345}\n",
      "5.950955 for {'learnin_rate': 0.01, 'num_leaves': 10, 'random_state': 12345}\n",
      "5.945376 for {'learnin_rate': 0.01, 'num_leaves': 11, 'random_state': 12345}\n",
      "6.014024 for {'learnin_rate': 0.01, 'num_leaves': 12, 'random_state': 12345}\n",
      "6.042885 for {'learnin_rate': 0.01, 'num_leaves': 13, 'random_state': 12345}\n",
      "6.028308 for {'learnin_rate': 0.01, 'num_leaves': 14, 'random_state': 12345}\n",
      "5.998681 for {'learnin_rate': 0.02, 'num_leaves': 5, 'random_state': 12345}\n",
      "6.001870 for {'learnin_rate': 0.02, 'num_leaves': 6, 'random_state': 12345}\n",
      "5.951981 for {'learnin_rate': 0.02, 'num_leaves': 7, 'random_state': 12345}\n",
      "5.946569 for {'learnin_rate': 0.02, 'num_leaves': 8, 'random_state': 12345}\n",
      "5.930128 for {'learnin_rate': 0.02, 'num_leaves': 9, 'random_state': 12345}\n",
      "5.950955 for {'learnin_rate': 0.02, 'num_leaves': 10, 'random_state': 12345}\n",
      "5.945376 for {'learnin_rate': 0.02, 'num_leaves': 11, 'random_state': 12345}\n",
      "6.014024 for {'learnin_rate': 0.02, 'num_leaves': 12, 'random_state': 12345}\n",
      "6.042885 for {'learnin_rate': 0.02, 'num_leaves': 13, 'random_state': 12345}\n",
      "6.028308 for {'learnin_rate': 0.02, 'num_leaves': 14, 'random_state': 12345}\n",
      "5.998681 for {'learnin_rate': 0.03, 'num_leaves': 5, 'random_state': 12345}\n",
      "6.001870 for {'learnin_rate': 0.03, 'num_leaves': 6, 'random_state': 12345}\n",
      "5.951981 for {'learnin_rate': 0.03, 'num_leaves': 7, 'random_state': 12345}\n",
      "5.946569 for {'learnin_rate': 0.03, 'num_leaves': 8, 'random_state': 12345}\n",
      "5.930128 for {'learnin_rate': 0.03, 'num_leaves': 9, 'random_state': 12345}\n",
      "5.950955 for {'learnin_rate': 0.03, 'num_leaves': 10, 'random_state': 12345}\n",
      "5.945376 for {'learnin_rate': 0.03, 'num_leaves': 11, 'random_state': 12345}\n",
      "6.014024 for {'learnin_rate': 0.03, 'num_leaves': 12, 'random_state': 12345}\n",
      "6.042885 for {'learnin_rate': 0.03, 'num_leaves': 13, 'random_state': 12345}\n",
      "6.028308 for {'learnin_rate': 0.03, 'num_leaves': 14, 'random_state': 12345}\n",
      "5.998681 for {'learnin_rate': 0.04, 'num_leaves': 5, 'random_state': 12345}\n",
      "6.001870 for {'learnin_rate': 0.04, 'num_leaves': 6, 'random_state': 12345}\n",
      "5.951981 for {'learnin_rate': 0.04, 'num_leaves': 7, 'random_state': 12345}\n",
      "5.946569 for {'learnin_rate': 0.04, 'num_leaves': 8, 'random_state': 12345}\n",
      "5.930128 for {'learnin_rate': 0.04, 'num_leaves': 9, 'random_state': 12345}\n",
      "5.950955 for {'learnin_rate': 0.04, 'num_leaves': 10, 'random_state': 12345}\n",
      "5.945376 for {'learnin_rate': 0.04, 'num_leaves': 11, 'random_state': 12345}\n",
      "6.014024 for {'learnin_rate': 0.04, 'num_leaves': 12, 'random_state': 12345}\n",
      "6.042885 for {'learnin_rate': 0.04, 'num_leaves': 13, 'random_state': 12345}\n",
      "6.028308 for {'learnin_rate': 0.04, 'num_leaves': 14, 'random_state': 12345}\n",
      "5.998681 for {'learnin_rate': 0.05, 'num_leaves': 5, 'random_state': 12345}\n",
      "6.001870 for {'learnin_rate': 0.05, 'num_leaves': 6, 'random_state': 12345}\n",
      "5.951981 for {'learnin_rate': 0.05, 'num_leaves': 7, 'random_state': 12345}\n",
      "5.946569 for {'learnin_rate': 0.05, 'num_leaves': 8, 'random_state': 12345}\n",
      "5.930128 for {'learnin_rate': 0.05, 'num_leaves': 9, 'random_state': 12345}\n",
      "5.950955 for {'learnin_rate': 0.05, 'num_leaves': 10, 'random_state': 12345}\n",
      "5.945376 for {'learnin_rate': 0.05, 'num_leaves': 11, 'random_state': 12345}\n",
      "6.014024 for {'learnin_rate': 0.05, 'num_leaves': 12, 'random_state': 12345}\n",
      "6.042885 for {'learnin_rate': 0.05, 'num_leaves': 13, 'random_state': 12345}\n",
      "6.028308 for {'learnin_rate': 0.05, 'num_leaves': 14, 'random_state': 12345}\n",
      "5.998681 for {'learnin_rate': 0.06, 'num_leaves': 5, 'random_state': 12345}\n",
      "6.001870 for {'learnin_rate': 0.06, 'num_leaves': 6, 'random_state': 12345}\n",
      "5.951981 for {'learnin_rate': 0.06, 'num_leaves': 7, 'random_state': 12345}\n",
      "5.946569 for {'learnin_rate': 0.06, 'num_leaves': 8, 'random_state': 12345}\n",
      "5.930128 for {'learnin_rate': 0.06, 'num_leaves': 9, 'random_state': 12345}\n",
      "5.950955 for {'learnin_rate': 0.06, 'num_leaves': 10, 'random_state': 12345}\n",
      "5.945376 for {'learnin_rate': 0.06, 'num_leaves': 11, 'random_state': 12345}\n",
      "6.014024 for {'learnin_rate': 0.06, 'num_leaves': 12, 'random_state': 12345}\n",
      "6.042885 for {'learnin_rate': 0.06, 'num_leaves': 13, 'random_state': 12345}\n",
      "6.028308 for {'learnin_rate': 0.06, 'num_leaves': 14, 'random_state': 12345}\n",
      "5.998681 for {'learnin_rate': 0.07, 'num_leaves': 5, 'random_state': 12345}\n",
      "6.001870 for {'learnin_rate': 0.07, 'num_leaves': 6, 'random_state': 12345}\n",
      "5.951981 for {'learnin_rate': 0.07, 'num_leaves': 7, 'random_state': 12345}\n",
      "5.946569 for {'learnin_rate': 0.07, 'num_leaves': 8, 'random_state': 12345}\n",
      "5.930128 for {'learnin_rate': 0.07, 'num_leaves': 9, 'random_state': 12345}\n",
      "5.950955 for {'learnin_rate': 0.07, 'num_leaves': 10, 'random_state': 12345}\n",
      "5.945376 for {'learnin_rate': 0.07, 'num_leaves': 11, 'random_state': 12345}\n",
      "6.014024 for {'learnin_rate': 0.07, 'num_leaves': 12, 'random_state': 12345}\n",
      "6.042885 for {'learnin_rate': 0.07, 'num_leaves': 13, 'random_state': 12345}\n",
      "6.028308 for {'learnin_rate': 0.07, 'num_leaves': 14, 'random_state': 12345}\n",
      "5.998681 for {'learnin_rate': 0.08, 'num_leaves': 5, 'random_state': 12345}\n",
      "6.001870 for {'learnin_rate': 0.08, 'num_leaves': 6, 'random_state': 12345}\n",
      "5.951981 for {'learnin_rate': 0.08, 'num_leaves': 7, 'random_state': 12345}\n",
      "5.946569 for {'learnin_rate': 0.08, 'num_leaves': 8, 'random_state': 12345}\n",
      "5.930128 for {'learnin_rate': 0.08, 'num_leaves': 9, 'random_state': 12345}\n",
      "5.950955 for {'learnin_rate': 0.08, 'num_leaves': 10, 'random_state': 12345}\n",
      "5.945376 for {'learnin_rate': 0.08, 'num_leaves': 11, 'random_state': 12345}\n",
      "6.014024 for {'learnin_rate': 0.08, 'num_leaves': 12, 'random_state': 12345}\n",
      "6.042885 for {'learnin_rate': 0.08, 'num_leaves': 13, 'random_state': 12345}\n",
      "6.028308 for {'learnin_rate': 0.08, 'num_leaves': 14, 'random_state': 12345}\n",
      "5.998681 for {'learnin_rate': 0.09, 'num_leaves': 5, 'random_state': 12345}\n",
      "6.001870 for {'learnin_rate': 0.09, 'num_leaves': 6, 'random_state': 12345}\n",
      "5.951981 for {'learnin_rate': 0.09, 'num_leaves': 7, 'random_state': 12345}\n",
      "5.946569 for {'learnin_rate': 0.09, 'num_leaves': 8, 'random_state': 12345}\n",
      "5.930128 for {'learnin_rate': 0.09, 'num_leaves': 9, 'random_state': 12345}\n",
      "5.950955 for {'learnin_rate': 0.09, 'num_leaves': 10, 'random_state': 12345}\n",
      "5.945376 for {'learnin_rate': 0.09, 'num_leaves': 11, 'random_state': 12345}\n",
      "6.014024 for {'learnin_rate': 0.09, 'num_leaves': 12, 'random_state': 12345}\n",
      "6.042885 for {'learnin_rate': 0.09, 'num_leaves': 13, 'random_state': 12345}\n",
      "6.028308 for {'learnin_rate': 0.09, 'num_leaves': 14, 'random_state': 12345}\n",
      "5.998681 for {'learnin_rate': 0.1, 'num_leaves': 5, 'random_state': 12345}\n",
      "6.001870 for {'learnin_rate': 0.1, 'num_leaves': 6, 'random_state': 12345}\n",
      "5.951981 for {'learnin_rate': 0.1, 'num_leaves': 7, 'random_state': 12345}\n",
      "5.946569 for {'learnin_rate': 0.1, 'num_leaves': 8, 'random_state': 12345}\n",
      "5.930128 for {'learnin_rate': 0.1, 'num_leaves': 9, 'random_state': 12345}\n",
      "5.950955 for {'learnin_rate': 0.1, 'num_leaves': 10, 'random_state': 12345}\n",
      "5.945376 for {'learnin_rate': 0.1, 'num_leaves': 11, 'random_state': 12345}\n",
      "6.014024 for {'learnin_rate': 0.1, 'num_leaves': 12, 'random_state': 12345}\n",
      "6.042885 for {'learnin_rate': 0.1, 'num_leaves': 13, 'random_state': 12345}\n",
      "6.028308 for {'learnin_rate': 0.1, 'num_leaves': 14, 'random_state': 12345}\n",
      "\n",
      "Лучшие параметры: {'learnin_rate': 0.01, 'num_leaves': 9, 'random_state': 12345}\n",
      "Средняя абсолютная ошибка LGBMRegressor =  5.9301280781597185\n",
      "CPU times: user 2min 31s, sys: 3.38 s, total: 2min 34s\n",
      "Wall time: 21.2 s\n"
     ]
    }
   ],
   "source": [
    "%%time\n",
    "\n",
    "model = LGBMRegressor()\n",
    "\n",
    "hyperparams = [{'num_leaves' : [x for x in range(5,15)],\n",
    "                'learnin_rate' : [x/100 for x in range(1, 11)],\n",
    "                'random_state' : [12345]}]\n",
    "\n",
    "clf = GridSearchCV(model, hyperparams, scoring='neg_mean_absolute_error', cv=5)\n",
    "clf.fit(features_train, target_train)\n",
    "\n",
    "means = clf.cv_results_['mean_test_score']\n",
    "stds = clf.cv_results_['std_test_score']\n",
    "for mean, std, params in zip(means, stds, clf.cv_results_['params']):\n",
    "    print(\"%0.6f for %r\"% ((mean*-1), params))\n",
    "print()\n",
    "cv_mae_lgbm = (max(means) * -1)\n",
    "\n",
    "best_params_lgbm = clf.best_params_\n",
    "print('Лучшие параметры:', clf.best_params_)\n",
    "print('Средняя абсолютная ошибка LGBMRegressor = ', cv_mae_lgbm)"
   ]
  },
  {
   "cell_type": "markdown",
   "metadata": {},
   "source": [
    "### XGBRegressor"
   ]
  },
  {
   "cell_type": "code",
   "execution_count": 53,
   "metadata": {},
   "outputs": [
    {
     "name": "stdout",
     "output_type": "stream",
     "text": [
      "584.506482 for {'learning_rate': 0.01, 'random_state': 12345}\n",
      "212.004532 for {'learning_rate': 0.02, 'random_state': 12345}\n",
      "76.229364 for {'learning_rate': 0.03, 'random_state': 12345}\n",
      "27.301577 for {'learning_rate': 0.04, 'random_state': 12345}\n",
      "10.446417 for {'learning_rate': 0.05, 'random_state': 12345}\n",
      "6.492717 for {'learning_rate': 0.06, 'random_state': 12345}\n",
      "5.969626 for {'learning_rate': 0.07, 'random_state': 12345}\n",
      "5.925877 for {'learning_rate': 0.08, 'random_state': 12345}\n",
      "5.949442 for {'learning_rate': 0.09, 'random_state': 12345}\n",
      "5.969635 for {'learning_rate': 0.1, 'random_state': 12345}\n",
      "5.987156 for {'learning_rate': 0.11, 'random_state': 12345}\n",
      "6.023475 for {'learning_rate': 0.12, 'random_state': 12345}\n",
      "6.030462 for {'learning_rate': 0.13, 'random_state': 12345}\n",
      "6.019105 for {'learning_rate': 0.14, 'random_state': 12345}\n",
      "6.025684 for {'learning_rate': 0.15, 'random_state': 12345}\n",
      "6.075234 for {'learning_rate': 0.16, 'random_state': 12345}\n",
      "6.105295 for {'learning_rate': 0.17, 'random_state': 12345}\n",
      "6.184853 for {'learning_rate': 0.18, 'random_state': 12345}\n",
      "6.205000 for {'learning_rate': 0.19, 'random_state': 12345}\n",
      "6.147596 for {'learning_rate': 0.2, 'random_state': 12345}\n",
      "6.264043 for {'learning_rate': 0.21, 'random_state': 12345}\n",
      "6.168097 for {'learning_rate': 0.22, 'random_state': 12345}\n",
      "6.228736 for {'learning_rate': 0.23, 'random_state': 12345}\n",
      "6.223694 for {'learning_rate': 0.24, 'random_state': 12345}\n",
      "6.291723 for {'learning_rate': 0.25, 'random_state': 12345}\n",
      "6.282791 for {'learning_rate': 0.26, 'random_state': 12345}\n",
      "6.321367 for {'learning_rate': 0.27, 'random_state': 12345}\n",
      "6.264265 for {'learning_rate': 0.28, 'random_state': 12345}\n",
      "6.144321 for {'learning_rate': 0.29, 'random_state': 12345}\n",
      "\n",
      "Лучшие параметры: {'learning_rate': 0.08, 'random_state': 12345}\n",
      "Средняя абсолютная ошибка LGBMRegressor =  5.92587718963623\n",
      "CPU times: user 2min 22s, sys: 987 ms, total: 2min 23s\n",
      "Wall time: 18.4 s\n"
     ]
    }
   ],
   "source": [
    "%%time\n",
    "\n",
    "model = XGBRegressor()\n",
    "hyperparams = [{'learning_rate':[x/100 for x in range(1, 30)],\n",
    "                'random_state':[12345]}]\n",
    "\n",
    "clf = GridSearchCV(model, hyperparams, scoring='neg_mean_absolute_error', cv=5)\n",
    "clf.fit(features_train, target_train)\n",
    "\n",
    "means = clf.cv_results_['mean_test_score']\n",
    "stds = clf.cv_results_['std_test_score']\n",
    "for mean, std, params in zip(means, stds, clf.cv_results_['params']):\n",
    "    print(\"%0.6f for %r\"% ((mean*-1), params))\n",
    "print()\n",
    "cv_mae_xgbr = (max(means) * -1)\n",
    "\n",
    "best_params_xgbr = clf.best_params_\n",
    "print('Лучшие параметры:', clf.best_params_)\n",
    "print('Средняя абсолютная ошибка LGBMRegressor = ', cv_mae_xgbr)"
   ]
  },
  {
   "cell_type": "markdown",
   "metadata": {},
   "source": [
    "Вывод:\n",
    "\n",
    "    Обучили модели и подобрали наилучшие параметры."
   ]
  },
  {
   "cell_type": "markdown",
   "metadata": {},
   "source": [
    "## Тестирование моделей"
   ]
  },
  {
   "cell_type": "markdown",
   "metadata": {},
   "source": [
    "Нам подойдет модель, которая выполнит одно из условий:\n",
    "- MAE ≤ 8.7 - минимальный показатель;\n",
    "- MAE ≤ 6.0 - лучший показатель."
   ]
  },
  {
   "cell_type": "code",
   "execution_count": 54,
   "metadata": {},
   "outputs": [
    {
     "name": "stdout",
     "output_type": "stream",
     "text": [
      "Средняя абсолютная ошибка LinearRegression = 6.70394794866837\n",
      "CPU times: user 38.8 ms, sys: 7.57 ms, total: 46.4 ms\n",
      "Wall time: 8.5 ms\n"
     ]
    }
   ],
   "source": [
    "%%time\n",
    "\n",
    "model = LinearRegression()\n",
    "model.fit(features_train, target_train)\n",
    "target_predict = model.predict(features_test)\n",
    "mae_lr = mean_absolute_error(target_predict, target_test)\n",
    "print('Средняя абсолютная ошибка LinearRegression =', mae_lr)"
   ]
  },
  {
   "cell_type": "code",
   "execution_count": 55,
   "metadata": {},
   "outputs": [
    {
     "name": "stdout",
     "output_type": "stream",
     "text": [
      "Средняя абсолютная ошибка RandomForestRegressor = 5.573031243534035\n",
      "CPU times: user 4.34 s, sys: 95.7 ms, total: 4.44 s\n",
      "Wall time: 3.55 s\n"
     ]
    }
   ],
   "source": [
    "%%time\n",
    "\n",
    "model = RandomForestRegressor()\n",
    "model.set_params(**best_params_rfr)\n",
    "model.fit(features_train, target_train)\n",
    "target_predict = model.predict(features_test)\n",
    "mae_rfr = mean_absolute_error(target_predict, target_test)\n",
    "print('Средняя абсолютная ошибка RandomForestRegressor =', mae_rfr)"
   ]
  },
  {
   "cell_type": "code",
   "execution_count": 56,
   "metadata": {},
   "outputs": [
    {
     "name": "stdout",
     "output_type": "stream",
     "text": [
      "Средняя абсолютная ошибка CatBoostRegressor = 5.252883770336989\n",
      "CPU times: user 8.06 s, sys: 179 ms, total: 8.24 s\n",
      "Wall time: 1.26 s\n"
     ]
    }
   ],
   "source": [
    "%%time\n",
    "\n",
    "model = CatBoostRegressor(verbose=False)\n",
    "model.set_params(**best_params_cbr)\n",
    "model.fit(features_train, target_train)\n",
    "target_predict = model.predict(features_test)\n",
    "mae_cbr = mean_absolute_error(target_predict, target_test)\n",
    "print('Средняя абсолютная ошибка CatBoostRegressor =', mae_cbr)"
   ]
  },
  {
   "cell_type": "code",
   "execution_count": 57,
   "metadata": {},
   "outputs": [
    {
     "name": "stdout",
     "output_type": "stream",
     "text": [
      "Средняя абсолютная ошибка LGBMRegressor = 5.31998603110814\n",
      "CPU times: user 327 ms, sys: 14.2 ms, total: 341 ms\n",
      "Wall time: 53.7 ms\n"
     ]
    }
   ],
   "source": [
    "%%time\n",
    "\n",
    "model = LGBMRegressor()\n",
    "model.set_params(**best_params_lgbm)\n",
    "model.fit(features_train, target_train)\n",
    "target_predict = model.predict(features_test)\n",
    "mae_lgbm = mean_absolute_error(target_predict, target_test)\n",
    "print('Средняя абсолютная ошибка LGBMRegressor =', mae_lgbm)"
   ]
  },
  {
   "cell_type": "code",
   "execution_count": 58,
   "metadata": {},
   "outputs": [
    {
     "name": "stdout",
     "output_type": "stream",
     "text": [
      "MAE on test of XGBRegressor = 5.3069286\n",
      "CPU times: user 1.03 s, sys: 14.1 ms, total: 1.04 s\n",
      "Wall time: 138 ms\n"
     ]
    }
   ],
   "source": [
    "%%time\n",
    "\n",
    "model = XGBRegressor()\n",
    "model.set_params(**best_params_xgbr)\n",
    "model.fit(features_train, target_train)\n",
    "target_predict = model.predict(features_test)\n",
    "mae_xgbr = mean_absolute_error(target_predict, target_test)\n",
    "print('MAE on test of XGBRegressor =', mae_xgbr)"
   ]
  },
  {
   "cell_type": "code",
   "execution_count": 59,
   "metadata": {},
   "outputs": [
    {
     "data": {
      "text/html": [
       "<div>\n",
       "<style scoped>\n",
       "    .dataframe tbody tr th:only-of-type {\n",
       "        vertical-align: middle;\n",
       "    }\n",
       "\n",
       "    .dataframe tbody tr th {\n",
       "        vertical-align: top;\n",
       "    }\n",
       "\n",
       "    .dataframe thead th {\n",
       "        text-align: right;\n",
       "    }\n",
       "</style>\n",
       "<table border=\"1\" class=\"dataframe\">\n",
       "  <thead>\n",
       "    <tr style=\"text-align: right;\">\n",
       "      <th></th>\n",
       "      <th>MAE на CV</th>\n",
       "      <th>MAE на тесте</th>\n",
       "      <th>MAE ≤ 8.7</th>\n",
       "      <th>MAE ≤ 6.0</th>\n",
       "    </tr>\n",
       "  </thead>\n",
       "  <tbody>\n",
       "    <tr>\n",
       "      <th>LinearRegression</th>\n",
       "      <td>7.647884</td>\n",
       "      <td>6.703948</td>\n",
       "      <td>True</td>\n",
       "      <td>False</td>\n",
       "    </tr>\n",
       "    <tr>\n",
       "      <th>RandomForestRegressor</th>\n",
       "      <td>6.128503</td>\n",
       "      <td>5.573031</td>\n",
       "      <td>True</td>\n",
       "      <td>True</td>\n",
       "    </tr>\n",
       "    <tr>\n",
       "      <th>CatBoostRegressor</th>\n",
       "      <td>5.853150</td>\n",
       "      <td>5.252884</td>\n",
       "      <td>True</td>\n",
       "      <td>True</td>\n",
       "    </tr>\n",
       "    <tr>\n",
       "      <th>LGBMRegressor</th>\n",
       "      <td>5.930128</td>\n",
       "      <td>5.319986</td>\n",
       "      <td>True</td>\n",
       "      <td>True</td>\n",
       "    </tr>\n",
       "    <tr>\n",
       "      <th>XGBRegressor</th>\n",
       "      <td>5.925877</td>\n",
       "      <td>5.306929</td>\n",
       "      <td>True</td>\n",
       "      <td>True</td>\n",
       "    </tr>\n",
       "  </tbody>\n",
       "</table>\n",
       "</div>"
      ],
      "text/plain": [
       "                       MAE на CV  MAE на тесте  MAE ≤ 8.7  MAE ≤ 6.0\n",
       "LinearRegression        7.647884      6.703948       True      False\n",
       "RandomForestRegressor   6.128503      5.573031       True       True\n",
       "CatBoostRegressor       5.853150      5.252884       True       True\n",
       "LGBMRegressor           5.930128      5.319986       True       True\n",
       "XGBRegressor            5.925877      5.306929       True       True"
      ]
     },
     "execution_count": 59,
     "metadata": {},
     "output_type": "execute_result"
    }
   ],
   "source": [
    "index = ['LinearRegression',\n",
    "         'RandomForestRegressor',\n",
    "         'CatBoostRegressor',\n",
    "         'LGBMRegressor',\n",
    "         'XGBRegressor']\n",
    "data = {'MAE на CV':[cv_mae_lr,\n",
    "                     cv_mae_rfr,\n",
    "                     cv_mae_cbr,\n",
    "                     cv_mae_lgbm,\n",
    "                     cv_mae_xgbr],\n",
    "        'MAE на тесте':[mae_lr,\n",
    "                        mae_rfr,\n",
    "                        mae_cbr,\n",
    "                        mae_lgbm,\n",
    "                        mae_xgbr]}\n",
    "\n",
    "scores_data = pd.DataFrame(data=data, index=index)\n",
    "scores_data['MAE ≤ 8.7'] = scores_data['MAE на тесте'] <= 8.7\n",
    "scores_data['MAE ≤ 6.0'] = scores_data['MAE на тесте'] <= 6\n",
    "scores_data"
   ]
  },
  {
   "cell_type": "code",
   "execution_count": 60,
   "metadata": {},
   "outputs": [
    {
     "data": {
      "text/plain": [
       "array([0.08618529, 0.10787082, 0.03210759, 0.17341585, 0.02109222,\n",
       "       0.03468122, 0.01736955, 0.03420625, 0.03881811, 0.        ,\n",
       "       0.        , 0.02469217, 0.02484562, 0.01982321, 0.02417287,\n",
       "       0.02348319, 0.04808898, 0.03397221, 0.11958799, 0.03375931,\n",
       "       0.03580399, 0.        , 0.04793166, 0.        , 0.01809193],\n",
       "      dtype=float32)"
      ]
     },
     "execution_count": 60,
     "metadata": {},
     "output_type": "execute_result"
    }
   ],
   "source": [
    "model.feature_importances_"
   ]
  },
  {
   "cell_type": "code",
   "execution_count": 61,
   "metadata": {},
   "outputs": [
    {
     "data": {
      "text/plain": [
       "Index(['sum_active_power', 'start_temp', 'bulk_1', 'bulk_2', 'bulk_3',\n",
       "       'bulk_4', 'bulk_5', 'bulk_6', 'bulk_7', 'bulk_8', 'bulk_9', 'bulk_10',\n",
       "       'bulk_11', 'bulk_12', 'bulk_13', 'bulk_14', 'bulk_15', 'gas', 'wire_1',\n",
       "       'wire_2', 'wire_3', 'wire_4', 'wire_6', 'wire_7', 'wire_9'],\n",
       "      dtype='object')"
      ]
     },
     "execution_count": 61,
     "metadata": {},
     "output_type": "execute_result"
    }
   ],
   "source": [
    "features_test.columns"
   ]
  },
  {
   "cell_type": "code",
   "execution_count": 62,
   "metadata": {},
   "outputs": [],
   "source": [
    "fi = pd.DataFrame({'name':features_test.columns,'fi':model.feature_importances_})\n",
    "fi = fi.sort_values('fi',ascending=False).reset_index(drop=True)"
   ]
  },
  {
   "cell_type": "code",
   "execution_count": 63,
   "metadata": {},
   "outputs": [
    {
     "data": {
      "image/png": "[encoded data removed]",
      "text/plain": [
       "<Figure size 432x288 with 1 Axes>"
      ]
     },
     "metadata": {
      "needs_background": "light"
     },
     "output_type": "display_data"
    },
    {
     "data": {
      "text/html": [
       "<div>\n",
       "<style scoped>\n",
       "    .dataframe tbody tr th:only-of-type {\n",
       "        vertical-align: middle;\n",
       "    }\n",
       "\n",
       "    .dataframe tbody tr th {\n",
       "        vertical-align: top;\n",
       "    }\n",
       "\n",
       "    .dataframe thead th {\n",
       "        text-align: right;\n",
       "    }\n",
       "</style>\n",
       "<table border=\"1\" class=\"dataframe\">\n",
       "  <thead>\n",
       "    <tr style=\"text-align: right;\">\n",
       "      <th></th>\n",
       "      <th>name</th>\n",
       "      <th>fi</th>\n",
       "    </tr>\n",
       "  </thead>\n",
       "  <tbody>\n",
       "    <tr>\n",
       "      <th>0</th>\n",
       "      <td>bulk_2</td>\n",
       "      <td>0.173416</td>\n",
       "    </tr>\n",
       "    <tr>\n",
       "      <th>1</th>\n",
       "      <td>wire_1</td>\n",
       "      <td>0.119588</td>\n",
       "    </tr>\n",
       "    <tr>\n",
       "      <th>2</th>\n",
       "      <td>start_temp</td>\n",
       "      <td>0.107871</td>\n",
       "    </tr>\n",
       "    <tr>\n",
       "      <th>3</th>\n",
       "      <td>sum_active_power</td>\n",
       "      <td>0.086185</td>\n",
       "    </tr>\n",
       "    <tr>\n",
       "      <th>4</th>\n",
       "      <td>bulk_15</td>\n",
       "      <td>0.048089</td>\n",
       "    </tr>\n",
       "    <tr>\n",
       "      <th>5</th>\n",
       "      <td>wire_6</td>\n",
       "      <td>0.047932</td>\n",
       "    </tr>\n",
       "    <tr>\n",
       "      <th>6</th>\n",
       "      <td>bulk_7</td>\n",
       "      <td>0.038818</td>\n",
       "    </tr>\n",
       "    <tr>\n",
       "      <th>7</th>\n",
       "      <td>wire_3</td>\n",
       "      <td>0.035804</td>\n",
       "    </tr>\n",
       "    <tr>\n",
       "      <th>8</th>\n",
       "      <td>bulk_4</td>\n",
       "      <td>0.034681</td>\n",
       "    </tr>\n",
       "    <tr>\n",
       "      <th>9</th>\n",
       "      <td>bulk_6</td>\n",
       "      <td>0.034206</td>\n",
       "    </tr>\n",
       "    <tr>\n",
       "      <th>10</th>\n",
       "      <td>gas</td>\n",
       "      <td>0.033972</td>\n",
       "    </tr>\n",
       "    <tr>\n",
       "      <th>11</th>\n",
       "      <td>wire_2</td>\n",
       "      <td>0.033759</td>\n",
       "    </tr>\n",
       "    <tr>\n",
       "      <th>12</th>\n",
       "      <td>bulk_1</td>\n",
       "      <td>0.032108</td>\n",
       "    </tr>\n",
       "    <tr>\n",
       "      <th>13</th>\n",
       "      <td>bulk_11</td>\n",
       "      <td>0.024846</td>\n",
       "    </tr>\n",
       "    <tr>\n",
       "      <th>14</th>\n",
       "      <td>bulk_10</td>\n",
       "      <td>0.024692</td>\n",
       "    </tr>\n",
       "    <tr>\n",
       "      <th>15</th>\n",
       "      <td>bulk_13</td>\n",
       "      <td>0.024173</td>\n",
       "    </tr>\n",
       "    <tr>\n",
       "      <th>16</th>\n",
       "      <td>bulk_14</td>\n",
       "      <td>0.023483</td>\n",
       "    </tr>\n",
       "    <tr>\n",
       "      <th>17</th>\n",
       "      <td>bulk_3</td>\n",
       "      <td>0.021092</td>\n",
       "    </tr>\n",
       "    <tr>\n",
       "      <th>18</th>\n",
       "      <td>bulk_12</td>\n",
       "      <td>0.019823</td>\n",
       "    </tr>\n",
       "    <tr>\n",
       "      <th>19</th>\n",
       "      <td>wire_9</td>\n",
       "      <td>0.018092</td>\n",
       "    </tr>\n",
       "    <tr>\n",
       "      <th>20</th>\n",
       "      <td>bulk_5</td>\n",
       "      <td>0.017370</td>\n",
       "    </tr>\n",
       "    <tr>\n",
       "      <th>21</th>\n",
       "      <td>bulk_9</td>\n",
       "      <td>0.000000</td>\n",
       "    </tr>\n",
       "    <tr>\n",
       "      <th>22</th>\n",
       "      <td>bulk_8</td>\n",
       "      <td>0.000000</td>\n",
       "    </tr>\n",
       "    <tr>\n",
       "      <th>23</th>\n",
       "      <td>wire_4</td>\n",
       "      <td>0.000000</td>\n",
       "    </tr>\n",
       "    <tr>\n",
       "      <th>24</th>\n",
       "      <td>wire_7</td>\n",
       "      <td>0.000000</td>\n",
       "    </tr>\n",
       "  </tbody>\n",
       "</table>\n",
       "</div>"
      ],
      "text/plain": [
       "                name        fi\n",
       "0             bulk_2  0.173416\n",
       "1             wire_1  0.119588\n",
       "2         start_temp  0.107871\n",
       "3   sum_active_power  0.086185\n",
       "4            bulk_15  0.048089\n",
       "5             wire_6  0.047932\n",
       "6             bulk_7  0.038818\n",
       "7             wire_3  0.035804\n",
       "8             bulk_4  0.034681\n",
       "9             bulk_6  0.034206\n",
       "10               gas  0.033972\n",
       "11            wire_2  0.033759\n",
       "12            bulk_1  0.032108\n",
       "13           bulk_11  0.024846\n",
       "14           bulk_10  0.024692\n",
       "15           bulk_13  0.024173\n",
       "16           bulk_14  0.023483\n",
       "17            bulk_3  0.021092\n",
       "18           bulk_12  0.019823\n",
       "19            wire_9  0.018092\n",
       "20            bulk_5  0.017370\n",
       "21            bulk_9  0.000000\n",
       "22            bulk_8  0.000000\n",
       "23            wire_4  0.000000\n",
       "24            wire_7  0.000000"
      ]
     },
     "execution_count": 63,
     "metadata": {},
     "output_type": "execute_result"
    }
   ],
   "source": [
    "fi.plot.bar(x='name', y='fi')\n",
    "plt.show()\n",
    "fi"
   ]
  },
  {
   "cell_type": "markdown",
   "metadata": {},
   "source": [
    "Мы видим, что последние 3 фактора(bulk_8, wire_7, wire_9, bulk_9) никак не влияют на модель, поэтому их можно убрать. Остальные факторы все важны)"
   ]
  },
  {
   "cell_type": "markdown",
   "metadata": {},
   "source": [
    "## Итоговый вывод"
   ]
  },
  {
   "cell_type": "markdown",
   "metadata": {},
   "source": [
    "В ходе работы, было выполнено:\n",
    "- подготовилии данные: заменили пропуски, изменили тип данных и названия столбцов, удалили аномалии;\n",
    "- объединили данные в одну таблицу;\n",
    "- выбрали модели и разбили выборку на features(75%) и target(25%);\n",
    "- обучилии модели;\n",
    "- протестировали.\n",
    "\n",
    "Наилучшей моделью оказался CatBoostRegressor с MAE = 5.204 и временем обучения 1min 27s, но, если посмотреть на модель XGBRegressor, она немного уступает в показателе MAE = 5.349, но намного превосходит во времени обучении 14.7 s. Это почти в 6 раз быстрее. У остальных моделей RandomForestRegressor, LGBMRegressor время обучения свыше минуты, а у LinearRegression показатель MAE хуже всех - 6.703948. \n",
    "\n",
    "Поэтому лучшей моделью является XGBRegressor."
   ]
  }
 ],
 "metadata": {
  "ExecuteTimeLog": [
   {
    "duration": 432,
    "start_time": "2021-09-21T16:15:33.120Z"
   },
   {
    "duration": 805,
    "start_time": "2021-09-21T16:15:38.529Z"
   },
   {
    "duration": 60,
    "start_time": "2021-09-21T16:15:40.101Z"
   },
   {
    "duration": 197,
    "start_time": "2021-09-21T16:17:39.175Z"
   },
   {
    "duration": 3,
    "start_time": "2021-09-21T16:29:28.413Z"
   },
   {
    "duration": 50,
    "start_time": "2021-09-21T16:29:30.676Z"
   },
   {
    "duration": 4,
    "start_time": "2021-09-21T16:30:26.607Z"
   },
   {
    "duration": 52,
    "start_time": "2021-09-21T16:30:30.566Z"
   },
   {
    "duration": 57,
    "start_time": "2021-09-21T16:30:55.007Z"
   },
   {
    "duration": 4,
    "start_time": "2021-09-21T16:35:18.795Z"
   },
   {
    "duration": 20,
    "start_time": "2021-09-21T16:35:46.139Z"
   },
   {
    "duration": 4,
    "start_time": "2021-09-21T16:52:19.636Z"
   },
   {
    "duration": 38,
    "start_time": "2021-09-21T16:52:21.093Z"
   },
   {
    "duration": 4,
    "start_time": "2021-09-21T16:52:49.793Z"
   },
   {
    "duration": 48,
    "start_time": "2021-09-21T16:52:50.216Z"
   },
   {
    "duration": 512,
    "start_time": "2021-09-21T16:54:46.385Z"
   },
   {
    "duration": 784,
    "start_time": "2021-09-21T16:55:18.360Z"
   },
   {
    "duration": 740,
    "start_time": "2021-09-21T16:56:02.706Z"
   },
   {
    "duration": 605,
    "start_time": "2021-09-21T16:56:13.928Z"
   },
   {
    "duration": 514,
    "start_time": "2021-09-21T16:56:22.387Z"
   },
   {
    "duration": 563,
    "start_time": "2021-09-21T16:58:12.508Z"
   },
   {
    "duration": 563,
    "start_time": "2021-09-21T16:58:23.772Z"
   },
   {
    "duration": 639,
    "start_time": "2021-09-21T16:58:50.589Z"
   },
   {
    "duration": 511,
    "start_time": "2021-09-21T17:04:29.254Z"
   },
   {
    "duration": 135,
    "start_time": "2021-09-21T17:04:42.611Z"
   },
   {
    "duration": 376,
    "start_time": "2021-09-21T17:04:52.493Z"
   },
   {
    "duration": 136,
    "start_time": "2021-09-21T17:05:20.220Z"
   },
   {
    "duration": 615,
    "start_time": "2021-09-21T17:07:08.323Z"
   },
   {
    "duration": 752,
    "start_time": "2021-09-21T17:07:22.724Z"
   },
   {
    "duration": 538,
    "start_time": "2021-09-21T17:08:25.777Z"
   },
   {
    "duration": 680,
    "start_time": "2021-09-21T17:08:35.424Z"
   },
   {
    "duration": 4,
    "start_time": "2021-09-21T17:10:18.720Z"
   },
   {
    "duration": 185,
    "start_time": "2021-09-21T17:10:19.215Z"
   },
   {
    "duration": 4,
    "start_time": "2021-09-21T17:10:22.712Z"
   },
   {
    "duration": 57,
    "start_time": "2021-09-21T17:10:25.275Z"
   },
   {
    "duration": 45,
    "start_time": "2021-09-21T17:10:27.642Z"
   },
   {
    "duration": 1668,
    "start_time": "2021-09-21T17:11:33.616Z"
   },
   {
    "duration": 747,
    "start_time": "2021-09-21T17:14:45.305Z"
   },
   {
    "duration": 34,
    "start_time": "2021-09-21T17:17:25.078Z"
   },
   {
    "duration": 69,
    "start_time": "2021-09-21T17:19:16.540Z"
   },
   {
    "duration": 7,
    "start_time": "2021-09-21T17:30:14.179Z"
   },
   {
    "duration": 5,
    "start_time": "2021-09-21T17:30:25.960Z"
   },
   {
    "duration": 6,
    "start_time": "2021-09-21T17:30:54.357Z"
   },
   {
    "duration": 5,
    "start_time": "2021-09-21T17:34:00.623Z"
   },
   {
    "duration": 6,
    "start_time": "2021-09-21T17:35:11.876Z"
   },
   {
    "duration": 346,
    "start_time": "2021-09-21T17:39:52.605Z"
   },
   {
    "duration": 319,
    "start_time": "2021-09-21T17:40:48.962Z"
   },
   {
    "duration": 364,
    "start_time": "2021-09-21T17:41:21.047Z"
   },
   {
    "duration": 402,
    "start_time": "2021-09-21T17:41:28.769Z"
   },
   {
    "duration": 198,
    "start_time": "2021-09-21T17:41:43.271Z"
   },
   {
    "duration": 40,
    "start_time": "2021-09-21T17:48:04.665Z"
   },
   {
    "duration": 44,
    "start_time": "2021-09-21T17:48:32.339Z"
   },
   {
    "duration": 29,
    "start_time": "2021-09-21T17:49:58.059Z"
   },
   {
    "duration": 6,
    "start_time": "2021-09-21T17:51:56.151Z"
   },
   {
    "duration": 49,
    "start_time": "2021-09-21T17:52:19.725Z"
   },
   {
    "duration": 6,
    "start_time": "2021-09-21T17:52:26.374Z"
   },
   {
    "duration": 93,
    "start_time": "2021-09-21T17:59:36.131Z"
   },
   {
    "duration": 9,
    "start_time": "2021-09-21T17:59:57.653Z"
   },
   {
    "duration": 6,
    "start_time": "2021-09-21T18:02:46.809Z"
   },
   {
    "duration": 568,
    "start_time": "2021-09-21T18:07:32.273Z"
   },
   {
    "duration": 946,
    "start_time": "2021-09-21T18:07:49.723Z"
   },
   {
    "duration": 610,
    "start_time": "2021-09-21T18:07:56.122Z"
   },
   {
    "duration": 610,
    "start_time": "2021-09-21T18:08:27.340Z"
   },
   {
    "duration": 51,
    "start_time": "2021-09-21T18:13:13.469Z"
   },
   {
    "duration": 28,
    "start_time": "2021-09-21T18:15:16.564Z"
   },
   {
    "duration": 7,
    "start_time": "2021-09-21T18:15:48.756Z"
   },
   {
    "duration": 697,
    "start_time": "2021-09-21T18:16:44.783Z"
   },
   {
    "duration": 33,
    "start_time": "2021-09-21T18:22:00.771Z"
   },
   {
    "duration": 35,
    "start_time": "2021-09-21T18:26:16.357Z"
   },
   {
    "duration": 329,
    "start_time": "2021-09-21T18:31:31.390Z"
   },
   {
    "duration": 789,
    "start_time": "2021-09-21T18:32:29.030Z"
   },
   {
    "duration": 322,
    "start_time": "2021-09-21T18:32:38.085Z"
   },
   {
    "duration": 106,
    "start_time": "2021-09-21T18:33:17.489Z"
   },
   {
    "duration": 7,
    "start_time": "2021-09-21T18:33:53.526Z"
   },
   {
    "duration": 108,
    "start_time": "2021-09-21T18:35:06.355Z"
   },
   {
    "duration": 3754,
    "start_time": "2021-09-21T18:35:11.794Z"
   },
   {
    "duration": 81,
    "start_time": "2021-09-21T18:35:49.834Z"
   },
   {
    "duration": 367,
    "start_time": "2021-09-21T18:47:14.624Z"
   },
   {
    "duration": 72,
    "start_time": "2021-09-21T18:47:24.837Z"
   },
   {
    "duration": 3635,
    "start_time": "2021-09-21T18:48:00.702Z"
   },
   {
    "duration": 36,
    "start_time": "2021-09-21T18:50:28.848Z"
   },
   {
    "duration": 40,
    "start_time": "2021-09-21T18:51:25.144Z"
   },
   {
    "duration": 7,
    "start_time": "2021-09-21T18:53:21.354Z"
   },
   {
    "duration": 8266,
    "start_time": "2021-09-21T19:23:50.543Z"
   },
   {
    "duration": 152,
    "start_time": "2021-09-21T19:24:18.036Z"
   },
   {
    "duration": 3,
    "start_time": "2021-09-21T19:26:07.599Z"
   },
   {
    "duration": 6201,
    "start_time": "2021-09-21T19:26:50.005Z"
   },
   {
    "duration": 112,
    "start_time": "2021-09-21T19:27:49.657Z"
   },
   {
    "duration": 7572,
    "start_time": "2021-09-21T19:28:03.032Z"
   },
   {
    "duration": 915,
    "start_time": "2021-09-21T20:11:03.184Z"
   },
   {
    "duration": 57,
    "start_time": "2021-09-21T20:11:04.101Z"
   },
   {
    "duration": 5,
    "start_time": "2021-09-21T20:11:04.161Z"
   },
   {
    "duration": 55,
    "start_time": "2021-09-21T20:11:04.168Z"
   },
   {
    "duration": 669,
    "start_time": "2021-09-21T20:11:04.225Z"
   },
   {
    "duration": 6,
    "start_time": "2021-09-21T20:11:04.897Z"
   },
   {
    "duration": 28,
    "start_time": "2021-09-21T20:11:04.906Z"
   },
   {
    "duration": 81,
    "start_time": "2021-09-21T20:11:04.938Z"
   },
   {
    "duration": 183,
    "start_time": "2021-09-21T20:11:05.021Z"
   },
   {
    "duration": 6296,
    "start_time": "2021-09-21T20:11:05.207Z"
   },
   {
    "duration": 597,
    "start_time": "2021-09-21T20:11:11.506Z"
   },
   {
    "duration": 5,
    "start_time": "2021-09-21T20:11:12.106Z"
   },
   {
    "duration": 46,
    "start_time": "2021-09-21T20:11:12.114Z"
   },
   {
    "duration": 51,
    "start_time": "2021-09-21T20:11:12.168Z"
   },
   {
    "duration": 6,
    "start_time": "2021-09-21T20:11:12.222Z"
   },
   {
    "duration": 93,
    "start_time": "2021-09-21T20:11:12.231Z"
   },
   {
    "duration": 10,
    "start_time": "2021-09-21T20:11:12.327Z"
   },
   {
    "duration": 7,
    "start_time": "2021-09-21T20:11:12.341Z"
   },
   {
    "duration": 630,
    "start_time": "2021-09-21T20:11:12.351Z"
   },
   {
    "duration": 35,
    "start_time": "2021-09-21T20:11:12.984Z"
   },
   {
    "duration": 45,
    "start_time": "2021-09-21T20:11:13.022Z"
   },
   {
    "duration": 6,
    "start_time": "2021-09-21T20:11:13.070Z"
   },
   {
    "duration": 615,
    "start_time": "2021-09-21T20:11:13.080Z"
   },
   {
    "duration": 30,
    "start_time": "2021-09-21T20:11:13.698Z"
   },
   {
    "duration": 44,
    "start_time": "2021-09-21T20:11:13.730Z"
   },
   {
    "duration": 109,
    "start_time": "2021-09-21T20:11:13.776Z"
   },
   {
    "duration": 4359,
    "start_time": "2021-09-21T20:11:13.888Z"
   },
   {
    "duration": 18,
    "start_time": "2021-09-21T20:11:18.249Z"
   },
   {
    "duration": 42,
    "start_time": "2021-09-21T20:11:18.269Z"
   },
   {
    "duration": 32,
    "start_time": "2021-09-21T20:11:18.313Z"
   },
   {
    "duration": 21,
    "start_time": "2021-09-21T20:11:18.348Z"
   },
   {
    "duration": 656,
    "start_time": "2021-09-22T09:20:40.407Z"
   },
   {
    "duration": 55,
    "start_time": "2021-09-22T09:20:42.546Z"
   },
   {
    "duration": 3,
    "start_time": "2021-09-22T09:20:43.108Z"
   },
   {
    "duration": 45,
    "start_time": "2021-09-22T09:20:43.316Z"
   },
   {
    "duration": 574,
    "start_time": "2021-09-22T09:20:44.068Z"
   },
   {
    "duration": 8,
    "start_time": "2021-09-22T09:20:44.645Z"
   },
   {
    "duration": 39,
    "start_time": "2021-09-22T09:20:44.687Z"
   },
   {
    "duration": 53,
    "start_time": "2021-09-22T09:20:44.862Z"
   },
   {
    "duration": 108,
    "start_time": "2021-09-22T09:20:45.372Z"
   },
   {
    "duration": 4604,
    "start_time": "2021-09-22T09:20:45.559Z"
   },
   {
    "duration": 347,
    "start_time": "2021-09-22T09:20:50.166Z"
   },
   {
    "duration": 5,
    "start_time": "2021-09-22T09:20:50.515Z"
   },
   {
    "duration": 49,
    "start_time": "2021-09-22T09:20:50.522Z"
   },
   {
    "duration": 46,
    "start_time": "2021-09-22T09:20:50.573Z"
   },
   {
    "duration": 5,
    "start_time": "2021-09-22T09:20:50.622Z"
   },
   {
    "duration": 62,
    "start_time": "2021-09-22T09:20:50.629Z"
   },
   {
    "duration": 11,
    "start_time": "2021-09-22T09:20:50.694Z"
   },
   {
    "duration": 4,
    "start_time": "2021-09-22T09:20:50.707Z"
   },
   {
    "duration": 366,
    "start_time": "2021-09-22T09:20:50.713Z"
   },
   {
    "duration": 30,
    "start_time": "2021-09-22T09:20:51.080Z"
   },
   {
    "duration": 20,
    "start_time": "2021-09-22T09:20:51.112Z"
   },
   {
    "duration": 4,
    "start_time": "2021-09-22T09:20:51.133Z"
   },
   {
    "duration": 364,
    "start_time": "2021-09-22T09:20:51.139Z"
   },
   {
    "duration": 25,
    "start_time": "2021-09-22T09:20:51.505Z"
   },
   {
    "duration": 32,
    "start_time": "2021-09-22T09:20:51.531Z"
   },
   {
    "duration": 97,
    "start_time": "2021-09-22T09:20:51.566Z"
   },
   {
    "duration": 2603,
    "start_time": "2021-09-22T09:20:51.665Z"
   },
   {
    "duration": 5,
    "start_time": "2021-09-22T09:20:54.270Z"
   },
   {
    "duration": 45,
    "start_time": "2021-09-22T09:20:54.277Z"
   },
   {
    "duration": 18,
    "start_time": "2021-09-22T09:20:54.324Z"
   },
   {
    "duration": 5,
    "start_time": "2021-09-22T09:20:54.344Z"
   },
   {
    "duration": 263,
    "start_time": "2021-09-23T16:39:57.630Z"
   },
   {
    "duration": 769,
    "start_time": "2021-09-23T16:40:06.675Z"
   },
   {
    "duration": 53,
    "start_time": "2021-09-23T16:40:07.448Z"
   },
   {
    "duration": 3,
    "start_time": "2021-09-23T16:40:07.506Z"
   },
   {
    "duration": 33,
    "start_time": "2021-09-23T16:40:07.511Z"
   },
   {
    "duration": 351,
    "start_time": "2021-09-23T16:40:07.546Z"
   },
   {
    "duration": 4,
    "start_time": "2021-09-23T16:40:07.898Z"
   },
   {
    "duration": 60,
    "start_time": "2021-09-23T16:40:07.904Z"
   },
   {
    "duration": 36,
    "start_time": "2021-09-23T16:40:07.966Z"
   },
   {
    "duration": 146,
    "start_time": "2021-09-23T16:40:08.004Z"
   },
   {
    "duration": 4019,
    "start_time": "2021-09-23T16:40:08.152Z"
   },
   {
    "duration": 342,
    "start_time": "2021-09-23T16:40:12.174Z"
   },
   {
    "duration": 6,
    "start_time": "2021-09-23T16:40:12.518Z"
   },
   {
    "duration": 72,
    "start_time": "2021-09-23T16:40:12.526Z"
   },
   {
    "duration": 34,
    "start_time": "2021-09-23T16:40:12.600Z"
   },
   {
    "duration": 5,
    "start_time": "2021-09-23T16:40:12.636Z"
   },
   {
    "duration": 56,
    "start_time": "2021-09-23T16:40:12.643Z"
   },
   {
    "duration": 7,
    "start_time": "2021-09-23T16:40:12.701Z"
   },
   {
    "duration": 5,
    "start_time": "2021-09-23T16:40:12.710Z"
   },
   {
    "duration": 521,
    "start_time": "2021-09-23T16:40:12.717Z"
   },
   {
    "duration": 36,
    "start_time": "2021-09-23T16:40:13.241Z"
   },
   {
    "duration": 18,
    "start_time": "2021-09-23T16:40:13.278Z"
   },
   {
    "duration": 7,
    "start_time": "2021-09-23T16:40:13.299Z"
   },
   {
    "duration": 346,
    "start_time": "2021-09-23T16:40:13.308Z"
   },
   {
    "duration": 77,
    "start_time": "2021-09-23T16:40:13.656Z"
   },
   {
    "duration": 23,
    "start_time": "2021-09-23T16:40:13.735Z"
   },
   {
    "duration": 49,
    "start_time": "2021-09-23T16:40:13.759Z"
   },
   {
    "duration": 2458,
    "start_time": "2021-09-23T16:40:13.850Z"
   },
   {
    "duration": 4,
    "start_time": "2021-09-23T16:40:16.310Z"
   },
   {
    "duration": 100,
    "start_time": "2021-09-23T16:40:16.316Z"
   },
   {
    "duration": 23,
    "start_time": "2021-09-23T16:40:16.417Z"
   },
   {
    "duration": 4,
    "start_time": "2021-09-23T16:40:16.442Z"
   },
   {
    "duration": 18,
    "start_time": "2021-09-23T16:40:16.448Z"
   },
   {
    "duration": 10,
    "start_time": "2021-09-23T16:41:00.770Z"
   },
   {
    "duration": 23,
    "start_time": "2021-09-23T16:45:09.888Z"
   },
   {
    "duration": 347,
    "start_time": "2021-09-23T16:45:21.164Z"
   },
   {
    "duration": 20,
    "start_time": "2021-09-23T16:45:34.621Z"
   },
   {
    "duration": 19,
    "start_time": "2021-09-23T16:45:46.854Z"
   },
   {
    "duration": 9,
    "start_time": "2021-09-23T16:50:57.617Z"
   },
   {
    "duration": 9,
    "start_time": "2021-09-23T16:51:34.327Z"
   },
   {
    "duration": 11,
    "start_time": "2021-09-23T16:53:08.717Z"
   },
   {
    "duration": 9,
    "start_time": "2021-09-23T16:57:02.361Z"
   },
   {
    "duration": 11,
    "start_time": "2021-09-23T17:03:38.690Z"
   },
   {
    "duration": 10,
    "start_time": "2021-09-23T17:06:47.915Z"
   },
   {
    "duration": 9,
    "start_time": "2021-09-23T17:06:50.195Z"
   },
   {
    "duration": 9,
    "start_time": "2021-09-23T17:07:48.990Z"
   },
   {
    "duration": 10,
    "start_time": "2021-09-23T17:07:51.418Z"
   },
   {
    "duration": 13,
    "start_time": "2021-09-23T17:08:24.261Z"
   },
   {
    "duration": 9,
    "start_time": "2021-09-23T17:08:27.340Z"
   },
   {
    "duration": 10,
    "start_time": "2021-09-23T17:09:28.455Z"
   },
   {
    "duration": 10,
    "start_time": "2021-09-23T17:09:32.309Z"
   },
   {
    "duration": 4522,
    "start_time": "2021-09-23T17:10:12.211Z"
   },
   {
    "duration": 8,
    "start_time": "2021-09-23T17:10:34.814Z"
   },
   {
    "duration": 8,
    "start_time": "2021-09-23T17:10:39.422Z"
   },
   {
    "duration": 8784,
    "start_time": "2021-09-23T17:11:08.704Z"
   },
   {
    "duration": 773,
    "start_time": "2021-09-23T17:16:51.188Z"
   },
   {
    "duration": 8974,
    "start_time": "2021-09-23T17:17:29.975Z"
   },
   {
    "duration": 7,
    "start_time": "2021-09-23T17:21:48.115Z"
   },
   {
    "duration": 15,
    "start_time": "2021-09-23T17:21:53.946Z"
   },
   {
    "duration": 7,
    "start_time": "2021-09-23T17:22:12.112Z"
   },
   {
    "duration": 84,
    "start_time": "2021-09-23T17:23:39.603Z"
   },
   {
    "duration": 293,
    "start_time": "2021-09-23T17:23:44.557Z"
   },
   {
    "duration": 7,
    "start_time": "2021-09-23T17:23:48.359Z"
   },
   {
    "duration": 7,
    "start_time": "2021-09-23T17:23:50.830Z"
   },
   {
    "duration": 260,
    "start_time": "2021-09-23T17:25:15.083Z"
   },
   {
    "duration": 257,
    "start_time": "2021-09-23T17:25:28.780Z"
   },
   {
    "duration": 275,
    "start_time": "2021-09-23T17:26:09.934Z"
   },
   {
    "duration": 255,
    "start_time": "2021-09-23T17:26:23.886Z"
   },
   {
    "duration": 6,
    "start_time": "2021-09-23T17:26:34.796Z"
   },
   {
    "duration": 9,
    "start_time": "2021-09-23T17:26:55.441Z"
   },
   {
    "duration": 10,
    "start_time": "2021-09-23T17:27:11.593Z"
   },
   {
    "duration": 11,
    "start_time": "2021-09-23T17:27:19.965Z"
   },
   {
    "duration": 270,
    "start_time": "2021-09-23T17:28:15.022Z"
   },
   {
    "duration": 7,
    "start_time": "2021-09-23T17:28:26.359Z"
   },
   {
    "duration": 7,
    "start_time": "2021-09-23T17:28:50.943Z"
   },
   {
    "duration": 8,
    "start_time": "2021-09-23T17:28:59.842Z"
   },
   {
    "duration": 7,
    "start_time": "2021-09-23T17:29:05.995Z"
   },
   {
    "duration": 7,
    "start_time": "2021-09-23T17:29:11.889Z"
   },
   {
    "duration": 7,
    "start_time": "2021-09-23T17:29:30.539Z"
   },
   {
    "duration": 6,
    "start_time": "2021-09-23T17:29:45.377Z"
   },
   {
    "duration": 13,
    "start_time": "2021-09-23T17:30:56.469Z"
   },
   {
    "duration": 5,
    "start_time": "2021-09-23T17:33:28.741Z"
   },
   {
    "duration": 7,
    "start_time": "2021-09-23T17:33:35.966Z"
   },
   {
    "duration": 7,
    "start_time": "2021-09-23T17:33:53.943Z"
   },
   {
    "duration": 7,
    "start_time": "2021-09-23T17:34:45.845Z"
   },
   {
    "duration": 7,
    "start_time": "2021-09-23T17:35:24.935Z"
   },
   {
    "duration": 12,
    "start_time": "2021-09-23T17:36:37.934Z"
   },
   {
    "duration": 7,
    "start_time": "2021-09-23T17:37:28.575Z"
   },
   {
    "duration": 12,
    "start_time": "2021-09-23T17:38:43.305Z"
   },
   {
    "duration": 12,
    "start_time": "2021-09-23T17:38:50.329Z"
   },
   {
    "duration": 12,
    "start_time": "2021-09-23T17:38:54.160Z"
   },
   {
    "duration": 693,
    "start_time": "2021-09-23T17:39:07.641Z"
   },
   {
    "duration": 51,
    "start_time": "2021-09-23T17:39:08.336Z"
   },
   {
    "duration": 2,
    "start_time": "2021-09-23T17:39:08.392Z"
   },
   {
    "duration": 35,
    "start_time": "2021-09-23T17:39:08.396Z"
   },
   {
    "duration": 359,
    "start_time": "2021-09-23T17:39:08.433Z"
   },
   {
    "duration": 4,
    "start_time": "2021-09-23T17:39:08.794Z"
   },
   {
    "duration": 23,
    "start_time": "2021-09-23T17:39:08.801Z"
   },
   {
    "duration": 50,
    "start_time": "2021-09-23T17:39:08.826Z"
   },
   {
    "duration": 129,
    "start_time": "2021-09-23T17:39:08.878Z"
   },
   {
    "duration": 5389,
    "start_time": "2021-09-23T17:39:09.009Z"
   },
   {
    "duration": 499,
    "start_time": "2021-09-23T17:39:14.400Z"
   },
   {
    "duration": 5,
    "start_time": "2021-09-23T17:39:14.901Z"
   },
   {
    "duration": 44,
    "start_time": "2021-09-23T17:39:14.907Z"
   },
   {
    "duration": 30,
    "start_time": "2021-09-23T17:39:14.953Z"
   },
   {
    "duration": 4,
    "start_time": "2021-09-23T17:39:14.985Z"
   },
   {
    "duration": 49,
    "start_time": "2021-09-23T17:39:14.990Z"
   },
   {
    "duration": 10,
    "start_time": "2021-09-23T17:39:15.041Z"
   },
   {
    "duration": 9,
    "start_time": "2021-09-23T17:39:15.053Z"
   },
   {
    "duration": 345,
    "start_time": "2021-09-23T17:39:15.064Z"
   },
   {
    "duration": 29,
    "start_time": "2021-09-23T17:39:15.410Z"
   },
   {
    "duration": 22,
    "start_time": "2021-09-23T17:39:15.441Z"
   },
   {
    "duration": 4,
    "start_time": "2021-09-23T17:39:15.467Z"
   },
   {
    "duration": 343,
    "start_time": "2021-09-23T17:39:15.474Z"
   },
   {
    "duration": 22,
    "start_time": "2021-09-23T17:39:15.818Z"
   },
   {
    "duration": 23,
    "start_time": "2021-09-23T17:39:15.841Z"
   },
   {
    "duration": 44,
    "start_time": "2021-09-23T17:39:15.866Z"
   },
   {
    "duration": 2578,
    "start_time": "2021-09-23T17:39:15.911Z"
   },
   {
    "duration": 4,
    "start_time": "2021-09-23T17:39:18.491Z"
   },
   {
    "duration": 42,
    "start_time": "2021-09-23T17:39:18.497Z"
   },
   {
    "duration": 21,
    "start_time": "2021-09-23T17:39:18.541Z"
   },
   {
    "duration": 5,
    "start_time": "2021-09-23T17:39:18.564Z"
   },
   {
    "duration": 21,
    "start_time": "2021-09-23T17:39:18.571Z"
   },
   {
    "duration": 8793,
    "start_time": "2021-09-23T17:39:18.594Z"
   },
   {
    "duration": 14,
    "start_time": "2021-09-23T17:39:27.389Z"
   },
   {
    "duration": 14,
    "start_time": "2021-09-23T17:39:27.404Z"
   },
   {
    "duration": 376,
    "start_time": "2021-09-23T17:44:37.024Z"
   },
   {
    "duration": 479,
    "start_time": "2021-09-23T17:44:54.655Z"
   },
   {
    "duration": 428,
    "start_time": "2021-09-23T17:46:14.127Z"
   },
   {
    "duration": 428,
    "start_time": "2021-09-23T17:46:25.247Z"
   },
   {
    "duration": 610,
    "start_time": "2021-09-23T17:48:45.899Z"
   },
   {
    "duration": 52,
    "start_time": "2021-09-23T17:48:46.511Z"
   },
   {
    "duration": 3,
    "start_time": "2021-09-23T17:48:46.566Z"
   },
   {
    "duration": 47,
    "start_time": "2021-09-23T17:48:46.571Z"
   },
   {
    "duration": 361,
    "start_time": "2021-09-23T17:48:46.620Z"
   },
   {
    "duration": 4,
    "start_time": "2021-09-23T17:48:46.983Z"
   },
   {
    "duration": 27,
    "start_time": "2021-09-23T17:48:46.989Z"
   },
   {
    "duration": 46,
    "start_time": "2021-09-23T17:48:47.019Z"
   },
   {
    "duration": 111,
    "start_time": "2021-09-23T17:48:47.067Z"
   },
   {
    "duration": 5438,
    "start_time": "2021-09-23T17:48:47.180Z"
   },
   {
    "duration": 331,
    "start_time": "2021-09-23T17:48:52.620Z"
   },
   {
    "duration": 4,
    "start_time": "2021-09-23T17:48:52.953Z"
   },
   {
    "duration": 45,
    "start_time": "2021-09-23T17:48:52.959Z"
   },
   {
    "duration": 34,
    "start_time": "2021-09-23T17:48:53.006Z"
   },
   {
    "duration": 7,
    "start_time": "2021-09-23T17:48:53.042Z"
   },
   {
    "duration": 44,
    "start_time": "2021-09-23T17:48:53.050Z"
   },
   {
    "duration": 7,
    "start_time": "2021-09-23T17:48:53.097Z"
   },
   {
    "duration": 5,
    "start_time": "2021-09-23T17:48:53.106Z"
   },
   {
    "duration": 382,
    "start_time": "2021-09-23T17:48:53.113Z"
   },
   {
    "duration": 30,
    "start_time": "2021-09-23T17:48:53.497Z"
   },
   {
    "duration": 21,
    "start_time": "2021-09-23T17:48:53.528Z"
   },
   {
    "duration": 4,
    "start_time": "2021-09-23T17:48:53.550Z"
   },
   {
    "duration": 332,
    "start_time": "2021-09-23T17:48:53.557Z"
   },
   {
    "duration": 22,
    "start_time": "2021-09-23T17:48:53.890Z"
   },
   {
    "duration": 22,
    "start_time": "2021-09-23T17:48:53.913Z"
   },
   {
    "duration": 59,
    "start_time": "2021-09-23T17:48:53.937Z"
   },
   {
    "duration": 2508,
    "start_time": "2021-09-23T17:48:53.997Z"
   },
   {
    "duration": 4,
    "start_time": "2021-09-23T17:48:56.507Z"
   },
   {
    "duration": 38,
    "start_time": "2021-09-23T17:48:56.513Z"
   },
   {
    "duration": 18,
    "start_time": "2021-09-23T17:48:56.553Z"
   },
   {
    "duration": 5,
    "start_time": "2021-09-23T17:48:56.573Z"
   },
   {
    "duration": 22,
    "start_time": "2021-09-23T17:48:56.580Z"
   },
   {
    "duration": 8946,
    "start_time": "2021-09-23T17:48:56.604Z"
   },
   {
    "duration": 13,
    "start_time": "2021-09-23T17:49:05.552Z"
   },
   {
    "duration": 15,
    "start_time": "2021-09-23T17:49:05.567Z"
   },
   {
    "duration": 423,
    "start_time": "2021-09-23T17:49:05.584Z"
   },
   {
    "duration": 372,
    "start_time": "2021-09-23T17:49:29.364Z"
   },
   {
    "duration": 673,
    "start_time": "2021-09-23T17:49:43.440Z"
   },
   {
    "duration": 51,
    "start_time": "2021-09-23T17:49:44.115Z"
   },
   {
    "duration": 3,
    "start_time": "2021-09-23T17:49:44.167Z"
   },
   {
    "duration": 36,
    "start_time": "2021-09-23T17:49:44.172Z"
   },
   {
    "duration": 373,
    "start_time": "2021-09-23T17:49:44.210Z"
   },
   {
    "duration": 4,
    "start_time": "2021-09-23T17:49:44.585Z"
   },
   {
    "duration": 29,
    "start_time": "2021-09-23T17:49:44.590Z"
   },
   {
    "duration": 40,
    "start_time": "2021-09-23T17:49:44.621Z"
   },
   {
    "duration": 109,
    "start_time": "2021-09-23T17:49:44.663Z"
   },
   {
    "duration": 3740,
    "start_time": "2021-09-23T17:49:44.774Z"
   },
   {
    "duration": 428,
    "start_time": "2021-09-23T17:49:48.516Z"
   },
   {
    "duration": 6,
    "start_time": "2021-09-23T17:49:48.949Z"
   },
   {
    "duration": 45,
    "start_time": "2021-09-23T17:49:48.957Z"
   },
   {
    "duration": 34,
    "start_time": "2021-09-23T17:49:49.004Z"
   },
   {
    "duration": 11,
    "start_time": "2021-09-23T17:49:49.040Z"
   },
   {
    "duration": 45,
    "start_time": "2021-09-23T17:49:49.052Z"
   },
   {
    "duration": 8,
    "start_time": "2021-09-23T17:49:49.098Z"
   },
   {
    "duration": 5,
    "start_time": "2021-09-23T17:49:49.108Z"
   },
   {
    "duration": 335,
    "start_time": "2021-09-23T17:49:49.114Z"
   },
   {
    "duration": 28,
    "start_time": "2021-09-23T17:49:49.451Z"
   },
   {
    "duration": 17,
    "start_time": "2021-09-23T17:49:49.481Z"
   },
   {
    "duration": 4,
    "start_time": "2021-09-23T17:49:49.500Z"
   },
   {
    "duration": 359,
    "start_time": "2021-09-23T17:49:49.507Z"
   },
   {
    "duration": 22,
    "start_time": "2021-09-23T17:49:49.868Z"
   },
   {
    "duration": 27,
    "start_time": "2021-09-23T17:49:49.892Z"
   },
   {
    "duration": 63,
    "start_time": "2021-09-23T17:49:49.920Z"
   },
   {
    "duration": 2727,
    "start_time": "2021-09-23T17:49:49.985Z"
   },
   {
    "duration": 4,
    "start_time": "2021-09-23T17:49:52.714Z"
   },
   {
    "duration": 41,
    "start_time": "2021-09-23T17:49:52.720Z"
   },
   {
    "duration": 20,
    "start_time": "2021-09-23T17:49:52.763Z"
   },
   {
    "duration": 4,
    "start_time": "2021-09-23T17:49:52.785Z"
   },
   {
    "duration": 24,
    "start_time": "2021-09-23T17:49:52.791Z"
   },
   {
    "duration": 13092,
    "start_time": "2021-09-23T17:49:52.817Z"
   },
   {
    "duration": 18,
    "start_time": "2021-09-23T17:50:05.911Z"
   },
   {
    "duration": 27,
    "start_time": "2021-09-23T17:50:05.932Z"
   },
   {
    "duration": 391,
    "start_time": "2021-09-23T17:50:05.961Z"
   },
   {
    "duration": 704,
    "start_time": "2021-09-23T17:53:25.004Z"
   },
   {
    "duration": 3,
    "start_time": "2021-09-23T18:03:24.114Z"
   },
   {
    "duration": 17,
    "start_time": "2021-09-23T18:03:29.306Z"
   },
   {
    "duration": 371,
    "start_time": "2021-09-23T18:05:57.711Z"
   },
   {
    "duration": 9,
    "start_time": "2021-09-23T18:06:11.846Z"
   },
   {
    "duration": 16,
    "start_time": "2021-09-23T18:06:18.614Z"
   },
   {
    "duration": 12,
    "start_time": "2021-09-23T18:09:13.514Z"
   },
   {
    "duration": 20,
    "start_time": "2021-09-23T18:09:20.056Z"
   },
   {
    "duration": 276,
    "start_time": "2021-09-23T18:09:53.986Z"
   },
   {
    "duration": 13,
    "start_time": "2021-09-23T18:09:59.544Z"
   },
   {
    "duration": 289,
    "start_time": "2021-09-23T18:10:34.666Z"
   },
   {
    "duration": 27,
    "start_time": "2021-09-23T18:11:17.235Z"
   },
   {
    "duration": 18,
    "start_time": "2021-09-23T18:11:56.649Z"
   },
   {
    "duration": 18,
    "start_time": "2021-09-23T18:22:07.708Z"
   },
   {
    "duration": 228,
    "start_time": "2021-09-23T18:22:27.953Z"
   },
   {
    "duration": 628,
    "start_time": "2021-09-23T18:24:13.773Z"
   },
   {
    "duration": 53,
    "start_time": "2021-09-23T18:24:14.402Z"
   },
   {
    "duration": 3,
    "start_time": "2021-09-23T18:24:14.457Z"
   },
   {
    "duration": 33,
    "start_time": "2021-09-23T18:24:14.462Z"
   },
   {
    "duration": 363,
    "start_time": "2021-09-23T18:24:14.497Z"
   },
   {
    "duration": 5,
    "start_time": "2021-09-23T18:24:14.862Z"
   },
   {
    "duration": 52,
    "start_time": "2021-09-23T18:24:14.869Z"
   },
   {
    "duration": 37,
    "start_time": "2021-09-23T18:24:14.925Z"
   },
   {
    "duration": 117,
    "start_time": "2021-09-23T18:24:14.964Z"
   },
   {
    "duration": 3554,
    "start_time": "2021-09-23T18:24:15.082Z"
   },
   {
    "duration": 331,
    "start_time": "2021-09-23T18:24:18.638Z"
   },
   {
    "duration": 4,
    "start_time": "2021-09-23T18:24:18.971Z"
   },
   {
    "duration": 78,
    "start_time": "2021-09-23T18:24:18.977Z"
   },
   {
    "duration": 32,
    "start_time": "2021-09-23T18:24:19.057Z"
   },
   {
    "duration": 4,
    "start_time": "2021-09-23T18:24:19.091Z"
   },
   {
    "duration": 56,
    "start_time": "2021-09-23T18:24:19.096Z"
   },
   {
    "duration": 6,
    "start_time": "2021-09-23T18:24:19.154Z"
   },
   {
    "duration": 4,
    "start_time": "2021-09-23T18:24:19.162Z"
   },
   {
    "duration": 354,
    "start_time": "2021-09-23T18:24:19.168Z"
   },
   {
    "duration": 30,
    "start_time": "2021-09-23T18:24:19.524Z"
   },
   {
    "duration": 22,
    "start_time": "2021-09-23T18:24:19.556Z"
   },
   {
    "duration": 5,
    "start_time": "2021-09-23T18:24:19.580Z"
   },
   {
    "duration": 354,
    "start_time": "2021-09-23T18:24:19.588Z"
   },
   {
    "duration": 68,
    "start_time": "2021-09-23T18:24:19.948Z"
   },
   {
    "duration": 22,
    "start_time": "2021-09-23T18:24:20.018Z"
   },
   {
    "duration": 45,
    "start_time": "2021-09-23T18:24:20.041Z"
   },
   {
    "duration": 2601,
    "start_time": "2021-09-23T18:24:20.087Z"
   },
   {
    "duration": 4,
    "start_time": "2021-09-23T18:24:22.690Z"
   },
   {
    "duration": 94,
    "start_time": "2021-09-23T18:24:22.696Z"
   },
   {
    "duration": 19,
    "start_time": "2021-09-23T18:24:22.792Z"
   },
   {
    "duration": 4,
    "start_time": "2021-09-23T18:24:22.812Z"
   },
   {
    "duration": 30,
    "start_time": "2021-09-23T18:24:22.817Z"
   },
   {
    "duration": 9021,
    "start_time": "2021-09-23T18:24:22.849Z"
   },
   {
    "duration": 12,
    "start_time": "2021-09-23T18:24:31.872Z"
   },
   {
    "duration": 12,
    "start_time": "2021-09-23T18:24:31.886Z"
   },
   {
    "duration": 396,
    "start_time": "2021-09-23T18:24:31.900Z"
   },
   {
    "duration": 21,
    "start_time": "2021-09-23T18:24:32.298Z"
   },
   {
    "duration": 301,
    "start_time": "2021-09-23T18:24:32.321Z"
   },
   {
    "duration": 651,
    "start_time": "2021-09-23T18:28:33.261Z"
   },
   {
    "duration": 54,
    "start_time": "2021-09-23T18:28:33.913Z"
   },
   {
    "duration": 4,
    "start_time": "2021-09-23T18:28:33.969Z"
   },
   {
    "duration": 51,
    "start_time": "2021-09-23T18:28:33.975Z"
   },
   {
    "duration": 580,
    "start_time": "2021-09-23T18:28:34.028Z"
   },
   {
    "duration": 5,
    "start_time": "2021-09-23T18:28:34.610Z"
   },
   {
    "duration": 29,
    "start_time": "2021-09-23T18:28:34.617Z"
   },
   {
    "duration": 38,
    "start_time": "2021-09-23T18:28:34.650Z"
   },
   {
    "duration": 115,
    "start_time": "2021-09-23T18:28:34.690Z"
   },
   {
    "duration": 3707,
    "start_time": "2021-09-23T18:28:34.850Z"
   },
   {
    "duration": 319,
    "start_time": "2021-09-23T18:28:38.559Z"
   },
   {
    "duration": 5,
    "start_time": "2021-09-23T18:28:38.879Z"
   },
   {
    "duration": 49,
    "start_time": "2021-09-23T18:28:38.885Z"
   },
   {
    "duration": 30,
    "start_time": "2021-09-23T18:28:38.936Z"
   },
   {
    "duration": 4,
    "start_time": "2021-09-23T18:28:38.968Z"
   },
   {
    "duration": 50,
    "start_time": "2021-09-23T18:28:38.974Z"
   },
   {
    "duration": 8,
    "start_time": "2021-09-23T18:28:39.027Z"
   },
   {
    "duration": 6,
    "start_time": "2021-09-23T18:28:39.037Z"
   },
   {
    "duration": 361,
    "start_time": "2021-09-23T18:28:39.045Z"
   },
   {
    "duration": 31,
    "start_time": "2021-09-23T18:28:39.408Z"
   },
   {
    "duration": 25,
    "start_time": "2021-09-23T18:28:39.441Z"
   },
   {
    "duration": 4,
    "start_time": "2021-09-23T18:28:39.468Z"
   },
   {
    "duration": 347,
    "start_time": "2021-09-23T18:28:39.475Z"
   },
   {
    "duration": 22,
    "start_time": "2021-09-23T18:28:39.824Z"
   },
   {
    "duration": 23,
    "start_time": "2021-09-23T18:28:39.847Z"
   },
   {
    "duration": 79,
    "start_time": "2021-09-23T18:28:39.872Z"
   },
   {
    "duration": 2726,
    "start_time": "2021-09-23T18:28:39.952Z"
   },
   {
    "duration": 4,
    "start_time": "2021-09-23T18:28:42.680Z"
   },
   {
    "duration": 41,
    "start_time": "2021-09-23T18:28:42.686Z"
   },
   {
    "duration": 20,
    "start_time": "2021-09-23T18:28:42.729Z"
   },
   {
    "duration": 4,
    "start_time": "2021-09-23T18:28:42.750Z"
   },
   {
    "duration": 22,
    "start_time": "2021-09-23T18:28:42.756Z"
   },
   {
    "duration": 9240,
    "start_time": "2021-09-23T18:28:42.780Z"
   },
   {
    "duration": 13,
    "start_time": "2021-09-23T18:28:52.022Z"
   },
   {
    "duration": 22,
    "start_time": "2021-09-23T18:28:52.037Z"
   },
   {
    "duration": 400,
    "start_time": "2021-09-23T18:28:52.060Z"
   },
   {
    "duration": 19,
    "start_time": "2021-09-23T18:28:52.461Z"
   },
   {
    "duration": 8,
    "start_time": "2021-09-23T18:28:52.482Z"
   },
   {
    "duration": 7,
    "start_time": "2021-09-23T18:33:04.563Z"
   },
   {
    "duration": 25,
    "start_time": "2021-09-23T18:33:09.127Z"
   },
   {
    "duration": 9,
    "start_time": "2021-09-23T18:35:02.356Z"
   },
   {
    "duration": 28,
    "start_time": "2021-09-23T18:35:04.016Z"
   },
   {
    "duration": 7,
    "start_time": "2021-09-23T18:35:16.783Z"
   },
   {
    "duration": 23,
    "start_time": "2021-09-23T18:35:17.196Z"
   },
   {
    "duration": 8,
    "start_time": "2021-09-23T18:35:27.200Z"
   },
   {
    "duration": 25,
    "start_time": "2021-09-23T18:35:27.706Z"
   },
   {
    "duration": 6,
    "start_time": "2021-09-23T18:35:41.289Z"
   },
   {
    "duration": 24,
    "start_time": "2021-09-23T18:35:41.687Z"
   },
   {
    "duration": 14,
    "start_time": "2021-09-23T18:42:20.042Z"
   },
   {
    "duration": 15,
    "start_time": "2021-09-23T18:42:58.404Z"
   },
   {
    "duration": 943,
    "start_time": "2021-09-23T20:25:46.309Z"
   },
   {
    "duration": 125,
    "start_time": "2021-09-23T20:25:47.255Z"
   },
   {
    "duration": 4,
    "start_time": "2021-09-23T20:25:47.383Z"
   },
   {
    "duration": 47,
    "start_time": "2021-09-23T20:25:47.390Z"
   },
   {
    "duration": 650,
    "start_time": "2021-09-23T20:25:47.439Z"
   },
   {
    "duration": 5,
    "start_time": "2021-09-23T20:25:48.092Z"
   },
   {
    "duration": 30,
    "start_time": "2021-09-23T20:25:48.099Z"
   },
   {
    "duration": 77,
    "start_time": "2021-09-23T20:25:48.132Z"
   },
   {
    "duration": 199,
    "start_time": "2021-09-23T20:25:48.214Z"
   },
   {
    "duration": 6178,
    "start_time": "2021-09-23T20:25:48.416Z"
   },
   {
    "duration": 582,
    "start_time": "2021-09-23T20:25:54.597Z"
   },
   {
    "duration": 5,
    "start_time": "2021-09-23T20:25:55.182Z"
   },
   {
    "duration": 57,
    "start_time": "2021-09-23T20:25:55.189Z"
   },
   {
    "duration": 54,
    "start_time": "2021-09-23T20:25:55.248Z"
   },
   {
    "duration": 6,
    "start_time": "2021-09-23T20:25:55.305Z"
   },
   {
    "duration": 48,
    "start_time": "2021-09-23T20:25:55.313Z"
   },
   {
    "duration": 10,
    "start_time": "2021-09-23T20:25:55.363Z"
   },
   {
    "duration": 10,
    "start_time": "2021-09-23T20:25:55.375Z"
   },
   {
    "duration": 612,
    "start_time": "2021-09-23T20:25:55.388Z"
   },
   {
    "duration": 70,
    "start_time": "2021-09-23T20:25:56.003Z"
   },
   {
    "duration": 26,
    "start_time": "2021-09-23T20:25:56.075Z"
   },
   {
    "duration": 5,
    "start_time": "2021-09-23T20:25:56.103Z"
   },
   {
    "duration": 592,
    "start_time": "2021-09-23T20:25:56.111Z"
   },
   {
    "duration": 64,
    "start_time": "2021-09-23T20:25:56.706Z"
   },
   {
    "duration": 35,
    "start_time": "2021-09-23T20:25:56.772Z"
   },
   {
    "duration": 107,
    "start_time": "2021-09-23T20:25:56.810Z"
   },
   {
    "duration": 4387,
    "start_time": "2021-09-23T20:25:56.922Z"
   },
   {
    "duration": 7,
    "start_time": "2021-09-23T20:26:01.312Z"
   },
   {
    "duration": 95,
    "start_time": "2021-09-23T20:26:01.321Z"
   },
   {
    "duration": 32,
    "start_time": "2021-09-23T20:26:01.419Z"
   },
   {
    "duration": 8,
    "start_time": "2021-09-23T20:26:01.454Z"
   },
   {
    "duration": 56,
    "start_time": "2021-09-23T20:26:01.465Z"
   },
   {
    "duration": 16008,
    "start_time": "2021-09-23T20:26:01.524Z"
   },
   {
    "duration": 19,
    "start_time": "2021-09-23T20:26:17.535Z"
   },
   {
    "duration": 42,
    "start_time": "2021-09-23T20:26:17.557Z"
   },
   {
    "duration": 783,
    "start_time": "2021-09-23T20:26:17.602Z"
   },
   {
    "duration": 28,
    "start_time": "2021-09-23T20:26:18.388Z"
   },
   {
    "duration": 8,
    "start_time": "2021-09-23T20:26:18.418Z"
   },
   {
    "duration": 58,
    "start_time": "2021-09-23T20:26:18.429Z"
   },
   {
    "duration": 514,
    "start_time": "2021-09-23T20:26:30.587Z"
   },
   {
    "duration": 417,
    "start_time": "2021-09-23T20:26:40.188Z"
   },
   {
    "duration": 6,
    "start_time": "2021-09-23T20:26:47.015Z"
   },
   {
    "duration": 14,
    "start_time": "2021-09-23T20:27:21.476Z"
   },
   {
    "duration": 347,
    "start_time": "2021-09-23T20:27:30.900Z"
   },
   {
    "duration": 15,
    "start_time": "2021-09-23T20:27:38.780Z"
   },
   {
    "duration": 28,
    "start_time": "2021-09-23T20:29:01.085Z"
   },
   {
    "duration": 546,
    "start_time": "2021-09-23T20:32:59.490Z"
   },
   {
    "duration": 540,
    "start_time": "2021-09-23T20:33:33.489Z"
   },
   {
    "duration": 672,
    "start_time": "2021-09-24T17:17:15.309Z"
   },
   {
    "duration": 51,
    "start_time": "2021-09-24T17:17:15.983Z"
   },
   {
    "duration": 3,
    "start_time": "2021-09-24T17:17:16.036Z"
   },
   {
    "duration": 38,
    "start_time": "2021-09-24T17:17:16.041Z"
   },
   {
    "duration": 386,
    "start_time": "2021-09-24T17:17:16.081Z"
   },
   {
    "duration": 5,
    "start_time": "2021-09-24T17:17:16.476Z"
   },
   {
    "duration": 24,
    "start_time": "2021-09-24T17:17:16.484Z"
   },
   {
    "duration": 37,
    "start_time": "2021-09-24T17:17:16.511Z"
   },
   {
    "duration": 138,
    "start_time": "2021-09-24T17:17:16.550Z"
   },
   {
    "duration": 3676,
    "start_time": "2021-09-24T17:17:16.689Z"
   },
   {
    "duration": 345,
    "start_time": "2021-09-24T17:17:20.367Z"
   },
   {
    "duration": 4,
    "start_time": "2021-09-24T17:17:20.713Z"
   },
   {
    "duration": 56,
    "start_time": "2021-09-24T17:17:20.719Z"
   },
   {
    "duration": 33,
    "start_time": "2021-09-24T17:17:20.776Z"
   },
   {
    "duration": 4,
    "start_time": "2021-09-24T17:17:20.810Z"
   },
   {
    "duration": 83,
    "start_time": "2021-09-24T17:17:20.816Z"
   },
   {
    "duration": 16,
    "start_time": "2021-09-24T17:17:20.900Z"
   },
   {
    "duration": 14,
    "start_time": "2021-09-24T17:17:20.918Z"
   },
   {
    "duration": 375,
    "start_time": "2021-09-24T17:17:20.934Z"
   },
   {
    "duration": 28,
    "start_time": "2021-09-24T17:17:21.310Z"
   },
   {
    "duration": 19,
    "start_time": "2021-09-24T17:17:21.339Z"
   },
   {
    "duration": 4,
    "start_time": "2021-09-24T17:17:21.360Z"
   },
   {
    "duration": 380,
    "start_time": "2021-09-24T17:17:21.378Z"
   },
   {
    "duration": 31,
    "start_time": "2021-09-24T17:17:21.760Z"
   },
   {
    "duration": 31,
    "start_time": "2021-09-24T17:17:21.793Z"
   },
   {
    "duration": 76,
    "start_time": "2021-09-24T17:17:21.826Z"
   },
   {
    "duration": 2994,
    "start_time": "2021-09-24T17:17:21.903Z"
   },
   {
    "duration": 4,
    "start_time": "2021-09-24T17:17:24.899Z"
   },
   {
    "duration": 38,
    "start_time": "2021-09-24T17:17:24.905Z"
   },
   {
    "duration": 21,
    "start_time": "2021-09-24T17:17:24.945Z"
   },
   {
    "duration": 11,
    "start_time": "2021-09-24T17:17:24.968Z"
   },
   {
    "duration": 25,
    "start_time": "2021-09-24T17:17:24.981Z"
   },
   {
    "duration": 10134,
    "start_time": "2021-09-24T17:17:25.008Z"
   },
   {
    "duration": 13,
    "start_time": "2021-09-24T17:17:35.143Z"
   },
   {
    "duration": 26,
    "start_time": "2021-09-24T17:17:35.157Z"
   },
   {
    "duration": 504,
    "start_time": "2021-09-24T17:17:35.185Z"
   },
   {
    "duration": 20,
    "start_time": "2021-09-24T17:17:35.691Z"
   },
   {
    "duration": 6,
    "start_time": "2021-09-24T17:17:35.713Z"
   },
   {
    "duration": 19,
    "start_time": "2021-09-24T17:17:35.721Z"
   },
   {
    "duration": 43,
    "start_time": "2021-09-24T17:17:35.742Z"
   },
   {
    "duration": 331,
    "start_time": "2021-09-24T17:17:35.786Z"
   },
   {
    "duration": 217,
    "start_time": "2021-09-24T17:27:04.898Z"
   },
   {
    "duration": 316,
    "start_time": "2021-09-24T17:30:22.504Z"
   },
   {
    "duration": 98,
    "start_time": "2021-09-24T17:41:13.230Z"
   },
   {
    "duration": 346,
    "start_time": "2021-09-24T17:41:20.917Z"
   },
   {
    "duration": 691,
    "start_time": "2021-09-24T17:41:34.053Z"
   },
   {
    "duration": 578,
    "start_time": "2021-09-24T17:41:50.821Z"
   },
   {
    "duration": 322,
    "start_time": "2021-09-24T17:42:15.775Z"
   },
   {
    "duration": 324,
    "start_time": "2021-09-24T17:42:45.906Z"
   },
   {
    "duration": 291,
    "start_time": "2021-09-24T17:43:04.932Z"
   },
   {
    "duration": 279,
    "start_time": "2021-09-24T17:43:11.919Z"
   },
   {
    "duration": 380,
    "start_time": "2021-09-24T17:43:22.165Z"
   },
   {
    "duration": 277,
    "start_time": "2021-09-24T17:43:31.142Z"
   },
   {
    "duration": 607,
    "start_time": "2021-09-24T17:46:47.308Z"
   },
   {
    "duration": 282,
    "start_time": "2021-09-24T17:48:23.280Z"
   },
   {
    "duration": 373,
    "start_time": "2021-09-24T17:48:27.047Z"
   },
   {
    "duration": 30,
    "start_time": "2021-09-24T17:58:16.026Z"
   },
   {
    "duration": 510,
    "start_time": "2021-09-24T18:04:19.509Z"
   },
   {
    "duration": 321,
    "start_time": "2021-09-24T18:04:48.493Z"
   },
   {
    "duration": 295,
    "start_time": "2021-09-24T18:05:23.783Z"
   },
   {
    "duration": 370,
    "start_time": "2021-09-24T18:05:38.130Z"
   },
   {
    "duration": 1022,
    "start_time": "2021-09-24T18:07:00.657Z"
   },
   {
    "duration": 347,
    "start_time": "2021-09-24T18:07:23.864Z"
   },
   {
    "duration": 1004,
    "start_time": "2021-09-24T18:07:27.369Z"
   },
   {
    "duration": 277,
    "start_time": "2021-09-24T18:08:09.967Z"
   },
   {
    "duration": 102,
    "start_time": "2021-09-24T18:08:20.447Z"
   },
   {
    "duration": 947,
    "start_time": "2021-09-24T18:08:36.340Z"
   },
   {
    "duration": 798,
    "start_time": "2021-09-24T18:12:37.726Z"
   },
   {
    "duration": 940,
    "start_time": "2021-09-24T18:12:42.631Z"
   },
   {
    "duration": 1620,
    "start_time": "2021-09-24T18:13:13.385Z"
   },
   {
    "duration": 1553,
    "start_time": "2021-09-24T18:13:31.488Z"
   },
   {
    "duration": 29768,
    "start_time": "2021-09-24T18:18:17.678Z"
   },
   {
    "duration": 840,
    "start_time": "2021-09-24T18:21:39.059Z"
   },
   {
    "duration": 913,
    "start_time": "2021-09-24T18:22:04.300Z"
   },
   {
    "duration": 826,
    "start_time": "2021-09-24T18:22:54.382Z"
   },
   {
    "duration": 1435,
    "start_time": "2021-09-24T18:23:04.638Z"
   },
   {
    "duration": 1444,
    "start_time": "2021-09-24T18:23:31.363Z"
   },
   {
    "duration": 1364,
    "start_time": "2021-09-24T18:24:02.276Z"
   },
   {
    "duration": 301,
    "start_time": "2021-09-24T18:27:24.239Z"
   },
   {
    "duration": 301,
    "start_time": "2021-09-24T18:27:45.848Z"
   },
   {
    "duration": 399,
    "start_time": "2021-09-24T18:27:56.542Z"
   },
   {
    "duration": 2644,
    "start_time": "2021-09-24T18:29:01.267Z"
   },
   {
    "duration": 1153,
    "start_time": "2021-09-24T18:29:31.194Z"
   },
   {
    "duration": 374,
    "start_time": "2021-09-24T18:30:07.626Z"
   },
   {
    "duration": 373,
    "start_time": "2021-09-24T18:33:12.257Z"
   },
   {
    "duration": 339,
    "start_time": "2021-09-24T18:33:18.770Z"
   },
   {
    "duration": 312,
    "start_time": "2021-09-24T18:33:26.643Z"
   },
   {
    "duration": 307,
    "start_time": "2021-09-24T18:33:38.946Z"
   },
   {
    "duration": 1074,
    "start_time": "2021-09-24T18:33:52.171Z"
   },
   {
    "duration": 1008,
    "start_time": "2021-09-24T18:36:02.688Z"
   },
   {
    "duration": 834,
    "start_time": "2021-09-24T18:38:50.761Z"
   },
   {
    "duration": 811,
    "start_time": "2021-09-24T18:39:17.492Z"
   },
   {
    "duration": 827,
    "start_time": "2021-09-24T18:39:24.477Z"
   },
   {
    "duration": 948,
    "start_time": "2021-09-24T18:41:13.342Z"
   },
   {
    "duration": 348,
    "start_time": "2021-09-24T18:41:20.536Z"
   },
   {
    "duration": 320,
    "start_time": "2021-09-24T18:41:33.840Z"
   },
   {
    "duration": 290,
    "start_time": "2021-09-24T18:41:41.230Z"
   },
   {
    "duration": 288,
    "start_time": "2021-09-24T18:41:50.087Z"
   },
   {
    "duration": 738,
    "start_time": "2021-09-24T18:41:56.288Z"
   },
   {
    "duration": 405,
    "start_time": "2021-09-24T18:44:46.368Z"
   },
   {
    "duration": 292,
    "start_time": "2021-09-24T18:44:52.894Z"
   },
   {
    "duration": 293,
    "start_time": "2021-09-24T18:45:05.410Z"
   },
   {
    "duration": 342,
    "start_time": "2021-09-24T18:45:19.866Z"
   },
   {
    "duration": 537,
    "start_time": "2021-09-24T18:45:32.635Z"
   },
   {
    "duration": 324,
    "start_time": "2021-09-24T18:45:43.458Z"
   },
   {
    "duration": 422,
    "start_time": "2021-09-24T18:47:50.870Z"
   },
   {
    "duration": 335,
    "start_time": "2021-09-24T18:47:58.295Z"
   },
   {
    "duration": 315,
    "start_time": "2021-09-24T18:48:10.935Z"
   },
   {
    "duration": 277,
    "start_time": "2021-09-24T18:48:36.054Z"
   },
   {
    "duration": 322,
    "start_time": "2021-09-24T18:48:44.529Z"
   },
   {
    "duration": 303,
    "start_time": "2021-09-24T18:49:13.856Z"
   },
   {
    "duration": 912,
    "start_time": "2021-09-24T18:49:55.409Z"
   },
   {
    "duration": 1231,
    "start_time": "2021-09-24T18:50:10.349Z"
   },
   {
    "duration": 1206,
    "start_time": "2021-09-24T18:50:29.844Z"
   },
   {
    "duration": 1614,
    "start_time": "2021-09-24T18:52:58.398Z"
   },
   {
    "duration": 1758,
    "start_time": "2021-09-24T18:53:54.631Z"
   },
   {
    "duration": 1036,
    "start_time": "2021-09-24T18:56:18.930Z"
   },
   {
    "duration": 1606,
    "start_time": "2021-09-24T18:56:31.298Z"
   },
   {
    "duration": 1416,
    "start_time": "2021-09-24T18:56:50.302Z"
   },
   {
    "duration": 1110,
    "start_time": "2021-09-24T18:58:31.951Z"
   },
   {
    "duration": 1171,
    "start_time": "2021-09-24T18:58:43.115Z"
   },
   {
    "duration": 300,
    "start_time": "2021-09-24T19:02:36.557Z"
   },
   {
    "duration": 370,
    "start_time": "2021-09-24T19:02:52.920Z"
   },
   {
    "duration": 772,
    "start_time": "2021-09-24T19:07:01.408Z"
   },
   {
    "duration": 483,
    "start_time": "2021-09-24T19:07:17.568Z"
   },
   {
    "duration": 308,
    "start_time": "2021-09-24T19:08:54.335Z"
   },
   {
    "duration": 329,
    "start_time": "2021-09-24T19:09:11.981Z"
   },
   {
    "duration": 279,
    "start_time": "2021-09-24T19:09:40.968Z"
   },
   {
    "duration": 959,
    "start_time": "2021-09-24T19:09:47.391Z"
   },
   {
    "duration": 340,
    "start_time": "2021-09-24T19:12:17.828Z"
   },
   {
    "duration": 930,
    "start_time": "2021-09-24T19:12:28.419Z"
   },
   {
    "duration": 1281,
    "start_time": "2021-09-24T19:16:19.312Z"
   },
   {
    "duration": 336,
    "start_time": "2021-09-24T19:16:31.231Z"
   },
   {
    "duration": 317,
    "start_time": "2021-09-24T19:16:36.543Z"
   },
   {
    "duration": 944,
    "start_time": "2021-09-24T19:18:26.201Z"
   },
   {
    "duration": 974,
    "start_time": "2021-09-24T19:18:40.505Z"
   },
   {
    "duration": 948,
    "start_time": "2021-09-24T19:19:12.937Z"
   },
   {
    "duration": 1123,
    "start_time": "2021-09-24T19:19:19.805Z"
   },
   {
    "duration": 1002,
    "start_time": "2021-09-24T19:20:02.521Z"
   },
   {
    "duration": 1011,
    "start_time": "2021-09-24T19:20:11.626Z"
   },
   {
    "duration": 1178,
    "start_time": "2021-09-24T19:20:55.970Z"
   },
   {
    "duration": 1087,
    "start_time": "2021-09-24T19:21:03.389Z"
   },
   {
    "duration": 282,
    "start_time": "2021-09-24T19:22:55.383Z"
   },
   {
    "duration": 1221,
    "start_time": "2021-09-24T19:23:00.870Z"
   },
   {
    "duration": 780,
    "start_time": "2021-09-24T19:23:24.232Z"
   },
   {
    "duration": 321,
    "start_time": "2021-09-24T19:24:39.039Z"
   },
   {
    "duration": 297,
    "start_time": "2021-09-24T19:24:48.347Z"
   },
   {
    "duration": 336,
    "start_time": "2021-09-24T19:25:02.607Z"
   },
   {
    "duration": 289,
    "start_time": "2021-09-24T19:29:15.308Z"
   },
   {
    "duration": 271,
    "start_time": "2021-09-24T19:30:59.344Z"
   },
   {
    "duration": 300,
    "start_time": "2021-09-24T19:34:21.065Z"
   },
   {
    "duration": 387,
    "start_time": "2021-09-24T19:36:30.426Z"
   },
   {
    "duration": 315,
    "start_time": "2021-09-24T19:36:45.370Z"
   },
   {
    "duration": 300,
    "start_time": "2021-09-24T19:37:50.571Z"
   },
   {
    "duration": 60,
    "start_time": "2021-09-24T19:39:30.627Z"
   },
   {
    "duration": 2759,
    "start_time": "2021-09-24T19:39:36.796Z"
   },
   {
    "duration": 825,
    "start_time": "2021-09-24T19:41:09.117Z"
   },
   {
    "duration": 1437,
    "start_time": "2021-09-24T19:41:19.512Z"
   },
   {
    "duration": 1124,
    "start_time": "2021-09-24T19:42:50.425Z"
   },
   {
    "duration": 1092,
    "start_time": "2021-09-24T19:42:59.242Z"
   },
   {
    "duration": 983,
    "start_time": "2021-09-24T19:46:41.542Z"
   },
   {
    "duration": 1033,
    "start_time": "2021-09-24T19:46:49.773Z"
   },
   {
    "duration": 1043,
    "start_time": "2021-09-24T19:47:13.957Z"
   },
   {
    "duration": 285,
    "start_time": "2021-09-24T19:49:54.098Z"
   },
   {
    "duration": 3038,
    "start_time": "2021-09-24T19:50:06.418Z"
   },
   {
    "duration": 3580,
    "start_time": "2021-09-24T19:50:25.681Z"
   },
   {
    "duration": 3354,
    "start_time": "2021-09-24T19:53:42.260Z"
   },
   {
    "duration": 3382,
    "start_time": "2021-09-24T19:54:50.479Z"
   },
   {
    "duration": 3054,
    "start_time": "2021-09-24T19:55:09.830Z"
   },
   {
    "duration": 3160,
    "start_time": "2021-09-24T19:55:24.150Z"
   },
   {
    "duration": 3457,
    "start_time": "2021-09-24T19:55:43.999Z"
   },
   {
    "duration": 3242,
    "start_time": "2021-09-24T19:59:51.398Z"
   },
   {
    "duration": 3416,
    "start_time": "2021-09-24T20:00:57.311Z"
   },
   {
    "duration": 4,
    "start_time": "2021-09-24T20:01:50.008Z"
   },
   {
    "duration": 9,
    "start_time": "2021-09-24T20:16:24.278Z"
   },
   {
    "duration": 10,
    "start_time": "2021-09-24T20:18:00.974Z"
   },
   {
    "duration": 1094,
    "start_time": "2021-09-24T20:25:23.207Z"
   },
   {
    "duration": 181,
    "start_time": "2021-09-24T20:25:28.711Z"
   },
   {
    "duration": 88,
    "start_time": "2021-09-24T20:27:21.560Z"
   },
   {
    "duration": 2841,
    "start_time": "2021-09-24T20:27:30.882Z"
   },
   {
    "duration": 178,
    "start_time": "2021-09-24T20:27:45.377Z"
   },
   {
    "duration": 4109,
    "start_time": "2021-09-24T20:27:54.595Z"
   },
   {
    "duration": 161,
    "start_time": "2021-09-24T20:28:02.493Z"
   },
   {
    "duration": 2648,
    "start_time": "2021-09-24T20:28:46.610Z"
   },
   {
    "duration": 50,
    "start_time": "2021-09-24T20:28:49.260Z"
   },
   {
    "duration": 3,
    "start_time": "2021-09-24T20:28:49.312Z"
   },
   {
    "duration": 33,
    "start_time": "2021-09-24T20:28:49.317Z"
   },
   {
    "duration": 390,
    "start_time": "2021-09-24T20:28:49.352Z"
   },
   {
    "duration": 4,
    "start_time": "2021-09-24T20:28:49.744Z"
   },
   {
    "duration": 26,
    "start_time": "2021-09-24T20:28:49.750Z"
   },
   {
    "duration": 38,
    "start_time": "2021-09-24T20:28:49.779Z"
   },
   {
    "duration": 105,
    "start_time": "2021-09-24T20:28:49.819Z"
   },
   {
    "duration": 4024,
    "start_time": "2021-09-24T20:28:49.926Z"
   },
   {
    "duration": 512,
    "start_time": "2021-09-24T20:28:53.951Z"
   },
   {
    "duration": 12,
    "start_time": "2021-09-24T20:28:54.464Z"
   },
   {
    "duration": 40,
    "start_time": "2021-09-24T20:28:54.478Z"
   },
   {
    "duration": 37,
    "start_time": "2021-09-24T20:28:54.520Z"
   },
   {
    "duration": 5,
    "start_time": "2021-09-24T20:28:54.558Z"
   },
   {
    "duration": 71,
    "start_time": "2021-09-24T20:28:54.577Z"
   },
   {
    "duration": 7,
    "start_time": "2021-09-24T20:28:54.650Z"
   },
   {
    "duration": 5,
    "start_time": "2021-09-24T20:28:54.658Z"
   },
   {
    "duration": 346,
    "start_time": "2021-09-24T20:28:54.664Z"
   },
   {
    "duration": 29,
    "start_time": "2021-09-24T20:28:55.012Z"
   },
   {
    "duration": 20,
    "start_time": "2021-09-24T20:28:55.043Z"
   },
   {
    "duration": 15,
    "start_time": "2021-09-24T20:28:55.064Z"
   },
   {
    "duration": 351,
    "start_time": "2021-09-24T20:28:55.082Z"
   },
   {
    "duration": 21,
    "start_time": "2021-09-24T20:28:55.435Z"
   },
   {
    "duration": 29,
    "start_time": "2021-09-24T20:28:55.458Z"
   },
   {
    "duration": 48,
    "start_time": "2021-09-24T20:28:55.488Z"
   },
   {
    "duration": 2530,
    "start_time": "2021-09-24T20:28:55.538Z"
   },
   {
    "duration": 9,
    "start_time": "2021-09-24T20:28:58.069Z"
   },
   {
    "duration": 35,
    "start_time": "2021-09-24T20:28:58.080Z"
   },
   {
    "duration": 20,
    "start_time": "2021-09-24T20:28:58.118Z"
   },
   {
    "duration": 4,
    "start_time": "2021-09-24T20:28:58.139Z"
   },
   {
    "duration": 37,
    "start_time": "2021-09-24T20:28:58.145Z"
   },
   {
    "duration": 9027,
    "start_time": "2021-09-24T20:28:58.184Z"
   },
   {
    "duration": 13,
    "start_time": "2021-09-24T20:29:07.213Z"
   },
   {
    "duration": 13,
    "start_time": "2021-09-24T20:29:07.228Z"
   },
   {
    "duration": 434,
    "start_time": "2021-09-24T20:29:07.243Z"
   },
   {
    "duration": 19,
    "start_time": "2021-09-24T20:29:07.679Z"
   },
   {
    "duration": 7,
    "start_time": "2021-09-24T20:29:07.700Z"
   },
   {
    "duration": 16,
    "start_time": "2021-09-24T20:29:07.708Z"
   },
   {
    "duration": 46,
    "start_time": "2021-09-24T20:29:07.726Z"
   },
   {
    "duration": 288,
    "start_time": "2021-09-24T20:29:07.773Z"
   },
   {
    "duration": 292,
    "start_time": "2021-09-24T20:29:08.063Z"
   },
   {
    "duration": 3473,
    "start_time": "2021-09-24T20:29:08.357Z"
   },
   {
    "duration": 5,
    "start_time": "2021-09-24T20:29:11.832Z"
   },
   {
    "duration": 19,
    "start_time": "2021-09-24T20:29:11.839Z"
   },
   {
    "duration": 10,
    "start_time": "2021-09-24T20:29:11.876Z"
   },
   {
    "duration": 2308,
    "start_time": "2021-09-24T20:29:11.888Z"
   },
   {
    "duration": 2541,
    "start_time": "2021-09-24T20:29:14.198Z"
   },
   {
    "duration": 185,
    "start_time": "2021-09-24T20:29:16.741Z"
   },
   {
    "duration": 2043,
    "start_time": "2021-09-24T20:30:02.901Z"
   },
   {
    "duration": 50,
    "start_time": "2021-09-24T20:30:04.947Z"
   },
   {
    "duration": 4,
    "start_time": "2021-09-24T20:30:04.999Z"
   },
   {
    "duration": 39,
    "start_time": "2021-09-24T20:30:05.005Z"
   },
   {
    "duration": 392,
    "start_time": "2021-09-24T20:30:05.046Z"
   },
   {
    "duration": 5,
    "start_time": "2021-09-24T20:30:05.440Z"
   },
   {
    "duration": 23,
    "start_time": "2021-09-24T20:30:05.446Z"
   },
   {
    "duration": 37,
    "start_time": "2021-09-24T20:30:05.477Z"
   },
   {
    "duration": 161,
    "start_time": "2021-09-24T20:30:05.517Z"
   },
   {
    "duration": 3629,
    "start_time": "2021-09-24T20:30:05.680Z"
   },
   {
    "duration": 493,
    "start_time": "2021-09-24T20:30:09.311Z"
   },
   {
    "duration": 4,
    "start_time": "2021-09-24T20:30:09.806Z"
   },
   {
    "duration": 42,
    "start_time": "2021-09-24T20:30:09.812Z"
   },
   {
    "duration": 39,
    "start_time": "2021-09-24T20:30:09.856Z"
   },
   {
    "duration": 4,
    "start_time": "2021-09-24T20:30:09.897Z"
   },
   {
    "duration": 55,
    "start_time": "2021-09-24T20:30:09.903Z"
   },
   {
    "duration": 7,
    "start_time": "2021-09-24T20:30:09.959Z"
   },
   {
    "duration": 5,
    "start_time": "2021-09-24T20:30:09.968Z"
   },
   {
    "duration": 353,
    "start_time": "2021-09-24T20:30:09.975Z"
   },
   {
    "duration": 28,
    "start_time": "2021-09-24T20:30:10.330Z"
   },
   {
    "duration": 28,
    "start_time": "2021-09-24T20:30:10.359Z"
   },
   {
    "duration": 5,
    "start_time": "2021-09-24T20:30:10.389Z"
   },
   {
    "duration": 351,
    "start_time": "2021-09-24T20:30:10.397Z"
   },
   {
    "duration": 20,
    "start_time": "2021-09-24T20:30:10.751Z"
   },
   {
    "duration": 23,
    "start_time": "2021-09-24T20:30:10.776Z"
   },
   {
    "duration": 91,
    "start_time": "2021-09-24T20:30:10.800Z"
   },
   {
    "duration": 2529,
    "start_time": "2021-09-24T20:30:10.893Z"
   },
   {
    "duration": 4,
    "start_time": "2021-09-24T20:30:13.424Z"
   },
   {
    "duration": 39,
    "start_time": "2021-09-24T20:30:13.430Z"
   },
   {
    "duration": 22,
    "start_time": "2021-09-24T20:30:13.471Z"
   },
   {
    "duration": 4,
    "start_time": "2021-09-24T20:30:13.495Z"
   },
   {
    "duration": 36,
    "start_time": "2021-09-24T20:30:13.501Z"
   },
   {
    "duration": 9319,
    "start_time": "2021-09-24T20:30:13.539Z"
   },
   {
    "duration": 18,
    "start_time": "2021-09-24T20:30:22.859Z"
   },
   {
    "duration": 14,
    "start_time": "2021-09-24T20:30:22.879Z"
   },
   {
    "duration": 415,
    "start_time": "2021-09-24T20:30:22.895Z"
   },
   {
    "duration": 19,
    "start_time": "2021-09-24T20:30:23.312Z"
   },
   {
    "duration": 6,
    "start_time": "2021-09-24T20:30:23.333Z"
   },
   {
    "duration": 40,
    "start_time": "2021-09-24T20:30:23.340Z"
   },
   {
    "duration": 18,
    "start_time": "2021-09-24T20:30:23.382Z"
   },
   {
    "duration": 308,
    "start_time": "2021-09-24T20:30:23.401Z"
   },
   {
    "duration": 389,
    "start_time": "2021-09-24T20:30:23.711Z"
   },
   {
    "duration": 3301,
    "start_time": "2021-09-24T20:30:24.102Z"
   },
   {
    "duration": 4,
    "start_time": "2021-09-24T20:30:27.405Z"
   },
   {
    "duration": 18,
    "start_time": "2021-09-24T20:30:27.411Z"
   },
   {
    "duration": 12,
    "start_time": "2021-09-24T20:30:27.431Z"
   },
   {
    "duration": 205,
    "start_time": "2021-09-24T20:30:27.445Z"
   },
   {
    "duration": 3,
    "start_time": "2021-09-24T20:31:44.831Z"
   },
   {
    "duration": 173,
    "start_time": "2021-09-24T20:31:51.131Z"
   },
   {
    "duration": 6,
    "start_time": "2021-09-24T20:57:31.744Z"
   },
   {
    "duration": 14,
    "start_time": "2021-09-24T20:57:43.082Z"
   },
   {
    "duration": 2062,
    "start_time": "2021-09-24T20:58:54.836Z"
   },
   {
    "duration": 51,
    "start_time": "2021-09-24T20:58:56.900Z"
   },
   {
    "duration": 3,
    "start_time": "2021-09-24T20:58:56.954Z"
   },
   {
    "duration": 36,
    "start_time": "2021-09-24T20:58:56.959Z"
   },
   {
    "duration": 432,
    "start_time": "2021-09-24T20:58:56.997Z"
   },
   {
    "duration": 5,
    "start_time": "2021-09-24T20:58:57.432Z"
   },
   {
    "duration": 30,
    "start_time": "2021-09-24T20:58:57.439Z"
   },
   {
    "duration": 52,
    "start_time": "2021-09-24T20:58:57.472Z"
   },
   {
    "duration": 180,
    "start_time": "2021-09-24T20:58:57.527Z"
   },
   {
    "duration": 3746,
    "start_time": "2021-09-24T20:58:57.714Z"
   },
   {
    "duration": 504,
    "start_time": "2021-09-24T20:59:01.461Z"
   },
   {
    "duration": 9,
    "start_time": "2021-09-24T20:59:01.968Z"
   },
   {
    "duration": 52,
    "start_time": "2021-09-24T20:59:01.979Z"
   },
   {
    "duration": 37,
    "start_time": "2021-09-24T20:59:02.033Z"
   },
   {
    "duration": 5,
    "start_time": "2021-09-24T20:59:02.072Z"
   },
   {
    "duration": 49,
    "start_time": "2021-09-24T20:59:02.079Z"
   },
   {
    "duration": 11,
    "start_time": "2021-09-24T20:59:02.130Z"
   },
   {
    "duration": 5,
    "start_time": "2021-09-24T20:59:02.143Z"
   },
   {
    "duration": 371,
    "start_time": "2021-09-24T20:59:02.150Z"
   },
   {
    "duration": 29,
    "start_time": "2021-09-24T20:59:02.522Z"
   },
   {
    "duration": 29,
    "start_time": "2021-09-24T20:59:02.553Z"
   },
   {
    "duration": 4,
    "start_time": "2021-09-24T20:59:02.584Z"
   },
   {
    "duration": 351,
    "start_time": "2021-09-24T20:59:02.591Z"
   },
   {
    "duration": 22,
    "start_time": "2021-09-24T20:59:02.944Z"
   },
   {
    "duration": 28,
    "start_time": "2021-09-24T20:59:02.967Z"
   },
   {
    "duration": 87,
    "start_time": "2021-09-24T20:59:02.996Z"
   },
   {
    "duration": 2692,
    "start_time": "2021-09-24T20:59:03.084Z"
   },
   {
    "duration": 4,
    "start_time": "2021-09-24T20:59:05.778Z"
   },
   {
    "duration": 39,
    "start_time": "2021-09-24T20:59:05.784Z"
   },
   {
    "duration": 19,
    "start_time": "2021-09-24T20:59:05.825Z"
   },
   {
    "duration": 4,
    "start_time": "2021-09-24T20:59:05.846Z"
   },
   {
    "duration": 35,
    "start_time": "2021-09-24T20:59:05.852Z"
   },
   {
    "duration": 9066,
    "start_time": "2021-09-24T20:59:05.890Z"
   },
   {
    "duration": 19,
    "start_time": "2021-09-24T20:59:14.958Z"
   },
   {
    "duration": 13,
    "start_time": "2021-09-24T20:59:14.978Z"
   },
   {
    "duration": 408,
    "start_time": "2021-09-24T20:59:14.992Z"
   },
   {
    "duration": 19,
    "start_time": "2021-09-24T20:59:15.402Z"
   },
   {
    "duration": 6,
    "start_time": "2021-09-24T20:59:15.423Z"
   },
   {
    "duration": 22,
    "start_time": "2021-09-24T20:59:15.431Z"
   },
   {
    "duration": 33,
    "start_time": "2021-09-24T20:59:15.454Z"
   },
   {
    "duration": 295,
    "start_time": "2021-09-24T20:59:15.489Z"
   },
   {
    "duration": 294,
    "start_time": "2021-09-24T20:59:15.785Z"
   },
   {
    "duration": 3295,
    "start_time": "2021-09-24T20:59:16.081Z"
   },
   {
    "duration": 4,
    "start_time": "2021-09-24T20:59:19.378Z"
   },
   {
    "duration": 12,
    "start_time": "2021-09-24T20:59:19.384Z"
   },
   {
    "duration": 10,
    "start_time": "2021-09-24T20:59:19.398Z"
   },
   {
    "duration": 205,
    "start_time": "2021-09-24T20:59:19.410Z"
   },
   {
    "duration": 13,
    "start_time": "2021-09-24T20:59:19.617Z"
   },
   {
    "duration": 2082,
    "start_time": "2021-09-24T21:00:35.044Z"
   },
   {
    "duration": 53,
    "start_time": "2021-09-24T21:00:37.128Z"
   },
   {
    "duration": 4,
    "start_time": "2021-09-24T21:00:37.183Z"
   },
   {
    "duration": 38,
    "start_time": "2021-09-24T21:00:37.189Z"
   },
   {
    "duration": 424,
    "start_time": "2021-09-24T21:00:37.228Z"
   },
   {
    "duration": 4,
    "start_time": "2021-09-24T21:00:37.654Z"
   },
   {
    "duration": 31,
    "start_time": "2021-09-24T21:00:37.659Z"
   },
   {
    "duration": 39,
    "start_time": "2021-09-24T21:00:37.692Z"
   },
   {
    "duration": 144,
    "start_time": "2021-09-24T21:00:37.734Z"
   },
   {
    "duration": 3729,
    "start_time": "2021-09-24T21:00:37.880Z"
   },
   {
    "duration": 506,
    "start_time": "2021-09-24T21:00:41.611Z"
   },
   {
    "duration": 5,
    "start_time": "2021-09-24T21:00:42.119Z"
   },
   {
    "duration": 49,
    "start_time": "2021-09-24T21:00:42.126Z"
   },
   {
    "duration": 35,
    "start_time": "2021-09-24T21:00:42.177Z"
   },
   {
    "duration": 4,
    "start_time": "2021-09-24T21:00:42.214Z"
   },
   {
    "duration": 45,
    "start_time": "2021-09-24T21:00:42.220Z"
   },
   {
    "duration": 8,
    "start_time": "2021-09-24T21:00:42.267Z"
   },
   {
    "duration": 5,
    "start_time": "2021-09-24T21:00:42.276Z"
   },
   {
    "duration": 367,
    "start_time": "2021-09-24T21:00:42.283Z"
   },
   {
    "duration": 29,
    "start_time": "2021-09-24T21:00:42.652Z"
   },
   {
    "duration": 20,
    "start_time": "2021-09-24T21:00:42.683Z"
   },
   {
    "duration": 5,
    "start_time": "2021-09-24T21:00:42.704Z"
   },
   {
    "duration": 359,
    "start_time": "2021-09-24T21:00:42.712Z"
   },
   {
    "duration": 21,
    "start_time": "2021-09-24T21:00:43.073Z"
   },
   {
    "duration": 52,
    "start_time": "2021-09-24T21:00:43.095Z"
   },
   {
    "duration": 69,
    "start_time": "2021-09-24T21:00:43.149Z"
   },
   {
    "duration": 2536,
    "start_time": "2021-09-24T21:00:43.219Z"
   },
   {
    "duration": 4,
    "start_time": "2021-09-24T21:00:45.756Z"
   },
   {
    "duration": 38,
    "start_time": "2021-09-24T21:00:45.762Z"
   },
   {
    "duration": 19,
    "start_time": "2021-09-24T21:00:45.802Z"
   },
   {
    "duration": 4,
    "start_time": "2021-09-24T21:00:45.823Z"
   },
   {
    "duration": 29,
    "start_time": "2021-09-24T21:00:45.828Z"
   },
   {
    "duration": 9226,
    "start_time": "2021-09-24T21:00:45.859Z"
   },
   {
    "duration": 13,
    "start_time": "2021-09-24T21:00:55.086Z"
   },
   {
    "duration": 13,
    "start_time": "2021-09-24T21:00:55.101Z"
   },
   {
    "duration": 442,
    "start_time": "2021-09-24T21:00:55.116Z"
   },
   {
    "duration": 28,
    "start_time": "2021-09-24T21:00:55.559Z"
   },
   {
    "duration": 6,
    "start_time": "2021-09-24T21:00:55.589Z"
   },
   {
    "duration": 24,
    "start_time": "2021-09-24T21:00:55.597Z"
   },
   {
    "duration": 18,
    "start_time": "2021-09-24T21:00:55.623Z"
   },
   {
    "duration": 309,
    "start_time": "2021-09-24T21:00:55.642Z"
   },
   {
    "duration": 290,
    "start_time": "2021-09-24T21:00:55.953Z"
   },
   {
    "duration": 3614,
    "start_time": "2021-09-24T21:00:56.245Z"
   },
   {
    "duration": 16,
    "start_time": "2021-09-24T21:00:59.861Z"
   },
   {
    "duration": 13,
    "start_time": "2021-09-24T21:00:59.879Z"
   },
   {
    "duration": 10,
    "start_time": "2021-09-24T21:00:59.894Z"
   },
   {
    "duration": 211,
    "start_time": "2021-09-24T21:00:59.906Z"
   },
   {
    "duration": 4535,
    "start_time": "2021-09-28T18:10:49.653Z"
   },
   {
    "duration": 362,
    "start_time": "2021-09-28T18:10:54.190Z"
   },
   {
    "duration": 3,
    "start_time": "2021-09-28T18:10:54.555Z"
   },
   {
    "duration": 43,
    "start_time": "2021-09-28T18:10:54.560Z"
   },
   {
    "duration": 395,
    "start_time": "2021-09-28T18:10:54.605Z"
   },
   {
    "duration": 4,
    "start_time": "2021-09-28T18:10:55.002Z"
   },
   {
    "duration": 81,
    "start_time": "2021-09-28T18:10:55.007Z"
   },
   {
    "duration": 41,
    "start_time": "2021-09-28T18:10:55.090Z"
   },
   {
    "duration": 152,
    "start_time": "2021-09-28T18:10:55.135Z"
   },
   {
    "duration": 3798,
    "start_time": "2021-09-28T18:10:55.289Z"
   },
   {
    "duration": 501,
    "start_time": "2021-09-28T18:10:59.092Z"
   },
   {
    "duration": 5,
    "start_time": "2021-09-28T18:10:59.594Z"
   },
   {
    "duration": 98,
    "start_time": "2021-09-28T18:10:59.601Z"
   },
   {
    "duration": 36,
    "start_time": "2021-09-28T18:10:59.701Z"
   },
   {
    "duration": 4,
    "start_time": "2021-09-28T18:10:59.739Z"
   },
   {
    "duration": 76,
    "start_time": "2021-09-28T18:10:59.745Z"
   },
   {
    "duration": 7,
    "start_time": "2021-09-28T18:10:59.822Z"
   },
   {
    "duration": 6,
    "start_time": "2021-09-28T18:10:59.830Z"
   },
   {
    "duration": 388,
    "start_time": "2021-09-28T18:10:59.837Z"
   },
   {
    "duration": 167,
    "start_time": "2021-09-28T18:11:00.227Z"
   },
   {
    "duration": 20,
    "start_time": "2021-09-28T18:11:00.396Z"
   },
   {
    "duration": 4,
    "start_time": "2021-09-28T18:11:00.418Z"
   },
   {
    "duration": 393,
    "start_time": "2021-09-28T18:11:00.423Z"
   },
   {
    "duration": 36,
    "start_time": "2021-09-28T18:11:00.819Z"
   },
   {
    "duration": 25,
    "start_time": "2021-09-28T18:11:00.857Z"
   },
   {
    "duration": 100,
    "start_time": "2021-09-28T18:11:00.883Z"
   },
   {
    "duration": 2674,
    "start_time": "2021-09-28T18:11:00.989Z"
   },
   {
    "duration": 15,
    "start_time": "2021-09-28T18:11:03.665Z"
   },
   {
    "duration": 40,
    "start_time": "2021-09-28T18:11:03.683Z"
   },
   {
    "duration": 19,
    "start_time": "2021-09-28T18:11:03.725Z"
   },
   {
    "duration": 4,
    "start_time": "2021-09-28T18:11:03.746Z"
   },
   {
    "duration": 29,
    "start_time": "2021-09-28T18:11:03.751Z"
   },
   {
    "duration": 9509,
    "start_time": "2021-09-28T18:11:03.782Z"
   },
   {
    "duration": 13,
    "start_time": "2021-09-28T18:11:13.293Z"
   },
   {
    "duration": 12,
    "start_time": "2021-09-28T18:11:13.308Z"
   },
   {
    "duration": 470,
    "start_time": "2021-09-28T18:11:13.322Z"
   },
   {
    "duration": 19,
    "start_time": "2021-09-28T18:11:13.794Z"
   },
   {
    "duration": 6,
    "start_time": "2021-09-28T18:11:13.815Z"
   },
   {
    "duration": 16,
    "start_time": "2021-09-28T18:11:13.823Z"
   },
   {
    "duration": 39,
    "start_time": "2021-09-28T18:11:13.841Z"
   },
   {
    "duration": 303,
    "start_time": "2021-09-28T18:11:13.882Z"
   },
   {
    "duration": 295,
    "start_time": "2021-09-28T18:11:14.186Z"
   },
   {
    "duration": 3428,
    "start_time": "2021-09-28T18:11:14.483Z"
   },
   {
    "duration": 5,
    "start_time": "2021-09-28T18:11:17.912Z"
   },
   {
    "duration": 17,
    "start_time": "2021-09-28T18:11:17.918Z"
   },
   {
    "duration": 11,
    "start_time": "2021-09-28T18:11:17.937Z"
   },
   {
    "duration": 209,
    "start_time": "2021-09-28T18:11:17.949Z"
   },
   {
    "duration": 2143,
    "start_time": "2021-09-28T18:21:41.604Z"
   },
   {
    "duration": 60,
    "start_time": "2021-09-28T18:21:43.749Z"
   },
   {
    "duration": 4,
    "start_time": "2021-09-28T18:21:43.812Z"
   },
   {
    "duration": 59,
    "start_time": "2021-09-28T18:21:43.818Z"
   },
   {
    "duration": 412,
    "start_time": "2021-09-28T18:21:43.880Z"
   },
   {
    "duration": 4,
    "start_time": "2021-09-28T18:21:44.294Z"
   },
   {
    "duration": 33,
    "start_time": "2021-09-28T18:21:44.300Z"
   },
   {
    "duration": 48,
    "start_time": "2021-09-28T18:21:44.337Z"
   },
   {
    "duration": 135,
    "start_time": "2021-09-28T18:21:44.388Z"
   },
   {
    "duration": 3876,
    "start_time": "2021-09-28T18:21:44.525Z"
   },
   {
    "duration": 501,
    "start_time": "2021-09-28T18:21:48.403Z"
   },
   {
    "duration": 3,
    "start_time": "2021-09-28T18:21:48.906Z"
   },
   {
    "duration": 78,
    "start_time": "2021-09-28T18:21:48.911Z"
   },
   {
    "duration": 34,
    "start_time": "2021-09-28T18:21:48.991Z"
   },
   {
    "duration": 4,
    "start_time": "2021-09-28T18:21:49.027Z"
   },
   {
    "duration": 72,
    "start_time": "2021-09-28T18:21:49.033Z"
   },
   {
    "duration": 30,
    "start_time": "2021-09-28T18:21:49.107Z"
   },
   {
    "duration": 27,
    "start_time": "2021-09-28T18:21:49.139Z"
   },
   {
    "duration": 373,
    "start_time": "2021-09-28T18:21:49.168Z"
   },
   {
    "duration": 28,
    "start_time": "2021-09-28T18:21:49.543Z"
   },
   {
    "duration": 26,
    "start_time": "2021-09-28T18:21:49.572Z"
   },
   {
    "duration": 4,
    "start_time": "2021-09-28T18:21:49.600Z"
   },
   {
    "duration": 365,
    "start_time": "2021-09-28T18:21:49.607Z"
   },
   {
    "duration": 34,
    "start_time": "2021-09-28T18:21:49.981Z"
   },
   {
    "duration": 24,
    "start_time": "2021-09-28T18:21:50.017Z"
   },
   {
    "duration": 74,
    "start_time": "2021-09-28T18:21:50.043Z"
   },
   {
    "duration": 2737,
    "start_time": "2021-09-28T18:21:50.119Z"
   },
   {
    "duration": 6,
    "start_time": "2021-09-28T18:21:52.858Z"
   },
   {
    "duration": 36,
    "start_time": "2021-09-28T18:21:52.883Z"
   },
   {
    "duration": 22,
    "start_time": "2021-09-28T18:21:52.921Z"
   },
   {
    "duration": 5,
    "start_time": "2021-09-28T18:21:52.945Z"
   },
   {
    "duration": 27,
    "start_time": "2021-09-28T18:21:52.951Z"
   },
   {
    "duration": 9788,
    "start_time": "2021-09-28T18:21:52.979Z"
   },
   {
    "duration": 17,
    "start_time": "2021-09-28T18:22:02.776Z"
   },
   {
    "duration": 18,
    "start_time": "2021-09-28T18:22:02.795Z"
   },
   {
    "duration": 460,
    "start_time": "2021-09-28T18:22:02.815Z"
   },
   {
    "duration": 23,
    "start_time": "2021-09-28T18:22:03.277Z"
   },
   {
    "duration": 7,
    "start_time": "2021-09-28T18:22:03.302Z"
   },
   {
    "duration": 20,
    "start_time": "2021-09-28T18:22:03.310Z"
   },
   {
    "duration": 17,
    "start_time": "2021-09-28T18:22:03.332Z"
   },
   {
    "duration": 336,
    "start_time": "2021-09-28T18:22:03.351Z"
   },
   {
    "duration": 314,
    "start_time": "2021-09-28T18:22:03.689Z"
   },
   {
    "duration": 3583,
    "start_time": "2021-09-28T18:22:04.005Z"
   },
   {
    "duration": 6,
    "start_time": "2021-09-28T18:22:07.590Z"
   },
   {
    "duration": 13,
    "start_time": "2021-09-28T18:22:07.598Z"
   },
   {
    "duration": 11,
    "start_time": "2021-09-28T18:22:07.613Z"
   },
   {
    "duration": 233,
    "start_time": "2021-09-28T18:22:07.626Z"
   },
   {
    "duration": 171,
    "start_time": "2021-09-28T18:32:06.660Z"
   },
   {
    "duration": 2020,
    "start_time": "2021-09-28T18:32:21.082Z"
   },
   {
    "duration": 54,
    "start_time": "2021-09-28T18:32:23.104Z"
   },
   {
    "duration": 3,
    "start_time": "2021-09-28T18:32:23.160Z"
   },
   {
    "duration": 34,
    "start_time": "2021-09-28T18:32:23.165Z"
   },
   {
    "duration": 390,
    "start_time": "2021-09-28T18:32:23.201Z"
   },
   {
    "duration": 4,
    "start_time": "2021-09-28T18:32:23.593Z"
   },
   {
    "duration": 24,
    "start_time": "2021-09-28T18:32:23.599Z"
   },
   {
    "duration": 50,
    "start_time": "2021-09-28T18:32:23.626Z"
   },
   {
    "duration": 120,
    "start_time": "2021-09-28T18:32:23.678Z"
   },
   {
    "duration": 3808,
    "start_time": "2021-09-28T18:32:23.800Z"
   },
   {
    "duration": 499,
    "start_time": "2021-09-28T18:32:27.610Z"
   },
   {
    "duration": 4,
    "start_time": "2021-09-28T18:32:28.110Z"
   },
   {
    "duration": 43,
    "start_time": "2021-09-28T18:32:28.116Z"
   },
   {
    "duration": 34,
    "start_time": "2021-09-28T18:32:28.161Z"
   },
   {
    "duration": 4,
    "start_time": "2021-09-28T18:32:28.196Z"
   },
   {
    "duration": 42,
    "start_time": "2021-09-28T18:32:28.202Z"
   },
   {
    "duration": 7,
    "start_time": "2021-09-28T18:32:28.245Z"
   },
   {
    "duration": 4,
    "start_time": "2021-09-28T18:32:28.254Z"
   },
   {
    "duration": 353,
    "start_time": "2021-09-28T18:32:28.260Z"
   },
   {
    "duration": 29,
    "start_time": "2021-09-28T18:32:28.615Z"
   },
   {
    "duration": 20,
    "start_time": "2021-09-28T18:32:28.645Z"
   },
   {
    "duration": 12,
    "start_time": "2021-09-28T18:32:28.666Z"
   },
   {
    "duration": 350,
    "start_time": "2021-09-28T18:32:28.682Z"
   },
   {
    "duration": 21,
    "start_time": "2021-09-28T18:32:29.034Z"
   },
   {
    "duration": 30,
    "start_time": "2021-09-28T18:32:29.057Z"
   },
   {
    "duration": 89,
    "start_time": "2021-09-28T18:32:29.089Z"
   },
   {
    "duration": 2524,
    "start_time": "2021-09-28T18:32:29.179Z"
   },
   {
    "duration": 4,
    "start_time": "2021-09-28T18:32:31.705Z"
   },
   {
    "duration": 40,
    "start_time": "2021-09-28T18:32:31.711Z"
   },
   {
    "duration": 19,
    "start_time": "2021-09-28T18:32:31.753Z"
   },
   {
    "duration": 4,
    "start_time": "2021-09-28T18:32:31.776Z"
   },
   {
    "duration": 25,
    "start_time": "2021-09-28T18:32:31.782Z"
   },
   {
    "duration": 9426,
    "start_time": "2021-09-28T18:32:31.808Z"
   },
   {
    "duration": 13,
    "start_time": "2021-09-28T18:32:41.236Z"
   },
   {
    "duration": 29,
    "start_time": "2021-09-28T18:32:41.251Z"
   },
   {
    "duration": 400,
    "start_time": "2021-09-28T18:32:41.282Z"
   },
   {
    "duration": 19,
    "start_time": "2021-09-28T18:32:41.683Z"
   },
   {
    "duration": 6,
    "start_time": "2021-09-28T18:32:41.704Z"
   },
   {
    "duration": 16,
    "start_time": "2021-09-28T18:32:41.711Z"
   },
   {
    "duration": 17,
    "start_time": "2021-09-28T18:32:41.729Z"
   },
   {
    "duration": 321,
    "start_time": "2021-09-28T18:32:41.748Z"
   },
   {
    "duration": 316,
    "start_time": "2021-09-28T18:32:42.070Z"
   },
   {
    "duration": 3508,
    "start_time": "2021-09-28T18:32:42.388Z"
   },
   {
    "duration": 5,
    "start_time": "2021-09-28T18:32:45.897Z"
   },
   {
    "duration": 18,
    "start_time": "2021-09-28T18:32:45.903Z"
   },
   {
    "duration": 11,
    "start_time": "2021-09-28T18:32:45.922Z"
   },
   {
    "duration": 208,
    "start_time": "2021-09-28T18:32:45.935Z"
   },
   {
    "duration": 421,
    "start_time": "2021-09-28T18:32:46.144Z"
   },
   {
    "duration": 313,
    "start_time": "2021-09-28T18:36:57.369Z"
   },
   {
    "duration": 60,
    "start_time": "2021-09-28T18:37:57.065Z"
   },
   {
    "duration": 283,
    "start_time": "2021-09-28T18:38:03.960Z"
   },
   {
    "duration": 296,
    "start_time": "2021-09-28T18:38:36.278Z"
   },
   {
    "duration": 8,
    "start_time": "2021-09-28T18:38:55.451Z"
   },
   {
    "duration": 8,
    "start_time": "2021-09-28T18:39:00.407Z"
   },
   {
    "duration": 124,
    "start_time": "2021-09-28T18:49:22.230Z"
   },
   {
    "duration": 339,
    "start_time": "2021-09-28T18:49:27.507Z"
   },
   {
    "duration": 8,
    "start_time": "2021-09-28T18:49:40.330Z"
   },
   {
    "duration": 145,
    "start_time": "2021-09-28T18:49:41.932Z"
   },
   {
    "duration": 101,
    "start_time": "2021-09-28T18:49:51.584Z"
   },
   {
    "duration": 287,
    "start_time": "2021-09-28T19:05:18.752Z"
   },
   {
    "duration": 55289,
    "start_time": "2021-09-28T19:05:31.588Z"
   },
   {
    "duration": 55782,
    "start_time": "2021-09-28T19:11:32.659Z"
   },
   {
    "duration": 55464,
    "start_time": "2021-09-28T19:12:36.853Z"
   },
   {
    "duration": 54347,
    "start_time": "2021-09-28T19:14:32.566Z"
   },
   {
    "duration": 56546,
    "start_time": "2021-09-28T19:17:28.860Z"
   },
   {
    "duration": 2160,
    "start_time": "2021-09-28T19:19:38.076Z"
   },
   {
    "duration": 52,
    "start_time": "2021-09-28T19:19:40.238Z"
   },
   {
    "duration": 3,
    "start_time": "2021-09-28T19:19:40.292Z"
   },
   {
    "duration": 34,
    "start_time": "2021-09-28T19:19:40.297Z"
   },
   {
    "duration": 395,
    "start_time": "2021-09-28T19:19:40.333Z"
   },
   {
    "duration": 4,
    "start_time": "2021-09-28T19:19:40.730Z"
   },
   {
    "duration": 28,
    "start_time": "2021-09-28T19:19:40.736Z"
   },
   {
    "duration": 44,
    "start_time": "2021-09-28T19:19:40.766Z"
   },
   {
    "duration": 106,
    "start_time": "2021-09-28T19:19:40.813Z"
   },
   {
    "duration": 3826,
    "start_time": "2021-09-28T19:19:40.921Z"
   },
   {
    "duration": 347,
    "start_time": "2021-09-28T19:19:44.749Z"
   },
   {
    "duration": 4,
    "start_time": "2021-09-28T19:19:45.098Z"
   },
   {
    "duration": 47,
    "start_time": "2021-09-28T19:19:45.104Z"
   },
   {
    "duration": 31,
    "start_time": "2021-09-28T19:19:45.153Z"
   },
   {
    "duration": 5,
    "start_time": "2021-09-28T19:19:45.186Z"
   },
   {
    "duration": 51,
    "start_time": "2021-09-28T19:19:45.193Z"
   },
   {
    "duration": 7,
    "start_time": "2021-09-28T19:19:45.246Z"
   },
   {
    "duration": 7,
    "start_time": "2021-09-28T19:19:45.255Z"
   },
   {
    "duration": 349,
    "start_time": "2021-09-28T19:19:45.264Z"
   },
   {
    "duration": 31,
    "start_time": "2021-09-28T19:19:45.615Z"
   },
   {
    "duration": 29,
    "start_time": "2021-09-28T19:19:45.647Z"
   },
   {
    "duration": 5,
    "start_time": "2021-09-28T19:19:45.678Z"
   },
   {
    "duration": 349,
    "start_time": "2021-09-28T19:19:45.684Z"
   },
   {
    "duration": 21,
    "start_time": "2021-09-28T19:19:46.035Z"
   },
   {
    "duration": 37,
    "start_time": "2021-09-28T19:19:46.058Z"
   },
   {
    "duration": 89,
    "start_time": "2021-09-28T19:19:46.096Z"
   },
   {
    "duration": 2655,
    "start_time": "2021-09-28T19:19:46.189Z"
   },
   {
    "duration": 4,
    "start_time": "2021-09-28T19:19:48.846Z"
   },
   {
    "duration": 58,
    "start_time": "2021-09-28T19:19:48.851Z"
   },
   {
    "duration": 28,
    "start_time": "2021-09-28T19:19:48.911Z"
   },
   {
    "duration": 3,
    "start_time": "2021-09-28T19:19:48.941Z"
   },
   {
    "duration": 48,
    "start_time": "2021-09-28T19:19:48.946Z"
   },
   {
    "duration": 9567,
    "start_time": "2021-09-28T19:19:48.995Z"
   },
   {
    "duration": 20,
    "start_time": "2021-09-28T19:19:58.565Z"
   },
   {
    "duration": 12,
    "start_time": "2021-09-28T19:19:58.587Z"
   },
   {
    "duration": 463,
    "start_time": "2021-09-28T19:19:58.601Z"
   },
   {
    "duration": 28,
    "start_time": "2021-09-28T19:19:59.066Z"
   },
   {
    "duration": 6,
    "start_time": "2021-09-28T19:19:59.096Z"
   },
   {
    "duration": 19,
    "start_time": "2021-09-28T19:19:59.104Z"
   },
   {
    "duration": 19,
    "start_time": "2021-09-28T19:19:59.125Z"
   },
   {
    "duration": 336,
    "start_time": "2021-09-28T19:19:59.146Z"
   },
   {
    "duration": 293,
    "start_time": "2021-09-28T19:19:59.483Z"
   },
   {
    "duration": 3446,
    "start_time": "2021-09-28T19:19:59.778Z"
   },
   {
    "duration": 4,
    "start_time": "2021-09-28T19:20:03.226Z"
   },
   {
    "duration": 18,
    "start_time": "2021-09-28T19:20:03.231Z"
   },
   {
    "duration": 32,
    "start_time": "2021-09-28T19:20:03.251Z"
   },
   {
    "duration": 193,
    "start_time": "2021-09-28T19:20:03.285Z"
   },
   {
    "duration": 6,
    "start_time": "2021-09-28T19:20:03.480Z"
   },
   {
    "duration": 196,
    "start_time": "2021-09-28T19:20:03.487Z"
   },
   {
    "duration": 55219,
    "start_time": "2021-09-28T19:20:03.685Z"
   },
   {
    "duration": 53760,
    "start_time": "2021-09-28T19:21:23.067Z"
   },
   {
    "duration": 90254,
    "start_time": "2021-09-28T19:23:15.995Z"
   },
   {
    "duration": 89873,
    "start_time": "2021-09-28T19:27:55.232Z"
   },
   {
    "duration": 407,
    "start_time": "2021-09-28T19:36:04.802Z"
   },
   {
    "duration": 307,
    "start_time": "2021-09-28T19:36:13.178Z"
   },
   {
    "duration": 73931,
    "start_time": "2021-09-28T19:36:55.324Z"
   },
   {
    "duration": 67824,
    "start_time": "2021-09-28T19:43:10.921Z"
   },
   {
    "duration": 107567,
    "start_time": "2021-09-28T19:55:55.986Z"
   },
   {
    "duration": 123960,
    "start_time": "2021-09-28T19:58:28.824Z"
   },
   {
    "duration": 1730640,
    "start_time": "2021-09-28T20:11:13.061Z"
   },
   {
    "duration": 807930,
    "start_time": "2021-09-28T20:40:05.471Z"
   },
   {
    "duration": 228183,
    "start_time": "2021-09-28T20:54:05.069Z"
   },
   {
    "duration": 2154,
    "start_time": "2021-09-28T20:58:02.872Z"
   },
   {
    "duration": 52,
    "start_time": "2021-09-28T20:58:05.028Z"
   },
   {
    "duration": 3,
    "start_time": "2021-09-28T20:58:05.082Z"
   },
   {
    "duration": 40,
    "start_time": "2021-09-28T20:58:05.087Z"
   },
   {
    "duration": 392,
    "start_time": "2021-09-28T20:58:05.128Z"
   },
   {
    "duration": 6,
    "start_time": "2021-09-28T20:58:05.522Z"
   },
   {
    "duration": 24,
    "start_time": "2021-09-28T20:58:05.530Z"
   },
   {
    "duration": 52,
    "start_time": "2021-09-28T20:58:05.558Z"
   },
   {
    "duration": 107,
    "start_time": "2021-09-28T20:58:05.613Z"
   },
   {
    "duration": 3863,
    "start_time": "2021-09-28T20:58:05.722Z"
   },
   {
    "duration": 354,
    "start_time": "2021-09-28T20:58:09.587Z"
   },
   {
    "duration": 4,
    "start_time": "2021-09-28T20:58:09.943Z"
   },
   {
    "duration": 49,
    "start_time": "2021-09-28T20:58:09.948Z"
   },
   {
    "duration": 32,
    "start_time": "2021-09-28T20:58:09.998Z"
   },
   {
    "duration": 4,
    "start_time": "2021-09-28T20:58:10.032Z"
   },
   {
    "duration": 59,
    "start_time": "2021-09-28T20:58:10.037Z"
   },
   {
    "duration": 9,
    "start_time": "2021-09-28T20:58:10.097Z"
   },
   {
    "duration": 12,
    "start_time": "2021-09-28T20:58:10.107Z"
   },
   {
    "duration": 356,
    "start_time": "2021-09-28T20:58:10.121Z"
   },
   {
    "duration": 29,
    "start_time": "2021-09-28T20:58:10.480Z"
   },
   {
    "duration": 19,
    "start_time": "2021-09-28T20:58:10.511Z"
   },
   {
    "duration": 4,
    "start_time": "2021-09-28T20:58:10.532Z"
   },
   {
    "duration": 363,
    "start_time": "2021-09-28T20:58:10.540Z"
   },
   {
    "duration": 21,
    "start_time": "2021-09-28T20:58:10.905Z"
   },
   {
    "duration": 31,
    "start_time": "2021-09-28T20:58:10.928Z"
   },
   {
    "duration": 60,
    "start_time": "2021-09-28T20:58:10.961Z"
   },
   {
    "duration": 2712,
    "start_time": "2021-09-28T20:58:11.023Z"
   },
   {
    "duration": 4,
    "start_time": "2021-09-28T20:58:13.736Z"
   },
   {
    "duration": 49,
    "start_time": "2021-09-28T20:58:13.742Z"
   },
   {
    "duration": 26,
    "start_time": "2021-09-28T20:58:13.793Z"
   },
   {
    "duration": 4,
    "start_time": "2021-09-28T20:58:13.820Z"
   },
   {
    "duration": 39,
    "start_time": "2021-09-28T20:58:13.826Z"
   },
   {
    "duration": 9317,
    "start_time": "2021-09-28T20:58:13.867Z"
   },
   {
    "duration": 13,
    "start_time": "2021-09-28T20:58:23.185Z"
   },
   {
    "duration": 13,
    "start_time": "2021-09-28T20:58:23.199Z"
   },
   {
    "duration": 426,
    "start_time": "2021-09-28T20:58:23.213Z"
   },
   {
    "duration": 19,
    "start_time": "2021-09-28T20:58:23.641Z"
   },
   {
    "duration": 7,
    "start_time": "2021-09-28T20:58:23.677Z"
   },
   {
    "duration": 29,
    "start_time": "2021-09-28T20:58:23.686Z"
   },
   {
    "duration": 16,
    "start_time": "2021-09-28T20:58:23.717Z"
   },
   {
    "duration": 303,
    "start_time": "2021-09-28T20:58:23.735Z"
   },
   {
    "duration": 294,
    "start_time": "2021-09-28T20:58:24.040Z"
   },
   {
    "duration": 3478,
    "start_time": "2021-09-28T20:58:24.336Z"
   },
   {
    "duration": 6,
    "start_time": "2021-09-28T20:58:27.816Z"
   },
   {
    "duration": 17,
    "start_time": "2021-09-28T20:58:27.824Z"
   },
   {
    "duration": 35,
    "start_time": "2021-09-28T20:58:27.843Z"
   },
   {
    "duration": 202,
    "start_time": "2021-09-28T20:58:27.879Z"
   },
   {
    "duration": 7,
    "start_time": "2021-09-28T20:58:28.083Z"
   },
   {
    "duration": 94,
    "start_time": "2021-09-28T20:58:28.091Z"
   },
   {
    "duration": 90676,
    "start_time": "2021-09-28T20:58:28.187Z"
   },
   {
    "duration": 81634,
    "start_time": "2021-09-28T20:59:58.864Z"
   },
   {
    "duration": 254090,
    "start_time": "2021-09-28T21:01:20.499Z"
   },
   {
    "duration": 2,
    "start_time": "2021-09-28T21:05:34.591Z"
   },
   {
    "duration": 410,
    "start_time": "2021-09-28T21:18:07.858Z"
   },
   {
    "duration": 14633,
    "start_time": "2021-09-28T21:18:24.688Z"
   },
   {
    "duration": 10,
    "start_time": "2021-09-28T21:38:09.885Z"
   },
   {
    "duration": 60,
    "start_time": "2021-09-28T21:39:32.918Z"
   },
   {
    "duration": 110,
    "start_time": "2021-09-28T21:41:38.667Z"
   },
   {
    "duration": 4262,
    "start_time": "2021-09-28T21:41:41.099Z"
   },
   {
    "duration": 4705,
    "start_time": "2021-09-28T21:42:49.667Z"
   },
   {
    "duration": 236,
    "start_time": "2021-09-28T21:42:56.332Z"
   },
   {
    "duration": 13677,
    "start_time": "2021-09-28T21:43:06.796Z"
   },
   {
    "duration": 76,
    "start_time": "2021-09-28T21:44:54.761Z"
   },
   {
    "duration": 136,
    "start_time": "2021-09-28T21:45:46.993Z"
   },
   {
    "duration": 15,
    "start_time": "2021-09-28T21:50:00.783Z"
   },
   {
    "duration": 4224,
    "start_time": "2021-09-28T21:50:01.771Z"
   },
   {
    "duration": 13553,
    "start_time": "2021-09-28T21:50:08.130Z"
   },
   {
    "duration": 80,
    "start_time": "2021-09-28T21:50:24.003Z"
   },
   {
    "duration": 136,
    "start_time": "2021-09-28T21:50:25.571Z"
   },
   {
    "duration": 1034,
    "start_time": "2021-09-28T21:51:31.068Z"
   },
   {
    "duration": 13,
    "start_time": "2021-09-28T21:51:45.453Z"
   },
   {
    "duration": 2293,
    "start_time": "2021-09-28T21:57:11.148Z"
   },
   {
    "duration": 50,
    "start_time": "2021-09-28T21:57:13.443Z"
   },
   {
    "duration": 3,
    "start_time": "2021-09-28T21:57:13.495Z"
   },
   {
    "duration": 33,
    "start_time": "2021-09-28T21:57:13.500Z"
   },
   {
    "duration": 391,
    "start_time": "2021-09-28T21:57:13.534Z"
   },
   {
    "duration": 5,
    "start_time": "2021-09-28T21:57:13.927Z"
   },
   {
    "duration": 28,
    "start_time": "2021-09-28T21:57:13.933Z"
   },
   {
    "duration": 46,
    "start_time": "2021-09-28T21:57:13.964Z"
   },
   {
    "duration": 114,
    "start_time": "2021-09-28T21:57:14.012Z"
   },
   {
    "duration": 3818,
    "start_time": "2021-09-28T21:57:14.128Z"
   },
   {
    "duration": 349,
    "start_time": "2021-09-28T21:57:17.948Z"
   },
   {
    "duration": 4,
    "start_time": "2021-09-28T21:57:18.299Z"
   },
   {
    "duration": 44,
    "start_time": "2021-09-28T21:57:18.304Z"
   },
   {
    "duration": 34,
    "start_time": "2021-09-28T21:57:18.349Z"
   },
   {
    "duration": 4,
    "start_time": "2021-09-28T21:57:18.385Z"
   },
   {
    "duration": 47,
    "start_time": "2021-09-28T21:57:18.391Z"
   },
   {
    "duration": 7,
    "start_time": "2021-09-28T21:57:18.439Z"
   },
   {
    "duration": 4,
    "start_time": "2021-09-28T21:57:18.448Z"
   },
   {
    "duration": 356,
    "start_time": "2021-09-28T21:57:18.454Z"
   },
   {
    "duration": 29,
    "start_time": "2021-09-28T21:57:18.812Z"
   },
   {
    "duration": 17,
    "start_time": "2021-09-28T21:57:18.843Z"
   },
   {
    "duration": 4,
    "start_time": "2021-09-28T21:57:18.862Z"
   },
   {
    "duration": 363,
    "start_time": "2021-09-28T21:57:18.879Z"
   },
   {
    "duration": 21,
    "start_time": "2021-09-28T21:57:19.244Z"
   },
   {
    "duration": 27,
    "start_time": "2021-09-28T21:57:19.267Z"
   },
   {
    "duration": 86,
    "start_time": "2021-09-28T21:57:19.295Z"
   },
   {
    "duration": 2686,
    "start_time": "2021-09-28T21:57:19.383Z"
   },
   {
    "duration": 7,
    "start_time": "2021-09-28T21:57:22.071Z"
   },
   {
    "duration": 47,
    "start_time": "2021-09-28T21:57:22.080Z"
   },
   {
    "duration": 21,
    "start_time": "2021-09-28T21:57:22.129Z"
   },
   {
    "duration": 4,
    "start_time": "2021-09-28T21:57:22.152Z"
   },
   {
    "duration": 29,
    "start_time": "2021-09-28T21:57:22.158Z"
   },
   {
    "duration": 9091,
    "start_time": "2021-09-28T21:57:22.188Z"
   },
   {
    "duration": 12,
    "start_time": "2021-09-28T21:57:31.281Z"
   },
   {
    "duration": 13,
    "start_time": "2021-09-28T21:57:31.295Z"
   },
   {
    "duration": 403,
    "start_time": "2021-09-28T21:57:31.310Z"
   },
   {
    "duration": 19,
    "start_time": "2021-09-28T21:57:31.715Z"
   },
   {
    "duration": 6,
    "start_time": "2021-09-28T21:57:31.736Z"
   },
   {
    "duration": 38,
    "start_time": "2021-09-28T21:57:31.744Z"
   },
   {
    "duration": 17,
    "start_time": "2021-09-28T21:57:31.784Z"
   },
   {
    "duration": 304,
    "start_time": "2021-09-28T21:57:31.802Z"
   },
   {
    "duration": 294,
    "start_time": "2021-09-28T21:57:32.107Z"
   },
   {
    "duration": 3299,
    "start_time": "2021-09-28T21:57:32.403Z"
   },
   {
    "duration": 5,
    "start_time": "2021-09-28T21:57:35.704Z"
   },
   {
    "duration": 13,
    "start_time": "2021-09-28T21:57:35.710Z"
   },
   {
    "duration": 10,
    "start_time": "2021-09-28T21:57:35.724Z"
   },
   {
    "duration": 217,
    "start_time": "2021-09-28T21:57:35.736Z"
   },
   {
    "duration": 7,
    "start_time": "2021-09-28T21:57:35.955Z"
   },
   {
    "duration": 212,
    "start_time": "2021-09-28T21:57:35.964Z"
   },
   {
    "duration": 90169,
    "start_time": "2021-09-28T21:57:36.179Z"
   },
   {
    "duration": 87033,
    "start_time": "2021-09-28T21:59:06.350Z"
   },
   {
    "duration": 264013,
    "start_time": "2021-09-28T22:00:33.385Z"
   },
   {
    "duration": 14748,
    "start_time": "2021-09-28T22:04:57.477Z"
   },
   {
    "duration": 153,
    "start_time": "2021-09-28T22:05:12.227Z"
   },
   {
    "duration": 4312,
    "start_time": "2021-09-28T22:05:12.382Z"
   },
   {
    "duration": 14040,
    "start_time": "2021-09-28T22:05:16.696Z"
   },
   {
    "duration": 76,
    "start_time": "2021-09-28T22:05:30.737Z"
   },
   {
    "duration": 139,
    "start_time": "2021-09-28T22:05:30.815Z"
   },
   {
    "duration": 12,
    "start_time": "2021-09-28T22:05:30.955Z"
   },
   {
    "duration": 3349,
    "start_time": "2021-09-29T07:30:11.116Z"
   },
   {
    "duration": 59,
    "start_time": "2021-09-29T07:30:14.468Z"
   },
   {
    "duration": 4,
    "start_time": "2021-09-29T07:30:14.531Z"
   },
   {
    "duration": 61,
    "start_time": "2021-09-29T07:30:14.538Z"
   },
   {
    "duration": 668,
    "start_time": "2021-09-29T07:30:14.601Z"
   },
   {
    "duration": 6,
    "start_time": "2021-09-29T07:30:15.272Z"
   },
   {
    "duration": 26,
    "start_time": "2021-09-29T07:30:15.280Z"
   },
   {
    "duration": 84,
    "start_time": "2021-09-29T07:30:15.310Z"
   },
   {
    "duration": 193,
    "start_time": "2021-09-29T07:30:15.397Z"
   },
   {
    "duration": 6604,
    "start_time": "2021-09-29T07:30:17.885Z"
   },
   {
    "duration": 588,
    "start_time": "2021-09-29T07:30:24.492Z"
   },
   {
    "duration": 5,
    "start_time": "2021-09-29T07:30:25.084Z"
   },
   {
    "duration": 53,
    "start_time": "2021-09-29T07:30:25.092Z"
   },
   {
    "duration": 62,
    "start_time": "2021-09-29T07:30:25.148Z"
   },
   {
    "duration": 6,
    "start_time": "2021-09-29T07:30:25.212Z"
   },
   {
    "duration": 85,
    "start_time": "2021-09-29T07:30:25.221Z"
   },
   {
    "duration": 15,
    "start_time": "2021-09-29T07:30:25.310Z"
   },
   {
    "duration": 9,
    "start_time": "2021-09-29T07:30:25.328Z"
   },
   {
    "duration": 621,
    "start_time": "2021-09-29T07:30:25.340Z"
   },
   {
    "duration": 35,
    "start_time": "2021-09-29T07:30:25.968Z"
   },
   {
    "duration": 30,
    "start_time": "2021-09-29T07:30:26.005Z"
   },
   {
    "duration": 30,
    "start_time": "2021-09-29T07:30:26.037Z"
   },
   {
    "duration": 741,
    "start_time": "2021-09-29T07:30:26.070Z"
   },
   {
    "duration": 33,
    "start_time": "2021-09-29T07:30:26.814Z"
   },
   {
    "duration": 59,
    "start_time": "2021-09-29T07:30:26.850Z"
   },
   {
    "duration": 110,
    "start_time": "2021-09-29T07:30:26.913Z"
   },
   {
    "duration": 6478,
    "start_time": "2021-09-29T07:30:27.026Z"
   },
   {
    "duration": 7,
    "start_time": "2021-09-29T07:30:33.507Z"
   },
   {
    "duration": 43,
    "start_time": "2021-09-29T07:30:33.517Z"
   },
   {
    "duration": 32,
    "start_time": "2021-09-29T07:30:33.562Z"
   },
   {
    "duration": 7,
    "start_time": "2021-09-29T07:30:33.596Z"
   },
   {
    "duration": 36,
    "start_time": "2021-09-29T07:33:00.156Z"
   },
   {
    "duration": 18973,
    "start_time": "2021-09-29T07:33:01.436Z"
   },
   {
    "duration": 18,
    "start_time": "2021-09-29T07:33:20.412Z"
   },
   {
    "duration": 43,
    "start_time": "2021-09-29T07:33:20.434Z"
   },
   {
    "duration": 817,
    "start_time": "2021-09-29T07:33:20.480Z"
   },
   {
    "duration": 37,
    "start_time": "2021-09-29T07:33:21.300Z"
   },
   {
    "duration": 31,
    "start_time": "2021-09-29T07:33:21.340Z"
   },
   {
    "duration": 25,
    "start_time": "2021-09-29T07:33:21.374Z"
   },
   {
    "duration": 27,
    "start_time": "2021-09-29T07:33:21.403Z"
   },
   {
    "duration": 523,
    "start_time": "2021-09-29T07:33:21.433Z"
   },
   {
    "duration": 497,
    "start_time": "2021-09-29T07:33:21.959Z"
   },
   {
    "duration": 5636,
    "start_time": "2021-09-29T07:33:22.459Z"
   },
   {
    "duration": 6,
    "start_time": "2021-09-29T07:33:28.097Z"
   },
   {
    "duration": 17,
    "start_time": "2021-09-29T07:33:28.105Z"
   },
   {
    "duration": 49,
    "start_time": "2021-09-29T07:33:28.124Z"
   },
   {
    "duration": 370,
    "start_time": "2021-09-29T07:33:28.176Z"
   },
   {
    "duration": 10,
    "start_time": "2021-09-29T07:38:07.122Z"
   },
   {
    "duration": 232,
    "start_time": "2021-09-29T07:38:09.637Z"
   },
   {
    "duration": 2590,
    "start_time": "2021-09-29T19:54:03.386Z"
   },
   {
    "duration": 61,
    "start_time": "2021-09-29T19:54:07.201Z"
   },
   {
    "duration": 5,
    "start_time": "2021-09-29T19:54:08.384Z"
   },
   {
    "duration": 46,
    "start_time": "2021-09-29T19:54:08.763Z"
   },
   {
    "duration": 721,
    "start_time": "2021-09-29T19:54:09.804Z"
   },
   {
    "duration": 7,
    "start_time": "2021-09-29T19:54:10.527Z"
   },
   {
    "duration": 39,
    "start_time": "2021-09-29T19:54:10.599Z"
   },
   {
    "duration": 69,
    "start_time": "2021-09-29T19:54:10.863Z"
   },
   {
    "duration": 164,
    "start_time": "2021-09-29T19:54:11.088Z"
   },
   {
    "duration": 6115,
    "start_time": "2021-09-29T19:54:11.333Z"
   },
   {
    "duration": 652,
    "start_time": "2021-09-29T19:54:17.450Z"
   },
   {
    "duration": 17,
    "start_time": "2021-09-29T19:54:18.105Z"
   },
   {
    "duration": 56,
    "start_time": "2021-09-29T19:54:18.125Z"
   },
   {
    "duration": 47,
    "start_time": "2021-09-29T19:54:18.184Z"
   },
   {
    "duration": 6,
    "start_time": "2021-09-29T19:54:18.233Z"
   },
   {
    "duration": 49,
    "start_time": "2021-09-29T19:54:18.242Z"
   },
   {
    "duration": 9,
    "start_time": "2021-09-29T19:54:18.294Z"
   },
   {
    "duration": 8,
    "start_time": "2021-09-29T19:54:18.306Z"
   },
   {
    "duration": 566,
    "start_time": "2021-09-29T19:54:18.317Z"
   },
   {
    "duration": 46,
    "start_time": "2021-09-29T19:54:20.503Z"
   },
   {
    "duration": 25,
    "start_time": "2021-09-29T19:54:21.236Z"
   },
   {
    "duration": 5,
    "start_time": "2021-09-29T19:54:21.826Z"
   },
   {
    "duration": 556,
    "start_time": "2021-09-29T19:54:22.123Z"
   },
   {
    "duration": 35,
    "start_time": "2021-09-29T19:54:22.758Z"
   },
   {
    "duration": 34,
    "start_time": "2021-09-29T19:54:23.030Z"
   },
   {
    "duration": 71,
    "start_time": "2021-09-29T19:54:23.306Z"
   },
   {
    "duration": 4055,
    "start_time": "2021-09-29T19:54:23.661Z"
   },
   {
    "duration": 6,
    "start_time": "2021-09-29T19:54:27.722Z"
   },
   {
    "duration": 41,
    "start_time": "2021-09-29T19:54:28.711Z"
   },
   {
    "duration": 29,
    "start_time": "2021-09-29T19:54:29.326Z"
   },
   {
    "duration": 5,
    "start_time": "2021-09-29T19:54:29.563Z"
   },
   {
    "duration": 34,
    "start_time": "2021-09-29T19:54:34.683Z"
   },
   {
    "duration": 15271,
    "start_time": "2021-09-29T19:54:35.631Z"
   },
   {
    "duration": 26,
    "start_time": "2021-09-29T19:54:50.906Z"
   },
   {
    "duration": 17,
    "start_time": "2021-09-29T19:54:50.935Z"
   },
   {
    "duration": 790,
    "start_time": "2021-09-29T19:54:50.955Z"
   },
   {
    "duration": 30,
    "start_time": "2021-09-29T19:54:51.748Z"
   },
   {
    "duration": 9,
    "start_time": "2021-09-29T19:54:51.781Z"
   },
   {
    "duration": 51,
    "start_time": "2021-09-29T19:54:51.793Z"
   },
   {
    "duration": 26,
    "start_time": "2021-09-29T19:54:51.847Z"
   },
   {
    "duration": 472,
    "start_time": "2021-09-29T19:54:51.876Z"
   },
   {
    "duration": 461,
    "start_time": "2021-09-29T19:54:52.351Z"
   },
   {
    "duration": 5187,
    "start_time": "2021-09-29T19:54:53.201Z"
   },
   {
    "duration": 6,
    "start_time": "2021-09-29T19:54:58.390Z"
   },
   {
    "duration": 13,
    "start_time": "2021-09-29T19:55:01.636Z"
   },
   {
    "duration": 14,
    "start_time": "2021-09-29T19:55:02.839Z"
   },
   {
    "duration": 315,
    "start_time": "2021-09-29T19:55:04.935Z"
   },
   {
    "duration": 10,
    "start_time": "2021-09-29T19:55:16.972Z"
   },
   {
    "duration": 142,
    "start_time": "2021-09-29T19:55:20.191Z"
   },
   {
    "duration": 461,
    "start_time": "2021-09-29T19:55:34.118Z"
   },
   {
    "duration": 6,
    "start_time": "2021-09-29T20:00:22.968Z"
   },
   {
    "duration": 483,
    "start_time": "2021-09-29T20:04:28.197Z"
   },
   {
    "duration": 378,
    "start_time": "2021-09-29T20:05:32.888Z"
   },
   {
    "duration": 138,
    "start_time": "2021-09-29T20:07:01.993Z"
   },
   {
    "duration": 330,
    "start_time": "2021-09-29T20:07:07.385Z"
   },
   {
    "duration": 3595,
    "start_time": "2021-09-29T20:14:49.062Z"
   },
   {
    "duration": 73,
    "start_time": "2021-09-29T20:14:52.660Z"
   },
   {
    "duration": 5,
    "start_time": "2021-09-29T20:14:52.737Z"
   },
   {
    "duration": 76,
    "start_time": "2021-09-29T20:14:52.746Z"
   },
   {
    "duration": 788,
    "start_time": "2021-09-29T20:14:52.826Z"
   },
   {
    "duration": 10,
    "start_time": "2021-09-29T20:14:53.616Z"
   },
   {
    "duration": 38,
    "start_time": "2021-09-29T20:14:53.628Z"
   },
   {
    "duration": 68,
    "start_time": "2021-09-29T20:14:53.669Z"
   },
   {
    "duration": 184,
    "start_time": "2021-09-29T20:14:53.740Z"
   },
   {
    "duration": 6169,
    "start_time": "2021-09-29T20:14:53.926Z"
   },
   {
    "duration": 610,
    "start_time": "2021-09-29T20:15:00.098Z"
   },
   {
    "duration": 13,
    "start_time": "2021-09-29T20:15:00.711Z"
   },
   {
    "duration": 61,
    "start_time": "2021-09-29T20:15:00.727Z"
   },
   {
    "duration": 70,
    "start_time": "2021-09-29T20:15:00.790Z"
   },
   {
    "duration": 6,
    "start_time": "2021-09-29T20:15:00.863Z"
   },
   {
    "duration": 98,
    "start_time": "2021-09-29T20:15:00.872Z"
   },
   {
    "duration": 45,
    "start_time": "2021-09-29T20:15:00.973Z"
   },
   {
    "duration": 31,
    "start_time": "2021-09-29T20:15:01.021Z"
   },
   {
    "duration": 655,
    "start_time": "2021-09-29T20:15:01.055Z"
   },
   {
    "duration": 34,
    "start_time": "2021-09-29T20:15:01.712Z"
   },
   {
    "duration": 55,
    "start_time": "2021-09-29T20:15:01.748Z"
   },
   {
    "duration": 31,
    "start_time": "2021-09-29T20:15:01.805Z"
   },
   {
    "duration": 587,
    "start_time": "2021-09-29T20:15:01.842Z"
   },
   {
    "duration": 35,
    "start_time": "2021-09-29T20:15:02.432Z"
   },
   {
    "duration": 47,
    "start_time": "2021-09-29T20:15:02.469Z"
   },
   {
    "duration": 118,
    "start_time": "2021-09-29T20:15:02.518Z"
   },
   {
    "duration": 4209,
    "start_time": "2021-09-29T20:15:02.638Z"
   },
   {
    "duration": 8,
    "start_time": "2021-09-29T20:15:06.850Z"
   },
   {
    "duration": 47,
    "start_time": "2021-09-29T20:15:06.861Z"
   },
   {
    "duration": 35,
    "start_time": "2021-09-29T20:15:06.911Z"
   },
   {
    "duration": 6,
    "start_time": "2021-09-29T20:15:06.950Z"
   },
   {
    "duration": 67,
    "start_time": "2021-09-29T20:15:06.960Z"
   },
   {
    "duration": 15600,
    "start_time": "2021-09-29T20:15:07.029Z"
   },
   {
    "duration": 16,
    "start_time": "2021-09-29T20:15:22.632Z"
   },
   {
    "duration": 24,
    "start_time": "2021-09-29T20:15:22.650Z"
   },
   {
    "duration": 780,
    "start_time": "2021-09-29T20:15:22.677Z"
   },
   {
    "duration": 28,
    "start_time": "2021-09-29T20:15:23.459Z"
   },
   {
    "duration": 33,
    "start_time": "2021-09-29T20:15:23.489Z"
   },
   {
    "duration": 56,
    "start_time": "2021-09-29T20:15:23.524Z"
   },
   {
    "duration": 48,
    "start_time": "2021-09-29T20:15:23.582Z"
   },
   {
    "duration": 468,
    "start_time": "2021-09-29T20:15:23.632Z"
   },
   {
    "duration": 451,
    "start_time": "2021-09-29T20:15:24.103Z"
   },
   {
    "duration": 5287,
    "start_time": "2021-09-29T20:15:24.557Z"
   },
   {
    "duration": 6,
    "start_time": "2021-09-29T20:15:29.846Z"
   },
   {
    "duration": 35,
    "start_time": "2021-09-29T20:15:29.854Z"
   },
   {
    "duration": 30,
    "start_time": "2021-09-29T20:15:29.891Z"
   },
   {
    "duration": 342,
    "start_time": "2021-09-29T20:15:29.923Z"
   },
   {
    "duration": 9,
    "start_time": "2021-09-29T20:15:30.268Z"
   },
   {
    "duration": 245,
    "start_time": "2021-09-29T20:15:30.279Z"
   },
   {
    "duration": 122771,
    "start_time": "2021-09-29T20:15:30.527Z"
   },
   {
    "duration": 112356,
    "start_time": "2021-09-29T20:17:33.300Z"
   },
   {
    "duration": 364577,
    "start_time": "2021-09-29T20:19:25.659Z"
   },
   {
    "duration": 22308,
    "start_time": "2021-09-29T20:25:30.238Z"
   },
   {
    "duration": 77,
    "start_time": "2021-09-29T20:25:52.548Z"
   },
   {
    "duration": 5306,
    "start_time": "2021-09-29T20:25:52.630Z"
   },
   {
    "duration": 17912,
    "start_time": "2021-09-29T20:25:57.939Z"
   },
   {
    "duration": 114,
    "start_time": "2021-09-29T20:26:15.853Z"
   },
   {
    "duration": 205,
    "start_time": "2021-09-29T20:26:15.969Z"
   },
   {
    "duration": 18,
    "start_time": "2021-09-29T20:26:16.176Z"
   },
   {
    "duration": 11,
    "start_time": "2021-09-29T20:32:20.605Z"
   },
   {
    "duration": 5,
    "start_time": "2021-09-29T20:32:46.073Z"
   },
   {
    "duration": 11,
    "start_time": "2021-09-29T20:33:43.965Z"
   },
   {
    "duration": 11,
    "start_time": "2021-09-29T20:34:08.953Z"
   },
   {
    "duration": 534,
    "start_time": "2021-09-29T20:34:29.047Z"
   },
   {
    "duration": 21,
    "start_time": "2021-09-29T20:35:13.010Z"
   },
   {
    "duration": 686,
    "start_time": "2021-09-29T20:35:21.654Z"
   },
   {
    "duration": 585,
    "start_time": "2021-09-29T20:39:47.589Z"
   },
   {
    "duration": 564,
    "start_time": "2021-09-29T20:40:02.729Z"
   },
   {
    "duration": 331,
    "start_time": "2021-09-29T20:40:07.500Z"
   },
   {
    "duration": 470,
    "start_time": "2021-09-29T20:40:54.284Z"
   },
   {
    "duration": 449,
    "start_time": "2021-09-29T20:41:07.344Z"
   },
   {
    "duration": 668,
    "start_time": "2021-09-29T20:41:39.591Z"
   },
   {
    "duration": 12,
    "start_time": "2021-09-29T20:45:24.861Z"
   },
   {
    "duration": 468,
    "start_time": "2021-09-29T20:45:27.499Z"
   },
   {
    "duration": 484,
    "start_time": "2021-09-29T20:58:05.825Z"
   },
   {
    "duration": 299,
    "start_time": "2021-09-29T20:59:05.832Z"
   },
   {
    "duration": 297,
    "start_time": "2021-09-29T21:00:01.932Z"
   },
   {
    "duration": 306,
    "start_time": "2021-09-29T21:00:07.135Z"
   },
   {
    "duration": 562,
    "start_time": "2021-09-29T21:02:02.992Z"
   },
   {
    "duration": 563,
    "start_time": "2021-09-29T21:02:12.879Z"
   },
   {
    "duration": 558,
    "start_time": "2021-09-29T21:04:19.850Z"
   },
   {
    "duration": 622,
    "start_time": "2021-09-29T21:04:27.482Z"
   },
   {
    "duration": 876,
    "start_time": "2021-09-29T21:05:03.983Z"
   },
   {
    "duration": 289,
    "start_time": "2021-09-29T21:05:31.937Z"
   },
   {
    "duration": 293,
    "start_time": "2021-09-29T21:05:37.249Z"
   },
   {
    "duration": 294,
    "start_time": "2021-09-29T21:05:57.197Z"
   },
   {
    "duration": 1513,
    "start_time": "2021-09-29T21:06:51.809Z"
   },
   {
    "duration": 1147,
    "start_time": "2021-09-29T21:07:10.208Z"
   },
   {
    "duration": 18,
    "start_time": "2021-09-29T21:07:17.253Z"
   },
   {
    "duration": 298,
    "start_time": "2021-09-29T21:08:22.331Z"
   },
   {
    "duration": 315,
    "start_time": "2021-09-29T21:09:04.585Z"
   },
   {
    "duration": 406,
    "start_time": "2021-09-29T21:09:35.265Z"
   },
   {
    "duration": 1258,
    "start_time": "2021-09-29T21:09:56.346Z"
   },
   {
    "duration": 299,
    "start_time": "2021-09-29T21:10:14.465Z"
   },
   {
    "duration": 588,
    "start_time": "2021-09-29T21:10:20.511Z"
   },
   {
    "duration": 588,
    "start_time": "2021-09-29T21:10:30.583Z"
   },
   {
    "duration": 397,
    "start_time": "2021-09-29T21:12:20.086Z"
   },
   {
    "duration": 890,
    "start_time": "2021-09-29T21:12:31.332Z"
   },
   {
    "duration": 670,
    "start_time": "2021-09-29T21:14:45.552Z"
   },
   {
    "duration": 578,
    "start_time": "2021-09-29T21:17:09.805Z"
   },
   {
    "duration": 1021,
    "start_time": "2021-09-29T21:17:34.213Z"
   },
   {
    "duration": 643,
    "start_time": "2021-09-29T21:18:32.798Z"
   },
   {
    "duration": 566,
    "start_time": "2021-09-29T21:20:41.114Z"
   },
   {
    "duration": 626,
    "start_time": "2021-09-29T21:20:49.440Z"
   },
   {
    "duration": 311,
    "start_time": "2021-09-29T21:21:06.595Z"
   },
   {
    "duration": 805,
    "start_time": "2021-09-29T21:21:14.471Z"
   },
   {
    "duration": 578,
    "start_time": "2021-09-29T21:21:21.196Z"
   },
   {
    "duration": 580,
    "start_time": "2021-09-29T21:22:37.144Z"
   },
   {
    "duration": 105,
    "start_time": "2021-09-29T21:23:39.198Z"
   }
  ],
  "kernelspec": {
   "display_name": "Python 3",
   "language": "python",
   "name": "python3"
  },
  "language_info": {
   "codemirror_mode": {
    "name": "ipython",
    "version": 3
   },
   "file_extension": ".py",
   "mimetype": "text/x-python",
   "name": "python",
   "nbconvert_exporter": "python",
   "pygments_lexer": "ipython3",
   "version": "3.8.5"
  },
  "toc": {
   "base_numbering": "1",
   "nav_menu": {},
   "number_sections": true,
   "sideBar": true,
   "skip_h1_title": true,
   "title_cell": "Table of Contents",
   "title_sidebar": "Contents",
   "toc_cell": false,
   "toc_position": {},
   "toc_section_display": true,
   "toc_window_display": false
  }
 },
 "nbformat": 4,
 "nbformat_minor": 2
}
