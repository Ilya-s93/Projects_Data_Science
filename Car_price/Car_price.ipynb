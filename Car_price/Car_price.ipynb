{
 "cells": [
  {
   "cell_type": "markdown",
   "metadata": {},
   "source": [
    "# Определение стоимости автомобилей"
   ]
  },
  {
   "cell_type": "markdown",
   "metadata": {},
   "source": [
    "Сервис по продаже автомобилей с пробегом разрабатывает приложение для привлечения новых клиентов. В нём можно быстро узнать рыночную стоимость своего автомобиля. В нашем распоряжении исторические данные: технические характеристики, комплектации и цены автомобилей. Нам нужно построить модель для определения стоимости. \n",
    "\n",
    "Заказчику важны:\n",
    "\n",
    "- качество предсказания;\n",
    "- скорость предсказания;\n",
    "- время обучения."
   ]
  },
  {
   "cell_type": "markdown",
   "metadata": {},
   "source": [
    "# Описание данных\n",
    "\n",
    "Признаки:\n",
    "\n",
    "    DateCrawled — дата скачивания анкеты из базы\n",
    "    VehicleType — тип автомобильного кузова\n",
    "    RegistrationYear — год регистрации автомобиля\n",
    "    Gearbox — тип коробки передач\n",
    "    Power — мощность (л. с.)\n",
    "    Model — модель автомобиля\n",
    "    Kilometer — пробег (км)\n",
    "    RegistrationMonth — месяц регистрации автомобиля\n",
    "    FuelType — тип топлива\n",
    "    Brand — марка автомобиля\n",
    "    NotRepaired — была машина в ремонте или нет\n",
    "    DateCreated — дата создания анкеты\n",
    "    NumberOfPictures — количество фотографий автомобиля\n",
    "    PostalCode — почтовый индекс владельца анкеты (пользователя)\n",
    "    LastSeen — дата последней активности пользователя\n",
    "    \n",
    "Целевой признак:\n",
    "\n",
    "    Price — цена (евро)"
   ]
  },
  {
   "cell_type": "markdown",
   "metadata": {},
   "source": [
    "## Подготовка данных"
   ]
  },
  {
   "cell_type": "code",
   "execution_count": 1,
   "metadata": {},
   "outputs": [
    {
     "name": "stdout",
     "output_type": "stream",
     "text": [
      "Requirement already satisfied: catboost in /opt/anaconda3/lib/python3.8/site-packages (0.26.1)\n",
      "Requirement already satisfied: pandas>=0.24.0 in /opt/anaconda3/lib/python3.8/site-packages (from catboost) (1.1.3)\n",
      "Requirement already satisfied: graphviz in /opt/anaconda3/lib/python3.8/site-packages (from catboost) (0.17)\n",
      "Requirement already satisfied: six in /opt/anaconda3/lib/python3.8/site-packages (from catboost) (1.15.0)\n",
      "Requirement already satisfied: numpy>=1.16.0 in /opt/anaconda3/lib/python3.8/site-packages (from catboost) (1.19.2)\n",
      "Requirement already satisfied: matplotlib in /opt/anaconda3/lib/python3.8/site-packages (from catboost) (3.3.2)\n",
      "Requirement already satisfied: plotly in /opt/anaconda3/lib/python3.8/site-packages (from catboost) (4.14.3)\n",
      "Requirement already satisfied: scipy in /opt/anaconda3/lib/python3.8/site-packages (from catboost) (1.5.2)\n",
      "Requirement already satisfied: pytz>=2017.2 in /opt/anaconda3/lib/python3.8/site-packages (from pandas>=0.24.0->catboost) (2020.1)\n",
      "Requirement already satisfied: python-dateutil>=2.7.3 in /opt/anaconda3/lib/python3.8/site-packages (from pandas>=0.24.0->catboost) (2.8.1)\n",
      "Requirement already satisfied: cycler>=0.10 in /opt/anaconda3/lib/python3.8/site-packages (from matplotlib->catboost) (0.10.0)\n",
      "Requirement already satisfied: pyparsing!=2.0.4,!=2.1.2,!=2.1.6,>=2.0.3 in /opt/anaconda3/lib/python3.8/site-packages (from matplotlib->catboost) (2.4.7)\n",
      "Requirement already satisfied: pillow>=6.2.0 in /opt/anaconda3/lib/python3.8/site-packages (from matplotlib->catboost) (8.0.1)\n",
      "Requirement already satisfied: certifi>=2020.06.20 in /opt/anaconda3/lib/python3.8/site-packages (from matplotlib->catboost) (2020.6.20)\n",
      "Requirement already satisfied: kiwisolver>=1.0.1 in /opt/anaconda3/lib/python3.8/site-packages (from matplotlib->catboost) (1.3.0)\n",
      "Requirement already satisfied: retrying>=1.3.3 in /opt/anaconda3/lib/python3.8/site-packages (from plotly->catboost) (1.3.3)\n",
      "Note: you may need to restart the kernel to use updated packages.\n"
     ]
    }
   ],
   "source": [
    "pip install catboost"
   ]
  },
  {
   "cell_type": "code",
   "execution_count": 2,
   "metadata": {},
   "outputs": [
    {
     "name": "stdout",
     "output_type": "stream",
     "text": [
      "Collecting package metadata (current_repodata.json): done\n",
      "Solving environment: done\n",
      "\n",
      "# All requested packages already installed.\n",
      "\n",
      "\n",
      "Note: you may need to restart the kernel to use updated packages.\n"
     ]
    }
   ],
   "source": [
    "conda install -c conda-forge lightgbm"
   ]
  },
  {
   "cell_type": "code",
   "execution_count": 3,
   "metadata": {},
   "outputs": [],
   "source": [
    "import pandas as pd\n",
    "import numpy as np\n",
    "\n",
    "from sklearn.preprocessing import OrdinalEncoder\n",
    "from sklearn.model_selection import train_test_split\n",
    "from sklearn.model_selection import GridSearchCV\n",
    "from catboost import CatBoostRegressor, Pool, cv\n",
    "from sklearn.ensemble import RandomForestRegressor\n",
    "from sklearn.linear_model import Ridge\n",
    "import lightgbm as lgb\n",
    "from sklearn.metrics import mean_squared_error\n",
    "\n",
    "\n",
    "import warnings\n",
    "warnings.filterwarnings('ignore')"
   ]
  },
  {
   "cell_type": "code",
   "execution_count": 4,
   "metadata": {},
   "outputs": [
    {
     "data": {
      "text/html": [
       "<div>\n",
       "<style scoped>\n",
       "    .dataframe tbody tr th:only-of-type {\n",
       "        vertical-align: middle;\n",
       "    }\n",
       "\n",
       "    .dataframe tbody tr th {\n",
       "        vertical-align: top;\n",
       "    }\n",
       "\n",
       "    .dataframe thead th {\n",
       "        text-align: right;\n",
       "    }\n",
       "</style>\n",
       "<table border=\"1\" class=\"dataframe\">\n",
       "  <thead>\n",
       "    <tr style=\"text-align: right;\">\n",
       "      <th></th>\n",
       "      <th>DateCrawled</th>\n",
       "      <th>Price</th>\n",
       "      <th>VehicleType</th>\n",
       "      <th>RegistrationYear</th>\n",
       "      <th>Gearbox</th>\n",
       "      <th>Power</th>\n",
       "      <th>Model</th>\n",
       "      <th>Kilometer</th>\n",
       "      <th>RegistrationMonth</th>\n",
       "      <th>FuelType</th>\n",
       "      <th>Brand</th>\n",
       "      <th>NotRepaired</th>\n",
       "      <th>DateCreated</th>\n",
       "      <th>NumberOfPictures</th>\n",
       "      <th>PostalCode</th>\n",
       "      <th>LastSeen</th>\n",
       "    </tr>\n",
       "  </thead>\n",
       "  <tbody>\n",
       "    <tr>\n",
       "      <th>0</th>\n",
       "      <td>2016-03-24 11:52:17</td>\n",
       "      <td>480</td>\n",
       "      <td>NaN</td>\n",
       "      <td>1993</td>\n",
       "      <td>manual</td>\n",
       "      <td>0</td>\n",
       "      <td>golf</td>\n",
       "      <td>150000</td>\n",
       "      <td>0</td>\n",
       "      <td>petrol</td>\n",
       "      <td>volkswagen</td>\n",
       "      <td>NaN</td>\n",
       "      <td>2016-03-24 00:00:00</td>\n",
       "      <td>0</td>\n",
       "      <td>70435</td>\n",
       "      <td>2016-04-07 03:16:57</td>\n",
       "    </tr>\n",
       "    <tr>\n",
       "      <th>1</th>\n",
       "      <td>2016-03-24 10:58:45</td>\n",
       "      <td>18300</td>\n",
       "      <td>coupe</td>\n",
       "      <td>2011</td>\n",
       "      <td>manual</td>\n",
       "      <td>190</td>\n",
       "      <td>NaN</td>\n",
       "      <td>125000</td>\n",
       "      <td>5</td>\n",
       "      <td>gasoline</td>\n",
       "      <td>audi</td>\n",
       "      <td>yes</td>\n",
       "      <td>2016-03-24 00:00:00</td>\n",
       "      <td>0</td>\n",
       "      <td>66954</td>\n",
       "      <td>2016-04-07 01:46:50</td>\n",
       "    </tr>\n",
       "    <tr>\n",
       "      <th>2</th>\n",
       "      <td>2016-03-14 12:52:21</td>\n",
       "      <td>9800</td>\n",
       "      <td>suv</td>\n",
       "      <td>2004</td>\n",
       "      <td>auto</td>\n",
       "      <td>163</td>\n",
       "      <td>grand</td>\n",
       "      <td>125000</td>\n",
       "      <td>8</td>\n",
       "      <td>gasoline</td>\n",
       "      <td>jeep</td>\n",
       "      <td>NaN</td>\n",
       "      <td>2016-03-14 00:00:00</td>\n",
       "      <td>0</td>\n",
       "      <td>90480</td>\n",
       "      <td>2016-04-05 12:47:46</td>\n",
       "    </tr>\n",
       "    <tr>\n",
       "      <th>3</th>\n",
       "      <td>2016-03-17 16:54:04</td>\n",
       "      <td>1500</td>\n",
       "      <td>small</td>\n",
       "      <td>2001</td>\n",
       "      <td>manual</td>\n",
       "      <td>75</td>\n",
       "      <td>golf</td>\n",
       "      <td>150000</td>\n",
       "      <td>6</td>\n",
       "      <td>petrol</td>\n",
       "      <td>volkswagen</td>\n",
       "      <td>no</td>\n",
       "      <td>2016-03-17 00:00:00</td>\n",
       "      <td>0</td>\n",
       "      <td>91074</td>\n",
       "      <td>2016-03-17 17:40:17</td>\n",
       "    </tr>\n",
       "    <tr>\n",
       "      <th>4</th>\n",
       "      <td>2016-03-31 17:25:20</td>\n",
       "      <td>3600</td>\n",
       "      <td>small</td>\n",
       "      <td>2008</td>\n",
       "      <td>manual</td>\n",
       "      <td>69</td>\n",
       "      <td>fabia</td>\n",
       "      <td>90000</td>\n",
       "      <td>7</td>\n",
       "      <td>gasoline</td>\n",
       "      <td>skoda</td>\n",
       "      <td>no</td>\n",
       "      <td>2016-03-31 00:00:00</td>\n",
       "      <td>0</td>\n",
       "      <td>60437</td>\n",
       "      <td>2016-04-06 10:17:21</td>\n",
       "    </tr>\n",
       "  </tbody>\n",
       "</table>\n",
       "</div>"
      ],
      "text/plain": [
       "           DateCrawled  Price VehicleType  RegistrationYear Gearbox  Power  \\\n",
       "0  2016-03-24 11:52:17    480         NaN              1993  manual      0   \n",
       "1  2016-03-24 10:58:45  18300       coupe              2011  manual    190   \n",
       "2  2016-03-14 12:52:21   9800         suv              2004    auto    163   \n",
       "3  2016-03-17 16:54:04   1500       small              2001  manual     75   \n",
       "4  2016-03-31 17:25:20   3600       small              2008  manual     69   \n",
       "\n",
       "   Model  Kilometer  RegistrationMonth  FuelType       Brand NotRepaired  \\\n",
       "0   golf     150000                  0    petrol  volkswagen         NaN   \n",
       "1    NaN     125000                  5  gasoline        audi         yes   \n",
       "2  grand     125000                  8  gasoline        jeep         NaN   \n",
       "3   golf     150000                  6    petrol  volkswagen          no   \n",
       "4  fabia      90000                  7  gasoline       skoda          no   \n",
       "\n",
       "           DateCreated  NumberOfPictures  PostalCode             LastSeen  \n",
       "0  2016-03-24 00:00:00                 0       70435  2016-04-07 03:16:57  \n",
       "1  2016-03-24 00:00:00                 0       66954  2016-04-07 01:46:50  \n",
       "2  2016-03-14 00:00:00                 0       90480  2016-04-05 12:47:46  \n",
       "3  2016-03-17 00:00:00                 0       91074  2016-03-17 17:40:17  \n",
       "4  2016-03-31 00:00:00                 0       60437  2016-04-06 10:17:21  "
      ]
     },
     "execution_count": 4,
     "metadata": {},
     "output_type": "execute_result"
    }
   ],
   "source": [
    "data_auto = pd.read_csv('./autos.csv')\n",
    "data_auto.head()"
   ]
  },
  {
   "cell_type": "code",
   "execution_count": 5,
   "metadata": {},
   "outputs": [
    {
     "data": {
      "text/plain": [
       "4"
      ]
     },
     "execution_count": 5,
     "metadata": {},
     "output_type": "execute_result"
    }
   ],
   "source": [
    "#посмотрим дубли\n",
    "data_auto.duplicated().sum()"
   ]
  },
  {
   "cell_type": "code",
   "execution_count": 6,
   "metadata": {},
   "outputs": [
    {
     "data": {
      "text/plain": [
       "0"
      ]
     },
     "execution_count": 6,
     "metadata": {},
     "output_type": "execute_result"
    }
   ],
   "source": [
    "#удалим дубли\n",
    "data_auto = data_auto.drop_duplicates()\n",
    "data_auto.duplicated().sum()"
   ]
  },
  {
   "cell_type": "code",
   "execution_count": 7,
   "metadata": {},
   "outputs": [
    {
     "data": {
      "text/plain": [
       "DateCrawled          0.000000\n",
       "Price                0.000000\n",
       "VehicleType          0.105795\n",
       "RegistrationYear     0.000000\n",
       "Gearbox              0.055968\n",
       "Power                0.000000\n",
       "Model                0.055607\n",
       "Kilometer            0.000000\n",
       "RegistrationMonth    0.000000\n",
       "FuelType             0.092828\n",
       "Brand                0.000000\n",
       "NotRepaired          0.200793\n",
       "DateCreated          0.000000\n",
       "NumberOfPictures     0.000000\n",
       "PostalCode           0.000000\n",
       "LastSeen             0.000000\n",
       "dtype: float64"
      ]
     },
     "execution_count": 7,
     "metadata": {},
     "output_type": "execute_result"
    }
   ],
   "source": [
    "#пропуски\n",
    "data_auto.isna().mean()"
   ]
  },
  {
   "cell_type": "markdown",
   "metadata": {},
   "source": [
    "Есть пропуски в столбцах VehicleType, Gearbox , Model, FuelType, NotRepaired. Теперь посмотрим уникальные значения."
   ]
  },
  {
   "cell_type": "code",
   "execution_count": 8,
   "metadata": {},
   "outputs": [
    {
     "name": "stdout",
     "output_type": "stream",
     "text": [
      "------------------------------------------------\n",
      "Уникальны значения столбца DateCrawled и их количества\n",
      "------------------------------------------------\n",
      "['2016-03-24 11:52:17' '2016-03-24 10:58:45' '2016-03-14 12:52:21' ...\n",
      " '2016-03-21 09:50:58' '2016-03-14 17:48:27' '2016-03-19 18:57:12']\n",
      "\n",
      "2016-03-24 14:49:47    7\n",
      "2016-03-19 21:49:56    6\n",
      "2016-03-26 22:57:31    6\n",
      "2016-03-20 16:50:22    5\n",
      "2016-03-16 13:47:44    5\n",
      "                      ..\n",
      "2016-03-06 15:48:47    1\n",
      "2016-03-27 20:49:00    1\n",
      "2016-03-08 14:38:16    1\n",
      "2016-03-25 15:46:35    1\n",
      "2016-03-09 19:42:50    1\n",
      "Name: DateCrawled, Length: 271174, dtype: int64\n",
      "------------------------------------------------\n",
      "Уникальны значения столбца Price и их количества\n",
      "------------------------------------------------\n",
      "[  480 18300  9800 ... 12395 18429 10985]\n",
      "\n",
      "0        10772\n",
      "500       5670\n",
      "1500      5394\n",
      "1000      4648\n",
      "1200      4594\n",
      "         ...  \n",
      "13440        1\n",
      "1414         1\n",
      "8069         1\n",
      "10370        1\n",
      "384          1\n",
      "Name: Price, Length: 3731, dtype: int64\n",
      "------------------------------------------------\n",
      "Уникальны значения столбца VehicleType и их количества\n",
      "------------------------------------------------\n",
      "[nan 'coupe' 'suv' 'small' 'sedan' 'convertible' 'bus' 'wagon' 'other']\n",
      "\n",
      "sedan          91457\n",
      "small          79830\n",
      "wagon          65165\n",
      "bus            28775\n",
      "convertible    20203\n",
      "coupe          16161\n",
      "suv            11996\n",
      "other           3288\n",
      "Name: VehicleType, dtype: int64\n",
      "------------------------------------------------\n",
      "Уникальны значения столбца RegistrationYear и их количества\n",
      "------------------------------------------------\n",
      "[1993 2011 2004 2001 2008 1995 1980 2014 1998 2005 1910 2016 2007 2009\n",
      " 2002 2018 1997 1990 2017 1981 2003 1994 1991 1984 2006 1999 2012 2010\n",
      " 2000 1992 2013 1996 1985 1989 2015 1982 1976 1983 1973 1111 1969 1971\n",
      " 1987 1986 1988 1970 1965 1945 1925 1974 1979 1955 1978 1972 1968 1977\n",
      " 1961 1960 1966 1975 1963 1964 5000 1954 1958 1967 1959 9999 1956 3200\n",
      " 1000 1941 8888 1500 2200 4100 1962 1929 1957 1940 3000 2066 1949 2019\n",
      " 1937 1951 1800 1953 1234 8000 5300 9000 2900 6000 5900 5911 1933 1400\n",
      " 1950 4000 1948 1952 1200 8500 1932 1255 3700 3800 4800 1942 7000 1935\n",
      " 1936 6500 1923 2290 2500 1930 1001 9450 1944 1943 1934 1938 1688 2800\n",
      " 1253 1928 1919 5555 5600 1600 2222 1039 9996 1300 8455 1931 1915 4500\n",
      " 1920 1602 7800 9229 1947 1927 7100 8200 1946 7500 3500]\n",
      "\n",
      "2000    24490\n",
      "1999    22727\n",
      "2005    22109\n",
      "2001    20123\n",
      "2006    19900\n",
      "        ...  \n",
      "3200        1\n",
      "1920        1\n",
      "1919        1\n",
      "1915        1\n",
      "8455        1\n",
      "Name: RegistrationYear, Length: 151, dtype: int64\n",
      "------------------------------------------------\n",
      "Уникальны значения столбца Gearbox и их количества\n",
      "------------------------------------------------\n",
      "['manual' 'auto' nan]\n",
      "\n",
      "manual    268249\n",
      "auto       66283\n",
      "Name: Gearbox, dtype: int64\n",
      "------------------------------------------------\n",
      "Уникальны значения столбца Power и их количества\n",
      "------------------------------------------------\n",
      "[    0   190   163    75    69   102   109    50   125   101   105   140\n",
      "   115   131    60   136   160   231    90   118   193    99   113   218\n",
      "   122   129    70   306    95    61   177    80   170    55   143    64\n",
      "   286   232   150   156    82   155    54   185    87   180    86    84\n",
      "   224   235   200   178   265    77   110   144   120   116   184   126\n",
      "   204    88   194   305   197   179   250    45   313    41   165    98\n",
      "   130   114   211    56   201   213    58   107    83   174   100   220\n",
      "    85    73   192    68    66   299    74    52   147    65   310    71\n",
      "    97   239   203     5   300   103   258   320    63    81   148    44\n",
      "   145   230   280   260   104   188   333   186   117   141    59   132\n",
      "   234   158    39    92    51   135    53   209    43   146    67   106\n",
      "   166   276   344    72   249   237   245   111   326   279    23   138\n",
      "   175    96   226    26    37   301   334   128   133   124    33   219\n",
      "   241   167    94   182   196   238  1398   228   112    48   272   139\n",
      "  1799    40   240    79   256   360   243   375   252   396   340   108\n",
      "   121   345   187   289   222   198   284   450   233   387   152   347\n",
      "   172    57   137   212   476   314    30     7    47   173   290   207\n",
      "   205   171   750    78    91    89   349   325    76   151   350   953\n",
      "    93   142   500   343   199   119   164    16   264   367   208   210\n",
      "    46   435  1001   225   127   176   161   603   307   354    35   206\n",
      "   771   355   273   223   255   123   154   149  7515  1400   268   620\n",
      "   169   400   275    34     2   242  1779   285   162   328  1753   329\n",
      "   134   420   247   168 10317   215    18   330   283    62    10   214\n",
      "   183   254    15   321   322   315   952   600   181   426   599   379\n",
      "   999    22   157    42   195   553     4   309   507   381   271   440\n",
      "   189   401  1111  2729    21   236  1240  1704   521     1  1900   270\n",
      "    24   159   292   808   515  1200   303    29    38  1993    14   216\n",
      "   610   504    49   267   331   363   261   385  1011   253   696 10520\n",
      "   376   227   311    27   217    20  1999    11  1056    25   394    12\n",
      "   298   296  1659   294   551  6920   246    17  1800  1625   368   390\n",
      "   221  1367   259   606   327  2017  1597   266   374   392     9   405\n",
      "    13   262   601   430   295     8   411   900   541  7512   382 10218\n",
      "  7544  1102   287    19   751   297  1090   457   282   602   388     6\n",
      "  1000  5411   335  1360   202  3750   805  1062  1024 11530   364  1796\n",
      "  5000   269   460  1002   288  1780 12012 17932   316  2005  1399   191\n",
      "   278  1300   380   257   449  1256   153  1653   520   560   281 12510\n",
      "     3  1500   386    32  1202  2016  1436  1405   671   274  1288  1055\n",
      " 10912 15016  6226  1115   277  1105   341  1223  2340  8404  1968   338\n",
      "   445  1920   370   517  4400 10710 10522  9010   431  1164 11509   371\n",
      "  1501   428 11635    36   304   348  1703  1910  1995   579 10000   580\n",
      "   408    31  1005   358  1403   489  5575 19211   585   960   365   353\n",
      "   490   352  1801   346   550  3199   800  7508  1312   357  1937   950\n",
      "  4700  1600  3454 19208   251   850   337   700  8011  2331  2789   487\n",
      "   519  2461  6006  3500  5815  6018  1781  1503   612  1596   229  1506\n",
      "  5809 15020  5867  2172  1598 17410  1363   584  1054   851  1339   318\n",
      "   510   525  1700    28  1151   685  6011   317   703  1771 15001   514\n",
      "   362   332   324  6045   530   425   308  6010   475   903   640  2000\n",
      "   248   651  2799 17011   505  1103  1521   351 16051   398  9000  1998\n",
      " 10311   409  1230 17019 12684  8259  1895   901  1317   871   909  2201\n",
      "  1595   776 17700 11011  1199   459  1162  1120 15033  1896   339   361\n",
      "   574  6512   454   650 13616   604   607 16312  1082   336 20000   416\n",
      "   678  6012  1401  1021  1870 13636  1250  9710   323  1158  2009   902\n",
      "  6062  1275   572   244   399  1016   743  1221  2402 16011  1362   544\n",
      "   645   907   702 12512  1986  1003  1432  9013  9011   442  1017  1394\n",
      " 15017 10910  1992   540  2018 11025  1433  1701  2792  1502  1239  1390\n",
      " 14009  1160  1351 11111  1783  9007   923  1149   754  1988   402  2004\n",
      "  5420  1793  1324   356  7511  1299   293 19312  1079  1689   998  1100\n",
      "  9012  1933   508 16311   682  1252  1922  7529   732  2389  2200  1707\n",
      "  1416  8500  1012   485  3000 10110   421  4507  1631  7518   377  1004\n",
      "  2007  2598  1548  1241]\n",
      "\n",
      "0        40225\n",
      "75       24023\n",
      "60       15897\n",
      "150      14590\n",
      "101      13298\n",
      "         ...  \n",
      "16311        1\n",
      "1360         1\n",
      "1968         1\n",
      "6226         1\n",
      "6006         1\n",
      "Name: Power, Length: 712, dtype: int64\n",
      "------------------------------------------------\n",
      "Уникальны значения столбца Model и их количества\n",
      "------------------------------------------------\n",
      "['golf' nan 'grand' 'fabia' '3er' '2_reihe' 'other' 'c_max' '3_reihe'\n",
      " 'passat' 'navara' 'ka' 'polo' 'twingo' 'a_klasse' 'scirocco' '5er'\n",
      " 'meriva' 'arosa' 'c4' 'civic' 'transporter' 'punto' 'e_klasse' 'clio'\n",
      " 'kadett' 'kangoo' 'corsa' 'one' 'fortwo' '1er' 'b_klasse' 'signum'\n",
      " 'astra' 'a8' 'jetta' 'fiesta' 'c_klasse' 'micra' 'vito' 'sprinter' '156'\n",
      " 'escort' 'forester' 'xc_reihe' 'scenic' 'a4' 'a1' 'insignia' 'combo'\n",
      " 'focus' 'tt' 'a6' 'jazz' 'omega' 'slk' '7er' '80' '147' '100' 'z_reihe'\n",
      " 'sportage' 'sorento' 'v40' 'ibiza' 'mustang' 'eos' 'touran' 'getz' 'a3'\n",
      " 'almera' 'megane' 'lupo' 'r19' 'zafira' 'caddy' 'mondeo' 'cordoba' 'colt'\n",
      " 'impreza' 'vectra' 'berlingo' 'tiguan' 'i_reihe' 'espace' 'sharan'\n",
      " '6_reihe' 'panda' 'up' 'seicento' 'ceed' '5_reihe' 'yeti' 'octavia' 'mii'\n",
      " 'rx_reihe' '6er' 'modus' 'fox' 'matiz' 'beetle' 'c1' 'rio' 'touareg'\n",
      " 'logan' 'spider' 'cuore' 's_max' 'a2' 'galaxy' 'c3' 'viano' 's_klasse'\n",
      " '1_reihe' 'avensis' 'roomster' 'sl' 'kaefer' 'santa' 'cooper' 'leon'\n",
      " '4_reihe' 'a5' '500' 'laguna' 'ptcruiser' 'clk' 'primera' 'x_reihe'\n",
      " 'exeo' '159' 'transit' 'juke' 'qashqai' 'carisma' 'accord' 'corolla'\n",
      " 'lanos' 'phaeton' 'verso' 'swift' 'rav' 'picanto' 'boxster' 'kalos'\n",
      " 'superb' 'stilo' 'alhambra' 'mx_reihe' 'roadster' 'ypsilon' 'cayenne'\n",
      " 'galant' 'justy' '90' 'sirion' 'crossfire' 'agila' 'duster' 'cr_reihe'\n",
      " 'v50' 'c_reihe' 'v_klasse' 'm_klasse' 'yaris' 'c5' 'aygo' 'cc' 'carnival'\n",
      " 'fusion' '911' 'bora' 'forfour' 'm_reihe' 'cl' 'tigra' '300c' 'spark'\n",
      " 'v70' 'kuga' 'x_type' 'ducato' 's_type' 'x_trail' 'toledo' 'altea'\n",
      " 'voyager' 'calibra' 'bravo' 'antara' 'tucson' 'citigo' 'jimny' 'wrangler'\n",
      " 'lybra' 'q7' 'lancer' 'captiva' 'c2' 'discovery' 'freelander' 'sandero'\n",
      " 'note' '900' 'cherokee' 'clubman' 'samara' 'defender' '601' 'cx_reihe'\n",
      " 'legacy' 'pajero' 'auris' 'niva' 's60' 'nubira' 'vivaro' 'g_klasse'\n",
      " 'lodgy' '850' 'range_rover' 'q3' 'serie_2' 'glk' 'charade' 'croma'\n",
      " 'outlander' 'doblo' 'musa' 'move' '9000' 'v60' '145' 'aveo' '200' 'b_max'\n",
      " 'range_rover_sport' 'terios' 'rangerover' 'q5' 'range_rover_evoque'\n",
      " 'materia' 'delta' 'gl' 'kalina' 'amarok' 'elefantino' 'i3' 'kappa'\n",
      " 'serie_3' 'serie_1']\n",
      "\n",
      "golf                  29232\n",
      "other                 24420\n",
      "3er                   19761\n",
      "polo                  13066\n",
      "corsa                 12570\n",
      "                      ...  \n",
      "serie_2                   8\n",
      "serie_3                   4\n",
      "rangerover                4\n",
      "range_rover_evoque        2\n",
      "serie_1                   2\n",
      "Name: Model, Length: 250, dtype: int64\n",
      "------------------------------------------------\n",
      "Уникальны значения столбца Kilometer и их количества\n",
      "------------------------------------------------\n",
      "[150000 125000  90000  40000  30000  70000   5000 100000  60000  20000\n",
      "  80000  50000  10000]\n",
      "\n",
      "150000    238207\n",
      "125000     36453\n",
      "100000     14882\n",
      "90000      11567\n",
      "80000      10047\n",
      "70000       8593\n",
      "60000       7444\n",
      "5000        6397\n",
      "50000       6232\n",
      "40000       4911\n",
      "30000       4436\n",
      "20000       3974\n",
      "10000       1222\n",
      "Name: Kilometer, dtype: int64\n",
      "------------------------------------------------\n",
      "Уникальны значения столбца RegistrationMonth и их количества\n",
      "------------------------------------------------\n",
      "[ 0  5  8  6  7 10 12 11  2  3  1  4  9]\n",
      "\n",
      "0     37352\n",
      "3     34373\n",
      "6     31507\n",
      "4     29270\n",
      "5     29153\n",
      "7     27211\n",
      "10    26099\n",
      "12    24289\n",
      "11    24186\n",
      "9     23813\n",
      "1     23218\n",
      "8     22627\n",
      "2     21267\n",
      "Name: RegistrationMonth, dtype: int64\n",
      "------------------------------------------------\n",
      "Уникальны значения столбца FuelType и их количества\n",
      "------------------------------------------------\n",
      "['petrol' 'gasoline' nan 'lpg' 'other' 'hybrid' 'cng' 'electric']\n",
      "\n"
     ]
    },
    {
     "name": "stdout",
     "output_type": "stream",
     "text": [
      "petrol      216349\n",
      "gasoline     98719\n",
      "lpg           5310\n",
      "cng            565\n",
      "hybrid         233\n",
      "other          204\n",
      "electric        90\n",
      "Name: FuelType, dtype: int64\n",
      "------------------------------------------------\n",
      "Уникальны значения столбца Brand и их количества\n",
      "------------------------------------------------\n",
      "['volkswagen' 'audi' 'jeep' 'skoda' 'bmw' 'peugeot' 'ford' 'mazda'\n",
      " 'nissan' 'renault' 'mercedes_benz' 'opel' 'seat' 'citroen' 'honda' 'fiat'\n",
      " 'mini' 'smart' 'hyundai' 'sonstige_autos' 'alfa_romeo' 'subaru' 'volvo'\n",
      " 'mitsubishi' 'kia' 'suzuki' 'lancia' 'toyota' 'chevrolet' 'dacia'\n",
      " 'daihatsu' 'trabant' 'saab' 'chrysler' 'jaguar' 'daewoo' 'porsche'\n",
      " 'rover' 'land_rover' 'lada']\n",
      "\n",
      "volkswagen        77012\n",
      "opel              39931\n",
      "bmw               36914\n",
      "mercedes_benz     32044\n",
      "audi              29456\n",
      "ford              25179\n",
      "renault           17927\n",
      "peugeot           10998\n",
      "fiat               9643\n",
      "seat               6907\n",
      "mazda              5615\n",
      "skoda              5500\n",
      "smart              5246\n",
      "citroen            5148\n",
      "nissan             4941\n",
      "toyota             4606\n",
      "hyundai            3587\n",
      "sonstige_autos     3374\n",
      "volvo              3210\n",
      "mini               3202\n",
      "mitsubishi         3022\n",
      "honda              2817\n",
      "kia                2465\n",
      "suzuki             2322\n",
      "alfa_romeo         2314\n",
      "chevrolet          1754\n",
      "chrysler           1439\n",
      "dacia               900\n",
      "daihatsu            806\n",
      "subaru              762\n",
      "porsche             758\n",
      "jeep                677\n",
      "trabant             589\n",
      "land_rover          545\n",
      "daewoo              542\n",
      "saab                526\n",
      "jaguar              505\n",
      "rover               486\n",
      "lancia              471\n",
      "lada                225\n",
      "Name: Brand, dtype: int64\n",
      "------------------------------------------------\n",
      "Уникальны значения столбца NotRepaired и их количества\n",
      "------------------------------------------------\n",
      "[nan 'yes' 'no']\n",
      "\n",
      "no     247158\n",
      "yes     36053\n",
      "Name: NotRepaired, dtype: int64\n",
      "------------------------------------------------\n",
      "Уникальны значения столбца DateCreated и их количества\n",
      "------------------------------------------------\n",
      "['2016-03-24 00:00:00' '2016-03-14 00:00:00' '2016-03-17 00:00:00'\n",
      " '2016-03-31 00:00:00' '2016-04-04 00:00:00' '2016-04-01 00:00:00'\n",
      " '2016-03-21 00:00:00' '2016-03-26 00:00:00' '2016-04-07 00:00:00'\n",
      " '2016-03-15 00:00:00' '2016-03-11 00:00:00' '2016-03-20 00:00:00'\n",
      " '2016-03-23 00:00:00' '2016-03-27 00:00:00' '2016-03-12 00:00:00'\n",
      " '2016-03-13 00:00:00' '2016-03-18 00:00:00' '2016-03-10 00:00:00'\n",
      " '2016-03-07 00:00:00' '2016-03-09 00:00:00' '2016-03-08 00:00:00'\n",
      " '2016-04-03 00:00:00' '2016-03-29 00:00:00' '2016-03-25 00:00:00'\n",
      " '2016-03-28 00:00:00' '2016-03-30 00:00:00' '2016-03-22 00:00:00'\n",
      " '2016-02-09 00:00:00' '2016-03-05 00:00:00' '2016-04-02 00:00:00'\n",
      " '2016-03-16 00:00:00' '2016-03-19 00:00:00' '2016-04-05 00:00:00'\n",
      " '2016-03-06 00:00:00' '2016-02-12 00:00:00' '2016-03-03 00:00:00'\n",
      " '2016-03-01 00:00:00' '2016-03-04 00:00:00' '2016-04-06 00:00:00'\n",
      " '2016-02-15 00:00:00' '2016-02-24 00:00:00' '2016-02-27 00:00:00'\n",
      " '2015-03-20 00:00:00' '2016-02-28 00:00:00' '2016-02-17 00:00:00'\n",
      " '2016-01-27 00:00:00' '2016-02-20 00:00:00' '2016-02-29 00:00:00'\n",
      " '2016-02-10 00:00:00' '2016-02-23 00:00:00' '2016-02-21 00:00:00'\n",
      " '2015-11-02 00:00:00' '2016-02-19 00:00:00' '2016-02-26 00:00:00'\n",
      " '2016-02-11 00:00:00' '2016-01-10 00:00:00' '2016-02-06 00:00:00'\n",
      " '2016-02-18 00:00:00' '2016-01-29 00:00:00' '2016-03-02 00:00:00'\n",
      " '2015-12-06 00:00:00' '2016-01-24 00:00:00' '2016-01-30 00:00:00'\n",
      " '2016-02-02 00:00:00' '2016-02-16 00:00:00' '2016-02-13 00:00:00'\n",
      " '2016-02-05 00:00:00' '2016-02-22 00:00:00' '2015-11-17 00:00:00'\n",
      " '2014-03-10 00:00:00' '2016-02-07 00:00:00' '2016-01-23 00:00:00'\n",
      " '2016-02-25 00:00:00' '2016-02-14 00:00:00' '2016-01-02 00:00:00'\n",
      " '2015-09-04 00:00:00' '2015-11-12 00:00:00' '2015-12-27 00:00:00'\n",
      " '2015-11-24 00:00:00' '2016-01-20 00:00:00' '2016-02-03 00:00:00'\n",
      " '2015-12-05 00:00:00' '2015-08-07 00:00:00' '2016-01-28 00:00:00'\n",
      " '2016-01-31 00:00:00' '2016-02-08 00:00:00' '2016-01-07 00:00:00'\n",
      " '2016-01-22 00:00:00' '2016-01-18 00:00:00' '2016-01-08 00:00:00'\n",
      " '2015-11-23 00:00:00' '2016-01-13 00:00:00' '2016-01-17 00:00:00'\n",
      " '2016-01-15 00:00:00' '2015-11-08 00:00:00' '2016-01-26 00:00:00'\n",
      " '2016-02-04 00:00:00' '2016-01-25 00:00:00' '2016-01-16 00:00:00'\n",
      " '2015-08-10 00:00:00' '2016-01-03 00:00:00' '2016-01-19 00:00:00'\n",
      " '2015-12-30 00:00:00' '2016-02-01 00:00:00' '2015-12-17 00:00:00'\n",
      " '2015-11-10 00:00:00' '2016-01-06 00:00:00' '2015-09-09 00:00:00'\n",
      " '2015-06-18 00:00:00']\n",
      "\n",
      "2016-04-03 00:00:00    13718\n",
      "2016-04-04 00:00:00    13317\n",
      "2016-03-20 00:00:00    12918\n",
      "2016-03-12 00:00:00    12840\n",
      "2016-03-21 00:00:00    12691\n",
      "                       ...  \n",
      "2015-11-17 00:00:00        1\n",
      "2016-01-15 00:00:00        1\n",
      "2015-08-10 00:00:00        1\n",
      "2015-11-10 00:00:00        1\n",
      "2015-11-02 00:00:00        1\n",
      "Name: DateCreated, Length: 109, dtype: int64\n",
      "------------------------------------------------\n",
      "Уникальны значения столбца NumberOfPictures и их количества\n",
      "------------------------------------------------\n",
      "[0]\n",
      "\n",
      "0    354365\n",
      "Name: NumberOfPictures, dtype: int64\n",
      "------------------------------------------------\n",
      "Уникальны значения столбца PostalCode и их количества\n",
      "------------------------------------------------\n",
      "[70435 66954 90480 ... 38528 38325 31096]\n",
      "\n",
      "10115    819\n",
      "65428    613\n",
      "66333    343\n",
      "44145    317\n",
      "32257    317\n",
      "        ... \n",
      "6725       1\n",
      "6922       1\n",
      "85071      1\n",
      "97528      1\n",
      "63931      1\n",
      "Name: PostalCode, Length: 8143, dtype: int64\n",
      "------------------------------------------------\n",
      "Уникальны значения столбца LastSeen и их количества\n",
      "------------------------------------------------\n",
      "['2016-04-07 03:16:57' '2016-04-07 01:46:50' '2016-04-05 12:47:46' ...\n",
      " '2016-03-19 20:44:43' '2016-03-29 10:17:23' '2016-03-21 10:42:49']\n",
      "\n",
      "2016-04-06 13:45:54    17\n",
      "2016-04-06 10:15:26    16\n",
      "2016-04-06 08:46:30    16\n",
      "2016-04-06 01:15:23    16\n",
      "2016-04-07 09:45:10    16\n",
      "                       ..\n",
      "2016-03-23 12:45:14     1\n",
      "2016-04-02 14:16:48     1\n",
      "2016-04-03 19:47:22     1\n",
      "2016-03-24 13:17:34     1\n",
      "2016-04-01 08:16:30     1\n",
      "Name: LastSeen, Length: 179150, dtype: int64\n"
     ]
    }
   ],
   "source": [
    "for column in data_auto.columns:\n",
    "    print('------------------------------------------------')\n",
    "    print('Уникальны значения столбца {} и их количества'. format(column))\n",
    "    print('------------------------------------------------')\n",
    "    print(data_auto[column].unique())\n",
    "    print()\n",
    "    print(data_auto[column].value_counts())"
   ]
  },
  {
   "cell_type": "markdown",
   "metadata": {},
   "source": [
    "Вывод:\n",
    "    \n",
    "    В столбце Price много авто (10772) за 0 евро. Наверно, автомобиль уже куплен. Удалим аномальные значения и посмотрим по квантилям какие у нас будут границы.\n",
    "    В RegistrationYear у некоторых авто указан год, который ещё не наступил. Например: 8455 или 3200 и т.д. Построим гистограмму и выберем границы, основываясь на квантилях.\n",
    "    В Power 40225 авто без лошадинных сил (0) и с самой большой 16311, 15000 и т.д. Построим гистограмму и выберем границы с основной выборкой.\n",
    "    В RegistrationMonth 37352 авто, у которых регистрационный месяц равен 0. Этот столбец для обучения моделей не пригодится, так как эти данные не особо важны. Оставим без изменения.\n",
    "    Все анкеты машин без фото. Столбец NumberOfPictures не важен."
   ]
  },
  {
   "cell_type": "markdown",
   "metadata": {},
   "source": [
    "Выберем столбцы(признаки), которые влияют на цену автомобиля:\n",
    " \n",
    "    -VehicleType — тип автомобильного кузова\n",
    "    -RegistrationYear — год регистрации автомобиля\n",
    "    -Gearbox — тип коробки передач\n",
    "    -Power — мощность (л. с.)\n",
    "    -Model — модель автомобиля\n",
    "    -Kilometer — пробег (км)\n",
    "    -FuelType — тип топлива\n",
    "    -Brand — марка автомобиля\n",
    "    -NotRepaired — была машина в ремонте или нет"
   ]
  },
  {
   "cell_type": "markdown",
   "metadata": {},
   "source": [
    "Создадим датафрейм с нужными стобцами"
   ]
  },
  {
   "cell_type": "code",
   "execution_count": 9,
   "metadata": {},
   "outputs": [],
   "source": [
    "auto = data_auto[['VehicleType', 'RegistrationYear', 'Gearbox',\n",
    "       'Power', 'Model', 'Kilometer', 'FuelType', 'Brand',\n",
    "       'NotRepaired', 'Price']]"
   ]
  },
  {
   "cell_type": "code",
   "execution_count": 10,
   "metadata": {},
   "outputs": [
    {
     "name": "stdout",
     "output_type": "stream",
     "text": [
      "<class 'pandas.core.frame.DataFrame'>\n",
      "Int64Index: 354365 entries, 0 to 354368\n",
      "Data columns (total 10 columns):\n",
      " #   Column            Non-Null Count   Dtype \n",
      "---  ------            --------------   ----- \n",
      " 0   VehicleType       316875 non-null  object\n",
      " 1   RegistrationYear  354365 non-null  int64 \n",
      " 2   Gearbox           334532 non-null  object\n",
      " 3   Power             354365 non-null  int64 \n",
      " 4   Model             334660 non-null  object\n",
      " 5   Kilometer         354365 non-null  int64 \n",
      " 6   FuelType          321470 non-null  object\n",
      " 7   Brand             354365 non-null  object\n",
      " 8   NotRepaired       283211 non-null  object\n",
      " 9   Price             354365 non-null  int64 \n",
      "dtypes: int64(4), object(6)\n",
      "memory usage: 29.7+ MB\n"
     ]
    }
   ],
   "source": [
    "auto.info()"
   ]
  },
  {
   "cell_type": "markdown",
   "metadata": {},
   "source": [
    "Заменим пропуски на самое популярное значение в каждом столбце:"
   ]
  },
  {
   "cell_type": "code",
   "execution_count": 11,
   "metadata": {},
   "outputs": [
    {
     "data": {
      "text/plain": [
       "VehicleType         0.105795\n",
       "RegistrationYear    0.000000\n",
       "Gearbox             0.000000\n",
       "Power               0.000000\n",
       "Model               0.000000\n",
       "Kilometer           0.000000\n",
       "FuelType            0.000000\n",
       "Brand               0.000000\n",
       "NotRepaired         0.000000\n",
       "Price               0.000000\n",
       "dtype: float64"
      ]
     },
     "execution_count": 11,
     "metadata": {},
     "output_type": "execute_result"
    }
   ],
   "source": [
    "auto.fillna({'Gearbox':'manual',\n",
    "            'Model':'unknown',\n",
    "            'FuelType':'petrol',\n",
    "            'NotRepaired':'no'}, inplace=True)\n",
    "auto.isna().mean()"
   ]
  },
  {
   "cell_type": "code",
   "execution_count": 12,
   "metadata": {},
   "outputs": [
    {
     "data": {
      "text/html": [
       "<div>\n",
       "<style scoped>\n",
       "    .dataframe tbody tr th:only-of-type {\n",
       "        vertical-align: middle;\n",
       "    }\n",
       "\n",
       "    .dataframe tbody tr th {\n",
       "        vertical-align: top;\n",
       "    }\n",
       "\n",
       "    .dataframe thead tr th {\n",
       "        text-align: left;\n",
       "    }\n",
       "\n",
       "    .dataframe thead tr:last-of-type th {\n",
       "        text-align: right;\n",
       "    }\n",
       "</style>\n",
       "<table border=\"1\" class=\"dataframe\">\n",
       "  <thead>\n",
       "    <tr>\n",
       "      <th></th>\n",
       "      <th colspan=\"21\" halign=\"left\">count</th>\n",
       "    </tr>\n",
       "    <tr>\n",
       "      <th></th>\n",
       "      <th colspan=\"21\" halign=\"left\">Price</th>\n",
       "    </tr>\n",
       "    <tr>\n",
       "      <th>Brand</th>\n",
       "      <th>alfa_romeo</th>\n",
       "      <th>audi</th>\n",
       "      <th>bmw</th>\n",
       "      <th>chevrolet</th>\n",
       "      <th>chrysler</th>\n",
       "      <th>citroen</th>\n",
       "      <th>dacia</th>\n",
       "      <th>daewoo</th>\n",
       "      <th>daihatsu</th>\n",
       "      <th>fiat</th>\n",
       "      <th>...</th>\n",
       "      <th>seat</th>\n",
       "      <th>skoda</th>\n",
       "      <th>smart</th>\n",
       "      <th>sonstige_autos</th>\n",
       "      <th>subaru</th>\n",
       "      <th>suzuki</th>\n",
       "      <th>toyota</th>\n",
       "      <th>trabant</th>\n",
       "      <th>volkswagen</th>\n",
       "      <th>volvo</th>\n",
       "    </tr>\n",
       "    <tr>\n",
       "      <th>VehicleType</th>\n",
       "      <th></th>\n",
       "      <th></th>\n",
       "      <th></th>\n",
       "      <th></th>\n",
       "      <th></th>\n",
       "      <th></th>\n",
       "      <th></th>\n",
       "      <th></th>\n",
       "      <th></th>\n",
       "      <th></th>\n",
       "      <th></th>\n",
       "      <th></th>\n",
       "      <th></th>\n",
       "      <th></th>\n",
       "      <th></th>\n",
       "      <th></th>\n",
       "      <th></th>\n",
       "      <th></th>\n",
       "      <th></th>\n",
       "      <th></th>\n",
       "      <th></th>\n",
       "    </tr>\n",
       "  </thead>\n",
       "  <tbody>\n",
       "    <tr>\n",
       "      <th>bus</th>\n",
       "      <td>NaN</td>\n",
       "      <td>10.0</td>\n",
       "      <td>7.0</td>\n",
       "      <td>159.0</td>\n",
       "      <td>436.0</td>\n",
       "      <td>1262.0</td>\n",
       "      <td>50.0</td>\n",
       "      <td>27.0</td>\n",
       "      <td>36.0</td>\n",
       "      <td>833.0</td>\n",
       "      <td>...</td>\n",
       "      <td>614.0</td>\n",
       "      <td>231.0</td>\n",
       "      <td>1.0</td>\n",
       "      <td>202.0</td>\n",
       "      <td>17.0</td>\n",
       "      <td>28.0</td>\n",
       "      <td>447.0</td>\n",
       "      <td>NaN</td>\n",
       "      <td>9536.0</td>\n",
       "      <td>NaN</td>\n",
       "    </tr>\n",
       "    <tr>\n",
       "      <th>convertible</th>\n",
       "      <td>180.0</td>\n",
       "      <td>1627.0</td>\n",
       "      <td>3266.0</td>\n",
       "      <td>17.0</td>\n",
       "      <td>238.0</td>\n",
       "      <td>114.0</td>\n",
       "      <td>NaN</td>\n",
       "      <td>1.0</td>\n",
       "      <td>17.0</td>\n",
       "      <td>520.0</td>\n",
       "      <td>...</td>\n",
       "      <td>NaN</td>\n",
       "      <td>4.0</td>\n",
       "      <td>1132.0</td>\n",
       "      <td>330.0</td>\n",
       "      <td>1.0</td>\n",
       "      <td>36.0</td>\n",
       "      <td>65.0</td>\n",
       "      <td>37.0</td>\n",
       "      <td>2963.0</td>\n",
       "      <td>75.0</td>\n",
       "    </tr>\n",
       "    <tr>\n",
       "      <th>coupe</th>\n",
       "      <td>229.0</td>\n",
       "      <td>1499.0</td>\n",
       "      <td>3809.0</td>\n",
       "      <td>90.0</td>\n",
       "      <td>48.0</td>\n",
       "      <td>152.0</td>\n",
       "      <td>NaN</td>\n",
       "      <td>8.0</td>\n",
       "      <td>NaN</td>\n",
       "      <td>177.0</td>\n",
       "      <td>...</td>\n",
       "      <td>87.0</td>\n",
       "      <td>10.0</td>\n",
       "      <td>341.0</td>\n",
       "      <td>230.0</td>\n",
       "      <td>8.0</td>\n",
       "      <td>8.0</td>\n",
       "      <td>232.0</td>\n",
       "      <td>4.0</td>\n",
       "      <td>1784.0</td>\n",
       "      <td>69.0</td>\n",
       "    </tr>\n",
       "    <tr>\n",
       "      <th>other</th>\n",
       "      <td>15.0</td>\n",
       "      <td>110.0</td>\n",
       "      <td>242.0</td>\n",
       "      <td>46.0</td>\n",
       "      <td>10.0</td>\n",
       "      <td>121.0</td>\n",
       "      <td>6.0</td>\n",
       "      <td>5.0</td>\n",
       "      <td>12.0</td>\n",
       "      <td>184.0</td>\n",
       "      <td>...</td>\n",
       "      <td>74.0</td>\n",
       "      <td>26.0</td>\n",
       "      <td>9.0</td>\n",
       "      <td>256.0</td>\n",
       "      <td>6.0</td>\n",
       "      <td>14.0</td>\n",
       "      <td>21.0</td>\n",
       "      <td>7.0</td>\n",
       "      <td>760.0</td>\n",
       "      <td>5.0</td>\n",
       "    </tr>\n",
       "    <tr>\n",
       "      <th>sedan</th>\n",
       "      <td>945.0</td>\n",
       "      <td>10965.0</td>\n",
       "      <td>17585.0</td>\n",
       "      <td>231.0</td>\n",
       "      <td>295.0</td>\n",
       "      <td>714.0</td>\n",
       "      <td>103.0</td>\n",
       "      <td>107.0</td>\n",
       "      <td>47.0</td>\n",
       "      <td>904.0</td>\n",
       "      <td>...</td>\n",
       "      <td>1781.0</td>\n",
       "      <td>911.0</td>\n",
       "      <td>29.0</td>\n",
       "      <td>486.0</td>\n",
       "      <td>168.0</td>\n",
       "      <td>183.0</td>\n",
       "      <td>895.0</td>\n",
       "      <td>230.0</td>\n",
       "      <td>19738.0</td>\n",
       "      <td>643.0</td>\n",
       "    </tr>\n",
       "    <tr>\n",
       "      <th>small</th>\n",
       "      <td>239.0</td>\n",
       "      <td>1571.0</td>\n",
       "      <td>448.0</td>\n",
       "      <td>582.0</td>\n",
       "      <td>12.0</td>\n",
       "      <td>1590.0</td>\n",
       "      <td>223.0</td>\n",
       "      <td>268.0</td>\n",
       "      <td>527.0</td>\n",
       "      <td>5308.0</td>\n",
       "      <td>...</td>\n",
       "      <td>3119.0</td>\n",
       "      <td>1124.0</td>\n",
       "      <td>3267.0</td>\n",
       "      <td>261.0</td>\n",
       "      <td>119.0</td>\n",
       "      <td>984.0</td>\n",
       "      <td>1588.0</td>\n",
       "      <td>58.0</td>\n",
       "      <td>18531.0</td>\n",
       "      <td>7.0</td>\n",
       "    </tr>\n",
       "    <tr>\n",
       "      <th>suv</th>\n",
       "      <td>1.0</td>\n",
       "      <td>180.0</td>\n",
       "      <td>818.0</td>\n",
       "      <td>384.0</td>\n",
       "      <td>23.0</td>\n",
       "      <td>36.0</td>\n",
       "      <td>215.0</td>\n",
       "      <td>1.0</td>\n",
       "      <td>49.0</td>\n",
       "      <td>24.0</td>\n",
       "      <td>...</td>\n",
       "      <td>4.0</td>\n",
       "      <td>173.0</td>\n",
       "      <td>NaN</td>\n",
       "      <td>429.0</td>\n",
       "      <td>62.0</td>\n",
       "      <td>749.0</td>\n",
       "      <td>445.0</td>\n",
       "      <td>1.0</td>\n",
       "      <td>1331.0</td>\n",
       "      <td>221.0</td>\n",
       "    </tr>\n",
       "    <tr>\n",
       "      <th>wagon</th>\n",
       "      <td>457.0</td>\n",
       "      <td>11081.0</td>\n",
       "      <td>7929.0</td>\n",
       "      <td>110.0</td>\n",
       "      <td>244.0</td>\n",
       "      <td>629.0</td>\n",
       "      <td>252.0</td>\n",
       "      <td>47.0</td>\n",
       "      <td>17.0</td>\n",
       "      <td>455.0</td>\n",
       "      <td>...</td>\n",
       "      <td>399.0</td>\n",
       "      <td>2709.0</td>\n",
       "      <td>9.0</td>\n",
       "      <td>139.0</td>\n",
       "      <td>300.0</td>\n",
       "      <td>89.0</td>\n",
       "      <td>572.0</td>\n",
       "      <td>79.0</td>\n",
       "      <td>12659.0</td>\n",
       "      <td>1989.0</td>\n",
       "    </tr>\n",
       "  </tbody>\n",
       "</table>\n",
       "<p>8 rows × 40 columns</p>\n",
       "</div>"
      ],
      "text/plain": [
       "                 count                                                      \\\n",
       "                 Price                                                       \n",
       "Brand       alfa_romeo     audi      bmw chevrolet chrysler citroen  dacia   \n",
       "VehicleType                                                                  \n",
       "bus                NaN     10.0      7.0     159.0    436.0  1262.0   50.0   \n",
       "convertible      180.0   1627.0   3266.0      17.0    238.0   114.0    NaN   \n",
       "coupe            229.0   1499.0   3809.0      90.0     48.0   152.0    NaN   \n",
       "other             15.0    110.0    242.0      46.0     10.0   121.0    6.0   \n",
       "sedan            945.0  10965.0  17585.0     231.0    295.0   714.0  103.0   \n",
       "small            239.0   1571.0    448.0     582.0     12.0  1590.0  223.0   \n",
       "suv                1.0    180.0    818.0     384.0     23.0    36.0  215.0   \n",
       "wagon            457.0  11081.0   7929.0     110.0    244.0   629.0  252.0   \n",
       "\n",
       "                                     ...                          \\\n",
       "                                     ...                           \n",
       "Brand       daewoo daihatsu    fiat  ...    seat   skoda   smart   \n",
       "VehicleType                          ...                           \n",
       "bus           27.0     36.0   833.0  ...   614.0   231.0     1.0   \n",
       "convertible    1.0     17.0   520.0  ...     NaN     4.0  1132.0   \n",
       "coupe          8.0      NaN   177.0  ...    87.0    10.0   341.0   \n",
       "other          5.0     12.0   184.0  ...    74.0    26.0     9.0   \n",
       "sedan        107.0     47.0   904.0  ...  1781.0   911.0    29.0   \n",
       "small        268.0    527.0  5308.0  ...  3119.0  1124.0  3267.0   \n",
       "suv            1.0     49.0    24.0  ...     4.0   173.0     NaN   \n",
       "wagon         47.0     17.0   455.0  ...   399.0  2709.0     9.0   \n",
       "\n",
       "                                                                             \n",
       "                                                                             \n",
       "Brand       sonstige_autos subaru suzuki  toyota trabant volkswagen   volvo  \n",
       "VehicleType                                                                  \n",
       "bus                  202.0   17.0   28.0   447.0     NaN     9536.0     NaN  \n",
       "convertible          330.0    1.0   36.0    65.0    37.0     2963.0    75.0  \n",
       "coupe                230.0    8.0    8.0   232.0     4.0     1784.0    69.0  \n",
       "other                256.0    6.0   14.0    21.0     7.0      760.0     5.0  \n",
       "sedan                486.0  168.0  183.0   895.0   230.0    19738.0   643.0  \n",
       "small                261.0  119.0  984.0  1588.0    58.0    18531.0     7.0  \n",
       "suv                  429.0   62.0  749.0   445.0     1.0     1331.0   221.0  \n",
       "wagon                139.0  300.0   89.0   572.0    79.0    12659.0  1989.0  \n",
       "\n",
       "[8 rows x 40 columns]"
      ]
     },
     "execution_count": 12,
     "metadata": {},
     "output_type": "execute_result"
    }
   ],
   "source": [
    "#выполним замену NaN в соотвествии с популярным типом кузова для каждого бренда.\n",
    "vehicle_type_pivot_table = auto.pivot_table(index=['VehicleType'], \n",
    "                                                          columns=['Brand'],\n",
    "                                                          values=['Price'],\n",
    "                                                          aggfunc=['count'])\n",
    "\n",
    "auto[auto['Brand'] == 'alfa_romeo']['VehicleType'].value_counts()\n",
    "vehicle_type_pivot_table"
   ]
  },
  {
   "cell_type": "code",
   "execution_count": 13,
   "metadata": {},
   "outputs": [
    {
     "data": {
      "text/html": [
       "<div>\n",
       "<style scoped>\n",
       "    .dataframe tbody tr th:only-of-type {\n",
       "        vertical-align: middle;\n",
       "    }\n",
       "\n",
       "    .dataframe tbody tr th {\n",
       "        vertical-align: top;\n",
       "    }\n",
       "\n",
       "    .dataframe thead th {\n",
       "        text-align: right;\n",
       "    }\n",
       "</style>\n",
       "<table border=\"1\" class=\"dataframe\">\n",
       "  <thead>\n",
       "    <tr style=\"text-align: right;\">\n",
       "      <th>Brand</th>\n",
       "      <th>alfa_romeo</th>\n",
       "      <th>audi</th>\n",
       "      <th>bmw</th>\n",
       "      <th>chevrolet</th>\n",
       "      <th>chrysler</th>\n",
       "      <th>citroen</th>\n",
       "      <th>dacia</th>\n",
       "      <th>daewoo</th>\n",
       "      <th>daihatsu</th>\n",
       "      <th>fiat</th>\n",
       "      <th>...</th>\n",
       "      <th>seat</th>\n",
       "      <th>skoda</th>\n",
       "      <th>smart</th>\n",
       "      <th>sonstige_autos</th>\n",
       "      <th>subaru</th>\n",
       "      <th>suzuki</th>\n",
       "      <th>toyota</th>\n",
       "      <th>trabant</th>\n",
       "      <th>volkswagen</th>\n",
       "      <th>volvo</th>\n",
       "    </tr>\n",
       "    <tr>\n",
       "      <th>VehicleType</th>\n",
       "      <th></th>\n",
       "      <th></th>\n",
       "      <th></th>\n",
       "      <th></th>\n",
       "      <th></th>\n",
       "      <th></th>\n",
       "      <th></th>\n",
       "      <th></th>\n",
       "      <th></th>\n",
       "      <th></th>\n",
       "      <th></th>\n",
       "      <th></th>\n",
       "      <th></th>\n",
       "      <th></th>\n",
       "      <th></th>\n",
       "      <th></th>\n",
       "      <th></th>\n",
       "      <th></th>\n",
       "      <th></th>\n",
       "      <th></th>\n",
       "      <th></th>\n",
       "    </tr>\n",
       "  </thead>\n",
       "  <tbody>\n",
       "    <tr>\n",
       "      <th>bus</th>\n",
       "      <td>NaN</td>\n",
       "      <td>10.0</td>\n",
       "      <td>7.0</td>\n",
       "      <td>159.0</td>\n",
       "      <td>436.0</td>\n",
       "      <td>1262.0</td>\n",
       "      <td>50.0</td>\n",
       "      <td>27.0</td>\n",
       "      <td>36.0</td>\n",
       "      <td>833.0</td>\n",
       "      <td>...</td>\n",
       "      <td>614.0</td>\n",
       "      <td>231.0</td>\n",
       "      <td>1.0</td>\n",
       "      <td>202.0</td>\n",
       "      <td>17.0</td>\n",
       "      <td>28.0</td>\n",
       "      <td>447.0</td>\n",
       "      <td>NaN</td>\n",
       "      <td>9536.0</td>\n",
       "      <td>NaN</td>\n",
       "    </tr>\n",
       "    <tr>\n",
       "      <th>convertible</th>\n",
       "      <td>180.0</td>\n",
       "      <td>1627.0</td>\n",
       "      <td>3266.0</td>\n",
       "      <td>17.0</td>\n",
       "      <td>238.0</td>\n",
       "      <td>114.0</td>\n",
       "      <td>NaN</td>\n",
       "      <td>1.0</td>\n",
       "      <td>17.0</td>\n",
       "      <td>520.0</td>\n",
       "      <td>...</td>\n",
       "      <td>NaN</td>\n",
       "      <td>4.0</td>\n",
       "      <td>1132.0</td>\n",
       "      <td>330.0</td>\n",
       "      <td>1.0</td>\n",
       "      <td>36.0</td>\n",
       "      <td>65.0</td>\n",
       "      <td>37.0</td>\n",
       "      <td>2963.0</td>\n",
       "      <td>75.0</td>\n",
       "    </tr>\n",
       "    <tr>\n",
       "      <th>coupe</th>\n",
       "      <td>229.0</td>\n",
       "      <td>1499.0</td>\n",
       "      <td>3809.0</td>\n",
       "      <td>90.0</td>\n",
       "      <td>48.0</td>\n",
       "      <td>152.0</td>\n",
       "      <td>NaN</td>\n",
       "      <td>8.0</td>\n",
       "      <td>NaN</td>\n",
       "      <td>177.0</td>\n",
       "      <td>...</td>\n",
       "      <td>87.0</td>\n",
       "      <td>10.0</td>\n",
       "      <td>341.0</td>\n",
       "      <td>230.0</td>\n",
       "      <td>8.0</td>\n",
       "      <td>8.0</td>\n",
       "      <td>232.0</td>\n",
       "      <td>4.0</td>\n",
       "      <td>1784.0</td>\n",
       "      <td>69.0</td>\n",
       "    </tr>\n",
       "    <tr>\n",
       "      <th>other</th>\n",
       "      <td>15.0</td>\n",
       "      <td>110.0</td>\n",
       "      <td>242.0</td>\n",
       "      <td>46.0</td>\n",
       "      <td>10.0</td>\n",
       "      <td>121.0</td>\n",
       "      <td>6.0</td>\n",
       "      <td>5.0</td>\n",
       "      <td>12.0</td>\n",
       "      <td>184.0</td>\n",
       "      <td>...</td>\n",
       "      <td>74.0</td>\n",
       "      <td>26.0</td>\n",
       "      <td>9.0</td>\n",
       "      <td>256.0</td>\n",
       "      <td>6.0</td>\n",
       "      <td>14.0</td>\n",
       "      <td>21.0</td>\n",
       "      <td>7.0</td>\n",
       "      <td>760.0</td>\n",
       "      <td>5.0</td>\n",
       "    </tr>\n",
       "    <tr>\n",
       "      <th>sedan</th>\n",
       "      <td>945.0</td>\n",
       "      <td>10965.0</td>\n",
       "      <td>17585.0</td>\n",
       "      <td>231.0</td>\n",
       "      <td>295.0</td>\n",
       "      <td>714.0</td>\n",
       "      <td>103.0</td>\n",
       "      <td>107.0</td>\n",
       "      <td>47.0</td>\n",
       "      <td>904.0</td>\n",
       "      <td>...</td>\n",
       "      <td>1781.0</td>\n",
       "      <td>911.0</td>\n",
       "      <td>29.0</td>\n",
       "      <td>486.0</td>\n",
       "      <td>168.0</td>\n",
       "      <td>183.0</td>\n",
       "      <td>895.0</td>\n",
       "      <td>230.0</td>\n",
       "      <td>19738.0</td>\n",
       "      <td>643.0</td>\n",
       "    </tr>\n",
       "    <tr>\n",
       "      <th>small</th>\n",
       "      <td>239.0</td>\n",
       "      <td>1571.0</td>\n",
       "      <td>448.0</td>\n",
       "      <td>582.0</td>\n",
       "      <td>12.0</td>\n",
       "      <td>1590.0</td>\n",
       "      <td>223.0</td>\n",
       "      <td>268.0</td>\n",
       "      <td>527.0</td>\n",
       "      <td>5308.0</td>\n",
       "      <td>...</td>\n",
       "      <td>3119.0</td>\n",
       "      <td>1124.0</td>\n",
       "      <td>3267.0</td>\n",
       "      <td>261.0</td>\n",
       "      <td>119.0</td>\n",
       "      <td>984.0</td>\n",
       "      <td>1588.0</td>\n",
       "      <td>58.0</td>\n",
       "      <td>18531.0</td>\n",
       "      <td>7.0</td>\n",
       "    </tr>\n",
       "    <tr>\n",
       "      <th>suv</th>\n",
       "      <td>1.0</td>\n",
       "      <td>180.0</td>\n",
       "      <td>818.0</td>\n",
       "      <td>384.0</td>\n",
       "      <td>23.0</td>\n",
       "      <td>36.0</td>\n",
       "      <td>215.0</td>\n",
       "      <td>1.0</td>\n",
       "      <td>49.0</td>\n",
       "      <td>24.0</td>\n",
       "      <td>...</td>\n",
       "      <td>4.0</td>\n",
       "      <td>173.0</td>\n",
       "      <td>NaN</td>\n",
       "      <td>429.0</td>\n",
       "      <td>62.0</td>\n",
       "      <td>749.0</td>\n",
       "      <td>445.0</td>\n",
       "      <td>1.0</td>\n",
       "      <td>1331.0</td>\n",
       "      <td>221.0</td>\n",
       "    </tr>\n",
       "    <tr>\n",
       "      <th>wagon</th>\n",
       "      <td>457.0</td>\n",
       "      <td>11081.0</td>\n",
       "      <td>7929.0</td>\n",
       "      <td>110.0</td>\n",
       "      <td>244.0</td>\n",
       "      <td>629.0</td>\n",
       "      <td>252.0</td>\n",
       "      <td>47.0</td>\n",
       "      <td>17.0</td>\n",
       "      <td>455.0</td>\n",
       "      <td>...</td>\n",
       "      <td>399.0</td>\n",
       "      <td>2709.0</td>\n",
       "      <td>9.0</td>\n",
       "      <td>139.0</td>\n",
       "      <td>300.0</td>\n",
       "      <td>89.0</td>\n",
       "      <td>572.0</td>\n",
       "      <td>79.0</td>\n",
       "      <td>12659.0</td>\n",
       "      <td>1989.0</td>\n",
       "    </tr>\n",
       "  </tbody>\n",
       "</table>\n",
       "<p>8 rows × 40 columns</p>\n",
       "</div>"
      ],
      "text/plain": [
       "Brand        alfa_romeo     audi      bmw  chevrolet  chrysler  citroen  \\\n",
       "VehicleType                                                               \n",
       "bus                 NaN     10.0      7.0      159.0     436.0   1262.0   \n",
       "convertible       180.0   1627.0   3266.0       17.0     238.0    114.0   \n",
       "coupe             229.0   1499.0   3809.0       90.0      48.0    152.0   \n",
       "other              15.0    110.0    242.0       46.0      10.0    121.0   \n",
       "sedan             945.0  10965.0  17585.0      231.0     295.0    714.0   \n",
       "small             239.0   1571.0    448.0      582.0      12.0   1590.0   \n",
       "suv                 1.0    180.0    818.0      384.0      23.0     36.0   \n",
       "wagon             457.0  11081.0   7929.0      110.0     244.0    629.0   \n",
       "\n",
       "Brand        dacia  daewoo  daihatsu    fiat  ...    seat   skoda   smart  \\\n",
       "VehicleType                                   ...                           \n",
       "bus           50.0    27.0      36.0   833.0  ...   614.0   231.0     1.0   \n",
       "convertible    NaN     1.0      17.0   520.0  ...     NaN     4.0  1132.0   \n",
       "coupe          NaN     8.0       NaN   177.0  ...    87.0    10.0   341.0   \n",
       "other          6.0     5.0      12.0   184.0  ...    74.0    26.0     9.0   \n",
       "sedan        103.0   107.0      47.0   904.0  ...  1781.0   911.0    29.0   \n",
       "small        223.0   268.0     527.0  5308.0  ...  3119.0  1124.0  3267.0   \n",
       "suv          215.0     1.0      49.0    24.0  ...     4.0   173.0     NaN   \n",
       "wagon        252.0    47.0      17.0   455.0  ...   399.0  2709.0     9.0   \n",
       "\n",
       "Brand        sonstige_autos  subaru  suzuki  toyota  trabant  volkswagen  \\\n",
       "VehicleType                                                                \n",
       "bus                   202.0    17.0    28.0   447.0      NaN      9536.0   \n",
       "convertible           330.0     1.0    36.0    65.0     37.0      2963.0   \n",
       "coupe                 230.0     8.0     8.0   232.0      4.0      1784.0   \n",
       "other                 256.0     6.0    14.0    21.0      7.0       760.0   \n",
       "sedan                 486.0   168.0   183.0   895.0    230.0     19738.0   \n",
       "small                 261.0   119.0   984.0  1588.0     58.0     18531.0   \n",
       "suv                   429.0    62.0   749.0   445.0      1.0      1331.0   \n",
       "wagon                 139.0   300.0    89.0   572.0     79.0     12659.0   \n",
       "\n",
       "Brand         volvo  \n",
       "VehicleType          \n",
       "bus             NaN  \n",
       "convertible    75.0  \n",
       "coupe          69.0  \n",
       "other           5.0  \n",
       "sedan         643.0  \n",
       "small           7.0  \n",
       "suv           221.0  \n",
       "wagon        1989.0  \n",
       "\n",
       "[8 rows x 40 columns]"
      ]
     },
     "execution_count": 13,
     "metadata": {},
     "output_type": "execute_result"
    }
   ],
   "source": [
    "vehicle_type_pivot_table = vehicle_type_pivot_table['count']['Price']\n",
    "vehicle_type_pivot_table"
   ]
  },
  {
   "cell_type": "code",
   "execution_count": 14,
   "metadata": {},
   "outputs": [
    {
     "data": {
      "text/plain": [
       "sedan          109309\n",
       "small           95880\n",
       "wagon           68223\n",
       "bus             28908\n",
       "convertible     20283\n",
       "coupe           16161\n",
       "suv             12313\n",
       "other            3288\n",
       "Name: VehicleType, dtype: int64"
      ]
     },
     "execution_count": 14,
     "metadata": {},
     "output_type": "execute_result"
    }
   ],
   "source": [
    "auto.fillna({'VehicleType':0},inplace=True)\n",
    "\n",
    "#функция заменяет пропуски популярным типом кузова для каждого бренда\n",
    "def fill(row, row_number, vehicle_type_pivot_table):\n",
    "    brand = row[7]\n",
    "    fill_value = row[row_number]\n",
    "    if row[row_number] == 0:\n",
    "        fill_value = vehicle_type_pivot_table[brand].idxmax()\n",
    "    return fill_value\n",
    "\n",
    "auto['VehicleType'] = auto.apply(fill, args=[0, vehicle_type_pivot_table], axis=1)\n",
    "auto['VehicleType'].value_counts()"
   ]
  },
  {
   "cell_type": "code",
   "execution_count": 15,
   "metadata": {},
   "outputs": [
    {
     "data": {
      "text/html": [
       "<div>\n",
       "<style scoped>\n",
       "    .dataframe tbody tr th:only-of-type {\n",
       "        vertical-align: middle;\n",
       "    }\n",
       "\n",
       "    .dataframe tbody tr th {\n",
       "        vertical-align: top;\n",
       "    }\n",
       "\n",
       "    .dataframe thead th {\n",
       "        text-align: right;\n",
       "    }\n",
       "</style>\n",
       "<table border=\"1\" class=\"dataframe\">\n",
       "  <thead>\n",
       "    <tr style=\"text-align: right;\">\n",
       "      <th></th>\n",
       "      <th>RegistrationYear</th>\n",
       "      <th>Power</th>\n",
       "      <th>Kilometer</th>\n",
       "      <th>Price</th>\n",
       "    </tr>\n",
       "  </thead>\n",
       "  <tbody>\n",
       "    <tr>\n",
       "      <th>count</th>\n",
       "      <td>354365.000000</td>\n",
       "      <td>354365.000000</td>\n",
       "      <td>354365.000000</td>\n",
       "      <td>354365.000000</td>\n",
       "    </tr>\n",
       "    <tr>\n",
       "      <th>mean</th>\n",
       "      <td>2004.234481</td>\n",
       "      <td>110.093816</td>\n",
       "      <td>128211.363989</td>\n",
       "      <td>4416.679830</td>\n",
       "    </tr>\n",
       "    <tr>\n",
       "      <th>std</th>\n",
       "      <td>90.228466</td>\n",
       "      <td>189.851330</td>\n",
       "      <td>37905.083858</td>\n",
       "      <td>4514.176349</td>\n",
       "    </tr>\n",
       "    <tr>\n",
       "      <th>min</th>\n",
       "      <td>1000.000000</td>\n",
       "      <td>0.000000</td>\n",
       "      <td>5000.000000</td>\n",
       "      <td>0.000000</td>\n",
       "    </tr>\n",
       "    <tr>\n",
       "      <th>25%</th>\n",
       "      <td>1999.000000</td>\n",
       "      <td>69.000000</td>\n",
       "      <td>125000.000000</td>\n",
       "      <td>1050.000000</td>\n",
       "    </tr>\n",
       "    <tr>\n",
       "      <th>50%</th>\n",
       "      <td>2003.000000</td>\n",
       "      <td>105.000000</td>\n",
       "      <td>150000.000000</td>\n",
       "      <td>2700.000000</td>\n",
       "    </tr>\n",
       "    <tr>\n",
       "      <th>75%</th>\n",
       "      <td>2008.000000</td>\n",
       "      <td>143.000000</td>\n",
       "      <td>150000.000000</td>\n",
       "      <td>6400.000000</td>\n",
       "    </tr>\n",
       "    <tr>\n",
       "      <th>max</th>\n",
       "      <td>9999.000000</td>\n",
       "      <td>20000.000000</td>\n",
       "      <td>150000.000000</td>\n",
       "      <td>20000.000000</td>\n",
       "    </tr>\n",
       "  </tbody>\n",
       "</table>\n",
       "</div>"
      ],
      "text/plain": [
       "       RegistrationYear          Power      Kilometer          Price\n",
       "count     354365.000000  354365.000000  354365.000000  354365.000000\n",
       "mean        2004.234481     110.093816  128211.363989    4416.679830\n",
       "std           90.228466     189.851330   37905.083858    4514.176349\n",
       "min         1000.000000       0.000000    5000.000000       0.000000\n",
       "25%         1999.000000      69.000000  125000.000000    1050.000000\n",
       "50%         2003.000000     105.000000  150000.000000    2700.000000\n",
       "75%         2008.000000     143.000000  150000.000000    6400.000000\n",
       "max         9999.000000   20000.000000  150000.000000   20000.000000"
      ]
     },
     "execution_count": 15,
     "metadata": {},
     "output_type": "execute_result"
    }
   ],
   "source": [
    "auto.describe()"
   ]
  },
  {
   "cell_type": "markdown",
   "metadata": {},
   "source": [
    "Посмотрим цены на графике, чтобы выбрать основную выборку"
   ]
  },
  {
   "cell_type": "code",
   "execution_count": 16,
   "metadata": {},
   "outputs": [
    {
     "data": {
      "text/plain": [
       "count    343593.000000\n",
       "mean       4555.147363\n",
       "std        4515.076200\n",
       "min           1.000000\n",
       "25%        1200.000000\n",
       "50%        2890.000000\n",
       "75%        6500.000000\n",
       "max       20000.000000\n",
       "Name: Price, dtype: float64"
      ]
     },
     "execution_count": 16,
     "metadata": {},
     "output_type": "execute_result"
    },
    {
     "data": {
      "image/png": "[encoded data removed]",
      "text/plain": [
       "<Figure size 864x648 with 1 Axes>"
      ]
     },
     "metadata": {
      "needs_background": "light"
     },
     "output_type": "display_data"
    }
   ],
   "source": [
    "#10772 записи без цены. Удалим их и проверим распределение цены на гистограмме\n",
    "auto = auto.query('Price > 0')\n",
    "auto['Price'].hist(bins=100, figsize=(12,9))\n",
    "auto['Price'].describe()"
   ]
  },
  {
   "cell_type": "code",
   "execution_count": 17,
   "metadata": {},
   "outputs": [
    {
     "data": {
      "text/plain": [
       "0.05      350.0\n",
       "0.90    11500.0\n",
       "Name: Price, dtype: float64"
      ]
     },
     "execution_count": 17,
     "metadata": {},
     "output_type": "execute_result"
    }
   ],
   "source": [
    "#выделим квантили 5% и 90%.\n",
    "auto['Price'].quantile([.05, 0.9])"
   ]
  },
  {
   "cell_type": "markdown",
   "metadata": {},
   "source": [
    "Стоимость 350 евро примерно равно 30800 рублей. Выбор 90% квантиля обоснован большими выбросами после 11500 евро."
   ]
  },
  {
   "cell_type": "code",
   "execution_count": 18,
   "metadata": {},
   "outputs": [
    {
     "name": "stdout",
     "output_type": "stream",
     "text": [
      "<class 'pandas.core.frame.DataFrame'>\n",
      "Int64Index: 294005 entries, 0 to 354368\n",
      "Data columns (total 10 columns):\n",
      " #   Column            Non-Null Count   Dtype \n",
      "---  ------            --------------   ----- \n",
      " 0   VehicleType       294005 non-null  object\n",
      " 1   RegistrationYear  294005 non-null  int64 \n",
      " 2   Gearbox           294005 non-null  object\n",
      " 3   Power             294005 non-null  int64 \n",
      " 4   Model             294005 non-null  object\n",
      " 5   Kilometer         294005 non-null  int64 \n",
      " 6   FuelType          294005 non-null  object\n",
      " 7   Brand             294005 non-null  object\n",
      " 8   NotRepaired       294005 non-null  object\n",
      " 9   Price             294005 non-null  int64 \n",
      "dtypes: int64(4), object(6)\n",
      "memory usage: 24.7+ MB\n"
     ]
    }
   ],
   "source": [
    "auto = auto.query('350 <= Price <= 11500')\n",
    "auto.info()"
   ]
  },
  {
   "cell_type": "markdown",
   "metadata": {},
   "source": [
    "Посмотрим года регистрации"
   ]
  },
  {
   "cell_type": "code",
   "execution_count": 19,
   "metadata": {},
   "outputs": [
    {
     "data": {
      "text/plain": [
       "count    294005.000000\n",
       "mean       2003.470944\n",
       "std          67.062374\n",
       "min        1000.000000\n",
       "25%        1999.000000\n",
       "50%        2003.000000\n",
       "75%        2007.000000\n",
       "max        9999.000000\n",
       "Name: RegistrationYear, dtype: float64"
      ]
     },
     "execution_count": 19,
     "metadata": {},
     "output_type": "execute_result"
    }
   ],
   "source": [
    "auto['RegistrationYear'].describe()"
   ]
  },
  {
   "cell_type": "code",
   "execution_count": 20,
   "metadata": {},
   "outputs": [
    {
     "data": {
      "text/plain": [
       "<AxesSubplot:>"
      ]
     },
     "execution_count": 20,
     "metadata": {},
     "output_type": "execute_result"
    },
    {
     "data": {
      "image/png": "[encoded data removed]",
      "text/plain": [
       "<Figure size 864x360 with 1 Axes>"
      ]
     },
     "metadata": {
      "needs_background": "light"
     },
     "output_type": "display_data"
    }
   ],
   "source": [
    "auto = auto.query('1900 < RegistrationYear < 2100')\n",
    "auto['RegistrationYear'].hist(bins=50, figsize=(12,5))"
   ]
  },
  {
   "cell_type": "code",
   "execution_count": 21,
   "metadata": {},
   "outputs": [
    {
     "data": {
      "text/plain": [
       "<AxesSubplot:>"
      ]
     },
     "execution_count": 21,
     "metadata": {},
     "output_type": "execute_result"
    },
    {
     "data": {
      "image/png": "[encoded data removed]",
      "text/plain": [
       "<Figure size 432x288 with 1 Axes>"
      ]
     },
     "metadata": {
      "needs_background": "light"
     },
     "output_type": "display_data"
    }
   ],
   "source": [
    "auto = auto.query('1959 < RegistrationYear <= 2016')\n",
    "auto['RegistrationYear'].hist(bins=50)"
   ]
  },
  {
   "cell_type": "markdown",
   "metadata": {},
   "source": [
    "Выберем актуальный период с 1959 по 2016"
   ]
  },
  {
   "cell_type": "markdown",
   "metadata": {},
   "source": [
    "Осталось заняться некорректнымми значениями в столбце Power:"
   ]
  },
  {
   "cell_type": "code",
   "execution_count": 22,
   "metadata": {},
   "outputs": [
    {
     "data": {
      "text/plain": [
       "count    281030.000000\n",
       "mean        107.635733\n",
       "std         185.013711\n",
       "min           0.000000\n",
       "25%          70.000000\n",
       "50%         102.000000\n",
       "75%         140.000000\n",
       "max       20000.000000\n",
       "Name: Power, dtype: float64"
      ]
     },
     "execution_count": 22,
     "metadata": {},
     "output_type": "execute_result"
    },
    {
     "data": {
      "image/png": "[encoded data removed]",
      "text/plain": [
       "<Figure size 720x504 with 1 Axes>"
      ]
     },
     "metadata": {
      "needs_background": "light"
     },
     "output_type": "display_data"
    }
   ],
   "source": [
    "auto['Power'].hist(bins=10, figsize=(10,7))\n",
    "auto['Power'].describe()"
   ]
  },
  {
   "cell_type": "markdown",
   "metadata": {},
   "source": [
    "Раброс очень сильный, cделаем срез меньше 2500."
   ]
  },
  {
   "cell_type": "code",
   "execution_count": 23,
   "metadata": {},
   "outputs": [
    {
     "data": {
      "text/plain": [
       "<AxesSubplot:>"
      ]
     },
     "execution_count": 23,
     "metadata": {},
     "output_type": "execute_result"
    },
    {
     "data": {
      "image/png": "[encoded data removed]",
      "text/plain": [
       "<Figure size 720x360 with 1 Axes>"
      ]
     },
     "metadata": {
      "needs_background": "light"
     },
     "output_type": "display_data"
    }
   ],
   "source": [
    "auto = auto.query('Power < 2500')\n",
    "auto['Power'].hist(bins=100, figsize=[10,5])"
   ]
  },
  {
   "cell_type": "code",
   "execution_count": 24,
   "metadata": {},
   "outputs": [
    {
     "data": {
      "text/plain": [
       "<AxesSubplot:>"
      ]
     },
     "execution_count": 24,
     "metadata": {},
     "output_type": "execute_result"
    },
    {
     "data": {
      "image/png": "[encoded data removed]",
      "text/plain": [
       "<Figure size 864x432 with 1 Axes>"
      ]
     },
     "metadata": {
      "needs_background": "light"
     },
     "output_type": "display_data"
    }
   ],
   "source": [
    "#снова срез меньше 500\n",
    "auto = auto.query('Power < 500')\n",
    "auto['Power'].hist(bins=100, figsize=[12,6])"
   ]
  },
  {
   "cell_type": "markdown",
   "metadata": {},
   "source": [
    "На графике видно, что 0 - аномальные значения. Получается мощность авто больше 0 и меньше 350."
   ]
  },
  {
   "cell_type": "code",
   "execution_count": 25,
   "metadata": {},
   "outputs": [
    {
     "data": {
      "text/plain": [
       "<AxesSubplot:>"
      ]
     },
     "execution_count": 25,
     "metadata": {},
     "output_type": "execute_result"
    },
    {
     "data": {
      "image/png": "[encoded data removed]",
      "text/plain": [
       "<Figure size 864x432 with 1 Axes>"
      ]
     },
     "metadata": {
      "needs_background": "light"
     },
     "output_type": "display_data"
    }
   ],
   "source": [
    "auto = auto.query('0 < Power < 350')\n",
    "auto['Power'].hist(bins=100, figsize=[12,6])"
   ]
  },
  {
   "cell_type": "markdown",
   "metadata": {},
   "source": [
    "Убрали аномальные значения, на графике показана основная выборка"
   ]
  },
  {
   "cell_type": "code",
   "execution_count": 26,
   "metadata": {},
   "outputs": [
    {
     "name": "stdout",
     "output_type": "stream",
     "text": [
      "<class 'pandas.core.frame.DataFrame'>\n",
      "Int64Index: 253746 entries, 2 to 354368\n",
      "Data columns (total 10 columns):\n",
      " #   Column            Non-Null Count   Dtype \n",
      "---  ------            --------------   ----- \n",
      " 0   VehicleType       253746 non-null  object\n",
      " 1   RegistrationYear  253746 non-null  int64 \n",
      " 2   Gearbox           253746 non-null  object\n",
      " 3   Power             253746 non-null  int64 \n",
      " 4   Model             253746 non-null  object\n",
      " 5   Kilometer         253746 non-null  int64 \n",
      " 6   FuelType          253746 non-null  object\n",
      " 7   Brand             253746 non-null  object\n",
      " 8   NotRepaired       253746 non-null  object\n",
      " 9   Price             253746 non-null  int64 \n",
      "dtypes: int64(4), object(6)\n",
      "memory usage: 21.3+ MB\n"
     ]
    }
   ],
   "source": [
    "#посмотрим размер данных\n",
    "auto.info()"
   ]
  },
  {
   "cell_type": "code",
   "execution_count": 27,
   "metadata": {},
   "outputs": [
    {
     "name": "stdout",
     "output_type": "stream",
     "text": [
      "<class 'pandas.core.frame.DataFrame'>\n",
      "Int64Index: 253746 entries, 2 to 354368\n",
      "Data columns (total 10 columns):\n",
      " #   Column            Non-Null Count   Dtype \n",
      "---  ------            --------------   ----- \n",
      " 0   VehicleType       253746 non-null  object\n",
      " 1   RegistrationYear  253746 non-null  int16 \n",
      " 2   Gearbox           253746 non-null  object\n",
      " 3   Power             253746 non-null  int16 \n",
      " 4   Model             253746 non-null  object\n",
      " 5   Kilometer         253746 non-null  int32 \n",
      " 6   FuelType          253746 non-null  object\n",
      " 7   Brand             253746 non-null  object\n",
      " 8   NotRepaired       253746 non-null  object\n",
      " 9   Price             253746 non-null  int16 \n",
      "dtypes: int16(3), int32(1), object(6)\n",
      "memory usage: 16.0+ MB\n"
     ]
    }
   ],
   "source": [
    "#уменьшим размер\n",
    "auto['RegistrationYear'] = pd.to_numeric(auto['RegistrationYear'], downcast='integer')\n",
    "auto['Power'] = pd.to_numeric(auto['Power'], downcast='integer')\n",
    "auto['Kilometer'] = pd.to_numeric(auto['Kilometer'], downcast='integer')\n",
    "auto['Price'] = pd.to_numeric(auto['Price'], downcast='integer')\n",
    "auto.info()"
   ]
  },
  {
   "cell_type": "markdown",
   "metadata": {},
   "source": [
    "Вывод:\n",
    "\n",
    " - тип данных соответствует;\n",
    " - нашли пропуски в столбцах: VehicleType, Gearbox, Model, FuelType, NotRepaired. Заменили на самое популярное значение каждого столбца;\n",
    " - было 4 дубликата, удалили их;\n",
    " - отобрали столбцы, важные для построения модели;\n",
    " - убрали выбросы и аномальные значения в стобцах: Price, RegistrationYear, Power;\n",
    " - уменьшили размер данных на 5.8 MB."
   ]
  },
  {
   "cell_type": "markdown",
   "metadata": {},
   "source": [
    "## Обучение моделей"
   ]
  },
  {
   "cell_type": "markdown",
   "metadata": {},
   "source": [
    "Рассмотрим модели:\n",
    " - CatBoostRegressor;\n",
    " - RandomForestRegressor;\n",
    " - Ridge;\n",
    " - LightGBM;\n",
    "\n",
    "Вначале закодируем данные Ordinal Encoding(порядковое кодирование) и выберем признаки."
   ]
  },
  {
   "cell_type": "code",
   "execution_count": 28,
   "metadata": {},
   "outputs": [],
   "source": [
    "#неизмененные принаки\n",
    "original_features = auto.drop('Price', axis=1)\n",
    "\n",
    "#создали копию датасета и поменяли тип данных с object на category для модели LGBM.\n",
    "auto_light = auto.copy()\n",
    "auto_light = auto_light.astype({\"VehicleType\":'category',\n",
    "                                  \"Gearbox\":'category',\n",
    "                                  \"Model\":'category',\n",
    "                                  \"FuelType\":'category',\n",
    "                                  \"Brand\":'category',\n",
    "                                  \"NotRepaired\":'category'})\n",
    "#закодировали\n",
    "encoder = OrdinalEncoder()\n",
    "auto_ordinal = pd.DataFrame(encoder.fit_transform(original_features),\n",
    "                            columns=original_features.columns)"
   ]
  },
  {
   "cell_type": "code",
   "execution_count": 29,
   "metadata": {},
   "outputs": [],
   "source": [
    "train_features, test_features, train_target, test_target = train_test_split(auto.drop('Price', axis=1),\n",
    "                                                                           auto['Price'],\n",
    "                                                                           test_size = 0.25,\n",
    "                                                                           random_state = 12345)\n",
    "\n",
    "train_features, valid_features, train_target, valid_target = train_test_split(train_features,\n",
    "                                                                           train_target,\n",
    "                                                                           test_size = 0.25,\n",
    "                                                                           random_state = 12345)\n",
    "\n",
    "train_features_light, test_features_light, train_target_light, test_target_light = train_test_split(\n",
    "    auto_light.drop('Price', axis=1), auto_light['Price'], test_size = 0.25, random_state = 12345)\n",
    "\n",
    "train_features_oe, test_features_oe, train_target_oe, test_target_oe = train_test_split(auto_ordinal,\n",
    "                                                                                           auto['Price'],\n",
    "                                                                                           test_size = 0.25,\n",
    "                                                                                           random_state = 12345)"
   ]
  },
  {
   "cell_type": "markdown",
   "metadata": {},
   "source": [
    "### CatBoostRegressor"
   ]
  },
  {
   "cell_type": "code",
   "execution_count": 30,
   "metadata": {},
   "outputs": [
    {
     "data": {
      "application/vnd.jupyter.widget-view+json": {
       "model_id": "051be48df10a40568cb5aa63b2eae445",
       "version_major": 2,
       "version_minor": 0
      },
      "text/plain": [
       "MetricVisualizer(layout=Layout(align_self='stretch', height='500px'))"
      ]
     },
     "metadata": {},
     "output_type": "display_data"
    },
    {
     "name": "stdout",
     "output_type": "stream",
     "text": [
      "Learning rate set to 0.117677\n",
      "0:\tlearn: 2715.8737387\ttest: 2709.0411307\tbest: 2709.0411307 (0)\ttotal: 113ms\tremaining: 1m 52s\n",
      "1:\tlearn: 2538.5763356\ttest: 2534.2488893\tbest: 2534.2488893 (1)\ttotal: 156ms\tremaining: 1m 17s\n",
      "2:\tlearn: 2387.2698671\ttest: 2384.5315410\tbest: 2384.5315410 (2)\ttotal: 198ms\tremaining: 1m 5s\n",
      "3:\tlearn: 2256.0221912\ttest: 2255.4270793\tbest: 2255.4270793 (3)\ttotal: 246ms\tremaining: 1m 1s\n",
      "4:\tlearn: 2145.3269592\ttest: 2146.4551556\tbest: 2146.4551556 (4)\ttotal: 280ms\tremaining: 55.6s\n",
      "5:\tlearn: 2047.1595098\ttest: 2049.6090243\tbest: 2049.6090243 (5)\ttotal: 314ms\tremaining: 52s\n",
      "6:\tlearn: 1965.1322999\ttest: 1969.1335998\tbest: 1969.1335998 (6)\ttotal: 351ms\tremaining: 49.8s\n",
      "7:\tlearn: 1890.4882725\ttest: 1895.7763799\tbest: 1895.7763799 (7)\ttotal: 387ms\tremaining: 48s\n",
      "8:\tlearn: 1828.9177696\ttest: 1834.6077977\tbest: 1834.6077977 (8)\ttotal: 422ms\tremaining: 46.5s\n",
      "9:\tlearn: 1769.6158777\ttest: 1776.3899250\tbest: 1776.3899250 (9)\ttotal: 457ms\tremaining: 45.2s\n",
      "10:\tlearn: 1714.1963329\ttest: 1722.3012344\tbest: 1722.3012344 (10)\ttotal: 486ms\tremaining: 43.7s\n",
      "11:\tlearn: 1671.3724526\ttest: 1680.6132599\tbest: 1680.6132599 (11)\ttotal: 521ms\tremaining: 42.9s\n",
      "12:\tlearn: 1632.7101560\ttest: 1642.7079788\tbest: 1642.7079788 (12)\ttotal: 557ms\tremaining: 42.3s\n",
      "13:\tlearn: 1595.7207034\ttest: 1606.1784833\tbest: 1606.1784833 (13)\ttotal: 589ms\tremaining: 41.5s\n",
      "14:\tlearn: 1565.9222328\ttest: 1576.3723120\tbest: 1576.3723120 (14)\ttotal: 626ms\tremaining: 41.1s\n",
      "15:\tlearn: 1537.6927901\ttest: 1548.5696396\tbest: 1548.5696396 (15)\ttotal: 661ms\tremaining: 40.7s\n",
      "16:\tlearn: 1513.2910391\ttest: 1524.8957434\tbest: 1524.8957434 (16)\ttotal: 695ms\tremaining: 40.2s\n",
      "17:\tlearn: 1488.8484631\ttest: 1500.6052037\tbest: 1500.6052037 (17)\ttotal: 723ms\tremaining: 39.5s\n",
      "18:\tlearn: 1469.2123065\ttest: 1481.6045306\tbest: 1481.6045306 (18)\ttotal: 750ms\tremaining: 38.7s\n",
      "19:\tlearn: 1452.7365318\ttest: 1465.6904691\tbest: 1465.6904691 (19)\ttotal: 780ms\tremaining: 38.2s\n",
      "20:\tlearn: 1437.8054757\ttest: 1451.0765743\tbest: 1451.0765743 (20)\ttotal: 813ms\tremaining: 37.9s\n",
      "21:\tlearn: 1423.8781713\ttest: 1438.0114167\tbest: 1438.0114167 (21)\ttotal: 835ms\tremaining: 37.1s\n",
      "22:\tlearn: 1412.5792187\ttest: 1427.1304948\tbest: 1427.1304948 (22)\ttotal: 873ms\tremaining: 37.1s\n",
      "23:\tlearn: 1402.9764332\ttest: 1417.8466253\tbest: 1417.8466253 (23)\ttotal: 900ms\tremaining: 36.6s\n",
      "24:\tlearn: 1394.4164669\ttest: 1410.1251824\tbest: 1410.1251824 (24)\ttotal: 922ms\tremaining: 36s\n",
      "25:\tlearn: 1386.4059748\ttest: 1402.4033900\tbest: 1402.4033900 (25)\ttotal: 958ms\tremaining: 35.9s\n",
      "26:\tlearn: 1379.6068562\ttest: 1395.8114328\tbest: 1395.8114328 (26)\ttotal: 996ms\tremaining: 35.9s\n",
      "27:\tlearn: 1372.2418544\ttest: 1388.4277270\tbest: 1388.4277270 (27)\ttotal: 1.03s\tremaining: 35.7s\n",
      "28:\tlearn: 1366.2909908\ttest: 1382.5639679\tbest: 1382.5639679 (28)\ttotal: 1.05s\tremaining: 35.3s\n",
      "29:\tlearn: 1360.3243205\ttest: 1376.7837756\tbest: 1376.7837756 (29)\ttotal: 1.1s\tremaining: 35.5s\n",
      "30:\tlearn: 1354.9686591\ttest: 1371.7367820\tbest: 1371.7367820 (30)\ttotal: 1.13s\tremaining: 35.2s\n",
      "31:\tlearn: 1348.9891361\ttest: 1365.8348235\tbest: 1365.8348235 (31)\ttotal: 1.16s\tremaining: 35s\n",
      "32:\tlearn: 1344.6073182\ttest: 1361.8932692\tbest: 1361.8932692 (32)\ttotal: 1.18s\tremaining: 34.5s\n",
      "33:\tlearn: 1341.1216657\ttest: 1358.7324842\tbest: 1358.7324842 (33)\ttotal: 1.22s\tremaining: 34.6s\n",
      "34:\tlearn: 1337.1302909\ttest: 1354.7350897\tbest: 1354.7350897 (34)\ttotal: 1.3s\tremaining: 36s\n",
      "35:\tlearn: 1333.1565779\ttest: 1351.0736392\tbest: 1351.0736392 (35)\ttotal: 1.34s\tremaining: 35.9s\n",
      "36:\tlearn: 1329.9745666\ttest: 1347.9331177\tbest: 1347.9331177 (36)\ttotal: 1.37s\tremaining: 35.8s\n",
      "37:\tlearn: 1326.9657578\ttest: 1344.9560669\tbest: 1344.9560669 (37)\ttotal: 1.4s\tremaining: 35.6s\n",
      "38:\tlearn: 1323.6968265\ttest: 1341.6371922\tbest: 1341.6371922 (38)\ttotal: 1.44s\tremaining: 35.5s\n",
      "39:\tlearn: 1320.1120657\ttest: 1338.2441072\tbest: 1338.2441072 (39)\ttotal: 1.49s\tremaining: 35.7s\n",
      "40:\tlearn: 1318.3195359\ttest: 1336.4527700\tbest: 1336.4527700 (40)\ttotal: 1.52s\tremaining: 35.6s\n",
      "41:\tlearn: 1315.4535456\ttest: 1333.8301848\tbest: 1333.8301848 (41)\ttotal: 1.55s\tremaining: 35.3s\n",
      "42:\tlearn: 1313.2970841\ttest: 1331.7171010\tbest: 1331.7171010 (42)\ttotal: 1.58s\tremaining: 35.1s\n",
      "43:\tlearn: 1309.5678290\ttest: 1328.1084919\tbest: 1328.1084919 (43)\ttotal: 1.6s\tremaining: 34.8s\n",
      "44:\tlearn: 1307.3518142\ttest: 1325.9600072\tbest: 1325.9600072 (44)\ttotal: 1.63s\tremaining: 34.6s\n",
      "45:\tlearn: 1305.2399435\ttest: 1324.0605369\tbest: 1324.0605369 (45)\ttotal: 1.65s\tremaining: 34.2s\n",
      "46:\tlearn: 1303.0109779\ttest: 1322.0097090\tbest: 1322.0097090 (46)\ttotal: 1.68s\tremaining: 34s\n",
      "47:\tlearn: 1300.9431658\ttest: 1319.9144085\tbest: 1319.9144085 (47)\ttotal: 1.7s\tremaining: 33.8s\n",
      "48:\tlearn: 1298.7026194\ttest: 1317.7646507\tbest: 1317.7646507 (48)\ttotal: 1.74s\tremaining: 33.8s\n",
      "49:\tlearn: 1297.2658005\ttest: 1316.4648622\tbest: 1316.4648622 (49)\ttotal: 1.77s\tremaining: 33.7s\n",
      "50:\tlearn: 1295.6244316\ttest: 1314.8203148\tbest: 1314.8203148 (50)\ttotal: 1.8s\tremaining: 33.5s\n",
      "51:\tlearn: 1292.8396882\ttest: 1312.4806612\tbest: 1312.4806612 (51)\ttotal: 1.83s\tremaining: 33.3s\n",
      "52:\tlearn: 1291.2053628\ttest: 1310.9509928\tbest: 1310.9509928 (52)\ttotal: 1.86s\tremaining: 33.3s\n",
      "53:\tlearn: 1289.1459626\ttest: 1309.0508053\tbest: 1309.0508053 (53)\ttotal: 1.89s\tremaining: 33.1s\n",
      "54:\tlearn: 1287.3720708\ttest: 1307.6118009\tbest: 1307.6118009 (54)\ttotal: 1.91s\tremaining: 32.7s\n",
      "55:\tlearn: 1285.5545499\ttest: 1305.9691371\tbest: 1305.9691371 (55)\ttotal: 1.93s\tremaining: 32.5s\n",
      "56:\tlearn: 1283.9899967\ttest: 1304.4517644\tbest: 1304.4517644 (56)\ttotal: 1.96s\tremaining: 32.5s\n",
      "57:\tlearn: 1283.2513707\ttest: 1303.7094023\tbest: 1303.7094023 (57)\ttotal: 2s\tremaining: 32.5s\n",
      "58:\tlearn: 1281.4207202\ttest: 1302.0419577\tbest: 1302.0419577 (58)\ttotal: 2.03s\tremaining: 32.3s\n",
      "59:\tlearn: 1279.9879417\ttest: 1300.8767491\tbest: 1300.8767491 (59)\ttotal: 2.06s\tremaining: 32.3s\n",
      "60:\tlearn: 1278.5545363\ttest: 1299.4101907\tbest: 1299.4101907 (60)\ttotal: 2.09s\tremaining: 32.2s\n",
      "61:\tlearn: 1276.8628000\ttest: 1297.7994469\tbest: 1297.7994469 (61)\ttotal: 2.11s\tremaining: 32s\n",
      "62:\tlearn: 1274.8614221\ttest: 1295.9863193\tbest: 1295.9863193 (62)\ttotal: 2.13s\tremaining: 31.7s\n",
      "63:\tlearn: 1273.7596243\ttest: 1295.0017833\tbest: 1295.0017833 (63)\ttotal: 2.16s\tremaining: 31.6s\n",
      "64:\tlearn: 1272.3754964\ttest: 1293.8587103\tbest: 1293.8587103 (64)\ttotal: 2.2s\tremaining: 31.6s\n",
      "65:\tlearn: 1270.7889328\ttest: 1292.2422166\tbest: 1292.2422166 (65)\ttotal: 2.23s\tremaining: 31.5s\n",
      "66:\tlearn: 1270.1252619\ttest: 1291.6572147\tbest: 1291.6572147 (66)\ttotal: 2.26s\tremaining: 31.5s\n",
      "67:\tlearn: 1268.8851670\ttest: 1290.4519800\tbest: 1290.4519800 (67)\ttotal: 2.29s\tremaining: 31.4s\n",
      "68:\tlearn: 1267.1818804\ttest: 1288.8564053\tbest: 1288.8564053 (68)\ttotal: 2.32s\tremaining: 31.3s\n",
      "69:\tlearn: 1265.5949651\ttest: 1287.2369756\tbest: 1287.2369756 (69)\ttotal: 2.36s\tremaining: 31.4s\n",
      "70:\tlearn: 1264.6584980\ttest: 1286.2923811\tbest: 1286.2923811 (70)\ttotal: 2.4s\tremaining: 31.4s\n",
      "71:\tlearn: 1263.4808526\ttest: 1285.2458640\tbest: 1285.2458640 (71)\ttotal: 2.42s\tremaining: 31.3s\n",
      "72:\tlearn: 1261.8617771\ttest: 1283.7315199\tbest: 1283.7315199 (72)\ttotal: 2.46s\tremaining: 31.2s\n",
      "73:\tlearn: 1260.7248309\ttest: 1282.5655979\tbest: 1282.5655979 (73)\ttotal: 2.5s\tremaining: 31.3s\n",
      "74:\tlearn: 1259.5553026\ttest: 1281.3776621\tbest: 1281.3776621 (74)\ttotal: 2.54s\tremaining: 31.3s\n",
      "75:\tlearn: 1258.3090728\ttest: 1280.2465700\tbest: 1280.2465700 (75)\ttotal: 2.56s\tremaining: 31.1s\n",
      "76:\tlearn: 1257.2764572\ttest: 1279.4211442\tbest: 1279.4211442 (76)\ttotal: 2.58s\tremaining: 31s\n",
      "77:\tlearn: 1256.4724704\ttest: 1278.6052315\tbest: 1278.6052315 (77)\ttotal: 2.62s\tremaining: 30.9s\n",
      "78:\tlearn: 1255.6474413\ttest: 1277.7172502\tbest: 1277.7172502 (78)\ttotal: 2.65s\tremaining: 30.9s\n",
      "79:\tlearn: 1254.7013332\ttest: 1276.8562361\tbest: 1276.8562361 (79)\ttotal: 2.67s\tremaining: 30.7s\n",
      "80:\tlearn: 1253.3714361\ttest: 1275.6712016\tbest: 1275.6712016 (80)\ttotal: 2.7s\tremaining: 30.6s\n",
      "81:\tlearn: 1252.5095615\ttest: 1274.7841020\tbest: 1274.7841020 (81)\ttotal: 2.73s\tremaining: 30.6s\n",
      "82:\tlearn: 1251.4908333\ttest: 1273.8634431\tbest: 1273.8634431 (82)\ttotal: 2.77s\tremaining: 30.6s\n",
      "83:\tlearn: 1250.7038458\ttest: 1273.1590982\tbest: 1273.1590982 (83)\ttotal: 2.8s\tremaining: 30.5s\n",
      "84:\tlearn: 1249.6287034\ttest: 1272.2306039\tbest: 1272.2306039 (84)\ttotal: 2.83s\tremaining: 30.4s\n",
      "85:\tlearn: 1248.8200041\ttest: 1271.4718893\tbest: 1271.4718893 (85)\ttotal: 2.86s\tremaining: 30.4s\n",
      "86:\tlearn: 1247.4376643\ttest: 1270.1611288\tbest: 1270.1611288 (86)\ttotal: 2.88s\tremaining: 30.2s\n",
      "87:\tlearn: 1246.4934716\ttest: 1269.0502972\tbest: 1269.0502972 (87)\ttotal: 2.9s\tremaining: 30.1s\n",
      "88:\tlearn: 1245.5722549\ttest: 1268.2335745\tbest: 1268.2335745 (88)\ttotal: 2.94s\tremaining: 30.1s\n",
      "89:\tlearn: 1244.9560252\ttest: 1267.6232023\tbest: 1267.6232023 (89)\ttotal: 2.97s\tremaining: 30s\n",
      "90:\tlearn: 1244.3736101\ttest: 1266.9953551\tbest: 1266.9953551 (90)\ttotal: 3s\tremaining: 29.9s\n"
     ]
    },
    {
     "name": "stdout",
     "output_type": "stream",
     "text": [
      "91:\tlearn: 1243.4230037\ttest: 1266.1290963\tbest: 1266.1290963 (91)\ttotal: 3.03s\tremaining: 29.9s\n",
      "92:\tlearn: 1242.6459661\ttest: 1265.3469547\tbest: 1265.3469547 (92)\ttotal: 3.07s\tremaining: 29.9s\n",
      "93:\tlearn: 1242.0595688\ttest: 1264.7353972\tbest: 1264.7353972 (93)\ttotal: 3.1s\tremaining: 29.9s\n",
      "94:\tlearn: 1241.5591690\ttest: 1264.3654703\tbest: 1264.3654703 (94)\ttotal: 3.13s\tremaining: 29.8s\n",
      "95:\tlearn: 1240.8283769\ttest: 1263.7716008\tbest: 1263.7716008 (95)\ttotal: 3.15s\tremaining: 29.7s\n",
      "96:\tlearn: 1240.1450020\ttest: 1263.2449185\tbest: 1263.2449185 (96)\ttotal: 3.18s\tremaining: 29.6s\n",
      "97:\tlearn: 1239.5647447\ttest: 1262.7410953\tbest: 1262.7410953 (97)\ttotal: 3.21s\tremaining: 29.6s\n",
      "98:\tlearn: 1239.0919621\ttest: 1262.2038860\tbest: 1262.2038860 (98)\ttotal: 3.25s\tremaining: 29.5s\n",
      "99:\tlearn: 1238.3773910\ttest: 1261.4418726\tbest: 1261.4418726 (99)\ttotal: 3.27s\tremaining: 29.5s\n",
      "100:\tlearn: 1237.5097583\ttest: 1260.6030909\tbest: 1260.6030909 (100)\ttotal: 3.31s\tremaining: 29.5s\n",
      "101:\tlearn: 1236.7712788\ttest: 1260.0958774\tbest: 1260.0958774 (101)\ttotal: 3.35s\tremaining: 29.5s\n",
      "102:\tlearn: 1236.5396535\ttest: 1259.8853341\tbest: 1259.8853341 (102)\ttotal: 3.39s\tremaining: 29.6s\n",
      "103:\tlearn: 1235.6487226\ttest: 1259.0215339\tbest: 1259.0215339 (103)\ttotal: 3.43s\tremaining: 29.6s\n",
      "104:\tlearn: 1234.7271891\ttest: 1258.2459691\tbest: 1258.2459691 (104)\ttotal: 3.46s\tremaining: 29.5s\n",
      "105:\tlearn: 1234.2618952\ttest: 1257.7630709\tbest: 1257.7630709 (105)\ttotal: 3.49s\tremaining: 29.4s\n",
      "106:\tlearn: 1233.7847507\ttest: 1257.3574291\tbest: 1257.3574291 (106)\ttotal: 3.52s\tremaining: 29.4s\n",
      "107:\tlearn: 1233.0255046\ttest: 1256.6693473\tbest: 1256.6693473 (107)\ttotal: 3.55s\tremaining: 29.4s\n",
      "108:\tlearn: 1232.4197964\ttest: 1256.0847448\tbest: 1256.0847448 (108)\ttotal: 3.59s\tremaining: 29.3s\n",
      "109:\tlearn: 1231.8087607\ttest: 1255.5069044\tbest: 1255.5069044 (109)\ttotal: 3.62s\tremaining: 29.3s\n",
      "110:\tlearn: 1230.8523916\ttest: 1254.5749846\tbest: 1254.5749846 (110)\ttotal: 3.64s\tremaining: 29.2s\n",
      "111:\tlearn: 1230.4276521\ttest: 1254.2529746\tbest: 1254.2529746 (111)\ttotal: 3.67s\tremaining: 29.1s\n",
      "112:\tlearn: 1229.7449218\ttest: 1253.7531538\tbest: 1253.7531538 (112)\ttotal: 3.69s\tremaining: 29s\n",
      "113:\tlearn: 1229.2060394\ttest: 1253.1911936\tbest: 1253.1911936 (113)\ttotal: 3.71s\tremaining: 28.9s\n",
      "114:\tlearn: 1228.7254145\ttest: 1252.9860844\tbest: 1252.9860844 (114)\ttotal: 3.75s\tremaining: 28.9s\n",
      "115:\tlearn: 1227.9273348\ttest: 1252.3111544\tbest: 1252.3111544 (115)\ttotal: 3.78s\tremaining: 28.8s\n",
      "116:\tlearn: 1227.3257090\ttest: 1251.7983928\tbest: 1251.7983928 (116)\ttotal: 3.8s\tremaining: 28.7s\n",
      "117:\tlearn: 1226.5974613\ttest: 1251.1106062\tbest: 1251.1106062 (117)\ttotal: 3.83s\tremaining: 28.6s\n",
      "118:\tlearn: 1225.9045720\ttest: 1250.3457416\tbest: 1250.3457416 (118)\ttotal: 3.85s\tremaining: 28.5s\n",
      "119:\tlearn: 1225.5075748\ttest: 1249.8830522\tbest: 1249.8830522 (119)\ttotal: 3.88s\tremaining: 28.4s\n",
      "120:\tlearn: 1224.9758378\ttest: 1249.3204777\tbest: 1249.3204777 (120)\ttotal: 3.91s\tremaining: 28.4s\n",
      "121:\tlearn: 1224.3792266\ttest: 1248.7036816\tbest: 1248.7036816 (121)\ttotal: 3.94s\tremaining: 28.3s\n",
      "122:\tlearn: 1223.6141332\ttest: 1247.9926975\tbest: 1247.9926975 (122)\ttotal: 3.97s\tremaining: 28.3s\n",
      "123:\tlearn: 1223.1436083\ttest: 1247.6056327\tbest: 1247.6056327 (123)\ttotal: 4s\tremaining: 28.2s\n",
      "124:\tlearn: 1222.7147208\ttest: 1247.1721397\tbest: 1247.1721397 (124)\ttotal: 4.03s\tremaining: 28.2s\n",
      "125:\tlearn: 1222.0035805\ttest: 1246.5100625\tbest: 1246.5100625 (125)\ttotal: 4.07s\tremaining: 28.2s\n",
      "126:\tlearn: 1221.1929871\ttest: 1245.6664687\tbest: 1245.6664687 (126)\ttotal: 4.1s\tremaining: 28.2s\n",
      "127:\tlearn: 1220.4529950\ttest: 1244.9524999\tbest: 1244.9524999 (127)\ttotal: 4.13s\tremaining: 28.1s\n",
      "128:\tlearn: 1219.7714126\ttest: 1244.3790008\tbest: 1244.3790008 (128)\ttotal: 4.16s\tremaining: 28.1s\n",
      "129:\tlearn: 1219.2089174\ttest: 1243.7818063\tbest: 1243.7818063 (129)\ttotal: 4.2s\tremaining: 28.1s\n",
      "130:\tlearn: 1218.4077841\ttest: 1243.0102743\tbest: 1243.0102743 (130)\ttotal: 4.24s\tremaining: 28.1s\n",
      "131:\tlearn: 1217.5678498\ttest: 1242.1765726\tbest: 1242.1765726 (131)\ttotal: 4.28s\tremaining: 28.1s\n",
      "132:\tlearn: 1217.1767734\ttest: 1241.8135687\tbest: 1241.8135687 (132)\ttotal: 4.31s\tremaining: 28.1s\n",
      "133:\tlearn: 1216.7719410\ttest: 1241.4552468\tbest: 1241.4552468 (133)\ttotal: 4.35s\tremaining: 28.1s\n",
      "134:\tlearn: 1216.1597347\ttest: 1240.8467509\tbest: 1240.8467509 (134)\ttotal: 4.38s\tremaining: 28.1s\n",
      "135:\tlearn: 1215.5597348\ttest: 1240.2217848\tbest: 1240.2217848 (135)\ttotal: 4.42s\tremaining: 28.1s\n",
      "136:\tlearn: 1215.2676743\ttest: 1239.9650970\tbest: 1239.9650970 (136)\ttotal: 4.46s\tremaining: 28.1s\n",
      "137:\tlearn: 1214.8259098\ttest: 1239.5874955\tbest: 1239.5874955 (137)\ttotal: 4.5s\tremaining: 28.1s\n",
      "138:\tlearn: 1214.5052205\ttest: 1239.2931259\tbest: 1239.2931259 (138)\ttotal: 4.53s\tremaining: 28.1s\n",
      "139:\tlearn: 1213.8494180\ttest: 1238.6863762\tbest: 1238.6863762 (139)\ttotal: 4.56s\tremaining: 28s\n",
      "140:\tlearn: 1213.4543543\ttest: 1238.2765916\tbest: 1238.2765916 (140)\ttotal: 4.6s\tremaining: 28s\n",
      "141:\tlearn: 1212.9242666\ttest: 1237.8758091\tbest: 1237.8758091 (141)\ttotal: 4.64s\tremaining: 28s\n",
      "142:\tlearn: 1212.3563033\ttest: 1237.1355471\tbest: 1237.1355471 (142)\ttotal: 4.67s\tremaining: 28s\n",
      "143:\tlearn: 1211.8810906\ttest: 1236.8206334\tbest: 1236.8206334 (143)\ttotal: 4.71s\tremaining: 28s\n",
      "144:\tlearn: 1211.4656025\ttest: 1236.4584492\tbest: 1236.4584492 (144)\ttotal: 4.74s\tremaining: 27.9s\n",
      "145:\tlearn: 1211.2307880\ttest: 1236.2348456\tbest: 1236.2348456 (145)\ttotal: 4.78s\tremaining: 27.9s\n",
      "146:\tlearn: 1210.7213751\ttest: 1235.7250917\tbest: 1235.7250917 (146)\ttotal: 4.81s\tremaining: 27.9s\n",
      "147:\tlearn: 1210.4040738\ttest: 1235.5183717\tbest: 1235.5183717 (147)\ttotal: 4.85s\tremaining: 27.9s\n",
      "148:\tlearn: 1209.8686980\ttest: 1235.1235886\tbest: 1235.1235886 (148)\ttotal: 4.88s\tremaining: 27.9s\n",
      "149:\tlearn: 1209.4959797\ttest: 1234.8418195\tbest: 1234.8418195 (149)\ttotal: 4.91s\tremaining: 27.8s\n",
      "150:\tlearn: 1209.1716976\ttest: 1234.5422479\tbest: 1234.5422479 (150)\ttotal: 4.95s\tremaining: 27.8s\n",
      "151:\tlearn: 1208.7750352\ttest: 1234.2447115\tbest: 1234.2447115 (151)\ttotal: 4.99s\tremaining: 27.8s\n",
      "152:\tlearn: 1208.3415291\ttest: 1234.0362112\tbest: 1234.0362112 (152)\ttotal: 5s\tremaining: 27.7s\n",
      "153:\tlearn: 1208.1152245\ttest: 1233.8802447\tbest: 1233.8802447 (153)\ttotal: 5.03s\tremaining: 27.6s\n",
      "154:\tlearn: 1207.6581114\ttest: 1233.4679795\tbest: 1233.4679795 (154)\ttotal: 5.08s\tremaining: 27.7s\n",
      "155:\tlearn: 1207.3686140\ttest: 1233.2836062\tbest: 1233.2836062 (155)\ttotal: 5.11s\tremaining: 27.6s\n",
      "156:\tlearn: 1207.0604383\ttest: 1233.0836195\tbest: 1233.0836195 (156)\ttotal: 5.13s\tremaining: 27.6s\n",
      "157:\tlearn: 1206.4006106\ttest: 1232.3789708\tbest: 1232.3789708 (157)\ttotal: 5.16s\tremaining: 27.5s\n",
      "158:\tlearn: 1206.1721230\ttest: 1232.1327173\tbest: 1232.1327173 (158)\ttotal: 5.19s\tremaining: 27.5s\n",
      "159:\tlearn: 1205.8830416\ttest: 1231.9022247\tbest: 1231.9022247 (159)\ttotal: 5.21s\tremaining: 27.4s\n",
      "160:\tlearn: 1205.6744722\ttest: 1231.7435886\tbest: 1231.7435886 (160)\ttotal: 5.25s\tremaining: 27.3s\n",
      "161:\tlearn: 1205.2196100\ttest: 1231.4767821\tbest: 1231.4767821 (161)\ttotal: 5.29s\tremaining: 27.3s\n",
      "162:\tlearn: 1204.4249679\ttest: 1230.5924028\tbest: 1230.5924028 (162)\ttotal: 5.33s\tremaining: 27.3s\n",
      "163:\tlearn: 1203.9121882\ttest: 1230.2474893\tbest: 1230.2474893 (163)\ttotal: 5.37s\tremaining: 27.4s\n",
      "164:\tlearn: 1203.6824039\ttest: 1230.1438944\tbest: 1230.1438944 (164)\ttotal: 5.4s\tremaining: 27.3s\n",
      "165:\tlearn: 1203.1777188\ttest: 1229.7093141\tbest: 1229.7093141 (165)\ttotal: 5.43s\tremaining: 27.3s\n",
      "166:\tlearn: 1202.6845383\ttest: 1229.1707184\tbest: 1229.1707184 (166)\ttotal: 5.47s\tremaining: 27.3s\n",
      "167:\tlearn: 1202.4977765\ttest: 1229.0479104\tbest: 1229.0479104 (167)\ttotal: 5.51s\tremaining: 27.3s\n",
      "168:\tlearn: 1202.1654799\ttest: 1228.7897032\tbest: 1228.7897032 (168)\ttotal: 5.55s\tremaining: 27.3s\n",
      "169:\tlearn: 1201.6764411\ttest: 1228.4195032\tbest: 1228.4195032 (169)\ttotal: 5.58s\tremaining: 27.2s\n",
      "170:\tlearn: 1201.1444718\ttest: 1227.8354960\tbest: 1227.8354960 (170)\ttotal: 5.62s\tremaining: 27.3s\n",
      "171:\tlearn: 1200.7741647\ttest: 1227.5903582\tbest: 1227.5903582 (171)\ttotal: 5.65s\tremaining: 27.2s\n",
      "172:\tlearn: 1200.5551855\ttest: 1227.3287969\tbest: 1227.3287969 (172)\ttotal: 5.68s\tremaining: 27.2s\n",
      "173:\tlearn: 1200.1715767\ttest: 1226.9218904\tbest: 1226.9218904 (173)\ttotal: 5.72s\tremaining: 27.2s\n",
      "174:\tlearn: 1199.6808453\ttest: 1226.5190092\tbest: 1226.5190092 (174)\ttotal: 5.75s\tremaining: 27.1s\n"
     ]
    },
    {
     "name": "stdout",
     "output_type": "stream",
     "text": [
      "175:\tlearn: 1199.4296885\ttest: 1226.3123495\tbest: 1226.3123495 (175)\ttotal: 5.79s\tremaining: 27.1s\n",
      "176:\tlearn: 1198.9524055\ttest: 1225.9156843\tbest: 1225.9156843 (176)\ttotal: 5.82s\tremaining: 27.1s\n",
      "177:\tlearn: 1198.6546205\ttest: 1225.6405723\tbest: 1225.6405723 (177)\ttotal: 5.85s\tremaining: 27s\n",
      "178:\tlearn: 1198.1911657\ttest: 1225.2040874\tbest: 1225.2040874 (178)\ttotal: 5.88s\tremaining: 27s\n",
      "179:\tlearn: 1197.8216073\ttest: 1224.9808750\tbest: 1224.9808750 (179)\ttotal: 5.91s\tremaining: 26.9s\n",
      "180:\tlearn: 1197.4720690\ttest: 1224.7269579\tbest: 1224.7269579 (180)\ttotal: 5.95s\tremaining: 26.9s\n",
      "181:\tlearn: 1197.0979286\ttest: 1224.3810484\tbest: 1224.3810484 (181)\ttotal: 5.99s\tremaining: 26.9s\n",
      "182:\tlearn: 1196.6411707\ttest: 1224.0400517\tbest: 1224.0400517 (182)\ttotal: 6.03s\tremaining: 26.9s\n",
      "183:\tlearn: 1196.3675147\ttest: 1223.7442760\tbest: 1223.7442760 (183)\ttotal: 6.06s\tremaining: 26.9s\n",
      "184:\tlearn: 1195.9314769\ttest: 1223.3286415\tbest: 1223.3286415 (184)\ttotal: 6.1s\tremaining: 26.9s\n",
      "185:\tlearn: 1195.7288291\ttest: 1223.1069945\tbest: 1223.1069945 (185)\ttotal: 6.14s\tremaining: 26.9s\n",
      "186:\tlearn: 1195.4354967\ttest: 1222.8122038\tbest: 1222.8122038 (186)\ttotal: 6.18s\tremaining: 26.9s\n",
      "187:\tlearn: 1195.2836508\ttest: 1222.7406993\tbest: 1222.7406993 (187)\ttotal: 6.22s\tremaining: 26.9s\n",
      "188:\tlearn: 1194.9749951\ttest: 1222.4957284\tbest: 1222.4957284 (188)\ttotal: 6.24s\tremaining: 26.8s\n",
      "189:\tlearn: 1194.6688267\ttest: 1222.2045876\tbest: 1222.2045876 (189)\ttotal: 6.28s\tremaining: 26.8s\n",
      "190:\tlearn: 1194.5088446\ttest: 1222.1287501\tbest: 1222.1287501 (190)\ttotal: 6.3s\tremaining: 26.7s\n",
      "191:\tlearn: 1194.1584362\ttest: 1222.0064101\tbest: 1222.0064101 (191)\ttotal: 6.34s\tremaining: 26.7s\n",
      "192:\tlearn: 1193.6352262\ttest: 1221.7991975\tbest: 1221.7991975 (192)\ttotal: 6.39s\tremaining: 26.7s\n",
      "193:\tlearn: 1193.4474535\ttest: 1221.6078155\tbest: 1221.6078155 (193)\ttotal: 6.41s\tremaining: 26.6s\n",
      "194:\tlearn: 1193.1387522\ttest: 1221.3087761\tbest: 1221.3087761 (194)\ttotal: 6.43s\tremaining: 26.5s\n",
      "195:\tlearn: 1192.6841691\ttest: 1220.9557061\tbest: 1220.9557061 (195)\ttotal: 6.47s\tremaining: 26.5s\n",
      "196:\tlearn: 1192.2212403\ttest: 1220.5094315\tbest: 1220.5094315 (196)\ttotal: 6.5s\tremaining: 26.5s\n",
      "197:\tlearn: 1191.9118044\ttest: 1220.2775938\tbest: 1220.2775938 (197)\ttotal: 6.54s\tremaining: 26.5s\n",
      "198:\tlearn: 1191.6040786\ttest: 1220.0213893\tbest: 1220.0213893 (198)\ttotal: 6.57s\tremaining: 26.4s\n",
      "199:\tlearn: 1191.3283279\ttest: 1219.7652520\tbest: 1219.7652520 (199)\ttotal: 6.61s\tremaining: 26.4s\n",
      "200:\tlearn: 1190.9935259\ttest: 1219.4814198\tbest: 1219.4814198 (200)\ttotal: 6.65s\tremaining: 26.4s\n",
      "201:\tlearn: 1190.6528593\ttest: 1219.2726136\tbest: 1219.2726136 (201)\ttotal: 6.7s\tremaining: 26.5s\n",
      "202:\tlearn: 1190.4645585\ttest: 1219.1467310\tbest: 1219.1467310 (202)\ttotal: 6.74s\tremaining: 26.4s\n",
      "203:\tlearn: 1190.0603366\ttest: 1218.7335802\tbest: 1218.7335802 (203)\ttotal: 6.77s\tremaining: 26.4s\n",
      "204:\tlearn: 1189.7235003\ttest: 1218.3562322\tbest: 1218.3562322 (204)\ttotal: 6.8s\tremaining: 26.4s\n",
      "205:\tlearn: 1189.5585459\ttest: 1218.1953296\tbest: 1218.1953296 (205)\ttotal: 6.83s\tremaining: 26.3s\n",
      "206:\tlearn: 1189.2171090\ttest: 1217.8404029\tbest: 1217.8404029 (206)\ttotal: 6.87s\tremaining: 26.3s\n",
      "207:\tlearn: 1188.9600052\ttest: 1217.7486567\tbest: 1217.7486567 (207)\ttotal: 6.91s\tremaining: 26.3s\n",
      "208:\tlearn: 1188.6727260\ttest: 1217.5875439\tbest: 1217.5875439 (208)\ttotal: 6.94s\tremaining: 26.3s\n",
      "209:\tlearn: 1188.4677043\ttest: 1217.3747525\tbest: 1217.3747525 (209)\ttotal: 6.98s\tremaining: 26.3s\n",
      "210:\tlearn: 1188.2564514\ttest: 1217.3379495\tbest: 1217.3379495 (210)\ttotal: 7.01s\tremaining: 26.2s\n",
      "211:\tlearn: 1187.8857122\ttest: 1217.0362738\tbest: 1217.0362738 (211)\ttotal: 7.05s\tremaining: 26.2s\n",
      "212:\tlearn: 1187.6912062\ttest: 1216.9004483\tbest: 1216.9004483 (212)\ttotal: 7.1s\tremaining: 26.2s\n",
      "213:\tlearn: 1187.3026456\ttest: 1216.6630444\tbest: 1216.6630444 (213)\ttotal: 7.13s\tremaining: 26.2s\n",
      "214:\tlearn: 1186.9067612\ttest: 1216.3199180\tbest: 1216.3199180 (214)\ttotal: 7.15s\tremaining: 26.1s\n",
      "215:\tlearn: 1186.7813697\ttest: 1216.2593231\tbest: 1216.2593231 (215)\ttotal: 7.18s\tremaining: 26.1s\n",
      "216:\tlearn: 1186.5955939\ttest: 1216.1092180\tbest: 1216.1092180 (216)\ttotal: 7.21s\tremaining: 26s\n",
      "217:\tlearn: 1186.3397874\ttest: 1215.9371476\tbest: 1215.9371476 (217)\ttotal: 7.24s\tremaining: 26s\n",
      "218:\tlearn: 1185.9294298\ttest: 1215.5749194\tbest: 1215.5749194 (218)\ttotal: 7.27s\tremaining: 25.9s\n",
      "219:\tlearn: 1185.7122310\ttest: 1215.5064015\tbest: 1215.5064015 (219)\ttotal: 7.31s\tremaining: 25.9s\n",
      "220:\tlearn: 1185.6381860\ttest: 1215.4216982\tbest: 1215.4216982 (220)\ttotal: 7.35s\tremaining: 25.9s\n",
      "221:\tlearn: 1185.4677529\ttest: 1215.3425686\tbest: 1215.3425686 (221)\ttotal: 7.38s\tremaining: 25.9s\n",
      "222:\tlearn: 1184.9422762\ttest: 1214.8747037\tbest: 1214.8747037 (222)\ttotal: 7.42s\tremaining: 25.9s\n",
      "223:\tlearn: 1184.6330792\ttest: 1214.6812676\tbest: 1214.6812676 (223)\ttotal: 7.46s\tremaining: 25.9s\n",
      "224:\tlearn: 1184.4422064\ttest: 1214.5004296\tbest: 1214.5004296 (224)\ttotal: 7.51s\tremaining: 25.9s\n",
      "225:\tlearn: 1184.3677254\ttest: 1214.4619227\tbest: 1214.4619227 (225)\ttotal: 7.55s\tremaining: 25.9s\n",
      "226:\tlearn: 1184.0678422\ttest: 1214.2785585\tbest: 1214.2785585 (226)\ttotal: 7.58s\tremaining: 25.8s\n",
      "227:\tlearn: 1183.9208758\ttest: 1214.1913943\tbest: 1214.1913943 (227)\ttotal: 7.62s\tremaining: 25.8s\n",
      "228:\tlearn: 1183.6186174\ttest: 1213.9647490\tbest: 1213.9647490 (228)\ttotal: 7.65s\tremaining: 25.8s\n",
      "229:\tlearn: 1183.4159639\ttest: 1213.7944429\tbest: 1213.7944429 (229)\ttotal: 7.69s\tremaining: 25.7s\n",
      "230:\tlearn: 1183.2546227\ttest: 1213.7069392\tbest: 1213.7069392 (230)\ttotal: 7.73s\tremaining: 25.7s\n",
      "231:\tlearn: 1182.9573644\ttest: 1213.4771721\tbest: 1213.4771721 (231)\ttotal: 7.76s\tremaining: 25.7s\n",
      "232:\tlearn: 1182.8000454\ttest: 1213.3836149\tbest: 1213.3836149 (232)\ttotal: 7.79s\tremaining: 25.6s\n",
      "233:\tlearn: 1182.4571344\ttest: 1213.1532416\tbest: 1213.1532416 (233)\ttotal: 7.81s\tremaining: 25.6s\n",
      "234:\tlearn: 1182.2552235\ttest: 1212.9641775\tbest: 1212.9641775 (234)\ttotal: 7.85s\tremaining: 25.6s\n",
      "235:\tlearn: 1181.9251097\ttest: 1212.7521154\tbest: 1212.7521154 (235)\ttotal: 7.88s\tremaining: 25.5s\n",
      "236:\tlearn: 1181.7877575\ttest: 1212.6268990\tbest: 1212.6268990 (236)\ttotal: 7.92s\tremaining: 25.5s\n",
      "237:\tlearn: 1181.5404277\ttest: 1212.5572255\tbest: 1212.5572255 (237)\ttotal: 7.97s\tremaining: 25.5s\n",
      "238:\tlearn: 1181.1624836\ttest: 1212.2853520\tbest: 1212.2853520 (238)\ttotal: 8s\tremaining: 25.5s\n",
      "239:\tlearn: 1180.9329899\ttest: 1212.1600915\tbest: 1212.1600915 (239)\ttotal: 8.05s\tremaining: 25.5s\n",
      "240:\tlearn: 1180.6802072\ttest: 1211.9880115\tbest: 1211.9880115 (240)\ttotal: 8.08s\tremaining: 25.5s\n",
      "241:\tlearn: 1180.3635375\ttest: 1211.7044379\tbest: 1211.7044379 (241)\ttotal: 8.13s\tremaining: 25.5s\n",
      "242:\tlearn: 1180.2460124\ttest: 1211.5905121\tbest: 1211.5905121 (242)\ttotal: 8.18s\tremaining: 25.5s\n",
      "243:\tlearn: 1179.9271639\ttest: 1211.4636092\tbest: 1211.4636092 (243)\ttotal: 8.23s\tremaining: 25.5s\n",
      "244:\tlearn: 1179.6696289\ttest: 1211.3188504\tbest: 1211.3188504 (244)\ttotal: 8.27s\tremaining: 25.5s\n",
      "245:\tlearn: 1179.4117850\ttest: 1211.0864927\tbest: 1211.0864927 (245)\ttotal: 8.32s\tremaining: 25.5s\n",
      "246:\tlearn: 1179.0763501\ttest: 1210.8297418\tbest: 1210.8297418 (246)\ttotal: 8.36s\tremaining: 25.5s\n",
      "247:\tlearn: 1178.7266515\ttest: 1210.6391521\tbest: 1210.6391521 (247)\ttotal: 8.4s\tremaining: 25.5s\n",
      "248:\tlearn: 1178.5056800\ttest: 1210.5042906\tbest: 1210.5042906 (248)\ttotal: 8.45s\tremaining: 25.5s\n",
      "249:\tlearn: 1178.3309427\ttest: 1210.4325695\tbest: 1210.4325695 (249)\ttotal: 8.48s\tremaining: 25.5s\n",
      "250:\tlearn: 1178.1520468\ttest: 1210.3549779\tbest: 1210.3549779 (250)\ttotal: 8.53s\tremaining: 25.5s\n",
      "251:\tlearn: 1177.8943463\ttest: 1210.3141358\tbest: 1210.3141358 (251)\ttotal: 8.58s\tremaining: 25.5s\n",
      "252:\tlearn: 1177.6434262\ttest: 1210.0001532\tbest: 1210.0001532 (252)\ttotal: 8.61s\tremaining: 25.4s\n",
      "253:\tlearn: 1177.4507082\ttest: 1209.9354001\tbest: 1209.9354001 (253)\ttotal: 8.65s\tremaining: 25.4s\n",
      "254:\tlearn: 1177.3147700\ttest: 1209.8598357\tbest: 1209.8598357 (254)\ttotal: 8.69s\tremaining: 25.4s\n",
      "255:\tlearn: 1177.0386164\ttest: 1209.6752003\tbest: 1209.6752003 (255)\ttotal: 8.72s\tremaining: 25.3s\n",
      "256:\tlearn: 1176.8410983\ttest: 1209.4294795\tbest: 1209.4294795 (256)\ttotal: 8.76s\tremaining: 25.3s\n",
      "257:\tlearn: 1176.5428984\ttest: 1209.2185531\tbest: 1209.2185531 (257)\ttotal: 8.79s\tremaining: 25.3s\n"
     ]
    },
    {
     "name": "stdout",
     "output_type": "stream",
     "text": [
      "258:\tlearn: 1176.3997074\ttest: 1209.1502193\tbest: 1209.1502193 (258)\ttotal: 8.82s\tremaining: 25.3s\n",
      "259:\tlearn: 1176.1222136\ttest: 1209.0055843\tbest: 1209.0055843 (259)\ttotal: 8.85s\tremaining: 25.2s\n",
      "260:\tlearn: 1175.9348296\ttest: 1208.8665207\tbest: 1208.8665207 (260)\ttotal: 8.88s\tremaining: 25.2s\n",
      "261:\tlearn: 1175.7028259\ttest: 1208.6807234\tbest: 1208.6807234 (261)\ttotal: 8.91s\tremaining: 25.1s\n",
      "262:\tlearn: 1175.4126160\ttest: 1208.4460486\tbest: 1208.4460486 (262)\ttotal: 8.95s\tremaining: 25.1s\n",
      "263:\tlearn: 1175.2430578\ttest: 1208.3573786\tbest: 1208.3573786 (263)\ttotal: 8.98s\tremaining: 25s\n",
      "264:\tlearn: 1174.8977924\ttest: 1208.1310778\tbest: 1208.1310778 (264)\ttotal: 9.03s\tremaining: 25s\n",
      "265:\tlearn: 1174.6196369\ttest: 1207.9625680\tbest: 1207.9625680 (265)\ttotal: 9.06s\tremaining: 25s\n",
      "266:\tlearn: 1174.2368628\ttest: 1207.5935066\tbest: 1207.5935066 (266)\ttotal: 9.11s\tremaining: 25s\n",
      "267:\tlearn: 1174.1456761\ttest: 1207.5417178\tbest: 1207.5417178 (267)\ttotal: 9.14s\tremaining: 25s\n",
      "268:\tlearn: 1173.9332979\ttest: 1207.4399735\tbest: 1207.4399735 (268)\ttotal: 9.16s\tremaining: 24.9s\n",
      "269:\tlearn: 1173.7301761\ttest: 1207.3022700\tbest: 1207.3022700 (269)\ttotal: 9.2s\tremaining: 24.9s\n",
      "270:\tlearn: 1173.6785002\ttest: 1207.2494387\tbest: 1207.2494387 (270)\ttotal: 9.22s\tremaining: 24.8s\n",
      "271:\tlearn: 1173.4503384\ttest: 1207.0585176\tbest: 1207.0585176 (271)\ttotal: 9.25s\tremaining: 24.7s\n",
      "272:\tlearn: 1173.0601591\ttest: 1206.7327130\tbest: 1206.7327130 (272)\ttotal: 9.28s\tremaining: 24.7s\n",
      "273:\tlearn: 1172.8570114\ttest: 1206.6397192\tbest: 1206.6397192 (273)\ttotal: 9.32s\tremaining: 24.7s\n",
      "274:\tlearn: 1172.8344754\ttest: 1206.6212027\tbest: 1206.6212027 (274)\ttotal: 9.35s\tremaining: 24.6s\n",
      "275:\tlearn: 1172.7500924\ttest: 1206.5463690\tbest: 1206.5463690 (275)\ttotal: 9.38s\tremaining: 24.6s\n",
      "276:\tlearn: 1172.5935307\ttest: 1206.4965585\tbest: 1206.4965585 (276)\ttotal: 9.42s\tremaining: 24.6s\n",
      "277:\tlearn: 1172.3869156\ttest: 1206.3387722\tbest: 1206.3387722 (277)\ttotal: 9.45s\tremaining: 24.6s\n",
      "278:\tlearn: 1172.1458175\ttest: 1206.1506295\tbest: 1206.1506295 (278)\ttotal: 9.5s\tremaining: 24.5s\n",
      "279:\tlearn: 1171.9636933\ttest: 1206.1076185\tbest: 1206.1076185 (279)\ttotal: 9.55s\tremaining: 24.6s\n",
      "280:\tlearn: 1171.7879508\ttest: 1205.9366764\tbest: 1205.9366764 (280)\ttotal: 9.58s\tremaining: 24.5s\n",
      "281:\tlearn: 1171.6913560\ttest: 1205.9916557\tbest: 1205.9366764 (280)\ttotal: 9.62s\tremaining: 24.5s\n",
      "282:\tlearn: 1171.5700830\ttest: 1205.9136676\tbest: 1205.9136676 (282)\ttotal: 9.65s\tremaining: 24.4s\n",
      "283:\tlearn: 1171.4039754\ttest: 1205.7710675\tbest: 1205.7710675 (283)\ttotal: 9.66s\tremaining: 24.4s\n",
      "284:\tlearn: 1171.2147792\ttest: 1205.7229889\tbest: 1205.7229889 (284)\ttotal: 9.71s\tremaining: 24.4s\n",
      "285:\tlearn: 1170.8370627\ttest: 1205.4247699\tbest: 1205.4247699 (285)\ttotal: 9.75s\tremaining: 24.3s\n",
      "286:\tlearn: 1170.5529215\ttest: 1205.1280817\tbest: 1205.1280817 (286)\ttotal: 9.78s\tremaining: 24.3s\n",
      "287:\tlearn: 1170.4289679\ttest: 1205.0032711\tbest: 1205.0032711 (287)\ttotal: 9.81s\tremaining: 24.3s\n",
      "288:\tlearn: 1170.2447122\ttest: 1204.8973985\tbest: 1204.8973985 (288)\ttotal: 9.85s\tremaining: 24.2s\n",
      "289:\tlearn: 1169.9676246\ttest: 1204.7550918\tbest: 1204.7550918 (289)\ttotal: 9.89s\tremaining: 24.2s\n",
      "290:\tlearn: 1169.8050055\ttest: 1204.6933575\tbest: 1204.6933575 (290)\ttotal: 9.93s\tremaining: 24.2s\n",
      "291:\tlearn: 1169.5653168\ttest: 1204.4592772\tbest: 1204.4592772 (291)\ttotal: 9.97s\tremaining: 24.2s\n",
      "292:\tlearn: 1169.4421076\ttest: 1204.4337894\tbest: 1204.4337894 (292)\ttotal: 10s\tremaining: 24.2s\n",
      "293:\tlearn: 1169.2178649\ttest: 1204.2101631\tbest: 1204.2101631 (293)\ttotal: 10s\tremaining: 24.1s\n",
      "294:\tlearn: 1169.0718162\ttest: 1204.1606849\tbest: 1204.1606849 (294)\ttotal: 10.1s\tremaining: 24.1s\n",
      "295:\tlearn: 1168.7381787\ttest: 1203.8311991\tbest: 1203.8311991 (295)\ttotal: 10.1s\tremaining: 24.1s\n",
      "296:\tlearn: 1168.4438776\ttest: 1203.6236611\tbest: 1203.6236611 (296)\ttotal: 10.2s\tremaining: 24s\n",
      "297:\tlearn: 1168.3258754\ttest: 1203.5510329\tbest: 1203.5510329 (297)\ttotal: 10.2s\tremaining: 24s\n",
      "298:\tlearn: 1167.9634839\ttest: 1203.3009473\tbest: 1203.3009473 (298)\ttotal: 10.2s\tremaining: 23.9s\n",
      "299:\tlearn: 1167.7571491\ttest: 1203.1461706\tbest: 1203.1461706 (299)\ttotal: 10.3s\tremaining: 23.9s\n",
      "300:\tlearn: 1167.4890179\ttest: 1202.9425717\tbest: 1202.9425717 (300)\ttotal: 10.3s\tremaining: 23.9s\n",
      "301:\tlearn: 1167.3056163\ttest: 1202.8286354\tbest: 1202.8286354 (301)\ttotal: 10.3s\tremaining: 23.8s\n",
      "302:\tlearn: 1167.0613045\ttest: 1202.5019250\tbest: 1202.5019250 (302)\ttotal: 10.4s\tremaining: 23.8s\n",
      "303:\tlearn: 1166.7657328\ttest: 1202.3000657\tbest: 1202.3000657 (303)\ttotal: 10.4s\tremaining: 23.8s\n",
      "304:\tlearn: 1166.6545883\ttest: 1202.2516357\tbest: 1202.2516357 (304)\ttotal: 10.5s\tremaining: 23.8s\n",
      "305:\tlearn: 1166.4220097\ttest: 1202.0974095\tbest: 1202.0974095 (305)\ttotal: 10.5s\tremaining: 23.8s\n",
      "306:\tlearn: 1166.2928986\ttest: 1202.0099970\tbest: 1202.0099970 (306)\ttotal: 10.5s\tremaining: 23.8s\n",
      "307:\tlearn: 1166.1800712\ttest: 1201.9444570\tbest: 1201.9444570 (307)\ttotal: 10.6s\tremaining: 23.8s\n",
      "308:\tlearn: 1165.9495227\ttest: 1201.7624023\tbest: 1201.7624023 (308)\ttotal: 10.6s\tremaining: 23.7s\n",
      "309:\tlearn: 1165.8928353\ttest: 1201.6998949\tbest: 1201.6998949 (309)\ttotal: 10.6s\tremaining: 23.7s\n",
      "310:\tlearn: 1165.7665529\ttest: 1201.6691605\tbest: 1201.6691605 (310)\ttotal: 10.7s\tremaining: 23.7s\n",
      "311:\tlearn: 1165.6210860\ttest: 1201.6010277\tbest: 1201.6010277 (311)\ttotal: 10.7s\tremaining: 23.6s\n",
      "312:\tlearn: 1165.4916516\ttest: 1201.4884596\tbest: 1201.4884596 (312)\ttotal: 10.8s\tremaining: 23.6s\n",
      "313:\tlearn: 1165.2972121\ttest: 1201.3513112\tbest: 1201.3513112 (313)\ttotal: 10.8s\tremaining: 23.6s\n",
      "314:\tlearn: 1165.0607474\ttest: 1201.1260380\tbest: 1201.1260380 (314)\ttotal: 10.8s\tremaining: 23.5s\n",
      "315:\tlearn: 1164.9005217\ttest: 1200.9800304\tbest: 1200.9800304 (315)\ttotal: 10.9s\tremaining: 23.5s\n",
      "316:\tlearn: 1164.8234876\ttest: 1200.9001245\tbest: 1200.9001245 (316)\ttotal: 10.9s\tremaining: 23.5s\n",
      "317:\tlearn: 1164.5850463\ttest: 1200.7897098\tbest: 1200.7897098 (317)\ttotal: 10.9s\tremaining: 23.4s\n",
      "318:\tlearn: 1164.5062968\ttest: 1200.7663968\tbest: 1200.7663968 (318)\ttotal: 11s\tremaining: 23.4s\n",
      "319:\tlearn: 1164.3425051\ttest: 1200.6684210\tbest: 1200.6684210 (319)\ttotal: 11s\tremaining: 23.4s\n",
      "320:\tlearn: 1164.1804113\ttest: 1200.5777146\tbest: 1200.5777146 (320)\ttotal: 11s\tremaining: 23.4s\n",
      "321:\tlearn: 1164.0331887\ttest: 1200.4751711\tbest: 1200.4751711 (321)\ttotal: 11.1s\tremaining: 23.3s\n",
      "322:\tlearn: 1163.7480087\ttest: 1200.2643890\tbest: 1200.2643890 (322)\ttotal: 11.1s\tremaining: 23.3s\n",
      "323:\tlearn: 1163.5360013\ttest: 1200.1631697\tbest: 1200.1631697 (323)\ttotal: 11.2s\tremaining: 23.3s\n",
      "324:\tlearn: 1163.2812447\ttest: 1200.0123905\tbest: 1200.0123905 (324)\ttotal: 11.2s\tremaining: 23.3s\n",
      "325:\tlearn: 1163.0711994\ttest: 1199.7946047\tbest: 1199.7946047 (325)\ttotal: 11.2s\tremaining: 23.2s\n",
      "326:\tlearn: 1162.9983716\ttest: 1199.7277924\tbest: 1199.7277924 (326)\ttotal: 11.3s\tremaining: 23.2s\n",
      "327:\tlearn: 1162.9875615\ttest: 1199.7259989\tbest: 1199.7259989 (327)\ttotal: 11.3s\tremaining: 23.1s\n",
      "328:\tlearn: 1162.7703581\ttest: 1199.5886209\tbest: 1199.5886209 (328)\ttotal: 11.3s\tremaining: 23.1s\n",
      "329:\tlearn: 1162.6833945\ttest: 1199.5698440\tbest: 1199.5698440 (329)\ttotal: 11.4s\tremaining: 23.1s\n",
      "330:\tlearn: 1162.5306991\ttest: 1199.5135911\tbest: 1199.5135911 (330)\ttotal: 11.4s\tremaining: 23s\n",
      "331:\tlearn: 1162.2944654\ttest: 1199.3423977\tbest: 1199.3423977 (331)\ttotal: 11.4s\tremaining: 23s\n",
      "332:\tlearn: 1162.1294228\ttest: 1199.2126822\tbest: 1199.2126822 (332)\ttotal: 11.5s\tremaining: 23s\n",
      "333:\tlearn: 1162.1133660\ttest: 1199.2159850\tbest: 1199.2126822 (332)\ttotal: 11.5s\tremaining: 23s\n",
      "334:\tlearn: 1161.9972562\ttest: 1199.1554615\tbest: 1199.1554615 (334)\ttotal: 11.6s\tremaining: 22.9s\n",
      "335:\tlearn: 1161.9834469\ttest: 1199.1531275\tbest: 1199.1531275 (335)\ttotal: 11.6s\tremaining: 22.9s\n",
      "336:\tlearn: 1161.9084383\ttest: 1199.1159911\tbest: 1199.1159911 (336)\ttotal: 11.6s\tremaining: 22.9s\n",
      "337:\tlearn: 1161.7259030\ttest: 1199.0287848\tbest: 1199.0287848 (337)\ttotal: 11.7s\tremaining: 22.8s\n",
      "338:\tlearn: 1161.4251825\ttest: 1198.7932123\tbest: 1198.7932123 (338)\ttotal: 11.7s\tremaining: 22.8s\n",
      "339:\tlearn: 1161.2655188\ttest: 1198.6681455\tbest: 1198.6681455 (339)\ttotal: 11.7s\tremaining: 22.8s\n",
      "340:\tlearn: 1161.2443598\ttest: 1198.6710687\tbest: 1198.6681455 (339)\ttotal: 11.8s\tremaining: 22.8s\n",
      "341:\tlearn: 1161.2357020\ttest: 1198.6699143\tbest: 1198.6681455 (339)\ttotal: 11.8s\tremaining: 22.7s\n",
      "342:\tlearn: 1161.0266874\ttest: 1198.4866675\tbest: 1198.4866675 (342)\ttotal: 11.8s\tremaining: 22.6s\n",
      "343:\tlearn: 1160.8409802\ttest: 1198.3011164\tbest: 1198.3011164 (343)\ttotal: 11.8s\tremaining: 22.6s\n",
      "344:\tlearn: 1160.6481954\ttest: 1198.2073039\tbest: 1198.2073039 (344)\ttotal: 11.9s\tremaining: 22.6s\n"
     ]
    },
    {
     "name": "stdout",
     "output_type": "stream",
     "text": [
      "345:\tlearn: 1160.4986894\ttest: 1198.1679616\tbest: 1198.1679616 (345)\ttotal: 11.9s\tremaining: 22.6s\n",
      "346:\tlearn: 1160.3954428\ttest: 1198.1341488\tbest: 1198.1341488 (346)\ttotal: 12s\tremaining: 22.5s\n",
      "347:\tlearn: 1160.2879242\ttest: 1198.0557360\tbest: 1198.0557360 (347)\ttotal: 12s\tremaining: 22.5s\n",
      "348:\tlearn: 1160.0780378\ttest: 1197.8497036\tbest: 1197.8497036 (348)\ttotal: 12s\tremaining: 22.5s\n",
      "349:\tlearn: 1159.8857671\ttest: 1197.6958220\tbest: 1197.6958220 (349)\ttotal: 12.1s\tremaining: 22.4s\n",
      "350:\tlearn: 1159.8818330\ttest: 1197.7085721\tbest: 1197.6958220 (349)\ttotal: 12.1s\tremaining: 22.4s\n",
      "351:\tlearn: 1159.6800175\ttest: 1197.6427158\tbest: 1197.6427158 (351)\ttotal: 12.1s\tremaining: 22.4s\n",
      "352:\tlearn: 1159.5831967\ttest: 1197.6076184\tbest: 1197.6076184 (352)\ttotal: 12.2s\tremaining: 22.3s\n",
      "353:\tlearn: 1159.3255546\ttest: 1197.3720600\tbest: 1197.3720600 (353)\ttotal: 12.2s\tremaining: 22.3s\n",
      "354:\tlearn: 1159.1163990\ttest: 1197.3301315\tbest: 1197.3301315 (354)\ttotal: 12.2s\tremaining: 22.2s\n",
      "355:\tlearn: 1159.0405247\ttest: 1197.2618283\tbest: 1197.2618283 (355)\ttotal: 12.3s\tremaining: 22.2s\n",
      "356:\tlearn: 1158.9716025\ttest: 1197.2429527\tbest: 1197.2429527 (356)\ttotal: 12.3s\tremaining: 22.1s\n",
      "357:\tlearn: 1158.7517427\ttest: 1197.1034747\tbest: 1197.1034747 (357)\ttotal: 12.3s\tremaining: 22.1s\n",
      "358:\tlearn: 1158.5832627\ttest: 1196.9959060\tbest: 1196.9959060 (358)\ttotal: 12.4s\tremaining: 22.1s\n",
      "359:\tlearn: 1158.3579297\ttest: 1196.7736603\tbest: 1196.7736603 (359)\ttotal: 12.4s\tremaining: 22.1s\n",
      "360:\tlearn: 1158.2038240\ttest: 1196.6719228\tbest: 1196.6719228 (360)\ttotal: 12.4s\tremaining: 22s\n",
      "361:\tlearn: 1158.0046726\ttest: 1196.5309114\tbest: 1196.5309114 (361)\ttotal: 12.5s\tremaining: 22s\n",
      "362:\tlearn: 1157.8240498\ttest: 1196.3410122\tbest: 1196.3410122 (362)\ttotal: 12.5s\tremaining: 22s\n",
      "363:\tlearn: 1157.6515179\ttest: 1196.1894221\tbest: 1196.1894221 (363)\ttotal: 12.6s\tremaining: 22s\n",
      "364:\tlearn: 1157.5764771\ttest: 1196.1476876\tbest: 1196.1476876 (364)\ttotal: 12.6s\tremaining: 22s\n",
      "365:\tlearn: 1157.4099045\ttest: 1196.0422517\tbest: 1196.0422517 (365)\ttotal: 12.7s\tremaining: 21.9s\n",
      "366:\tlearn: 1157.2623171\ttest: 1195.9995511\tbest: 1195.9995511 (366)\ttotal: 12.7s\tremaining: 21.9s\n",
      "367:\tlearn: 1157.0453473\ttest: 1195.8533769\tbest: 1195.8533769 (367)\ttotal: 12.7s\tremaining: 21.9s\n",
      "368:\tlearn: 1156.8163019\ttest: 1195.6806057\tbest: 1195.6806057 (368)\ttotal: 12.8s\tremaining: 21.9s\n",
      "369:\tlearn: 1156.6919333\ttest: 1195.5848260\tbest: 1195.5848260 (369)\ttotal: 12.8s\tremaining: 21.8s\n",
      "370:\tlearn: 1156.5073432\ttest: 1195.4284555\tbest: 1195.4284555 (370)\ttotal: 12.9s\tremaining: 21.8s\n",
      "371:\tlearn: 1156.3199750\ttest: 1195.2720981\tbest: 1195.2720981 (371)\ttotal: 12.9s\tremaining: 21.8s\n",
      "372:\tlearn: 1156.1406848\ttest: 1195.1468561\tbest: 1195.1468561 (372)\ttotal: 12.9s\tremaining: 21.8s\n",
      "373:\tlearn: 1156.0378724\ttest: 1195.1189491\tbest: 1195.1189491 (373)\ttotal: 13s\tremaining: 21.7s\n",
      "374:\tlearn: 1155.8979843\ttest: 1194.9765929\tbest: 1194.9765929 (374)\ttotal: 13s\tremaining: 21.7s\n",
      "375:\tlearn: 1155.7425600\ttest: 1194.8466410\tbest: 1194.8466410 (375)\ttotal: 13.1s\tremaining: 21.7s\n",
      "376:\tlearn: 1155.5231014\ttest: 1194.6976401\tbest: 1194.6976401 (376)\ttotal: 13.1s\tremaining: 21.7s\n",
      "377:\tlearn: 1155.4063233\ttest: 1194.5863879\tbest: 1194.5863879 (377)\ttotal: 13.2s\tremaining: 21.7s\n",
      "378:\tlearn: 1155.2688577\ttest: 1194.4288193\tbest: 1194.4288193 (378)\ttotal: 13.2s\tremaining: 21.6s\n",
      "379:\tlearn: 1155.2117857\ttest: 1194.3847043\tbest: 1194.3847043 (379)\ttotal: 13.2s\tremaining: 21.6s\n",
      "380:\tlearn: 1155.1316192\ttest: 1194.3360576\tbest: 1194.3360576 (380)\ttotal: 13.3s\tremaining: 21.6s\n",
      "381:\tlearn: 1155.0266854\ttest: 1194.2672983\tbest: 1194.2672983 (381)\ttotal: 13.3s\tremaining: 21.5s\n",
      "382:\tlearn: 1154.9346769\ttest: 1194.1855412\tbest: 1194.1855412 (382)\ttotal: 13.3s\tremaining: 21.4s\n",
      "383:\tlearn: 1154.8223238\ttest: 1194.2047358\tbest: 1194.1855412 (382)\ttotal: 13.4s\tremaining: 21.4s\n",
      "384:\tlearn: 1154.7609170\ttest: 1194.1694701\tbest: 1194.1694701 (384)\ttotal: 13.4s\tremaining: 21.4s\n",
      "385:\tlearn: 1154.5782735\ttest: 1194.0782147\tbest: 1194.0782147 (385)\ttotal: 13.4s\tremaining: 21.4s\n",
      "386:\tlearn: 1154.4601165\ttest: 1193.9757771\tbest: 1193.9757771 (386)\ttotal: 13.5s\tremaining: 21.3s\n",
      "387:\tlearn: 1154.3170007\ttest: 1193.8277521\tbest: 1193.8277521 (387)\ttotal: 13.5s\tremaining: 21.3s\n",
      "388:\tlearn: 1154.1292382\ttest: 1193.7214853\tbest: 1193.7214853 (388)\ttotal: 13.6s\tremaining: 21.3s\n",
      "389:\tlearn: 1153.9603550\ttest: 1193.6115962\tbest: 1193.6115962 (389)\ttotal: 13.6s\tremaining: 21.2s\n",
      "390:\tlearn: 1153.7987539\ttest: 1193.6088928\tbest: 1193.6088928 (390)\ttotal: 13.6s\tremaining: 21.2s\n",
      "391:\tlearn: 1153.6667524\ttest: 1193.5942327\tbest: 1193.5942327 (391)\ttotal: 13.6s\tremaining: 21.2s\n",
      "392:\tlearn: 1153.6072770\ttest: 1193.5234869\tbest: 1193.5234869 (392)\ttotal: 13.7s\tremaining: 21.1s\n",
      "393:\tlearn: 1153.4541932\ttest: 1193.4787776\tbest: 1193.4787776 (393)\ttotal: 13.7s\tremaining: 21.1s\n",
      "394:\tlearn: 1153.1993346\ttest: 1193.1900988\tbest: 1193.1900988 (394)\ttotal: 13.8s\tremaining: 21.1s\n",
      "395:\tlearn: 1153.1704346\ttest: 1193.1744309\tbest: 1193.1744309 (395)\ttotal: 13.8s\tremaining: 21s\n",
      "396:\tlearn: 1153.0427793\ttest: 1193.0571944\tbest: 1193.0571944 (396)\ttotal: 13.8s\tremaining: 21s\n",
      "397:\tlearn: 1152.9734086\ttest: 1192.9786897\tbest: 1192.9786897 (397)\ttotal: 13.9s\tremaining: 21s\n",
      "398:\tlearn: 1152.8625511\ttest: 1192.9161372\tbest: 1192.9161372 (398)\ttotal: 13.9s\tremaining: 20.9s\n",
      "399:\tlearn: 1152.7624317\ttest: 1192.8681021\tbest: 1192.8681021 (399)\ttotal: 13.9s\tremaining: 20.9s\n",
      "400:\tlearn: 1152.7163507\ttest: 1192.8315536\tbest: 1192.8315536 (400)\ttotal: 14s\tremaining: 20.8s\n",
      "401:\tlearn: 1152.5480814\ttest: 1192.8218137\tbest: 1192.8218137 (401)\ttotal: 14s\tremaining: 20.8s\n",
      "402:\tlearn: 1152.4573372\ttest: 1192.7250646\tbest: 1192.7250646 (402)\ttotal: 14s\tremaining: 20.8s\n",
      "403:\tlearn: 1152.2987514\ttest: 1192.6561665\tbest: 1192.6561665 (403)\ttotal: 14.1s\tremaining: 20.7s\n",
      "404:\tlearn: 1152.2029806\ttest: 1192.6195412\tbest: 1192.6195412 (404)\ttotal: 14.1s\tremaining: 20.7s\n",
      "405:\tlearn: 1152.1688650\ttest: 1192.6309872\tbest: 1192.6195412 (404)\ttotal: 14.1s\tremaining: 20.7s\n",
      "406:\tlearn: 1152.0914447\ttest: 1192.5866815\tbest: 1192.5866815 (406)\ttotal: 14.2s\tremaining: 20.6s\n",
      "407:\tlearn: 1152.0348543\ttest: 1192.5815602\tbest: 1192.5815602 (407)\ttotal: 14.2s\tremaining: 20.6s\n",
      "408:\tlearn: 1151.9562827\ttest: 1192.5646040\tbest: 1192.5646040 (408)\ttotal: 14.2s\tremaining: 20.6s\n",
      "409:\tlearn: 1151.8619559\ttest: 1192.5090871\tbest: 1192.5090871 (409)\ttotal: 14.3s\tremaining: 20.5s\n",
      "410:\tlearn: 1151.7282457\ttest: 1192.4543288\tbest: 1192.4543288 (410)\ttotal: 14.3s\tremaining: 20.5s\n",
      "411:\tlearn: 1151.6161674\ttest: 1192.3736138\tbest: 1192.3736138 (411)\ttotal: 14.3s\tremaining: 20.5s\n",
      "412:\tlearn: 1151.4588781\ttest: 1192.2911522\tbest: 1192.2911522 (412)\ttotal: 14.4s\tremaining: 20.4s\n",
      "413:\tlearn: 1151.2688069\ttest: 1192.1863004\tbest: 1192.1863004 (413)\ttotal: 14.4s\tremaining: 20.4s\n",
      "414:\tlearn: 1151.1406384\ttest: 1192.0811285\tbest: 1192.0811285 (414)\ttotal: 14.5s\tremaining: 20.4s\n",
      "415:\tlearn: 1150.9474944\ttest: 1191.9743180\tbest: 1191.9743180 (415)\ttotal: 14.5s\tremaining: 20.4s\n",
      "416:\tlearn: 1150.7692878\ttest: 1191.8265218\tbest: 1191.8265218 (416)\ttotal: 14.6s\tremaining: 20.4s\n",
      "417:\tlearn: 1150.6350765\ttest: 1191.7722123\tbest: 1191.7722123 (417)\ttotal: 14.6s\tremaining: 20.3s\n",
      "418:\tlearn: 1150.4490874\ttest: 1191.6270297\tbest: 1191.6270297 (418)\ttotal: 14.7s\tremaining: 20.3s\n",
      "419:\tlearn: 1150.3033723\ttest: 1191.5901285\tbest: 1191.5901285 (419)\ttotal: 14.7s\tremaining: 20.3s\n",
      "420:\tlearn: 1150.2198643\ttest: 1191.5547735\tbest: 1191.5547735 (420)\ttotal: 14.7s\tremaining: 20.3s\n",
      "421:\tlearn: 1150.0093759\ttest: 1191.4249952\tbest: 1191.4249952 (421)\ttotal: 14.8s\tremaining: 20.2s\n",
      "422:\tlearn: 1149.8471888\ttest: 1191.3036469\tbest: 1191.3036469 (422)\ttotal: 14.8s\tremaining: 20.2s\n",
      "423:\tlearn: 1149.7259232\ttest: 1191.2460024\tbest: 1191.2460024 (423)\ttotal: 14.9s\tremaining: 20.2s\n",
      "424:\tlearn: 1149.6086236\ttest: 1191.1299213\tbest: 1191.1299213 (424)\ttotal: 14.9s\tremaining: 20.1s\n",
      "425:\tlearn: 1149.4846666\ttest: 1191.0912702\tbest: 1191.0912702 (425)\ttotal: 14.9s\tremaining: 20.1s\n",
      "426:\tlearn: 1149.4169079\ttest: 1191.0751793\tbest: 1191.0751793 (426)\ttotal: 15s\tremaining: 20.1s\n",
      "427:\tlearn: 1149.2940841\ttest: 1191.0093440\tbest: 1191.0093440 (427)\ttotal: 15s\tremaining: 20.1s\n",
      "428:\tlearn: 1149.2223193\ttest: 1190.9789462\tbest: 1190.9789462 (428)\ttotal: 15s\tremaining: 20s\n",
      "429:\tlearn: 1149.0458138\ttest: 1190.9000053\tbest: 1190.9000053 (429)\ttotal: 15.1s\tremaining: 20s\n",
      "430:\tlearn: 1149.0085714\ttest: 1190.8836614\tbest: 1190.8836614 (430)\ttotal: 15.1s\tremaining: 20s\n"
     ]
    },
    {
     "name": "stdout",
     "output_type": "stream",
     "text": [
      "431:\tlearn: 1148.8709584\ttest: 1190.7828249\tbest: 1190.7828249 (431)\ttotal: 15.2s\tremaining: 19.9s\n",
      "432:\tlearn: 1148.6217948\ttest: 1190.5589993\tbest: 1190.5589993 (432)\ttotal: 15.2s\tremaining: 19.9s\n",
      "433:\tlearn: 1148.5266959\ttest: 1190.4566687\tbest: 1190.4566687 (433)\ttotal: 15.2s\tremaining: 19.9s\n",
      "434:\tlearn: 1148.3363275\ttest: 1190.3842168\tbest: 1190.3842168 (434)\ttotal: 15.3s\tremaining: 19.8s\n",
      "435:\tlearn: 1148.2300546\ttest: 1190.3164254\tbest: 1190.3164254 (435)\ttotal: 15.3s\tremaining: 19.8s\n",
      "436:\tlearn: 1148.0924870\ttest: 1190.2659456\tbest: 1190.2659456 (436)\ttotal: 15.3s\tremaining: 19.8s\n",
      "437:\tlearn: 1147.9546505\ttest: 1190.1621073\tbest: 1190.1621073 (437)\ttotal: 15.4s\tremaining: 19.7s\n",
      "438:\tlearn: 1147.8587955\ttest: 1190.0806841\tbest: 1190.0806841 (438)\ttotal: 15.4s\tremaining: 19.7s\n",
      "439:\tlearn: 1147.7681293\ttest: 1190.0028113\tbest: 1190.0028113 (439)\ttotal: 15.5s\tremaining: 19.7s\n",
      "440:\tlearn: 1147.7358582\ttest: 1189.9876712\tbest: 1189.9876712 (440)\ttotal: 15.5s\tremaining: 19.6s\n",
      "441:\tlearn: 1147.6379244\ttest: 1189.9355290\tbest: 1189.9355290 (441)\ttotal: 15.5s\tremaining: 19.6s\n",
      "442:\tlearn: 1147.3449643\ttest: 1189.6959230\tbest: 1189.6959230 (442)\ttotal: 15.6s\tremaining: 19.6s\n",
      "443:\tlearn: 1147.2491562\ttest: 1189.6200874\tbest: 1189.6200874 (443)\ttotal: 15.6s\tremaining: 19.6s\n",
      "444:\tlearn: 1147.1422635\ttest: 1189.5323418\tbest: 1189.5323418 (444)\ttotal: 15.7s\tremaining: 19.5s\n",
      "445:\tlearn: 1147.0755476\ttest: 1189.4685582\tbest: 1189.4685582 (445)\ttotal: 15.7s\tremaining: 19.5s\n",
      "446:\tlearn: 1146.9503275\ttest: 1189.3593894\tbest: 1189.3593894 (446)\ttotal: 15.7s\tremaining: 19.5s\n",
      "447:\tlearn: 1146.7551789\ttest: 1189.2207042\tbest: 1189.2207042 (447)\ttotal: 15.8s\tremaining: 19.4s\n",
      "448:\tlearn: 1146.7379305\ttest: 1189.2100209\tbest: 1189.2100209 (448)\ttotal: 15.8s\tremaining: 19.4s\n",
      "449:\tlearn: 1146.5639645\ttest: 1189.1446225\tbest: 1189.1446225 (449)\ttotal: 15.9s\tremaining: 19.4s\n",
      "450:\tlearn: 1146.5209804\ttest: 1189.1365607\tbest: 1189.1365607 (450)\ttotal: 15.9s\tremaining: 19.3s\n",
      "451:\tlearn: 1146.4094351\ttest: 1189.0626197\tbest: 1189.0626197 (451)\ttotal: 15.9s\tremaining: 19.3s\n",
      "452:\tlearn: 1146.3756161\ttest: 1188.9991984\tbest: 1188.9991984 (452)\ttotal: 16s\tremaining: 19.3s\n",
      "453:\tlearn: 1146.2615091\ttest: 1188.9478005\tbest: 1188.9478005 (453)\ttotal: 16s\tremaining: 19.3s\n",
      "454:\tlearn: 1146.0832532\ttest: 1188.7792272\tbest: 1188.7792272 (454)\ttotal: 16.1s\tremaining: 19.2s\n",
      "455:\tlearn: 1145.9728406\ttest: 1188.6978603\tbest: 1188.6978603 (455)\ttotal: 16.1s\tremaining: 19.2s\n",
      "456:\tlearn: 1145.8375776\ttest: 1188.6236342\tbest: 1188.6236342 (456)\ttotal: 16.1s\tremaining: 19.1s\n",
      "457:\tlearn: 1145.6224671\ttest: 1188.4406735\tbest: 1188.4406735 (457)\ttotal: 16.2s\tremaining: 19.1s\n",
      "458:\tlearn: 1145.5252093\ttest: 1188.4096234\tbest: 1188.4096234 (458)\ttotal: 16.2s\tremaining: 19.1s\n",
      "459:\tlearn: 1145.3313118\ttest: 1188.2408823\tbest: 1188.2408823 (459)\ttotal: 16.2s\tremaining: 19s\n",
      "460:\tlearn: 1145.0822151\ttest: 1188.0313070\tbest: 1188.0313070 (460)\ttotal: 16.2s\tremaining: 19s\n",
      "461:\tlearn: 1144.9521853\ttest: 1187.8973103\tbest: 1187.8973103 (461)\ttotal: 16.3s\tremaining: 18.9s\n",
      "462:\tlearn: 1144.8108644\ttest: 1187.8764363\tbest: 1187.8764363 (462)\ttotal: 16.3s\tremaining: 18.9s\n",
      "463:\tlearn: 1144.6705893\ttest: 1187.7958519\tbest: 1187.7958519 (463)\ttotal: 16.3s\tremaining: 18.9s\n",
      "464:\tlearn: 1144.5048870\ttest: 1187.6048516\tbest: 1187.6048516 (464)\ttotal: 16.4s\tremaining: 18.8s\n",
      "465:\tlearn: 1144.4571876\ttest: 1187.5904361\tbest: 1187.5904361 (465)\ttotal: 16.4s\tremaining: 18.8s\n",
      "466:\tlearn: 1144.3999995\ttest: 1187.5518901\tbest: 1187.5518901 (466)\ttotal: 16.5s\tremaining: 18.8s\n",
      "467:\tlearn: 1144.2816944\ttest: 1187.5281830\tbest: 1187.5281830 (467)\ttotal: 16.5s\tremaining: 18.8s\n",
      "468:\tlearn: 1144.1866225\ttest: 1187.5467008\tbest: 1187.5281830 (467)\ttotal: 16.5s\tremaining: 18.7s\n",
      "469:\tlearn: 1144.0886109\ttest: 1187.5442513\tbest: 1187.5281830 (467)\ttotal: 16.6s\tremaining: 18.7s\n",
      "470:\tlearn: 1144.0475771\ttest: 1187.5264411\tbest: 1187.5264411 (470)\ttotal: 16.6s\tremaining: 18.7s\n",
      "471:\tlearn: 1144.0063320\ttest: 1187.5124675\tbest: 1187.5124675 (471)\ttotal: 16.7s\tremaining: 18.6s\n",
      "472:\tlearn: 1143.8565349\ttest: 1187.3869712\tbest: 1187.3869712 (472)\ttotal: 16.7s\tremaining: 18.6s\n",
      "473:\tlearn: 1143.7222125\ttest: 1187.2889116\tbest: 1187.2889116 (473)\ttotal: 16.7s\tremaining: 18.6s\n",
      "474:\tlearn: 1143.6443373\ttest: 1187.2594114\tbest: 1187.2594114 (474)\ttotal: 16.8s\tremaining: 18.5s\n",
      "475:\tlearn: 1143.6051219\ttest: 1187.2469214\tbest: 1187.2469214 (475)\ttotal: 16.8s\tremaining: 18.5s\n",
      "476:\tlearn: 1143.5369790\ttest: 1187.2504200\tbest: 1187.2469214 (475)\ttotal: 16.8s\tremaining: 18.5s\n",
      "477:\tlearn: 1143.5324142\ttest: 1187.2486765\tbest: 1187.2469214 (475)\ttotal: 16.9s\tremaining: 18.4s\n",
      "478:\tlearn: 1143.4404141\ttest: 1187.2339843\tbest: 1187.2339843 (478)\ttotal: 16.9s\tremaining: 18.4s\n",
      "479:\tlearn: 1143.2309826\ttest: 1187.1045583\tbest: 1187.1045583 (479)\ttotal: 16.9s\tremaining: 18.4s\n",
      "480:\tlearn: 1143.1427222\ttest: 1187.0498630\tbest: 1187.0498630 (480)\ttotal: 17s\tremaining: 18.3s\n",
      "481:\tlearn: 1142.9272044\ttest: 1186.8495187\tbest: 1186.8495187 (481)\ttotal: 17s\tremaining: 18.3s\n",
      "482:\tlearn: 1142.8604627\ttest: 1186.8260422\tbest: 1186.8260422 (482)\ttotal: 17.1s\tremaining: 18.3s\n",
      "483:\tlearn: 1142.7548133\ttest: 1186.8081569\tbest: 1186.8081569 (483)\ttotal: 17.1s\tremaining: 18.2s\n",
      "484:\tlearn: 1142.6811029\ttest: 1186.7619202\tbest: 1186.7619202 (484)\ttotal: 17.2s\tremaining: 18.2s\n",
      "485:\tlearn: 1142.5786559\ttest: 1186.7032988\tbest: 1186.7032988 (485)\ttotal: 17.2s\tremaining: 18.2s\n",
      "486:\tlearn: 1142.4917153\ttest: 1186.6886240\tbest: 1186.6886240 (486)\ttotal: 17.2s\tremaining: 18.2s\n",
      "487:\tlearn: 1142.4710473\ttest: 1186.6780096\tbest: 1186.6780096 (487)\ttotal: 17.3s\tremaining: 18.1s\n",
      "488:\tlearn: 1142.4132282\ttest: 1186.6768688\tbest: 1186.6768688 (488)\ttotal: 17.3s\tremaining: 18.1s\n",
      "489:\tlearn: 1142.3686419\ttest: 1186.6852836\tbest: 1186.6768688 (488)\ttotal: 17.3s\tremaining: 18s\n",
      "490:\tlearn: 1142.3103984\ttest: 1186.7061986\tbest: 1186.6768688 (488)\ttotal: 17.4s\tremaining: 18s\n",
      "491:\tlearn: 1142.1309944\ttest: 1186.5690467\tbest: 1186.5690467 (491)\ttotal: 17.4s\tremaining: 18s\n",
      "492:\tlearn: 1142.1002791\ttest: 1186.5521586\tbest: 1186.5521586 (492)\ttotal: 17.5s\tremaining: 18s\n",
      "493:\tlearn: 1141.9683422\ttest: 1186.4693911\tbest: 1186.4693911 (493)\ttotal: 17.5s\tremaining: 17.9s\n",
      "494:\tlearn: 1141.8647335\ttest: 1186.4475666\tbest: 1186.4475666 (494)\ttotal: 17.5s\tremaining: 17.9s\n",
      "495:\tlearn: 1141.7631131\ttest: 1186.3978149\tbest: 1186.3978149 (495)\ttotal: 17.6s\tremaining: 17.9s\n",
      "496:\tlearn: 1141.5864205\ttest: 1186.2872928\tbest: 1186.2872928 (496)\ttotal: 17.6s\tremaining: 17.9s\n",
      "497:\tlearn: 1141.4777283\ttest: 1186.2200076\tbest: 1186.2200076 (497)\ttotal: 17.7s\tremaining: 17.8s\n",
      "498:\tlearn: 1141.4083669\ttest: 1186.1361218\tbest: 1186.1361218 (498)\ttotal: 17.7s\tremaining: 17.8s\n",
      "499:\tlearn: 1141.3658317\ttest: 1186.1528162\tbest: 1186.1361218 (498)\ttotal: 17.8s\tremaining: 17.8s\n",
      "500:\tlearn: 1141.1426221\ttest: 1186.0467469\tbest: 1186.0467469 (500)\ttotal: 17.8s\tremaining: 17.7s\n",
      "501:\tlearn: 1141.0981713\ttest: 1186.0342525\tbest: 1186.0342525 (501)\ttotal: 17.8s\tremaining: 17.7s\n",
      "502:\tlearn: 1141.0121766\ttest: 1186.0226766\tbest: 1186.0226766 (502)\ttotal: 17.9s\tremaining: 17.6s\n",
      "503:\tlearn: 1141.0050456\ttest: 1186.0176633\tbest: 1186.0176633 (503)\ttotal: 17.9s\tremaining: 17.6s\n",
      "504:\tlearn: 1140.9081049\ttest: 1185.9800554\tbest: 1185.9800554 (504)\ttotal: 17.9s\tremaining: 17.6s\n",
      "505:\tlearn: 1140.7886004\ttest: 1185.9286567\tbest: 1185.9286567 (505)\ttotal: 18s\tremaining: 17.5s\n",
      "506:\tlearn: 1140.5551266\ttest: 1185.8009991\tbest: 1185.8009991 (506)\ttotal: 18s\tremaining: 17.5s\n",
      "507:\tlearn: 1140.4574408\ttest: 1185.8808476\tbest: 1185.8009991 (506)\ttotal: 18s\tremaining: 17.5s\n",
      "508:\tlearn: 1140.3492438\ttest: 1185.7902835\tbest: 1185.7902835 (508)\ttotal: 18.1s\tremaining: 17.4s\n",
      "509:\tlearn: 1140.1649990\ttest: 1185.6531938\tbest: 1185.6531938 (509)\ttotal: 18.1s\tremaining: 17.4s\n",
      "510:\tlearn: 1140.0919228\ttest: 1185.6121118\tbest: 1185.6121118 (510)\ttotal: 18.1s\tremaining: 17.4s\n",
      "511:\tlearn: 1139.9625633\ttest: 1185.5976209\tbest: 1185.5976209 (511)\ttotal: 18.2s\tremaining: 17.3s\n",
      "512:\tlearn: 1139.9360100\ttest: 1185.5973868\tbest: 1185.5973868 (512)\ttotal: 18.2s\tremaining: 17.3s\n",
      "513:\tlearn: 1139.6886759\ttest: 1185.4863394\tbest: 1185.4863394 (513)\ttotal: 18.3s\tremaining: 17.3s\n",
      "514:\tlearn: 1139.5931533\ttest: 1185.4519269\tbest: 1185.4519269 (514)\ttotal: 18.3s\tremaining: 17.2s\n",
      "515:\tlearn: 1139.4344360\ttest: 1185.3373196\tbest: 1185.3373196 (515)\ttotal: 18.3s\tremaining: 17.2s\n",
      "516:\tlearn: 1139.3368205\ttest: 1185.2924168\tbest: 1185.2924168 (516)\ttotal: 18.4s\tremaining: 17.2s\n",
      "517:\tlearn: 1139.2302257\ttest: 1185.2400860\tbest: 1185.2400860 (517)\ttotal: 18.4s\tremaining: 17.1s\n"
     ]
    },
    {
     "name": "stdout",
     "output_type": "stream",
     "text": [
      "518:\tlearn: 1139.1340778\ttest: 1185.2173346\tbest: 1185.2173346 (518)\ttotal: 18.4s\tremaining: 17.1s\n",
      "519:\tlearn: 1139.0554270\ttest: 1185.1588072\tbest: 1185.1588072 (519)\ttotal: 18.5s\tremaining: 17.1s\n",
      "520:\tlearn: 1138.8868762\ttest: 1185.1408444\tbest: 1185.1408444 (520)\ttotal: 18.5s\tremaining: 17s\n",
      "521:\tlearn: 1138.7638656\ttest: 1185.0153970\tbest: 1185.0153970 (521)\ttotal: 18.6s\tremaining: 17s\n",
      "522:\tlearn: 1138.7275004\ttest: 1185.0007552\tbest: 1185.0007552 (522)\ttotal: 18.6s\tremaining: 17s\n",
      "523:\tlearn: 1138.6043408\ttest: 1184.9559099\tbest: 1184.9559099 (523)\ttotal: 18.6s\tremaining: 16.9s\n",
      "524:\tlearn: 1138.4398677\ttest: 1184.9030661\tbest: 1184.9030661 (524)\ttotal: 18.7s\tremaining: 16.9s\n",
      "525:\tlearn: 1138.4167547\ttest: 1184.8917021\tbest: 1184.8917021 (525)\ttotal: 18.7s\tremaining: 16.9s\n",
      "526:\tlearn: 1138.3737551\ttest: 1184.8720358\tbest: 1184.8720358 (526)\ttotal: 18.8s\tremaining: 16.8s\n",
      "527:\tlearn: 1138.3238699\ttest: 1184.8228554\tbest: 1184.8228554 (527)\ttotal: 18.8s\tremaining: 16.8s\n",
      "528:\tlearn: 1138.2729786\ttest: 1184.7891447\tbest: 1184.7891447 (528)\ttotal: 18.8s\tremaining: 16.8s\n",
      "529:\tlearn: 1138.2494658\ttest: 1184.7865281\tbest: 1184.7865281 (529)\ttotal: 18.9s\tremaining: 16.7s\n",
      "530:\tlearn: 1138.2046667\ttest: 1184.7827662\tbest: 1184.7827662 (530)\ttotal: 18.9s\tremaining: 16.7s\n",
      "531:\tlearn: 1138.1842901\ttest: 1184.7779472\tbest: 1184.7779472 (531)\ttotal: 19s\tremaining: 16.7s\n",
      "532:\tlearn: 1138.0382004\ttest: 1184.7604659\tbest: 1184.7604659 (532)\ttotal: 19s\tremaining: 16.7s\n",
      "533:\tlearn: 1137.9584229\ttest: 1184.7328101\tbest: 1184.7328101 (533)\ttotal: 19.1s\tremaining: 16.6s\n",
      "534:\tlearn: 1137.7940493\ttest: 1184.6396317\tbest: 1184.6396317 (534)\ttotal: 19.1s\tremaining: 16.6s\n",
      "535:\tlearn: 1137.6502812\ttest: 1184.5180759\tbest: 1184.5180759 (535)\ttotal: 19.1s\tremaining: 16.6s\n",
      "536:\tlearn: 1137.5788911\ttest: 1184.4813373\tbest: 1184.4813373 (536)\ttotal: 19.2s\tremaining: 16.5s\n",
      "537:\tlearn: 1137.4085881\ttest: 1184.3288395\tbest: 1184.3288395 (537)\ttotal: 19.2s\tremaining: 16.5s\n",
      "538:\tlearn: 1137.3650282\ttest: 1184.2971688\tbest: 1184.2971688 (538)\ttotal: 19.2s\tremaining: 16.4s\n",
      "539:\tlearn: 1137.2616449\ttest: 1184.2552320\tbest: 1184.2552320 (539)\ttotal: 19.2s\tremaining: 16.4s\n",
      "540:\tlearn: 1137.1811839\ttest: 1184.2461486\tbest: 1184.2461486 (540)\ttotal: 19.3s\tremaining: 16.4s\n",
      "541:\tlearn: 1137.1318596\ttest: 1184.2324497\tbest: 1184.2324497 (541)\ttotal: 19.3s\tremaining: 16.3s\n",
      "542:\tlearn: 1137.0416434\ttest: 1184.2496749\tbest: 1184.2324497 (541)\ttotal: 19.4s\tremaining: 16.3s\n",
      "543:\tlearn: 1137.0104496\ttest: 1184.2374806\tbest: 1184.2324497 (541)\ttotal: 19.4s\tremaining: 16.3s\n",
      "544:\tlearn: 1136.9345122\ttest: 1184.1889695\tbest: 1184.1889695 (544)\ttotal: 19.5s\tremaining: 16.2s\n",
      "545:\tlearn: 1136.8349121\ttest: 1184.1584840\tbest: 1184.1584840 (545)\ttotal: 19.5s\tremaining: 16.2s\n",
      "546:\tlearn: 1136.7172550\ttest: 1184.1519069\tbest: 1184.1519069 (546)\ttotal: 19.5s\tremaining: 16.2s\n",
      "547:\tlearn: 1136.7030709\ttest: 1184.1485085\tbest: 1184.1485085 (547)\ttotal: 19.6s\tremaining: 16.2s\n",
      "548:\tlearn: 1136.6126116\ttest: 1184.0993446\tbest: 1184.0993446 (548)\ttotal: 19.6s\tremaining: 16.1s\n",
      "549:\tlearn: 1136.5378059\ttest: 1184.0472327\tbest: 1184.0472327 (549)\ttotal: 19.7s\tremaining: 16.1s\n",
      "550:\tlearn: 1136.4737636\ttest: 1184.0262188\tbest: 1184.0262188 (550)\ttotal: 19.7s\tremaining: 16.1s\n",
      "551:\tlearn: 1136.4205521\ttest: 1184.0077413\tbest: 1184.0077413 (551)\ttotal: 19.8s\tremaining: 16s\n",
      "552:\tlearn: 1136.3262769\ttest: 1183.9520379\tbest: 1183.9520379 (552)\ttotal: 19.8s\tremaining: 16s\n",
      "553:\tlearn: 1136.1939660\ttest: 1183.8470177\tbest: 1183.8470177 (553)\ttotal: 19.9s\tremaining: 16s\n",
      "554:\tlearn: 1136.1493334\ttest: 1183.8263563\tbest: 1183.8263563 (554)\ttotal: 19.9s\tremaining: 16s\n",
      "555:\tlearn: 1135.9794549\ttest: 1183.8001988\tbest: 1183.8001988 (555)\ttotal: 20s\tremaining: 15.9s\n",
      "556:\tlearn: 1135.8972337\ttest: 1183.8156607\tbest: 1183.8001988 (555)\ttotal: 20s\tremaining: 15.9s\n",
      "557:\tlearn: 1135.7916862\ttest: 1183.8141620\tbest: 1183.8001988 (555)\ttotal: 20.1s\tremaining: 15.9s\n",
      "558:\tlearn: 1135.7451557\ttest: 1183.8093275\tbest: 1183.8001988 (555)\ttotal: 20.1s\tremaining: 15.9s\n",
      "559:\tlearn: 1135.6844770\ttest: 1183.7564851\tbest: 1183.7564851 (559)\ttotal: 20.2s\tremaining: 15.8s\n",
      "560:\tlearn: 1135.5643969\ttest: 1183.7132122\tbest: 1183.7132122 (560)\ttotal: 20.2s\tremaining: 15.8s\n",
      "561:\tlearn: 1135.4816914\ttest: 1183.6731208\tbest: 1183.6731208 (561)\ttotal: 20.3s\tremaining: 15.8s\n",
      "562:\tlearn: 1135.4072005\ttest: 1183.6056526\tbest: 1183.6056526 (562)\ttotal: 20.3s\tremaining: 15.8s\n",
      "563:\tlearn: 1134.9892610\ttest: 1183.3473395\tbest: 1183.3473395 (563)\ttotal: 20.4s\tremaining: 15.7s\n",
      "564:\tlearn: 1134.9118623\ttest: 1183.3672524\tbest: 1183.3473395 (563)\ttotal: 20.4s\tremaining: 15.7s\n",
      "565:\tlearn: 1134.7191767\ttest: 1183.2648584\tbest: 1183.2648584 (565)\ttotal: 20.5s\tremaining: 15.7s\n",
      "566:\tlearn: 1134.5719996\ttest: 1183.1665068\tbest: 1183.1665068 (566)\ttotal: 20.5s\tremaining: 15.7s\n",
      "567:\tlearn: 1134.5223943\ttest: 1183.2034340\tbest: 1183.1665068 (566)\ttotal: 20.5s\tremaining: 15.6s\n",
      "568:\tlearn: 1134.4369338\ttest: 1183.1382183\tbest: 1183.1382183 (568)\ttotal: 20.6s\tremaining: 15.6s\n",
      "569:\tlearn: 1134.2489393\ttest: 1183.0568058\tbest: 1183.0568058 (569)\ttotal: 20.6s\tremaining: 15.6s\n",
      "570:\tlearn: 1134.1604910\ttest: 1183.0190971\tbest: 1183.0190971 (570)\ttotal: 20.7s\tremaining: 15.5s\n",
      "571:\tlearn: 1134.0566804\ttest: 1182.9593100\tbest: 1182.9593100 (571)\ttotal: 20.7s\tremaining: 15.5s\n",
      "572:\tlearn: 1133.9988197\ttest: 1182.9443397\tbest: 1182.9443397 (572)\ttotal: 20.8s\tremaining: 15.5s\n",
      "573:\tlearn: 1133.9774955\ttest: 1182.9206662\tbest: 1182.9206662 (573)\ttotal: 20.8s\tremaining: 15.5s\n",
      "574:\tlearn: 1133.8992498\ttest: 1182.9530880\tbest: 1182.9206662 (573)\ttotal: 20.9s\tremaining: 15.4s\n",
      "575:\tlearn: 1133.7360329\ttest: 1182.8586337\tbest: 1182.8586337 (575)\ttotal: 20.9s\tremaining: 15.4s\n",
      "576:\tlearn: 1133.6760356\ttest: 1182.8240582\tbest: 1182.8240582 (576)\ttotal: 21s\tremaining: 15.4s\n",
      "577:\tlearn: 1133.5748858\ttest: 1182.8003835\tbest: 1182.8003835 (577)\ttotal: 21s\tremaining: 15.4s\n",
      "578:\tlearn: 1133.3125509\ttest: 1182.7494011\tbest: 1182.7494011 (578)\ttotal: 21.1s\tremaining: 15.3s\n",
      "579:\tlearn: 1133.1320168\ttest: 1182.6577165\tbest: 1182.6577165 (579)\ttotal: 21.1s\tremaining: 15.3s\n",
      "580:\tlearn: 1133.0100501\ttest: 1182.6286313\tbest: 1182.6286313 (580)\ttotal: 21.2s\tremaining: 15.3s\n",
      "581:\tlearn: 1132.7985308\ttest: 1182.5304969\tbest: 1182.5304969 (581)\ttotal: 21.2s\tremaining: 15.2s\n",
      "582:\tlearn: 1132.7761023\ttest: 1182.5334012\tbest: 1182.5304969 (581)\ttotal: 21.3s\tremaining: 15.2s\n",
      "583:\tlearn: 1132.7551826\ttest: 1182.5555972\tbest: 1182.5304969 (581)\ttotal: 21.3s\tremaining: 15.2s\n",
      "584:\tlearn: 1132.6686011\ttest: 1182.4749023\tbest: 1182.4749023 (584)\ttotal: 21.4s\tremaining: 15.2s\n",
      "585:\tlearn: 1132.6361339\ttest: 1182.4424338\tbest: 1182.4424338 (585)\ttotal: 21.4s\tremaining: 15.1s\n",
      "586:\tlearn: 1132.5574945\ttest: 1182.4108663\tbest: 1182.4108663 (586)\ttotal: 21.5s\tremaining: 15.1s\n",
      "587:\tlearn: 1132.4894322\ttest: 1182.3849919\tbest: 1182.3849919 (587)\ttotal: 21.5s\tremaining: 15.1s\n",
      "588:\tlearn: 1132.3247879\ttest: 1182.2399542\tbest: 1182.2399542 (588)\ttotal: 21.6s\tremaining: 15s\n",
      "589:\tlearn: 1132.2680046\ttest: 1182.1932489\tbest: 1182.1932489 (589)\ttotal: 21.6s\tremaining: 15s\n",
      "590:\tlearn: 1132.1658918\ttest: 1182.1014628\tbest: 1182.1014628 (590)\ttotal: 21.7s\tremaining: 15s\n",
      "591:\tlearn: 1132.1261007\ttest: 1182.1014256\tbest: 1182.1014256 (591)\ttotal: 21.7s\tremaining: 15s\n",
      "592:\tlearn: 1132.0556373\ttest: 1182.0264144\tbest: 1182.0264144 (592)\ttotal: 21.8s\tremaining: 14.9s\n",
      "593:\tlearn: 1131.9681358\ttest: 1181.9565749\tbest: 1181.9565749 (593)\ttotal: 21.8s\tremaining: 14.9s\n",
      "594:\tlearn: 1131.8721990\ttest: 1181.9168520\tbest: 1181.9168520 (594)\ttotal: 21.9s\tremaining: 14.9s\n",
      "595:\tlearn: 1131.8109728\ttest: 1181.9125732\tbest: 1181.9125732 (595)\ttotal: 21.9s\tremaining: 14.8s\n",
      "596:\tlearn: 1131.6981274\ttest: 1181.8412509\tbest: 1181.8412509 (596)\ttotal: 21.9s\tremaining: 14.8s\n",
      "597:\tlearn: 1131.5491601\ttest: 1181.7247177\tbest: 1181.7247177 (597)\ttotal: 22s\tremaining: 14.8s\n",
      "598:\tlearn: 1131.3710306\ttest: 1181.6307881\tbest: 1181.6307881 (598)\ttotal: 22s\tremaining: 14.7s\n",
      "599:\tlearn: 1131.3545934\ttest: 1181.6382603\tbest: 1181.6307881 (598)\ttotal: 22.1s\tremaining: 14.7s\n",
      "600:\tlearn: 1131.2554592\ttest: 1181.6206768\tbest: 1181.6206768 (600)\ttotal: 22.1s\tremaining: 14.7s\n",
      "601:\tlearn: 1131.2318763\ttest: 1181.5941868\tbest: 1181.5941868 (601)\ttotal: 22.1s\tremaining: 14.6s\n",
      "602:\tlearn: 1131.0777979\ttest: 1181.5062735\tbest: 1181.5062735 (602)\ttotal: 22.2s\tremaining: 14.6s\n",
      "603:\tlearn: 1130.9346069\ttest: 1181.4315691\tbest: 1181.4315691 (603)\ttotal: 22.2s\tremaining: 14.6s\n",
      "604:\tlearn: 1130.9199768\ttest: 1181.4356294\tbest: 1181.4315691 (603)\ttotal: 22.3s\tremaining: 14.5s\n",
      "605:\tlearn: 1130.8872003\ttest: 1181.4423746\tbest: 1181.4315691 (603)\ttotal: 22.3s\tremaining: 14.5s\n"
     ]
    },
    {
     "name": "stdout",
     "output_type": "stream",
     "text": [
      "606:\tlearn: 1130.7257265\ttest: 1181.3571993\tbest: 1181.3571993 (606)\ttotal: 22.3s\tremaining: 14.5s\n",
      "607:\tlearn: 1130.6777493\ttest: 1181.3216530\tbest: 1181.3216530 (607)\ttotal: 22.4s\tremaining: 14.4s\n",
      "608:\tlearn: 1130.6365152\ttest: 1181.3310090\tbest: 1181.3216530 (607)\ttotal: 22.4s\tremaining: 14.4s\n",
      "609:\tlearn: 1130.4099851\ttest: 1181.1830138\tbest: 1181.1830138 (609)\ttotal: 22.4s\tremaining: 14.3s\n",
      "610:\tlearn: 1130.3605594\ttest: 1181.1702738\tbest: 1181.1702738 (610)\ttotal: 22.5s\tremaining: 14.3s\n",
      "611:\tlearn: 1130.2756544\ttest: 1181.1433359\tbest: 1181.1433359 (611)\ttotal: 22.5s\tremaining: 14.3s\n",
      "612:\tlearn: 1130.1440141\ttest: 1181.0978341\tbest: 1181.0978341 (612)\ttotal: 22.6s\tremaining: 14.3s\n",
      "613:\tlearn: 1129.9931155\ttest: 1181.0272190\tbest: 1181.0272190 (613)\ttotal: 22.6s\tremaining: 14.2s\n",
      "614:\tlearn: 1129.8032937\ttest: 1180.9291189\tbest: 1180.9291189 (614)\ttotal: 22.7s\tremaining: 14.2s\n",
      "615:\tlearn: 1129.7155377\ttest: 1180.8863024\tbest: 1180.8863024 (615)\ttotal: 22.7s\tremaining: 14.2s\n",
      "616:\tlearn: 1129.5766357\ttest: 1180.8051477\tbest: 1180.8051477 (616)\ttotal: 22.8s\tremaining: 14.1s\n",
      "617:\tlearn: 1129.4878403\ttest: 1180.7526249\tbest: 1180.7526249 (617)\ttotal: 22.8s\tremaining: 14.1s\n",
      "618:\tlearn: 1129.4771751\ttest: 1180.7265733\tbest: 1180.7265733 (618)\ttotal: 22.9s\tremaining: 14.1s\n",
      "619:\tlearn: 1129.4510344\ttest: 1180.7141558\tbest: 1180.7141558 (619)\ttotal: 22.9s\tremaining: 14s\n",
      "620:\tlearn: 1129.4241317\ttest: 1180.7062018\tbest: 1180.7062018 (620)\ttotal: 22.9s\tremaining: 14s\n",
      "621:\tlearn: 1129.3510656\ttest: 1180.6579946\tbest: 1180.6579946 (621)\ttotal: 23s\tremaining: 14s\n",
      "622:\tlearn: 1129.2251432\ttest: 1180.6379247\tbest: 1180.6379247 (622)\ttotal: 23.1s\tremaining: 14s\n",
      "623:\tlearn: 1129.1387674\ttest: 1180.5806986\tbest: 1180.5806986 (623)\ttotal: 23.1s\tremaining: 13.9s\n",
      "624:\tlearn: 1129.0813873\ttest: 1180.5894840\tbest: 1180.5806986 (623)\ttotal: 23.2s\tremaining: 13.9s\n",
      "625:\tlearn: 1129.0241198\ttest: 1180.5429026\tbest: 1180.5429026 (625)\ttotal: 23.2s\tremaining: 13.9s\n",
      "626:\tlearn: 1128.9492256\ttest: 1180.5301540\tbest: 1180.5301540 (626)\ttotal: 23.3s\tremaining: 13.8s\n",
      "627:\tlearn: 1128.8349952\ttest: 1180.4413511\tbest: 1180.4413511 (627)\ttotal: 23.3s\tremaining: 13.8s\n",
      "628:\tlearn: 1128.7911467\ttest: 1180.4529100\tbest: 1180.4413511 (627)\ttotal: 23.4s\tremaining: 13.8s\n",
      "629:\tlearn: 1128.6965666\ttest: 1180.3826246\tbest: 1180.3826246 (629)\ttotal: 23.4s\tremaining: 13.7s\n",
      "630:\tlearn: 1128.5982048\ttest: 1180.3639286\tbest: 1180.3639286 (630)\ttotal: 23.4s\tremaining: 13.7s\n",
      "631:\tlearn: 1128.4496791\ttest: 1180.3072976\tbest: 1180.3072976 (631)\ttotal: 23.5s\tremaining: 13.7s\n",
      "632:\tlearn: 1128.3509281\ttest: 1180.2890907\tbest: 1180.2890907 (632)\ttotal: 23.5s\tremaining: 13.6s\n",
      "633:\tlearn: 1128.3243589\ttest: 1180.2670533\tbest: 1180.2670533 (633)\ttotal: 23.6s\tremaining: 13.6s\n",
      "634:\tlearn: 1128.1594363\ttest: 1180.0798031\tbest: 1180.0798031 (634)\ttotal: 23.6s\tremaining: 13.6s\n",
      "635:\tlearn: 1128.0693684\ttest: 1180.0368488\tbest: 1180.0368488 (635)\ttotal: 23.6s\tremaining: 13.5s\n",
      "636:\tlearn: 1127.9816216\ttest: 1180.0094588\tbest: 1180.0094588 (636)\ttotal: 23.7s\tremaining: 13.5s\n",
      "637:\tlearn: 1127.9038506\ttest: 1180.0018271\tbest: 1180.0018271 (637)\ttotal: 23.7s\tremaining: 13.5s\n",
      "638:\tlearn: 1127.8517045\ttest: 1179.9497724\tbest: 1179.9497724 (638)\ttotal: 23.8s\tremaining: 13.4s\n",
      "639:\tlearn: 1127.8506880\ttest: 1179.9498421\tbest: 1179.9497724 (638)\ttotal: 23.8s\tremaining: 13.4s\n",
      "640:\tlearn: 1127.7645189\ttest: 1179.9491923\tbest: 1179.9491923 (640)\ttotal: 23.8s\tremaining: 13.4s\n",
      "641:\tlearn: 1127.6543365\ttest: 1179.8602088\tbest: 1179.8602088 (641)\ttotal: 23.9s\tremaining: 13.3s\n",
      "642:\tlearn: 1127.5424674\ttest: 1179.8649118\tbest: 1179.8602088 (641)\ttotal: 23.9s\tremaining: 13.3s\n",
      "643:\tlearn: 1127.4625875\ttest: 1179.8153384\tbest: 1179.8153384 (643)\ttotal: 24s\tremaining: 13.3s\n",
      "644:\tlearn: 1127.4064457\ttest: 1179.7637925\tbest: 1179.7637925 (644)\ttotal: 24s\tremaining: 13.2s\n",
      "645:\tlearn: 1127.2558906\ttest: 1179.6505166\tbest: 1179.6505166 (645)\ttotal: 24.1s\tremaining: 13.2s\n",
      "646:\tlearn: 1127.0681729\ttest: 1179.5412690\tbest: 1179.5412690 (646)\ttotal: 24.1s\tremaining: 13.2s\n",
      "647:\tlearn: 1126.9863579\ttest: 1179.5421896\tbest: 1179.5412690 (646)\ttotal: 24.1s\tremaining: 13.1s\n",
      "648:\tlearn: 1126.9029527\ttest: 1179.4639311\tbest: 1179.4639311 (648)\ttotal: 24.2s\tremaining: 13.1s\n",
      "649:\tlearn: 1126.8942552\ttest: 1179.4669758\tbest: 1179.4639311 (648)\ttotal: 24.2s\tremaining: 13s\n",
      "650:\tlearn: 1126.8789752\ttest: 1179.4660479\tbest: 1179.4639311 (648)\ttotal: 24.2s\tremaining: 13s\n",
      "651:\tlearn: 1126.8444087\ttest: 1179.4503879\tbest: 1179.4503879 (651)\ttotal: 24.3s\tremaining: 13s\n",
      "652:\tlearn: 1126.7875047\ttest: 1179.4298292\tbest: 1179.4298292 (652)\ttotal: 24.3s\tremaining: 12.9s\n",
      "653:\tlearn: 1126.6961360\ttest: 1179.3526324\tbest: 1179.3526324 (653)\ttotal: 24.3s\tremaining: 12.9s\n",
      "654:\tlearn: 1126.6653994\ttest: 1179.3338490\tbest: 1179.3338490 (654)\ttotal: 24.4s\tremaining: 12.8s\n",
      "655:\tlearn: 1126.5070745\ttest: 1179.2509170\tbest: 1179.2509170 (655)\ttotal: 24.4s\tremaining: 12.8s\n",
      "656:\tlearn: 1126.4796397\ttest: 1179.2442599\tbest: 1179.2442599 (656)\ttotal: 24.5s\tremaining: 12.8s\n",
      "657:\tlearn: 1126.4200697\ttest: 1179.1454755\tbest: 1179.1454755 (657)\ttotal: 24.5s\tremaining: 12.7s\n",
      "658:\tlearn: 1126.3353495\ttest: 1179.0156648\tbest: 1179.0156648 (658)\ttotal: 24.6s\tremaining: 12.7s\n",
      "659:\tlearn: 1126.2519999\ttest: 1178.9577988\tbest: 1178.9577988 (659)\ttotal: 24.6s\tremaining: 12.7s\n",
      "660:\tlearn: 1126.2108137\ttest: 1178.9390499\tbest: 1178.9390499 (660)\ttotal: 24.7s\tremaining: 12.7s\n",
      "661:\tlearn: 1126.1227898\ttest: 1178.8919603\tbest: 1178.8919603 (661)\ttotal: 24.7s\tremaining: 12.6s\n",
      "662:\tlearn: 1126.1098281\ttest: 1178.8881423\tbest: 1178.8881423 (662)\ttotal: 24.8s\tremaining: 12.6s\n",
      "663:\tlearn: 1126.0524707\ttest: 1178.8577123\tbest: 1178.8577123 (663)\ttotal: 24.8s\tremaining: 12.6s\n",
      "664:\tlearn: 1126.0494489\ttest: 1178.8612434\tbest: 1178.8577123 (663)\ttotal: 24.9s\tremaining: 12.5s\n",
      "665:\tlearn: 1125.9706920\ttest: 1178.8209412\tbest: 1178.8209412 (665)\ttotal: 24.9s\tremaining: 12.5s\n",
      "666:\tlearn: 1125.8967111\ttest: 1178.7827935\tbest: 1178.7827935 (666)\ttotal: 25s\tremaining: 12.5s\n",
      "667:\tlearn: 1125.8723138\ttest: 1178.7776161\tbest: 1178.7776161 (667)\ttotal: 25s\tremaining: 12.4s\n",
      "668:\tlearn: 1125.8637564\ttest: 1178.7621106\tbest: 1178.7621106 (668)\ttotal: 25.1s\tremaining: 12.4s\n",
      "669:\tlearn: 1125.6984333\ttest: 1178.6662357\tbest: 1178.6662357 (669)\ttotal: 25.1s\tremaining: 12.4s\n",
      "670:\tlearn: 1125.6594392\ttest: 1178.6274926\tbest: 1178.6274926 (670)\ttotal: 25.2s\tremaining: 12.3s\n",
      "671:\tlearn: 1125.6293648\ttest: 1178.6372180\tbest: 1178.6274926 (670)\ttotal: 25.2s\tremaining: 12.3s\n",
      "672:\tlearn: 1125.5224206\ttest: 1178.5816087\tbest: 1178.5816087 (672)\ttotal: 25.3s\tremaining: 12.3s\n",
      "673:\tlearn: 1125.4880154\ttest: 1178.5567552\tbest: 1178.5567552 (673)\ttotal: 25.3s\tremaining: 12.2s\n",
      "674:\tlearn: 1125.1981586\ttest: 1178.3656752\tbest: 1178.3656752 (674)\ttotal: 25.4s\tremaining: 12.2s\n",
      "675:\tlearn: 1125.1416570\ttest: 1178.3390975\tbest: 1178.3390975 (675)\ttotal: 25.4s\tremaining: 12.2s\n",
      "676:\tlearn: 1125.0921334\ttest: 1178.3455058\tbest: 1178.3390975 (675)\ttotal: 25.5s\tremaining: 12.2s\n",
      "677:\tlearn: 1124.9656624\ttest: 1178.2599504\tbest: 1178.2599504 (677)\ttotal: 25.5s\tremaining: 12.1s\n",
      "678:\tlearn: 1124.8676165\ttest: 1178.2823952\tbest: 1178.2599504 (677)\ttotal: 25.6s\tremaining: 12.1s\n",
      "679:\tlearn: 1124.8057969\ttest: 1178.2267786\tbest: 1178.2267786 (679)\ttotal: 25.6s\tremaining: 12.1s\n",
      "680:\tlearn: 1124.6870906\ttest: 1178.2145236\tbest: 1178.2145236 (680)\ttotal: 25.7s\tremaining: 12s\n",
      "681:\tlearn: 1124.6175667\ttest: 1178.2218909\tbest: 1178.2145236 (680)\ttotal: 25.7s\tremaining: 12s\n",
      "682:\tlearn: 1124.5507975\ttest: 1178.2080325\tbest: 1178.2080325 (682)\ttotal: 25.8s\tremaining: 12s\n",
      "683:\tlearn: 1124.5087968\ttest: 1178.2124952\tbest: 1178.2080325 (682)\ttotal: 25.8s\tremaining: 11.9s\n",
      "684:\tlearn: 1124.4150541\ttest: 1178.1640575\tbest: 1178.1640575 (684)\ttotal: 25.8s\tremaining: 11.9s\n",
      "685:\tlearn: 1124.3535973\ttest: 1178.1204112\tbest: 1178.1204112 (685)\ttotal: 25.9s\tremaining: 11.9s\n",
      "686:\tlearn: 1124.2153420\ttest: 1178.0984425\tbest: 1178.0984425 (686)\ttotal: 26s\tremaining: 11.8s\n",
      "687:\tlearn: 1124.1680455\ttest: 1178.0631600\tbest: 1178.0631600 (687)\ttotal: 26s\tremaining: 11.8s\n",
      "688:\tlearn: 1124.0567418\ttest: 1178.0220892\tbest: 1178.0220892 (688)\ttotal: 26.1s\tremaining: 11.8s\n",
      "689:\tlearn: 1123.9636301\ttest: 1178.0001530\tbest: 1178.0001530 (689)\ttotal: 26.1s\tremaining: 11.7s\n",
      "690:\tlearn: 1123.9313037\ttest: 1177.9948578\tbest: 1177.9948578 (690)\ttotal: 26.2s\tremaining: 11.7s\n",
      "691:\tlearn: 1123.8405906\ttest: 1177.9201057\tbest: 1177.9201057 (691)\ttotal: 26.2s\tremaining: 11.7s\n",
      "692:\tlearn: 1123.8163186\ttest: 1177.9115458\tbest: 1177.9115458 (692)\ttotal: 26.2s\tremaining: 11.6s\n",
      "693:\tlearn: 1123.7699355\ttest: 1177.8674758\tbest: 1177.8674758 (693)\ttotal: 26.3s\tremaining: 11.6s\n"
     ]
    },
    {
     "name": "stdout",
     "output_type": "stream",
     "text": [
      "694:\tlearn: 1123.7461081\ttest: 1177.8696332\tbest: 1177.8674758 (693)\ttotal: 26.3s\tremaining: 11.5s\n",
      "695:\tlearn: 1123.6446337\ttest: 1177.7832971\tbest: 1177.7832971 (695)\ttotal: 26.3s\tremaining: 11.5s\n",
      "696:\tlearn: 1123.5820690\ttest: 1177.7429658\tbest: 1177.7429658 (696)\ttotal: 26.4s\tremaining: 11.5s\n",
      "697:\tlearn: 1123.5435348\ttest: 1177.6883323\tbest: 1177.6883323 (697)\ttotal: 26.4s\tremaining: 11.4s\n",
      "698:\tlearn: 1123.5411922\ttest: 1177.6847198\tbest: 1177.6847198 (698)\ttotal: 26.4s\tremaining: 11.4s\n",
      "699:\tlearn: 1123.5139958\ttest: 1177.6566223\tbest: 1177.6566223 (699)\ttotal: 26.5s\tremaining: 11.3s\n",
      "700:\tlearn: 1123.4237369\ttest: 1177.6267249\tbest: 1177.6267249 (700)\ttotal: 26.6s\tremaining: 11.3s\n",
      "701:\tlearn: 1123.3504730\ttest: 1177.5953484\tbest: 1177.5953484 (701)\ttotal: 26.6s\tremaining: 11.3s\n",
      "702:\tlearn: 1123.2627873\ttest: 1177.5426855\tbest: 1177.5426855 (702)\ttotal: 26.7s\tremaining: 11.3s\n",
      "703:\tlearn: 1123.2440783\ttest: 1177.5483171\tbest: 1177.5426855 (702)\ttotal: 26.7s\tremaining: 11.2s\n",
      "704:\tlearn: 1123.2135438\ttest: 1177.5248534\tbest: 1177.5248534 (704)\ttotal: 26.7s\tremaining: 11.2s\n",
      "705:\tlearn: 1123.1528434\ttest: 1177.4908648\tbest: 1177.4908648 (705)\ttotal: 26.8s\tremaining: 11.2s\n",
      "706:\tlearn: 1123.0881885\ttest: 1177.4764654\tbest: 1177.4764654 (706)\ttotal: 26.8s\tremaining: 11.1s\n",
      "707:\tlearn: 1122.9803921\ttest: 1177.4711454\tbest: 1177.4711454 (707)\ttotal: 26.9s\tremaining: 11.1s\n",
      "708:\tlearn: 1122.9649921\ttest: 1177.4827638\tbest: 1177.4711454 (707)\ttotal: 26.9s\tremaining: 11.1s\n",
      "709:\tlearn: 1122.9489920\ttest: 1177.4690259\tbest: 1177.4690259 (709)\ttotal: 27s\tremaining: 11s\n",
      "710:\tlearn: 1122.9106718\ttest: 1177.4274740\tbest: 1177.4274740 (710)\ttotal: 27s\tremaining: 11s\n",
      "711:\tlearn: 1122.7725792\ttest: 1177.3633816\tbest: 1177.3633816 (711)\ttotal: 27.1s\tremaining: 10.9s\n",
      "712:\tlearn: 1122.6545406\ttest: 1177.2753441\tbest: 1177.2753441 (712)\ttotal: 27.1s\tremaining: 10.9s\n",
      "713:\tlearn: 1122.6120911\ttest: 1177.2268217\tbest: 1177.2268217 (713)\ttotal: 27.1s\tremaining: 10.9s\n",
      "714:\tlearn: 1122.5225744\ttest: 1177.2147473\tbest: 1177.2147473 (714)\ttotal: 27.2s\tremaining: 10.8s\n",
      "715:\tlearn: 1122.4509336\ttest: 1177.1687837\tbest: 1177.1687837 (715)\ttotal: 27.2s\tremaining: 10.8s\n",
      "716:\tlearn: 1122.4201434\ttest: 1177.1717649\tbest: 1177.1687837 (715)\ttotal: 27.3s\tremaining: 10.8s\n",
      "717:\tlearn: 1122.3884993\ttest: 1177.1559683\tbest: 1177.1559683 (717)\ttotal: 27.3s\tremaining: 10.7s\n",
      "718:\tlearn: 1122.2248053\ttest: 1177.0495643\tbest: 1177.0495643 (718)\ttotal: 27.4s\tremaining: 10.7s\n",
      "719:\tlearn: 1122.1648589\ttest: 1177.0282483\tbest: 1177.0282483 (719)\ttotal: 27.4s\tremaining: 10.7s\n",
      "720:\tlearn: 1122.0451968\ttest: 1176.9637393\tbest: 1176.9637393 (720)\ttotal: 27.4s\tremaining: 10.6s\n",
      "721:\tlearn: 1121.9672499\ttest: 1176.9822094\tbest: 1176.9637393 (720)\ttotal: 27.5s\tremaining: 10.6s\n",
      "722:\tlearn: 1121.8339751\ttest: 1176.9613846\tbest: 1176.9613846 (722)\ttotal: 27.5s\tremaining: 10.6s\n",
      "723:\tlearn: 1121.7253065\ttest: 1176.9419082\tbest: 1176.9419082 (723)\ttotal: 27.6s\tremaining: 10.5s\n",
      "724:\tlearn: 1121.5626552\ttest: 1176.8876950\tbest: 1176.8876950 (724)\ttotal: 27.7s\tremaining: 10.5s\n",
      "725:\tlearn: 1121.5062887\ttest: 1176.8413846\tbest: 1176.8413846 (725)\ttotal: 27.7s\tremaining: 10.5s\n",
      "726:\tlearn: 1121.4104609\ttest: 1176.7849753\tbest: 1176.7849753 (726)\ttotal: 27.7s\tremaining: 10.4s\n",
      "727:\tlearn: 1121.3227260\ttest: 1176.7241875\tbest: 1176.7241875 (727)\ttotal: 27.8s\tremaining: 10.4s\n",
      "728:\tlearn: 1121.2853375\ttest: 1176.7228917\tbest: 1176.7228917 (728)\ttotal: 27.8s\tremaining: 10.3s\n",
      "729:\tlearn: 1121.2476300\ttest: 1176.7481021\tbest: 1176.7228917 (728)\ttotal: 27.9s\tremaining: 10.3s\n",
      "730:\tlearn: 1121.2311858\ttest: 1176.7288808\tbest: 1176.7228917 (728)\ttotal: 27.9s\tremaining: 10.3s\n",
      "731:\tlearn: 1121.1102731\ttest: 1176.6575031\tbest: 1176.6575031 (731)\ttotal: 28s\tremaining: 10.2s\n",
      "732:\tlearn: 1121.0913567\ttest: 1176.6488947\tbest: 1176.6488947 (732)\ttotal: 28s\tremaining: 10.2s\n",
      "733:\tlearn: 1121.0507820\ttest: 1176.6475490\tbest: 1176.6475490 (733)\ttotal: 28.1s\tremaining: 10.2s\n",
      "734:\tlearn: 1120.9597756\ttest: 1176.6143726\tbest: 1176.6143726 (734)\ttotal: 28.2s\tremaining: 10.2s\n",
      "735:\tlearn: 1120.9199922\ttest: 1176.5892827\tbest: 1176.5892827 (735)\ttotal: 28.2s\tremaining: 10.1s\n",
      "736:\tlearn: 1120.8071419\ttest: 1176.5297934\tbest: 1176.5297934 (736)\ttotal: 28.3s\tremaining: 10.1s\n",
      "737:\tlearn: 1120.7559130\ttest: 1176.5167278\tbest: 1176.5167278 (737)\ttotal: 28.3s\tremaining: 10.1s\n",
      "738:\tlearn: 1120.7400031\ttest: 1176.5122248\tbest: 1176.5122248 (738)\ttotal: 28.4s\tremaining: 10s\n",
      "739:\tlearn: 1120.6203216\ttest: 1176.4054009\tbest: 1176.4054009 (739)\ttotal: 28.4s\tremaining: 9.99s\n",
      "740:\tlearn: 1120.5656908\ttest: 1176.3974758\tbest: 1176.3974758 (740)\ttotal: 28.5s\tremaining: 9.95s\n",
      "741:\tlearn: 1120.4972496\ttest: 1176.3667990\tbest: 1176.3667990 (741)\ttotal: 28.5s\tremaining: 9.91s\n",
      "742:\tlearn: 1120.4384079\ttest: 1176.3841140\tbest: 1176.3667990 (741)\ttotal: 28.6s\tremaining: 9.88s\n",
      "743:\tlearn: 1120.3799442\ttest: 1176.3255508\tbest: 1176.3255508 (743)\ttotal: 28.6s\tremaining: 9.84s\n",
      "744:\tlearn: 1120.3332239\ttest: 1176.3262735\tbest: 1176.3255508 (743)\ttotal: 28.7s\tremaining: 9.81s\n",
      "745:\tlearn: 1120.2792623\ttest: 1176.2649970\tbest: 1176.2649970 (745)\ttotal: 28.7s\tremaining: 9.78s\n",
      "746:\tlearn: 1120.2732945\ttest: 1176.2666799\tbest: 1176.2649970 (745)\ttotal: 28.8s\tremaining: 9.75s\n",
      "747:\tlearn: 1120.1932725\ttest: 1176.2151655\tbest: 1176.2151655 (747)\ttotal: 28.8s\tremaining: 9.71s\n",
      "748:\tlearn: 1120.0848335\ttest: 1176.1627438\tbest: 1176.1627438 (748)\ttotal: 28.9s\tremaining: 9.68s\n",
      "749:\tlearn: 1119.9118588\ttest: 1176.0188480\tbest: 1176.0188480 (749)\ttotal: 28.9s\tremaining: 9.64s\n",
      "750:\tlearn: 1119.7902693\ttest: 1175.9396834\tbest: 1175.9396834 (750)\ttotal: 29s\tremaining: 9.61s\n",
      "751:\tlearn: 1119.6965151\ttest: 1175.9533874\tbest: 1175.9396834 (750)\ttotal: 29s\tremaining: 9.57s\n",
      "752:\tlearn: 1119.6794805\ttest: 1175.9603239\tbest: 1175.9396834 (750)\ttotal: 29.1s\tremaining: 9.53s\n",
      "753:\tlearn: 1119.6358115\ttest: 1175.9183782\tbest: 1175.9183782 (753)\ttotal: 29.1s\tremaining: 9.5s\n",
      "754:\tlearn: 1119.4445785\ttest: 1175.7688418\tbest: 1175.7688418 (754)\ttotal: 29.2s\tremaining: 9.49s\n",
      "755:\tlearn: 1119.3132521\ttest: 1175.7296300\tbest: 1175.7296300 (755)\ttotal: 29.3s\tremaining: 9.45s\n",
      "756:\tlearn: 1119.2703311\ttest: 1175.6973501\tbest: 1175.6973501 (756)\ttotal: 29.3s\tremaining: 9.41s\n",
      "757:\tlearn: 1119.1640670\ttest: 1175.6811226\tbest: 1175.6811226 (757)\ttotal: 29.4s\tremaining: 9.38s\n",
      "758:\tlearn: 1119.0698134\ttest: 1175.6811971\tbest: 1175.6811226 (757)\ttotal: 29.4s\tremaining: 9.34s\n",
      "759:\tlearn: 1118.9828747\ttest: 1175.6939748\tbest: 1175.6811226 (757)\ttotal: 29.4s\tremaining: 9.3s\n",
      "760:\tlearn: 1118.8996861\ttest: 1175.6508126\tbest: 1175.6508126 (760)\ttotal: 29.5s\tremaining: 9.26s\n",
      "761:\tlearn: 1118.8319612\ttest: 1175.6237930\tbest: 1175.6237930 (761)\ttotal: 29.5s\tremaining: 9.22s\n",
      "762:\tlearn: 1118.8048464\ttest: 1175.6155537\tbest: 1175.6155537 (762)\ttotal: 29.6s\tremaining: 9.19s\n",
      "763:\tlearn: 1118.7461418\ttest: 1175.5719289\tbest: 1175.5719289 (763)\ttotal: 29.6s\tremaining: 9.15s\n",
      "764:\tlearn: 1118.6757085\ttest: 1175.5434193\tbest: 1175.5434193 (764)\ttotal: 29.7s\tremaining: 9.11s\n",
      "765:\tlearn: 1118.5432283\ttest: 1175.4387541\tbest: 1175.4387541 (765)\ttotal: 29.7s\tremaining: 9.08s\n",
      "766:\tlearn: 1118.4060883\ttest: 1175.4299413\tbest: 1175.4299413 (766)\ttotal: 29.8s\tremaining: 9.04s\n",
      "767:\tlearn: 1118.2672866\ttest: 1175.3461748\tbest: 1175.3461748 (767)\ttotal: 29.8s\tremaining: 9.01s\n",
      "768:\tlearn: 1118.1788012\ttest: 1175.4237245\tbest: 1175.3461748 (767)\ttotal: 29.9s\tremaining: 8.97s\n",
      "769:\tlearn: 1118.1492669\ttest: 1175.4281597\tbest: 1175.3461748 (767)\ttotal: 29.9s\tremaining: 8.94s\n",
      "770:\tlearn: 1118.1329487\ttest: 1175.4463518\tbest: 1175.3461748 (767)\ttotal: 30s\tremaining: 8.9s\n",
      "771:\tlearn: 1118.0897953\ttest: 1175.4585009\tbest: 1175.3461748 (767)\ttotal: 30s\tremaining: 8.87s\n",
      "772:\tlearn: 1117.9306244\ttest: 1175.3233386\tbest: 1175.3233386 (772)\ttotal: 30.1s\tremaining: 8.83s\n",
      "773:\tlearn: 1117.8656230\ttest: 1175.2974260\tbest: 1175.2974260 (773)\ttotal: 30.1s\tremaining: 8.79s\n",
      "774:\tlearn: 1117.7798973\ttest: 1175.2655145\tbest: 1175.2655145 (774)\ttotal: 30.2s\tremaining: 8.76s\n",
      "775:\tlearn: 1117.7227744\ttest: 1175.2237009\tbest: 1175.2237009 (775)\ttotal: 30.2s\tremaining: 8.72s\n",
      "776:\tlearn: 1117.7160219\ttest: 1175.2111539\tbest: 1175.2111539 (776)\ttotal: 30.3s\tremaining: 8.7s\n",
      "777:\tlearn: 1117.6369454\ttest: 1175.1440472\tbest: 1175.1440472 (777)\ttotal: 30.3s\tremaining: 8.66s\n",
      "778:\tlearn: 1117.5136077\ttest: 1175.0591049\tbest: 1175.0591049 (778)\ttotal: 30.4s\tremaining: 8.62s\n",
      "779:\tlearn: 1117.4881934\ttest: 1175.0533504\tbest: 1175.0533504 (779)\ttotal: 30.4s\tremaining: 8.58s\n",
      "780:\tlearn: 1117.4214364\ttest: 1175.0265841\tbest: 1175.0265841 (780)\ttotal: 30.5s\tremaining: 8.54s\n",
      "781:\tlearn: 1117.3575719\ttest: 1175.0188434\tbest: 1175.0188434 (781)\ttotal: 30.5s\tremaining: 8.5s\n"
     ]
    },
    {
     "name": "stdout",
     "output_type": "stream",
     "text": [
      "782:\tlearn: 1117.2238582\ttest: 1174.9599724\tbest: 1174.9599724 (782)\ttotal: 30.5s\tremaining: 8.46s\n",
      "783:\tlearn: 1117.2168480\ttest: 1174.9614511\tbest: 1174.9599724 (782)\ttotal: 30.6s\tremaining: 8.43s\n",
      "784:\tlearn: 1117.1321221\ttest: 1174.9272512\tbest: 1174.9272512 (784)\ttotal: 30.6s\tremaining: 8.39s\n",
      "785:\tlearn: 1117.0179998\ttest: 1174.8818197\tbest: 1174.8818197 (785)\ttotal: 30.7s\tremaining: 8.35s\n",
      "786:\tlearn: 1116.9986010\ttest: 1174.8658838\tbest: 1174.8658838 (786)\ttotal: 30.7s\tremaining: 8.31s\n",
      "787:\tlearn: 1116.8687019\ttest: 1174.7982377\tbest: 1174.7982377 (787)\ttotal: 30.8s\tremaining: 8.28s\n",
      "788:\tlearn: 1116.8021277\ttest: 1174.7383443\tbest: 1174.7383443 (788)\ttotal: 30.8s\tremaining: 8.24s\n",
      "789:\tlearn: 1116.6695769\ttest: 1174.6531839\tbest: 1174.6531839 (789)\ttotal: 30.9s\tremaining: 8.2s\n",
      "790:\tlearn: 1116.6257707\ttest: 1174.6303132\tbest: 1174.6303132 (790)\ttotal: 30.9s\tremaining: 8.16s\n",
      "791:\tlearn: 1116.5755641\ttest: 1174.6069576\tbest: 1174.6069576 (791)\ttotal: 30.9s\tremaining: 8.13s\n",
      "792:\tlearn: 1116.5384742\ttest: 1174.6063543\tbest: 1174.6063543 (792)\ttotal: 31s\tremaining: 8.09s\n",
      "793:\tlearn: 1116.5139113\ttest: 1174.5886414\tbest: 1174.5886414 (793)\ttotal: 31s\tremaining: 8.05s\n",
      "794:\tlearn: 1116.4478298\ttest: 1174.5891300\tbest: 1174.5886414 (793)\ttotal: 31.1s\tremaining: 8.01s\n",
      "795:\tlearn: 1116.4077225\ttest: 1174.5721789\tbest: 1174.5721789 (795)\ttotal: 31.1s\tremaining: 7.98s\n",
      "796:\tlearn: 1116.3653270\ttest: 1174.5494982\tbest: 1174.5494982 (796)\ttotal: 31.2s\tremaining: 7.94s\n",
      "797:\tlearn: 1116.3034253\ttest: 1174.5192085\tbest: 1174.5192085 (797)\ttotal: 31.2s\tremaining: 7.9s\n",
      "798:\tlearn: 1116.2314984\ttest: 1174.4622496\tbest: 1174.4622496 (798)\ttotal: 31.3s\tremaining: 7.87s\n",
      "799:\tlearn: 1116.1381207\ttest: 1174.4515581\tbest: 1174.4515581 (799)\ttotal: 31.3s\tremaining: 7.84s\n",
      "800:\tlearn: 1115.9927233\ttest: 1174.3451242\tbest: 1174.3451242 (800)\ttotal: 31.4s\tremaining: 7.8s\n",
      "801:\tlearn: 1115.9401381\ttest: 1174.3125506\tbest: 1174.3125506 (801)\ttotal: 31.5s\tremaining: 7.77s\n",
      "802:\tlearn: 1115.9084884\ttest: 1174.3057521\tbest: 1174.3057521 (802)\ttotal: 31.5s\tremaining: 7.73s\n",
      "803:\tlearn: 1115.8985433\ttest: 1174.3051595\tbest: 1174.3051595 (803)\ttotal: 31.5s\tremaining: 7.69s\n",
      "804:\tlearn: 1115.8458955\ttest: 1174.3046815\tbest: 1174.3046815 (804)\ttotal: 31.6s\tremaining: 7.65s\n",
      "805:\tlearn: 1115.7451612\ttest: 1174.3235901\tbest: 1174.3046815 (804)\ttotal: 31.6s\tremaining: 7.62s\n",
      "806:\tlearn: 1115.7160332\ttest: 1174.3180184\tbest: 1174.3046815 (804)\ttotal: 31.7s\tremaining: 7.58s\n",
      "807:\tlearn: 1115.6374615\ttest: 1174.2859119\tbest: 1174.2859119 (807)\ttotal: 31.7s\tremaining: 7.54s\n",
      "808:\tlearn: 1115.5941302\ttest: 1174.3088495\tbest: 1174.2859119 (807)\ttotal: 31.8s\tremaining: 7.5s\n",
      "809:\tlearn: 1115.4788937\ttest: 1174.2145488\tbest: 1174.2145488 (809)\ttotal: 31.8s\tremaining: 7.47s\n",
      "810:\tlearn: 1115.4034014\ttest: 1174.1631414\tbest: 1174.1631414 (810)\ttotal: 31.9s\tremaining: 7.43s\n",
      "811:\tlearn: 1115.3584731\ttest: 1174.1227812\tbest: 1174.1227812 (811)\ttotal: 31.9s\tremaining: 7.39s\n",
      "812:\tlearn: 1115.2041933\ttest: 1174.0839598\tbest: 1174.0839598 (812)\ttotal: 32s\tremaining: 7.36s\n",
      "813:\tlearn: 1115.1585889\ttest: 1174.0572371\tbest: 1174.0572371 (813)\ttotal: 32s\tremaining: 7.32s\n",
      "814:\tlearn: 1115.0870817\ttest: 1174.0345010\tbest: 1174.0345010 (814)\ttotal: 32.1s\tremaining: 7.28s\n",
      "815:\tlearn: 1115.0018821\ttest: 1173.9801446\tbest: 1173.9801446 (815)\ttotal: 32.1s\tremaining: 7.24s\n",
      "816:\tlearn: 1114.9809737\ttest: 1173.9706291\tbest: 1173.9706291 (816)\ttotal: 32.1s\tremaining: 7.2s\n",
      "817:\tlearn: 1114.8900687\ttest: 1173.9279327\tbest: 1173.9279327 (817)\ttotal: 32.2s\tremaining: 7.16s\n",
      "818:\tlearn: 1114.7877902\ttest: 1173.9007983\tbest: 1173.9007983 (818)\ttotal: 32.2s\tremaining: 7.12s\n",
      "819:\tlearn: 1114.7813529\ttest: 1173.8989095\tbest: 1173.8989095 (819)\ttotal: 32.3s\tremaining: 7.08s\n",
      "820:\tlearn: 1114.7764461\ttest: 1173.8982991\tbest: 1173.8982991 (820)\ttotal: 32.3s\tremaining: 7.05s\n",
      "821:\tlearn: 1114.6985269\ttest: 1173.8801898\tbest: 1173.8801898 (821)\ttotal: 32.4s\tremaining: 7.01s\n",
      "822:\tlearn: 1114.6035359\ttest: 1173.8717446\tbest: 1173.8717446 (822)\ttotal: 32.4s\tremaining: 6.97s\n",
      "823:\tlearn: 1114.4733516\ttest: 1173.7601489\tbest: 1173.7601489 (823)\ttotal: 32.4s\tremaining: 6.93s\n",
      "824:\tlearn: 1114.4207640\ttest: 1173.7722351\tbest: 1173.7601489 (823)\ttotal: 32.5s\tremaining: 6.89s\n",
      "825:\tlearn: 1114.3825648\ttest: 1173.7556126\tbest: 1173.7556126 (825)\ttotal: 32.5s\tremaining: 6.86s\n",
      "826:\tlearn: 1114.3100186\ttest: 1173.7089812\tbest: 1173.7089812 (826)\ttotal: 32.6s\tremaining: 6.82s\n",
      "827:\tlearn: 1114.1985976\ttest: 1173.6565246\tbest: 1173.6565246 (827)\ttotal: 32.6s\tremaining: 6.78s\n",
      "828:\tlearn: 1114.1725789\ttest: 1173.6310889\tbest: 1173.6310889 (828)\ttotal: 32.7s\tremaining: 6.74s\n",
      "829:\tlearn: 1114.1226472\ttest: 1173.6250506\tbest: 1173.6250506 (829)\ttotal: 32.7s\tremaining: 6.7s\n",
      "830:\tlearn: 1113.9779124\ttest: 1173.5130373\tbest: 1173.5130373 (830)\ttotal: 32.8s\tremaining: 6.66s\n",
      "831:\tlearn: 1113.9513199\ttest: 1173.5024214\tbest: 1173.5024214 (831)\ttotal: 32.8s\tremaining: 6.63s\n",
      "832:\tlearn: 1113.8693980\ttest: 1173.4739576\tbest: 1173.4739576 (832)\ttotal: 32.9s\tremaining: 6.59s\n",
      "833:\tlearn: 1113.8145426\ttest: 1173.4183789\tbest: 1173.4183789 (833)\ttotal: 32.9s\tremaining: 6.55s\n",
      "834:\tlearn: 1113.7251140\ttest: 1173.3502321\tbest: 1173.3502321 (834)\ttotal: 33s\tremaining: 6.52s\n",
      "835:\tlearn: 1113.5743227\ttest: 1173.2098659\tbest: 1173.2098659 (835)\ttotal: 33s\tremaining: 6.48s\n",
      "836:\tlearn: 1113.4850156\ttest: 1173.1600367\tbest: 1173.1600367 (836)\ttotal: 33.1s\tremaining: 6.44s\n",
      "837:\tlearn: 1113.3218864\ttest: 1173.0848134\tbest: 1173.0848134 (837)\ttotal: 33.1s\tremaining: 6.41s\n",
      "838:\tlearn: 1113.2140346\ttest: 1173.0291164\tbest: 1173.0291164 (838)\ttotal: 33.2s\tremaining: 6.37s\n",
      "839:\tlearn: 1113.1420946\ttest: 1172.9850040\tbest: 1172.9850040 (839)\ttotal: 33.3s\tremaining: 6.33s\n",
      "840:\tlearn: 1113.1127555\ttest: 1172.9513085\tbest: 1172.9513085 (840)\ttotal: 33.3s\tremaining: 6.3s\n",
      "841:\tlearn: 1113.0894333\ttest: 1172.9286430\tbest: 1172.9286430 (841)\ttotal: 33.4s\tremaining: 6.27s\n",
      "842:\tlearn: 1113.0313187\ttest: 1172.8974500\tbest: 1172.8974500 (842)\ttotal: 33.5s\tremaining: 6.23s\n",
      "843:\tlearn: 1112.9528761\ttest: 1172.8042709\tbest: 1172.8042709 (843)\ttotal: 33.5s\tremaining: 6.2s\n",
      "844:\tlearn: 1112.8124265\ttest: 1172.6766778\tbest: 1172.6766778 (844)\ttotal: 33.6s\tremaining: 6.16s\n",
      "845:\tlearn: 1112.7820598\ttest: 1172.6852997\tbest: 1172.6766778 (844)\ttotal: 33.6s\tremaining: 6.12s\n",
      "846:\tlearn: 1112.7482646\ttest: 1172.7040995\tbest: 1172.6766778 (844)\ttotal: 33.7s\tremaining: 6.08s\n",
      "847:\tlearn: 1112.7229185\ttest: 1172.6904999\tbest: 1172.6766778 (844)\ttotal: 33.7s\tremaining: 6.04s\n",
      "848:\tlearn: 1112.6562454\ttest: 1172.7266720\tbest: 1172.6766778 (844)\ttotal: 33.8s\tremaining: 6.01s\n",
      "849:\tlearn: 1112.4855647\ttest: 1172.7172642\tbest: 1172.6766778 (844)\ttotal: 33.8s\tremaining: 5.97s\n",
      "850:\tlearn: 1112.4028111\ttest: 1172.6708788\tbest: 1172.6708788 (850)\ttotal: 33.9s\tremaining: 5.93s\n",
      "851:\tlearn: 1112.2429250\ttest: 1172.5913769\tbest: 1172.5913769 (851)\ttotal: 33.9s\tremaining: 5.89s\n",
      "852:\tlearn: 1112.2299582\ttest: 1172.5918718\tbest: 1172.5913769 (851)\ttotal: 34s\tremaining: 5.86s\n",
      "853:\tlearn: 1112.1836986\ttest: 1172.5903389\tbest: 1172.5903389 (853)\ttotal: 34s\tremaining: 5.81s\n",
      "854:\tlearn: 1112.1196337\ttest: 1172.5584279\tbest: 1172.5584279 (854)\ttotal: 34.1s\tremaining: 5.78s\n",
      "855:\tlearn: 1112.0519772\ttest: 1172.5228910\tbest: 1172.5228910 (855)\ttotal: 34.1s\tremaining: 5.74s\n",
      "856:\tlearn: 1111.9924857\ttest: 1172.5297121\tbest: 1172.5228910 (855)\ttotal: 34.2s\tremaining: 5.7s\n",
      "857:\tlearn: 1111.9616888\ttest: 1172.5182842\tbest: 1172.5182842 (857)\ttotal: 34.2s\tremaining: 5.67s\n",
      "858:\tlearn: 1111.9252460\ttest: 1172.5285963\tbest: 1172.5182842 (857)\ttotal: 34.3s\tremaining: 5.63s\n",
      "859:\tlearn: 1111.8277641\ttest: 1172.4905475\tbest: 1172.4905475 (859)\ttotal: 34.4s\tremaining: 5.59s\n",
      "860:\tlearn: 1111.7277263\ttest: 1172.4422689\tbest: 1172.4422689 (860)\ttotal: 34.4s\tremaining: 5.56s\n",
      "861:\tlearn: 1111.6893835\ttest: 1172.4316037\tbest: 1172.4316037 (861)\ttotal: 34.5s\tremaining: 5.52s\n",
      "862:\tlearn: 1111.6864907\ttest: 1172.4342984\tbest: 1172.4316037 (861)\ttotal: 34.5s\tremaining: 5.48s\n",
      "863:\tlearn: 1111.6508659\ttest: 1172.4338929\tbest: 1172.4316037 (861)\ttotal: 34.6s\tremaining: 5.44s\n",
      "864:\tlearn: 1111.5558772\ttest: 1172.3795690\tbest: 1172.3795690 (864)\ttotal: 34.6s\tremaining: 5.41s\n",
      "865:\tlearn: 1111.4818451\ttest: 1172.3630349\tbest: 1172.3630349 (865)\ttotal: 34.7s\tremaining: 5.37s\n",
      "866:\tlearn: 1111.3821833\ttest: 1172.2904032\tbest: 1172.2904032 (866)\ttotal: 34.7s\tremaining: 5.33s\n"
     ]
    },
    {
     "name": "stdout",
     "output_type": "stream",
     "text": [
      "867:\tlearn: 1111.3275269\ttest: 1172.2916386\tbest: 1172.2904032 (866)\ttotal: 34.8s\tremaining: 5.29s\n",
      "868:\tlearn: 1111.1807507\ttest: 1172.1927729\tbest: 1172.1927729 (868)\ttotal: 34.8s\tremaining: 5.25s\n",
      "869:\tlearn: 1111.1389526\ttest: 1172.1573084\tbest: 1172.1573084 (869)\ttotal: 34.9s\tremaining: 5.21s\n",
      "870:\tlearn: 1111.1354645\ttest: 1172.1564140\tbest: 1172.1564140 (870)\ttotal: 35s\tremaining: 5.18s\n",
      "871:\tlearn: 1111.0994103\ttest: 1172.1440835\tbest: 1172.1440835 (871)\ttotal: 35s\tremaining: 5.14s\n",
      "872:\tlearn: 1111.0264776\ttest: 1172.1069406\tbest: 1172.1069406 (872)\ttotal: 35.1s\tremaining: 5.1s\n",
      "873:\tlearn: 1110.9902852\ttest: 1172.1046985\tbest: 1172.1046985 (873)\ttotal: 35.1s\tremaining: 5.06s\n",
      "874:\tlearn: 1110.9424020\ttest: 1172.1314636\tbest: 1172.1046985 (873)\ttotal: 35.1s\tremaining: 5.02s\n",
      "875:\tlearn: 1110.8941955\ttest: 1172.0607734\tbest: 1172.0607734 (875)\ttotal: 35.2s\tremaining: 4.98s\n",
      "876:\tlearn: 1110.8007443\ttest: 1172.0014059\tbest: 1172.0014059 (876)\ttotal: 35.3s\tremaining: 4.94s\n",
      "877:\tlearn: 1110.7911491\ttest: 1171.9998619\tbest: 1171.9998619 (877)\ttotal: 35.3s\tremaining: 4.9s\n",
      "878:\tlearn: 1110.7264049\ttest: 1171.9725168\tbest: 1171.9725168 (878)\ttotal: 35.3s\tremaining: 4.86s\n",
      "879:\tlearn: 1110.6737188\ttest: 1171.9637303\tbest: 1171.9637303 (879)\ttotal: 35.4s\tremaining: 4.82s\n",
      "880:\tlearn: 1110.6567188\ttest: 1171.9790980\tbest: 1171.9637303 (879)\ttotal: 35.4s\tremaining: 4.79s\n",
      "881:\tlearn: 1110.5531245\ttest: 1171.9157187\tbest: 1171.9157187 (881)\ttotal: 35.5s\tremaining: 4.75s\n",
      "882:\tlearn: 1110.4159341\ttest: 1171.8617649\tbest: 1171.8617649 (882)\ttotal: 35.5s\tremaining: 4.71s\n",
      "883:\tlearn: 1110.3407290\ttest: 1171.7981241\tbest: 1171.7981241 (883)\ttotal: 35.6s\tremaining: 4.67s\n",
      "884:\tlearn: 1110.2837286\ttest: 1171.7436138\tbest: 1171.7436138 (884)\ttotal: 35.6s\tremaining: 4.63s\n",
      "885:\tlearn: 1110.2442497\ttest: 1171.6891867\tbest: 1171.6891867 (885)\ttotal: 35.7s\tremaining: 4.59s\n",
      "886:\tlearn: 1110.2159847\ttest: 1171.6974981\tbest: 1171.6891867 (885)\ttotal: 35.7s\tremaining: 4.55s\n",
      "887:\tlearn: 1110.1435407\ttest: 1171.6242293\tbest: 1171.6242293 (887)\ttotal: 35.8s\tremaining: 4.51s\n",
      "888:\tlearn: 1110.0939114\ttest: 1171.5852964\tbest: 1171.5852964 (888)\ttotal: 35.8s\tremaining: 4.47s\n",
      "889:\tlearn: 1110.0866958\ttest: 1171.5802964\tbest: 1171.5802964 (889)\ttotal: 35.9s\tremaining: 4.43s\n",
      "890:\tlearn: 1110.0275605\ttest: 1171.5572170\tbest: 1171.5572170 (890)\ttotal: 35.9s\tremaining: 4.39s\n",
      "891:\tlearn: 1109.9890181\ttest: 1171.5513238\tbest: 1171.5513238 (891)\ttotal: 35.9s\tremaining: 4.35s\n",
      "892:\tlearn: 1109.9367428\ttest: 1171.5245289\tbest: 1171.5245289 (892)\ttotal: 36s\tremaining: 4.31s\n",
      "893:\tlearn: 1109.9071957\ttest: 1171.5240448\tbest: 1171.5240448 (893)\ttotal: 36s\tremaining: 4.27s\n",
      "894:\tlearn: 1109.8575644\ttest: 1171.4849689\tbest: 1171.4849689 (894)\ttotal: 36.1s\tremaining: 4.23s\n",
      "895:\tlearn: 1109.8207873\ttest: 1171.4668812\tbest: 1171.4668812 (895)\ttotal: 36.1s\tremaining: 4.19s\n",
      "896:\tlearn: 1109.7923805\ttest: 1171.4552353\tbest: 1171.4552353 (896)\ttotal: 36.2s\tremaining: 4.15s\n",
      "897:\tlearn: 1109.7591190\ttest: 1171.4430383\tbest: 1171.4430383 (897)\ttotal: 36.2s\tremaining: 4.11s\n",
      "898:\tlearn: 1109.7088863\ttest: 1171.4209667\tbest: 1171.4209667 (898)\ttotal: 36.3s\tremaining: 4.07s\n",
      "899:\tlearn: 1109.6601254\ttest: 1171.4294515\tbest: 1171.4209667 (898)\ttotal: 36.3s\tremaining: 4.03s\n",
      "900:\tlearn: 1109.6576060\ttest: 1171.4309951\tbest: 1171.4209667 (898)\ttotal: 36.3s\tremaining: 3.99s\n",
      "901:\tlearn: 1109.5719331\ttest: 1171.4264828\tbest: 1171.4209667 (898)\ttotal: 36.4s\tremaining: 3.95s\n",
      "902:\tlearn: 1109.5364737\ttest: 1171.4166629\tbest: 1171.4166629 (902)\ttotal: 36.4s\tremaining: 3.91s\n",
      "903:\tlearn: 1109.5048048\ttest: 1171.4351384\tbest: 1171.4166629 (902)\ttotal: 36.5s\tremaining: 3.87s\n",
      "904:\tlearn: 1109.4776167\ttest: 1171.4288768\tbest: 1171.4166629 (902)\ttotal: 36.5s\tremaining: 3.83s\n",
      "905:\tlearn: 1109.3761363\ttest: 1171.3553768\tbest: 1171.3553768 (905)\ttotal: 36.6s\tremaining: 3.8s\n",
      "906:\tlearn: 1109.3641317\ttest: 1171.3684711\tbest: 1171.3553768 (905)\ttotal: 36.6s\tremaining: 3.75s\n",
      "907:\tlearn: 1109.3070027\ttest: 1171.3452946\tbest: 1171.3452946 (907)\ttotal: 36.7s\tremaining: 3.71s\n",
      "908:\tlearn: 1109.2283399\ttest: 1171.3792039\tbest: 1171.3452946 (907)\ttotal: 36.7s\tremaining: 3.68s\n",
      "909:\tlearn: 1109.1803411\ttest: 1171.3493096\tbest: 1171.3452946 (907)\ttotal: 36.8s\tremaining: 3.64s\n",
      "910:\tlearn: 1109.0469039\ttest: 1171.2501094\tbest: 1171.2501094 (910)\ttotal: 36.8s\tremaining: 3.6s\n",
      "911:\tlearn: 1108.9899233\ttest: 1171.2139307\tbest: 1171.2139307 (911)\ttotal: 36.9s\tremaining: 3.56s\n",
      "912:\tlearn: 1108.9431896\ttest: 1171.1665284\tbest: 1171.1665284 (912)\ttotal: 36.9s\tremaining: 3.52s\n",
      "913:\tlearn: 1108.8800183\ttest: 1171.1245736\tbest: 1171.1245736 (913)\ttotal: 37s\tremaining: 3.48s\n",
      "914:\tlearn: 1108.7538095\ttest: 1171.0389914\tbest: 1171.0389914 (914)\ttotal: 37s\tremaining: 3.44s\n",
      "915:\tlearn: 1108.6614861\ttest: 1170.9856532\tbest: 1170.9856532 (915)\ttotal: 37s\tremaining: 3.4s\n",
      "916:\tlearn: 1108.6312958\ttest: 1170.9968608\tbest: 1170.9856532 (915)\ttotal: 37.1s\tremaining: 3.35s\n",
      "917:\tlearn: 1108.5735005\ttest: 1170.9919969\tbest: 1170.9856532 (915)\ttotal: 37.1s\tremaining: 3.32s\n",
      "918:\tlearn: 1108.5443669\ttest: 1170.9706454\tbest: 1170.9706454 (918)\ttotal: 37.2s\tremaining: 3.28s\n",
      "919:\tlearn: 1108.5117444\ttest: 1170.9477409\tbest: 1170.9477409 (919)\ttotal: 37.2s\tremaining: 3.23s\n",
      "920:\tlearn: 1108.4462792\ttest: 1170.9324652\tbest: 1170.9324652 (920)\ttotal: 37.2s\tremaining: 3.19s\n",
      "921:\tlearn: 1108.3675866\ttest: 1170.8809266\tbest: 1170.8809266 (921)\ttotal: 37.3s\tremaining: 3.15s\n",
      "922:\tlearn: 1108.2916937\ttest: 1170.8663071\tbest: 1170.8663071 (922)\ttotal: 37.4s\tremaining: 3.12s\n",
      "923:\tlearn: 1108.2247573\ttest: 1170.8396263\tbest: 1170.8396263 (923)\ttotal: 37.4s\tremaining: 3.08s\n",
      "924:\tlearn: 1108.1449520\ttest: 1170.8207093\tbest: 1170.8207093 (924)\ttotal: 37.5s\tremaining: 3.04s\n",
      "925:\tlearn: 1108.0962429\ttest: 1170.8247145\tbest: 1170.8207093 (924)\ttotal: 37.6s\tremaining: 3s\n",
      "926:\tlearn: 1108.0357942\ttest: 1170.8107337\tbest: 1170.8107337 (926)\ttotal: 37.6s\tremaining: 2.96s\n",
      "927:\tlearn: 1107.9411630\ttest: 1170.7488649\tbest: 1170.7488649 (927)\ttotal: 37.6s\tremaining: 2.92s\n",
      "928:\tlearn: 1107.9152271\ttest: 1170.7283167\tbest: 1170.7283167 (928)\ttotal: 37.7s\tremaining: 2.88s\n",
      "929:\tlearn: 1107.8506490\ttest: 1170.7178369\tbest: 1170.7178369 (929)\ttotal: 37.7s\tremaining: 2.84s\n",
      "930:\tlearn: 1107.7903442\ttest: 1170.6971815\tbest: 1170.6971815 (930)\ttotal: 37.7s\tremaining: 2.8s\n",
      "931:\tlearn: 1107.7060057\ttest: 1170.6374110\tbest: 1170.6374110 (931)\ttotal: 37.8s\tremaining: 2.76s\n",
      "932:\tlearn: 1107.6664752\ttest: 1170.6068859\tbest: 1170.6068859 (932)\ttotal: 37.8s\tremaining: 2.71s\n",
      "933:\tlearn: 1107.6423392\ttest: 1170.5762243\tbest: 1170.5762243 (933)\ttotal: 37.9s\tremaining: 2.67s\n",
      "934:\tlearn: 1107.5517501\ttest: 1170.5873035\tbest: 1170.5762243 (933)\ttotal: 37.9s\tremaining: 2.63s\n",
      "935:\tlearn: 1107.5049425\ttest: 1170.6088176\tbest: 1170.5762243 (933)\ttotal: 38s\tremaining: 2.6s\n",
      "936:\tlearn: 1107.4211916\ttest: 1170.6200110\tbest: 1170.5762243 (933)\ttotal: 38s\tremaining: 2.56s\n",
      "937:\tlearn: 1107.4044975\ttest: 1170.6239210\tbest: 1170.5762243 (933)\ttotal: 38.1s\tremaining: 2.52s\n",
      "938:\tlearn: 1107.3368062\ttest: 1170.5491304\tbest: 1170.5491304 (938)\ttotal: 38.1s\tremaining: 2.48s\n",
      "939:\tlearn: 1107.2980332\ttest: 1170.5117635\tbest: 1170.5117635 (939)\ttotal: 38.1s\tremaining: 2.43s\n",
      "940:\tlearn: 1107.2328630\ttest: 1170.4720984\tbest: 1170.4720984 (940)\ttotal: 38.2s\tremaining: 2.4s\n",
      "941:\tlearn: 1107.1800403\ttest: 1170.4604447\tbest: 1170.4604447 (941)\ttotal: 38.3s\tremaining: 2.36s\n",
      "942:\tlearn: 1107.1089761\ttest: 1170.4891929\tbest: 1170.4604447 (941)\ttotal: 38.3s\tremaining: 2.32s\n",
      "943:\tlearn: 1107.0307771\ttest: 1170.4656901\tbest: 1170.4604447 (941)\ttotal: 38.4s\tremaining: 2.28s\n",
      "944:\tlearn: 1106.9432590\ttest: 1170.4147034\tbest: 1170.4147034 (944)\ttotal: 38.4s\tremaining: 2.24s\n",
      "945:\tlearn: 1106.8106583\ttest: 1170.3859142\tbest: 1170.3859142 (945)\ttotal: 38.5s\tremaining: 2.2s\n",
      "946:\tlearn: 1106.7793925\ttest: 1170.3753984\tbest: 1170.3753984 (946)\ttotal: 38.5s\tremaining: 2.15s\n",
      "947:\tlearn: 1106.7370263\ttest: 1170.3547739\tbest: 1170.3547739 (947)\ttotal: 38.6s\tremaining: 2.11s\n",
      "948:\tlearn: 1106.7211344\ttest: 1170.3406463\tbest: 1170.3406463 (948)\ttotal: 38.6s\tremaining: 2.07s\n",
      "949:\tlearn: 1106.6198434\ttest: 1170.2684850\tbest: 1170.2684850 (949)\ttotal: 38.6s\tremaining: 2.03s\n",
      "950:\tlearn: 1106.5766209\ttest: 1170.2519098\tbest: 1170.2519098 (950)\ttotal: 38.7s\tremaining: 1.99s\n",
      "951:\tlearn: 1106.4556350\ttest: 1170.1651677\tbest: 1170.1651677 (951)\ttotal: 38.8s\tremaining: 1.95s\n",
      "952:\tlearn: 1106.3753506\ttest: 1170.1691713\tbest: 1170.1651677 (951)\ttotal: 38.8s\tremaining: 1.91s\n",
      "953:\tlearn: 1106.3202708\ttest: 1170.1495893\tbest: 1170.1495893 (953)\ttotal: 38.9s\tremaining: 1.87s\n",
      "954:\tlearn: 1106.2980092\ttest: 1170.1445323\tbest: 1170.1445323 (954)\ttotal: 38.9s\tremaining: 1.83s\n"
     ]
    },
    {
     "name": "stdout",
     "output_type": "stream",
     "text": [
      "955:\tlearn: 1106.2503647\ttest: 1170.1205196\tbest: 1170.1205196 (955)\ttotal: 38.9s\tremaining: 1.79s\n",
      "956:\tlearn: 1106.2230420\ttest: 1170.1184164\tbest: 1170.1184164 (956)\ttotal: 39s\tremaining: 1.75s\n",
      "957:\tlearn: 1106.1792676\ttest: 1170.0680781\tbest: 1170.0680781 (957)\ttotal: 39s\tremaining: 1.71s\n",
      "958:\tlearn: 1106.1253207\ttest: 1170.0382647\tbest: 1170.0382647 (958)\ttotal: 39.1s\tremaining: 1.67s\n",
      "959:\tlearn: 1106.0588474\ttest: 1170.0449975\tbest: 1170.0382647 (958)\ttotal: 39.1s\tremaining: 1.63s\n",
      "960:\tlearn: 1106.0079984\ttest: 1169.9912505\tbest: 1169.9912505 (960)\ttotal: 39.2s\tremaining: 1.59s\n",
      "961:\tlearn: 1105.9800323\ttest: 1169.9902579\tbest: 1169.9902579 (961)\ttotal: 39.2s\tremaining: 1.55s\n",
      "962:\tlearn: 1105.9502577\ttest: 1169.9763184\tbest: 1169.9763184 (962)\ttotal: 39.3s\tremaining: 1.51s\n",
      "963:\tlearn: 1105.9424139\ttest: 1169.9776649\tbest: 1169.9763184 (962)\ttotal: 39.3s\tremaining: 1.47s\n",
      "964:\tlearn: 1105.8652886\ttest: 1169.9347653\tbest: 1169.9347653 (964)\ttotal: 39.3s\tremaining: 1.43s\n",
      "965:\tlearn: 1105.8377574\ttest: 1169.9131944\tbest: 1169.9131944 (965)\ttotal: 39.4s\tremaining: 1.39s\n",
      "966:\tlearn: 1105.7518124\ttest: 1169.9223311\tbest: 1169.9131944 (965)\ttotal: 39.4s\tremaining: 1.34s\n",
      "967:\tlearn: 1105.7149938\ttest: 1169.9369743\tbest: 1169.9131944 (965)\ttotal: 39.4s\tremaining: 1.3s\n",
      "968:\tlearn: 1105.6881625\ttest: 1169.9474430\tbest: 1169.9131944 (965)\ttotal: 39.5s\tremaining: 1.26s\n",
      "969:\tlearn: 1105.6101315\ttest: 1169.8953043\tbest: 1169.8953043 (969)\ttotal: 39.5s\tremaining: 1.22s\n",
      "970:\tlearn: 1105.5578412\ttest: 1169.8564497\tbest: 1169.8564497 (970)\ttotal: 39.6s\tremaining: 1.18s\n",
      "971:\tlearn: 1105.5288172\ttest: 1169.8507619\tbest: 1169.8507619 (971)\ttotal: 39.6s\tremaining: 1.14s\n",
      "972:\tlearn: 1105.5080306\ttest: 1169.8385314\tbest: 1169.8385314 (972)\ttotal: 39.6s\tremaining: 1.1s\n",
      "973:\tlearn: 1105.4469695\ttest: 1169.7673995\tbest: 1169.7673995 (973)\ttotal: 39.7s\tremaining: 1.06s\n",
      "974:\tlearn: 1105.4242853\ttest: 1169.7668394\tbest: 1169.7668394 (974)\ttotal: 39.7s\tremaining: 1.02s\n",
      "975:\tlearn: 1105.3749576\ttest: 1169.7612002\tbest: 1169.7612002 (975)\ttotal: 39.7s\tremaining: 977ms\n",
      "976:\tlearn: 1105.3166113\ttest: 1169.7415940\tbest: 1169.7415940 (976)\ttotal: 39.8s\tremaining: 936ms\n",
      "977:\tlearn: 1105.2901861\ttest: 1169.7206221\tbest: 1169.7206221 (977)\ttotal: 39.8s\tremaining: 896ms\n",
      "978:\tlearn: 1105.1796856\ttest: 1169.6597818\tbest: 1169.6597818 (978)\ttotal: 39.9s\tremaining: 855ms\n",
      "979:\tlearn: 1105.1296706\ttest: 1169.6223596\tbest: 1169.6223596 (979)\ttotal: 39.9s\tremaining: 814ms\n",
      "980:\tlearn: 1105.1031473\ttest: 1169.6160493\tbest: 1169.6160493 (980)\ttotal: 39.9s\tremaining: 774ms\n",
      "981:\tlearn: 1104.9940402\ttest: 1169.6067367\tbest: 1169.6067367 (981)\ttotal: 40s\tremaining: 733ms\n",
      "982:\tlearn: 1104.9401016\ttest: 1169.5804948\tbest: 1169.5804948 (982)\ttotal: 40.1s\tremaining: 693ms\n",
      "983:\tlearn: 1104.8495597\ttest: 1169.5590277\tbest: 1169.5590277 (983)\ttotal: 40.1s\tremaining: 652ms\n",
      "984:\tlearn: 1104.8085764\ttest: 1169.5338433\tbest: 1169.5338433 (984)\ttotal: 40.1s\tremaining: 611ms\n",
      "985:\tlearn: 1104.7430687\ttest: 1169.4856152\tbest: 1169.4856152 (985)\ttotal: 40.2s\tremaining: 571ms\n",
      "986:\tlearn: 1104.7089729\ttest: 1169.4816526\tbest: 1169.4816526 (986)\ttotal: 40.2s\tremaining: 530ms\n",
      "987:\tlearn: 1104.6712552\ttest: 1169.4690087\tbest: 1169.4690087 (987)\ttotal: 40.3s\tremaining: 489ms\n",
      "988:\tlearn: 1104.6145559\ttest: 1169.4637700\tbest: 1169.4637700 (988)\ttotal: 40.3s\tremaining: 448ms\n",
      "989:\tlearn: 1104.5396610\ttest: 1169.4149156\tbest: 1169.4149156 (989)\ttotal: 40.4s\tremaining: 408ms\n",
      "990:\tlearn: 1104.5306303\ttest: 1169.4060842\tbest: 1169.4060842 (990)\ttotal: 40.4s\tremaining: 367ms\n",
      "991:\tlearn: 1104.4545059\ttest: 1169.3286130\tbest: 1169.3286130 (991)\ttotal: 40.4s\tremaining: 326ms\n",
      "992:\tlearn: 1104.4001164\ttest: 1169.2957061\tbest: 1169.2957061 (992)\ttotal: 40.5s\tremaining: 285ms\n",
      "993:\tlearn: 1104.3173406\ttest: 1169.2314874\tbest: 1169.2314874 (993)\ttotal: 40.6s\tremaining: 245ms\n",
      "994:\tlearn: 1104.2777008\ttest: 1169.2259497\tbest: 1169.2259497 (994)\ttotal: 40.6s\tremaining: 204ms\n",
      "995:\tlearn: 1104.2008018\ttest: 1169.1719368\tbest: 1169.1719368 (995)\ttotal: 40.6s\tremaining: 163ms\n",
      "996:\tlearn: 1104.1563256\ttest: 1169.1656574\tbest: 1169.1656574 (996)\ttotal: 40.7s\tremaining: 122ms\n",
      "997:\tlearn: 1104.0289978\ttest: 1169.1430992\tbest: 1169.1430992 (997)\ttotal: 40.7s\tremaining: 81.6ms\n",
      "998:\tlearn: 1103.9731048\ttest: 1169.1457159\tbest: 1169.1430992 (997)\ttotal: 40.7s\tremaining: 40.8ms\n",
      "999:\tlearn: 1103.8384446\ttest: 1169.0618228\tbest: 1169.0618228 (999)\ttotal: 40.8s\tremaining: 0us\n",
      "\n",
      "bestTest = 1169.061823\n",
      "bestIteration = 999\n",
      "\n"
     ]
    },
    {
     "ename": "CatBoostError",
     "evalue": "Bad value for num_feature[non_default_doc_idx=0,feature_idx=0]=\"wagon\": Cannot convert 'b'wagon'' to float",
     "output_type": "error",
     "traceback": [
      "\u001b[0;31m---------------------------------------------------------------------------\u001b[0m",
      "\u001b[0;31mTypeError\u001b[0m                                 Traceback (most recent call last)",
      "\u001b[0;32m_catboost.pyx\u001b[0m in \u001b[0;36m_catboost.get_float_feature\u001b[0;34m()\u001b[0m\n",
      "\u001b[0;32m_catboost.pyx\u001b[0m in \u001b[0;36m_catboost._FloatOrNan\u001b[0;34m()\u001b[0m\n",
      "\u001b[0;32m_catboost.pyx\u001b[0m in \u001b[0;36m_catboost._FloatOrNanFromString\u001b[0;34m()\u001b[0m\n",
      "\u001b[0;31mTypeError\u001b[0m: Cannot convert 'b'wagon'' to float",
      "\nDuring handling of the above exception, another exception occurred:\n",
      "\u001b[0;31mCatBoostError\u001b[0m                             Traceback (most recent call last)",
      "\u001b[0;32m<timed exec>\u001b[0m in \u001b[0;36m<module>\u001b[0;34m\u001b[0m\n",
      "\u001b[0;32m/opt/anaconda3/lib/python3.8/site-packages/catboost/core.py\u001b[0m in \u001b[0;36m__init__\u001b[0;34m(self, data, label, cat_features, text_features, embedding_features, column_description, pairs, delimiter, has_header, ignore_csv_quoting, weight, group_id, group_weight, subgroup_id, pairs_weight, baseline, feature_names, thread_count, log_cout, log_cerr)\u001b[0m\n\u001b[1;32m    617\u001b[0m                     )\n\u001b[1;32m    618\u001b[0m \u001b[0;34m\u001b[0m\u001b[0m\n\u001b[0;32m--> 619\u001b[0;31m                 \u001b[0mself\u001b[0m\u001b[0;34m.\u001b[0m\u001b[0m_init\u001b[0m\u001b[0;34m(\u001b[0m\u001b[0mdata\u001b[0m\u001b[0;34m,\u001b[0m \u001b[0mlabel\u001b[0m\u001b[0;34m,\u001b[0m \u001b[0mcat_features\u001b[0m\u001b[0;34m,\u001b[0m \u001b[0mtext_features\u001b[0m\u001b[0;34m,\u001b[0m \u001b[0membedding_features\u001b[0m\u001b[0;34m,\u001b[0m \u001b[0mpairs\u001b[0m\u001b[0;34m,\u001b[0m \u001b[0mweight\u001b[0m\u001b[0;34m,\u001b[0m \u001b[0mgroup_id\u001b[0m\u001b[0;34m,\u001b[0m \u001b[0mgroup_weight\u001b[0m\u001b[0;34m,\u001b[0m \u001b[0msubgroup_id\u001b[0m\u001b[0;34m,\u001b[0m \u001b[0mpairs_weight\u001b[0m\u001b[0;34m,\u001b[0m \u001b[0mbaseline\u001b[0m\u001b[0;34m,\u001b[0m \u001b[0mfeature_names\u001b[0m\u001b[0;34m,\u001b[0m \u001b[0mthread_count\u001b[0m\u001b[0;34m)\u001b[0m\u001b[0;34m\u001b[0m\u001b[0;34m\u001b[0m\u001b[0m\n\u001b[0m\u001b[1;32m    620\u001b[0m         \u001b[0msuper\u001b[0m\u001b[0;34m(\u001b[0m\u001b[0mPool\u001b[0m\u001b[0;34m,\u001b[0m \u001b[0mself\u001b[0m\u001b[0;34m)\u001b[0m\u001b[0;34m.\u001b[0m\u001b[0m__init__\u001b[0m\u001b[0;34m(\u001b[0m\u001b[0;34m)\u001b[0m\u001b[0;34m\u001b[0m\u001b[0;34m\u001b[0m\u001b[0m\n\u001b[1;32m    621\u001b[0m \u001b[0;34m\u001b[0m\u001b[0m\n",
      "\u001b[0;32m/opt/anaconda3/lib/python3.8/site-packages/catboost/core.py\u001b[0m in \u001b[0;36m_init\u001b[0;34m(self, data, label, cat_features, text_features, embedding_features, pairs, weight, group_id, group_weight, subgroup_id, pairs_weight, baseline, feature_names, thread_count)\u001b[0m\n\u001b[1;32m   1133\u001b[0m             \u001b[0mbaseline\u001b[0m \u001b[0;34m=\u001b[0m \u001b[0mnp\u001b[0m\u001b[0;34m.\u001b[0m\u001b[0mreshape\u001b[0m\u001b[0;34m(\u001b[0m\u001b[0mbaseline\u001b[0m\u001b[0;34m,\u001b[0m \u001b[0;34m(\u001b[0m\u001b[0msamples_count\u001b[0m\u001b[0;34m,\u001b[0m \u001b[0;34m-\u001b[0m\u001b[0;36m1\u001b[0m\u001b[0;34m)\u001b[0m\u001b[0;34m)\u001b[0m\u001b[0;34m\u001b[0m\u001b[0;34m\u001b[0m\u001b[0m\n\u001b[1;32m   1134\u001b[0m             \u001b[0mself\u001b[0m\u001b[0;34m.\u001b[0m\u001b[0m_check_baseline_shape\u001b[0m\u001b[0;34m(\u001b[0m\u001b[0mbaseline\u001b[0m\u001b[0;34m,\u001b[0m \u001b[0msamples_count\u001b[0m\u001b[0;34m)\u001b[0m\u001b[0;34m\u001b[0m\u001b[0;34m\u001b[0m\u001b[0m\n\u001b[0;32m-> 1135\u001b[0;31m         \u001b[0mself\u001b[0m\u001b[0;34m.\u001b[0m\u001b[0m_init_pool\u001b[0m\u001b[0;34m(\u001b[0m\u001b[0mdata\u001b[0m\u001b[0;34m,\u001b[0m \u001b[0mlabel\u001b[0m\u001b[0;34m,\u001b[0m \u001b[0mcat_features\u001b[0m\u001b[0;34m,\u001b[0m \u001b[0mtext_features\u001b[0m\u001b[0;34m,\u001b[0m \u001b[0membedding_features\u001b[0m\u001b[0;34m,\u001b[0m \u001b[0mpairs\u001b[0m\u001b[0;34m,\u001b[0m \u001b[0mweight\u001b[0m\u001b[0;34m,\u001b[0m \u001b[0mgroup_id\u001b[0m\u001b[0;34m,\u001b[0m \u001b[0mgroup_weight\u001b[0m\u001b[0;34m,\u001b[0m \u001b[0msubgroup_id\u001b[0m\u001b[0;34m,\u001b[0m \u001b[0mpairs_weight\u001b[0m\u001b[0;34m,\u001b[0m \u001b[0mbaseline\u001b[0m\u001b[0;34m,\u001b[0m \u001b[0mfeature_names\u001b[0m\u001b[0;34m,\u001b[0m \u001b[0mthread_count\u001b[0m\u001b[0;34m)\u001b[0m\u001b[0;34m\u001b[0m\u001b[0;34m\u001b[0m\u001b[0m\n\u001b[0m\u001b[1;32m   1136\u001b[0m \u001b[0;34m\u001b[0m\u001b[0m\n\u001b[1;32m   1137\u001b[0m \u001b[0;34m\u001b[0m\u001b[0m\n",
      "\u001b[0;32m_catboost.pyx\u001b[0m in \u001b[0;36m_catboost._PoolBase._init_pool\u001b[0;34m()\u001b[0m\n",
      "\u001b[0;32m_catboost.pyx\u001b[0m in \u001b[0;36m_catboost._PoolBase._init_pool\u001b[0;34m()\u001b[0m\n",
      "\u001b[0;32m_catboost.pyx\u001b[0m in \u001b[0;36m_catboost._PoolBase._init_features_order_layout_pool\u001b[0;34m()\u001b[0m\n",
      "\u001b[0;32m_catboost.pyx\u001b[0m in \u001b[0;36m_catboost._set_features_order_data_pd_data_frame\u001b[0;34m()\u001b[0m\n",
      "\u001b[0;32m_catboost.pyx\u001b[0m in \u001b[0;36m_catboost.create_num_factor_data\u001b[0;34m()\u001b[0m\n",
      "\u001b[0;32m_catboost.pyx\u001b[0m in \u001b[0;36m_catboost.get_float_feature\u001b[0;34m()\u001b[0m\n",
      "\u001b[0;31mCatBoostError\u001b[0m: Bad value for num_feature[non_default_doc_idx=0,feature_idx=0]=\"wagon\": Cannot convert 'b'wagon'' to float"
     ]
    }
   ],
   "source": [
    "%%time\n",
    "\n",
    "model_cat = CatBoostRegressor(cat_features=[\"VehicleType\",\"Gearbox\",\n",
    "                                            \"Model\",\"FuelType\",\"Brand\",\"NotRepaired\"])\n",
    "model_cat.fit(train_features, train_target, eval_set=(valid_features, valid_target), plot=True)\n",
    "cv_params = model_cat.get_params() \n",
    "cv_params.update({'loss_function': 'MSE', \n",
    "                  'learning_rate':[0.1, 0.5, 0.8], \n",
    "                  'random_state':[12345]})\n",
    "cv_data = cv(Pool(train_features, train_target),cv_params)"
   ]
  },
  {
   "cell_type": "code",
   "execution_count": 31,
   "metadata": {},
   "outputs": [
    {
     "name": "stdout",
     "output_type": "stream",
     "text": [
      "RMSE модели CatBoost: 1151.5662719955822\n",
      "CPU times: user 914 ms, sys: 34.5 ms, total: 949 ms\n",
      "Wall time: 252 ms\n"
     ]
    }
   ],
   "source": [
    "%%time\n",
    "\n",
    "ypred = model_cat.predict(test_features)\n",
    "catboost_rmse = mean_squared_error(test_target, ypred) ** 0.5\n",
    "print('RMSE модели CatBoost:', catboost_rmse)"
   ]
  },
  {
   "cell_type": "markdown",
   "metadata": {},
   "source": [
    "### RandomForestRegressor"
   ]
  },
  {
   "cell_type": "code",
   "execution_count": 32,
   "metadata": {},
   "outputs": [
    {
     "name": "stdout",
     "output_type": "stream",
     "text": [
      "CPU times: user 39.7 s, sys: 318 ms, total: 40 s\n",
      "Wall time: 40 s\n"
     ]
    },
    {
     "data": {
      "text/plain": [
       "RandomForestRegressor(random_state=12345)"
      ]
     },
     "execution_count": 32,
     "metadata": {},
     "output_type": "execute_result"
    }
   ],
   "source": [
    "%%time\n",
    "\n",
    "rfr = RandomForestRegressor(criterion = \"mse\", random_state=12345 , n_estimators = 100)\n",
    "rfr.fit(train_features_oe,train_target_oe)"
   ]
  },
  {
   "cell_type": "code",
   "execution_count": 33,
   "metadata": {},
   "outputs": [
    {
     "name": "stdout",
     "output_type": "stream",
     "text": [
      "RMSE модели Ridge: 1152.5925644528998\n",
      "CPU times: user 1.8 s, sys: 11.1 ms, total: 1.81 s\n",
      "Wall time: 1.81 s\n"
     ]
    }
   ],
   "source": [
    "%%time\n",
    "\n",
    "ypred = rfr.predict(test_features_oe)\n",
    "rfr_rmse = mean_squared_error(test_target, ypred) ** 0.5\n",
    "print('RMSE модели Ridge:', rfr_rmse)"
   ]
  },
  {
   "cell_type": "markdown",
   "metadata": {},
   "source": [
    "### Ridge"
   ]
  },
  {
   "cell_type": "code",
   "execution_count": 34,
   "metadata": {},
   "outputs": [
    {
     "name": "stdout",
     "output_type": "stream",
     "text": [
      "Лучший параметр: {'solver': 'svd'}\n",
      "CPU times: user 3 s, sys: 105 ms, total: 3.1 s\n",
      "Wall time: 810 ms\n"
     ]
    }
   ],
   "source": [
    "%%time\n",
    "\n",
    "rgd = Ridge()\n",
    "parametrs = [{'solver':['auto', 'svd', 'cholesky', 'lsqr','sparse_cg']}]\n",
    "\n",
    "grid = GridSearchCV(rgd, parametrs, scoring='neg_mean_squared_error')\n",
    "grid.fit(train_features_oe,train_target_oe)\n",
    "print('Лучший параметр:', grid.best_params_)"
   ]
  },
  {
   "cell_type": "code",
   "execution_count": 35,
   "metadata": {},
   "outputs": [
    {
     "name": "stdout",
     "output_type": "stream",
     "text": [
      "RMSE модели Ridge: 2044.248688455252\n",
      "CPU times: user 11.6 ms, sys: 1.45 ms, total: 13 ms\n",
      "Wall time: 3.25 ms\n"
     ]
    }
   ],
   "source": [
    "%%time\n",
    "\n",
    "ypred = grid.predict(test_features_oe)\n",
    "ridge_rmse = mean_squared_error(test_target, ypred) ** 0.5\n",
    "print('RMSE модели Ridge:', ridge_rmse)"
   ]
  },
  {
   "cell_type": "markdown",
   "metadata": {},
   "source": [
    "### LightGBM"
   ]
  },
  {
   "cell_type": "code",
   "execution_count": 36,
   "metadata": {},
   "outputs": [],
   "source": [
    "cat_features=['VehicleType','Gearbox','Model','FuelType','Brand','NotRepaired']\n",
    "gbm_features = list(train_features.columns)"
   ]
  },
  {
   "cell_type": "code",
   "execution_count": 37,
   "metadata": {},
   "outputs": [
    {
     "name": "stdout",
     "output_type": "stream",
     "text": [
      "[LightGBM] [Warning] Auto-choosing row-wise multi-threading, the overhead of testing was 0.003874 seconds.\n",
      "You can set `force_row_wise=true` to remove the overhead.\n",
      "And if memory is not enough, you can set `force_col_wise=true`.\n",
      "[LightGBM] [Info] Total Bins 578\n",
      "[LightGBM] [Info] Number of data points in the train set: 190309, number of used features: 9\n",
      "[LightGBM] [Info] Start training from score 3723.704659\n",
      "CPU times: user 2.85 s, sys: 66 ms, total: 2.92 s\n",
      "Wall time: 415 ms\n"
     ]
    }
   ],
   "source": [
    "%%time\n",
    "\n",
    "lgb_train = lgb.Dataset(train_features_light, label = train_target_light, feature_name = gbm_features, \n",
    "                        categorical_feature = cat_features)\n",
    "param = {'learning_rate':0.25, 'n_estimators':100, 'objective':'root_mean_squared_error'}\n",
    "num_round = 1000\n",
    "lgb_model = lgb.train(param, lgb_train, num_round)"
   ]
  },
  {
   "cell_type": "code",
   "execution_count": 38,
   "metadata": {},
   "outputs": [
    {
     "name": "stdout",
     "output_type": "stream",
     "text": [
      "RMSE модели LightGBM: 1143.963116507718\n",
      "CPU times: user 747 ms, sys: 38.4 ms, total: 785 ms\n",
      "Wall time: 107 ms\n"
     ]
    }
   ],
   "source": [
    "%%time\n",
    "\n",
    "ypred = lgb_model.predict(test_features_light)\n",
    "gbm_rmse = mean_squared_error(test_target, ypred) ** 0.5\n",
    "print('RMSE модели LightGBM:', gbm_rmse)"
   ]
  },
  {
   "cell_type": "markdown",
   "metadata": {},
   "source": [
    "Вывод:\n",
    "\n",
    "    Обучили 4 модели с лучшими параметрами, так же посчитали RMSE."
   ]
  },
  {
   "cell_type": "markdown",
   "metadata": {},
   "source": [
    "## Анализ моделей"
   ]
  },
  {
   "cell_type": "markdown",
   "metadata": {},
   "source": [
    "Нас интересуют 3 условия, при выборе модели:\n",
    "\n",
    "- качество предсказания;\n",
    "- скорость предсказания;\n",
    "- время обучения.\n",
    "\n",
    "Распишем все 4 модели по условиям: \n",
    "\n",
    "    - по качеству предсказания\n",
    "\n",
    "        1. LightGBM = 1143.96;\n",
    "        2. CatBoost = 1151.56;\n",
    "        3. RandomForest = 1152.59;\n",
    "        4. Ridge = 2044.24.\n",
    "\n",
    "    - по скорости предсказания \n",
    "\n",
    "        1. Ridge = 13мс;\n",
    "        2. CatBoost = 617мс;\n",
    "        3. LightGBM = 785мс;\n",
    "        4. RandomForest = 1.81с.\n",
    "\n",
    "    - по времени обучения\n",
    "\n",
    "        1. LightGBM ~ 2.92с;\n",
    "        2. Ridge ~ 3.1с;\n",
    "        3. RandomForest ~ 40с;\n",
    "        4. CatBoost ~ 40.8с.\n",
    "      \n",
    "\n",
    "По качеству предсказаний модель LightGBM = 1143.96 допускает меньше всех ошибок, так же время ее обучения состовляет 2.92с. Если сравнивать Ridge и LightGBM модели, то лучшая из них LightGBM, так как Ridge допускает почти в два раза ошибок (2044.24) больше. Это самый худший результат по качеству предсказаний, чем у остальных моделей.\n",
    "\n",
    "Если сравнивать CatBoost с LightGBM, то разница в ошибках небольшая, но зато по времени обучения CatBoost (~ 40.8с) намного отстаёт. Скорость предсказания у этих двух моделей сильно отличается. Так же фаворитом выходит модель LightGBM.\n",
    "\n",
    "И последняя модель RandomForest, по всем показателям она уступает модели LightGBM. \n",
    "    \n",
    "Отсюда можно сделать вывод, что самая подходящая модель по качеству предсказания, по скорости предсказания и по времени обучения является модель LightGBM."
   ]
  }
 ],
 "metadata": {
  "ExecuteTimeLog": [
   {
    "duration": 752,
    "start_time": "2021-07-01T19:19:40.091Z"
   },
   {
    "duration": 6531,
    "start_time": "2021-07-01T19:49:49.594Z"
   },
   {
    "duration": 433,
    "start_time": "2021-07-01T19:52:34.192Z"
   },
   {
    "duration": 181,
    "start_time": "2021-07-01T19:52:40.280Z"
   },
   {
    "duration": 368,
    "start_time": "2021-07-01T20:02:28.587Z"
   },
   {
    "duration": 371,
    "start_time": "2021-07-01T20:02:42.093Z"
   },
   {
    "duration": 341,
    "start_time": "2021-07-01T20:03:35.806Z"
   },
   {
    "duration": 308,
    "start_time": "2021-07-01T20:03:55.862Z"
   },
   {
    "duration": 924,
    "start_time": "2021-07-01T20:04:02.791Z"
   },
   {
    "duration": 908,
    "start_time": "2021-07-01T20:04:32.127Z"
   },
   {
    "duration": 121,
    "start_time": "2021-07-01T20:05:47.129Z"
   },
   {
    "duration": 938,
    "start_time": "2021-07-01T20:05:58.585Z"
   },
   {
    "duration": 930,
    "start_time": "2021-07-01T20:06:21.278Z"
   },
   {
    "duration": 1086,
    "start_time": "2021-07-01T20:14:05.734Z"
   },
   {
    "duration": 1014,
    "start_time": "2021-07-01T20:14:15.491Z"
   },
   {
    "duration": 152,
    "start_time": "2021-07-01T20:35:18.335Z"
   },
   {
    "duration": 162,
    "start_time": "2021-07-01T20:35:49.697Z"
   },
   {
    "duration": 154,
    "start_time": "2021-07-01T20:36:00.739Z"
   },
   {
    "duration": 739,
    "start_time": "2021-07-01T20:38:14.998Z"
   },
   {
    "duration": 1167,
    "start_time": "2021-07-01T20:38:15.740Z"
   },
   {
    "duration": 256,
    "start_time": "2021-07-01T20:38:16.911Z"
   },
   {
    "duration": 1352,
    "start_time": "2021-07-01T20:38:17.170Z"
   },
   {
    "duration": 929,
    "start_time": "2021-07-01T20:39:34.937Z"
   },
   {
    "duration": 937,
    "start_time": "2021-07-01T20:39:47.713Z"
   },
   {
    "duration": 396,
    "start_time": "2021-07-01T20:40:04.175Z"
   },
   {
    "duration": 529,
    "start_time": "2021-07-01T20:40:31.958Z"
   },
   {
    "duration": 413,
    "start_time": "2021-07-01T20:40:35.811Z"
   },
   {
    "duration": 460,
    "start_time": "2021-07-01T20:40:48.036Z"
   },
   {
    "duration": 393,
    "start_time": "2021-07-01T20:40:59.083Z"
   },
   {
    "duration": 1427,
    "start_time": "2021-07-01T20:44:40.446Z"
   },
   {
    "duration": 1299,
    "start_time": "2021-07-01T20:45:07.400Z"
   },
   {
    "duration": 742,
    "start_time": "2021-07-01T20:56:41.714Z"
   },
   {
    "duration": 1133,
    "start_time": "2021-07-01T20:56:42.459Z"
   },
   {
    "duration": 171,
    "start_time": "2021-07-01T20:56:43.595Z"
   },
   {
    "duration": 1330,
    "start_time": "2021-07-01T20:56:43.768Z"
   },
   {
    "duration": 1459,
    "start_time": "2021-07-01T20:57:30.677Z"
   },
   {
    "duration": 775,
    "start_time": "2021-07-01T20:57:50.677Z"
   },
   {
    "duration": 1173,
    "start_time": "2021-07-01T20:57:51.455Z"
   },
   {
    "duration": 173,
    "start_time": "2021-07-01T20:57:52.631Z"
   },
   {
    "duration": 1393,
    "start_time": "2021-07-01T20:57:52.806Z"
   },
   {
    "duration": 1323,
    "start_time": "2021-07-01T20:58:21.038Z"
   },
   {
    "duration": 1436,
    "start_time": "2021-07-01T20:58:34.437Z"
   },
   {
    "duration": 903,
    "start_time": "2021-07-05T18:36:26.719Z"
   },
   {
    "duration": 5271,
    "start_time": "2021-07-05T18:36:27.626Z"
   },
   {
    "duration": 194,
    "start_time": "2021-07-05T18:36:32.900Z"
   },
   {
    "duration": 1724,
    "start_time": "2021-07-05T18:36:33.102Z"
   },
   {
    "duration": 6,
    "start_time": "2021-07-05T18:47:10.977Z"
   },
   {
    "duration": 43,
    "start_time": "2021-07-05T18:49:35.507Z"
   },
   {
    "duration": 6,
    "start_time": "2021-07-05T18:49:45.792Z"
   },
   {
    "duration": 128,
    "start_time": "2021-07-05T18:49:58.730Z"
   },
   {
    "duration": 165,
    "start_time": "2021-07-05T19:41:02.203Z"
   },
   {
    "duration": 242,
    "start_time": "2021-07-05T19:41:32.436Z"
   },
   {
    "duration": 206,
    "start_time": "2021-07-05T19:42:27.321Z"
   },
   {
    "duration": 4,
    "start_time": "2021-07-05T19:43:16.250Z"
   },
   {
    "duration": 194,
    "start_time": "2021-07-05T19:43:31.762Z"
   },
   {
    "duration": 500,
    "start_time": "2021-07-05T19:51:26.586Z"
   },
   {
    "duration": 562,
    "start_time": "2021-07-05T20:12:39.298Z"
   },
   {
    "duration": 353,
    "start_time": "2021-07-05T20:13:16.787Z"
   },
   {
    "duration": 64,
    "start_time": "2021-07-05T20:30:30.430Z"
   },
   {
    "duration": 46,
    "start_time": "2021-07-05T20:30:42.468Z"
   },
   {
    "duration": 70,
    "start_time": "2021-07-05T20:31:15.432Z"
   },
   {
    "duration": 53,
    "start_time": "2021-07-05T20:39:08.126Z"
   },
   {
    "duration": 1005,
    "start_time": "2021-07-05T20:39:16.899Z"
   },
   {
    "duration": 5546,
    "start_time": "2021-07-05T20:39:17.908Z"
   },
   {
    "duration": 190,
    "start_time": "2021-07-05T20:39:23.457Z"
   },
   {
    "duration": 2054,
    "start_time": "2021-07-05T20:39:23.651Z"
   },
   {
    "duration": 38,
    "start_time": "2021-07-05T20:39:25.708Z"
   },
   {
    "duration": 133,
    "start_time": "2021-07-05T20:39:25.749Z"
   },
   {
    "duration": 261,
    "start_time": "2021-07-05T20:39:25.885Z"
   },
   {
    "duration": 476,
    "start_time": "2021-07-05T20:39:26.149Z"
   },
   {
    "duration": 89,
    "start_time": "2021-07-05T20:39:26.629Z"
   },
   {
    "duration": 354,
    "start_time": "2021-07-05T20:45:52.105Z"
   },
   {
    "duration": 901,
    "start_time": "2021-07-05T20:46:15.618Z"
   },
   {
    "duration": 1443,
    "start_time": "2021-07-05T20:46:16.522Z"
   },
   {
    "duration": 211,
    "start_time": "2021-07-05T20:46:17.968Z"
   },
   {
    "duration": 1953,
    "start_time": "2021-07-05T20:46:18.182Z"
   },
   {
    "duration": 45,
    "start_time": "2021-07-05T20:46:20.138Z"
   },
   {
    "duration": 189,
    "start_time": "2021-07-05T20:46:20.186Z"
   },
   {
    "duration": 348,
    "start_time": "2021-07-05T20:46:20.378Z"
   },
   {
    "duration": 584,
    "start_time": "2021-07-05T20:46:20.729Z"
   },
   {
    "duration": 101,
    "start_time": "2021-07-05T20:46:21.319Z"
   },
   {
    "duration": 382,
    "start_time": "2021-07-05T20:47:40.303Z"
   },
   {
    "duration": 744,
    "start_time": "2021-07-05T20:49:59.319Z"
   },
   {
    "duration": 696,
    "start_time": "2021-07-05T20:53:01.475Z"
   },
   {
    "duration": 638,
    "start_time": "2021-07-05T21:01:09.808Z"
   },
   {
    "duration": 6683,
    "start_time": "2021-07-05T21:05:10.844Z"
   },
   {
    "duration": 8,
    "start_time": "2021-07-05T21:18:09.560Z"
   },
   {
    "duration": 637,
    "start_time": "2021-07-05T21:18:34.953Z"
   },
   {
    "duration": 100,
    "start_time": "2021-07-05T21:28:22.361Z"
   },
   {
    "duration": 7,
    "start_time": "2021-07-05T21:28:28.869Z"
   },
   {
    "duration": 582,
    "start_time": "2021-07-05T21:28:32.270Z"
   },
   {
    "duration": 352,
    "start_time": "2021-07-05T21:29:58.225Z"
   },
   {
    "duration": 64,
    "start_time": "2021-07-05T21:30:21.349Z"
   },
   {
    "duration": 976,
    "start_time": "2021-07-05T21:30:30.141Z"
   },
   {
    "duration": 1538,
    "start_time": "2021-07-05T21:30:31.120Z"
   },
   {
    "duration": 189,
    "start_time": "2021-07-05T21:30:32.662Z"
   },
   {
    "duration": 1672,
    "start_time": "2021-07-05T21:30:32.855Z"
   },
   {
    "duration": 38,
    "start_time": "2021-07-05T21:30:34.531Z"
   },
   {
    "duration": 180,
    "start_time": "2021-07-05T21:30:34.572Z"
   },
   {
    "duration": 285,
    "start_time": "2021-07-05T21:30:34.759Z"
   },
   {
    "duration": 540,
    "start_time": "2021-07-05T21:30:35.047Z"
   },
   {
    "duration": 85,
    "start_time": "2021-07-05T21:30:35.590Z"
   },
   {
    "duration": 28,
    "start_time": "2021-07-05T21:30:35.679Z"
   },
   {
    "duration": 380,
    "start_time": "2021-07-05T21:30:35.711Z"
   },
   {
    "duration": 997,
    "start_time": "2021-07-05T21:39:16.986Z"
   },
   {
    "duration": 1338,
    "start_time": "2021-07-05T21:39:39.623Z"
   },
   {
    "duration": 752,
    "start_time": "2021-07-05T21:39:48.958Z"
   },
   {
    "duration": 599,
    "start_time": "2021-07-05T21:39:59.088Z"
   },
   {
    "duration": 439,
    "start_time": "2021-07-05T21:44:15.977Z"
   },
   {
    "duration": 713,
    "start_time": "2021-07-05T21:44:27.061Z"
   },
   {
    "duration": 513,
    "start_time": "2021-07-05T21:44:38.664Z"
   },
   {
    "duration": 973,
    "start_time": "2021-07-05T21:51:15.535Z"
   },
   {
    "duration": 938,
    "start_time": "2021-07-05T21:53:42.435Z"
   },
   {
    "duration": 545,
    "start_time": "2021-07-05T21:53:53.779Z"
   },
   {
    "duration": 545,
    "start_time": "2021-07-05T21:54:01.144Z"
   },
   {
    "duration": 3928,
    "start_time": "2021-07-05T21:54:15.524Z"
   },
   {
    "duration": 612,
    "start_time": "2021-07-05T21:54:31.964Z"
   },
   {
    "duration": 601,
    "start_time": "2021-07-05T21:54:59.138Z"
   },
   {
    "duration": 599,
    "start_time": "2021-07-05T21:55:05.356Z"
   },
   {
    "duration": 560,
    "start_time": "2021-07-05T21:57:45.194Z"
   },
   {
    "duration": 505,
    "start_time": "2021-07-05T21:59:23.270Z"
   },
   {
    "duration": 18,
    "start_time": "2021-07-05T21:59:50.248Z"
   },
   {
    "duration": 565,
    "start_time": "2021-07-05T22:02:59.519Z"
   },
   {
    "duration": 811,
    "start_time": "2021-07-05T22:05:53.844Z"
   },
   {
    "duration": 95,
    "start_time": "2021-07-05T22:11:21.390Z"
   },
   {
    "duration": 462,
    "start_time": "2021-07-05T22:12:28.129Z"
   },
   {
    "duration": 546,
    "start_time": "2021-07-05T22:12:52.456Z"
   },
   {
    "duration": 755,
    "start_time": "2021-07-05T22:13:23.474Z"
   },
   {
    "duration": 1201,
    "start_time": "2021-07-05T22:13:24.232Z"
   },
   {
    "duration": 181,
    "start_time": "2021-07-05T22:13:25.437Z"
   },
   {
    "duration": 1479,
    "start_time": "2021-07-05T22:13:25.622Z"
   },
   {
    "duration": 34,
    "start_time": "2021-07-05T22:13:27.103Z"
   },
   {
    "duration": 184,
    "start_time": "2021-07-05T22:13:27.141Z"
   },
   {
    "duration": 224,
    "start_time": "2021-07-05T22:13:27.328Z"
   },
   {
    "duration": 485,
    "start_time": "2021-07-05T22:13:27.555Z"
   },
   {
    "duration": 82,
    "start_time": "2021-07-05T22:13:28.043Z"
   },
   {
    "duration": 20,
    "start_time": "2021-07-05T22:13:28.128Z"
   },
   {
    "duration": 601,
    "start_time": "2021-07-05T22:13:28.151Z"
   },
   {
    "duration": 499,
    "start_time": "2021-07-05T22:13:28.754Z"
   },
   {
    "duration": 686,
    "start_time": "2021-07-05T22:14:04.289Z"
   },
   {
    "duration": 732,
    "start_time": "2021-07-05T22:14:24.228Z"
   },
   {
    "duration": 1211,
    "start_time": "2021-07-05T22:14:24.963Z"
   },
   {
    "duration": 192,
    "start_time": "2021-07-05T22:14:26.177Z"
   },
   {
    "duration": 1498,
    "start_time": "2021-07-05T22:14:26.372Z"
   },
   {
    "duration": 50,
    "start_time": "2021-07-05T22:14:27.872Z"
   },
   {
    "duration": 116,
    "start_time": "2021-07-05T22:14:27.925Z"
   },
   {
    "duration": 241,
    "start_time": "2021-07-05T22:14:28.044Z"
   },
   {
    "duration": 492,
    "start_time": "2021-07-05T22:14:28.288Z"
   },
   {
    "duration": 101,
    "start_time": "2021-07-05T22:14:28.784Z"
   },
   {
    "duration": 35,
    "start_time": "2021-07-05T22:14:28.889Z"
   },
   {
    "duration": 663,
    "start_time": "2021-07-05T22:14:28.926Z"
   },
   {
    "duration": 546,
    "start_time": "2021-07-05T22:14:29.592Z"
   },
   {
    "duration": 755,
    "start_time": "2021-07-05T22:16:59.016Z"
   },
   {
    "duration": 1197,
    "start_time": "2021-07-05T22:16:59.773Z"
   },
   {
    "duration": 192,
    "start_time": "2021-07-05T22:17:00.974Z"
   },
   {
    "duration": 1501,
    "start_time": "2021-07-05T22:17:01.170Z"
   },
   {
    "duration": 45,
    "start_time": "2021-07-05T22:17:02.674Z"
   },
   {
    "duration": 123,
    "start_time": "2021-07-05T22:17:02.722Z"
   },
   {
    "duration": 228,
    "start_time": "2021-07-05T22:17:02.848Z"
   },
   {
    "duration": 491,
    "start_time": "2021-07-05T22:17:03.079Z"
   },
   {
    "duration": 85,
    "start_time": "2021-07-05T22:17:03.573Z"
   },
   {
    "duration": 20,
    "start_time": "2021-07-05T22:17:03.660Z"
   },
   {
    "duration": 662,
    "start_time": "2021-07-05T22:17:03.683Z"
   },
   {
    "duration": 568,
    "start_time": "2021-07-05T22:17:04.347Z"
   },
   {
    "duration": 448,
    "start_time": "2021-07-05T22:17:24.233Z"
   },
   {
    "duration": 558,
    "start_time": "2021-07-05T22:17:41.221Z"
   },
   {
    "duration": 703,
    "start_time": "2021-07-05T22:19:03.248Z"
   },
   {
    "duration": 1222,
    "start_time": "2021-07-05T22:19:03.954Z"
   },
   {
    "duration": 176,
    "start_time": "2021-07-05T22:19:05.179Z"
   },
   {
    "duration": 1406,
    "start_time": "2021-07-05T22:19:05.357Z"
   },
   {
    "duration": 44,
    "start_time": "2021-07-05T22:19:06.765Z"
   },
   {
    "duration": 124,
    "start_time": "2021-07-05T22:19:06.812Z"
   },
   {
    "duration": 226,
    "start_time": "2021-07-05T22:19:06.939Z"
   },
   {
    "duration": 477,
    "start_time": "2021-07-05T22:19:07.168Z"
   },
   {
    "duration": 81,
    "start_time": "2021-07-05T22:19:07.648Z"
   },
   {
    "duration": 17,
    "start_time": "2021-07-05T22:19:07.732Z"
   },
   {
    "duration": 632,
    "start_time": "2021-07-05T22:19:07.751Z"
   },
   {
    "duration": 514,
    "start_time": "2021-07-05T22:19:08.386Z"
   },
   {
    "duration": 619,
    "start_time": "2021-07-05T22:28:00.352Z"
   },
   {
    "duration": 1080,
    "start_time": "2021-07-05T22:28:09.224Z"
   },
   {
    "duration": 18,
    "start_time": "2021-07-05T22:28:47.930Z"
   },
   {
    "duration": 550,
    "start_time": "2021-07-05T22:31:02.013Z"
   },
   {
    "duration": 450,
    "start_time": "2021-07-05T22:31:31.965Z"
   },
   {
    "duration": 528,
    "start_time": "2021-07-05T22:31:40.860Z"
   },
   {
    "duration": 472,
    "start_time": "2021-07-05T22:31:53.470Z"
   },
   {
    "duration": 882,
    "start_time": "2021-07-05T22:33:01.486Z"
   },
   {
    "duration": 464,
    "start_time": "2021-07-05T22:33:08.094Z"
   },
   {
    "duration": 393,
    "start_time": "2021-07-05T22:33:38.862Z"
   },
   {
    "duration": 463,
    "start_time": "2021-07-05T22:34:01.873Z"
   },
   {
    "duration": 357,
    "start_time": "2021-07-05T22:34:14.681Z"
   },
   {
    "duration": 95,
    "start_time": "2021-07-05T22:34:47.818Z"
   },
   {
    "duration": 457,
    "start_time": "2021-07-05T22:35:30.744Z"
   },
   {
    "duration": 471,
    "start_time": "2021-07-05T22:35:53.917Z"
   },
   {
    "duration": 618,
    "start_time": "2021-07-05T22:36:06.259Z"
   },
   {
    "duration": 643,
    "start_time": "2021-07-05T22:37:29.500Z"
   },
   {
    "duration": 296,
    "start_time": "2021-07-05T22:40:02.924Z"
   },
   {
    "duration": 707,
    "start_time": "2021-07-05T22:40:13.199Z"
   },
   {
    "duration": 1064,
    "start_time": "2021-07-05T22:40:13.909Z"
   },
   {
    "duration": 161,
    "start_time": "2021-07-05T22:40:14.976Z"
   },
   {
    "duration": 1263,
    "start_time": "2021-07-05T22:40:15.140Z"
   },
   {
    "duration": 31,
    "start_time": "2021-07-05T22:40:16.405Z"
   },
   {
    "duration": 122,
    "start_time": "2021-07-05T22:40:16.438Z"
   },
   {
    "duration": 203,
    "start_time": "2021-07-05T22:40:16.562Z"
   },
   {
    "duration": 458,
    "start_time": "2021-07-05T22:40:16.768Z"
   },
   {
    "duration": 79,
    "start_time": "2021-07-05T22:40:17.229Z"
   },
   {
    "duration": 18,
    "start_time": "2021-07-05T22:40:17.310Z"
   },
   {
    "duration": 502,
    "start_time": "2021-07-05T22:40:17.331Z"
   },
   {
    "duration": 481,
    "start_time": "2021-07-05T22:40:17.835Z"
   },
   {
    "duration": 308,
    "start_time": "2021-07-05T22:40:18.318Z"
   },
   {
    "duration": 591,
    "start_time": "2021-07-05T22:40:18.628Z"
   },
   {
    "duration": 614,
    "start_time": "2021-07-05T22:40:19.222Z"
   },
   {
    "duration": 665,
    "start_time": "2021-07-05T22:43:13.672Z"
   },
   {
    "duration": 665,
    "start_time": "2021-07-05T22:45:01.216Z"
   },
   {
    "duration": 707,
    "start_time": "2021-07-05T22:46:04.625Z"
   },
   {
    "duration": 729,
    "start_time": "2021-07-05T22:46:14.373Z"
   },
   {
    "duration": 1159,
    "start_time": "2021-07-05T22:46:15.107Z"
   },
   {
    "duration": 191,
    "start_time": "2021-07-05T22:46:16.270Z"
   },
   {
    "duration": 1461,
    "start_time": "2021-07-05T22:46:16.464Z"
   },
   {
    "duration": 38,
    "start_time": "2021-07-05T22:46:17.927Z"
   },
   {
    "duration": 132,
    "start_time": "2021-07-05T22:46:17.969Z"
   },
   {
    "duration": 223,
    "start_time": "2021-07-05T22:46:18.104Z"
   },
   {
    "duration": 465,
    "start_time": "2021-07-05T22:46:18.329Z"
   },
   {
    "duration": 67,
    "start_time": "2021-07-05T22:46:18.796Z"
   },
   {
    "duration": 39,
    "start_time": "2021-07-05T22:46:18.865Z"
   },
   {
    "duration": 528,
    "start_time": "2021-07-05T22:46:18.907Z"
   },
   {
    "duration": 496,
    "start_time": "2021-07-05T22:46:19.438Z"
   },
   {
    "duration": 340,
    "start_time": "2021-07-05T22:46:19.936Z"
   },
   {
    "duration": 648,
    "start_time": "2021-07-05T22:46:20.278Z"
   },
   {
    "duration": 705,
    "start_time": "2021-07-05T22:46:20.928Z"
   },
   {
    "duration": 699,
    "start_time": "2021-07-05T22:46:21.636Z"
   },
   {
    "duration": 783,
    "start_time": "2021-07-05T22:46:36.987Z"
   },
   {
    "duration": 757,
    "start_time": "2021-07-05T22:46:53.191Z"
   },
   {
    "duration": 1155,
    "start_time": "2021-07-05T22:46:53.951Z"
   },
   {
    "duration": 181,
    "start_time": "2021-07-05T22:46:55.109Z"
   },
   {
    "duration": 1547,
    "start_time": "2021-07-05T22:46:55.293Z"
   },
   {
    "duration": 33,
    "start_time": "2021-07-05T22:46:56.842Z"
   },
   {
    "duration": 133,
    "start_time": "2021-07-05T22:46:56.878Z"
   },
   {
    "duration": 259,
    "start_time": "2021-07-05T22:46:57.015Z"
   },
   {
    "duration": 500,
    "start_time": "2021-07-05T22:46:57.277Z"
   },
   {
    "duration": 84,
    "start_time": "2021-07-05T22:46:57.782Z"
   },
   {
    "duration": 43,
    "start_time": "2021-07-05T22:46:57.870Z"
   },
   {
    "duration": 689,
    "start_time": "2021-07-05T22:46:57.916Z"
   },
   {
    "duration": 510,
    "start_time": "2021-07-05T22:46:58.607Z"
   },
   {
    "duration": 342,
    "start_time": "2021-07-05T22:46:59.120Z"
   },
   {
    "duration": 653,
    "start_time": "2021-07-05T22:46:59.464Z"
   },
   {
    "duration": 681,
    "start_time": "2021-07-05T22:47:00.119Z"
   },
   {
    "duration": 688,
    "start_time": "2021-07-05T22:47:00.803Z"
   },
   {
    "duration": 107,
    "start_time": "2021-07-05T22:53:44.660Z"
   },
   {
    "duration": 18,
    "start_time": "2021-07-05T22:55:03.537Z"
   },
   {
    "duration": 395,
    "start_time": "2021-07-05T22:58:38.026Z"
   },
   {
    "duration": 105,
    "start_time": "2021-07-05T23:01:28.645Z"
   },
   {
    "duration": 102,
    "start_time": "2021-07-05T23:01:36.765Z"
   },
   {
    "duration": 803,
    "start_time": "2021-07-07T17:58:28.959Z"
   },
   {
    "duration": 1215,
    "start_time": "2021-07-07T17:58:29.765Z"
   },
   {
    "duration": 179,
    "start_time": "2021-07-07T17:58:30.983Z"
   },
   {
    "duration": 1401,
    "start_time": "2021-07-07T17:58:31.167Z"
   },
   {
    "duration": 40,
    "start_time": "2021-07-07T17:58:32.570Z"
   },
   {
    "duration": 123,
    "start_time": "2021-07-07T17:58:32.613Z"
   },
   {
    "duration": 201,
    "start_time": "2021-07-07T17:58:32.738Z"
   },
   {
    "duration": 199,
    "start_time": "2021-07-07T17:58:32.943Z"
   },
   {
    "duration": 459,
    "start_time": "2021-07-07T17:58:33.145Z"
   },
   {
    "duration": 78,
    "start_time": "2021-07-07T17:58:33.606Z"
   },
   {
    "duration": 17,
    "start_time": "2021-07-07T17:58:33.687Z"
   },
   {
    "duration": 536,
    "start_time": "2021-07-07T17:58:33.706Z"
   },
   {
    "duration": 508,
    "start_time": "2021-07-07T17:58:34.245Z"
   },
   {
    "duration": 342,
    "start_time": "2021-07-07T17:58:34.756Z"
   },
   {
    "duration": 635,
    "start_time": "2021-07-07T17:58:35.100Z"
   },
   {
    "duration": 658,
    "start_time": "2021-07-07T17:58:35.738Z"
   },
   {
    "duration": 657,
    "start_time": "2021-07-07T17:58:36.400Z"
   },
   {
    "duration": 71,
    "start_time": "2021-07-07T17:58:37.059Z"
   },
   {
    "duration": 123,
    "start_time": "2021-07-07T17:58:37.132Z"
   },
   {
    "duration": 2563,
    "start_time": "2021-07-07T18:11:30.477Z"
   },
   {
    "duration": 1186,
    "start_time": "2021-07-07T18:11:33.042Z"
   },
   {
    "duration": 253,
    "start_time": "2021-07-07T18:11:34.231Z"
   },
   {
    "duration": 1367,
    "start_time": "2021-07-07T18:11:34.486Z"
   },
   {
    "duration": 39,
    "start_time": "2021-07-07T18:11:35.855Z"
   },
   {
    "duration": 125,
    "start_time": "2021-07-07T18:11:35.896Z"
   },
   {
    "duration": 218,
    "start_time": "2021-07-07T18:11:36.023Z"
   },
   {
    "duration": 200,
    "start_time": "2021-07-07T18:11:36.245Z"
   },
   {
    "duration": 483,
    "start_time": "2021-07-07T18:11:36.448Z"
   },
   {
    "duration": 80,
    "start_time": "2021-07-07T18:11:36.933Z"
   },
   {
    "duration": 17,
    "start_time": "2021-07-07T18:11:37.015Z"
   },
   {
    "duration": 536,
    "start_time": "2021-07-07T18:11:37.035Z"
   },
   {
    "duration": 507,
    "start_time": "2021-07-07T18:11:37.573Z"
   },
   {
    "duration": 344,
    "start_time": "2021-07-07T18:11:38.083Z"
   },
   {
    "duration": 620,
    "start_time": "2021-07-07T18:11:38.429Z"
   },
   {
    "duration": 677,
    "start_time": "2021-07-07T18:11:39.052Z"
   },
   {
    "duration": 678,
    "start_time": "2021-07-07T18:11:39.731Z"
   },
   {
    "duration": 68,
    "start_time": "2021-07-07T18:11:40.412Z"
   },
   {
    "duration": 120,
    "start_time": "2021-07-07T18:11:40.483Z"
   },
   {
    "duration": 4,
    "start_time": "2021-07-07T18:16:21.947Z"
   },
   {
    "duration": 1096,
    "start_time": "2021-07-07T18:16:22.530Z"
   },
   {
    "duration": 166,
    "start_time": "2021-07-07T18:16:23.629Z"
   },
   {
    "duration": 1339,
    "start_time": "2021-07-07T18:16:25.003Z"
   },
   {
    "duration": 39,
    "start_time": "2021-07-07T18:16:28.727Z"
   },
   {
    "duration": 109,
    "start_time": "2021-07-07T18:16:31.112Z"
   },
   {
    "duration": 194,
    "start_time": "2021-07-07T18:16:48.093Z"
   },
   {
    "duration": 184,
    "start_time": "2021-07-07T18:16:49.762Z"
   },
   {
    "duration": 179,
    "start_time": "2021-07-07T18:16:57.913Z"
   },
   {
    "duration": 175,
    "start_time": "2021-07-07T18:17:03.383Z"
   },
   {
    "duration": 187,
    "start_time": "2021-07-07T18:17:13.694Z"
   },
   {
    "duration": 194,
    "start_time": "2021-07-07T18:17:36.092Z"
   },
   {
    "duration": 71,
    "start_time": "2021-07-07T18:24:02.189Z"
   },
   {
    "duration": 467,
    "start_time": "2021-07-07T18:25:05.684Z"
   },
   {
    "duration": 25,
    "start_time": "2021-07-07T18:25:10.821Z"
   },
   {
    "duration": 871,
    "start_time": "2021-07-07T18:28:55.292Z"
   },
   {
    "duration": 463,
    "start_time": "2021-07-07T19:13:05.724Z"
   },
   {
    "duration": 1269,
    "start_time": "2021-07-07T19:13:22.954Z"
   },
   {
    "duration": 950,
    "start_time": "2021-07-07T19:14:49.001Z"
   },
   {
    "duration": 1446,
    "start_time": "2021-07-07T19:14:49.955Z"
   },
   {
    "duration": 908,
    "start_time": "2021-07-07T19:14:51.404Z"
   },
   {
    "duration": 1853,
    "start_time": "2021-07-07T19:14:52.315Z"
   },
   {
    "duration": 212,
    "start_time": "2021-07-07T19:14:54.171Z"
   },
   {
    "duration": 1584,
    "start_time": "2021-07-07T19:14:54.385Z"
   },
   {
    "duration": 46,
    "start_time": "2021-07-07T19:14:55.972Z"
   },
   {
    "duration": 134,
    "start_time": "2021-07-07T19:14:56.024Z"
   },
   {
    "duration": 207,
    "start_time": "2021-07-07T19:14:56.161Z"
   },
   {
    "duration": 562,
    "start_time": "2021-07-07T19:14:56.371Z"
   },
   {
    "duration": 75,
    "start_time": "2021-07-07T19:14:56.936Z"
   },
   {
    "duration": 18,
    "start_time": "2021-07-07T19:14:57.014Z"
   },
   {
    "duration": 554,
    "start_time": "2021-07-07T19:14:57.034Z"
   },
   {
    "duration": 520,
    "start_time": "2021-07-07T19:14:57.592Z"
   },
   {
    "duration": 344,
    "start_time": "2021-07-07T19:14:58.115Z"
   },
   {
    "duration": 664,
    "start_time": "2021-07-07T19:14:58.462Z"
   },
   {
    "duration": 937,
    "start_time": "2021-07-07T19:14:59.130Z"
   },
   {
    "duration": 1032,
    "start_time": "2021-07-07T19:15:00.070Z"
   },
   {
    "duration": 78,
    "start_time": "2021-07-07T19:15:01.105Z"
   },
   {
    "duration": 37,
    "start_time": "2021-07-07T19:20:10.143Z"
   },
   {
    "duration": 777,
    "start_time": "2021-07-07T19:20:19.755Z"
   },
   {
    "duration": 1484,
    "start_time": "2021-07-07T19:20:20.535Z"
   },
   {
    "duration": 672,
    "start_time": "2021-07-07T19:20:22.022Z"
   },
   {
    "duration": 1360,
    "start_time": "2021-07-07T19:20:22.697Z"
   },
   {
    "duration": 270,
    "start_time": "2021-07-07T19:20:24.060Z"
   },
   {
    "duration": 1661,
    "start_time": "2021-07-07T19:20:24.333Z"
   },
   {
    "duration": 41,
    "start_time": "2021-07-07T19:20:25.997Z"
   },
   {
    "duration": 137,
    "start_time": "2021-07-07T19:20:26.042Z"
   },
   {
    "duration": 219,
    "start_time": "2021-07-07T19:20:26.182Z"
   },
   {
    "duration": 463,
    "start_time": "2021-07-07T19:20:26.403Z"
   },
   {
    "duration": 62,
    "start_time": "2021-07-07T19:20:26.869Z"
   },
   {
    "duration": 42,
    "start_time": "2021-07-07T19:20:26.933Z"
   },
   {
    "duration": 521,
    "start_time": "2021-07-07T19:20:26.977Z"
   },
   {
    "duration": 620,
    "start_time": "2021-07-07T19:20:27.501Z"
   },
   {
    "duration": 339,
    "start_time": "2021-07-07T19:20:28.123Z"
   },
   {
    "duration": 624,
    "start_time": "2021-07-07T19:20:28.466Z"
   },
   {
    "duration": 760,
    "start_time": "2021-07-07T19:20:29.092Z"
   },
   {
    "duration": 692,
    "start_time": "2021-07-07T19:20:29.854Z"
   },
   {
    "duration": 33,
    "start_time": "2021-07-07T19:20:30.548Z"
   },
   {
    "duration": 118,
    "start_time": "2021-07-07T19:23:51.031Z"
   },
   {
    "duration": 531,
    "start_time": "2021-07-07T21:35:12.022Z"
   },
   {
    "duration": 41,
    "start_time": "2021-07-07T21:35:23.617Z"
   },
   {
    "duration": 21,
    "start_time": "2021-07-07T21:36:29.479Z"
   },
   {
    "duration": 73,
    "start_time": "2021-07-07T21:50:11.525Z"
   },
   {
    "duration": 46,
    "start_time": "2021-07-07T21:50:18.893Z"
   },
   {
    "duration": 474,
    "start_time": "2021-07-07T22:15:11.874Z"
   },
   {
    "duration": 583,
    "start_time": "2021-07-07T22:24:58.997Z"
   },
   {
    "duration": 396,
    "start_time": "2021-07-07T22:25:04.749Z"
   },
   {
    "duration": 990,
    "start_time": "2021-07-07T22:26:31.530Z"
   },
   {
    "duration": 847,
    "start_time": "2021-07-07T22:34:46.494Z"
   },
   {
    "duration": 1317,
    "start_time": "2021-07-07T22:34:57.151Z"
   },
   {
    "duration": 7810,
    "start_time": "2021-07-07T22:34:58.471Z"
   },
   {
    "duration": 707,
    "start_time": "2021-07-07T22:35:06.284Z"
   },
   {
    "duration": 1403,
    "start_time": "2021-07-07T22:35:06.994Z"
   },
   {
    "duration": 170,
    "start_time": "2021-07-07T22:35:08.400Z"
   },
   {
    "duration": 1370,
    "start_time": "2021-07-07T22:35:08.573Z"
   },
   {
    "duration": 47,
    "start_time": "2021-07-07T22:35:09.945Z"
   },
   {
    "duration": 113,
    "start_time": "2021-07-07T22:35:09.996Z"
   },
   {
    "duration": 204,
    "start_time": "2021-07-07T22:35:10.112Z"
   },
   {
    "duration": 462,
    "start_time": "2021-07-07T22:35:10.318Z"
   },
   {
    "duration": 63,
    "start_time": "2021-07-07T22:35:10.782Z"
   },
   {
    "duration": 35,
    "start_time": "2021-07-07T22:35:10.847Z"
   },
   {
    "duration": 533,
    "start_time": "2021-07-07T22:35:10.884Z"
   },
   {
    "duration": 459,
    "start_time": "2021-07-07T22:35:11.420Z"
   },
   {
    "duration": 351,
    "start_time": "2021-07-07T22:35:11.881Z"
   },
   {
    "duration": 634,
    "start_time": "2021-07-07T22:35:12.235Z"
   },
   {
    "duration": 741,
    "start_time": "2021-07-07T22:35:12.873Z"
   },
   {
    "duration": 686,
    "start_time": "2021-07-07T22:35:13.617Z"
   },
   {
    "duration": 524,
    "start_time": "2021-07-07T22:35:14.305Z"
   },
   {
    "duration": 869,
    "start_time": "2021-07-07T22:35:14.831Z"
   },
   {
    "duration": 66,
    "start_time": "2021-07-07T23:08:26.932Z"
   },
   {
    "duration": 1354,
    "start_time": "2021-07-07T23:52:09.913Z"
   },
   {
    "duration": 1173,
    "start_time": "2021-07-07T23:52:11.269Z"
   },
   {
    "duration": 655,
    "start_time": "2021-07-07T23:52:12.445Z"
   },
   {
    "duration": 1407,
    "start_time": "2021-07-07T23:52:13.102Z"
   },
   {
    "duration": 174,
    "start_time": "2021-07-07T23:52:14.511Z"
   },
   {
    "duration": 1344,
    "start_time": "2021-07-07T23:52:14.687Z"
   },
   {
    "duration": 51,
    "start_time": "2021-07-07T23:52:16.033Z"
   },
   {
    "duration": 129,
    "start_time": "2021-07-07T23:52:16.088Z"
   },
   {
    "duration": 203,
    "start_time": "2021-07-07T23:52:16.220Z"
   },
   {
    "duration": 478,
    "start_time": "2021-07-07T23:52:16.426Z"
   },
   {
    "duration": 73,
    "start_time": "2021-07-07T23:52:16.907Z"
   },
   {
    "duration": 19,
    "start_time": "2021-07-07T23:52:16.982Z"
   },
   {
    "duration": 540,
    "start_time": "2021-07-07T23:52:17.003Z"
   },
   {
    "duration": 467,
    "start_time": "2021-07-07T23:52:17.545Z"
   },
   {
    "duration": 347,
    "start_time": "2021-07-07T23:52:18.014Z"
   },
   {
    "duration": 710,
    "start_time": "2021-07-07T23:52:18.368Z"
   },
   {
    "duration": 675,
    "start_time": "2021-07-07T23:52:19.080Z"
   },
   {
    "duration": 688,
    "start_time": "2021-07-07T23:52:19.757Z"
   },
   {
    "duration": 543,
    "start_time": "2021-07-07T23:52:20.447Z"
   },
   {
    "duration": 882,
    "start_time": "2021-07-07T23:52:20.993Z"
   },
   {
    "duration": 8612887,
    "start_time": "2021-07-08T08:15:15.020Z"
   },
   {
    "duration": 1335,
    "start_time": "2021-07-08T11:43:32.293Z"
   },
   {
    "duration": 1178,
    "start_time": "2021-07-08T11:43:33.631Z"
   },
   {
    "duration": 707,
    "start_time": "2021-07-08T11:43:34.812Z"
   },
   {
    "duration": 1461,
    "start_time": "2021-07-08T11:43:35.522Z"
   },
   {
    "duration": 168,
    "start_time": "2021-07-08T11:43:36.985Z"
   },
   {
    "duration": 1380,
    "start_time": "2021-07-08T11:43:37.155Z"
   },
   {
    "duration": 52,
    "start_time": "2021-07-08T11:43:38.538Z"
   },
   {
    "duration": 118,
    "start_time": "2021-07-08T11:43:38.594Z"
   },
   {
    "duration": 213,
    "start_time": "2021-07-08T11:43:38.718Z"
   },
   {
    "duration": 463,
    "start_time": "2021-07-08T11:43:38.934Z"
   },
   {
    "duration": 78,
    "start_time": "2021-07-08T11:43:39.400Z"
   },
   {
    "duration": 19,
    "start_time": "2021-07-08T11:43:39.481Z"
   },
   {
    "duration": 558,
    "start_time": "2021-07-08T11:43:39.502Z"
   },
   {
    "duration": 477,
    "start_time": "2021-07-08T11:43:40.063Z"
   },
   {
    "duration": 362,
    "start_time": "2021-07-08T11:43:40.543Z"
   },
   {
    "duration": 723,
    "start_time": "2021-07-08T11:43:40.908Z"
   },
   {
    "duration": 838,
    "start_time": "2021-07-08T11:43:41.634Z"
   },
   {
    "duration": 678,
    "start_time": "2021-07-08T11:43:42.474Z"
   },
   {
    "duration": 546,
    "start_time": "2021-07-08T11:43:43.155Z"
   },
   {
    "duration": 916,
    "start_time": "2021-07-08T11:43:43.703Z"
   },
   {
    "duration": 1386,
    "start_time": "2021-07-08T12:13:03.388Z"
   },
   {
    "duration": 1207,
    "start_time": "2021-07-08T12:13:04.777Z"
   },
   {
    "duration": 703,
    "start_time": "2021-07-08T12:13:05.987Z"
   },
   {
    "duration": 1498,
    "start_time": "2021-07-08T12:13:06.693Z"
   },
   {
    "duration": 164,
    "start_time": "2021-07-08T12:13:08.193Z"
   },
   {
    "duration": 1421,
    "start_time": "2021-07-08T12:13:08.359Z"
   },
   {
    "duration": 47,
    "start_time": "2021-07-08T12:13:09.783Z"
   },
   {
    "duration": 199,
    "start_time": "2021-07-08T12:13:09.835Z"
   },
   {
    "duration": 204,
    "start_time": "2021-07-08T12:13:10.038Z"
   },
   {
    "duration": 484,
    "start_time": "2021-07-08T12:13:10.244Z"
   },
   {
    "duration": 79,
    "start_time": "2021-07-08T12:13:10.731Z"
   },
   {
    "duration": 19,
    "start_time": "2021-07-08T12:13:10.812Z"
   },
   {
    "duration": 536,
    "start_time": "2021-07-08T12:13:10.833Z"
   },
   {
    "duration": 450,
    "start_time": "2021-07-08T12:13:11.371Z"
   },
   {
    "duration": 357,
    "start_time": "2021-07-08T12:13:11.824Z"
   },
   {
    "duration": 725,
    "start_time": "2021-07-08T12:13:12.184Z"
   },
   {
    "duration": 671,
    "start_time": "2021-07-08T12:13:12.912Z"
   },
   {
    "duration": 697,
    "start_time": "2021-07-08T12:13:13.586Z"
   },
   {
    "duration": 104,
    "start_time": "2021-07-08T12:13:14.287Z"
   },
   {
    "duration": 544,
    "start_time": "2021-07-08T12:13:14.394Z"
   },
   {
    "duration": 893,
    "start_time": "2021-07-08T12:13:14.941Z"
   },
   {
    "duration": 1564,
    "start_time": "2021-07-08T12:38:55.464Z"
   },
   {
    "duration": 1304,
    "start_time": "2021-07-08T12:38:57.031Z"
   },
   {
    "duration": 694,
    "start_time": "2021-07-08T12:38:58.338Z"
   },
   {
    "duration": 1433,
    "start_time": "2021-07-08T12:38:59.035Z"
   },
   {
    "duration": 164,
    "start_time": "2021-07-08T12:39:00.471Z"
   },
   {
    "duration": 1594,
    "start_time": "2021-07-08T12:39:00.638Z"
   },
   {
    "duration": 55,
    "start_time": "2021-07-08T12:39:02.235Z"
   },
   {
    "duration": 125,
    "start_time": "2021-07-08T12:39:02.293Z"
   },
   {
    "duration": 225,
    "start_time": "2021-07-08T12:39:02.421Z"
   },
   {
    "duration": 467,
    "start_time": "2021-07-08T12:39:02.648Z"
   },
   {
    "duration": 83,
    "start_time": "2021-07-08T12:39:03.118Z"
   },
   {
    "duration": 17,
    "start_time": "2021-07-08T12:39:03.204Z"
   },
   {
    "duration": 556,
    "start_time": "2021-07-08T12:39:03.224Z"
   },
   {
    "duration": 484,
    "start_time": "2021-07-08T12:39:03.783Z"
   },
   {
    "duration": 351,
    "start_time": "2021-07-08T12:39:04.270Z"
   },
   {
    "duration": 713,
    "start_time": "2021-07-08T12:39:04.623Z"
   },
   {
    "duration": 681,
    "start_time": "2021-07-08T12:39:05.339Z"
   },
   {
    "duration": 700,
    "start_time": "2021-07-08T12:39:06.023Z"
   },
   {
    "duration": 110,
    "start_time": "2021-07-08T12:39:06.726Z"
   },
   {
    "duration": 561,
    "start_time": "2021-07-08T12:39:06.839Z"
   },
   {
    "duration": 876,
    "start_time": "2021-07-08T12:39:07.403Z"
   },
   {
    "duration": 9878,
    "start_time": "2021-07-08T12:39:08.281Z"
   },
   {
    "duration": 3,
    "start_time": "2021-07-08T12:39:18.163Z"
   },
   {
    "duration": 71,
    "start_time": "2021-07-08T12:41:56.041Z"
   },
   {
    "duration": 10017,
    "start_time": "2021-07-08T12:42:06.360Z"
   },
   {
    "duration": 9999,
    "start_time": "2021-07-08T12:43:13.115Z"
   },
   {
    "duration": 2644,
    "start_time": "2021-07-08T12:51:54.862Z"
   },
   {
    "duration": 1467,
    "start_time": "2021-07-08T12:57:49.962Z"
   },
   {
    "duration": 1219,
    "start_time": "2021-07-08T12:57:51.431Z"
   },
   {
    "duration": 745,
    "start_time": "2021-07-08T12:57:52.653Z"
   },
   {
    "duration": 1467,
    "start_time": "2021-07-08T12:57:53.401Z"
   },
   {
    "duration": 172,
    "start_time": "2021-07-08T12:57:54.871Z"
   },
   {
    "duration": 1581,
    "start_time": "2021-07-08T12:57:55.045Z"
   },
   {
    "duration": 54,
    "start_time": "2021-07-08T12:57:56.629Z"
   },
   {
    "duration": 119,
    "start_time": "2021-07-08T12:57:56.688Z"
   },
   {
    "duration": 208,
    "start_time": "2021-07-08T12:57:56.810Z"
   },
   {
    "duration": 495,
    "start_time": "2021-07-08T12:57:57.020Z"
   },
   {
    "duration": 82,
    "start_time": "2021-07-08T12:57:57.517Z"
   },
   {
    "duration": 19,
    "start_time": "2021-07-08T12:57:57.602Z"
   },
   {
    "duration": 556,
    "start_time": "2021-07-08T12:57:57.623Z"
   },
   {
    "duration": 459,
    "start_time": "2021-07-08T12:57:58.182Z"
   },
   {
    "duration": 343,
    "start_time": "2021-07-08T12:57:58.644Z"
   },
   {
    "duration": 714,
    "start_time": "2021-07-08T12:57:58.990Z"
   },
   {
    "duration": 665,
    "start_time": "2021-07-08T12:57:59.707Z"
   },
   {
    "duration": 684,
    "start_time": "2021-07-08T12:58:00.374Z"
   },
   {
    "duration": 91,
    "start_time": "2021-07-08T12:58:01.061Z"
   },
   {
    "duration": 561,
    "start_time": "2021-07-08T12:58:01.167Z"
   },
   {
    "duration": 1023,
    "start_time": "2021-07-08T12:58:01.731Z"
   },
   {
    "duration": 1491,
    "start_time": "2021-07-08T13:00:13.980Z"
   },
   {
    "duration": 1234,
    "start_time": "2021-07-08T13:00:15.474Z"
   },
   {
    "duration": 712,
    "start_time": "2021-07-08T13:00:16.712Z"
   },
   {
    "duration": 1499,
    "start_time": "2021-07-08T13:00:17.426Z"
   },
   {
    "duration": 177,
    "start_time": "2021-07-08T13:00:18.927Z"
   },
   {
    "duration": 1826,
    "start_time": "2021-07-08T13:00:19.106Z"
   },
   {
    "duration": 45,
    "start_time": "2021-07-08T13:00:20.934Z"
   },
   {
    "duration": 116,
    "start_time": "2021-07-08T13:00:20.982Z"
   },
   {
    "duration": 212,
    "start_time": "2021-07-08T13:00:21.102Z"
   },
   {
    "duration": 472,
    "start_time": "2021-07-08T13:00:21.317Z"
   },
   {
    "duration": 83,
    "start_time": "2021-07-08T13:00:21.791Z"
   },
   {
    "duration": 18,
    "start_time": "2021-07-08T13:00:21.877Z"
   },
   {
    "duration": 550,
    "start_time": "2021-07-08T13:00:21.898Z"
   },
   {
    "duration": 588,
    "start_time": "2021-07-08T13:00:22.451Z"
   },
   {
    "duration": 356,
    "start_time": "2021-07-08T13:00:23.041Z"
   },
   {
    "duration": 702,
    "start_time": "2021-07-08T13:00:23.399Z"
   },
   {
    "duration": 689,
    "start_time": "2021-07-08T13:00:24.103Z"
   },
   {
    "duration": 664,
    "start_time": "2021-07-08T13:00:24.795Z"
   },
   {
    "duration": 85,
    "start_time": "2021-07-08T13:00:25.467Z"
   },
   {
    "duration": 538,
    "start_time": "2021-07-08T13:00:25.554Z"
   },
   {
    "duration": 874,
    "start_time": "2021-07-08T13:00:26.094Z"
   },
   {
    "duration": 1425,
    "start_time": "2021-07-08T13:05:22.795Z"
   },
   {
    "duration": 1164,
    "start_time": "2021-07-08T13:05:24.223Z"
   },
   {
    "duration": 708,
    "start_time": "2021-07-08T13:05:25.390Z"
   },
   {
    "duration": 1369,
    "start_time": "2021-07-08T13:05:26.101Z"
   },
   {
    "duration": 162,
    "start_time": "2021-07-08T13:05:27.473Z"
   },
   {
    "duration": 1435,
    "start_time": "2021-07-08T13:05:27.637Z"
   },
   {
    "duration": 38,
    "start_time": "2021-07-08T13:05:29.075Z"
   },
   {
    "duration": 118,
    "start_time": "2021-07-08T13:05:29.117Z"
   },
   {
    "duration": 200,
    "start_time": "2021-07-08T13:05:29.238Z"
   },
   {
    "duration": 456,
    "start_time": "2021-07-08T13:05:29.440Z"
   },
   {
    "duration": 79,
    "start_time": "2021-07-08T13:05:29.898Z"
   },
   {
    "duration": 18,
    "start_time": "2021-07-08T13:05:29.979Z"
   },
   {
    "duration": 539,
    "start_time": "2021-07-08T13:05:30.000Z"
   },
   {
    "duration": 454,
    "start_time": "2021-07-08T13:05:30.541Z"
   },
   {
    "duration": 358,
    "start_time": "2021-07-08T13:05:30.998Z"
   },
   {
    "duration": 716,
    "start_time": "2021-07-08T13:05:31.358Z"
   },
   {
    "duration": 676,
    "start_time": "2021-07-08T13:05:32.076Z"
   },
   {
    "duration": 670,
    "start_time": "2021-07-08T13:05:32.754Z"
   },
   {
    "duration": 67,
    "start_time": "2021-07-08T13:05:33.426Z"
   },
   {
    "duration": 109,
    "start_time": "2021-07-08T13:05:33.496Z"
   },
   {
    "duration": 506,
    "start_time": "2021-07-08T13:05:33.608Z"
   },
   {
    "duration": 882,
    "start_time": "2021-07-08T13:05:34.116Z"
   },
   {
    "duration": 426370,
    "start_time": "2021-07-08T13:05:35.002Z"
   },
   {
    "duration": 3420,
    "start_time": "2021-07-08T13:14:30.639Z"
   },
   {
    "duration": 140358,
    "start_time": "2021-07-08T13:15:04.681Z"
   },
   {
    "duration": 42,
    "start_time": "2021-07-08T13:17:25.041Z"
   },
   {
    "duration": 5,
    "start_time": "2021-07-08T13:44:04.779Z"
   },
   {
    "duration": 1066,
    "start_time": "2021-07-08T13:44:28.723Z"
   },
   {
    "duration": 24,
    "start_time": "2021-07-08T13:44:35.516Z"
   },
   {
    "duration": 617,
    "start_time": "2021-07-08T13:57:20.827Z"
   },
   {
    "duration": 22,
    "start_time": "2021-07-08T13:57:23.991Z"
   },
   {
    "duration": 735,
    "start_time": "2021-07-08T13:58:52.585Z"
   },
   {
    "duration": 604,
    "start_time": "2021-07-08T13:59:05.200Z"
   },
   {
    "duration": 5930,
    "start_time": "2021-07-08T14:06:36.468Z"
   },
   {
    "duration": 4156,
    "start_time": "2021-07-08T14:07:15.613Z"
   },
   {
    "duration": 5904,
    "start_time": "2021-07-08T14:07:30.599Z"
   },
   {
    "duration": 34628,
    "start_time": "2021-07-08T14:07:48.877Z"
   },
   {
    "duration": 34666,
    "start_time": "2021-07-08T14:08:49.766Z"
   },
   {
    "duration": 35360,
    "start_time": "2021-07-08T14:23:37.590Z"
   },
   {
    "duration": 672,
    "start_time": "2021-07-08T15:05:31.491Z"
   },
   {
    "duration": 10885,
    "start_time": "2021-07-08T15:05:47.919Z"
   },
   {
    "duration": 14200,
    "start_time": "2021-07-08T15:06:32.945Z"
   },
   {
    "duration": 6,
    "start_time": "2021-07-08T15:10:25.118Z"
   },
   {
    "duration": 10402,
    "start_time": "2021-07-08T15:11:11.320Z"
   },
   {
    "duration": 1557,
    "start_time": "2021-07-08T15:24:01.748Z"
   },
   {
    "duration": 1195,
    "start_time": "2021-07-08T15:24:03.308Z"
   },
   {
    "duration": 682,
    "start_time": "2021-07-08T15:24:04.506Z"
   },
   {
    "duration": 1404,
    "start_time": "2021-07-08T15:24:05.191Z"
   },
   {
    "duration": 163,
    "start_time": "2021-07-08T15:24:06.598Z"
   },
   {
    "duration": 1349,
    "start_time": "2021-07-08T15:24:06.767Z"
   },
   {
    "duration": 51,
    "start_time": "2021-07-08T15:24:08.119Z"
   },
   {
    "duration": 116,
    "start_time": "2021-07-08T15:24:08.175Z"
   },
   {
    "duration": 209,
    "start_time": "2021-07-08T15:24:08.295Z"
   },
   {
    "duration": 479,
    "start_time": "2021-07-08T15:24:08.507Z"
   },
   {
    "duration": 80,
    "start_time": "2021-07-08T15:24:08.989Z"
   },
   {
    "duration": 23,
    "start_time": "2021-07-08T15:24:09.072Z"
   },
   {
    "duration": 551,
    "start_time": "2021-07-08T15:24:09.098Z"
   },
   {
    "duration": 458,
    "start_time": "2021-07-08T15:24:09.651Z"
   },
   {
    "duration": 342,
    "start_time": "2021-07-08T15:24:10.112Z"
   },
   {
    "duration": 706,
    "start_time": "2021-07-08T15:24:10.456Z"
   },
   {
    "duration": 670,
    "start_time": "2021-07-08T15:24:11.166Z"
   },
   {
    "duration": 691,
    "start_time": "2021-07-08T15:24:11.838Z"
   },
   {
    "duration": 100,
    "start_time": "2021-07-08T15:24:12.532Z"
   },
   {
    "duration": 111,
    "start_time": "2021-07-08T15:24:12.635Z"
   },
   {
    "duration": 1049,
    "start_time": "2021-07-08T15:24:12.748Z"
   },
   {
    "duration": 21,
    "start_time": "2021-07-08T15:24:13.800Z"
   },
   {
    "duration": 934,
    "start_time": "2021-07-08T15:24:13.825Z"
   },
   {
    "duration": 9311,
    "start_time": "2021-07-08T15:24:14.766Z"
   },
   {
    "duration": 35431,
    "start_time": "2021-07-08T15:24:24.080Z"
   },
   {
    "duration": 1500,
    "start_time": "2021-07-08T15:29:02.599Z"
   },
   {
    "duration": 1185,
    "start_time": "2021-07-08T15:29:04.102Z"
   },
   {
    "duration": 714,
    "start_time": "2021-07-08T15:29:05.289Z"
   },
   {
    "duration": 1398,
    "start_time": "2021-07-08T15:29:06.006Z"
   },
   {
    "duration": 185,
    "start_time": "2021-07-08T15:29:07.406Z"
   },
   {
    "duration": 1363,
    "start_time": "2021-07-08T15:29:07.594Z"
   },
   {
    "duration": 39,
    "start_time": "2021-07-08T15:29:08.967Z"
   },
   {
    "duration": 114,
    "start_time": "2021-07-08T15:29:09.010Z"
   },
   {
    "duration": 206,
    "start_time": "2021-07-08T15:29:09.127Z"
   },
   {
    "duration": 494,
    "start_time": "2021-07-08T15:29:09.335Z"
   },
   {
    "duration": 64,
    "start_time": "2021-07-08T15:29:09.832Z"
   },
   {
    "duration": 20,
    "start_time": "2021-07-08T15:29:09.898Z"
   },
   {
    "duration": 539,
    "start_time": "2021-07-08T15:29:09.920Z"
   },
   {
    "duration": 471,
    "start_time": "2021-07-08T15:29:10.466Z"
   },
   {
    "duration": 358,
    "start_time": "2021-07-08T15:29:10.939Z"
   },
   {
    "duration": 722,
    "start_time": "2021-07-08T15:29:11.301Z"
   },
   {
    "duration": 703,
    "start_time": "2021-07-08T15:29:12.026Z"
   },
   {
    "duration": 681,
    "start_time": "2021-07-08T15:29:12.731Z"
   },
   {
    "duration": 72,
    "start_time": "2021-07-08T15:29:13.415Z"
   },
   {
    "duration": 100,
    "start_time": "2021-07-08T15:29:13.490Z"
   },
   {
    "duration": 1075,
    "start_time": "2021-07-08T15:29:13.593Z"
   },
   {
    "duration": 22,
    "start_time": "2021-07-08T15:29:14.671Z"
   },
   {
    "duration": 1089,
    "start_time": "2021-07-08T15:29:14.698Z"
   },
   {
    "duration": 175104,
    "start_time": "2021-07-08T15:29:15.790Z"
   },
   {
    "duration": 35102,
    "start_time": "2021-07-08T15:32:10.897Z"
   },
   {
    "duration": 1455,
    "start_time": "2021-07-08T15:33:22.074Z"
   },
   {
    "duration": 1223,
    "start_time": "2021-07-08T15:33:23.532Z"
   },
   {
    "duration": 712,
    "start_time": "2021-07-08T15:33:24.758Z"
   },
   {
    "duration": 1535,
    "start_time": "2021-07-08T15:33:25.473Z"
   },
   {
    "duration": 199,
    "start_time": "2021-07-08T15:33:27.010Z"
   },
   {
    "duration": 1399,
    "start_time": "2021-07-08T15:33:27.212Z"
   },
   {
    "duration": 54,
    "start_time": "2021-07-08T15:33:28.614Z"
   },
   {
    "duration": 109,
    "start_time": "2021-07-08T15:33:28.673Z"
   },
   {
    "duration": 219,
    "start_time": "2021-07-08T15:33:28.785Z"
   },
   {
    "duration": 473,
    "start_time": "2021-07-08T15:33:29.007Z"
   },
   {
    "duration": 63,
    "start_time": "2021-07-08T15:33:29.483Z"
   },
   {
    "duration": 35,
    "start_time": "2021-07-08T15:33:29.548Z"
   },
   {
    "duration": 562,
    "start_time": "2021-07-08T15:33:29.585Z"
   },
   {
    "duration": 490,
    "start_time": "2021-07-08T15:33:30.149Z"
   },
   {
    "duration": 345,
    "start_time": "2021-07-08T15:33:30.641Z"
   },
   {
    "duration": 733,
    "start_time": "2021-07-08T15:33:30.989Z"
   },
   {
    "duration": 717,
    "start_time": "2021-07-08T15:33:31.725Z"
   },
   {
    "duration": 697,
    "start_time": "2021-07-08T15:33:32.444Z"
   },
   {
    "duration": 71,
    "start_time": "2021-07-08T15:33:33.144Z"
   },
   {
    "duration": 101,
    "start_time": "2021-07-08T15:33:33.218Z"
   },
   {
    "duration": 1030,
    "start_time": "2021-07-08T15:33:33.321Z"
   },
   {
    "duration": 30,
    "start_time": "2021-07-08T15:33:34.354Z"
   },
   {
    "duration": 1024,
    "start_time": "2021-07-08T15:33:34.389Z"
   },
   {
    "duration": 4,
    "start_time": "2021-07-08T15:37:33.155Z"
   },
   {
    "duration": 1593,
    "start_time": "2021-07-08T15:37:49.437Z"
   },
   {
    "duration": 1392,
    "start_time": "2021-07-08T15:37:51.033Z"
   },
   {
    "duration": 718,
    "start_time": "2021-07-08T15:37:52.428Z"
   },
   {
    "duration": 1524,
    "start_time": "2021-07-08T15:37:53.149Z"
   },
   {
    "duration": 173,
    "start_time": "2021-07-08T15:37:54.676Z"
   },
   {
    "duration": 1447,
    "start_time": "2021-07-08T15:37:54.852Z"
   },
   {
    "duration": 40,
    "start_time": "2021-07-08T15:37:56.302Z"
   },
   {
    "duration": 137,
    "start_time": "2021-07-08T15:37:56.348Z"
   },
   {
    "duration": 262,
    "start_time": "2021-07-08T15:37:56.488Z"
   },
   {
    "duration": 650,
    "start_time": "2021-07-08T15:37:56.752Z"
   },
   {
    "duration": 76,
    "start_time": "2021-07-08T15:37:57.404Z"
   },
   {
    "duration": 18,
    "start_time": "2021-07-08T15:37:57.483Z"
   },
   {
    "duration": 573,
    "start_time": "2021-07-08T15:37:57.504Z"
   },
   {
    "duration": 491,
    "start_time": "2021-07-08T15:37:58.079Z"
   },
   {
    "duration": 363,
    "start_time": "2021-07-08T15:37:58.573Z"
   },
   {
    "duration": 715,
    "start_time": "2021-07-08T15:37:58.939Z"
   },
   {
    "duration": 679,
    "start_time": "2021-07-08T15:37:59.657Z"
   },
   {
    "duration": 831,
    "start_time": "2021-07-08T15:38:00.339Z"
   },
   {
    "duration": 64,
    "start_time": "2021-07-08T15:38:01.172Z"
   },
   {
    "duration": 110,
    "start_time": "2021-07-08T15:38:01.239Z"
   },
   {
    "duration": 1182,
    "start_time": "2021-07-08T15:38:01.352Z"
   },
   {
    "duration": 32,
    "start_time": "2021-07-08T15:38:02.536Z"
   },
   {
    "duration": 911,
    "start_time": "2021-07-08T15:38:02.574Z"
   },
   {
    "duration": 3,
    "start_time": "2021-07-08T15:44:16.072Z"
   },
   {
    "duration": 1442,
    "start_time": "2021-07-08T15:44:43.856Z"
   },
   {
    "duration": 1176,
    "start_time": "2021-07-08T15:44:45.301Z"
   },
   {
    "duration": 797,
    "start_time": "2021-07-08T15:44:46.479Z"
   },
   {
    "duration": 1450,
    "start_time": "2021-07-08T15:44:47.278Z"
   },
   {
    "duration": 168,
    "start_time": "2021-07-08T15:44:48.731Z"
   },
   {
    "duration": 1436,
    "start_time": "2021-07-08T15:44:48.903Z"
   },
   {
    "duration": 51,
    "start_time": "2021-07-08T15:44:50.342Z"
   },
   {
    "duration": 122,
    "start_time": "2021-07-08T15:44:50.397Z"
   },
   {
    "duration": 209,
    "start_time": "2021-07-08T15:44:50.522Z"
   },
   {
    "duration": 472,
    "start_time": "2021-07-08T15:44:50.734Z"
   },
   {
    "duration": 79,
    "start_time": "2021-07-08T15:44:51.209Z"
   },
   {
    "duration": 21,
    "start_time": "2021-07-08T15:44:51.291Z"
   },
   {
    "duration": 549,
    "start_time": "2021-07-08T15:44:51.315Z"
   },
   {
    "duration": 459,
    "start_time": "2021-07-08T15:44:51.868Z"
   },
   {
    "duration": 330,
    "start_time": "2021-07-08T15:44:52.330Z"
   },
   {
    "duration": 692,
    "start_time": "2021-07-08T15:44:52.663Z"
   },
   {
    "duration": 711,
    "start_time": "2021-07-08T15:44:53.358Z"
   },
   {
    "duration": 741,
    "start_time": "2021-07-08T15:44:54.071Z"
   },
   {
    "duration": 70,
    "start_time": "2021-07-08T15:44:54.815Z"
   },
   {
    "duration": 117,
    "start_time": "2021-07-08T15:44:54.888Z"
   },
   {
    "duration": 1166,
    "start_time": "2021-07-08T15:44:55.009Z"
   },
   {
    "duration": 24,
    "start_time": "2021-07-08T15:44:56.178Z"
   },
   {
    "duration": 962,
    "start_time": "2021-07-08T15:44:56.207Z"
   },
   {
    "duration": 3,
    "start_time": "2021-07-08T15:52:22.755Z"
   },
   {
    "duration": 232,
    "start_time": "2021-07-08T15:52:22.761Z"
   },
   {
    "duration": 249,
    "start_time": "2021-07-08T15:52:24.721Z"
   },
   {
    "duration": 109559,
    "start_time": "2021-07-08T15:53:15.671Z"
   },
   {
    "duration": 105974,
    "start_time": "2021-07-08T15:56:51.556Z"
   },
   {
    "duration": 1020035,
    "start_time": "2021-07-08T16:14:12.574Z"
   },
   {
    "duration": 258,
    "start_time": "2021-07-08T16:31:12.612Z"
   },
   {
    "duration": 225,
    "start_time": "2021-07-08T16:31:14.265Z"
   },
   {
    "duration": 55,
    "start_time": "2021-07-08T16:32:12.657Z"
   },
   {
    "duration": 24051,
    "start_time": "2021-07-08T16:32:23.954Z"
   },
   {
    "duration": 50550,
    "start_time": "2021-07-08T16:33:14.791Z"
   },
   {
    "duration": 6,
    "start_time": "2021-07-08T16:42:23.021Z"
   },
   {
    "duration": 4425,
    "start_time": "2021-07-08T16:48:12.308Z"
   },
   {
    "duration": 4912,
    "start_time": "2021-07-08T16:48:55.174Z"
   },
   {
    "duration": 4324,
    "start_time": "2021-07-08T16:50:25.273Z"
   },
   {
    "duration": 38,
    "start_time": "2021-07-08T16:52:38.066Z"
   },
   {
    "duration": 43,
    "start_time": "2021-07-08T16:52:47.364Z"
   },
   {
    "duration": 325,
    "start_time": "2021-07-08T16:53:49.683Z"
   },
   {
    "duration": 344,
    "start_time": "2021-07-08T16:54:20.870Z"
   },
   {
    "duration": 4850,
    "start_time": "2021-07-08T16:54:44.959Z"
   },
   {
    "duration": 4785,
    "start_time": "2021-07-08T16:54:58.098Z"
   },
   {
    "duration": 3,
    "start_time": "2021-07-08T16:55:56.761Z"
   },
   {
    "duration": 237,
    "start_time": "2021-07-08T17:02:08.199Z"
   },
   {
    "duration": 35,
    "start_time": "2021-07-08T17:03:06.466Z"
   },
   {
    "duration": 227,
    "start_time": "2021-07-08T17:03:12.927Z"
   },
   {
    "duration": 354,
    "start_time": "2021-07-08T17:03:43.984Z"
   },
   {
    "duration": 88325,
    "start_time": "2021-07-08T17:07:32.619Z"
   },
   {
    "duration": 334902,
    "start_time": "2021-07-08T17:09:08.915Z"
   },
   {
    "duration": 1530,
    "start_time": "2021-07-08T17:17:23.966Z"
   },
   {
    "duration": 1376,
    "start_time": "2021-07-08T17:17:25.499Z"
   },
   {
    "duration": 739,
    "start_time": "2021-07-08T17:17:26.883Z"
   },
   {
    "duration": 1547,
    "start_time": "2021-07-08T17:17:27.625Z"
   },
   {
    "duration": 177,
    "start_time": "2021-07-08T17:17:29.176Z"
   },
   {
    "duration": 1785,
    "start_time": "2021-07-08T17:17:29.356Z"
   },
   {
    "duration": 61,
    "start_time": "2021-07-08T17:17:31.143Z"
   },
   {
    "duration": 180,
    "start_time": "2021-07-08T17:17:31.211Z"
   },
   {
    "duration": 347,
    "start_time": "2021-07-08T17:17:31.395Z"
   },
   {
    "duration": 705,
    "start_time": "2021-07-08T17:17:31.745Z"
   },
   {
    "duration": 97,
    "start_time": "2021-07-08T17:17:32.453Z"
   },
   {
    "duration": 36,
    "start_time": "2021-07-08T17:17:32.553Z"
   },
   {
    "duration": 554,
    "start_time": "2021-07-08T17:17:32.592Z"
   },
   {
    "duration": 466,
    "start_time": "2021-07-08T17:17:33.148Z"
   },
   {
    "duration": 346,
    "start_time": "2021-07-08T17:17:33.616Z"
   },
   {
    "duration": 785,
    "start_time": "2021-07-08T17:17:33.968Z"
   },
   {
    "duration": 717,
    "start_time": "2021-07-08T17:17:34.756Z"
   },
   {
    "duration": 916,
    "start_time": "2021-07-08T17:17:35.479Z"
   },
   {
    "duration": 107,
    "start_time": "2021-07-08T17:17:36.397Z"
   },
   {
    "duration": 121,
    "start_time": "2021-07-08T17:17:36.508Z"
   },
   {
    "duration": 1731,
    "start_time": "2021-07-08T17:17:36.632Z"
   },
   {
    "duration": 36,
    "start_time": "2021-07-08T17:17:38.368Z"
   },
   {
    "duration": 1494,
    "start_time": "2021-07-08T17:17:38.411Z"
   },
   {
    "duration": 119984,
    "start_time": "2021-07-08T17:17:39.908Z"
   },
   {
    "duration": 55558,
    "start_time": "2021-07-08T17:19:39.896Z"
   },
   {
    "duration": 391,
    "start_time": "2021-07-08T17:20:35.457Z"
   },
   {
    "duration": 1600,
    "start_time": "2021-07-08T17:22:00.343Z"
   },
   {
    "duration": 1505,
    "start_time": "2021-07-08T17:22:01.946Z"
   },
   {
    "duration": 1016,
    "start_time": "2021-07-08T17:22:03.456Z"
   },
   {
    "duration": 1624,
    "start_time": "2021-07-08T17:22:04.477Z"
   },
   {
    "duration": 181,
    "start_time": "2021-07-08T17:22:06.104Z"
   },
   {
    "duration": 2224,
    "start_time": "2021-07-08T17:22:06.289Z"
   },
   {
    "duration": 55,
    "start_time": "2021-07-08T17:22:08.516Z"
   },
   {
    "duration": 129,
    "start_time": "2021-07-08T17:22:08.576Z"
   },
   {
    "duration": 255,
    "start_time": "2021-07-08T17:22:08.709Z"
   },
   {
    "duration": 524,
    "start_time": "2021-07-08T17:22:08.966Z"
   },
   {
    "duration": 83,
    "start_time": "2021-07-08T17:22:09.498Z"
   },
   {
    "duration": 26,
    "start_time": "2021-07-08T17:22:09.583Z"
   },
   {
    "duration": 628,
    "start_time": "2021-07-08T17:22:09.612Z"
   },
   {
    "duration": 487,
    "start_time": "2021-07-08T17:22:10.243Z"
   },
   {
    "duration": 350,
    "start_time": "2021-07-08T17:22:10.733Z"
   },
   {
    "duration": 734,
    "start_time": "2021-07-08T17:22:11.086Z"
   },
   {
    "duration": 1050,
    "start_time": "2021-07-08T17:22:11.824Z"
   },
   {
    "duration": 1098,
    "start_time": "2021-07-08T17:22:12.877Z"
   },
   {
    "duration": 70,
    "start_time": "2021-07-08T17:22:13.977Z"
   },
   {
    "duration": 118,
    "start_time": "2021-07-08T17:22:14.049Z"
   },
   {
    "duration": 1145,
    "start_time": "2021-07-08T17:22:14.171Z"
   },
   {
    "duration": 25,
    "start_time": "2021-07-08T17:22:15.318Z"
   },
   {
    "duration": 970,
    "start_time": "2021-07-08T17:22:15.366Z"
   },
   {
    "duration": 116220,
    "start_time": "2021-07-08T17:22:16.338Z"
   },
   {
    "duration": 46914,
    "start_time": "2021-07-08T17:24:12.560Z"
   },
   {
    "duration": 3595,
    "start_time": "2021-07-08T17:24:59.477Z"
   },
   {
    "duration": 1432,
    "start_time": "2021-07-08T19:20:35.361Z"
   },
   {
    "duration": 1184,
    "start_time": "2021-07-08T19:20:36.796Z"
   },
   {
    "duration": 685,
    "start_time": "2021-07-08T19:20:37.983Z"
   },
   {
    "duration": 1334,
    "start_time": "2021-07-08T19:20:38.672Z"
   },
   {
    "duration": 195,
    "start_time": "2021-07-08T19:20:40.009Z"
   },
   {
    "duration": 1444,
    "start_time": "2021-07-08T19:20:40.207Z"
   },
   {
    "duration": 43,
    "start_time": "2021-07-08T19:20:41.654Z"
   },
   {
    "duration": 139,
    "start_time": "2021-07-08T19:20:41.699Z"
   },
   {
    "duration": 242,
    "start_time": "2021-07-08T19:20:41.842Z"
   },
   {
    "duration": 502,
    "start_time": "2021-07-08T19:20:42.088Z"
   },
   {
    "duration": 67,
    "start_time": "2021-07-08T19:20:42.592Z"
   },
   {
    "duration": 28,
    "start_time": "2021-07-08T19:20:42.666Z"
   },
   {
    "duration": 546,
    "start_time": "2021-07-08T19:20:42.697Z"
   },
   {
    "duration": 472,
    "start_time": "2021-07-08T19:20:43.246Z"
   },
   {
    "duration": 383,
    "start_time": "2021-07-08T19:20:43.722Z"
   },
   {
    "duration": 714,
    "start_time": "2021-07-08T19:20:44.108Z"
   },
   {
    "duration": 679,
    "start_time": "2021-07-08T19:20:44.824Z"
   },
   {
    "duration": 704,
    "start_time": "2021-07-08T19:20:45.505Z"
   },
   {
    "duration": 66,
    "start_time": "2021-07-08T19:20:46.211Z"
   },
   {
    "duration": 115,
    "start_time": "2021-07-08T19:20:46.280Z"
   },
   {
    "duration": 1134,
    "start_time": "2021-07-08T19:20:46.399Z"
   },
   {
    "duration": 29,
    "start_time": "2021-07-08T19:20:47.536Z"
   },
   {
    "duration": 985,
    "start_time": "2021-07-08T19:20:47.568Z"
   },
   {
    "duration": 114865,
    "start_time": "2021-07-08T19:20:48.560Z"
   },
   {
    "duration": 48086,
    "start_time": "2021-07-08T19:22:43.427Z"
   },
   {
    "duration": 5459,
    "start_time": "2021-07-08T19:23:31.516Z"
   },
   {
    "duration": 463261,
    "start_time": "2021-07-08T19:23:36.985Z"
   },
   {
    "duration": 455087,
    "start_time": "2021-07-08T19:31:31.848Z"
   },
   {
    "duration": 1366,
    "start_time": "2021-07-08T19:39:35.417Z"
   },
   {
    "duration": 1191,
    "start_time": "2021-07-08T19:39:36.788Z"
   },
   {
    "duration": 695,
    "start_time": "2021-07-08T19:39:37.983Z"
   },
   {
    "duration": 1398,
    "start_time": "2021-07-08T19:39:38.683Z"
   },
   {
    "duration": 189,
    "start_time": "2021-07-08T19:39:40.085Z"
   },
   {
    "duration": 1459,
    "start_time": "2021-07-08T19:39:40.276Z"
   },
   {
    "duration": 50,
    "start_time": "2021-07-08T19:39:41.737Z"
   },
   {
    "duration": 124,
    "start_time": "2021-07-08T19:39:41.792Z"
   },
   {
    "duration": 240,
    "start_time": "2021-07-08T19:39:41.920Z"
   },
   {
    "duration": 481,
    "start_time": "2021-07-08T19:39:42.164Z"
   },
   {
    "duration": 69,
    "start_time": "2021-07-08T19:39:42.647Z"
   },
   {
    "duration": 48,
    "start_time": "2021-07-08T19:39:42.719Z"
   },
   {
    "duration": 543,
    "start_time": "2021-07-08T19:39:42.770Z"
   },
   {
    "duration": 474,
    "start_time": "2021-07-08T19:39:43.316Z"
   },
   {
    "duration": 348,
    "start_time": "2021-07-08T19:39:43.792Z"
   },
   {
    "duration": 713,
    "start_time": "2021-07-08T19:39:44.143Z"
   },
   {
    "duration": 686,
    "start_time": "2021-07-08T19:39:44.861Z"
   },
   {
    "duration": 681,
    "start_time": "2021-07-08T19:39:45.550Z"
   },
   {
    "duration": 85,
    "start_time": "2021-07-08T19:39:46.234Z"
   },
   {
    "duration": 111,
    "start_time": "2021-07-08T19:39:46.322Z"
   },
   {
    "duration": 1091,
    "start_time": "2021-07-08T19:39:46.436Z"
   },
   {
    "duration": 39,
    "start_time": "2021-07-08T19:39:47.529Z"
   },
   {
    "duration": 996,
    "start_time": "2021-07-08T19:39:47.575Z"
   },
   {
    "duration": 117656,
    "start_time": "2021-07-08T19:39:48.577Z"
   },
   {
    "duration": 48042,
    "start_time": "2021-07-08T19:41:46.235Z"
   },
   {
    "duration": 4595,
    "start_time": "2021-07-08T19:42:34.279Z"
   },
   {
    "duration": 290706,
    "start_time": "2021-07-08T19:42:38.880Z"
   },
   {
    "duration": 5,
    "start_time": "2021-07-08T19:47:40.911Z"
   },
   {
    "duration": 1436,
    "start_time": "2021-07-08T19:48:25.750Z"
   },
   {
    "duration": 1132,
    "start_time": "2021-07-08T19:48:27.188Z"
   },
   {
    "duration": 745,
    "start_time": "2021-07-08T19:48:28.323Z"
   },
   {
    "duration": 1519,
    "start_time": "2021-07-08T19:48:29.071Z"
   },
   {
    "duration": 188,
    "start_time": "2021-07-08T19:48:30.593Z"
   },
   {
    "duration": 1379,
    "start_time": "2021-07-08T19:48:30.784Z"
   },
   {
    "duration": 49,
    "start_time": "2021-07-08T19:48:32.168Z"
   },
   {
    "duration": 131,
    "start_time": "2021-07-08T19:48:32.222Z"
   },
   {
    "duration": 224,
    "start_time": "2021-07-08T19:48:32.364Z"
   },
   {
    "duration": 467,
    "start_time": "2021-07-08T19:48:32.590Z"
   },
   {
    "duration": 69,
    "start_time": "2021-07-08T19:48:33.060Z"
   },
   {
    "duration": 32,
    "start_time": "2021-07-08T19:48:33.132Z"
   },
   {
    "duration": 537,
    "start_time": "2021-07-08T19:48:33.168Z"
   },
   {
    "duration": 476,
    "start_time": "2021-07-08T19:48:33.708Z"
   },
   {
    "duration": 329,
    "start_time": "2021-07-08T19:48:34.187Z"
   },
   {
    "duration": 711,
    "start_time": "2021-07-08T19:48:34.518Z"
   },
   {
    "duration": 686,
    "start_time": "2021-07-08T19:48:35.232Z"
   },
   {
    "duration": 692,
    "start_time": "2021-07-08T19:48:35.921Z"
   },
   {
    "duration": 85,
    "start_time": "2021-07-08T19:48:36.616Z"
   },
   {
    "duration": 109,
    "start_time": "2021-07-08T19:48:36.703Z"
   },
   {
    "duration": 1149,
    "start_time": "2021-07-08T19:48:36.815Z"
   },
   {
    "duration": 24,
    "start_time": "2021-07-08T19:48:37.967Z"
   },
   {
    "duration": 950,
    "start_time": "2021-07-08T19:48:37.995Z"
   },
   {
    "duration": 112082,
    "start_time": "2021-07-08T19:48:38.948Z"
   },
   {
    "duration": 48293,
    "start_time": "2021-07-08T19:50:31.032Z"
   },
   {
    "duration": 3751,
    "start_time": "2021-07-08T19:51:19.328Z"
   },
   {
    "duration": 416,
    "start_time": "2021-07-08T19:51:23.093Z"
   },
   {
    "duration": 6,
    "start_time": "2021-07-08T19:52:06.794Z"
   },
   {
    "duration": 1699,
    "start_time": "2021-07-08T20:02:21.400Z"
   },
   {
    "duration": 1292,
    "start_time": "2021-07-08T20:02:23.102Z"
   },
   {
    "duration": 763,
    "start_time": "2021-07-08T20:02:24.401Z"
   },
   {
    "duration": 1541,
    "start_time": "2021-07-08T20:02:25.166Z"
   },
   {
    "duration": 196,
    "start_time": "2021-07-08T20:02:26.710Z"
   },
   {
    "duration": 1615,
    "start_time": "2021-07-08T20:02:26.909Z"
   },
   {
    "duration": 53,
    "start_time": "2021-07-08T20:02:28.529Z"
   },
   {
    "duration": 189,
    "start_time": "2021-07-08T20:02:28.587Z"
   },
   {
    "duration": 333,
    "start_time": "2021-07-08T20:02:28.779Z"
   },
   {
    "duration": 680,
    "start_time": "2021-07-08T20:02:29.115Z"
   },
   {
    "duration": 76,
    "start_time": "2021-07-08T20:02:29.798Z"
   },
   {
    "duration": 24,
    "start_time": "2021-07-08T20:02:29.877Z"
   },
   {
    "duration": 704,
    "start_time": "2021-07-08T20:02:29.904Z"
   },
   {
    "duration": 770,
    "start_time": "2021-07-08T20:02:30.611Z"
   },
   {
    "duration": 363,
    "start_time": "2021-07-08T20:02:31.384Z"
   },
   {
    "duration": 838,
    "start_time": "2021-07-08T20:02:31.750Z"
   },
   {
    "duration": 722,
    "start_time": "2021-07-08T20:02:32.591Z"
   },
   {
    "duration": 742,
    "start_time": "2021-07-08T20:02:33.317Z"
   },
   {
    "duration": 98,
    "start_time": "2021-07-08T20:02:34.062Z"
   },
   {
    "duration": 100,
    "start_time": "2021-07-08T20:02:34.171Z"
   },
   {
    "duration": 739,
    "start_time": "2021-07-08T20:02:34.273Z"
   },
   {
    "duration": 601,
    "start_time": "2021-07-08T20:02:35.016Z"
   },
   {
    "duration": 88,
    "start_time": "2021-07-08T20:02:35.532Z"
   },
   {
    "duration": 86,
    "start_time": "2021-07-08T20:02:35.536Z"
   },
   {
    "duration": 86,
    "start_time": "2021-07-08T20:02:35.538Z"
   },
   {
    "duration": 87,
    "start_time": "2021-07-08T20:02:35.540Z"
   },
   {
    "duration": 216,
    "start_time": "2021-07-08T20:02:57.305Z"
   },
   {
    "duration": 115928,
    "start_time": "2021-07-08T20:03:00.393Z"
   },
   {
    "duration": 55284,
    "start_time": "2021-07-08T20:05:07.466Z"
   },
   {
    "duration": 5367,
    "start_time": "2021-07-08T20:06:07.723Z"
   },
   {
    "duration": 207,
    "start_time": "2021-07-08T20:06:17.805Z"
   },
   {
    "duration": 1544,
    "start_time": "2021-07-08T20:18:39.163Z"
   },
   {
    "duration": 1287,
    "start_time": "2021-07-08T20:18:40.711Z"
   },
   {
    "duration": 905,
    "start_time": "2021-07-08T20:18:42.003Z"
   },
   {
    "duration": 1811,
    "start_time": "2021-07-08T20:18:42.911Z"
   },
   {
    "duration": 244,
    "start_time": "2021-07-08T20:18:44.725Z"
   },
   {
    "duration": 1522,
    "start_time": "2021-07-08T20:18:44.971Z"
   },
   {
    "duration": 37,
    "start_time": "2021-07-08T20:18:46.496Z"
   },
   {
    "duration": 153,
    "start_time": "2021-07-08T20:18:46.536Z"
   },
   {
    "duration": 320,
    "start_time": "2021-07-08T20:18:46.695Z"
   },
   {
    "duration": 532,
    "start_time": "2021-07-08T20:18:47.018Z"
   },
   {
    "duration": 69,
    "start_time": "2021-07-08T20:18:47.560Z"
   },
   {
    "duration": 42,
    "start_time": "2021-07-08T20:18:47.631Z"
   },
   {
    "duration": 571,
    "start_time": "2021-07-08T20:18:47.676Z"
   },
   {
    "duration": 529,
    "start_time": "2021-07-08T20:18:48.256Z"
   },
   {
    "duration": 367,
    "start_time": "2021-07-08T20:18:48.787Z"
   },
   {
    "duration": 744,
    "start_time": "2021-07-08T20:18:49.159Z"
   },
   {
    "duration": 703,
    "start_time": "2021-07-08T20:18:49.905Z"
   },
   {
    "duration": 952,
    "start_time": "2021-07-08T20:18:50.612Z"
   },
   {
    "duration": 107,
    "start_time": "2021-07-08T20:18:51.567Z"
   },
   {
    "duration": 147,
    "start_time": "2021-07-08T20:18:51.677Z"
   },
   {
    "duration": 732,
    "start_time": "2021-07-08T20:18:51.827Z"
   },
   {
    "duration": 206,
    "start_time": "2021-07-08T20:18:52.562Z"
   },
   {
    "duration": 120,
    "start_time": "2021-07-08T20:18:52.777Z"
   },
   {
    "duration": 114241,
    "start_time": "2021-07-08T20:18:52.900Z"
   },
   {
    "duration": 47599,
    "start_time": "2021-07-08T20:20:47.143Z"
   },
   {
    "duration": 5641,
    "start_time": "2021-07-08T20:21:34.744Z"
   },
   {
    "duration": 202814,
    "start_time": "2021-07-08T20:21:40.401Z"
   },
   {
    "duration": 103,
    "start_time": "2021-07-08T20:25:03.311Z"
   },
   {
    "duration": 78,
    "start_time": "2021-07-08T20:25:06.598Z"
   },
   {
    "duration": 408601,
    "start_time": "2021-07-08T20:25:12.892Z"
   },
   {
    "duration": 235,
    "start_time": "2021-07-08T20:50:40.296Z"
   },
   {
    "duration": 7,
    "start_time": "2021-07-08T20:51:26.509Z"
   },
   {
    "duration": 1504,
    "start_time": "2021-07-08T20:53:43.989Z"
   },
   {
    "duration": 1253,
    "start_time": "2021-07-08T20:53:45.496Z"
   },
   {
    "duration": 808,
    "start_time": "2021-07-08T20:53:46.756Z"
   },
   {
    "duration": 1564,
    "start_time": "2021-07-08T20:53:47.568Z"
   },
   {
    "duration": 214,
    "start_time": "2021-07-08T20:53:49.135Z"
   },
   {
    "duration": 1947,
    "start_time": "2021-07-08T20:53:49.352Z"
   },
   {
    "duration": 54,
    "start_time": "2021-07-08T20:53:51.302Z"
   },
   {
    "duration": 153,
    "start_time": "2021-07-08T20:53:51.363Z"
   },
   {
    "duration": 237,
    "start_time": "2021-07-08T20:53:51.521Z"
   },
   {
    "duration": 582,
    "start_time": "2021-07-08T20:53:51.762Z"
   },
   {
    "duration": 75,
    "start_time": "2021-07-08T20:53:52.347Z"
   },
   {
    "duration": 47,
    "start_time": "2021-07-08T20:53:52.425Z"
   },
   {
    "duration": 670,
    "start_time": "2021-07-08T20:53:52.475Z"
   },
   {
    "duration": 475,
    "start_time": "2021-07-08T20:53:53.147Z"
   },
   {
    "duration": 366,
    "start_time": "2021-07-08T20:53:53.625Z"
   },
   {
    "duration": 961,
    "start_time": "2021-07-08T20:53:53.997Z"
   },
   {
    "duration": 843,
    "start_time": "2021-07-08T20:53:54.961Z"
   },
   {
    "duration": 725,
    "start_time": "2021-07-08T20:53:55.808Z"
   },
   {
    "duration": 81,
    "start_time": "2021-07-08T20:53:56.536Z"
   },
   {
    "duration": 119,
    "start_time": "2021-07-08T20:53:56.619Z"
   },
   {
    "duration": 722,
    "start_time": "2021-07-08T20:53:56.741Z"
   },
   {
    "duration": 212,
    "start_time": "2021-07-08T20:53:57.465Z"
   },
   {
    "duration": 116768,
    "start_time": "2021-07-08T20:53:57.683Z"
   },
   {
    "duration": 53750,
    "start_time": "2021-07-08T20:55:54.454Z"
   },
   {
    "duration": 4675,
    "start_time": "2021-07-08T20:56:48.207Z"
   },
   {
    "duration": 455,
    "start_time": "2021-07-08T20:56:52.887Z"
   },
   {
    "duration": 236,
    "start_time": "2021-07-08T20:59:32.602Z"
   },
   {
    "duration": 1463,
    "start_time": "2021-07-08T20:59:43.447Z"
   },
   {
    "duration": 330,
    "start_time": "2021-07-08T20:59:49.019Z"
   },
   {
    "duration": 1261,
    "start_time": "2021-07-08T21:00:01.533Z"
   },
   {
    "duration": 751,
    "start_time": "2021-07-08T21:00:02.798Z"
   },
   {
    "duration": 1735,
    "start_time": "2021-07-08T21:00:03.718Z"
   },
   {
    "duration": 193,
    "start_time": "2021-07-08T21:00:05.456Z"
   },
   {
    "duration": 1571,
    "start_time": "2021-07-08T21:00:06.066Z"
   },
   {
    "duration": 43,
    "start_time": "2021-07-08T21:00:07.831Z"
   },
   {
    "duration": 117,
    "start_time": "2021-07-08T21:00:08.087Z"
   },
   {
    "duration": 207,
    "start_time": "2021-07-08T21:00:08.665Z"
   },
   {
    "duration": 499,
    "start_time": "2021-07-08T21:00:09.218Z"
   },
   {
    "duration": 70,
    "start_time": "2021-07-08T21:00:09.755Z"
   },
   {
    "duration": 25,
    "start_time": "2021-07-08T21:00:10.608Z"
   },
   {
    "duration": 740,
    "start_time": "2021-07-08T21:00:11.065Z"
   },
   {
    "duration": 502,
    "start_time": "2021-07-08T21:00:12.122Z"
   },
   {
    "duration": 345,
    "start_time": "2021-07-08T21:00:13.095Z"
   },
   {
    "duration": 760,
    "start_time": "2021-07-08T21:00:14.381Z"
   },
   {
    "duration": 763,
    "start_time": "2021-07-08T21:00:15.144Z"
   },
   {
    "duration": 951,
    "start_time": "2021-07-08T21:00:16.290Z"
   },
   {
    "duration": 73,
    "start_time": "2021-07-08T21:00:18.161Z"
   },
   {
    "duration": 111,
    "start_time": "2021-07-08T21:00:18.615Z"
   },
   {
    "duration": 941,
    "start_time": "2021-07-08T21:00:21.184Z"
   },
   {
    "duration": 227,
    "start_time": "2021-07-08T21:00:22.603Z"
   },
   {
    "duration": 1297036,
    "start_time": "2021-07-08T21:00:27.743Z"
   },
   {
    "duration": 4,
    "start_time": "2021-07-08T21:22:55.708Z"
   },
   {
    "duration": 174,
    "start_time": "2021-07-08T21:23:01.356Z"
   },
   {
    "duration": 256,
    "start_time": "2021-07-08T21:24:36.267Z"
   },
   {
    "duration": 4,
    "start_time": "2021-07-08T21:24:56.753Z"
   },
   {
    "duration": 195,
    "start_time": "2021-07-08T21:25:00.226Z"
   },
   {
    "duration": 170,
    "start_time": "2021-07-08T21:25:09.964Z"
   },
   {
    "duration": 27700,
    "start_time": "2021-07-08T21:25:26.378Z"
   },
   {
    "duration": 108855,
    "start_time": "2021-07-08T21:31:40.307Z"
   },
   {
    "duration": 5,
    "start_time": "2021-07-08T21:33:55.279Z"
   },
   {
    "duration": 1612,
    "start_time": "2021-07-08T21:37:58.907Z"
   },
   {
    "duration": 1241,
    "start_time": "2021-07-08T21:38:00.521Z"
   },
   {
    "duration": 728,
    "start_time": "2021-07-08T21:38:01.765Z"
   },
   {
    "duration": 1633,
    "start_time": "2021-07-08T21:38:02.497Z"
   },
   {
    "duration": 216,
    "start_time": "2021-07-08T21:38:04.133Z"
   },
   {
    "duration": 1605,
    "start_time": "2021-07-08T21:38:04.352Z"
   },
   {
    "duration": 43,
    "start_time": "2021-07-08T21:38:05.960Z"
   },
   {
    "duration": 167,
    "start_time": "2021-07-08T21:38:06.008Z"
   },
   {
    "duration": 336,
    "start_time": "2021-07-08T21:38:06.181Z"
   },
   {
    "duration": 692,
    "start_time": "2021-07-08T21:38:06.521Z"
   },
   {
    "duration": 90,
    "start_time": "2021-07-08T21:38:07.217Z"
   },
   {
    "duration": 21,
    "start_time": "2021-07-08T21:38:07.310Z"
   },
   {
    "duration": 592,
    "start_time": "2021-07-08T21:38:07.334Z"
   },
   {
    "duration": 499,
    "start_time": "2021-07-08T21:38:07.929Z"
   },
   {
    "duration": 361,
    "start_time": "2021-07-08T21:38:08.430Z"
   },
   {
    "duration": 768,
    "start_time": "2021-07-08T21:38:08.795Z"
   },
   {
    "duration": 708,
    "start_time": "2021-07-08T21:38:09.566Z"
   },
   {
    "duration": 774,
    "start_time": "2021-07-08T21:38:10.277Z"
   },
   {
    "duration": 74,
    "start_time": "2021-07-08T21:38:11.059Z"
   },
   {
    "duration": 109,
    "start_time": "2021-07-08T21:38:11.136Z"
   },
   {
    "duration": 784,
    "start_time": "2021-07-08T21:38:11.248Z"
   },
   {
    "duration": 253,
    "start_time": "2021-07-08T21:38:12.035Z"
   },
   {
    "duration": 111981,
    "start_time": "2021-07-08T21:38:12.294Z"
   },
   {
    "duration": 47815,
    "start_time": "2021-07-08T21:40:04.278Z"
   },
   {
    "duration": 4499,
    "start_time": "2021-07-08T21:40:52.096Z"
   },
   {
    "duration": 98,
    "start_time": "2021-07-08T21:44:53.873Z"
   },
   {
    "duration": 96,
    "start_time": "2021-07-08T21:44:53.877Z"
   },
   {
    "duration": 110398,
    "start_time": "2021-07-08T21:44:56.636Z"
   },
   {
    "duration": 5,
    "start_time": "2021-07-08T21:46:47.037Z"
   },
   {
    "duration": 1404,
    "start_time": "2021-07-08T21:46:47.045Z"
   },
   {
    "duration": 6,
    "start_time": "2021-07-08T21:46:50.678Z"
   },
   {
    "duration": 1153,
    "start_time": "2021-07-08T21:46:51.389Z"
   },
   {
    "duration": 628,
    "start_time": "2021-07-08T21:46:53.431Z"
   },
   {
    "duration": 1278,
    "start_time": "2021-07-08T21:46:54.064Z"
   },
   {
    "duration": 190,
    "start_time": "2021-07-08T21:46:55.345Z"
   },
   {
    "duration": 1452,
    "start_time": "2021-07-08T21:46:56.586Z"
   },
   {
    "duration": 34,
    "start_time": "2021-07-08T21:46:58.671Z"
   },
   {
    "duration": 112,
    "start_time": "2021-07-08T21:46:59.178Z"
   },
   {
    "duration": 210,
    "start_time": "2021-07-08T21:47:00.196Z"
   },
   {
    "duration": 369,
    "start_time": "2021-07-08T21:47:01.333Z"
   },
   {
    "duration": 72,
    "start_time": "2021-07-08T21:47:01.839Z"
   },
   {
    "duration": 18,
    "start_time": "2021-07-08T21:47:02.773Z"
   },
   {
    "duration": 554,
    "start_time": "2021-07-08T21:47:03.243Z"
   },
   {
    "duration": 581,
    "start_time": "2021-07-08T21:47:04.426Z"
   },
   {
    "duration": 330,
    "start_time": "2021-07-08T21:47:06.418Z"
   },
   {
    "duration": 778,
    "start_time": "2021-07-08T21:47:08.649Z"
   },
   {
    "duration": 707,
    "start_time": "2021-07-08T21:47:09.591Z"
   },
   {
    "duration": 818,
    "start_time": "2021-07-08T21:47:11.159Z"
   },
   {
    "duration": 70,
    "start_time": "2021-07-08T21:47:13.145Z"
   },
   {
    "duration": 91,
    "start_time": "2021-07-08T21:47:14.157Z"
   },
   {
    "duration": 918,
    "start_time": "2021-07-08T21:47:17.114Z"
   },
   {
    "duration": 230,
    "start_time": "2021-07-08T21:47:20.106Z"
   },
   {
    "duration": 107411,
    "start_time": "2021-07-08T21:47:28.743Z"
   },
   {
    "duration": 5,
    "start_time": "2021-07-08T21:49:16.159Z"
   },
   {
    "duration": 4,
    "start_time": "2021-07-08T21:49:18.437Z"
   },
   {
    "duration": 1458,
    "start_time": "2021-07-08T21:50:01.240Z"
   },
   {
    "duration": 1212,
    "start_time": "2021-07-08T21:50:02.701Z"
   },
   {
    "duration": 686,
    "start_time": "2021-07-08T21:50:03.916Z"
   },
   {
    "duration": 1484,
    "start_time": "2021-07-08T21:50:04.604Z"
   },
   {
    "duration": 188,
    "start_time": "2021-07-08T21:50:06.092Z"
   },
   {
    "duration": 1730,
    "start_time": "2021-07-08T21:50:06.283Z"
   },
   {
    "duration": 53,
    "start_time": "2021-07-08T21:50:08.015Z"
   },
   {
    "duration": 177,
    "start_time": "2021-07-08T21:50:08.082Z"
   },
   {
    "duration": 227,
    "start_time": "2021-07-08T21:50:08.263Z"
   },
   {
    "duration": 487,
    "start_time": "2021-07-08T21:50:08.493Z"
   },
   {
    "duration": 72,
    "start_time": "2021-07-08T21:50:08.984Z"
   },
   {
    "duration": 25,
    "start_time": "2021-07-08T21:50:09.058Z"
   },
   {
    "duration": 542,
    "start_time": "2021-07-08T21:50:09.086Z"
   },
   {
    "duration": 561,
    "start_time": "2021-07-08T21:50:09.630Z"
   },
   {
    "duration": 337,
    "start_time": "2021-07-08T21:50:10.194Z"
   },
   {
    "duration": 930,
    "start_time": "2021-07-08T21:50:10.534Z"
   },
   {
    "duration": 924,
    "start_time": "2021-07-08T21:50:11.469Z"
   },
   {
    "duration": 944,
    "start_time": "2021-07-08T21:50:12.395Z"
   },
   {
    "duration": 125,
    "start_time": "2021-07-08T21:50:13.342Z"
   },
   {
    "duration": 99,
    "start_time": "2021-07-08T21:50:13.470Z"
   },
   {
    "duration": 737,
    "start_time": "2021-07-08T21:50:13.573Z"
   },
   {
    "duration": 191,
    "start_time": "2021-07-08T21:50:14.313Z"
   },
   {
    "duration": 116550,
    "start_time": "2021-07-08T21:50:14.509Z"
   },
   {
    "duration": 46137,
    "start_time": "2021-07-08T21:52:11.064Z"
   },
   {
    "duration": 4990,
    "start_time": "2021-07-08T21:52:57.204Z"
   },
   {
    "duration": 63,
    "start_time": "2021-07-08T21:53:02.198Z"
   },
   {
    "duration": 602,
    "start_time": "2021-07-08T21:59:09.585Z"
   },
   {
    "duration": 42000,
    "start_time": "2021-07-08T21:59:56.475Z"
   },
   {
    "duration": 560,
    "start_time": "2021-07-08T22:01:27.515Z"
   },
   {
    "duration": 437,
    "start_time": "2021-07-08T22:09:43.151Z"
   },
   {
    "duration": 103,
    "start_time": "2021-07-08T22:10:02.162Z"
   },
   {
    "duration": 10,
    "start_time": "2021-07-08T22:17:00.788Z"
   },
   {
    "duration": 9,
    "start_time": "2021-07-08T22:17:09.448Z"
   },
   {
    "duration": 452,
    "start_time": "2021-07-08T22:18:06.618Z"
   },
   {
    "duration": 2180,
    "start_time": "2021-07-08T22:19:00.226Z"
   },
   {
    "duration": 302,
    "start_time": "2021-07-08T22:20:51.164Z"
   },
   {
    "duration": 330,
    "start_time": "2021-07-08T22:22:07.535Z"
   },
   {
    "duration": 1501,
    "start_time": "2021-07-08T22:29:26.877Z"
   },
   {
    "duration": 1147,
    "start_time": "2021-07-08T22:29:28.380Z"
   },
   {
    "duration": 691,
    "start_time": "2021-07-08T22:29:29.530Z"
   },
   {
    "duration": 1435,
    "start_time": "2021-07-08T22:29:30.224Z"
   },
   {
    "duration": 176,
    "start_time": "2021-07-08T22:29:31.663Z"
   },
   {
    "duration": 1393,
    "start_time": "2021-07-08T22:29:31.841Z"
   },
   {
    "duration": 49,
    "start_time": "2021-07-08T22:29:33.236Z"
   },
   {
    "duration": 121,
    "start_time": "2021-07-08T22:29:33.291Z"
   },
   {
    "duration": 226,
    "start_time": "2021-07-08T22:29:33.416Z"
   },
   {
    "duration": 464,
    "start_time": "2021-07-08T22:29:33.645Z"
   },
   {
    "duration": 79,
    "start_time": "2021-07-08T22:29:34.113Z"
   },
   {
    "duration": 18,
    "start_time": "2021-07-08T22:29:34.194Z"
   },
   {
    "duration": 523,
    "start_time": "2021-07-08T22:29:34.215Z"
   },
   {
    "duration": 447,
    "start_time": "2021-07-08T22:29:34.741Z"
   },
   {
    "duration": 336,
    "start_time": "2021-07-08T22:29:35.191Z"
   },
   {
    "duration": 685,
    "start_time": "2021-07-08T22:29:35.530Z"
   },
   {
    "duration": 655,
    "start_time": "2021-07-08T22:29:36.217Z"
   },
   {
    "duration": 954,
    "start_time": "2021-07-08T22:29:36.875Z"
   },
   {
    "duration": 108,
    "start_time": "2021-07-08T22:29:37.832Z"
   },
   {
    "duration": 96,
    "start_time": "2021-07-08T22:29:37.943Z"
   },
   {
    "duration": 651,
    "start_time": "2021-07-08T22:29:38.041Z"
   },
   {
    "duration": 189,
    "start_time": "2021-07-08T22:29:38.694Z"
   },
   {
    "duration": 115825,
    "start_time": "2021-07-08T22:29:38.887Z"
   },
   {
    "duration": 376,
    "start_time": "2021-07-08T22:31:34.714Z"
   },
   {
    "duration": 44710,
    "start_time": "2021-07-08T22:31:35.093Z"
   },
   {
    "duration": 2184,
    "start_time": "2021-07-08T22:32:19.806Z"
   },
   {
    "duration": 4671,
    "start_time": "2021-07-08T22:32:21.993Z"
   },
   {
    "duration": 97,
    "start_time": "2021-07-08T22:32:26.666Z"
   },
   {
    "duration": 10,
    "start_time": "2021-07-08T22:32:26.768Z"
   },
   {
    "duration": 445200,
    "start_time": "2021-07-08T22:32:26.857Z"
   },
   {
    "duration": 597,
    "start_time": "2021-07-08T22:39:52.059Z"
   },
   {
    "duration": 43902,
    "start_time": "2021-07-08T22:40:20.923Z"
   },
   {
    "duration": 3,
    "start_time": "2021-07-08T22:41:04.828Z"
   },
   {
    "duration": 267,
    "start_time": "2021-07-08T22:41:07.546Z"
   },
   {
    "duration": 4526,
    "start_time": "2021-07-08T22:41:25.752Z"
   },
   {
    "duration": 13,
    "start_time": "2021-07-08T22:41:36.872Z"
   },
   {
    "duration": 4977,
    "start_time": "2021-07-08T22:41:39.679Z"
   },
   {
    "duration": 316,
    "start_time": "2021-07-08T22:41:51.978Z"
   },
   {
    "duration": 442,
    "start_time": "2021-07-08T22:43:06.916Z"
   },
   {
    "duration": 178,
    "start_time": "2021-07-08T22:43:14.352Z"
   },
   {
    "duration": 7444,
    "start_time": "2021-07-08T22:43:44.921Z"
   },
   {
    "duration": 530,
    "start_time": "2021-07-08T22:43:57.235Z"
   },
   {
    "duration": 5542,
    "start_time": "2021-07-08T22:44:03.421Z"
   },
   {
    "duration": 543,
    "start_time": "2021-07-08T22:44:14.227Z"
   },
   {
    "duration": 1399,
    "start_time": "2021-07-08T22:49:54.449Z"
   },
   {
    "duration": 1076,
    "start_time": "2021-07-08T22:49:55.850Z"
   },
   {
    "duration": 611,
    "start_time": "2021-07-08T22:49:56.929Z"
   },
   {
    "duration": 1225,
    "start_time": "2021-07-08T22:49:57.542Z"
   },
   {
    "duration": 164,
    "start_time": "2021-07-08T22:49:58.770Z"
   },
   {
    "duration": 1299,
    "start_time": "2021-07-08T22:49:58.936Z"
   },
   {
    "duration": 48,
    "start_time": "2021-07-08T22:50:00.237Z"
   },
   {
    "duration": 114,
    "start_time": "2021-07-08T22:50:00.288Z"
   },
   {
    "duration": 192,
    "start_time": "2021-07-08T22:50:00.405Z"
   },
   {
    "duration": 434,
    "start_time": "2021-07-08T22:50:00.600Z"
   },
   {
    "duration": 74,
    "start_time": "2021-07-08T22:50:01.037Z"
   },
   {
    "duration": 21,
    "start_time": "2021-07-08T22:50:01.113Z"
   },
   {
    "duration": 510,
    "start_time": "2021-07-08T22:50:01.156Z"
   },
   {
    "duration": 443,
    "start_time": "2021-07-08T22:50:01.668Z"
   },
   {
    "duration": 331,
    "start_time": "2021-07-08T22:50:02.113Z"
   },
   {
    "duration": 677,
    "start_time": "2021-07-08T22:50:02.446Z"
   },
   {
    "duration": 648,
    "start_time": "2021-07-08T22:50:03.125Z"
   },
   {
    "duration": 643,
    "start_time": "2021-07-08T22:50:03.775Z"
   },
   {
    "duration": 72,
    "start_time": "2021-07-08T22:50:04.420Z"
   },
   {
    "duration": 92,
    "start_time": "2021-07-08T22:50:04.494Z"
   },
   {
    "duration": 588,
    "start_time": "2021-07-08T22:50:04.588Z"
   },
   {
    "duration": 192,
    "start_time": "2021-07-08T22:50:05.179Z"
   },
   {
    "duration": 108928,
    "start_time": "2021-07-08T22:50:05.376Z"
   },
   {
    "duration": 364,
    "start_time": "2021-07-08T22:51:54.306Z"
   },
   {
    "duration": 44177,
    "start_time": "2021-07-08T22:51:54.673Z"
   },
   {
    "duration": 2195,
    "start_time": "2021-07-08T22:52:38.855Z"
   },
   {
    "duration": 3808,
    "start_time": "2021-07-08T22:52:41.056Z"
   },
   {
    "duration": 188,
    "start_time": "2021-07-08T22:52:44.868Z"
   },
   {
    "duration": 93,
    "start_time": "2021-07-08T22:52:45.063Z"
   },
   {
    "duration": 9204,
    "start_time": "2021-07-08T22:52:45.159Z"
   },
   {
    "duration": 596,
    "start_time": "2021-07-08T22:52:54.367Z"
   },
   {
    "duration": 1949,
    "start_time": "2021-07-09T19:49:50.999Z"
   },
   {
    "duration": 1048,
    "start_time": "2021-07-09T19:50:50.817Z"
   },
   {
    "duration": 798,
    "start_time": "2021-07-09T19:50:51.867Z"
   },
   {
    "duration": 444,
    "start_time": "2021-07-09T19:50:52.821Z"
   },
   {
    "duration": 930,
    "start_time": "2021-07-09T19:50:53.495Z"
   },
   {
    "duration": 132,
    "start_time": "2021-07-09T19:50:54.427Z"
   },
   {
    "duration": 978,
    "start_time": "2021-07-09T19:50:58.287Z"
   },
   {
    "duration": 26,
    "start_time": "2021-07-09T19:51:08.749Z"
   },
   {
    "duration": 73,
    "start_time": "2021-07-09T19:51:10.500Z"
   },
   {
    "duration": 69,
    "start_time": "2021-07-09T19:51:15.463Z"
   },
   {
    "duration": 248,
    "start_time": "2021-07-09T20:29:20.785Z"
   },
   {
    "duration": 553,
    "start_time": "2021-07-09T20:29:31.560Z"
   },
   {
    "duration": 13,
    "start_time": "2021-07-09T20:35:35.085Z"
   },
   {
    "duration": 83,
    "start_time": "2021-07-09T20:52:15.624Z"
   },
   {
    "duration": 61,
    "start_time": "2021-07-09T20:54:22.148Z"
   },
   {
    "duration": 64,
    "start_time": "2021-07-09T21:15:59.182Z"
   },
   {
    "duration": 87,
    "start_time": "2021-07-09T21:16:44.862Z"
   },
   {
    "duration": 5,
    "start_time": "2021-07-09T21:18:10.623Z"
   },
   {
    "duration": 4125,
    "start_time": "2021-07-09T21:18:20.117Z"
   },
   {
    "duration": 23,
    "start_time": "2021-07-09T21:18:37.846Z"
   },
   {
    "duration": 85,
    "start_time": "2021-07-09T21:18:49.650Z"
   },
   {
    "duration": 24,
    "start_time": "2021-07-09T21:18:53.883Z"
   },
   {
    "duration": 64,
    "start_time": "2021-07-09T21:21:12.399Z"
   },
   {
    "duration": 4367,
    "start_time": "2021-07-09T21:21:19.886Z"
   },
   {
    "duration": 5,
    "start_time": "2021-07-09T21:24:28.874Z"
   },
   {
    "duration": 786,
    "start_time": "2021-07-09T21:24:29.690Z"
   },
   {
    "duration": 371,
    "start_time": "2021-07-09T21:24:30.478Z"
   },
   {
    "duration": 797,
    "start_time": "2021-07-09T21:24:30.851Z"
   },
   {
    "duration": 120,
    "start_time": "2021-07-09T21:24:31.649Z"
   },
   {
    "duration": 930,
    "start_time": "2021-07-09T21:24:34.178Z"
   },
   {
    "duration": 19,
    "start_time": "2021-07-09T21:24:39.637Z"
   },
   {
    "duration": 75,
    "start_time": "2021-07-09T21:24:40.066Z"
   },
   {
    "duration": 119,
    "start_time": "2021-07-09T21:24:45.312Z"
   },
   {
    "duration": 26,
    "start_time": "2021-07-09T21:24:49.395Z"
   },
   {
    "duration": 8089,
    "start_time": "2021-07-09T21:24:52.722Z"
   },
   {
    "duration": 12199,
    "start_time": "2021-07-09T21:28:11.436Z"
   },
   {
    "duration": 130,
    "start_time": "2021-07-09T21:32:44.202Z"
   },
   {
    "duration": 3,
    "start_time": "2021-07-09T21:32:57.165Z"
   },
   {
    "duration": 743,
    "start_time": "2021-07-09T21:32:57.920Z"
   },
   {
    "duration": 359,
    "start_time": "2021-07-09T21:32:59.706Z"
   },
   {
    "duration": 753,
    "start_time": "2021-07-09T21:33:00.823Z"
   },
   {
    "duration": 110,
    "start_time": "2021-07-09T21:33:02.453Z"
   },
   {
    "duration": 944,
    "start_time": "2021-07-09T21:33:06.214Z"
   },
   {
    "duration": 461,
    "start_time": "2021-07-09T21:36:45.150Z"
   },
   {
    "duration": 17,
    "start_time": "2021-07-09T21:45:42.391Z"
   },
   {
    "duration": 74,
    "start_time": "2021-07-09T21:45:51.998Z"
   },
   {
    "duration": 3,
    "start_time": "2021-07-09T21:45:55.214Z"
   },
   {
    "duration": 126,
    "start_time": "2021-07-09T21:45:56.405Z"
   },
   {
    "duration": 102,
    "start_time": "2021-07-09T21:46:00.314Z"
   },
   {
    "duration": 23,
    "start_time": "2021-07-09T21:46:03.378Z"
   },
   {
    "duration": 11975,
    "start_time": "2021-07-09T21:46:07.002Z"
   },
   {
    "duration": 54,
    "start_time": "2021-07-09T21:46:29.190Z"
   },
   {
    "duration": 474,
    "start_time": "2021-07-09T21:46:49.998Z"
   },
   {
    "duration": 13,
    "start_time": "2021-07-09T21:47:02.259Z"
   },
   {
    "duration": 75,
    "start_time": "2021-07-09T21:47:07.375Z"
   },
   {
    "duration": 269,
    "start_time": "2021-07-09T21:51:07.320Z"
   },
   {
    "duration": 353,
    "start_time": "2021-07-09T21:52:39.746Z"
   },
   {
    "duration": 233,
    "start_time": "2021-07-09T21:56:20.571Z"
   },
   {
    "duration": 275,
    "start_time": "2021-07-09T21:57:09.249Z"
   },
   {
    "duration": 280,
    "start_time": "2021-07-09T21:57:15.405Z"
   },
   {
    "duration": 277,
    "start_time": "2021-07-09T21:57:27.308Z"
   },
   {
    "duration": 247,
    "start_time": "2021-07-09T21:57:39.237Z"
   },
   {
    "duration": 376,
    "start_time": "2021-07-09T21:59:24.984Z"
   },
   {
    "duration": 376,
    "start_time": "2021-07-09T21:59:31.811Z"
   },
   {
    "duration": 488,
    "start_time": "2021-07-09T21:59:42.886Z"
   },
   {
    "duration": 49,
    "start_time": "2021-07-09T21:59:52.666Z"
   },
   {
    "duration": 69,
    "start_time": "2021-07-09T22:00:03.482Z"
   },
   {
    "duration": 2,
    "start_time": "2021-07-09T22:01:43.282Z"
   },
   {
    "duration": 11,
    "start_time": "2021-07-09T22:05:03.209Z"
   },
   {
    "duration": 10,
    "start_time": "2021-07-09T22:05:21.429Z"
   },
   {
    "duration": 10,
    "start_time": "2021-07-09T22:05:38.744Z"
   },
   {
    "duration": 4,
    "start_time": "2021-07-09T22:06:04.982Z"
   },
   {
    "duration": 731,
    "start_time": "2021-07-09T22:06:06.057Z"
   },
   {
    "duration": 355,
    "start_time": "2021-07-09T22:06:07.402Z"
   },
   {
    "duration": 778,
    "start_time": "2021-07-09T22:06:07.933Z"
   },
   {
    "duration": 115,
    "start_time": "2021-07-09T22:06:09.089Z"
   },
   {
    "duration": 952,
    "start_time": "2021-07-09T22:06:09.664Z"
   },
   {
    "duration": 18,
    "start_time": "2021-07-09T22:06:12.725Z"
   },
   {
    "duration": 71,
    "start_time": "2021-07-09T22:06:13.483Z"
   },
   {
    "duration": 2,
    "start_time": "2021-07-09T22:06:14.578Z"
   },
   {
    "duration": 132,
    "start_time": "2021-07-09T22:06:15.180Z"
   },
   {
    "duration": 101,
    "start_time": "2021-07-09T22:06:16.346Z"
   },
   {
    "duration": 25,
    "start_time": "2021-07-09T22:06:17.089Z"
   },
   {
    "duration": 11912,
    "start_time": "2021-07-09T22:06:17.550Z"
   },
   {
    "duration": 65,
    "start_time": "2021-07-09T22:06:29.464Z"
   },
   {
    "duration": 2,
    "start_time": "2021-07-09T22:06:29.532Z"
   },
   {
    "duration": 4,
    "start_time": "2021-07-09T22:06:29.537Z"
   },
   {
    "duration": 498,
    "start_time": "2021-07-09T22:06:29.542Z"
   },
   {
    "duration": 13,
    "start_time": "2021-07-09T22:06:30.042Z"
   },
   {
    "duration": 88,
    "start_time": "2021-07-09T22:09:23.017Z"
   },
   {
    "duration": 15,
    "start_time": "2021-07-09T22:13:37.527Z"
   },
   {
    "duration": 297,
    "start_time": "2021-07-09T22:13:38.501Z"
   },
   {
    "duration": 264,
    "start_time": "2021-07-09T22:13:41.865Z"
   },
   {
    "duration": 3,
    "start_time": "2021-07-09T22:13:51.096Z"
   },
   {
    "duration": 248,
    "start_time": "2021-07-09T22:13:52.775Z"
   },
   {
    "duration": 366,
    "start_time": "2021-07-09T22:13:54.518Z"
   },
   {
    "duration": 440,
    "start_time": "2021-07-09T22:13:55.370Z"
   },
   {
    "duration": 499,
    "start_time": "2021-07-09T22:14:01.391Z"
   },
   {
    "duration": 62,
    "start_time": "2021-07-09T22:14:06.156Z"
   },
   {
    "duration": 79,
    "start_time": "2021-07-09T22:14:13.241Z"
   },
   {
    "duration": 510,
    "start_time": "2021-07-09T22:18:51.115Z"
   },
   {
    "duration": 125,
    "start_time": "2021-07-09T22:18:54.165Z"
   },
   {
    "duration": 114,
    "start_time": "2021-07-09T22:24:13.468Z"
   },
   {
    "duration": 4820,
    "start_time": "2021-07-09T22:24:59.250Z"
   },
   {
    "duration": 2,
    "start_time": "2021-07-09T22:40:50.562Z"
   },
   {
    "duration": 1028,
    "start_time": "2021-07-09T22:56:23.530Z"
   },
   {
    "duration": 774,
    "start_time": "2021-07-09T22:56:24.560Z"
   },
   {
    "duration": 424,
    "start_time": "2021-07-09T22:56:25.336Z"
   },
   {
    "duration": 871,
    "start_time": "2021-07-09T22:56:25.762Z"
   },
   {
    "duration": 123,
    "start_time": "2021-07-09T22:56:26.635Z"
   },
   {
    "duration": 902,
    "start_time": "2021-07-09T22:56:26.759Z"
   },
   {
    "duration": 35,
    "start_time": "2021-07-09T22:56:27.663Z"
   },
   {
    "duration": 85,
    "start_time": "2021-07-09T22:56:27.700Z"
   },
   {
    "duration": 2,
    "start_time": "2021-07-09T22:56:27.787Z"
   },
   {
    "duration": 137,
    "start_time": "2021-07-09T22:56:27.791Z"
   },
   {
    "duration": 120,
    "start_time": "2021-07-09T22:56:27.929Z"
   },
   {
    "duration": 22,
    "start_time": "2021-07-09T22:56:28.050Z"
   },
   {
    "duration": 11606,
    "start_time": "2021-07-09T22:56:28.073Z"
   },
   {
    "duration": 57,
    "start_time": "2021-07-09T22:56:39.685Z"
   },
   {
    "duration": 2,
    "start_time": "2021-07-09T22:56:39.743Z"
   },
   {
    "duration": 5,
    "start_time": "2021-07-09T22:56:39.747Z"
   },
   {
    "duration": 559,
    "start_time": "2021-07-09T22:56:39.754Z"
   },
   {
    "duration": 12,
    "start_time": "2021-07-09T22:56:40.315Z"
   },
   {
    "duration": 105,
    "start_time": "2021-07-09T22:56:40.328Z"
   },
   {
    "duration": 16,
    "start_time": "2021-07-09T22:56:40.435Z"
   },
   {
    "duration": 326,
    "start_time": "2021-07-09T22:56:40.452Z"
   },
   {
    "duration": 278,
    "start_time": "2021-07-09T22:56:40.780Z"
   },
   {
    "duration": 2,
    "start_time": "2021-07-09T22:56:41.061Z"
   },
   {
    "duration": 328,
    "start_time": "2021-07-09T22:56:41.065Z"
   },
   {
    "duration": 391,
    "start_time": "2021-07-09T22:56:41.395Z"
   },
   {
    "duration": 411,
    "start_time": "2021-07-09T22:56:41.788Z"
   },
   {
    "duration": 404,
    "start_time": "2021-07-09T22:56:42.201Z"
   },
   {
    "duration": 59,
    "start_time": "2021-07-09T22:56:42.606Z"
   },
   {
    "duration": 86,
    "start_time": "2021-07-09T22:56:42.666Z"
   },
   {
    "duration": 528,
    "start_time": "2021-07-09T22:56:42.754Z"
   },
   {
    "duration": 136,
    "start_time": "2021-07-09T22:56:43.285Z"
   },
   {
    "duration": 87605,
    "start_time": "2021-07-09T22:56:43.423Z"
   },
   {
    "duration": 267,
    "start_time": "2021-07-09T22:58:11.030Z"
   },
   {
    "duration": 3,
    "start_time": "2021-07-09T22:58:11.300Z"
   },
   {
    "duration": 362,
    "start_time": "2021-07-09T22:58:11.304Z"
   },
   {
    "duration": 52,
    "start_time": "2021-07-09T22:58:11.616Z"
   },
   {
    "duration": 50,
    "start_time": "2021-07-09T22:58:11.620Z"
   },
   {
    "duration": 47,
    "start_time": "2021-07-09T22:58:11.624Z"
   },
   {
    "duration": 43,
    "start_time": "2021-07-09T22:58:11.629Z"
   },
   {
    "duration": 42,
    "start_time": "2021-07-09T22:58:11.632Z"
   },
   {
    "duration": 40,
    "start_time": "2021-07-09T22:58:11.635Z"
   },
   {
    "duration": 38,
    "start_time": "2021-07-09T22:58:11.638Z"
   },
   {
    "duration": 37,
    "start_time": "2021-07-09T22:58:11.641Z"
   },
   {
    "duration": 186558,
    "start_time": "2021-07-09T22:59:16.876Z"
   },
   {
    "duration": 1499695,
    "start_time": "2021-07-09T23:02:31.744Z"
   },
   {
    "duration": 1059,
    "start_time": "2021-07-09T23:30:42.794Z"
   },
   {
    "duration": 777,
    "start_time": "2021-07-09T23:30:43.855Z"
   },
   {
    "duration": 440,
    "start_time": "2021-07-09T23:30:44.634Z"
   },
   {
    "duration": 880,
    "start_time": "2021-07-09T23:30:45.076Z"
   },
   {
    "duration": 123,
    "start_time": "2021-07-09T23:30:45.957Z"
   },
   {
    "duration": 908,
    "start_time": "2021-07-09T23:30:46.085Z"
   },
   {
    "duration": 27,
    "start_time": "2021-07-09T23:30:46.995Z"
   },
   {
    "duration": 82,
    "start_time": "2021-07-09T23:30:47.025Z"
   },
   {
    "duration": 2,
    "start_time": "2021-07-09T23:30:47.109Z"
   },
   {
    "duration": 139,
    "start_time": "2021-07-09T23:30:47.113Z"
   },
   {
    "duration": 122,
    "start_time": "2021-07-09T23:30:47.253Z"
   },
   {
    "duration": 28,
    "start_time": "2021-07-09T23:30:47.377Z"
   },
   {
    "duration": 11559,
    "start_time": "2021-07-09T23:30:47.406Z"
   },
   {
    "duration": 65,
    "start_time": "2021-07-09T23:30:58.967Z"
   },
   {
    "duration": 2,
    "start_time": "2021-07-09T23:30:59.034Z"
   },
   {
    "duration": 4,
    "start_time": "2021-07-09T23:30:59.038Z"
   },
   {
    "duration": 552,
    "start_time": "2021-07-09T23:30:59.044Z"
   },
   {
    "duration": 13,
    "start_time": "2021-07-09T23:30:59.598Z"
   },
   {
    "duration": 103,
    "start_time": "2021-07-09T23:30:59.612Z"
   },
   {
    "duration": 15,
    "start_time": "2021-07-09T23:30:59.717Z"
   },
   {
    "duration": 323,
    "start_time": "2021-07-09T23:30:59.734Z"
   },
   {
    "duration": 281,
    "start_time": "2021-07-09T23:31:00.059Z"
   },
   {
    "duration": 2,
    "start_time": "2021-07-09T23:31:00.343Z"
   },
   {
    "duration": 330,
    "start_time": "2021-07-09T23:31:00.347Z"
   },
   {
    "duration": 380,
    "start_time": "2021-07-09T23:31:00.679Z"
   },
   {
    "duration": 402,
    "start_time": "2021-07-09T23:31:01.061Z"
   },
   {
    "duration": 408,
    "start_time": "2021-07-09T23:31:01.465Z"
   },
   {
    "duration": 64,
    "start_time": "2021-07-09T23:31:01.875Z"
   },
   {
    "duration": 94,
    "start_time": "2021-07-09T23:31:01.941Z"
   },
   {
    "duration": 517,
    "start_time": "2021-07-09T23:31:02.038Z"
   },
   {
    "duration": 135,
    "start_time": "2021-07-09T23:31:02.557Z"
   },
   {
    "duration": 87354,
    "start_time": "2021-07-09T23:31:02.693Z"
   },
   {
    "duration": 251,
    "start_time": "2021-07-09T23:32:30.048Z"
   },
   {
    "duration": 2,
    "start_time": "2021-07-09T23:32:30.301Z"
   },
   {
    "duration": 940868,
    "start_time": "2021-07-09T23:32:30.305Z"
   },
   {
    "duration": 2,
    "start_time": "2021-07-09T23:48:11.175Z"
   },
   {
    "duration": 234412,
    "start_time": "2021-07-09T23:48:11.178Z"
   },
   {
    "duration": 1040,
    "start_time": "2021-07-09T23:52:25.425Z"
   },
   {
    "duration": 767,
    "start_time": "2021-07-09T23:52:26.467Z"
   },
   {
    "duration": 430,
    "start_time": "2021-07-09T23:52:27.237Z"
   },
   {
    "duration": 863,
    "start_time": "2021-07-09T23:52:27.669Z"
   },
   {
    "duration": 122,
    "start_time": "2021-07-09T23:52:28.534Z"
   },
   {
    "duration": 1006,
    "start_time": "2021-07-09T23:52:28.658Z"
   },
   {
    "duration": 36,
    "start_time": "2021-07-09T23:52:29.666Z"
   },
   {
    "duration": 83,
    "start_time": "2021-07-09T23:52:29.704Z"
   },
   {
    "duration": 2,
    "start_time": "2021-07-09T23:52:29.790Z"
   },
   {
    "duration": 137,
    "start_time": "2021-07-09T23:52:29.794Z"
   },
   {
    "duration": 131,
    "start_time": "2021-07-09T23:52:29.933Z"
   },
   {
    "duration": 30,
    "start_time": "2021-07-09T23:52:30.066Z"
   },
   {
    "duration": 11429,
    "start_time": "2021-07-09T23:52:30.097Z"
   },
   {
    "duration": 63,
    "start_time": "2021-07-09T23:52:41.527Z"
   },
   {
    "duration": 3,
    "start_time": "2021-07-09T23:52:41.591Z"
   },
   {
    "duration": 5,
    "start_time": "2021-07-09T23:52:41.595Z"
   },
   {
    "duration": 549,
    "start_time": "2021-07-09T23:52:41.601Z"
   },
   {
    "duration": 12,
    "start_time": "2021-07-09T23:52:42.152Z"
   },
   {
    "duration": 110,
    "start_time": "2021-07-09T23:52:42.166Z"
   },
   {
    "duration": 21,
    "start_time": "2021-07-09T23:52:42.277Z"
   },
   {
    "duration": 310,
    "start_time": "2021-07-09T23:52:42.299Z"
   },
   {
    "duration": 278,
    "start_time": "2021-07-09T23:52:42.610Z"
   },
   {
    "duration": 2,
    "start_time": "2021-07-09T23:52:42.891Z"
   },
   {
    "duration": 319,
    "start_time": "2021-07-09T23:52:42.895Z"
   },
   {
    "duration": 371,
    "start_time": "2021-07-09T23:52:43.216Z"
   },
   {
    "duration": 402,
    "start_time": "2021-07-09T23:52:43.588Z"
   },
   {
    "duration": 413,
    "start_time": "2021-07-09T23:52:43.991Z"
   },
   {
    "duration": 57,
    "start_time": "2021-07-09T23:52:44.406Z"
   },
   {
    "duration": 87,
    "start_time": "2021-07-09T23:52:44.465Z"
   },
   {
    "duration": 526,
    "start_time": "2021-07-09T23:52:44.553Z"
   },
   {
    "duration": 138,
    "start_time": "2021-07-09T23:52:45.081Z"
   },
   {
    "duration": 87709,
    "start_time": "2021-07-09T23:52:45.221Z"
   },
   {
    "duration": 261,
    "start_time": "2021-07-09T23:54:12.932Z"
   },
   {
    "duration": 2,
    "start_time": "2021-07-09T23:54:13.195Z"
   },
   {
    "duration": 218387,
    "start_time": "2021-07-09T23:54:13.198Z"
   },
   {
    "duration": 3,
    "start_time": "2021-07-09T23:57:51.587Z"
   },
   {
    "duration": 1072,
    "start_time": "2021-07-10T00:00:33.384Z"
   },
   {
    "duration": 765,
    "start_time": "2021-07-10T00:00:34.457Z"
   },
   {
    "duration": 432,
    "start_time": "2021-07-10T00:00:35.225Z"
   },
   {
    "duration": 887,
    "start_time": "2021-07-10T00:00:35.659Z"
   },
   {
    "duration": 122,
    "start_time": "2021-07-10T00:00:36.548Z"
   },
   {
    "duration": 924,
    "start_time": "2021-07-10T00:00:36.672Z"
   },
   {
    "duration": 27,
    "start_time": "2021-07-10T00:00:37.597Z"
   },
   {
    "duration": 85,
    "start_time": "2021-07-10T00:00:37.627Z"
   },
   {
    "duration": 2,
    "start_time": "2021-07-10T00:00:37.714Z"
   },
   {
    "duration": 136,
    "start_time": "2021-07-10T00:00:37.718Z"
   },
   {
    "duration": 120,
    "start_time": "2021-07-10T00:00:37.856Z"
   },
   {
    "duration": 27,
    "start_time": "2021-07-10T00:00:37.978Z"
   },
   {
    "duration": 11327,
    "start_time": "2021-07-10T00:00:38.006Z"
   },
   {
    "duration": 64,
    "start_time": "2021-07-10T00:00:49.335Z"
   },
   {
    "duration": 2,
    "start_time": "2021-07-10T00:00:49.400Z"
   },
   {
    "duration": 5,
    "start_time": "2021-07-10T00:00:49.404Z"
   },
   {
    "duration": 546,
    "start_time": "2021-07-10T00:00:49.410Z"
   },
   {
    "duration": 12,
    "start_time": "2021-07-10T00:00:49.957Z"
   },
   {
    "duration": 108,
    "start_time": "2021-07-10T00:00:49.970Z"
   },
   {
    "duration": 16,
    "start_time": "2021-07-10T00:00:50.084Z"
   },
   {
    "duration": 310,
    "start_time": "2021-07-10T00:00:50.101Z"
   },
   {
    "duration": 260,
    "start_time": "2021-07-10T00:00:50.413Z"
   },
   {
    "duration": 7,
    "start_time": "2021-07-10T00:00:50.677Z"
   },
   {
    "duration": 310,
    "start_time": "2021-07-10T00:00:50.686Z"
   },
   {
    "duration": 372,
    "start_time": "2021-07-10T00:00:50.998Z"
   },
   {
    "duration": 390,
    "start_time": "2021-07-10T00:00:51.372Z"
   },
   {
    "duration": 398,
    "start_time": "2021-07-10T00:00:51.764Z"
   },
   {
    "duration": 63,
    "start_time": "2021-07-10T00:00:52.164Z"
   },
   {
    "duration": 86,
    "start_time": "2021-07-10T00:00:52.229Z"
   },
   {
    "duration": 521,
    "start_time": "2021-07-10T00:00:52.316Z"
   },
   {
    "duration": 133,
    "start_time": "2021-07-10T00:00:52.838Z"
   },
   {
    "duration": 88454,
    "start_time": "2021-07-10T00:00:52.973Z"
   },
   {
    "duration": 268,
    "start_time": "2021-07-10T00:02:21.429Z"
   },
   {
    "duration": 2,
    "start_time": "2021-07-10T00:02:21.699Z"
   },
   {
    "duration": 1077,
    "start_time": "2021-07-10T00:06:29.188Z"
   },
   {
    "duration": 823,
    "start_time": "2021-07-10T00:06:30.267Z"
   },
   {
    "duration": 521,
    "start_time": "2021-07-10T00:06:31.092Z"
   },
   {
    "duration": 868,
    "start_time": "2021-07-10T00:06:31.614Z"
   },
   {
    "duration": 115,
    "start_time": "2021-07-10T00:06:32.484Z"
   },
   {
    "duration": 925,
    "start_time": "2021-07-10T00:06:32.601Z"
   },
   {
    "duration": 27,
    "start_time": "2021-07-10T00:06:33.527Z"
   },
   {
    "duration": 86,
    "start_time": "2021-07-10T00:06:33.557Z"
   },
   {
    "duration": 2,
    "start_time": "2021-07-10T00:06:33.645Z"
   },
   {
    "duration": 138,
    "start_time": "2021-07-10T00:06:33.649Z"
   },
   {
    "duration": 121,
    "start_time": "2021-07-10T00:06:33.789Z"
   },
   {
    "duration": 21,
    "start_time": "2021-07-10T00:06:33.912Z"
   },
   {
    "duration": 11595,
    "start_time": "2021-07-10T00:06:33.934Z"
   },
   {
    "duration": 62,
    "start_time": "2021-07-10T00:06:45.531Z"
   },
   {
    "duration": 2,
    "start_time": "2021-07-10T00:06:45.594Z"
   },
   {
    "duration": 5,
    "start_time": "2021-07-10T00:06:45.598Z"
   },
   {
    "duration": 551,
    "start_time": "2021-07-10T00:06:45.604Z"
   },
   {
    "duration": 12,
    "start_time": "2021-07-10T00:06:46.156Z"
   },
   {
    "duration": 108,
    "start_time": "2021-07-10T00:06:46.170Z"
   },
   {
    "duration": 20,
    "start_time": "2021-07-10T00:06:46.279Z"
   },
   {
    "duration": 308,
    "start_time": "2021-07-10T00:06:46.301Z"
   },
   {
    "duration": 265,
    "start_time": "2021-07-10T00:06:46.611Z"
   },
   {
    "duration": 6,
    "start_time": "2021-07-10T00:06:46.879Z"
   },
   {
    "duration": 325,
    "start_time": "2021-07-10T00:06:46.887Z"
   },
   {
    "duration": 365,
    "start_time": "2021-07-10T00:06:47.213Z"
   },
   {
    "duration": 381,
    "start_time": "2021-07-10T00:06:47.580Z"
   },
   {
    "duration": 392,
    "start_time": "2021-07-10T00:06:47.963Z"
   },
   {
    "duration": 60,
    "start_time": "2021-07-10T00:06:48.356Z"
   },
   {
    "duration": 87,
    "start_time": "2021-07-10T00:06:48.417Z"
   },
   {
    "duration": 511,
    "start_time": "2021-07-10T00:06:48.505Z"
   },
   {
    "duration": 131,
    "start_time": "2021-07-10T00:06:49.018Z"
   },
   {
    "duration": 87784,
    "start_time": "2021-07-10T00:06:49.150Z"
   },
   {
    "duration": 260,
    "start_time": "2021-07-10T00:08:16.936Z"
   },
   {
    "duration": 2,
    "start_time": "2021-07-10T00:08:17.198Z"
   },
   {
    "duration": 557398,
    "start_time": "2021-07-10T00:08:17.202Z"
   },
   {
    "duration": 2,
    "start_time": "2021-07-10T00:17:34.601Z"
   },
   {
    "duration": 1059,
    "start_time": "2021-07-10T00:19:03.594Z"
   },
   {
    "duration": 778,
    "start_time": "2021-07-10T00:19:04.655Z"
   },
   {
    "duration": 433,
    "start_time": "2021-07-10T00:19:05.435Z"
   },
   {
    "duration": 910,
    "start_time": "2021-07-10T00:19:05.870Z"
   },
   {
    "duration": 118,
    "start_time": "2021-07-10T00:19:06.785Z"
   },
   {
    "duration": 939,
    "start_time": "2021-07-10T00:19:06.905Z"
   },
   {
    "duration": 25,
    "start_time": "2021-07-10T00:19:07.846Z"
   },
   {
    "duration": 85,
    "start_time": "2021-07-10T00:19:07.874Z"
   },
   {
    "duration": 13,
    "start_time": "2021-07-10T00:19:07.960Z"
   },
   {
    "duration": 143,
    "start_time": "2021-07-10T00:19:07.975Z"
   },
   {
    "duration": 128,
    "start_time": "2021-07-10T00:19:08.119Z"
   },
   {
    "duration": 37,
    "start_time": "2021-07-10T00:19:08.249Z"
   },
   {
    "duration": 11695,
    "start_time": "2021-07-10T00:19:08.288Z"
   },
   {
    "duration": 62,
    "start_time": "2021-07-10T00:19:19.985Z"
   },
   {
    "duration": 2,
    "start_time": "2021-07-10T00:19:20.048Z"
   },
   {
    "duration": 6,
    "start_time": "2021-07-10T00:19:20.052Z"
   },
   {
    "duration": 567,
    "start_time": "2021-07-10T00:19:20.059Z"
   },
   {
    "duration": 12,
    "start_time": "2021-07-10T00:19:20.627Z"
   },
   {
    "duration": 110,
    "start_time": "2021-07-10T00:19:20.640Z"
   },
   {
    "duration": 15,
    "start_time": "2021-07-10T00:19:20.752Z"
   },
   {
    "duration": 328,
    "start_time": "2021-07-10T00:19:20.769Z"
   },
   {
    "duration": 272,
    "start_time": "2021-07-10T00:19:21.098Z"
   },
   {
    "duration": 2,
    "start_time": "2021-07-10T00:19:21.373Z"
   },
   {
    "duration": 332,
    "start_time": "2021-07-10T00:19:21.385Z"
   },
   {
    "duration": 388,
    "start_time": "2021-07-10T00:19:21.719Z"
   },
   {
    "duration": 410,
    "start_time": "2021-07-10T00:19:22.108Z"
   },
   {
    "duration": 401,
    "start_time": "2021-07-10T00:19:22.519Z"
   },
   {
    "duration": 66,
    "start_time": "2021-07-10T00:19:22.922Z"
   },
   {
    "duration": 75,
    "start_time": "2021-07-10T00:19:22.990Z"
   },
   {
    "duration": 574,
    "start_time": "2021-07-10T00:19:23.066Z"
   },
   {
    "duration": 137,
    "start_time": "2021-07-10T00:19:23.642Z"
   },
   {
    "duration": 90742,
    "start_time": "2021-07-10T00:19:23.781Z"
   },
   {
    "duration": 270,
    "start_time": "2021-07-10T00:20:54.524Z"
   },
   {
    "duration": 3,
    "start_time": "2021-07-10T00:20:54.796Z"
   },
   {
    "duration": 5,
    "start_time": "2021-07-10T00:20:54.800Z"
   },
   {
    "duration": 7,
    "start_time": "2021-07-10T00:20:54.807Z"
   },
   {
    "duration": 453251,
    "start_time": "2021-07-10T00:20:54.816Z"
   },
   {
    "duration": 34005,
    "start_time": "2021-07-10T00:28:28.068Z"
   },
   {
    "duration": 183,
    "start_time": "2021-07-10T00:29:02.074Z"
   },
   {
    "duration": 3936,
    "start_time": "2021-07-10T00:29:02.259Z"
   },
   {
    "duration": 96,
    "start_time": "2021-07-10T00:29:06.197Z"
   },
   {
    "duration": 4,
    "start_time": "2021-07-10T00:29:06.386Z"
   },
   {
    "duration": 5201,
    "start_time": "2021-07-10T00:29:06.392Z"
   },
   {
    "duration": 594,
    "start_time": "2021-07-10T00:29:11.595Z"
   },
   {
    "duration": 5683,
    "start_time": "2021-07-10T00:29:16.286Z"
   },
   {
    "duration": 80731,
    "start_time": "2021-07-10T00:29:25.397Z"
   },
   {
    "duration": 1022,
    "start_time": "2021-07-10T00:31:07.029Z"
   },
   {
    "duration": 770,
    "start_time": "2021-07-10T00:31:08.053Z"
   },
   {
    "duration": 450,
    "start_time": "2021-07-10T00:31:08.827Z"
   },
   {
    "duration": 908,
    "start_time": "2021-07-10T00:31:09.279Z"
   },
   {
    "duration": 122,
    "start_time": "2021-07-10T00:31:10.189Z"
   },
   {
    "duration": 934,
    "start_time": "2021-07-10T00:31:10.313Z"
   },
   {
    "duration": 36,
    "start_time": "2021-07-10T00:31:11.249Z"
   },
   {
    "duration": 74,
    "start_time": "2021-07-10T00:31:11.288Z"
   },
   {
    "duration": 2,
    "start_time": "2021-07-10T00:31:11.363Z"
   },
   {
    "duration": 137,
    "start_time": "2021-07-10T00:31:11.367Z"
   },
   {
    "duration": 117,
    "start_time": "2021-07-10T00:31:11.505Z"
   },
   {
    "duration": 21,
    "start_time": "2021-07-10T00:31:11.623Z"
   },
   {
    "duration": 11883,
    "start_time": "2021-07-10T00:31:11.646Z"
   },
   {
    "duration": 65,
    "start_time": "2021-07-10T00:31:23.531Z"
   },
   {
    "duration": 2,
    "start_time": "2021-07-10T00:31:23.597Z"
   },
   {
    "duration": 5,
    "start_time": "2021-07-10T00:31:23.600Z"
   },
   {
    "duration": 560,
    "start_time": "2021-07-10T00:31:23.607Z"
   },
   {
    "duration": 24,
    "start_time": "2021-07-10T00:31:24.169Z"
   },
   {
    "duration": 102,
    "start_time": "2021-07-10T00:31:24.194Z"
   },
   {
    "duration": 17,
    "start_time": "2021-07-10T00:31:24.298Z"
   },
   {
    "duration": 332,
    "start_time": "2021-07-10T00:31:24.316Z"
   },
   {
    "duration": 283,
    "start_time": "2021-07-10T00:31:24.651Z"
   },
   {
    "duration": 2,
    "start_time": "2021-07-10T00:31:24.936Z"
   },
   {
    "duration": 341,
    "start_time": "2021-07-10T00:31:24.939Z"
   },
   {
    "duration": 392,
    "start_time": "2021-07-10T00:31:25.285Z"
   },
   {
    "duration": 408,
    "start_time": "2021-07-10T00:31:25.679Z"
   },
   {
    "duration": 425,
    "start_time": "2021-07-10T00:31:26.089Z"
   },
   {
    "duration": 69,
    "start_time": "2021-07-10T00:31:26.516Z"
   },
   {
    "duration": 74,
    "start_time": "2021-07-10T00:31:26.586Z"
   },
   {
    "duration": 535,
    "start_time": "2021-07-10T00:31:26.662Z"
   },
   {
    "duration": 135,
    "start_time": "2021-07-10T00:31:27.198Z"
   },
   {
    "duration": 88294,
    "start_time": "2021-07-10T00:31:27.334Z"
   },
   {
    "duration": 172,
    "start_time": "2021-07-10T00:32:55.629Z"
   },
   {
    "duration": 2,
    "start_time": "2021-07-10T00:32:55.803Z"
   },
   {
    "duration": 2,
    "start_time": "2021-07-10T00:32:55.885Z"
   },
   {
    "duration": 7,
    "start_time": "2021-07-10T00:32:55.889Z"
   },
   {
    "duration": 5156,
    "start_time": "2021-07-10T00:32:55.897Z"
   },
   {
    "duration": 42796,
    "start_time": "2021-07-10T00:33:01.055Z"
   },
   {
    "duration": 2508,
    "start_time": "2021-07-10T00:33:43.853Z"
   },
   {
    "duration": 3933,
    "start_time": "2021-07-10T00:33:46.363Z"
   },
   {
    "duration": 91,
    "start_time": "2021-07-10T00:33:50.298Z"
   },
   {
    "duration": 92,
    "start_time": "2021-07-10T00:33:50.393Z"
   },
   {
    "duration": 5102,
    "start_time": "2021-07-10T00:33:50.488Z"
   },
   {
    "duration": 507,
    "start_time": "2021-07-10T00:33:55.592Z"
   },
   {
    "duration": 642828,
    "start_time": "2021-07-10T00:33:56.102Z"
   },
   {
    "duration": 156,
    "start_time": "2021-07-10T00:44:38.931Z"
   },
   {
    "duration": 154,
    "start_time": "2021-07-10T00:44:44.845Z"
   },
   {
    "duration": -18,
    "start_time": "2021-07-10T00:51:18.907Z"
   },
   {
    "duration": 53364,
    "start_time": "2021-07-10T00:51:24.452Z"
   },
   {
    "duration": 59862,
    "start_time": "2021-07-10T00:52:20.522Z"
   },
   {
    "duration": 60,
    "start_time": "2021-07-10T00:57:36.163Z"
   },
   {
    "duration": 28989,
    "start_time": "2021-07-10T00:57:40.762Z"
   },
   {
    "duration": 64630,
    "start_time": "2021-07-10T00:58:18.535Z"
   },
   {
    "duration": 81,
    "start_time": "2021-07-10T01:01:32.208Z"
   },
   {
    "duration": 86,
    "start_time": "2021-07-10T01:02:39.326Z"
   },
   {
    "duration": 22316,
    "start_time": "2021-07-10T01:02:41.858Z"
   },
   {
    "duration": 60862,
    "start_time": "2021-07-10T01:03:06.559Z"
   },
   {
    "duration": 31672,
    "start_time": "2021-07-10T01:04:58.194Z"
   },
   {
    "duration": 136382,
    "start_time": "2021-07-10T01:05:31.065Z"
   },
   {
    "duration": 80,
    "start_time": "2021-07-10T01:07:48.794Z"
   },
   {
    "duration": 76972,
    "start_time": "2021-07-10T01:08:01.332Z"
   },
   {
    "duration": 331730,
    "start_time": "2021-07-10T01:09:19.220Z"
   },
   {
    "duration": 1036,
    "start_time": "2021-07-10T01:19:57.215Z"
   },
   {
    "duration": 751,
    "start_time": "2021-07-10T01:19:58.252Z"
   },
   {
    "duration": 438,
    "start_time": "2021-07-10T01:19:59.007Z"
   },
   {
    "duration": 895,
    "start_time": "2021-07-10T01:19:59.446Z"
   },
   {
    "duration": 121,
    "start_time": "2021-07-10T01:20:00.343Z"
   },
   {
    "duration": 1000,
    "start_time": "2021-07-10T01:20:00.465Z"
   },
   {
    "duration": 31,
    "start_time": "2021-07-10T01:20:01.466Z"
   },
   {
    "duration": 86,
    "start_time": "2021-07-10T01:20:01.499Z"
   },
   {
    "duration": 2,
    "start_time": "2021-07-10T01:20:01.587Z"
   },
   {
    "duration": 138,
    "start_time": "2021-07-10T01:20:01.590Z"
   },
   {
    "duration": 125,
    "start_time": "2021-07-10T01:20:01.730Z"
   },
   {
    "duration": 30,
    "start_time": "2021-07-10T01:20:01.857Z"
   },
   {
    "duration": 11420,
    "start_time": "2021-07-10T01:20:01.889Z"
   },
   {
    "duration": 59,
    "start_time": "2021-07-10T01:20:13.311Z"
   },
   {
    "duration": 2,
    "start_time": "2021-07-10T01:20:13.384Z"
   },
   {
    "duration": 7,
    "start_time": "2021-07-10T01:20:13.387Z"
   },
   {
    "duration": 546,
    "start_time": "2021-07-10T01:20:13.396Z"
   },
   {
    "duration": 12,
    "start_time": "2021-07-10T01:20:13.944Z"
   },
   {
    "duration": 114,
    "start_time": "2021-07-10T01:20:13.958Z"
   },
   {
    "duration": 19,
    "start_time": "2021-07-10T01:20:14.074Z"
   },
   {
    "duration": 330,
    "start_time": "2021-07-10T01:20:14.095Z"
   },
   {
    "duration": 277,
    "start_time": "2021-07-10T01:20:14.427Z"
   },
   {
    "duration": 2,
    "start_time": "2021-07-10T01:20:14.706Z"
   },
   {
    "duration": 338,
    "start_time": "2021-07-10T01:20:14.709Z"
   },
   {
    "duration": 393,
    "start_time": "2021-07-10T01:20:15.049Z"
   },
   {
    "duration": 422,
    "start_time": "2021-07-10T01:20:15.446Z"
   },
   {
    "duration": 418,
    "start_time": "2021-07-10T01:20:15.870Z"
   },
   {
    "duration": 60,
    "start_time": "2021-07-10T01:20:16.290Z"
   },
   {
    "duration": 87,
    "start_time": "2021-07-10T01:20:16.352Z"
   },
   {
    "duration": 522,
    "start_time": "2021-07-10T01:20:16.441Z"
   },
   {
    "duration": 166,
    "start_time": "2021-07-10T01:20:16.965Z"
   },
   {
    "duration": 2,
    "start_time": "2021-07-10T01:20:17.133Z"
   },
   {
    "duration": 4,
    "start_time": "2021-07-10T01:20:17.137Z"
   },
   {
    "duration": 4,
    "start_time": "2021-07-10T01:20:17.143Z"
   },
   {
    "duration": 5,
    "start_time": "2021-07-10T01:20:17.148Z"
   },
   {
    "duration": 6551,
    "start_time": "2021-07-10T01:20:17.154Z"
   },
   {
    "duration": -35,
    "start_time": "2021-07-10T01:20:23.742Z"
   },
   {
    "duration": -38,
    "start_time": "2021-07-10T01:20:23.746Z"
   },
   {
    "duration": -42,
    "start_time": "2021-07-10T01:20:23.751Z"
   },
   {
    "duration": -44,
    "start_time": "2021-07-10T01:20:23.754Z"
   },
   {
    "duration": -47,
    "start_time": "2021-07-10T01:20:23.757Z"
   },
   {
    "duration": -49,
    "start_time": "2021-07-10T01:20:23.760Z"
   },
   {
    "duration": -51,
    "start_time": "2021-07-10T01:20:23.763Z"
   },
   {
    "duration": 323814,
    "start_time": "2021-07-10T01:21:02.744Z"
   },
   {
    "duration": 472,
    "start_time": "2021-07-10T01:27:14.020Z"
   },
   {
    "duration": 422,
    "start_time": "2021-07-10T01:27:22.075Z"
   },
   {
    "duration": 42407,
    "start_time": "2021-07-10T01:27:44.144Z"
   },
   {
    "duration": 2454,
    "start_time": "2021-07-10T01:28:33.621Z"
   },
   {
    "duration": 3779,
    "start_time": "2021-07-10T01:28:54.209Z"
   },
   {
    "duration": 8,
    "start_time": "2021-07-10T01:29:06.061Z"
   },
   {
    "duration": 2,
    "start_time": "2021-07-10T01:29:13.313Z"
   },
   {
    "duration": 401,
    "start_time": "2021-07-10T01:29:18.716Z"
   },
   {
    "duration": 141,
    "start_time": "2021-07-10T01:29:43.943Z"
   },
   {
    "duration": 162,
    "start_time": "2021-07-10T01:31:26.194Z"
   },
   {
    "duration": 791,
    "start_time": "2021-07-10T01:31:32.990Z"
   },
   {
    "duration": 4904,
    "start_time": "2021-07-10T01:32:43.681Z"
   },
   {
    "duration": 436,
    "start_time": "2021-07-10T01:33:02.957Z"
   },
   {
    "duration": 3,
    "start_time": "2021-07-10T01:34:55.896Z"
   },
   {
    "duration": 5147,
    "start_time": "2021-07-10T01:34:56.644Z"
   },
   {
    "duration": 450,
    "start_time": "2021-07-10T01:35:05.349Z"
   },
   {
    "duration": 11,
    "start_time": "2021-07-10T01:35:46.509Z"
   },
   {
    "duration": 1019,
    "start_time": "2021-07-10T01:36:16.052Z"
   },
   {
    "duration": 769,
    "start_time": "2021-07-10T01:36:17.073Z"
   },
   {
    "duration": 444,
    "start_time": "2021-07-10T01:36:17.844Z"
   },
   {
    "duration": 895,
    "start_time": "2021-07-10T01:36:18.290Z"
   },
   {
    "duration": 125,
    "start_time": "2021-07-10T01:36:19.187Z"
   },
   {
    "duration": 1025,
    "start_time": "2021-07-10T01:36:19.314Z"
   },
   {
    "duration": 28,
    "start_time": "2021-07-10T01:36:20.342Z"
   },
   {
    "duration": 74,
    "start_time": "2021-07-10T01:36:20.386Z"
   },
   {
    "duration": 2,
    "start_time": "2021-07-10T01:36:20.462Z"
   },
   {
    "duration": 146,
    "start_time": "2021-07-10T01:36:20.465Z"
   },
   {
    "duration": 127,
    "start_time": "2021-07-10T01:36:20.613Z"
   },
   {
    "duration": 23,
    "start_time": "2021-07-10T01:36:20.741Z"
   },
   {
    "duration": 11620,
    "start_time": "2021-07-10T01:36:20.766Z"
   },
   {
    "duration": 55,
    "start_time": "2021-07-10T01:36:32.387Z"
   },
   {
    "duration": 2,
    "start_time": "2021-07-10T01:36:32.443Z"
   },
   {
    "duration": 6,
    "start_time": "2021-07-10T01:36:32.447Z"
   },
   {
    "duration": 548,
    "start_time": "2021-07-10T01:36:32.454Z"
   },
   {
    "duration": 13,
    "start_time": "2021-07-10T01:36:33.003Z"
   },
   {
    "duration": 111,
    "start_time": "2021-07-10T01:36:33.018Z"
   },
   {
    "duration": 16,
    "start_time": "2021-07-10T01:36:33.130Z"
   },
   {
    "duration": 309,
    "start_time": "2021-07-10T01:36:33.148Z"
   },
   {
    "duration": 262,
    "start_time": "2021-07-10T01:36:33.459Z"
   },
   {
    "duration": 2,
    "start_time": "2021-07-10T01:36:33.724Z"
   },
   {
    "duration": 321,
    "start_time": "2021-07-10T01:36:33.728Z"
   },
   {
    "duration": 390,
    "start_time": "2021-07-10T01:36:34.051Z"
   },
   {
    "duration": 397,
    "start_time": "2021-07-10T01:36:34.442Z"
   },
   {
    "duration": 401,
    "start_time": "2021-07-10T01:36:34.840Z"
   },
   {
    "duration": 61,
    "start_time": "2021-07-10T01:36:35.243Z"
   },
   {
    "duration": 85,
    "start_time": "2021-07-10T01:36:35.306Z"
   },
   {
    "duration": 516,
    "start_time": "2021-07-10T01:36:35.392Z"
   },
   {
    "duration": 172,
    "start_time": "2021-07-10T01:36:35.910Z"
   },
   {
    "duration": 2,
    "start_time": "2021-07-10T01:36:36.085Z"
   },
   {
    "duration": 5,
    "start_time": "2021-07-10T01:36:36.089Z"
   },
   {
    "duration": 64653,
    "start_time": "2021-07-10T01:36:36.095Z"
   },
   {
    "duration": 41,
    "start_time": "2021-07-10T01:37:40.709Z"
   },
   {
    "duration": 40,
    "start_time": "2021-07-10T01:37:40.712Z"
   },
   {
    "duration": 39,
    "start_time": "2021-07-10T01:37:40.714Z"
   },
   {
    "duration": 36,
    "start_time": "2021-07-10T01:37:40.717Z"
   },
   {
    "duration": 35,
    "start_time": "2021-07-10T01:37:40.719Z"
   },
   {
    "duration": 34,
    "start_time": "2021-07-10T01:37:40.721Z"
   },
   {
    "duration": 32,
    "start_time": "2021-07-10T01:37:40.724Z"
   },
   {
    "duration": 32,
    "start_time": "2021-07-10T01:37:40.726Z"
   },
   {
    "duration": 30,
    "start_time": "2021-07-10T01:37:40.729Z"
   },
   {
    "duration": 1061,
    "start_time": "2021-07-10T01:37:47.181Z"
   },
   {
    "duration": 768,
    "start_time": "2021-07-10T01:37:48.244Z"
   },
   {
    "duration": 429,
    "start_time": "2021-07-10T01:37:49.015Z"
   },
   {
    "duration": 884,
    "start_time": "2021-07-10T01:37:49.447Z"
   },
   {
    "duration": 123,
    "start_time": "2021-07-10T01:37:50.333Z"
   },
   {
    "duration": 947,
    "start_time": "2021-07-10T01:37:50.458Z"
   },
   {
    "duration": 28,
    "start_time": "2021-07-10T01:37:51.407Z"
   },
   {
    "duration": 88,
    "start_time": "2021-07-10T01:37:51.436Z"
   },
   {
    "duration": 2,
    "start_time": "2021-07-10T01:37:51.527Z"
   },
   {
    "duration": 132,
    "start_time": "2021-07-10T01:37:51.532Z"
   },
   {
    "duration": 126,
    "start_time": "2021-07-10T01:37:51.666Z"
   },
   {
    "duration": 21,
    "start_time": "2021-07-10T01:37:51.794Z"
   },
   {
    "duration": 11602,
    "start_time": "2021-07-10T01:37:51.816Z"
   },
   {
    "duration": 66,
    "start_time": "2021-07-10T01:38:03.419Z"
   },
   {
    "duration": 2,
    "start_time": "2021-07-10T01:38:03.486Z"
   },
   {
    "duration": 6,
    "start_time": "2021-07-10T01:38:03.489Z"
   },
   {
    "duration": 547,
    "start_time": "2021-07-10T01:38:03.496Z"
   },
   {
    "duration": 15,
    "start_time": "2021-07-10T01:38:04.045Z"
   },
   {
    "duration": 104,
    "start_time": "2021-07-10T01:38:04.062Z"
   },
   {
    "duration": 23,
    "start_time": "2021-07-10T01:38:04.168Z"
   },
   {
    "duration": 321,
    "start_time": "2021-07-10T01:38:04.193Z"
   },
   {
    "duration": 296,
    "start_time": "2021-07-10T01:38:04.516Z"
   },
   {
    "duration": 2,
    "start_time": "2021-07-10T01:38:04.814Z"
   },
   {
    "duration": 259,
    "start_time": "2021-07-10T01:38:04.818Z"
   },
   {
    "duration": 454,
    "start_time": "2021-07-10T01:38:05.079Z"
   },
   {
    "duration": 403,
    "start_time": "2021-07-10T01:38:05.535Z"
   },
   {
    "duration": 413,
    "start_time": "2021-07-10T01:38:05.941Z"
   },
   {
    "duration": 57,
    "start_time": "2021-07-10T01:38:06.356Z"
   },
   {
    "duration": 81,
    "start_time": "2021-07-10T01:38:06.415Z"
   },
   {
    "duration": 461,
    "start_time": "2021-07-10T01:38:06.498Z"
   },
   {
    "duration": 165,
    "start_time": "2021-07-10T01:38:06.961Z"
   },
   {
    "duration": 2,
    "start_time": "2021-07-10T01:38:07.128Z"
   },
   {
    "duration": 7,
    "start_time": "2021-07-10T01:38:07.131Z"
   },
   {
    "duration": 301869,
    "start_time": "2021-07-10T01:38:07.139Z"
   },
   {
    "duration": 31,
    "start_time": "2021-07-10T01:43:08.979Z"
   },
   {
    "duration": 24,
    "start_time": "2021-07-10T01:43:08.987Z"
   },
   {
    "duration": 22,
    "start_time": "2021-07-10T01:43:08.990Z"
   },
   {
    "duration": 15,
    "start_time": "2021-07-10T01:43:08.998Z"
   },
   {
    "duration": 13,
    "start_time": "2021-07-10T01:43:09.001Z"
   },
   {
    "duration": 11,
    "start_time": "2021-07-10T01:43:09.004Z"
   },
   {
    "duration": 9,
    "start_time": "2021-07-10T01:43:09.007Z"
   },
   {
    "duration": 2,
    "start_time": "2021-07-10T01:43:09.015Z"
   },
   {
    "duration": 350,
    "start_time": "2021-07-10T01:43:39.859Z"
   },
   {
    "duration": 38673,
    "start_time": "2021-07-10T01:43:56.346Z"
   },
   {
    "duration": 2168,
    "start_time": "2021-07-10T01:44:38.337Z"
   },
   {
    "duration": 3872,
    "start_time": "2021-07-10T01:44:47.418Z"
   },
   {
    "duration": 8,
    "start_time": "2021-07-10T01:44:53.662Z"
   },
   {
    "duration": 3,
    "start_time": "2021-07-10T01:45:02.219Z"
   },
   {
    "duration": 4589,
    "start_time": "2021-07-10T01:45:03.003Z"
   },
   {
    "duration": 425,
    "start_time": "2021-07-10T01:45:10.568Z"
   },
   {
    "duration": 303022,
    "start_time": "2021-07-10T01:56:32.238Z"
   },
   {
    "duration": 11,
    "start_time": "2021-07-10T02:11:33.702Z"
   },
   {
    "duration": 8,
    "start_time": "2021-07-10T02:11:36.677Z"
   },
   {
    "duration": 3864,
    "start_time": "2021-07-10T02:11:39.232Z"
   },
   {
    "duration": 1383,
    "start_time": "2021-07-12T18:18:25.819Z"
   },
   {
    "duration": 1044,
    "start_time": "2021-07-12T18:18:27.205Z"
   },
   {
    "duration": 611,
    "start_time": "2021-07-12T18:18:28.252Z"
   },
   {
    "duration": 1198,
    "start_time": "2021-07-12T18:18:28.866Z"
   },
   {
    "duration": 161,
    "start_time": "2021-07-12T18:18:31.452Z"
   },
   {
    "duration": 1242,
    "start_time": "2021-07-12T18:18:40.047Z"
   },
   {
    "duration": 37,
    "start_time": "2021-07-12T18:18:44.926Z"
   },
   {
    "duration": 96,
    "start_time": "2021-07-12T18:18:45.541Z"
   },
   {
    "duration": 164,
    "start_time": "2021-07-12T18:18:51.423Z"
   },
   {
    "duration": 163,
    "start_time": "2021-07-12T18:18:52.571Z"
   },
   {
    "duration": 37,
    "start_time": "2021-07-12T18:18:55.439Z"
   },
   {
    "duration": 21938,
    "start_time": "2021-07-12T18:18:58.693Z"
   },
   {
    "duration": 82,
    "start_time": "2021-07-12T18:19:20.633Z"
   },
   {
    "duration": 875,
    "start_time": "2021-07-12T18:19:25.701Z"
   },
   {
    "duration": 17,
    "start_time": "2021-07-12T18:21:22.559Z"
   },
   {
    "duration": 134,
    "start_time": "2021-07-12T18:23:32.539Z"
   },
   {
    "duration": 21,
    "start_time": "2021-07-12T18:23:43.972Z"
   },
   {
    "duration": 502,
    "start_time": "2021-07-12T18:23:47.553Z"
   },
   {
    "duration": 442,
    "start_time": "2021-07-12T18:24:37.384Z"
   },
   {
    "duration": 399,
    "start_time": "2021-07-12T18:25:02.150Z"
   },
   {
    "duration": 690,
    "start_time": "2021-07-12T18:25:06.013Z"
   },
   {
    "duration": 723,
    "start_time": "2021-07-12T18:25:11.124Z"
   },
   {
    "duration": 708,
    "start_time": "2021-07-12T19:44:42.087Z"
   },
   {
    "duration": 79,
    "start_time": "2021-07-12T19:44:46.535Z"
   },
   {
    "duration": 91,
    "start_time": "2021-07-12T19:44:59.907Z"
   },
   {
    "duration": 793,
    "start_time": "2021-07-12T19:45:13.388Z"
   },
   {
    "duration": 329,
    "start_time": "2021-07-12T19:45:16.446Z"
   },
   {
    "duration": 458311,
    "start_time": "2021-07-12T19:45:35.116Z"
   },
   {
    "duration": 669,
    "start_time": "2021-07-12T19:56:37.852Z"
   },
   {
    "duration": 54842,
    "start_time": "2021-07-12T19:56:46.530Z"
   },
   {
    "duration": 2975,
    "start_time": "2021-07-12T19:58:21.466Z"
   },
   {
    "duration": 4712,
    "start_time": "2021-07-12T19:58:28.989Z"
   },
   {
    "duration": 4,
    "start_time": "2021-07-12T19:59:23.394Z"
   },
   {
    "duration": 25762,
    "start_time": "2021-07-12T19:59:31.043Z"
   },
   {
    "duration": 1439,
    "start_time": "2021-07-12T20:05:18.299Z"
   },
   {
    "duration": 1133,
    "start_time": "2021-07-12T20:05:19.741Z"
   },
   {
    "duration": 757,
    "start_time": "2021-07-12T20:05:20.878Z"
   },
   {
    "duration": 1329,
    "start_time": "2021-07-12T20:05:21.638Z"
   },
   {
    "duration": 172,
    "start_time": "2021-07-12T20:05:22.970Z"
   },
   {
    "duration": 1344,
    "start_time": "2021-07-12T20:05:23.144Z"
   },
   {
    "duration": 50,
    "start_time": "2021-07-12T20:05:24.490Z"
   },
   {
    "duration": 122,
    "start_time": "2021-07-12T20:05:24.544Z"
   },
   {
    "duration": 3,
    "start_time": "2021-07-12T20:05:24.670Z"
   },
   {
    "duration": 197,
    "start_time": "2021-07-12T20:05:24.675Z"
   },
   {
    "duration": 191,
    "start_time": "2021-07-12T20:05:24.875Z"
   },
   {
    "duration": 49,
    "start_time": "2021-07-12T20:05:25.068Z"
   },
   {
    "duration": 24135,
    "start_time": "2021-07-12T20:05:25.120Z"
   },
   {
    "duration": 90,
    "start_time": "2021-07-12T20:05:49.257Z"
   },
   {
    "duration": 2,
    "start_time": "2021-07-12T20:05:49.350Z"
   },
   {
    "duration": 6,
    "start_time": "2021-07-12T20:05:49.355Z"
   },
   {
    "duration": 950,
    "start_time": "2021-07-12T20:05:49.363Z"
   },
   {
    "duration": 16,
    "start_time": "2021-07-12T20:05:50.316Z"
   },
   {
    "duration": 154,
    "start_time": "2021-07-12T20:05:50.334Z"
   },
   {
    "duration": 24,
    "start_time": "2021-07-12T20:05:50.490Z"
   },
   {
    "duration": 559,
    "start_time": "2021-07-12T20:05:50.517Z"
   },
   {
    "duration": 505,
    "start_time": "2021-07-12T20:05:51.078Z"
   },
   {
    "duration": 4,
    "start_time": "2021-07-12T20:05:51.601Z"
   },
   {
    "duration": 427,
    "start_time": "2021-07-12T20:05:51.609Z"
   },
   {
    "duration": 741,
    "start_time": "2021-07-12T20:05:52.039Z"
   },
   {
    "duration": 710,
    "start_time": "2021-07-12T20:05:52.782Z"
   },
   {
    "duration": 749,
    "start_time": "2021-07-12T20:05:53.494Z"
   },
   {
    "duration": 85,
    "start_time": "2021-07-12T20:05:54.246Z"
   },
   {
    "duration": 113,
    "start_time": "2021-07-12T20:05:54.334Z"
   },
   {
    "duration": 743,
    "start_time": "2021-07-12T20:05:54.449Z"
   },
   {
    "duration": 305,
    "start_time": "2021-07-12T20:05:55.195Z"
   },
   {
    "duration": 9,
    "start_time": "2021-07-12T20:05:55.503Z"
   },
   {
    "duration": 8,
    "start_time": "2021-07-12T20:05:55.515Z"
   },
   {
    "duration": 459631,
    "start_time": "2021-07-12T20:05:55.526Z"
   },
   {
    "duration": 567,
    "start_time": "2021-07-12T20:13:35.159Z"
   },
   {
    "duration": 56601,
    "start_time": "2021-07-12T20:13:35.729Z"
   },
   {
    "duration": 2779,
    "start_time": "2021-07-12T20:14:32.333Z"
   },
   {
    "duration": 4609,
    "start_time": "2021-07-12T20:14:35.116Z"
   },
   {
    "duration": 102,
    "start_time": "2021-07-12T20:14:39.801Z"
   },
   {
    "duration": 99,
    "start_time": "2021-07-12T20:14:39.907Z"
   },
   {
    "duration": 84004,
    "start_time": "2021-07-12T20:14:40.009Z"
   },
   {
    "duration": 787,
    "start_time": "2021-07-12T20:16:04.016Z"
   },
   {
    "duration": 74586,
    "start_time": "2021-07-12T20:21:38.721Z"
   },
   {
    "duration": 78154,
    "start_time": "2021-07-12T20:23:40.655Z"
   },
   {
    "duration": 404,
    "start_time": "2021-07-12T20:25:18.608Z"
   },
   {
    "duration": 309,
    "start_time": "2021-07-12T20:25:44.714Z"
   },
   {
    "duration": 4,
    "start_time": "2021-07-12T20:25:49.595Z"
   },
   {
    "duration": 11921,
    "start_time": "2021-07-12T20:25:50.480Z"
   },
   {
    "duration": 1186,
    "start_time": "2021-07-12T20:26:09.028Z"
   },
   {
    "duration": 308,
    "start_time": "2021-07-12T20:26:32.546Z"
   },
   {
    "duration": 4,
    "start_time": "2021-07-12T20:26:38.143Z"
   },
   {
    "duration": 14791,
    "start_time": "2021-07-12T20:26:39.412Z"
   },
   {
    "duration": 615,
    "start_time": "2021-07-12T20:27:00.501Z"
   },
   {
    "duration": 54369,
    "start_time": "2021-07-12T20:27:54.043Z"
   },
   {
    "duration": 6594,
    "start_time": "2021-07-12T21:01:53.811Z"
   },
   {
    "duration": 5585,
    "start_time": "2021-07-12T21:02:09.125Z"
   },
   {
    "duration": 7380,
    "start_time": "2021-07-12T21:02:40.225Z"
   },
   {
    "duration": 664,
    "start_time": "2021-07-12T21:02:55.439Z"
   },
   {
    "duration": 5791,
    "start_time": "2021-07-12T21:03:01.317Z"
   },
   {
    "duration": 590,
    "start_time": "2021-07-12T21:03:09.821Z"
   },
   {
    "duration": 6050,
    "start_time": "2021-07-12T21:03:17.258Z"
   },
   {
    "duration": 699,
    "start_time": "2021-07-12T21:03:23.311Z"
   }
  ],
  "kernelspec": {
   "display_name": "Python 3",
   "language": "python",
   "name": "python3"
  },
  "language_info": {
   "codemirror_mode": {
    "name": "ipython",
    "version": 3
   },
   "file_extension": ".py",
   "mimetype": "text/x-python",
   "name": "python",
   "nbconvert_exporter": "python",
   "pygments_lexer": "ipython3",
   "version": "3.8.5"
  },
  "toc": {
   "base_numbering": 1,
   "nav_menu": {},
   "number_sections": true,
   "sideBar": true,
   "skip_h1_title": true,
   "title_cell": "Table of Contents",
   "title_sidebar": "Contents",
   "toc_cell": false,
   "toc_position": {},
   "toc_section_display": true,
   "toc_window_display": false
  }
 },
 "nbformat": 4,
 "nbformat_minor": 2
}
