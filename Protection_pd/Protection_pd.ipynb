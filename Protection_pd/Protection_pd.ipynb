{
 "cells": [
  {
   "cell_type": "markdown",
   "metadata": {},
   "source": [
    "# Защита персональных данных клиентов"
   ]
  },
  {
   "cell_type": "markdown",
   "metadata": {},
   "source": [
    "Нужно защитить данные клиентов страховой компании. Разработаем такой метод преобразования данных, чтобы по ним было сложно восстановить персональную информацию.\n",
    "\n",
    "Нужно защитить данные, чтобы при преобразовании качество моделей машинного обучения не ухудшилось."
   ]
  },
  {
   "cell_type": "markdown",
   "metadata": {},
   "source": [
    "## Загрузка данных"
   ]
  },
  {
   "cell_type": "code",
   "execution_count": 1,
   "metadata": {},
   "outputs": [],
   "source": [
    "import numpy as np\n",
    "import pandas as pd\n",
    "\n",
    "from sklearn.linear_model import LinearRegression\n",
    "from sklearn.metrics import r2_score\n"
   ]
  },
  {
   "cell_type": "code",
   "execution_count": 2,
   "metadata": {},
   "outputs": [
    {
     "name": "stdout",
     "output_type": "stream",
     "text": [
      "<class 'pandas.core.frame.DataFrame'>\n",
      "RangeIndex: 5000 entries, 0 to 4999\n",
      "Data columns (total 5 columns):\n",
      " #   Column             Non-Null Count  Dtype  \n",
      "---  ------             --------------  -----  \n",
      " 0   Пол                5000 non-null   int64  \n",
      " 1   Возраст            5000 non-null   float64\n",
      " 2   Зарплата           5000 non-null   float64\n",
      " 3   Члены семьи        5000 non-null   int64  \n",
      " 4   Страховые выплаты  5000 non-null   int64  \n",
      "dtypes: float64(2), int64(3)\n",
      "memory usage: 195.4 KB\n"
     ]
    }
   ],
   "source": [
    "insur = pd.read_csv('./insurance.csv')\n",
    "insur.info()"
   ]
  },
  {
   "cell_type": "markdown",
   "metadata": {},
   "source": [
    "Пропусков нет, нужно поменять тип данных в столбцах возвраст и зарплата на int"
   ]
  },
  {
   "cell_type": "code",
   "execution_count": 3,
   "metadata": {},
   "outputs": [
    {
     "name": "stdout",
     "output_type": "stream",
     "text": [
      "<class 'pandas.core.frame.DataFrame'>\n",
      "RangeIndex: 5000 entries, 0 to 4999\n",
      "Data columns (total 5 columns):\n",
      " #   Column             Non-Null Count  Dtype\n",
      "---  ------             --------------  -----\n",
      " 0   Пол                5000 non-null   int64\n",
      " 1   Возраст            5000 non-null   int64\n",
      " 2   Зарплата           5000 non-null   int64\n",
      " 3   Члены семьи        5000 non-null   int64\n",
      " 4   Страховые выплаты  5000 non-null   int64\n",
      "dtypes: int64(5)\n",
      "memory usage: 195.4 KB\n"
     ]
    }
   ],
   "source": [
    "insur['Возраст'] = insur['Возраст'].astype(int)\n",
    "insur['Зарплата'] = insur['Зарплата'].astype(int)\n",
    "insur.info()"
   ]
  },
  {
   "cell_type": "code",
   "execution_count": 4,
   "metadata": {},
   "outputs": [],
   "source": [
    "def info(data):\n",
    "    for column in data.columns:\n",
    "        print('Уникальные значения столбца', column)\n",
    "        print(data[column].unique())"
   ]
  },
  {
   "cell_type": "code",
   "execution_count": 5,
   "metadata": {},
   "outputs": [
    {
     "name": "stdout",
     "output_type": "stream",
     "text": [
      "Уникальные значения столбца Пол\n",
      "[1 0]\n",
      "Уникальные значения столбца Возраст\n",
      "[41 46 29 21 28 43 39 25 36 32 38 23 40 34 26 42 27 33 47 30 19 31 22 20\n",
      " 24 18 37 48 45 44 52 49 35 56 65 55 57 54 50 53 51 58 59 60 61 62]\n",
      "Уникальные значения столбца Зарплата\n",
      "[49600 38000 21000 41700 26100 41000 39700 38600 49700 51700 36600 29300\n",
      " 39500 55000 43700 23300 48900 33200 36900 43500 36100 26600 48700 40400\n",
      " 38400 34600 34800 36800 42200 46300 30300 51000 28100 64800 30400 45300\n",
      " 38300 49500 19400 40200 31700 69200 33100 31600 34500 38700 39600 42400\n",
      " 34900 30500 24200 49900 14300 47000 44800 43800 42700 35400 57200 29600\n",
      " 37400 48100 33700 61800 39400 15600 52600 37600 52500 32700 51600 60900\n",
      " 41800 47400 26500 45900 35700 34300 26700 25700 33300 31100 31500 42100\n",
      " 37300 42500 27300 46800 33500 44300 41600 53900 40100 44600 45000 32000\n",
      " 38200 33000 38500 51800 33800 46400 43200 31800 50200 35100 30700 45800\n",
      " 49300 42800 33600 50300 34000 36400 44900 43600 54600 52800 29700 39000\n",
      " 44100 31900 37700 35200 43100 51300 47500 40800 26800 64900 35900 31200\n",
      " 39900 43300 33900 40700 44700 53400 30600 56000 35600 55200 40600 48300\n",
      " 50800 41200 44200 44400 40500 39800 16600 48400 25100 23100 32100 31000\n",
      " 42900 46700 26000 55900 52000 41500 49400 60300 45600 49000 37500 21900\n",
      " 45100 47900 54300 32400 41300 44500 23200 37900 48000 52100 45700 29900\n",
      " 42600 45200 36000 46500 23800 30200 24400 32800 29000 43400 51500 61700\n",
      " 45400 50700 36200 41900 27900 47200 48800 55100 48200 35500 35000 43900\n",
      " 40000 22000 40300 36300 49800 25600 42300 54900 25500 32900 36700 38900\n",
      " 24700 28800 22900 47300 14500 28700 44000 34100 53000 59300 28500 47100\n",
      " 41400 58900 17500 54200 43000 29800 20000 13800 27500 67700 28000 37100\n",
      "  8900 14600 56200 38800 27700 50500 58400 34700 34400 49100 50900 28200\n",
      " 61500 32500 25900  9800 28300 41100 62000 32600 37200 53800 24000 53600\n",
      " 54800 59600 20200 21700 29200 38100 20700 32300 21200 62100 54000 24500\n",
      " 51900 47800 56100 55300 58100 28900 39100 58000 27200 24600 30100 57100\n",
      " 60100 22200 47700 24900 37800 52700 34200 18700 42000 26300 22600 30900\n",
      " 35800 30800 51100 53300 46200 24100 54700 51200 62300 51400 40900 23400\n",
      " 35300 55800 33400 21300 30000 56700 46900  5300 39200 57500 31300 53700\n",
      " 21600 50000 36500 16400 15900 65099 59900 63200 26200 61200 48500 32200\n",
      " 29100 50100 22700 28600 23500 23700 19600 17800 50600 57900 22500 22100\n",
      " 58300 64099 25000 60400 59100 37000 62400 29500 25800 25400 26900 21500\n",
      " 52200 46600 57300 46100 19300 18900 31400 28400 29400 17600 13900 52400\n",
      " 11300 46000 60500 58700 58200 24800 63700 60600 20400 26400 55600 57000\n",
      " 45500 48600 57600 52900 62800 17000 56500 52300 18400 63300 12900 27000\n",
      " 55700 39300 27800 18300 56300 59800 24300 14400 13400 17900 47600 54500\n",
      " 54400 23900 13000 19900 55400 22800 61000 57400 23000 20500 53200 18100\n",
      " 25300 59500 18200 50400 21100 20900 27400 17300 60700 70600 17700 19700\n",
      " 49200 63100 59200 14700 53100 21800 68000 16500 71400 10000 55500 54100\n",
      " 56400 20600 66300 18800 11000 66100 27100 57800 53500 19200 58500 64000\n",
      " 63600 23600 25200 19100 18600 57700 62700 56600 21400 58800 68400 17100\n",
      " 13300 68500 56900 64400 27600 67200 16200 58600 62200 16000 79000 22300\n",
      " 11200 71600 61300 70500 67100 59000 13500 16700 15700 60000 17400 63400\n",
      " 61900 65200 62600 14100 20100 63800 15100 70000 60200 20300 65900 15200\n",
      " 63500 13200 68900 12200  6000 74800 59700 10800 19000 10600 69400 15000\n",
      " 75200 62500 16300 20800  7400 65300 61400 56800]\n",
      "Уникальные значения столбца Члены семьи\n",
      "[1 0 2 4 3 5 6]\n",
      "Уникальные значения столбца Страховые выплаты\n",
      "[0 1 2 3 5 4]\n"
     ]
    }
   ],
   "source": [
    "info(insur)"
   ]
  },
  {
   "cell_type": "markdown",
   "metadata": {},
   "source": [
    "Пропусков нет, тип данных в столбцах \"Возраст\" и \"Зарплата\" поменяли на int, чтобы данные были целочисленные."
   ]
  },
  {
   "cell_type": "markdown",
   "metadata": {},
   "source": [
    "## Умножение матриц"
   ]
  },
  {
   "cell_type": "markdown",
   "metadata": {},
   "source": [
    "Обозначения:\n",
    "\n",
    "- $X$ — матрица признаков (нулевой столбец состоит из единиц)\n",
    "\n",
    "- $y$ — вектор целевого признака\n",
    "\n",
    "- $P$ — матрица, на которую умножаются признаки\n",
    "\n",
    "- $w$ — вектор весов линейной регрессии (нулевой элемент равен сдвигу)"
   ]
  },
  {
   "cell_type": "markdown",
   "metadata": {},
   "source": [
    "Предсказания:\n",
    "\n",
    "$$\n",
    "a = Xw\n",
    "$$\n",
    "\n",
    "Задача обучения:\n",
    "\n",
    "$$\n",
    "w = \\arg\\min_w MSE(Xw, y)\n",
    "$$\n",
    "\n",
    "Формула обучения:\n",
    "\n",
    "$$\n",
    "w = (X^T X)^{-1} X^T y\n",
    "$$"
   ]
  },
  {
   "cell_type": "markdown",
   "metadata": {},
   "source": [
    "Вопрос: признаки умножают на обратимую матрицу. Изменится ли качество линейной регрессии?"
   ]
  },
  {
   "cell_type": "markdown",
   "metadata": {},
   "source": [
    "**Ответ:** не изменится.\n",
    "\n",
    "**Обоснование:** \n",
    "\n",
    "Заменим матрицу X на XP и вычислим: \n",
    "    \n",
    "$$\n",
    "w = ((XP)^T (XP))^{-1} (XP)^T y\n",
    "$$\n",
    "\n",
    "Подставим в уравнение $a$ =XPw:\n",
    "    \n",
    "$$\n",
    "a_{1} = XP((XP)^T (XP))^{-1} (XP)^T y \n",
    "$$\n",
    "\n",
    "Применим свойство обратной матрицы, но для начало раскроем скобки $((XP)^T (XP))^{-1}$:\n",
    "\n",
    "$$\n",
    "(AB)^{-1} = B^{-1}A^{-1}\n",
    "$$\n",
    "\n",
    "$$\n",
    "a_{1} = XP((XP)^T (XP))^{-1}(XP)^T y = XP(P^T (X^T X) P)^{-1}(XP)^T y = XP P^{-1} (X^T X)^{-1} (P^T)^{-1}(XP)^T y =|PP^{-1}=E|= XE (X^T X)^{-1}(P^T)^{-1}(XP)^T y\n",
    "$$\n",
    "\n",
    "Теперь воспользуемся свойством транспанированной матрицы и снова свойством обратной:\n",
    "    \n",
    "$$\n",
    "(AB)^{T} = B^TA^T\n",
    "$$\n",
    "\n",
    "$$\n",
    "a_{1} = X (X^T X)^{-1}(P^T)^{-1}(XP)^T y = X (X^T X)^{-1}(P^T)^{-1} P^T X^T y=|(P^T)^{-1}P^T=E|= X (X^T X)^{-1} X^T y\n",
    "$$\n",
    "\n",
    "Получаем:\n",
    "\n",
    "$$\n",
    "a_{1} = X (X^T X)^{-1} X^T y = Xw = a\n",
    "$$\n",
    "\n",
    "Таким образом, при умножении матрицы признаков на обратимую матрицу, качество линейной регрессии не изменится. Что и требовалось доказать!"
   ]
  },
  {
   "cell_type": "markdown",
   "metadata": {},
   "source": [
    "## Алгоритм преобразования"
   ]
  },
  {
   "cell_type": "markdown",
   "metadata": {},
   "source": [
    "**Алгоритм**\n",
    "\n",
    "Для защиты информации будем умножать матрицу признаков на обратимую матрицу, которая будет генерироваться случайным образом.\n",
    "\n",
    "1. Составим рандомную матрицу Y;\n",
    "2. Проверим эту матрицу на обратимость;\n",
    "3. Получим матрицу преобразованных признаков Z=X*Y."
   ]
  },
  {
   "cell_type": "markdown",
   "metadata": {},
   "source": [
    "**Обоснование**\n",
    "\n",
    "Матрица Y должна иметь размерность $nxn$, где n - количество признаков для регрессии. Таким образом матрица Z будет иметь туже размерность, что и матрица X. Обратная матрица Y существует только для квадратных матриц (определитель которых не равен нулю)."
   ]
  },
  {
   "cell_type": "markdown",
   "metadata": {},
   "source": [
    "## Проверка алгоритма"
   ]
  },
  {
   "cell_type": "markdown",
   "metadata": {},
   "source": [
    "Вначале найдем качество линейной регрессии до преобразование признаков"
   ]
  },
  {
   "cell_type": "code",
   "execution_count": 6,
   "metadata": {},
   "outputs": [
    {
     "data": {
      "text/plain": [
       "((5000, 4), (5000,))"
      ]
     },
     "execution_count": 6,
     "metadata": {},
     "output_type": "execute_result"
    }
   ],
   "source": [
    "#выберем признаки\n",
    "features = insur.drop('Страховые выплаты',axis=1)\n",
    "target = insur['Страховые выплаты']\n",
    "\n",
    "features.shape, target.shape"
   ]
  },
  {
   "cell_type": "code",
   "execution_count": 7,
   "metadata": {},
   "outputs": [],
   "source": [
    "#напишем функцию для подсчета качества модели линейной регрессии\n",
    "def score_mod(features, target):\n",
    "    model = LinearRegression()\n",
    "    model.fit(features, target)\n",
    "    predictions = model.predict(features)\n",
    "\n",
    "    print(r2_score(target, predictions))"
   ]
  },
  {
   "cell_type": "code",
   "execution_count": 8,
   "metadata": {},
   "outputs": [
    {
     "name": "stdout",
     "output_type": "stream",
     "text": [
      "0.42494550308169177\n"
     ]
    }
   ],
   "source": [
    "#качество обычной матрицы до преобразования:\n",
    "score_mod(features, target)"
   ]
  },
  {
   "cell_type": "markdown",
   "metadata": {},
   "source": [
    "Теперь найдем качество после преобразование признаков"
   ]
  },
  {
   "cell_type": "code",
   "execution_count": 9,
   "metadata": {},
   "outputs": [
    {
     "data": {
      "text/plain": [
       "array([[0.48940848, 0.87995235, 0.94838183, 0.2642182 ],\n",
       "       [0.54144805, 0.84685462, 0.71118365, 0.21583467],\n",
       "       [0.32788276, 0.04337465, 0.52614921, 0.59230732],\n",
       "       [0.03943066, 0.87596801, 0.51377812, 0.45952607]])"
      ]
     },
     "execution_count": 9,
     "metadata": {},
     "output_type": "execute_result"
    }
   ],
   "source": [
    "#создадим рандомную матрицу 4х4\n",
    "rnd_matrix = np.random.rand(4,4)\n",
    "rnd_matrix"
   ]
  },
  {
   "cell_type": "code",
   "execution_count": 10,
   "metadata": {},
   "outputs": [
    {
     "data": {
      "text/plain": [
       "array([[-2.76130136,  4.02804901,  0.65842199, -1.15291554],\n",
       "       [-1.23307307,  1.49692365, -0.74808287,  0.97014577],\n",
       "       [ 4.21580249, -3.74184716, -0.03953434, -0.61553613],\n",
       "       [-2.12604826,  0.98447809,  1.4137316 ,  1.11395761]])"
      ]
     },
     "execution_count": 10,
     "metadata": {},
     "output_type": "execute_result"
    }
   ],
   "source": [
    "#проверим на обратимость\n",
    "inv = np.linalg.inv(rnd_matrix)\n",
    "inv"
   ]
  },
  {
   "cell_type": "code",
   "execution_count": 11,
   "metadata": {},
   "outputs": [
    {
     "data": {
      "text/html": [
       "<div>\n",
       "<style scoped>\n",
       "    .dataframe tbody tr th:only-of-type {\n",
       "        vertical-align: middle;\n",
       "    }\n",
       "\n",
       "    .dataframe tbody tr th {\n",
       "        vertical-align: top;\n",
       "    }\n",
       "\n",
       "    .dataframe thead th {\n",
       "        text-align: right;\n",
       "    }\n",
       "</style>\n",
       "<table border=\"1\" class=\"dataframe\">\n",
       "  <thead>\n",
       "    <tr style=\"text-align: right;\">\n",
       "      <th></th>\n",
       "      <th>0</th>\n",
       "      <th>1</th>\n",
       "      <th>2</th>\n",
       "      <th>3</th>\n",
       "    </tr>\n",
       "  </thead>\n",
       "  <tbody>\n",
       "    <tr>\n",
       "      <th>0</th>\n",
       "      <td>16285.712909</td>\n",
       "      <td>2187.859364</td>\n",
       "      <td>26127.621466</td>\n",
       "      <td>29388.015907</td>\n",
       "    </tr>\n",
       "    <tr>\n",
       "      <th>1</th>\n",
       "      <td>12484.490771</td>\n",
       "      <td>1688.067800</td>\n",
       "      <td>20026.898176</td>\n",
       "      <td>22518.065981</td>\n",
       "    </tr>\n",
       "    <tr>\n",
       "      <th>2</th>\n",
       "      <td>6901.239871</td>\n",
       "      <td>935.426334</td>\n",
       "      <td>11069.757719</td>\n",
       "      <td>12444.712870</td>\n",
       "    </tr>\n",
       "    <tr>\n",
       "      <th>3</th>\n",
       "      <td>13684.160198</td>\n",
       "      <td>1828.258590</td>\n",
       "      <td>21956.384436</td>\n",
       "      <td>24704.666714</td>\n",
       "    </tr>\n",
       "    <tr>\n",
       "      <th>4</th>\n",
       "      <td>8573.389887</td>\n",
       "      <td>1156.670123</td>\n",
       "      <td>13753.355884</td>\n",
       "      <td>15465.528572</td>\n",
       "    </tr>\n",
       "  </tbody>\n",
       "</table>\n",
       "</div>"
      ],
      "text/plain": [
       "              0            1             2             3\n",
       "0  16285.712909  2187.859364  26127.621466  29388.015907\n",
       "1  12484.490771  1688.067800  20026.898176  22518.065981\n",
       "2   6901.239871   935.426334  11069.757719  12444.712870\n",
       "3  13684.160198  1828.258590  21956.384436  24704.666714\n",
       "4   8573.389887  1156.670123  13753.355884  15465.528572"
      ]
     },
     "execution_count": 11,
     "metadata": {},
     "output_type": "execute_result"
    }
   ],
   "source": [
    "#умножили признаки на рандомную матрицу\n",
    "features_new = features @ rnd_matrix\n",
    "features_new.head()"
   ]
  },
  {
   "cell_type": "code",
   "execution_count": 12,
   "metadata": {},
   "outputs": [
    {
     "name": "stdout",
     "output_type": "stream",
     "text": [
      "0.42494550308172163\n"
     ]
    }
   ],
   "source": [
    "#качество модели на преобразованных признаках\n",
    "score_mod(features_new, target)"
   ]
  },
  {
   "cell_type": "code",
   "execution_count": 13,
   "metadata": {},
   "outputs": [
    {
     "data": {
      "text/html": [
       "<div>\n",
       "<style scoped>\n",
       "    .dataframe tbody tr th:only-of-type {\n",
       "        vertical-align: middle;\n",
       "    }\n",
       "\n",
       "    .dataframe tbody tr th {\n",
       "        vertical-align: top;\n",
       "    }\n",
       "\n",
       "    .dataframe thead th {\n",
       "        text-align: right;\n",
       "    }\n",
       "</style>\n",
       "<table border=\"1\" class=\"dataframe\">\n",
       "  <thead>\n",
       "    <tr style=\"text-align: right;\">\n",
       "      <th></th>\n",
       "      <th>0</th>\n",
       "      <th>1</th>\n",
       "      <th>2</th>\n",
       "      <th>3</th>\n",
       "    </tr>\n",
       "  </thead>\n",
       "  <tbody>\n",
       "    <tr>\n",
       "      <th>0</th>\n",
       "      <td>1.000000e+00</td>\n",
       "      <td>41.0</td>\n",
       "      <td>49600.0</td>\n",
       "      <td>1.000000e+00</td>\n",
       "    </tr>\n",
       "    <tr>\n",
       "      <th>1</th>\n",
       "      <td>-7.275958e-12</td>\n",
       "      <td>46.0</td>\n",
       "      <td>38000.0</td>\n",
       "      <td>1.000000e+00</td>\n",
       "    </tr>\n",
       "    <tr>\n",
       "      <th>2</th>\n",
       "      <td>3.637979e-12</td>\n",
       "      <td>29.0</td>\n",
       "      <td>21000.0</td>\n",
       "      <td>0.000000e+00</td>\n",
       "    </tr>\n",
       "    <tr>\n",
       "      <th>3</th>\n",
       "      <td>-1.455192e-11</td>\n",
       "      <td>21.0</td>\n",
       "      <td>41700.0</td>\n",
       "      <td>2.000000e+00</td>\n",
       "    </tr>\n",
       "    <tr>\n",
       "      <th>4</th>\n",
       "      <td>1.000000e+00</td>\n",
       "      <td>28.0</td>\n",
       "      <td>26100.0</td>\n",
       "      <td>3.637979e-12</td>\n",
       "    </tr>\n",
       "  </tbody>\n",
       "</table>\n",
       "</div>"
      ],
      "text/plain": [
       "              0     1        2             3\n",
       "0  1.000000e+00  41.0  49600.0  1.000000e+00\n",
       "1 -7.275958e-12  46.0  38000.0  1.000000e+00\n",
       "2  3.637979e-12  29.0  21000.0  0.000000e+00\n",
       "3 -1.455192e-11  21.0  41700.0  2.000000e+00\n",
       "4  1.000000e+00  28.0  26100.0  3.637979e-12"
      ]
     },
     "execution_count": 13,
     "metadata": {},
     "output_type": "execute_result"
    }
   ],
   "source": [
    "#расшифровка\n",
    "descript = features_new @ inv\n",
    "descript.head()"
   ]
  },
  {
   "cell_type": "markdown",
   "metadata": {},
   "source": [
    "Вывод:\n",
    "\n",
    "- изучили данные, провели предобработку данных;\n",
    "- доказали, что при умножении матрицы на обратимую, качество не поменяется;\n",
    "- написали алгоритм преобразования;\n",
    "- проверили алгоритм до преобразования данных и после, качество модели не изменилось 0.4249455"
   ]
  }
 ],
 "metadata": {
  "ExecuteTimeLog": [
   {
    "duration": 761,
    "start_time": "2021-06-17T19:20:22.732Z"
   },
   {
    "duration": 8,
    "start_time": "2021-06-17T19:28:56.926Z"
   },
   {
    "duration": 6,
    "start_time": "2021-06-17T19:31:36.333Z"
   },
   {
    "duration": 11,
    "start_time": "2021-06-17T19:31:49.879Z"
   },
   {
    "duration": 17,
    "start_time": "2021-06-17T20:22:38.337Z"
   },
   {
    "duration": 9,
    "start_time": "2021-06-17T20:22:38.983Z"
   },
   {
    "duration": 11,
    "start_time": "2021-06-17T20:22:39.649Z"
   },
   {
    "duration": 5,
    "start_time": "2021-06-17T20:22:40.347Z"
   },
   {
    "duration": 4,
    "start_time": "2021-06-17T20:23:20.814Z"
   },
   {
    "duration": 11,
    "start_time": "2021-06-17T20:23:37.692Z"
   },
   {
    "duration": 976,
    "start_time": "2021-06-20T11:19:59.909Z"
   },
   {
    "duration": 11,
    "start_time": "2021-06-20T11:20:00.889Z"
   },
   {
    "duration": 25,
    "start_time": "2021-06-20T11:20:00.905Z"
   },
   {
    "duration": 5,
    "start_time": "2021-06-20T11:20:00.934Z"
   },
   {
    "duration": 40,
    "start_time": "2021-06-20T11:20:00.943Z"
   },
   {
    "duration": 357,
    "start_time": "2021-06-20T14:57:29.527Z"
   },
   {
    "duration": 15,
    "start_time": "2021-06-20T14:57:47.814Z"
   },
   {
    "duration": 576,
    "start_time": "2021-06-20T14:58:35.418Z"
   },
   {
    "duration": 1294,
    "start_time": "2021-06-20T14:59:00.882Z"
   },
   {
    "duration": 27,
    "start_time": "2021-06-20T14:59:02.178Z"
   },
   {
    "duration": 11,
    "start_time": "2021-06-20T14:59:02.208Z"
   },
   {
    "duration": 7,
    "start_time": "2021-06-20T14:59:02.222Z"
   },
   {
    "duration": 26,
    "start_time": "2021-06-20T14:59:02.231Z"
   },
   {
    "duration": 29,
    "start_time": "2021-06-20T14:59:02.259Z"
   },
   {
    "duration": 93,
    "start_time": "2021-06-20T14:59:02.290Z"
   },
   {
    "duration": 4,
    "start_time": "2021-06-20T15:03:19.711Z"
   },
   {
    "duration": 4,
    "start_time": "2021-06-20T15:03:35.223Z"
   },
   {
    "duration": 87,
    "start_time": "2021-06-20T15:03:52.519Z"
   },
   {
    "duration": 7,
    "start_time": "2021-06-20T15:12:29.027Z"
   },
   {
    "duration": 6,
    "start_time": "2021-06-20T15:14:33.523Z"
   },
   {
    "duration": 7,
    "start_time": "2021-06-20T15:14:38.266Z"
   },
   {
    "duration": 12,
    "start_time": "2021-06-20T15:16:59.794Z"
   },
   {
    "duration": 1023,
    "start_time": "2021-06-20T21:06:22.867Z"
   },
   {
    "duration": 22,
    "start_time": "2021-06-20T21:06:23.893Z"
   },
   {
    "duration": 7,
    "start_time": "2021-06-20T21:06:23.916Z"
   },
   {
    "duration": 3,
    "start_time": "2021-06-20T21:06:23.925Z"
   },
   {
    "duration": 10,
    "start_time": "2021-06-20T21:06:23.930Z"
   },
   {
    "duration": 13,
    "start_time": "2021-06-20T21:06:23.941Z"
   },
   {
    "duration": 3,
    "start_time": "2021-06-20T21:06:23.955Z"
   },
   {
    "duration": 36,
    "start_time": "2021-06-20T21:06:23.960Z"
   },
   {
    "duration": 6,
    "start_time": "2021-06-20T21:06:24.087Z"
   },
   {
    "duration": 90,
    "start_time": "2021-06-20T21:06:24.096Z"
   },
   {
    "duration": 11,
    "start_time": "2021-06-20T21:06:24.188Z"
   },
   {
    "duration": 11,
    "start_time": "2021-06-20T21:13:02.794Z"
   },
   {
    "duration": 9,
    "start_time": "2021-06-20T21:13:18.678Z"
   },
   {
    "duration": 22,
    "start_time": "2021-06-20T21:13:28.174Z"
   },
   {
    "duration": 5,
    "start_time": "2021-06-20T21:45:09.610Z"
   },
   {
    "duration": 3,
    "start_time": "2021-06-20T21:45:10.253Z"
   },
   {
    "duration": 5,
    "start_time": "2021-06-20T21:45:17.155Z"
   },
   {
    "duration": 9,
    "start_time": "2021-06-20T21:45:20.534Z"
   },
   {
    "duration": 12,
    "start_time": "2021-06-20T21:45:25.146Z"
   },
   {
    "duration": 11,
    "start_time": "2021-06-20T21:45:51.365Z"
   },
   {
    "duration": 9,
    "start_time": "2021-06-20T21:46:09.561Z"
   },
   {
    "duration": 6,
    "start_time": "2021-06-20T21:46:19.652Z"
   },
   {
    "duration": 3,
    "start_time": "2021-06-20T21:46:20.357Z"
   },
   {
    "duration": 13,
    "start_time": "2021-06-20T21:46:21.771Z"
   },
   {
    "duration": 4,
    "start_time": "2021-06-20T21:46:22.893Z"
   },
   {
    "duration": 5,
    "start_time": "2021-06-20T21:46:32.575Z"
   },
   {
    "duration": 9,
    "start_time": "2021-06-20T21:46:45.537Z"
   },
   {
    "duration": 9,
    "start_time": "2021-06-20T21:46:55.151Z"
   },
   {
    "duration": 9,
    "start_time": "2021-06-20T21:47:05.992Z"
   },
   {
    "duration": 255,
    "start_time": "2021-06-20T21:48:01.459Z"
   },
   {
    "duration": 3,
    "start_time": "2021-06-20T21:48:07.398Z"
   },
   {
    "duration": 7,
    "start_time": "2021-06-20T21:48:07.922Z"
   },
   {
    "duration": 4,
    "start_time": "2021-06-20T21:48:08.422Z"
   },
   {
    "duration": 5,
    "start_time": "2021-06-20T21:48:09.222Z"
   },
   {
    "duration": 10,
    "start_time": "2021-06-20T21:48:09.767Z"
   },
   {
    "duration": 7,
    "start_time": "2021-06-20T21:48:10.476Z"
   },
   {
    "duration": 221,
    "start_time": "2021-06-20T21:48:11.843Z"
   },
   {
    "duration": 10,
    "start_time": "2021-06-20T21:48:24.853Z"
   },
   {
    "duration": 5,
    "start_time": "2021-06-20T21:50:55.138Z"
   },
   {
    "duration": 12,
    "start_time": "2021-06-20T21:51:06.949Z"
   },
   {
    "duration": 81,
    "start_time": "2021-06-20T21:51:13.503Z"
   },
   {
    "duration": 6,
    "start_time": "2021-06-20T21:51:18.793Z"
   },
   {
    "duration": 11,
    "start_time": "2021-06-20T21:51:22.517Z"
   },
   {
    "duration": 7,
    "start_time": "2021-06-20T21:57:39.492Z"
   },
   {
    "duration": 3,
    "start_time": "2021-06-20T21:57:45.005Z"
   },
   {
    "duration": 8,
    "start_time": "2021-06-20T21:57:49.757Z"
   },
   {
    "duration": 5,
    "start_time": "2021-06-20T21:58:03.673Z"
   },
   {
    "duration": 5,
    "start_time": "2021-06-20T21:58:13.162Z"
   },
   {
    "duration": 9,
    "start_time": "2021-06-20T21:58:42.201Z"
   },
   {
    "duration": 9,
    "start_time": "2021-06-20T21:59:09.761Z"
   },
   {
    "duration": 9,
    "start_time": "2021-06-20T22:03:30.000Z"
   },
   {
    "duration": 9,
    "start_time": "2021-06-20T22:03:39.317Z"
   },
   {
    "duration": 7,
    "start_time": "2021-06-20T22:05:12.135Z"
   },
   {
    "duration": 8,
    "start_time": "2021-06-20T22:05:16.839Z"
   },
   {
    "duration": 12,
    "start_time": "2021-06-20T22:05:20.564Z"
   },
   {
    "duration": 9,
    "start_time": "2021-06-20T22:05:43.977Z"
   },
   {
    "duration": 177,
    "start_time": "2021-06-20T22:08:19.107Z"
   },
   {
    "duration": 56,
    "start_time": "2021-06-20T22:08:25.752Z"
   },
   {
    "duration": 175,
    "start_time": "2021-06-20T22:08:35.341Z"
   },
   {
    "duration": 12,
    "start_time": "2021-06-20T22:08:43.148Z"
   },
   {
    "duration": 172,
    "start_time": "2021-06-20T22:09:32.371Z"
   },
   {
    "duration": 253,
    "start_time": "2021-06-20T22:09:42.190Z"
   },
   {
    "duration": 276,
    "start_time": "2021-06-20T22:10:35.250Z"
   },
   {
    "duration": 216,
    "start_time": "2021-06-20T22:10:47.532Z"
   },
   {
    "duration": 10,
    "start_time": "2021-06-20T22:11:03.511Z"
   },
   {
    "duration": 8,
    "start_time": "2021-06-20T22:11:07.282Z"
   },
   {
    "duration": 9,
    "start_time": "2021-06-20T22:11:48.737Z"
   },
   {
    "duration": 5,
    "start_time": "2021-06-20T22:11:56.759Z"
   },
   {
    "duration": 3,
    "start_time": "2021-06-20T22:11:57.514Z"
   },
   {
    "duration": 9,
    "start_time": "2021-06-20T22:11:58.165Z"
   },
   {
    "duration": 4,
    "start_time": "2021-06-20T22:11:59.056Z"
   },
   {
    "duration": 6,
    "start_time": "2021-06-20T22:12:00.139Z"
   },
   {
    "duration": 8,
    "start_time": "2021-06-20T22:12:00.962Z"
   },
   {
    "duration": 10,
    "start_time": "2021-06-20T22:12:01.703Z"
   },
   {
    "duration": 9,
    "start_time": "2021-06-20T22:12:03.794Z"
   },
   {
    "duration": 14,
    "start_time": "2021-06-20T22:12:58.460Z"
   },
   {
    "duration": 3,
    "start_time": "2021-06-20T22:22:02.608Z"
   },
   {
    "duration": 8,
    "start_time": "2021-06-20T22:22:42.452Z"
   },
   {
    "duration": 10,
    "start_time": "2021-06-20T22:30:02.969Z"
   },
   {
    "duration": 941,
    "start_time": "2021-06-20T22:30:51.539Z"
   },
   {
    "duration": 20,
    "start_time": "2021-06-20T22:30:52.482Z"
   },
   {
    "duration": 7,
    "start_time": "2021-06-20T22:30:52.504Z"
   },
   {
    "duration": 3,
    "start_time": "2021-06-20T22:30:52.512Z"
   },
   {
    "duration": 8,
    "start_time": "2021-06-20T22:30:52.517Z"
   },
   {
    "duration": 10,
    "start_time": "2021-06-20T22:30:52.527Z"
   },
   {
    "duration": 5,
    "start_time": "2021-06-20T22:30:52.538Z"
   },
   {
    "duration": 42,
    "start_time": "2021-06-20T22:30:52.545Z"
   },
   {
    "duration": 98,
    "start_time": "2021-06-20T22:30:52.589Z"
   },
   {
    "duration": 5,
    "start_time": "2021-06-20T22:30:52.689Z"
   },
   {
    "duration": 90,
    "start_time": "2021-06-20T22:30:52.696Z"
   },
   {
    "duration": 8,
    "start_time": "2021-06-20T22:30:52.787Z"
   },
   {
    "duration": 188,
    "start_time": "2021-06-20T22:30:52.797Z"
   }
  ],
  "kernelspec": {
   "display_name": "Python 3",
   "language": "python",
   "name": "python3"
  },
  "language_info": {
   "codemirror_mode": {
    "name": "ipython",
    "version": 3
   },
   "file_extension": ".py",
   "mimetype": "text/x-python",
   "name": "python",
   "nbconvert_exporter": "python",
   "pygments_lexer": "ipython3",
   "version": "3.8.5"
  },
  "toc": {
   "base_numbering": 1,
   "nav_menu": {},
   "number_sections": true,
   "sideBar": true,
   "skip_h1_title": true,
   "title_cell": "Содержание",
   "title_sidebar": "Contents",
   "toc_cell": true,
   "toc_position": {},
   "toc_section_display": true,
   "toc_window_display": false
  }
 },
 "nbformat": 4,
 "nbformat_minor": 2
}
