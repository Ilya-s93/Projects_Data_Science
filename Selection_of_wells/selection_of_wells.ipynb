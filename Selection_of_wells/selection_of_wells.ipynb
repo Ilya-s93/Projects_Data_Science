{
 "cells": [
  {
   "cell_type": "markdown",
   "metadata": {},
   "source": [
    "# Выбор локации для скважины"
   ]
  },
  {
   "cell_type": "markdown",
   "metadata": {},
   "source": [
    "Нужно решить, где бурить новую скважину. Предоставлены пробы нефти в трёх регионах: в каждом 10 000 месторождений, где измерили качество нефти и объём её запасов. Постройте модель машинного обучения, которая поможет определить регион, где добыча принесёт наибольшую прибыль. Проанализируйте возможную прибыль и риски техникой *Bootstrap.*\n",
    "\n",
    "Шаги для выбора локации:\n",
    "\n",
    "- В избранном регионе ищут месторождения, для каждого определяют значения признаков;\n",
    "- Строят модель и оценивают объём запасов;\n",
    "- Выбирают месторождения с самым высокими оценками значений. Количество месторождений зависит от бюджета компании и стоимости разработки одной скважины;\n",
    "- Прибыль равна суммарной прибыли отобранных месторождений."
   ]
  },
  {
   "cell_type": "markdown",
   "metadata": {},
   "source": [
    "# Описание данных\n",
    "\n",
    "id — уникальный идентификатор скважины;<br/>\n",
    "f0, f1, f2 — три признака точек (неважно, что они означают, но сами признаки значимы);<br/>\n",
    "product — объём запасов в скважине (тыс. баррелей).<br/>"
   ]
  },
  {
   "cell_type": "markdown",
   "metadata": {},
   "source": [
    "## Загрузка и подготовка данных"
   ]
  },
  {
   "cell_type": "code",
   "execution_count": 1,
   "metadata": {},
   "outputs": [],
   "source": [
    "import pandas as pd\n",
    "import numpy as np\n",
    "\n",
    "from sklearn.model_selection import train_test_split\n",
    "from sklearn.linear_model import LinearRegression\n",
    "from sklearn.metrics import mean_squared_error\n"
   ]
  },
  {
   "cell_type": "code",
   "execution_count": 2,
   "metadata": {},
   "outputs": [],
   "source": [
    "region_1 = pd.read_csv('./geo_data_0.csv')\n",
    "region_2 = pd.read_csv('./geo_data_1.csv')\n",
    "region_3 = pd.read_csv('./geo_data_2.csv')"
   ]
  },
  {
   "cell_type": "code",
   "execution_count": 3,
   "metadata": {},
   "outputs": [
    {
     "name": "stdout",
     "output_type": "stream",
     "text": [
      "<class 'pandas.core.frame.DataFrame'>\n",
      "RangeIndex: 100000 entries, 0 to 99999\n",
      "Data columns (total 5 columns):\n",
      " #   Column   Non-Null Count   Dtype  \n",
      "---  ------   --------------   -----  \n",
      " 0   id       100000 non-null  object \n",
      " 1   f0       100000 non-null  float64\n",
      " 2   f1       100000 non-null  float64\n",
      " 3   f2       100000 non-null  float64\n",
      " 4   product  100000 non-null  float64\n",
      "dtypes: float64(4), object(1)\n",
      "memory usage: 3.8+ MB\n"
     ]
    }
   ],
   "source": [
    "#информация о таблице region_1 (пропусков нет, типы данных соответствующие)\n",
    "region_1.info()"
   ]
  },
  {
   "cell_type": "code",
   "execution_count": 4,
   "metadata": {},
   "outputs": [],
   "source": [
    "#удалим столбец id, так как он не содержит важных данных\n",
    "region_1 = region_1.drop('id',axis=1)"
   ]
  },
  {
   "cell_type": "code",
   "execution_count": 5,
   "metadata": {},
   "outputs": [
    {
     "data": {
      "text/plain": [
       "0"
      ]
     },
     "execution_count": 5,
     "metadata": {},
     "output_type": "execute_result"
    }
   ],
   "source": [
    "#проверка на дубли\n",
    "region_1.duplicated().sum()"
   ]
  },
  {
   "cell_type": "code",
   "execution_count": 6,
   "metadata": {},
   "outputs": [
    {
     "name": "stdout",
     "output_type": "stream",
     "text": [
      "<class 'pandas.core.frame.DataFrame'>\n",
      "RangeIndex: 100000 entries, 0 to 99999\n",
      "Data columns (total 5 columns):\n",
      " #   Column   Non-Null Count   Dtype  \n",
      "---  ------   --------------   -----  \n",
      " 0   id       100000 non-null  object \n",
      " 1   f0       100000 non-null  float64\n",
      " 2   f1       100000 non-null  float64\n",
      " 3   f2       100000 non-null  float64\n",
      " 4   product  100000 non-null  float64\n",
      "dtypes: float64(4), object(1)\n",
      "memory usage: 3.8+ MB\n"
     ]
    }
   ],
   "source": [
    "#информация о таблице region_2 (пропусков нет, типы данных соответствующие)\n",
    "region_2.info()"
   ]
  },
  {
   "cell_type": "code",
   "execution_count": 7,
   "metadata": {},
   "outputs": [],
   "source": [
    "#удалим столбец id, так как он не содержит важных данных\n",
    "region_2 = region_2.drop('id',axis=1)"
   ]
  },
  {
   "cell_type": "code",
   "execution_count": 8,
   "metadata": {},
   "outputs": [
    {
     "data": {
      "text/plain": [
       "0"
      ]
     },
     "execution_count": 8,
     "metadata": {},
     "output_type": "execute_result"
    }
   ],
   "source": [
    "#проверка на дубли\n",
    "region_2.duplicated().sum()"
   ]
  },
  {
   "cell_type": "code",
   "execution_count": 9,
   "metadata": {},
   "outputs": [
    {
     "name": "stdout",
     "output_type": "stream",
     "text": [
      "<class 'pandas.core.frame.DataFrame'>\n",
      "RangeIndex: 100000 entries, 0 to 99999\n",
      "Data columns (total 5 columns):\n",
      " #   Column   Non-Null Count   Dtype  \n",
      "---  ------   --------------   -----  \n",
      " 0   id       100000 non-null  object \n",
      " 1   f0       100000 non-null  float64\n",
      " 2   f1       100000 non-null  float64\n",
      " 3   f2       100000 non-null  float64\n",
      " 4   product  100000 non-null  float64\n",
      "dtypes: float64(4), object(1)\n",
      "memory usage: 3.8+ MB\n"
     ]
    }
   ],
   "source": [
    "#информация о таблице region_3 (пропусков нет, типы данных соответствующие)\n",
    "region_3.info()"
   ]
  },
  {
   "cell_type": "code",
   "execution_count": 10,
   "metadata": {},
   "outputs": [],
   "source": [
    "#удалим столбец id, так как он не содержит важных данных\n",
    "region_3 = region_3.drop('id',axis=1)"
   ]
  },
  {
   "cell_type": "code",
   "execution_count": 11,
   "metadata": {},
   "outputs": [
    {
     "data": {
      "text/plain": [
       "0"
      ]
     },
     "execution_count": 11,
     "metadata": {},
     "output_type": "execute_result"
    }
   ],
   "source": [
    "#проверка на дубли\n",
    "region_3.duplicated().sum()"
   ]
  },
  {
   "cell_type": "markdown",
   "metadata": {},
   "source": [
    "### Вывод:\n",
    "\n",
    "Посмотрели информацию о каждом регионе: пропусков нет, дубликатов нет, тип данных соответствующий, удалили столбец с данными 'id', так как в этом столбце содержится не нужная для нас информация, которая в дальнейшем никак не повлияет на изучение скважин."
   ]
  },
  {
   "cell_type": "markdown",
   "metadata": {},
   "source": [
    "## Обучение и проверка модели"
   ]
  },
  {
   "cell_type": "markdown",
   "metadata": {},
   "source": [
    "Напишем функцию, где выбираем признаки, разбиваем данные, строим модель Линейной регрессии и \n",
    "находим средний запас предсказанного сырья, RMSE"
   ]
  },
  {
   "cell_type": "code",
   "execution_count": 12,
   "metadata": {},
   "outputs": [],
   "source": [
    "def split_model(data,name):\n",
    "    features = data.drop('product', axis=1)\n",
    "    target = data['product']\n",
    "\n",
    "    features_train, features_valid, target_train, target_valid = train_test_split(features, target, \n",
    "                                                                              test_size=0.25, \n",
    "                                                                              random_state=12345)\n",
    "                                                                           \n",
    "    model = LinearRegression().fit(features_train,target_train)\n",
    "    predicted = model.predict(features_valid)\n",
    "    predicted = pd.Series(predicted)\n",
    "    rmse = mean_squared_error(target_valid,predicted) ** 0.5\n",
    "    average_stock = sum(predicted) / len(predicted)\n",
    "    \n",
    "    print(name)\n",
    "    print('RMSE: {:.2f}'. format(rmse))\n",
    "    print('Cредний запас предсказанного сырья: {:.2f}'. format(average_stock))\n",
    "    \n",
    "    return predicted, target_valid.reset_index(drop=True), rmse"
   ]
  },
  {
   "cell_type": "code",
   "execution_count": 13,
   "metadata": {},
   "outputs": [
    {
     "name": "stdout",
     "output_type": "stream",
     "text": [
      "Регион 1\n",
      "RMSE: 37.58\n",
      "Cредний запас предсказанного сырья: 92.59\n",
      "Регион 2\n",
      "RMSE: 0.89\n",
      "Cредний запас предсказанного сырья: 68.73\n",
      "Регион 3\n",
      "RMSE: 40.03\n",
      "Cредний запас предсказанного сырья: 94.97\n"
     ]
    }
   ],
   "source": [
    "predicted_1, validation_1, rmse_1 = split_model(region_1,'Регион 1')\n",
    "predicted_2, validation_2, rmse_2 = split_model(region_2,'Регион 2')\n",
    "predicted_3, validation_3, rmse_3 = split_model(region_3,'Регион 3')"
   ]
  },
  {
   "cell_type": "code",
   "execution_count": 14,
   "metadata": {},
   "outputs": [
    {
     "data": {
      "text/plain": [
       "53.906522     8472\n",
       "26.953261     8468\n",
       "84.038886     8431\n",
       "57.085625     8390\n",
       "3.179103      8337\n",
       "80.859783     8320\n",
       "30.132364     8306\n",
       "134.766305    8304\n",
       "110.992147    8303\n",
       "0.000000      8235\n",
       "137.945408    8233\n",
       "107.813044    8201\n",
       "Name: product, dtype: int64"
      ]
     },
     "execution_count": 14,
     "metadata": {},
     "output_type": "execute_result"
    }
   ],
   "source": [
    "#посмотрим объем запасов в скважине второго региона\n",
    "region_2['product'].value_counts()"
   ]
  },
  {
   "cell_type": "markdown",
   "metadata": {},
   "source": [
    "#### Вывод:\n",
    "\n",
    "   Самый лучший регион по запасам нефти оказался второй (так как RMSE=0.89), потом регион 1 (RMSE = 37.58) и регион 3 (RMSE = 40). Но средний запас предсказанного сырья больше всего у 1 и 3 региона. Данные второго региона повторяются, возможно некорректно были введены, нужно отдать на перепроверку <br/> "
   ]
  },
  {
   "cell_type": "markdown",
   "metadata": {},
   "source": [
    "## Подготовка к расчёту прибыли"
   ]
  },
  {
   "cell_type": "code",
   "execution_count": 15,
   "metadata": {},
   "outputs": [],
   "source": [
    "#ключевые значения\n",
    "best_points = 200\n",
    "budget = 10**10\n",
    "unit_income_barel = 450000"
   ]
  },
  {
   "cell_type": "markdown",
   "metadata": {},
   "source": [
    "Посчитаем точку безубыточности и среднюю прибыль на лучшую точку"
   ]
  },
  {
   "cell_type": "code",
   "execution_count": 16,
   "metadata": {},
   "outputs": [
    {
     "name": "stdout",
     "output_type": "stream",
     "text": [
      "Точка безубыточности(средний объем нефти на регион): 22222.22 тыс.баррелей.\n",
      "Достаточный объём сырья для безубыточной разработки новой скважины: 111.11 тыс.баррелей.\n"
     ]
    }
   ],
   "source": [
    "bezubyt_point = budget / unit_income_barel\n",
    "print('Точка безубыточности(средний объем нефти на регион): {:.2f} тыс.баррелей.'. format(bezubyt_point))\n",
    "\n",
    "average_profit_per_point = bezubyt_point / best_points\n",
    "print('Достаточный объём сырья для безубыточной разработки новой скважины: {:.2f} тыс.баррелей.'. format(average_profit_per_point))"
   ]
  },
  {
   "cell_type": "code",
   "execution_count": 17,
   "metadata": {},
   "outputs": [
    {
     "name": "stdout",
     "output_type": "stream",
     "text": [
      "Средний запас нефти на скважину в регионе 1:  92.49999999999976\n",
      "Средний запас нефти на скважину в регионе 2:  68.82500000002561\n",
      "Средний запас нефти на скважину в регионе 3:  95.00000000000041\n"
     ]
    }
   ],
   "source": [
    "print('Средний запас нефти на скважину в регионе 1: ', region_1['product'].mean())\n",
    "print('Средний запас нефти на скважину в регионе 2: ', region_2['product'].mean())\n",
    "print('Средний запас нефти на скважину в регионе 3: ', region_3['product'].mean())"
   ]
  },
  {
   "cell_type": "markdown",
   "metadata": {},
   "source": [
    "#### Вывод:\n",
    "\n",
    "Мы выяснили, что точка безубыточности равна 22 222 тыс.баррелей. Достаточный объём сырья для безубыточной разработки новой скважины: 111.11 тыс.баррелей. \n",
    "Для первого и третьего региона больше вероятность окупить расходы, так как средний запас в регионах 92.5 и 95, что нельзя     сказать о регионе 2."
   ]
  },
  {
   "cell_type": "markdown",
   "metadata": {},
   "source": [
    "## Расчёт прибыли и рисков "
   ]
  },
  {
   "cell_type": "code",
   "execution_count": 18,
   "metadata": {},
   "outputs": [],
   "source": [
    "#посчитали прибыль(отсортировали по убыванию и выбрали 200 лучших точек)\n",
    "def profit(predicted, target):\n",
    "    sort_pred = predicted.sort_values(ascending=False)\n",
    "    top_targ = target[sort_pred.index][:200]\n",
    "    revenue = top_targ.sum() * unit_income_barel\n",
    "    return revenue - budget"
   ]
  },
  {
   "cell_type": "markdown",
   "metadata": {},
   "source": [
    "Применим технику Bootstrap с 1000 выборок, найдем доверительны интервал, рассчитаем среднюю прибыль и риски для каждого региона:"
   ]
  },
  {
   "cell_type": "code",
   "execution_count": 19,
   "metadata": {},
   "outputs": [],
   "source": [
    "state = np.random.RandomState(12345)\n",
    "\n",
    "def bootstrap(predicted, target):\n",
    "        values = []\n",
    "        for i in range(1000):\n",
    "            target_subsample = target.sample(n=500, replace=True, random_state=state)\n",
    "            predicted_subsample = predicted[target_subsample.index]\n",
    "            values.append(profit(predicted_subsample, target))\n",
    "\n",
    "        values = pd.Series(values)\n",
    "        lower = values.quantile(0.025)\n",
    "        upper = values.quantile(0.975)\n",
    "        aver = values.mean()\n",
    "        risk = (values < 0).mean()\n",
    "        return aver, lower, upper, risk"
   ]
  },
  {
   "cell_type": "code",
   "execution_count": 20,
   "metadata": {},
   "outputs": [
    {
     "name": "stdout",
     "output_type": "stream",
     "text": [
      "Регион 1\n",
      "----------------------------\n",
      "Средняя прибыль: 396164984.80 тыс.руб.\n",
      "95%-й доверительный интервал: от -111215545.89 до 909766941.55 тыс.руб.\n",
      "Риск убытков: 6.90%\n",
      "\n",
      "Регион 2\n",
      "----------------------------\n",
      "Средняя прибыль: 461155817.28 тыс.руб.\n",
      "95%-й доверительный интервал: от 78050810.75 до 862952060.26 тыс.руб.\n",
      "Риск убытков: 0.70%\n",
      "\n",
      "Регион 3\n",
      "----------------------------\n",
      "Средняя прибыль: 392950475.17 тыс.руб.\n",
      "95%-й доверительный интервал: от -112227625.38 до 934562914.55 тыс.руб.\n",
      "Риск убытков: 6.50%\n",
      "\n"
     ]
    }
   ],
   "source": [
    "i = 1\n",
    "for preds, target in [[predicted_1,validation_1], [predicted_2,validation_2], [predicted_3,validation_3]]:\n",
    "    aver, lower, upper, risk = bootstrap(preds, target)\n",
    "    print('Регион', i)\n",
    "    print('----------------------------')\n",
    "    print('Средняя прибыль: {:.2f} тыс.руб.'. format(aver))\n",
    "    print('95%-й доверительный интервал: от {:.2f} до {:.2f} тыс.руб.'.format(lower, upper))\n",
    "    print('Риск убытков: {:.2%}'. format(risk))\n",
    "    print()\n",
    "    i+=1"
   ]
  },
  {
   "cell_type": "markdown",
   "metadata": {},
   "source": [
    "#### Вывод:\n",
    " \n",
    "С помощью бутстрэпа нашли доверительный интервал, так же посчитали среднюю прибыль и риски для каждого региона.\n",
    "\n",
    "Мой выбор остановился на втором регионе, так как он оказался менее рискованным (0.7%), чем остальные(6.90% и 6.50%), плюс средняя прибыль (461155817.28 тыс.руб) больше. Если сравнивать доверительный интервал, то здесь так же больше доверия вызывает регион под номером 2."
   ]
  }
 ],
 "metadata": {
  "kernelspec": {
   "display_name": "Python 3",
   "language": "python",
   "name": "python3"
  },
  "language_info": {
   "codemirror_mode": {
    "name": "ipython",
    "version": 3
   },
   "file_extension": ".py",
   "mimetype": "text/x-python",
   "name": "python",
   "nbconvert_exporter": "python",
   "pygments_lexer": "ipython3",
   "version": "3.8.5"
  },
  "toc": {
   "base_numbering": 1,
   "nav_menu": {},
   "number_sections": true,
   "sideBar": true,
   "skip_h1_title": true,
   "title_cell": "Table of Contents",
   "title_sidebar": "Contents",
   "toc_cell": false,
   "toc_position": {},
   "toc_section_display": true,
   "toc_window_display": false
  }
 },
 "nbformat": 4,
 "nbformat_minor": 2
}
