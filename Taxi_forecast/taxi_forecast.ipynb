{
 "cells": [
  {
   "cell_type": "markdown",
   "metadata": {},
   "source": [
    "#  Прогнозирование заказов такси"
   ]
  },
  {
   "cell_type": "markdown",
   "metadata": {},
   "source": [
    "Компания Такси X собрала исторические данные о заказах такси в аэропортах. Чтобы привлекать больше водителей в период пиковой нагрузки, нужно спрогнозировать количество заказов такси на следующий час. Постройте модель для такого предсказания."
   ]
  },
  {
   "cell_type": "markdown",
   "metadata": {},
   "source": [
    "## Подготовка данных"
   ]
  },
  {
   "cell_type": "code",
   "execution_count": 1,
   "metadata": {},
   "outputs": [],
   "source": [
    "import pandas as pd\n",
    "import numpy as np\n",
    "import matplotlib.pyplot as plt\n",
    "\n",
    "from statsmodels.tsa.seasonal import seasonal_decompose\n",
    "from sklearn.model_selection import train_test_split,TimeSeriesSplit, GridSearchCV\n",
    "from sklearn.linear_model import LinearRegression\n",
    "from sklearn.metrics import mean_squared_error, make_scorer\n",
    "\n",
    "from catboost import CatBoostRegressor, Pool, cv\n",
    "import catboost as cat\n",
    "\n",
    "from lightgbm import LGBMRegressor\n",
    "import lightgbm as lgb\n",
    "\n",
    "\n",
    "import warnings\n",
    "warnings.filterwarnings(\"ignore\")"
   ]
  },
  {
   "cell_type": "code",
   "execution_count": 2,
   "metadata": {},
   "outputs": [
    {
     "name": "stdout",
     "output_type": "stream",
     "text": [
      "<class 'pandas.core.frame.DataFrame'>\n",
      "DatetimeIndex: 26496 entries, 2018-03-01 00:00:00 to 2018-08-31 23:50:00\n",
      "Data columns (total 1 columns):\n",
      " #   Column      Non-Null Count  Dtype\n",
      "---  ------      --------------  -----\n",
      " 0   num_orders  26496 non-null  int64\n",
      "dtypes: int64(1)\n",
      "memory usage: 414.0 KB\n"
     ]
    }
   ],
   "source": [
    "taxi = pd.read_csv('./taxi.csv', index_col=[0], parse_dates=[0])\n",
    "taxi.sort_index(inplace=True)\n",
    "taxi.info()"
   ]
  },
  {
   "cell_type": "code",
   "execution_count": 3,
   "metadata": {},
   "outputs": [
    {
     "data": {
      "text/html": [
       "<div>\n",
       "<style scoped>\n",
       "    .dataframe tbody tr th:only-of-type {\n",
       "        vertical-align: middle;\n",
       "    }\n",
       "\n",
       "    .dataframe tbody tr th {\n",
       "        vertical-align: top;\n",
       "    }\n",
       "\n",
       "    .dataframe thead th {\n",
       "        text-align: right;\n",
       "    }\n",
       "</style>\n",
       "<table border=\"1\" class=\"dataframe\">\n",
       "  <thead>\n",
       "    <tr style=\"text-align: right;\">\n",
       "      <th></th>\n",
       "      <th>num_orders</th>\n",
       "    </tr>\n",
       "    <tr>\n",
       "      <th>datetime</th>\n",
       "      <th></th>\n",
       "    </tr>\n",
       "  </thead>\n",
       "  <tbody>\n",
       "    <tr>\n",
       "      <th>2018-03-01 00:00:00</th>\n",
       "      <td>9</td>\n",
       "    </tr>\n",
       "    <tr>\n",
       "      <th>2018-03-01 00:10:00</th>\n",
       "      <td>14</td>\n",
       "    </tr>\n",
       "    <tr>\n",
       "      <th>2018-03-01 00:20:00</th>\n",
       "      <td>28</td>\n",
       "    </tr>\n",
       "    <tr>\n",
       "      <th>2018-03-01 00:30:00</th>\n",
       "      <td>20</td>\n",
       "    </tr>\n",
       "    <tr>\n",
       "      <th>2018-03-01 00:40:00</th>\n",
       "      <td>32</td>\n",
       "    </tr>\n",
       "  </tbody>\n",
       "</table>\n",
       "</div>"
      ],
      "text/plain": [
       "                     num_orders\n",
       "datetime                       \n",
       "2018-03-01 00:00:00           9\n",
       "2018-03-01 00:10:00          14\n",
       "2018-03-01 00:20:00          28\n",
       "2018-03-01 00:30:00          20\n",
       "2018-03-01 00:40:00          32"
      ]
     },
     "execution_count": 3,
     "metadata": {},
     "output_type": "execute_result"
    }
   ],
   "source": [
    "taxi.head()"
   ]
  },
  {
   "cell_type": "markdown",
   "metadata": {},
   "source": [
    "Периодичность в данных 10 минут, сделаем ресемплирование по 1 часу"
   ]
  },
  {
   "cell_type": "code",
   "execution_count": 4,
   "metadata": {},
   "outputs": [
    {
     "data": {
      "text/html": [
       "<div>\n",
       "<style scoped>\n",
       "    .dataframe tbody tr th:only-of-type {\n",
       "        vertical-align: middle;\n",
       "    }\n",
       "\n",
       "    .dataframe tbody tr th {\n",
       "        vertical-align: top;\n",
       "    }\n",
       "\n",
       "    .dataframe thead th {\n",
       "        text-align: right;\n",
       "    }\n",
       "</style>\n",
       "<table border=\"1\" class=\"dataframe\">\n",
       "  <thead>\n",
       "    <tr style=\"text-align: right;\">\n",
       "      <th></th>\n",
       "      <th>num_orders</th>\n",
       "    </tr>\n",
       "    <tr>\n",
       "      <th>datetime</th>\n",
       "      <th></th>\n",
       "    </tr>\n",
       "  </thead>\n",
       "  <tbody>\n",
       "    <tr>\n",
       "      <th>2018-03-01 00:00:00</th>\n",
       "      <td>124</td>\n",
       "    </tr>\n",
       "    <tr>\n",
       "      <th>2018-03-01 01:00:00</th>\n",
       "      <td>85</td>\n",
       "    </tr>\n",
       "    <tr>\n",
       "      <th>2018-03-01 02:00:00</th>\n",
       "      <td>71</td>\n",
       "    </tr>\n",
       "    <tr>\n",
       "      <th>2018-03-01 03:00:00</th>\n",
       "      <td>66</td>\n",
       "    </tr>\n",
       "    <tr>\n",
       "      <th>2018-03-01 04:00:00</th>\n",
       "      <td>43</td>\n",
       "    </tr>\n",
       "  </tbody>\n",
       "</table>\n",
       "</div>"
      ],
      "text/plain": [
       "                     num_orders\n",
       "datetime                       \n",
       "2018-03-01 00:00:00         124\n",
       "2018-03-01 01:00:00          85\n",
       "2018-03-01 02:00:00          71\n",
       "2018-03-01 03:00:00          66\n",
       "2018-03-01 04:00:00          43"
      ]
     },
     "execution_count": 4,
     "metadata": {},
     "output_type": "execute_result"
    }
   ],
   "source": [
    "#сделали ресемплирование по 1 часу\n",
    "taxi_res = taxi.resample('1H').sum()\n",
    "taxi_res.head()"
   ]
  },
  {
   "cell_type": "markdown",
   "metadata": {},
   "source": [
    "Вывод: \n",
    "\n",
    "    -в начале перевели в тип Datetime из object и сделали индексом для удобства;\n",
    "\n",
    "    -так же отсортировали данные по дате;\n",
    "\n",
    "    -после этого провели ресемплинг с диапозоном в 1 час ,где данные суммировались."
   ]
  },
  {
   "cell_type": "markdown",
   "metadata": {},
   "source": [
    "## Анализ"
   ]
  },
  {
   "cell_type": "markdown",
   "metadata": {},
   "source": [
    "Посмотрим на графике тренд и сезонность:"
   ]
  },
  {
   "cell_type": "code",
   "execution_count": 5,
   "metadata": {},
   "outputs": [],
   "source": [
    "decomposed = seasonal_decompose(taxi_res)\n",
    "\n",
    "decomposed_week_mar = seasonal_decompose(taxi_res['2018-03-04':'2018-03-12'])\n",
    "decomposed_week_jun = seasonal_decompose(taxi_res['2018-06-03':'2018-06-11'])\n",
    "decomposed_month_apr = seasonal_decompose(taxi_res['2018-04-01':'2018-05-01'])\n",
    "decomposed_month_aug = seasonal_decompose(taxi_res['2018-08-01':'2018-09-01'])"
   ]
  },
  {
   "cell_type": "code",
   "execution_count": 6,
   "metadata": {},
   "outputs": [
    {
     "data": {
      "text/plain": [
       "<AxesSubplot:xlabel='datetime'>"
      ]
     },
     "execution_count": 6,
     "metadata": {},
     "output_type": "execute_result"
    },
    {
     "data": {
      "image/png": "[encoded data removed]",
      "text/plain": [
       "<Figure size 432x288 with 1 Axes>"
      ]
     },
     "metadata": {
      "needs_background": "light"
     },
     "output_type": "display_data"
    }
   ],
   "source": [
    "decomposed.trend.plot()"
   ]
  },
  {
   "cell_type": "markdown",
   "metadata": {},
   "source": [
    "На графике видно, что с апреля по август заказы увеличиваются."
   ]
  },
  {
   "cell_type": "code",
   "execution_count": 7,
   "metadata": {},
   "outputs": [
    {
     "data": {
      "text/plain": [
       "<AxesSubplot:xlabel='datetime'>"
      ]
     },
     "execution_count": 7,
     "metadata": {},
     "output_type": "execute_result"
    },
    {
     "data": {
      "image/png": "[encoded data removed]",
      "text/plain": [
       "<Figure size 432x288 with 1 Axes>"
      ]
     },
     "metadata": {
      "needs_background": "light"
     },
     "output_type": "display_data"
    }
   ],
   "source": [
    "#посмотрим неделю в марте\n",
    "decomposed_week_mar.trend.plot()"
   ]
  },
  {
   "cell_type": "markdown",
   "metadata": {},
   "source": [
    "На графике с 5 по 11 марта 2018 г. мы видим, что большим спросом такси пользуются вначале недели (понедельник) и в середине(среда), малым спросом во вторник, субботу и в воскресение Возможно это связанно с тем, что в выходные у всех активный образ жизни: гуляют, катаются на велосипедах и т.д. А в понедельник некоторые просыпают на работу и пользуются такси."
   ]
  },
  {
   "cell_type": "code",
   "execution_count": 8,
   "metadata": {},
   "outputs": [
    {
     "data": {
      "text/plain": [
       "<AxesSubplot:xlabel='datetime'>"
      ]
     },
     "execution_count": 8,
     "metadata": {},
     "output_type": "execute_result"
    },
    {
     "data": {
      "image/png": "[encoded data removed]",
      "text/plain": [
       "<Figure size 432x288 with 1 Axes>"
      ]
     },
     "metadata": {
      "needs_background": "light"
     },
     "output_type": "display_data"
    }
   ],
   "source": [
    "#посмотрим неделю в июне\n",
    "decomposed_week_jun.trend.plot()"
   ]
  },
  {
   "cell_type": "markdown",
   "metadata": {},
   "source": [
    "Тренд июня отличается с мартом, маленький спрос только во вторник."
   ]
  },
  {
   "cell_type": "code",
   "execution_count": 9,
   "metadata": {},
   "outputs": [
    {
     "data": {
      "image/png": "[encoded data removed]",
      "text/plain": [
       "<Figure size 432x288 with 1 Axes>"
      ]
     },
     "metadata": {
      "needs_background": "light"
     },
     "output_type": "display_data"
    },
    {
     "data": {
      "image/png": "[encoded data removed]",
      "text/plain": [
       "<Figure size 432x288 with 1 Axes>"
      ]
     },
     "metadata": {
      "needs_background": "light"
     },
     "output_type": "display_data"
    }
   ],
   "source": [
    "decomposed_week_mar.seasonal.plot()\n",
    "plt.title('Неделя в марте')\n",
    "plt.show()\n",
    "\n",
    "decomposed_week_jun.seasonal.plot()\n",
    "plt.title('Неделя в июне')\n",
    "plt.show()"
   ]
  },
  {
   "cell_type": "markdown",
   "metadata": {},
   "source": [
    "Сезонность одинаковая. Посмотрим сезонность за 2 дня."
   ]
  },
  {
   "cell_type": "code",
   "execution_count": 10,
   "metadata": {},
   "outputs": [
    {
     "data": {
      "text/plain": [
       "<AxesSubplot:xlabel='datetime'>"
      ]
     },
     "execution_count": 10,
     "metadata": {},
     "output_type": "execute_result"
    },
    {
     "data": {
      "image/png": "[encoded data removed]",
      "text/plain": [
       "<Figure size 432x288 with 1 Axes>"
      ]
     },
     "metadata": {
      "needs_background": "light"
     },
     "output_type": "display_data"
    }
   ],
   "source": [
    "decomposed_day_mar = seasonal_decompose(taxi_res['2018-03-05':'2018-03-07'])\n",
    "decomposed_day_mar.seasonal.plot()"
   ]
  },
  {
   "cell_type": "markdown",
   "metadata": {},
   "source": [
    "На графике видно, что ночью спрос падает; с часов 7, 8 увеличивается и ближе к ночи достигает самых максимальных показателей."
   ]
  },
  {
   "cell_type": "markdown",
   "metadata": {},
   "source": [
    "Теперь посмотрим показатели по месяцам (апрель и август):"
   ]
  },
  {
   "cell_type": "code",
   "execution_count": 11,
   "metadata": {},
   "outputs": [
    {
     "data": {
      "image/png": "[encoded data removed]",
      "text/plain": [
       "<Figure size 432x288 with 1 Axes>"
      ]
     },
     "metadata": {
      "needs_background": "light"
     },
     "output_type": "display_data"
    },
    {
     "data": {
      "image/png": "[encoded data removed]",
      "text/plain": [
       "<Figure size 432x288 with 1 Axes>"
      ]
     },
     "metadata": {
      "needs_background": "light"
     },
     "output_type": "display_data"
    }
   ],
   "source": [
    "decomposed_month_apr.trend.plot()\n",
    "plt.title('Апрель')\n",
    "plt.show()\n",
    "decomposed_month_aug.trend.plot()\n",
    "plt.title('Август')\n",
    "plt.show()"
   ]
  },
  {
   "cell_type": "markdown",
   "metadata": {},
   "source": [
    "В обоих графиках с каждым днем увеличивается спрос на такси, но больше всего заказывают такси в августе, нежели весной. Летом все наслаждаются теплом и прогуливаются, а потом заказывают такси, если устали, до дома. "
   ]
  },
  {
   "cell_type": "markdown",
   "metadata": {},
   "source": [
    "Теперь создадим признаки для прогнозирования. В нашем случае это будет часы и дни недели. Так же получим отстающие значения и вычислим скользящее среднее."
   ]
  },
  {
   "cell_type": "code",
   "execution_count": 12,
   "metadata": {},
   "outputs": [],
   "source": [
    "def make_features(data, max_lag, rolling_mean_size):\n",
    "    data['hour'] = data.index.hour\n",
    "    data['dayofweek'] = data.index.dayofweek\n",
    "    \n",
    "    for lag in range(1, max_lag + 1):\n",
    "        data['lag_{}'.format(lag)] = data['num_orders'].shift(lag)\n",
    "\n",
    "    data['rolling_mean'] = data['num_orders'].shift().rolling(rolling_mean_size).mean()"
   ]
  },
  {
   "cell_type": "code",
   "execution_count": 13,
   "metadata": {},
   "outputs": [
    {
     "data": {
      "text/html": [
       "<div>\n",
       "<style scoped>\n",
       "    .dataframe tbody tr th:only-of-type {\n",
       "        vertical-align: middle;\n",
       "    }\n",
       "\n",
       "    .dataframe tbody tr th {\n",
       "        vertical-align: top;\n",
       "    }\n",
       "\n",
       "    .dataframe thead th {\n",
       "        text-align: right;\n",
       "    }\n",
       "</style>\n",
       "<table border=\"1\" class=\"dataframe\">\n",
       "  <thead>\n",
       "    <tr style=\"text-align: right;\">\n",
       "      <th></th>\n",
       "      <th>num_orders</th>\n",
       "      <th>hour</th>\n",
       "      <th>dayofweek</th>\n",
       "      <th>lag_1</th>\n",
       "      <th>lag_2</th>\n",
       "      <th>rolling_mean</th>\n",
       "    </tr>\n",
       "    <tr>\n",
       "      <th>datetime</th>\n",
       "      <th></th>\n",
       "      <th></th>\n",
       "      <th></th>\n",
       "      <th></th>\n",
       "      <th></th>\n",
       "      <th></th>\n",
       "    </tr>\n",
       "  </thead>\n",
       "  <tbody>\n",
       "    <tr>\n",
       "      <th>2018-03-01 00:00:00</th>\n",
       "      <td>124</td>\n",
       "      <td>0</td>\n",
       "      <td>3</td>\n",
       "      <td>NaN</td>\n",
       "      <td>NaN</td>\n",
       "      <td>NaN</td>\n",
       "    </tr>\n",
       "    <tr>\n",
       "      <th>2018-03-01 01:00:00</th>\n",
       "      <td>85</td>\n",
       "      <td>1</td>\n",
       "      <td>3</td>\n",
       "      <td>124.0</td>\n",
       "      <td>NaN</td>\n",
       "      <td>NaN</td>\n",
       "    </tr>\n",
       "    <tr>\n",
       "      <th>2018-03-01 02:00:00</th>\n",
       "      <td>71</td>\n",
       "      <td>2</td>\n",
       "      <td>3</td>\n",
       "      <td>85.0</td>\n",
       "      <td>124.0</td>\n",
       "      <td>NaN</td>\n",
       "    </tr>\n",
       "    <tr>\n",
       "      <th>2018-03-01 03:00:00</th>\n",
       "      <td>66</td>\n",
       "      <td>3</td>\n",
       "      <td>3</td>\n",
       "      <td>71.0</td>\n",
       "      <td>85.0</td>\n",
       "      <td>NaN</td>\n",
       "    </tr>\n",
       "    <tr>\n",
       "      <th>2018-03-01 04:00:00</th>\n",
       "      <td>43</td>\n",
       "      <td>4</td>\n",
       "      <td>3</td>\n",
       "      <td>66.0</td>\n",
       "      <td>71.0</td>\n",
       "      <td>NaN</td>\n",
       "    </tr>\n",
       "  </tbody>\n",
       "</table>\n",
       "</div>"
      ],
      "text/plain": [
       "                     num_orders  hour  dayofweek  lag_1  lag_2  rolling_mean\n",
       "datetime                                                                    \n",
       "2018-03-01 00:00:00         124     0          3    NaN    NaN           NaN\n",
       "2018-03-01 01:00:00          85     1          3  124.0    NaN           NaN\n",
       "2018-03-01 02:00:00          71     2          3   85.0  124.0           NaN\n",
       "2018-03-01 03:00:00          66     3          3   71.0   85.0           NaN\n",
       "2018-03-01 04:00:00          43     4          3   66.0   71.0           NaN"
      ]
     },
     "execution_count": 13,
     "metadata": {},
     "output_type": "execute_result"
    }
   ],
   "source": [
    "make_features(taxi_res, 2, 24)\n",
    "taxi_res.head()"
   ]
  },
  {
   "cell_type": "markdown",
   "metadata": {},
   "source": [
    "## Обучение моделей"
   ]
  },
  {
   "cell_type": "markdown",
   "metadata": {},
   "source": [
    "Рассмотрим 3 модели:\n",
    "    \n",
    "    - LinearRegression;\n",
    "    - CatBoost;\n",
    "    - LightGBM.\n",
    "    \n",
    "Но вначале разобьем данные на выборки."
   ]
  },
  {
   "cell_type": "code",
   "execution_count": 14,
   "metadata": {},
   "outputs": [],
   "source": [
    "train, test = train_test_split(taxi_res, shuffle=False, test_size=0.1)\n",
    "train = train.dropna()"
   ]
  },
  {
   "cell_type": "code",
   "execution_count": 15,
   "metadata": {},
   "outputs": [],
   "source": [
    "train_features = train.drop(['num_orders'], axis=1)\n",
    "train_target = train['num_orders']\n",
    "test_features = test.drop(['num_orders'], axis=1)\n",
    "test_target = test['num_orders']"
   ]
  },
  {
   "cell_type": "markdown",
   "metadata": {},
   "source": [
    "### LinearRegression"
   ]
  },
  {
   "cell_type": "code",
   "execution_count": 16,
   "metadata": {},
   "outputs": [
    {
     "name": "stdout",
     "output_type": "stream",
     "text": [
      "RMSE модели LinearRegression:  51.26866698864005\n"
     ]
    }
   ],
   "source": [
    "mod_lr = LinearRegression()\n",
    "mod_lr.fit(train_features, train_target)\n",
    "pred = mod_lr.predict(test_features)\n",
    "print('RMSE модели LinearRegression: ', mean_squared_error(test_target,pred) ** 0.5)"
   ]
  },
  {
   "cell_type": "markdown",
   "metadata": {},
   "source": [
    "### CatBoost"
   ]
  },
  {
   "cell_type": "code",
   "execution_count": 17,
   "metadata": {},
   "outputs": [],
   "source": [
    "train_dataset = cat.Pool(train_features, train_target)\n",
    "test_dataset = cat.Pool(test_features, test_target)"
   ]
  },
  {
   "cell_type": "code",
   "execution_count": 18,
   "metadata": {},
   "outputs": [
    {
     "data": {
      "text/plain": [
       "GridSearchCV(cv=TimeSeriesSplit(max_train_size=None, n_splits=8),\n",
       "             estimator=<catboost.core.CatBoostRegressor object at 0x7fe0b5e64a30>,\n",
       "             param_grid={'depth': [3, 5, 7], 'iterations': [50, 100, 150],\n",
       "                         'learning_rate': [0.01, 0.25, 0.5]},\n",
       "             scoring='neg_mean_squared_error')"
      ]
     },
     "execution_count": 18,
     "metadata": {},
     "output_type": "execute_result"
    }
   ],
   "source": [
    "modelCat = CatBoostRegressor(random_state = 12345, verbose=False)\n",
    "\n",
    "param_search = {'depth' : [3, 5, 7],\n",
    "                'learning_rate' : [0.01, 0.25, 0.5],\n",
    "                'iterations' : [50, 100, 150]\n",
    "               }\n",
    "\n",
    "tscv = TimeSeriesSplit(n_splits=8)\n",
    "gsearchCat = GridSearchCV(estimator=modelCat, cv=tscv,\n",
    "                        param_grid=param_search, scoring = 'neg_mean_squared_error')\n",
    "gsearchCat.fit(train_features, train_target)"
   ]
  },
  {
   "cell_type": "code",
   "execution_count": 19,
   "metadata": {},
   "outputs": [
    {
     "name": "stdout",
     "output_type": "stream",
     "text": [
      "RMSE модели CatBoost:  24.975614216952856\n"
     ]
    }
   ],
   "source": [
    "print('RMSE модели CatBoost: ', np.abs(gsearchCat.best_score_) ** 0.5)"
   ]
  },
  {
   "cell_type": "code",
   "execution_count": 20,
   "metadata": {},
   "outputs": [
    {
     "name": "stdout",
     "output_type": "stream",
     "text": [
      "Лучшие параметры:  {'depth': 5, 'iterations': 50, 'learning_rate': 0.25}\n"
     ]
    }
   ],
   "source": [
    "print('Лучшие параметры: ', gsearchCat.best_params_)"
   ]
  },
  {
   "cell_type": "markdown",
   "metadata": {},
   "source": [
    "### LightGBM"
   ]
  },
  {
   "cell_type": "code",
   "execution_count": 21,
   "metadata": {
    "scrolled": false
   },
   "outputs": [
    {
     "name": "stdout",
     "output_type": "stream",
     "text": [
      "[LightGBM] [Warning] Accuracy may be bad since you didn't explicitly set num_leaves OR 2^max_depth > num_leaves. (num_leaves=31).\n",
      "[LightGBM] [Warning] Accuracy may be bad since you didn't explicitly set num_leaves OR 2^max_depth > num_leaves. (num_leaves=31).\n",
      "[LightGBM] [Warning] Accuracy may be bad since you didn't explicitly set num_leaves OR 2^max_depth > num_leaves. (num_leaves=31).\n",
      "[LightGBM] [Warning] Accuracy may be bad since you didn't explicitly set num_leaves OR 2^max_depth > num_leaves. (num_leaves=31).\n",
      "[LightGBM] [Warning] Accuracy may be bad since you didn't explicitly set num_leaves OR 2^max_depth > num_leaves. (num_leaves=31).\n",
      "[LightGBM] [Warning] Accuracy may be bad since you didn't explicitly set num_leaves OR 2^max_depth > num_leaves. (num_leaves=31).\n",
      "[LightGBM] [Warning] Accuracy may be bad since you didn't explicitly set num_leaves OR 2^max_depth > num_leaves. (num_leaves=31).\n",
      "[LightGBM] [Warning] Accuracy may be bad since you didn't explicitly set num_leaves OR 2^max_depth > num_leaves. (num_leaves=31).\n",
      "[LightGBM] [Warning] Accuracy may be bad since you didn't explicitly set num_leaves OR 2^max_depth > num_leaves. (num_leaves=31).\n",
      "[LightGBM] [Warning] Accuracy may be bad since you didn't explicitly set num_leaves OR 2^max_depth > num_leaves. (num_leaves=31).\n",
      "[LightGBM] [Warning] Accuracy may be bad since you didn't explicitly set num_leaves OR 2^max_depth > num_leaves. (num_leaves=31).\n",
      "[LightGBM] [Warning] Accuracy may be bad since you didn't explicitly set num_leaves OR 2^max_depth > num_leaves. (num_leaves=31).\n",
      "[LightGBM] [Warning] Accuracy may be bad since you didn't explicitly set num_leaves OR 2^max_depth > num_leaves. (num_leaves=31).\n",
      "[LightGBM] [Warning] Accuracy may be bad since you didn't explicitly set num_leaves OR 2^max_depth > num_leaves. (num_leaves=31).\n",
      "[LightGBM] [Warning] Accuracy may be bad since you didn't explicitly set num_leaves OR 2^max_depth > num_leaves. (num_leaves=31).\n",
      "[LightGBM] [Warning] Accuracy may be bad since you didn't explicitly set num_leaves OR 2^max_depth > num_leaves. (num_leaves=31).\n",
      "[LightGBM] [Warning] Accuracy may be bad since you didn't explicitly set num_leaves OR 2^max_depth > num_leaves. (num_leaves=31).\n",
      "[LightGBM] [Warning] Accuracy may be bad since you didn't explicitly set num_leaves OR 2^max_depth > num_leaves. (num_leaves=31).\n",
      "[LightGBM] [Warning] Accuracy may be bad since you didn't explicitly set num_leaves OR 2^max_depth > num_leaves. (num_leaves=31).\n",
      "[LightGBM] [Warning] Accuracy may be bad since you didn't explicitly set num_leaves OR 2^max_depth > num_leaves. (num_leaves=31).\n",
      "[LightGBM] [Warning] Accuracy may be bad since you didn't explicitly set num_leaves OR 2^max_depth > num_leaves. (num_leaves=31).\n",
      "[LightGBM] [Warning] Accuracy may be bad since you didn't explicitly set num_leaves OR 2^max_depth > num_leaves. (num_leaves=31).\n",
      "[LightGBM] [Warning] Accuracy may be bad since you didn't explicitly set num_leaves OR 2^max_depth > num_leaves. (num_leaves=31).\n",
      "[LightGBM] [Warning] Accuracy may be bad since you didn't explicitly set num_leaves OR 2^max_depth > num_leaves. (num_leaves=31).\n",
      "[LightGBM] [Warning] Accuracy may be bad since you didn't explicitly set num_leaves OR 2^max_depth > num_leaves. (num_leaves=31).\n",
      "[LightGBM] [Warning] Accuracy may be bad since you didn't explicitly set num_leaves OR 2^max_depth > num_leaves. (num_leaves=31).\n",
      "[LightGBM] [Warning] Accuracy may be bad since you didn't explicitly set num_leaves OR 2^max_depth > num_leaves. (num_leaves=31).\n",
      "[LightGBM] [Warning] Accuracy may be bad since you didn't explicitly set num_leaves OR 2^max_depth > num_leaves. (num_leaves=31).\n",
      "[LightGBM] [Warning] Accuracy may be bad since you didn't explicitly set num_leaves OR 2^max_depth > num_leaves. (num_leaves=31).\n",
      "[LightGBM] [Warning] Accuracy may be bad since you didn't explicitly set num_leaves OR 2^max_depth > num_leaves. (num_leaves=31).\n",
      "[LightGBM] [Warning] Accuracy may be bad since you didn't explicitly set num_leaves OR 2^max_depth > num_leaves. (num_leaves=31).\n",
      "[LightGBM] [Warning] Accuracy may be bad since you didn't explicitly set num_leaves OR 2^max_depth > num_leaves. (num_leaves=31).\n",
      "[LightGBM] [Warning] Accuracy may be bad since you didn't explicitly set num_leaves OR 2^max_depth > num_leaves. (num_leaves=31).\n",
      "[LightGBM] [Warning] Accuracy may be bad since you didn't explicitly set num_leaves OR 2^max_depth > num_leaves. (num_leaves=31).\n",
      "[LightGBM] [Warning] Accuracy may be bad since you didn't explicitly set num_leaves OR 2^max_depth > num_leaves. (num_leaves=31).\n",
      "[LightGBM] [Warning] Accuracy may be bad since you didn't explicitly set num_leaves OR 2^max_depth > num_leaves. (num_leaves=31).\n",
      "[LightGBM] [Warning] Accuracy may be bad since you didn't explicitly set num_leaves OR 2^max_depth > num_leaves. (num_leaves=31).\n",
      "[LightGBM] [Warning] Accuracy may be bad since you didn't explicitly set num_leaves OR 2^max_depth > num_leaves. (num_leaves=31).\n",
      "[LightGBM] [Warning] Accuracy may be bad since you didn't explicitly set num_leaves OR 2^max_depth > num_leaves. (num_leaves=31).\n",
      "[LightGBM] [Warning] Accuracy may be bad since you didn't explicitly set num_leaves OR 2^max_depth > num_leaves. (num_leaves=31).\n",
      "[LightGBM] [Warning] Accuracy may be bad since you didn't explicitly set num_leaves OR 2^max_depth > num_leaves. (num_leaves=31).\n",
      "[LightGBM] [Warning] Accuracy may be bad since you didn't explicitly set num_leaves OR 2^max_depth > num_leaves. (num_leaves=31).\n",
      "[LightGBM] [Warning] Accuracy may be bad since you didn't explicitly set num_leaves OR 2^max_depth > num_leaves. (num_leaves=31).\n",
      "[LightGBM] [Warning] Accuracy may be bad since you didn't explicitly set num_leaves OR 2^max_depth > num_leaves. (num_leaves=31).\n",
      "[LightGBM] [Warning] Accuracy may be bad since you didn't explicitly set num_leaves OR 2^max_depth > num_leaves. (num_leaves=31).\n",
      "[LightGBM] [Warning] Accuracy may be bad since you didn't explicitly set num_leaves OR 2^max_depth > num_leaves. (num_leaves=31).\n",
      "[LightGBM] [Warning] Accuracy may be bad since you didn't explicitly set num_leaves OR 2^max_depth > num_leaves. (num_leaves=31).\n",
      "[LightGBM] [Warning] Accuracy may be bad since you didn't explicitly set num_leaves OR 2^max_depth > num_leaves. (num_leaves=31).\n",
      "[LightGBM] [Warning] Accuracy may be bad since you didn't explicitly set num_leaves OR 2^max_depth > num_leaves. (num_leaves=31).\n",
      "[LightGBM] [Warning] Accuracy may be bad since you didn't explicitly set num_leaves OR 2^max_depth > num_leaves. (num_leaves=31).\n",
      "[LightGBM] [Warning] Accuracy may be bad since you didn't explicitly set num_leaves OR 2^max_depth > num_leaves. (num_leaves=31).\n",
      "[LightGBM] [Warning] Accuracy may be bad since you didn't explicitly set num_leaves OR 2^max_depth > num_leaves. (num_leaves=31).\n",
      "[LightGBM] [Warning] Accuracy may be bad since you didn't explicitly set num_leaves OR 2^max_depth > num_leaves. (num_leaves=31).\n",
      "[LightGBM] [Warning] Accuracy may be bad since you didn't explicitly set num_leaves OR 2^max_depth > num_leaves. (num_leaves=31).\n",
      "[LightGBM] [Warning] Accuracy may be bad since you didn't explicitly set num_leaves OR 2^max_depth > num_leaves. (num_leaves=31).\n",
      "[LightGBM] [Warning] Accuracy may be bad since you didn't explicitly set num_leaves OR 2^max_depth > num_leaves. (num_leaves=31).\n",
      "[LightGBM] [Warning] Accuracy may be bad since you didn't explicitly set num_leaves OR 2^max_depth > num_leaves. (num_leaves=31).\n",
      "[LightGBM] [Warning] Accuracy may be bad since you didn't explicitly set num_leaves OR 2^max_depth > num_leaves. (num_leaves=31).\n",
      "[LightGBM] [Warning] Accuracy may be bad since you didn't explicitly set num_leaves OR 2^max_depth > num_leaves. (num_leaves=31).\n",
      "[LightGBM] [Warning] Accuracy may be bad since you didn't explicitly set num_leaves OR 2^max_depth > num_leaves. (num_leaves=31).\n",
      "[LightGBM] [Warning] Accuracy may be bad since you didn't explicitly set num_leaves OR 2^max_depth > num_leaves. (num_leaves=31).\n",
      "[LightGBM] [Warning] Accuracy may be bad since you didn't explicitly set num_leaves OR 2^max_depth > num_leaves. (num_leaves=31).\n",
      "[LightGBM] [Warning] Accuracy may be bad since you didn't explicitly set num_leaves OR 2^max_depth > num_leaves. (num_leaves=31).\n",
      "[LightGBM] [Warning] Accuracy may be bad since you didn't explicitly set num_leaves OR 2^max_depth > num_leaves. (num_leaves=31).\n",
      "[LightGBM] [Warning] Accuracy may be bad since you didn't explicitly set num_leaves OR 2^max_depth > num_leaves. (num_leaves=31).\n"
     ]
    },
    {
     "name": "stdout",
     "output_type": "stream",
     "text": [
      "[LightGBM] [Warning] Accuracy may be bad since you didn't explicitly set num_leaves OR 2^max_depth > num_leaves. (num_leaves=31).\n",
      "[LightGBM] [Warning] Accuracy may be bad since you didn't explicitly set num_leaves OR 2^max_depth > num_leaves. (num_leaves=31).\n",
      "[LightGBM] [Warning] Accuracy may be bad since you didn't explicitly set num_leaves OR 2^max_depth > num_leaves. (num_leaves=31).\n",
      "[LightGBM] [Warning] Accuracy may be bad since you didn't explicitly set num_leaves OR 2^max_depth > num_leaves. (num_leaves=31).\n",
      "[LightGBM] [Warning] Accuracy may be bad since you didn't explicitly set num_leaves OR 2^max_depth > num_leaves. (num_leaves=31).\n",
      "[LightGBM] [Warning] Accuracy may be bad since you didn't explicitly set num_leaves OR 2^max_depth > num_leaves. (num_leaves=31).\n",
      "[LightGBM] [Warning] Accuracy may be bad since you didn't explicitly set num_leaves OR 2^max_depth > num_leaves. (num_leaves=31).\n",
      "[LightGBM] [Warning] Accuracy may be bad since you didn't explicitly set num_leaves OR 2^max_depth > num_leaves. (num_leaves=31).\n",
      "[LightGBM] [Warning] Accuracy may be bad since you didn't explicitly set num_leaves OR 2^max_depth > num_leaves. (num_leaves=31).\n",
      "[LightGBM] [Warning] Accuracy may be bad since you didn't explicitly set num_leaves OR 2^max_depth > num_leaves. (num_leaves=31).\n",
      "[LightGBM] [Warning] Accuracy may be bad since you didn't explicitly set num_leaves OR 2^max_depth > num_leaves. (num_leaves=31).\n",
      "[LightGBM] [Warning] Accuracy may be bad since you didn't explicitly set num_leaves OR 2^max_depth > num_leaves. (num_leaves=31).\n",
      "[LightGBM] [Warning] Accuracy may be bad since you didn't explicitly set num_leaves OR 2^max_depth > num_leaves. (num_leaves=31).\n",
      "[LightGBM] [Warning] Accuracy may be bad since you didn't explicitly set num_leaves OR 2^max_depth > num_leaves. (num_leaves=31).\n",
      "[LightGBM] [Warning] Accuracy may be bad since you didn't explicitly set num_leaves OR 2^max_depth > num_leaves. (num_leaves=31).\n",
      "[LightGBM] [Warning] Accuracy may be bad since you didn't explicitly set num_leaves OR 2^max_depth > num_leaves. (num_leaves=31).\n",
      "[LightGBM] [Warning] Accuracy may be bad since you didn't explicitly set num_leaves OR 2^max_depth > num_leaves. (num_leaves=31).\n",
      "[LightGBM] [Warning] Accuracy may be bad since you didn't explicitly set num_leaves OR 2^max_depth > num_leaves. (num_leaves=31).\n",
      "[LightGBM] [Warning] Accuracy may be bad since you didn't explicitly set num_leaves OR 2^max_depth > num_leaves. (num_leaves=31).\n",
      "[LightGBM] [Warning] Accuracy may be bad since you didn't explicitly set num_leaves OR 2^max_depth > num_leaves. (num_leaves=31).\n",
      "[LightGBM] [Warning] Accuracy may be bad since you didn't explicitly set num_leaves OR 2^max_depth > num_leaves. (num_leaves=31).\n",
      "[LightGBM] [Warning] Accuracy may be bad since you didn't explicitly set num_leaves OR 2^max_depth > num_leaves. (num_leaves=31).\n",
      "[LightGBM] [Warning] Accuracy may be bad since you didn't explicitly set num_leaves OR 2^max_depth > num_leaves. (num_leaves=31).\n",
      "[LightGBM] [Warning] Accuracy may be bad since you didn't explicitly set num_leaves OR 2^max_depth > num_leaves. (num_leaves=31).\n",
      "[LightGBM] [Warning] Accuracy may be bad since you didn't explicitly set num_leaves OR 2^max_depth > num_leaves. (num_leaves=31).\n",
      "[LightGBM] [Warning] Accuracy may be bad since you didn't explicitly set num_leaves OR 2^max_depth > num_leaves. (num_leaves=31).\n",
      "[LightGBM] [Warning] Accuracy may be bad since you didn't explicitly set num_leaves OR 2^max_depth > num_leaves. (num_leaves=31).\n",
      "[LightGBM] [Warning] Accuracy may be bad since you didn't explicitly set num_leaves OR 2^max_depth > num_leaves. (num_leaves=31).\n",
      "[LightGBM] [Warning] Accuracy may be bad since you didn't explicitly set num_leaves OR 2^max_depth > num_leaves. (num_leaves=31).\n",
      "[LightGBM] [Warning] Accuracy may be bad since you didn't explicitly set num_leaves OR 2^max_depth > num_leaves. (num_leaves=31).\n",
      "[LightGBM] [Warning] Accuracy may be bad since you didn't explicitly set num_leaves OR 2^max_depth > num_leaves. (num_leaves=31).\n",
      "[LightGBM] [Warning] Accuracy may be bad since you didn't explicitly set num_leaves OR 2^max_depth > num_leaves. (num_leaves=31).\n",
      "[LightGBM] [Warning] Accuracy may be bad since you didn't explicitly set num_leaves OR 2^max_depth > num_leaves. (num_leaves=31).\n",
      "[LightGBM] [Warning] Accuracy may be bad since you didn't explicitly set num_leaves OR 2^max_depth > num_leaves. (num_leaves=31).\n",
      "[LightGBM] [Warning] Accuracy may be bad since you didn't explicitly set num_leaves OR 2^max_depth > num_leaves. (num_leaves=31).\n",
      "[LightGBM] [Warning] Accuracy may be bad since you didn't explicitly set num_leaves OR 2^max_depth > num_leaves. (num_leaves=31).\n",
      "[LightGBM] [Warning] Accuracy may be bad since you didn't explicitly set num_leaves OR 2^max_depth > num_leaves. (num_leaves=31).\n",
      "[LightGBM] [Warning] Accuracy may be bad since you didn't explicitly set num_leaves OR 2^max_depth > num_leaves. (num_leaves=31).\n",
      "[LightGBM] [Warning] Accuracy may be bad since you didn't explicitly set num_leaves OR 2^max_depth > num_leaves. (num_leaves=31).\n",
      "[LightGBM] [Warning] Accuracy may be bad since you didn't explicitly set num_leaves OR 2^max_depth > num_leaves. (num_leaves=31).\n",
      "[LightGBM] [Warning] Accuracy may be bad since you didn't explicitly set num_leaves OR 2^max_depth > num_leaves. (num_leaves=31).\n",
      "[LightGBM] [Warning] Accuracy may be bad since you didn't explicitly set num_leaves OR 2^max_depth > num_leaves. (num_leaves=31).\n",
      "[LightGBM] [Warning] Accuracy may be bad since you didn't explicitly set num_leaves OR 2^max_depth > num_leaves. (num_leaves=31).\n",
      "[LightGBM] [Warning] Accuracy may be bad since you didn't explicitly set num_leaves OR 2^max_depth > num_leaves. (num_leaves=31).\n",
      "[LightGBM] [Warning] Accuracy may be bad since you didn't explicitly set num_leaves OR 2^max_depth > num_leaves. (num_leaves=31).\n",
      "[LightGBM] [Warning] Accuracy may be bad since you didn't explicitly set num_leaves OR 2^max_depth > num_leaves. (num_leaves=31).\n",
      "[LightGBM] [Warning] Accuracy may be bad since you didn't explicitly set num_leaves OR 2^max_depth > num_leaves. (num_leaves=31).\n",
      "[LightGBM] [Warning] Accuracy may be bad since you didn't explicitly set num_leaves OR 2^max_depth > num_leaves. (num_leaves=31).\n",
      "[LightGBM] [Warning] Accuracy may be bad since you didn't explicitly set num_leaves OR 2^max_depth > num_leaves. (num_leaves=31).\n",
      "[LightGBM] [Warning] Accuracy may be bad since you didn't explicitly set num_leaves OR 2^max_depth > num_leaves. (num_leaves=31).\n",
      "[LightGBM] [Warning] Accuracy may be bad since you didn't explicitly set num_leaves OR 2^max_depth > num_leaves. (num_leaves=31).\n",
      "[LightGBM] [Warning] Accuracy may be bad since you didn't explicitly set num_leaves OR 2^max_depth > num_leaves. (num_leaves=31).\n",
      "[LightGBM] [Warning] Accuracy may be bad since you didn't explicitly set num_leaves OR 2^max_depth > num_leaves. (num_leaves=31).\n",
      "[LightGBM] [Warning] Accuracy may be bad since you didn't explicitly set num_leaves OR 2^max_depth > num_leaves. (num_leaves=31).\n",
      "[LightGBM] [Warning] Accuracy may be bad since you didn't explicitly set num_leaves OR 2^max_depth > num_leaves. (num_leaves=31).\n",
      "[LightGBM] [Warning] Accuracy may be bad since you didn't explicitly set num_leaves OR 2^max_depth > num_leaves. (num_leaves=31).\n",
      "[LightGBM] [Warning] Accuracy may be bad since you didn't explicitly set num_leaves OR 2^max_depth > num_leaves. (num_leaves=31).\n",
      "[LightGBM] [Warning] Accuracy may be bad since you didn't explicitly set num_leaves OR 2^max_depth > num_leaves. (num_leaves=31).\n",
      "[LightGBM] [Warning] Accuracy may be bad since you didn't explicitly set num_leaves OR 2^max_depth > num_leaves. (num_leaves=31).\n",
      "[LightGBM] [Warning] Accuracy may be bad since you didn't explicitly set num_leaves OR 2^max_depth > num_leaves. (num_leaves=31).\n",
      "[LightGBM] [Warning] Accuracy may be bad since you didn't explicitly set num_leaves OR 2^max_depth > num_leaves. (num_leaves=31).\n",
      "[LightGBM] [Warning] Accuracy may be bad since you didn't explicitly set num_leaves OR 2^max_depth > num_leaves. (num_leaves=31).\n",
      "[LightGBM] [Warning] Accuracy may be bad since you didn't explicitly set num_leaves OR 2^max_depth > num_leaves. (num_leaves=31).\n",
      "[LightGBM] [Warning] Accuracy may be bad since you didn't explicitly set num_leaves OR 2^max_depth > num_leaves. (num_leaves=31).\n",
      "[LightGBM] [Warning] Accuracy may be bad since you didn't explicitly set num_leaves OR 2^max_depth > num_leaves. (num_leaves=31).\n",
      "[LightGBM] [Warning] Accuracy may be bad since you didn't explicitly set num_leaves OR 2^max_depth > num_leaves. (num_leaves=31).\n",
      "[LightGBM] [Warning] Accuracy may be bad since you didn't explicitly set num_leaves OR 2^max_depth > num_leaves. (num_leaves=31).\n",
      "[LightGBM] [Warning] Accuracy may be bad since you didn't explicitly set num_leaves OR 2^max_depth > num_leaves. (num_leaves=31).\n"
     ]
    },
    {
     "name": "stdout",
     "output_type": "stream",
     "text": [
      "[LightGBM] [Warning] Accuracy may be bad since you didn't explicitly set num_leaves OR 2^max_depth > num_leaves. (num_leaves=31).\n",
      "[LightGBM] [Warning] Accuracy may be bad since you didn't explicitly set num_leaves OR 2^max_depth > num_leaves. (num_leaves=31).\n",
      "[LightGBM] [Warning] Accuracy may be bad since you didn't explicitly set num_leaves OR 2^max_depth > num_leaves. (num_leaves=31).\n",
      "[LightGBM] [Warning] Accuracy may be bad since you didn't explicitly set num_leaves OR 2^max_depth > num_leaves. (num_leaves=31).\n",
      "[LightGBM] [Warning] Accuracy may be bad since you didn't explicitly set num_leaves OR 2^max_depth > num_leaves. (num_leaves=31).\n",
      "[LightGBM] [Warning] Accuracy may be bad since you didn't explicitly set num_leaves OR 2^max_depth > num_leaves. (num_leaves=31).\n",
      "[LightGBM] [Warning] Accuracy may be bad since you didn't explicitly set num_leaves OR 2^max_depth > num_leaves. (num_leaves=31).\n",
      "[LightGBM] [Warning] Accuracy may be bad since you didn't explicitly set num_leaves OR 2^max_depth > num_leaves. (num_leaves=31).\n",
      "[LightGBM] [Warning] Accuracy may be bad since you didn't explicitly set num_leaves OR 2^max_depth > num_leaves. (num_leaves=31).\n",
      "[LightGBM] [Warning] Accuracy may be bad since you didn't explicitly set num_leaves OR 2^max_depth > num_leaves. (num_leaves=31).\n",
      "[LightGBM] [Warning] Accuracy may be bad since you didn't explicitly set num_leaves OR 2^max_depth > num_leaves. (num_leaves=31).\n",
      "[LightGBM] [Warning] Accuracy may be bad since you didn't explicitly set num_leaves OR 2^max_depth > num_leaves. (num_leaves=31).\n"
     ]
    },
    {
     "data": {
      "text/plain": [
       "GridSearchCV(cv=TimeSeriesSplit(max_train_size=None, n_splits=8),\n",
       "             estimator=LGBMRegressor(random_state=42),\n",
       "             param_grid={'learning_rate': [0.1, 0.25, 0.5],\n",
       "                         'max_depth': [20, 50],\n",
       "                         'n_estimators': [50, 100, 200]},\n",
       "             scoring='neg_mean_squared_error')"
      ]
     },
     "execution_count": 21,
     "metadata": {},
     "output_type": "execute_result"
    }
   ],
   "source": [
    "modelLight = LGBMRegressor(random_state = 42)\n",
    "param_search = {'max_depth' : [20, 50], 'n_estimators' : [50, 100, 200],\n",
    "               'learning_rate' : [0.1, 0.25, 0.5]\n",
    "               }\n",
    "tscv = TimeSeriesSplit(n_splits=8)\n",
    "gsearchLight = GridSearchCV(estimator=modelLight, cv=tscv,\n",
    "                        param_grid=param_search,scoring = 'neg_mean_squared_error')\n",
    "gsearchLight.fit(train_features, train_target)"
   ]
  },
  {
   "cell_type": "code",
   "execution_count": 22,
   "metadata": {},
   "outputs": [
    {
     "name": "stdout",
     "output_type": "stream",
     "text": [
      "RMSE модели LightGBM:  24.602224373554645\n"
     ]
    }
   ],
   "source": [
    "print('RMSE модели LightGBM: ',np.abs(gsearchLight.best_score_) ** 0.5)"
   ]
  },
  {
   "cell_type": "code",
   "execution_count": 23,
   "metadata": {},
   "outputs": [
    {
     "name": "stdout",
     "output_type": "stream",
     "text": [
      "Лучшие параметры:  {'learning_rate': 0.1, 'max_depth': 20, 'n_estimators': 50}\n"
     ]
    }
   ],
   "source": [
    "print('Лучшие параметры: ', gsearchLight.best_params_)"
   ]
  },
  {
   "cell_type": "markdown",
   "metadata": {},
   "source": [
    "Вывод: \n",
    "\n",
    "    - модели обучены;\n",
    "    - наилучшие гиперпараметры найдены;\n",
    "    - подготовка к тестированию завершена."
   ]
  },
  {
   "cell_type": "markdown",
   "metadata": {},
   "source": [
    "## Тестирование"
   ]
  },
  {
   "cell_type": "code",
   "execution_count": 24,
   "metadata": {
    "scrolled": true
   },
   "outputs": [
    {
     "name": "stdout",
     "output_type": "stream",
     "text": [
      "RMSE модели CatBoost 47.397483916711245\n"
     ]
    }
   ],
   "source": [
    "#CatBoostRegressor\n",
    "mod_cat = CatBoostRegressor(depth = 7, iterations = 50, learning_rate = 0.25, loss_function = 'RMSE')\n",
    "mod_cat.fit(train_dataset, eval_set = test_dataset, verbose = False)\n",
    "pred_cat = mod_cat.predict(test_features)\n",
    "print('RMSE модели CatBoost', mean_squared_error(test_target, pred_cat) ** 0.5)"
   ]
  },
  {
   "cell_type": "code",
   "execution_count": 25,
   "metadata": {},
   "outputs": [
    {
     "name": "stdout",
     "output_type": "stream",
     "text": [
      "[10]\tvalid_0's rmse: 60.3708\tvalid_0's l2: 3644.64\n",
      "[20]\tvalid_0's rmse: 51.9187\tvalid_0's l2: 2695.56\n",
      "[30]\tvalid_0's rmse: 48.0113\tvalid_0's l2: 2305.09\n",
      "[40]\tvalid_0's rmse: 45.5985\tvalid_0's l2: 2079.22\n",
      "[50]\tvalid_0's rmse: 45.1579\tvalid_0's l2: 2039.24\n"
     ]
    },
    {
     "data": {
      "text/plain": [
       "LGBMRegressor(max_depth=20, n_estimators=50, random_state=42)"
      ]
     },
     "execution_count": 25,
     "metadata": {},
     "output_type": "execute_result"
    }
   ],
   "source": [
    "#LGBMRegressor\n",
    "mod_lgbm = LGBMRegressor(max_depth = 20, n_estimators = 50, learning_rate = 0.1, random_state = 42)\n",
    "mod_lgbm.fit(train_features,train_target, eval_set = (test_features,test_target), eval_metric = 'RMSE', verbose = 10)"
   ]
  },
  {
   "cell_type": "code",
   "execution_count": 26,
   "metadata": {},
   "outputs": [
    {
     "name": "stdout",
     "output_type": "stream",
     "text": [
      "RMSE модели LGBM:  45.157948385699804\n"
     ]
    }
   ],
   "source": [
    "pred_lgbm = mod_lgbm.predict(test_features)\n",
    "print('RMSE модели LGBM: ', mean_squared_error(test_target, pred_lgbm) ** 0.5)"
   ]
  },
  {
   "cell_type": "markdown",
   "metadata": {},
   "source": [
    "Самая лучшая метрика у модели LGBMRegressor = 45.15 с параметрами max_depth = 20, n_estimators = 50, learning_rate = 0.1. Посмотрим целевой признак с предсказаниями на графике:"
   ]
  },
  {
   "cell_type": "code",
   "execution_count": 27,
   "metadata": {},
   "outputs": [
    {
     "name": "stdout",
     "output_type": "stream",
     "text": [
      "RMSE: 45.157948385699804\n"
     ]
    },
    {
     "data": {
      "image/png": "[encoded data removed]",
      "text/plain": [
       "<Figure size 1152x648 with 1 Axes>"
      ]
     },
     "metadata": {
      "needs_background": "light"
     },
     "output_type": "display_data"
    }
   ],
   "source": [
    "best_pred = mod_lgbm.predict(test_features)\n",
    "\n",
    "print(\"RMSE:\", mean_squared_error(test_target, best_pred) ** 0.5)\n",
    "plt.figure(figsize=(16,9))\n",
    "plt.plot(test_features.index, test_target, label='Actual')\n",
    "plt.plot(test_features.index, best_pred, label='Prediction')\n",
    "plt.legend()\n",
    "plt.show()"
   ]
  },
  {
   "cell_type": "markdown",
   "metadata": {},
   "source": [
    "На графике видно, что данная модель предсказывает данные с небольшими погрешностями, но в целом модель справилась неплохо. Цель достигнута, метрика RMSE не больше 48."
   ]
  }
 ],
 "metadata": {
  "ExecuteTimeLog": [
   {
    "duration": 561,
    "start_time": "2021-07-14T20:13:44.867Z"
   },
   {
    "duration": 33,
    "start_time": "2021-07-14T20:16:45.732Z"
   },
   {
    "duration": 40,
    "start_time": "2021-07-14T20:16:58.816Z"
   },
   {
    "duration": 38,
    "start_time": "2021-07-14T20:19:50.457Z"
   },
   {
    "duration": 39,
    "start_time": "2021-07-14T20:20:08.361Z"
   },
   {
    "duration": 40,
    "start_time": "2021-07-14T20:20:20.440Z"
   },
   {
    "duration": 796,
    "start_time": "2021-07-15T17:05:54.252Z"
   },
   {
    "duration": 55,
    "start_time": "2021-07-15T17:05:55.051Z"
   },
   {
    "duration": 20,
    "start_time": "2021-07-15T17:07:18.659Z"
   },
   {
    "duration": 396,
    "start_time": "2021-07-15T17:14:48.674Z"
   },
   {
    "duration": 9,
    "start_time": "2021-07-15T17:14:59.898Z"
   },
   {
    "duration": 1042,
    "start_time": "2021-07-15T17:15:14.067Z"
   },
   {
    "duration": 966,
    "start_time": "2021-07-15T17:16:39.044Z"
   },
   {
    "duration": 953,
    "start_time": "2021-07-15T17:18:14.585Z"
   },
   {
    "duration": 571,
    "start_time": "2021-07-15T17:19:04.776Z"
   },
   {
    "duration": 18,
    "start_time": "2021-07-15T17:19:24.006Z"
   },
   {
    "duration": 532,
    "start_time": "2021-07-15T17:19:46.232Z"
   },
   {
    "duration": 581,
    "start_time": "2021-07-15T17:20:07.192Z"
   },
   {
    "duration": 1095,
    "start_time": "2021-07-15T17:20:48.770Z"
   },
   {
    "duration": 4,
    "start_time": "2021-07-15T17:21:11.915Z"
   },
   {
    "duration": 4,
    "start_time": "2021-07-15T17:21:19.097Z"
   },
   {
    "duration": 67,
    "start_time": "2021-07-15T17:21:19.850Z"
   },
   {
    "duration": 12,
    "start_time": "2021-07-15T17:21:20.346Z"
   },
   {
    "duration": 17,
    "start_time": "2021-07-15T17:21:20.825Z"
   },
   {
    "duration": 598,
    "start_time": "2021-07-15T17:21:21.361Z"
   },
   {
    "duration": 449,
    "start_time": "2021-07-15T17:21:32.321Z"
   },
   {
    "duration": 669,
    "start_time": "2021-07-15T17:21:35.873Z"
   },
   {
    "duration": 853,
    "start_time": "2021-07-15T19:48:28.181Z"
   },
   {
    "duration": 56,
    "start_time": "2021-07-15T19:48:29.036Z"
   },
   {
    "duration": 12,
    "start_time": "2021-07-15T19:48:29.095Z"
   },
   {
    "duration": 23,
    "start_time": "2021-07-15T19:48:29.109Z"
   },
   {
    "duration": 882,
    "start_time": "2021-07-15T19:48:29.135Z"
   },
   {
    "duration": 862,
    "start_time": "2021-07-15T20:01:22.010Z"
   },
   {
    "duration": 653,
    "start_time": "2021-07-15T20:02:02.957Z"
   },
   {
    "duration": 510,
    "start_time": "2021-07-15T20:27:53.198Z"
   },
   {
    "duration": 465,
    "start_time": "2021-07-15T21:05:36.830Z"
   },
   {
    "duration": 27,
    "start_time": "2021-07-15T21:06:43.386Z"
   },
   {
    "duration": 38,
    "start_time": "2021-07-15T21:10:41.062Z"
   },
   {
    "duration": 312,
    "start_time": "2021-07-15T21:10:55.598Z"
   },
   {
    "duration": 306,
    "start_time": "2021-07-15T21:49:26.635Z"
   },
   {
    "duration": 765,
    "start_time": "2021-07-15T21:55:38.743Z"
   },
   {
    "duration": 444,
    "start_time": "2021-07-15T22:05:14.221Z"
   },
   {
    "duration": 472,
    "start_time": "2021-07-15T22:14:46.954Z"
   },
   {
    "duration": 635,
    "start_time": "2021-07-15T22:16:27.055Z"
   },
   {
    "duration": 660,
    "start_time": "2021-07-15T22:18:31.087Z"
   },
   {
    "duration": 124,
    "start_time": "2021-07-15T22:20:28.243Z"
   },
   {
    "duration": 670,
    "start_time": "2021-07-15T22:22:04.453Z"
   },
   {
    "duration": 33,
    "start_time": "2021-07-15T22:22:31.571Z"
   },
   {
    "duration": 460,
    "start_time": "2021-07-15T22:22:32.427Z"
   },
   {
    "duration": 312,
    "start_time": "2021-07-15T22:22:34.285Z"
   },
   {
    "duration": 310,
    "start_time": "2021-07-15T22:22:36.500Z"
   },
   {
    "duration": 727,
    "start_time": "2021-07-15T22:27:20.079Z"
   },
   {
    "duration": 11,
    "start_time": "2021-07-15T22:39:11.492Z"
   },
   {
    "duration": 294,
    "start_time": "2021-07-15T22:39:34.107Z"
   },
   {
    "duration": 405,
    "start_time": "2021-07-15T22:39:49.237Z"
   },
   {
    "duration": 869,
    "start_time": "2021-07-15T23:04:58.699Z"
   },
   {
    "duration": 1293,
    "start_time": "2021-07-16T17:54:19.927Z"
   },
   {
    "duration": 52,
    "start_time": "2021-07-16T17:54:21.223Z"
   },
   {
    "duration": 13,
    "start_time": "2021-07-16T17:54:21.278Z"
   },
   {
    "duration": 18,
    "start_time": "2021-07-16T17:54:21.294Z"
   },
   {
    "duration": 65,
    "start_time": "2021-07-16T17:54:21.315Z"
   },
   {
    "duration": 433,
    "start_time": "2021-07-16T17:54:21.383Z"
   },
   {
    "duration": 325,
    "start_time": "2021-07-16T17:54:21.819Z"
   },
   {
    "duration": 331,
    "start_time": "2021-07-16T17:54:22.148Z"
   },
   {
    "duration": 623,
    "start_time": "2021-07-16T17:54:22.482Z"
   },
   {
    "duration": 287,
    "start_time": "2021-07-16T17:54:23.107Z"
   },
   {
    "duration": 825,
    "start_time": "2021-07-16T17:54:23.397Z"
   },
   {
    "duration": 95,
    "start_time": "2021-07-16T18:07:07.668Z"
   },
   {
    "duration": 6,
    "start_time": "2021-07-16T18:17:15.031Z"
   },
   {
    "duration": 16,
    "start_time": "2021-07-16T18:18:01.068Z"
   },
   {
    "duration": 25,
    "start_time": "2021-07-16T18:18:18.907Z"
   },
   {
    "duration": 108,
    "start_time": "2021-07-16T18:18:26.313Z"
   },
   {
    "duration": 28,
    "start_time": "2021-07-16T18:18:35.272Z"
   },
   {
    "duration": 26,
    "start_time": "2021-07-16T18:18:39.989Z"
   },
   {
    "duration": 8,
    "start_time": "2021-07-16T18:18:43.865Z"
   },
   {
    "duration": 27,
    "start_time": "2021-07-16T18:18:44.718Z"
   },
   {
    "duration": 50,
    "start_time": "2021-07-16T18:20:18.877Z"
   },
   {
    "duration": 1556,
    "start_time": "2021-07-16T18:20:46.488Z"
   },
   {
    "duration": 59,
    "start_time": "2021-07-16T18:20:48.047Z"
   },
   {
    "duration": 13,
    "start_time": "2021-07-16T18:20:48.110Z"
   },
   {
    "duration": 46,
    "start_time": "2021-07-16T18:20:48.127Z"
   },
   {
    "duration": 30,
    "start_time": "2021-07-16T18:20:48.176Z"
   },
   {
    "duration": 489,
    "start_time": "2021-07-16T18:20:48.209Z"
   },
   {
    "duration": 328,
    "start_time": "2021-07-16T18:20:48.701Z"
   },
   {
    "duration": 307,
    "start_time": "2021-07-16T18:20:49.032Z"
   },
   {
    "duration": 730,
    "start_time": "2021-07-16T18:20:49.341Z"
   },
   {
    "duration": 304,
    "start_time": "2021-07-16T18:20:50.073Z"
   },
   {
    "duration": 860,
    "start_time": "2021-07-16T18:20:50.379Z"
   },
   {
    "duration": 5,
    "start_time": "2021-07-16T18:20:51.242Z"
   },
   {
    "duration": 34,
    "start_time": "2021-07-16T18:20:51.257Z"
   },
   {
    "duration": 23,
    "start_time": "2021-07-16T18:21:01.482Z"
   },
   {
    "duration": 27,
    "start_time": "2021-07-16T18:21:08.138Z"
   },
   {
    "duration": 152,
    "start_time": "2021-07-16T19:04:57.829Z"
   },
   {
    "duration": 9,
    "start_time": "2021-07-16T19:07:20.551Z"
   },
   {
    "duration": 7,
    "start_time": "2021-07-16T19:09:15.834Z"
   },
   {
    "duration": 465,
    "start_time": "2021-07-16T19:14:00.471Z"
   },
   {
    "duration": 13,
    "start_time": "2021-07-16T19:14:47.815Z"
   },
   {
    "duration": 13,
    "start_time": "2021-07-16T19:14:52.467Z"
   },
   {
    "duration": 1465,
    "start_time": "2021-07-16T19:15:23.065Z"
   },
   {
    "duration": 52,
    "start_time": "2021-07-16T19:15:24.533Z"
   },
   {
    "duration": 13,
    "start_time": "2021-07-16T19:15:24.591Z"
   },
   {
    "duration": 18,
    "start_time": "2021-07-16T19:15:24.606Z"
   },
   {
    "duration": 63,
    "start_time": "2021-07-16T19:15:24.626Z"
   },
   {
    "duration": 454,
    "start_time": "2021-07-16T19:15:24.691Z"
   },
   {
    "duration": 315,
    "start_time": "2021-07-16T19:15:25.148Z"
   },
   {
    "duration": 327,
    "start_time": "2021-07-16T19:15:25.467Z"
   },
   {
    "duration": 608,
    "start_time": "2021-07-16T19:15:25.797Z"
   },
   {
    "duration": 345,
    "start_time": "2021-07-16T19:15:26.407Z"
   },
   {
    "duration": 809,
    "start_time": "2021-07-16T19:15:26.756Z"
   },
   {
    "duration": 6,
    "start_time": "2021-07-16T19:15:27.567Z"
   },
   {
    "duration": 30,
    "start_time": "2021-07-16T19:15:27.576Z"
   },
   {
    "duration": 10,
    "start_time": "2021-07-16T19:15:27.609Z"
   },
   {
    "duration": 36,
    "start_time": "2021-07-16T19:15:27.621Z"
   },
   {
    "duration": 15,
    "start_time": "2021-07-16T19:15:27.660Z"
   },
   {
    "duration": 989,
    "start_time": "2021-07-16T21:15:09.752Z"
   },
   {
    "duration": 38,
    "start_time": "2021-07-16T21:15:10.743Z"
   },
   {
    "duration": 9,
    "start_time": "2021-07-16T21:15:10.785Z"
   },
   {
    "duration": 11,
    "start_time": "2021-07-16T21:15:10.796Z"
   },
   {
    "duration": 18,
    "start_time": "2021-07-16T21:15:10.808Z"
   },
   {
    "duration": 256,
    "start_time": "2021-07-16T21:15:10.827Z"
   },
   {
    "duration": 179,
    "start_time": "2021-07-16T21:15:11.085Z"
   },
   {
    "duration": 205,
    "start_time": "2021-07-16T21:15:11.265Z"
   },
   {
    "duration": 336,
    "start_time": "2021-07-16T21:15:11.471Z"
   },
   {
    "duration": 214,
    "start_time": "2021-07-16T21:15:11.809Z"
   },
   {
    "duration": 450,
    "start_time": "2021-07-16T21:15:12.025Z"
   },
   {
    "duration": 4,
    "start_time": "2021-07-16T21:15:12.477Z"
   },
   {
    "duration": 24,
    "start_time": "2021-07-16T21:15:12.482Z"
   },
   {
    "duration": 8,
    "start_time": "2021-07-16T21:15:12.508Z"
   },
   {
    "duration": 6,
    "start_time": "2021-07-16T21:15:12.517Z"
   },
   {
    "duration": 9,
    "start_time": "2021-07-16T21:15:12.524Z"
   },
   {
    "duration": 41,
    "start_time": "2021-07-16T21:31:15.730Z"
   },
   {
    "duration": 6,
    "start_time": "2021-07-16T21:35:18.589Z"
   },
   {
    "duration": 9,
    "start_time": "2021-07-16T21:35:19.816Z"
   },
   {
    "duration": 291,
    "start_time": "2021-07-16T21:36:03.788Z"
   },
   {
    "duration": 229,
    "start_time": "2021-07-16T21:37:06.202Z"
   },
   {
    "duration": 214,
    "start_time": "2021-07-16T21:37:32.013Z"
   },
   {
    "duration": 238,
    "start_time": "2021-07-16T21:38:21.307Z"
   },
   {
    "duration": 230,
    "start_time": "2021-07-16T21:41:00.427Z"
   },
   {
    "duration": 222,
    "start_time": "2021-07-16T21:41:10.058Z"
   },
   {
    "duration": 221,
    "start_time": "2021-07-16T21:41:51.837Z"
   },
   {
    "duration": 4,
    "start_time": "2021-07-16T21:42:18.610Z"
   },
   {
    "duration": 218,
    "start_time": "2021-07-16T21:42:23.195Z"
   },
   {
    "duration": 1637,
    "start_time": "2021-07-16T21:42:30.739Z"
   },
   {
    "duration": 1495,
    "start_time": "2021-07-16T21:43:57.936Z"
   },
   {
    "duration": 1529,
    "start_time": "2021-07-16T21:44:16.543Z"
   },
   {
    "duration": 1544,
    "start_time": "2021-07-16T21:44:29.534Z"
   },
   {
    "duration": 512356,
    "start_time": "2021-07-16T21:44:47.282Z"
   },
   {
    "duration": 4,
    "start_time": "2021-07-16T21:53:19.640Z"
   },
   {
    "duration": 4,
    "start_time": "2021-07-16T22:16:17.090Z"
   },
   {
    "duration": 7,
    "start_time": "2021-07-16T22:22:53.593Z"
   },
   {
    "duration": 3,
    "start_time": "2021-07-16T22:29:49.507Z"
   },
   {
    "duration": 4,
    "start_time": "2021-07-16T22:29:50.771Z"
   },
   {
    "duration": 234,
    "start_time": "2021-07-16T22:29:56.833Z"
   },
   {
    "duration": 4,
    "start_time": "2021-07-16T22:30:25.978Z"
   },
   {
    "duration": 385,
    "start_time": "2021-07-16T22:30:30.653Z"
   },
   {
    "duration": 4,
    "start_time": "2021-07-16T22:31:15.605Z"
   },
   {
    "duration": 248,
    "start_time": "2021-07-16T22:31:21.041Z"
   },
   {
    "duration": 261,
    "start_time": "2021-07-16T22:40:11.901Z"
   },
   {
    "duration": 263,
    "start_time": "2021-07-16T22:40:18.608Z"
   },
   {
    "duration": 248,
    "start_time": "2021-07-16T22:42:06.309Z"
   },
   {
    "duration": 241,
    "start_time": "2021-07-16T22:42:13.485Z"
   },
   {
    "duration": 875,
    "start_time": "2021-07-16T22:43:03.687Z"
   },
   {
    "duration": 227,
    "start_time": "2021-07-16T22:43:53.767Z"
   },
   {
    "duration": 4,
    "start_time": "2021-07-16T22:50:11.304Z"
   },
   {
    "duration": 369089,
    "start_time": "2021-07-16T22:50:12.408Z"
   },
   {
    "duration": 96736,
    "start_time": "2021-07-16T22:59:46.210Z"
   },
   {
    "duration": 56,
    "start_time": "2021-07-16T23:01:22.892Z"
   },
   {
    "duration": 3,
    "start_time": "2021-07-16T23:01:27.244Z"
   },
   {
    "duration": 1975,
    "start_time": "2021-07-16T23:01:30.304Z"
   },
   {
    "duration": 1498,
    "start_time": "2021-07-16T23:01:58.976Z"
   },
   {
    "duration": 33,
    "start_time": "2021-07-16T23:04:49.303Z"
   },
   {
    "duration": 10,
    "start_time": "2021-07-16T23:04:57.313Z"
   },
   {
    "duration": 6,
    "start_time": "2021-07-16T23:04:58.145Z"
   },
   {
    "duration": 97,
    "start_time": "2021-07-16T23:05:01.401Z"
   },
   {
    "duration": 3,
    "start_time": "2021-07-16T23:05:16.598Z"
   },
   {
    "duration": 252,
    "start_time": "2021-07-16T23:06:12.674Z"
   },
   {
    "duration": 237,
    "start_time": "2021-07-16T23:06:39.284Z"
   },
   {
    "duration": 234,
    "start_time": "2021-07-16T23:06:51.651Z"
   },
   {
    "duration": 225,
    "start_time": "2021-07-16T23:07:03.461Z"
   },
   {
    "duration": 224,
    "start_time": "2021-07-16T23:07:13.606Z"
   },
   {
    "duration": 255,
    "start_time": "2021-07-16T23:12:02.180Z"
   },
   {
    "duration": 3,
    "start_time": "2021-07-16T23:12:16.275Z"
   },
   {
    "duration": 3,
    "start_time": "2021-07-16T23:15:07.777Z"
   },
   {
    "duration": 3,
    "start_time": "2021-07-16T23:15:15.793Z"
   },
   {
    "duration": 1027,
    "start_time": "2021-07-16T23:18:42.935Z"
   },
   {
    "duration": 38,
    "start_time": "2021-07-16T23:18:43.964Z"
   },
   {
    "duration": 9,
    "start_time": "2021-07-16T23:18:44.003Z"
   },
   {
    "duration": 14,
    "start_time": "2021-07-16T23:18:44.014Z"
   },
   {
    "duration": 18,
    "start_time": "2021-07-16T23:18:44.029Z"
   },
   {
    "duration": 256,
    "start_time": "2021-07-16T23:18:44.048Z"
   },
   {
    "duration": 170,
    "start_time": "2021-07-16T23:18:44.305Z"
   },
   {
    "duration": 164,
    "start_time": "2021-07-16T23:18:44.477Z"
   },
   {
    "duration": 336,
    "start_time": "2021-07-16T23:18:44.644Z"
   },
   {
    "duration": 228,
    "start_time": "2021-07-16T23:18:44.982Z"
   },
   {
    "duration": 448,
    "start_time": "2021-07-16T23:18:45.211Z"
   },
   {
    "duration": 3,
    "start_time": "2021-07-16T23:18:45.661Z"
   },
   {
    "duration": 40,
    "start_time": "2021-07-16T23:18:45.665Z"
   },
   {
    "duration": 7,
    "start_time": "2021-07-16T23:18:45.706Z"
   },
   {
    "duration": 5,
    "start_time": "2021-07-16T23:18:45.715Z"
   },
   {
    "duration": 172,
    "start_time": "2021-07-16T23:18:45.721Z"
   },
   {
    "duration": 2,
    "start_time": "2021-07-16T23:18:45.894Z"
   },
   {
    "duration": 259106,
    "start_time": "2021-07-16T23:18:45.898Z"
   },
   {
    "duration": -4,
    "start_time": "2021-07-16T23:23:05.010Z"
   },
   {
    "duration": -6,
    "start_time": "2021-07-16T23:23:05.013Z"
   },
   {
    "duration": -9,
    "start_time": "2021-07-16T23:23:05.017Z"
   },
   {
    "duration": -10,
    "start_time": "2021-07-16T23:23:05.020Z"
   },
   {
    "duration": -13,
    "start_time": "2021-07-16T23:23:05.023Z"
   },
   {
    "duration": 3,
    "start_time": "2021-07-16T23:23:07.386Z"
   },
   {
    "duration": 92957,
    "start_time": "2021-07-16T23:23:08.131Z"
   },
   {
    "duration": 46558,
    "start_time": "2021-07-16T23:24:42.573Z"
   },
   {
    "duration": 336385,
    "start_time": "2021-07-16T23:25:45.445Z"
   },
   {
    "duration": 1168,
    "start_time": "2021-07-16T23:31:29.330Z"
   },
   {
    "duration": 41,
    "start_time": "2021-07-16T23:31:30.500Z"
   },
   {
    "duration": 10,
    "start_time": "2021-07-16T23:31:30.543Z"
   },
   {
    "duration": 32,
    "start_time": "2021-07-16T23:31:30.555Z"
   },
   {
    "duration": 33,
    "start_time": "2021-07-16T23:31:30.589Z"
   },
   {
    "duration": 258,
    "start_time": "2021-07-16T23:31:30.624Z"
   },
   {
    "duration": 173,
    "start_time": "2021-07-16T23:31:30.883Z"
   },
   {
    "duration": 172,
    "start_time": "2021-07-16T23:31:31.058Z"
   },
   {
    "duration": 430,
    "start_time": "2021-07-16T23:31:31.232Z"
   },
   {
    "duration": 275,
    "start_time": "2021-07-16T23:31:31.663Z"
   },
   {
    "duration": 461,
    "start_time": "2021-07-16T23:31:31.940Z"
   },
   {
    "duration": 3,
    "start_time": "2021-07-16T23:31:32.403Z"
   },
   {
    "duration": 57,
    "start_time": "2021-07-16T23:31:32.407Z"
   },
   {
    "duration": 8,
    "start_time": "2021-07-16T23:31:32.466Z"
   },
   {
    "duration": 4,
    "start_time": "2021-07-16T23:31:32.475Z"
   },
   {
    "duration": 211,
    "start_time": "2021-07-16T23:31:32.481Z"
   },
   {
    "duration": 1032,
    "start_time": "2021-07-16T23:33:42.543Z"
   },
   {
    "duration": 38,
    "start_time": "2021-07-16T23:33:43.577Z"
   },
   {
    "duration": 8,
    "start_time": "2021-07-16T23:33:43.619Z"
   },
   {
    "duration": 14,
    "start_time": "2021-07-16T23:33:43.629Z"
   },
   {
    "duration": 17,
    "start_time": "2021-07-16T23:33:43.644Z"
   },
   {
    "duration": 256,
    "start_time": "2021-07-16T23:33:43.662Z"
   },
   {
    "duration": 177,
    "start_time": "2021-07-16T23:33:43.920Z"
   },
   {
    "duration": 168,
    "start_time": "2021-07-16T23:33:44.099Z"
   },
   {
    "duration": 343,
    "start_time": "2021-07-16T23:33:44.269Z"
   },
   {
    "duration": 219,
    "start_time": "2021-07-16T23:33:44.613Z"
   },
   {
    "duration": 443,
    "start_time": "2021-07-16T23:33:44.834Z"
   },
   {
    "duration": 3,
    "start_time": "2021-07-16T23:33:45.279Z"
   },
   {
    "duration": 26,
    "start_time": "2021-07-16T23:33:45.283Z"
   },
   {
    "duration": 6,
    "start_time": "2021-07-16T23:33:45.310Z"
   },
   {
    "duration": 5,
    "start_time": "2021-07-16T23:33:45.318Z"
   },
   {
    "duration": 9,
    "start_time": "2021-07-16T23:33:45.324Z"
   },
   {
    "duration": 208884,
    "start_time": "2021-07-16T23:33:45.335Z"
   },
   {
    "duration": 24428,
    "start_time": "2021-07-16T23:37:22.508Z"
   },
   {
    "duration": 146843,
    "start_time": "2021-07-16T23:37:51.704Z"
   },
   {
    "duration": 50036,
    "start_time": "2021-07-16T23:40:22.227Z"
   },
   {
    "duration": 319918,
    "start_time": "2021-07-16T23:41:13.387Z"
   },
   {
    "duration": 236,
    "start_time": "2021-07-16T23:47:05.689Z"
   },
   {
    "duration": 226,
    "start_time": "2021-07-16T23:47:22.114Z"
   },
   {
    "duration": 222,
    "start_time": "2021-07-16T23:47:31.509Z"
   },
   {
    "duration": 213,
    "start_time": "2021-07-16T23:47:37.957Z"
   },
   {
    "duration": 215,
    "start_time": "2021-07-16T23:49:40.230Z"
   },
   {
    "duration": 213,
    "start_time": "2021-07-16T23:49:48.593Z"
   },
   {
    "duration": 227,
    "start_time": "2021-07-16T23:53:23.466Z"
   },
   {
    "duration": 261,
    "start_time": "2021-07-16T23:54:42.704Z"
   },
   {
    "duration": 245,
    "start_time": "2021-07-16T23:56:32.090Z"
   },
   {
    "duration": 222,
    "start_time": "2021-07-16T23:56:49.385Z"
   },
   {
    "duration": 297,
    "start_time": "2021-07-16T23:56:52.448Z"
   },
   {
    "duration": 4,
    "start_time": "2021-07-16T23:58:54.444Z"
   },
   {
    "duration": 331757,
    "start_time": "2021-07-16T23:59:00.299Z"
   },
   {
    "duration": 232,
    "start_time": "2021-07-17T00:08:00.852Z"
   },
   {
    "duration": 15,
    "start_time": "2021-07-17T00:08:40.333Z"
   },
   {
    "duration": 240,
    "start_time": "2021-07-17T00:08:46.023Z"
   },
   {
    "duration": 50700,
    "start_time": "2021-07-17T00:15:16.758Z"
   },
   {
    "duration": 120100,
    "start_time": "2021-07-17T00:16:16.643Z"
   },
   {
    "duration": 232,
    "start_time": "2021-07-17T00:43:36.365Z"
   },
   {
    "duration": 4745,
    "start_time": "2021-07-17T00:55:08.064Z"
   },
   {
    "duration": 381735,
    "start_time": "2021-07-17T00:55:24.017Z"
   },
   {
    "duration": 153508,
    "start_time": "2021-07-17T01:01:49.071Z"
   },
   {
    "duration": 4,
    "start_time": "2021-07-17T01:15:42.116Z"
   },
   {
    "duration": 4,
    "start_time": "2021-07-17T01:15:55.520Z"
   },
   {
    "duration": 925874,
    "start_time": "2021-07-17T01:16:29.830Z"
   },
   {
    "duration": 201751,
    "start_time": "2021-07-17T01:32:04.141Z"
   },
   {
    "duration": 843522,
    "start_time": "2021-07-17T01:35:46.057Z"
   },
   {
    "duration": 566721,
    "start_time": "2021-07-17T01:49:50.776Z"
   },
   {
    "duration": 160495,
    "start_time": "2021-07-17T01:59:38.107Z"
   },
   {
    "duration": 19458,
    "start_time": "2021-07-17T02:09:33.380Z"
   },
   {
    "duration": 131836,
    "start_time": "2021-07-17T02:10:00.118Z"
   },
   {
    "duration": 106992,
    "start_time": "2021-07-17T02:12:13.434Z"
   },
   {
    "duration": 4,
    "start_time": "2021-07-17T02:14:07.298Z"
   },
   {
    "duration": 4,
    "start_time": "2021-07-17T02:14:11.764Z"
   },
   {
    "duration": 405876,
    "start_time": "2021-07-17T02:14:51.577Z"
   },
   {
    "duration": 15059,
    "start_time": "2021-07-17T02:22:31.286Z"
   },
   {
    "duration": 16339,
    "start_time": "2021-07-17T02:23:23.963Z"
   },
   {
    "duration": 4,
    "start_time": "2021-07-17T02:24:44.879Z"
   },
   {
    "duration": 15812,
    "start_time": "2021-07-17T02:24:54.767Z"
   },
   {
    "duration": 225,
    "start_time": "2021-07-17T02:46:13.199Z"
   },
   {
    "duration": 237,
    "start_time": "2021-07-17T02:46:37.702Z"
   },
   {
    "duration": 228,
    "start_time": "2021-07-17T02:46:46.544Z"
   },
   {
    "duration": 237,
    "start_time": "2021-07-17T02:46:58.771Z"
   },
   {
    "duration": 1558,
    "start_time": "2021-07-17T09:19:11.550Z"
   },
   {
    "duration": 55,
    "start_time": "2021-07-17T09:19:13.111Z"
   },
   {
    "duration": 15,
    "start_time": "2021-07-17T09:19:13.170Z"
   },
   {
    "duration": 18,
    "start_time": "2021-07-17T09:19:13.189Z"
   },
   {
    "duration": 68,
    "start_time": "2021-07-17T09:19:13.210Z"
   },
   {
    "duration": 458,
    "start_time": "2021-07-17T09:19:13.280Z"
   },
   {
    "duration": 338,
    "start_time": "2021-07-17T09:19:13.741Z"
   },
   {
    "duration": 338,
    "start_time": "2021-07-17T09:19:14.086Z"
   },
   {
    "duration": 654,
    "start_time": "2021-07-17T09:19:14.428Z"
   },
   {
    "duration": 374,
    "start_time": "2021-07-17T09:19:15.086Z"
   },
   {
    "duration": 876,
    "start_time": "2021-07-17T09:19:15.463Z"
   },
   {
    "duration": 16,
    "start_time": "2021-07-17T09:19:16.342Z"
   },
   {
    "duration": 48,
    "start_time": "2021-07-17T09:19:16.360Z"
   },
   {
    "duration": 10,
    "start_time": "2021-07-17T09:19:16.410Z"
   },
   {
    "duration": 6,
    "start_time": "2021-07-17T09:19:16.423Z"
   },
   {
    "duration": 32,
    "start_time": "2021-07-17T09:19:16.431Z"
   },
   {
    "duration": 23938,
    "start_time": "2021-07-17T09:19:16.467Z"
   },
   {
    "duration": 89,
    "start_time": "2021-07-17T09:19:40.318Z"
   },
   {
    "duration": 88,
    "start_time": "2021-07-17T09:19:40.321Z"
   },
   {
    "duration": 87,
    "start_time": "2021-07-17T09:19:40.323Z"
   },
   {
    "duration": 88,
    "start_time": "2021-07-17T09:19:40.324Z"
   },
   {
    "duration": 87,
    "start_time": "2021-07-17T09:19:40.326Z"
   },
   {
    "duration": 55,
    "start_time": "2021-07-17T09:27:18.997Z"
   },
   {
    "duration": 14,
    "start_time": "2021-07-17T09:27:27.641Z"
   },
   {
    "duration": 7,
    "start_time": "2021-07-17T09:27:28.264Z"
   },
   {
    "duration": 263,
    "start_time": "2021-07-17T09:32:58.189Z"
   },
   {
    "duration": 292,
    "start_time": "2021-07-17T09:33:20.830Z"
   },
   {
    "duration": 312,
    "start_time": "2021-07-17T09:40:01.139Z"
   },
   {
    "duration": 292,
    "start_time": "2021-07-17T09:41:16.614Z"
   },
   {
    "duration": 72629,
    "start_time": "2021-07-17T09:41:30.926Z"
   },
   {
    "duration": 1570,
    "start_time": "2021-07-17T09:43:00.119Z"
   },
   {
    "duration": 52,
    "start_time": "2021-07-17T09:43:01.692Z"
   },
   {
    "duration": 12,
    "start_time": "2021-07-17T09:43:01.747Z"
   },
   {
    "duration": 19,
    "start_time": "2021-07-17T09:43:01.762Z"
   },
   {
    "duration": 33,
    "start_time": "2021-07-17T09:43:01.783Z"
   },
   {
    "duration": 505,
    "start_time": "2021-07-17T09:43:01.818Z"
   },
   {
    "duration": 338,
    "start_time": "2021-07-17T09:43:02.326Z"
   },
   {
    "duration": 316,
    "start_time": "2021-07-17T09:43:02.667Z"
   },
   {
    "duration": 641,
    "start_time": "2021-07-17T09:43:02.986Z"
   },
   {
    "duration": 375,
    "start_time": "2021-07-17T09:43:03.630Z"
   },
   {
    "duration": 882,
    "start_time": "2021-07-17T09:43:04.007Z"
   },
   {
    "duration": 5,
    "start_time": "2021-07-17T09:43:04.892Z"
   },
   {
    "duration": 81,
    "start_time": "2021-07-17T09:43:04.899Z"
   },
   {
    "duration": 13,
    "start_time": "2021-07-17T09:43:04.983Z"
   },
   {
    "duration": 8,
    "start_time": "2021-07-17T09:43:04.999Z"
   },
   {
    "duration": 147,
    "start_time": "2021-07-17T09:43:05.009Z"
   },
   {
    "duration": 2144646,
    "start_time": "2021-07-17T09:43:05.159Z"
   },
   {
    "duration": -2062,
    "start_time": "2021-07-17T10:18:51.870Z"
   },
   {
    "duration": -2063,
    "start_time": "2021-07-17T10:18:51.873Z"
   },
   {
    "duration": -2165,
    "start_time": "2021-07-17T10:18:51.977Z"
   },
   {
    "duration": -2166,
    "start_time": "2021-07-17T10:18:51.980Z"
   },
   {
    "duration": -2167,
    "start_time": "2021-07-17T10:18:51.982Z"
   },
   {
    "duration": -2167,
    "start_time": "2021-07-17T10:18:51.984Z"
   },
   {
    "duration": 52,
    "start_time": "2021-07-17T10:20:11.421Z"
   },
   {
    "duration": 159839,
    "start_time": "2021-07-17T10:20:11.824Z"
   },
   {
    "duration": 212700,
    "start_time": "2021-07-17T10:23:30.599Z"
   },
   {
    "duration": 297,
    "start_time": "2021-07-17T10:29:10.366Z"
   },
   {
    "duration": 279207,
    "start_time": "2021-07-17T10:32:43.151Z"
   },
   {
    "duration": 5,
    "start_time": "2021-07-17T10:37:59.081Z"
   },
   {
    "duration": 6,
    "start_time": "2021-07-17T10:38:23.759Z"
   },
   {
    "duration": 6,
    "start_time": "2021-07-17T10:42:39.260Z"
   },
   {
    "duration": 733075,
    "start_time": "2021-07-17T10:44:47.909Z"
   },
   {
    "duration": 6,
    "start_time": "2021-07-17T10:58:00.145Z"
   },
   {
    "duration": 285,
    "start_time": "2021-07-17T10:59:04.273Z"
   },
   {
    "duration": 1251018,
    "start_time": "2021-07-17T10:59:50.846Z"
   },
   {
    "duration": 6,
    "start_time": "2021-07-17T11:20:47.768Z"
   },
   {
    "duration": 6,
    "start_time": "2021-07-17T11:21:04.663Z"
   },
   {
    "duration": 5,
    "start_time": "2021-07-17T11:21:11.872Z"
   },
   {
    "duration": 5,
    "start_time": "2021-07-17T11:21:16.891Z"
   },
   {
    "duration": 187767,
    "start_time": "2021-07-17T11:23:10.867Z"
   },
   {
    "duration": 5,
    "start_time": "2021-07-17T11:26:39.486Z"
   },
   {
    "duration": 291374,
    "start_time": "2021-07-17T11:27:06.390Z"
   },
   {
    "duration": 6,
    "start_time": "2021-07-17T11:32:09.595Z"
   },
   {
    "duration": 641760,
    "start_time": "2021-07-17T11:32:29.685Z"
   },
   {
    "duration": 5,
    "start_time": "2021-07-17T11:43:11.447Z"
   },
   {
    "duration": 5,
    "start_time": "2021-07-17T11:51:50.624Z"
   },
   {
    "duration": 6,
    "start_time": "2021-07-17T11:51:54.054Z"
   },
   {
    "duration": 6,
    "start_time": "2021-07-17T11:52:19.565Z"
   },
   {
    "duration": 6,
    "start_time": "2021-07-17T11:52:27.935Z"
   },
   {
    "duration": 150873,
    "start_time": "2021-07-17T11:53:30.993Z"
   },
   {
    "duration": 6,
    "start_time": "2021-07-17T11:57:30.153Z"
   },
   {
    "duration": 6,
    "start_time": "2021-07-17T11:57:35.878Z"
   },
   {
    "duration": 5,
    "start_time": "2021-07-17T11:57:48.026Z"
   },
   {
    "duration": 5,
    "start_time": "2021-07-17T12:00:26.964Z"
   },
   {
    "duration": 5,
    "start_time": "2021-07-17T12:01:16.965Z"
   },
   {
    "duration": 153,
    "start_time": "2021-07-17T12:01:57.402Z"
   },
   {
    "duration": 5,
    "start_time": "2021-07-17T12:03:07.136Z"
   },
   {
    "duration": 5,
    "start_time": "2021-07-17T12:03:23.284Z"
   },
   {
    "duration": 288,
    "start_time": "2021-07-17T12:11:45.022Z"
   },
   {
    "duration": 266,
    "start_time": "2021-07-17T12:13:52.447Z"
   },
   {
    "duration": 25408,
    "start_time": "2021-07-17T12:18:50.132Z"
   },
   {
    "duration": 16,
    "start_time": "2021-07-17T12:21:52.687Z"
   },
   {
    "duration": 12,
    "start_time": "2021-07-17T12:23:33.710Z"
   },
   {
    "duration": 19,
    "start_time": "2021-07-17T12:24:08.319Z"
   },
   {
    "duration": 9257,
    "start_time": "2021-07-17T12:24:09.281Z"
   },
   {
    "duration": -761,
    "start_time": "2021-07-17T12:24:19.301Z"
   },
   {
    "duration": 300,
    "start_time": "2021-07-17T12:24:21.357Z"
   },
   {
    "duration": 2083,
    "start_time": "2021-07-17T12:25:26.462Z"
   },
   {
    "duration": 74,
    "start_time": "2021-07-17T12:25:28.549Z"
   },
   {
    "duration": 31,
    "start_time": "2021-07-17T12:25:28.627Z"
   },
   {
    "duration": 23,
    "start_time": "2021-07-17T12:25:28.661Z"
   },
   {
    "duration": 71,
    "start_time": "2021-07-17T12:25:28.687Z"
   },
   {
    "duration": 506,
    "start_time": "2021-07-17T12:25:28.761Z"
   },
   {
    "duration": 339,
    "start_time": "2021-07-17T12:25:29.270Z"
   },
   {
    "duration": 339,
    "start_time": "2021-07-17T12:25:29.615Z"
   },
   {
    "duration": 808,
    "start_time": "2021-07-17T12:25:29.957Z"
   },
   {
    "duration": 390,
    "start_time": "2021-07-17T12:25:30.768Z"
   },
   {
    "duration": 903,
    "start_time": "2021-07-17T12:25:31.160Z"
   },
   {
    "duration": 6,
    "start_time": "2021-07-17T12:25:32.066Z"
   },
   {
    "duration": 83,
    "start_time": "2021-07-17T12:25:32.074Z"
   },
   {
    "duration": 14,
    "start_time": "2021-07-17T12:25:32.160Z"
   },
   {
    "duration": 7,
    "start_time": "2021-07-17T12:25:32.177Z"
   },
   {
    "duration": 74,
    "start_time": "2021-07-17T12:25:32.187Z"
   },
   {
    "duration": 21,
    "start_time": "2021-07-17T12:25:32.354Z"
   },
   {
    "duration": 441562,
    "start_time": "2021-07-17T12:25:32.379Z"
   },
   {
    "duration": 4,
    "start_time": "2021-07-17T12:32:53.944Z"
   },
   {
    "duration": 6,
    "start_time": "2021-07-17T12:32:53.951Z"
   },
   {
    "duration": 151236,
    "start_time": "2021-07-17T12:52:02.423Z"
   },
   {
    "duration": 1397,
    "start_time": "2021-07-17T18:56:57.320Z"
   },
   {
    "duration": 53,
    "start_time": "2021-07-17T18:56:58.719Z"
   },
   {
    "duration": 12,
    "start_time": "2021-07-17T18:56:58.775Z"
   },
   {
    "duration": 18,
    "start_time": "2021-07-17T18:56:58.801Z"
   },
   {
    "duration": 29,
    "start_time": "2021-07-17T18:56:58.821Z"
   },
   {
    "duration": 459,
    "start_time": "2021-07-17T18:56:58.852Z"
   },
   {
    "duration": 302,
    "start_time": "2021-07-17T18:56:59.314Z"
   },
   {
    "duration": 300,
    "start_time": "2021-07-17T18:56:59.620Z"
   },
   {
    "duration": 618,
    "start_time": "2021-07-17T18:56:59.923Z"
   },
   {
    "duration": 349,
    "start_time": "2021-07-17T18:57:00.543Z"
   },
   {
    "duration": 847,
    "start_time": "2021-07-17T18:57:00.899Z"
   },
   {
    "duration": 5,
    "start_time": "2021-07-17T18:57:01.749Z"
   },
   {
    "duration": 79,
    "start_time": "2021-07-17T18:57:01.756Z"
   },
   {
    "duration": 14,
    "start_time": "2021-07-17T18:57:01.837Z"
   },
   {
    "duration": 12,
    "start_time": "2021-07-17T18:57:01.853Z"
   },
   {
    "duration": 138,
    "start_time": "2021-07-17T18:57:01.868Z"
   },
   {
    "duration": 105,
    "start_time": "2021-07-17T18:57:02.009Z"
   },
   {
    "duration": 428888,
    "start_time": "2021-07-17T18:57:02.117Z"
   },
   {
    "duration": 6,
    "start_time": "2021-07-17T19:04:11.008Z"
   },
   {
    "duration": 11,
    "start_time": "2021-07-17T19:04:11.017Z"
   },
   {
    "duration": 144378,
    "start_time": "2021-07-17T19:04:11.031Z"
   },
   {
    "duration": 5,
    "start_time": "2021-07-17T19:06:35.411Z"
   },
   {
    "duration": 8,
    "start_time": "2021-07-17T19:06:35.420Z"
   },
   {
    "duration": 405,
    "start_time": "2021-07-17T19:06:35.431Z"
   },
   {
    "duration": -87,
    "start_time": "2021-07-17T19:06:35.925Z"
   },
   {
    "duration": 303,
    "start_time": "2021-07-17T19:13:53.702Z"
   },
   {
    "duration": 31,
    "start_time": "2021-07-17T19:14:20.630Z"
   },
   {
    "duration": 260,
    "start_time": "2021-07-17T19:14:28.691Z"
   },
   {
    "duration": 40460,
    "start_time": "2021-07-17T19:15:01.284Z"
   },
   {
    "duration": 6,
    "start_time": "2021-07-17T19:16:36.279Z"
   },
   {
    "duration": 40384,
    "start_time": "2021-07-17T19:19:00.381Z"
   },
   {
    "duration": 5,
    "start_time": "2021-07-17T19:19:45.528Z"
   },
   {
    "duration": 5,
    "start_time": "2021-07-17T19:20:11.562Z"
   },
   {
    "duration": 5,
    "start_time": "2021-07-17T19:20:19.742Z"
   },
   {
    "duration": 5,
    "start_time": "2021-07-17T19:21:02.918Z"
   },
   {
    "duration": 5,
    "start_time": "2021-07-17T19:21:27.546Z"
   },
   {
    "duration": 285,
    "start_time": "2021-07-17T19:29:15.150Z"
   },
   {
    "duration": 294,
    "start_time": "2021-07-17T19:29:22.631Z"
   },
   {
    "duration": 189,
    "start_time": "2021-07-17T19:31:47.011Z"
   },
   {
    "duration": 90,
    "start_time": "2021-07-17T19:32:28.615Z"
   },
   {
    "duration": 5553,
    "start_time": "2021-07-17T19:38:44.060Z"
   },
   {
    "duration": 5867,
    "start_time": "2021-07-17T19:40:48.942Z"
   },
   {
    "duration": 5202,
    "start_time": "2021-07-17T19:40:56.202Z"
   },
   {
    "duration": 1906,
    "start_time": "2021-07-17T19:43:38.205Z"
   },
   {
    "duration": 26,
    "start_time": "2021-07-17T19:46:28.193Z"
   },
   {
    "duration": 363,
    "start_time": "2021-07-17T19:54:23.041Z"
   },
   {
    "duration": 555,
    "start_time": "2021-07-17T19:54:42.170Z"
   },
   {
    "duration": 1465,
    "start_time": "2021-07-17T20:11:13.164Z"
   },
   {
    "duration": 51,
    "start_time": "2021-07-17T20:11:14.631Z"
   },
   {
    "duration": 16,
    "start_time": "2021-07-17T20:11:14.685Z"
   },
   {
    "duration": 18,
    "start_time": "2021-07-17T20:11:14.704Z"
   },
   {
    "duration": 32,
    "start_time": "2021-07-17T20:11:14.724Z"
   },
   {
    "duration": 492,
    "start_time": "2021-07-17T20:11:14.758Z"
   },
   {
    "duration": 298,
    "start_time": "2021-07-17T20:11:15.253Z"
   },
   {
    "duration": 309,
    "start_time": "2021-07-17T20:11:15.556Z"
   },
   {
    "duration": 643,
    "start_time": "2021-07-17T20:11:15.868Z"
   },
   {
    "duration": 367,
    "start_time": "2021-07-17T20:11:16.513Z"
   },
   {
    "duration": 859,
    "start_time": "2021-07-17T20:11:16.882Z"
   },
   {
    "duration": 7,
    "start_time": "2021-07-17T20:11:17.744Z"
   },
   {
    "duration": 80,
    "start_time": "2021-07-17T20:11:17.754Z"
   },
   {
    "duration": 13,
    "start_time": "2021-07-17T20:11:17.837Z"
   },
   {
    "duration": 7,
    "start_time": "2021-07-17T20:11:17.853Z"
   },
   {
    "duration": 239,
    "start_time": "2021-07-17T20:11:17.862Z"
   },
   {
    "duration": 11,
    "start_time": "2021-07-17T20:11:18.104Z"
   },
   {
    "duration": 430578,
    "start_time": "2021-07-17T20:11:18.118Z"
   },
   {
    "duration": 4,
    "start_time": "2021-07-17T20:18:28.699Z"
   },
   {
    "duration": 7,
    "start_time": "2021-07-17T20:18:28.706Z"
   },
   {
    "duration": 149891,
    "start_time": "2021-07-17T20:18:28.715Z"
   },
   {
    "duration": 5,
    "start_time": "2021-07-17T20:20:58.608Z"
   },
   {
    "duration": 5,
    "start_time": "2021-07-17T20:20:58.618Z"
   },
   {
    "duration": 5183,
    "start_time": "2021-07-17T20:20:58.625Z"
   },
   {
    "duration": 2192,
    "start_time": "2021-07-17T20:21:03.811Z"
   },
   {
    "duration": 17,
    "start_time": "2021-07-17T20:21:06.005Z"
   },
   {
    "duration": 692,
    "start_time": "2021-07-17T20:21:06.025Z"
   },
   {
    "duration": 1908,
    "start_time": "2021-07-18T03:52:24.852Z"
   },
   {
    "duration": 59,
    "start_time": "2021-07-18T03:52:26.763Z"
   },
   {
    "duration": 13,
    "start_time": "2021-07-18T03:52:26.825Z"
   },
   {
    "duration": 21,
    "start_time": "2021-07-18T03:52:29.741Z"
   },
   {
    "duration": 415,
    "start_time": "2021-07-18T03:52:55.738Z"
   },
   {
    "duration": 33,
    "start_time": "2021-07-18T03:53:00.467Z"
   },
   {
    "duration": 452,
    "start_time": "2021-07-18T03:53:01.151Z"
   },
   {
    "duration": 397,
    "start_time": "2021-07-18T03:53:02.813Z"
   },
   {
    "duration": 324,
    "start_time": "2021-07-18T03:53:03.781Z"
   },
   {
    "duration": 705,
    "start_time": "2021-07-18T03:53:04.625Z"
   },
   {
    "duration": 372,
    "start_time": "2021-07-18T03:53:05.333Z"
   },
   {
    "duration": 839,
    "start_time": "2021-07-18T03:53:09.746Z"
   },
   {
    "duration": 6,
    "start_time": "2021-07-18T03:53:30.542Z"
   },
   {
    "duration": 60,
    "start_time": "2021-07-18T03:53:34.888Z"
   },
   {
    "duration": 15,
    "start_time": "2021-07-18T03:53:40.570Z"
   },
   {
    "duration": 7,
    "start_time": "2021-07-18T03:53:40.850Z"
   },
   {
    "duration": 86,
    "start_time": "2021-07-18T09:48:04.548Z"
   },
   {
    "duration": 312,
    "start_time": "2021-07-18T09:48:23.201Z"
   },
   {
    "duration": 93,
    "start_time": "2021-07-18T09:58:14.218Z"
   },
   {
    "duration": 95,
    "start_time": "2021-07-18T10:18:18.104Z"
   },
   {
    "duration": 86,
    "start_time": "2021-07-18T10:27:25.638Z"
   },
   {
    "duration": 103,
    "start_time": "2021-07-18T10:33:21.471Z"
   },
   {
    "duration": 1544,
    "start_time": "2021-07-18T10:33:49.611Z"
   },
   {
    "duration": 140,
    "start_time": "2021-07-18T10:33:51.157Z"
   },
   {
    "duration": 20,
    "start_time": "2021-07-18T10:33:51.301Z"
   },
   {
    "duration": 23,
    "start_time": "2021-07-18T10:33:51.324Z"
   },
   {
    "duration": 67,
    "start_time": "2021-07-18T10:33:51.350Z"
   },
   {
    "duration": 488,
    "start_time": "2021-07-18T10:33:51.420Z"
   },
   {
    "duration": 350,
    "start_time": "2021-07-18T10:33:51.911Z"
   },
   {
    "duration": 329,
    "start_time": "2021-07-18T10:33:52.265Z"
   },
   {
    "duration": 682,
    "start_time": "2021-07-18T10:33:52.597Z"
   },
   {
    "duration": 377,
    "start_time": "2021-07-18T10:33:53.282Z"
   },
   {
    "duration": 902,
    "start_time": "2021-07-18T10:33:53.662Z"
   },
   {
    "duration": 6,
    "start_time": "2021-07-18T10:33:54.566Z"
   },
   {
    "duration": 44,
    "start_time": "2021-07-18T10:33:54.574Z"
   },
   {
    "duration": 11,
    "start_time": "2021-07-18T10:33:54.621Z"
   },
   {
    "duration": 8,
    "start_time": "2021-07-18T10:33:54.635Z"
   },
   {
    "duration": 12,
    "start_time": "2021-07-18T10:33:54.646Z"
   },
   {
    "duration": 57,
    "start_time": "2021-07-18T10:33:54.660Z"
   },
   {
    "duration": 655067,
    "start_time": "2021-07-18T10:33:54.720Z"
   },
   {
    "duration": 5,
    "start_time": "2021-07-18T10:44:49.790Z"
   },
   {
    "duration": 7,
    "start_time": "2021-07-18T10:44:49.798Z"
   },
   {
    "duration": 699602,
    "start_time": "2021-07-18T10:44:49.809Z"
   },
   {
    "duration": 5,
    "start_time": "2021-07-18T10:56:29.413Z"
   },
   {
    "duration": 5,
    "start_time": "2021-07-18T10:56:29.501Z"
   },
   {
    "duration": 4040,
    "start_time": "2021-07-18T10:56:29.508Z"
   },
   {
    "duration": 1460,
    "start_time": "2021-07-18T10:56:33.551Z"
   },
   {
    "duration": 94,
    "start_time": "2021-07-18T10:56:35.013Z"
   },
   {
    "duration": 645,
    "start_time": "2021-07-18T10:56:35.110Z"
   },
   {
    "duration": 2477,
    "start_time": "2021-07-18T10:57:34.663Z"
   },
   {
    "duration": 938,
    "start_time": "2021-07-18T10:57:42.062Z"
   },
   {
    "duration": 21,
    "start_time": "2021-07-18T10:57:46.238Z"
   },
   {
    "duration": 20,
    "start_time": "2021-07-18T10:59:48.205Z"
   },
   {
    "duration": 22,
    "start_time": "2021-07-18T10:59:52.775Z"
   },
   {
    "duration": 19,
    "start_time": "2021-07-18T11:00:04.228Z"
   },
   {
    "duration": 1570,
    "start_time": "2021-07-18T11:02:14.980Z"
   },
   {
    "duration": 53,
    "start_time": "2021-07-18T11:02:16.553Z"
   },
   {
    "duration": 13,
    "start_time": "2021-07-18T11:02:16.609Z"
   },
   {
    "duration": 18,
    "start_time": "2021-07-18T11:02:16.625Z"
   },
   {
    "duration": 60,
    "start_time": "2021-07-18T11:02:16.645Z"
   },
   {
    "duration": 473,
    "start_time": "2021-07-18T11:02:16.708Z"
   },
   {
    "duration": 344,
    "start_time": "2021-07-18T11:02:17.184Z"
   },
   {
    "duration": 315,
    "start_time": "2021-07-18T11:02:17.532Z"
   },
   {
    "duration": 641,
    "start_time": "2021-07-18T11:02:17.850Z"
   },
   {
    "duration": 368,
    "start_time": "2021-07-18T11:02:18.500Z"
   },
   {
    "duration": 911,
    "start_time": "2021-07-18T11:02:18.871Z"
   },
   {
    "duration": 16,
    "start_time": "2021-07-18T11:02:19.785Z"
   },
   {
    "duration": 29,
    "start_time": "2021-07-18T11:02:19.804Z"
   },
   {
    "duration": 13,
    "start_time": "2021-07-18T11:02:19.836Z"
   },
   {
    "duration": 13,
    "start_time": "2021-07-18T11:02:19.852Z"
   },
   {
    "duration": 41,
    "start_time": "2021-07-18T11:02:19.868Z"
   },
   {
    "duration": 28,
    "start_time": "2021-07-18T11:02:19.912Z"
   },
   {
    "duration": 634237,
    "start_time": "2021-07-18T11:02:19.944Z"
   },
   {
    "duration": 5,
    "start_time": "2021-07-18T11:12:54.184Z"
   },
   {
    "duration": 7,
    "start_time": "2021-07-18T11:12:54.192Z"
   },
   {
    "duration": 1291,
    "start_time": "2021-07-19T04:56:59.296Z"
   },
   {
    "duration": 44,
    "start_time": "2021-07-19T04:57:00.589Z"
   },
   {
    "duration": 8,
    "start_time": "2021-07-19T04:57:00.635Z"
   },
   {
    "duration": 20,
    "start_time": "2021-07-19T04:57:00.644Z"
   },
   {
    "duration": 19,
    "start_time": "2021-07-19T04:57:01.337Z"
   },
   {
    "duration": 61934,
    "start_time": "2021-07-19T04:57:01.941Z"
   },
   {
    "duration": 234,
    "start_time": "2021-07-19T04:58:03.877Z"
   },
   {
    "duration": 166,
    "start_time": "2021-07-19T04:58:04.113Z"
   },
   {
    "duration": 347,
    "start_time": "2021-07-19T04:58:04.281Z"
   },
   {
    "duration": 160,
    "start_time": "2021-07-19T04:58:04.630Z"
   },
   {
    "duration": 441,
    "start_time": "2021-07-19T04:58:04.792Z"
   },
   {
    "duration": 5,
    "start_time": "2021-07-19T04:58:05.235Z"
   },
   {
    "duration": 14,
    "start_time": "2021-07-19T04:58:05.244Z"
   },
   {
    "duration": 6,
    "start_time": "2021-07-19T04:58:05.260Z"
   },
   {
    "duration": 5,
    "start_time": "2021-07-19T04:58:05.268Z"
   },
   {
    "duration": 8,
    "start_time": "2021-07-19T04:58:05.275Z"
   },
   {
    "duration": 14,
    "start_time": "2021-07-19T04:58:05.285Z"
   },
   {
    "duration": 612332,
    "start_time": "2021-07-19T04:58:05.301Z"
   },
   {
    "duration": 4,
    "start_time": "2021-07-19T05:08:17.634Z"
   },
   {
    "duration": 6,
    "start_time": "2021-07-19T05:08:17.639Z"
   },
   {
    "duration": 1260704,
    "start_time": "2021-07-19T05:08:17.647Z"
   },
   {
    "duration": 4,
    "start_time": "2021-07-19T05:29:18.352Z"
   },
   {
    "duration": 7,
    "start_time": "2021-07-19T05:29:18.357Z"
   },
   {
    "duration": 2297,
    "start_time": "2021-07-19T05:29:18.365Z"
   },
   {
    "duration": 483,
    "start_time": "2021-07-19T05:29:20.664Z"
   },
   {
    "duration": 95,
    "start_time": "2021-07-19T05:29:21.149Z"
   },
   {
    "duration": 397,
    "start_time": "2021-07-19T05:29:21.245Z"
   }
  ],
  "kernelspec": {
   "display_name": "Python 3",
   "language": "python",
   "name": "python3"
  },
  "language_info": {
   "codemirror_mode": {
    "name": "ipython",
    "version": 3
   },
   "file_extension": ".py",
   "mimetype": "text/x-python",
   "name": "python",
   "nbconvert_exporter": "python",
   "pygments_lexer": "ipython3",
   "version": "3.8.5"
  },
  "toc": {
   "base_numbering": 1,
   "nav_menu": {},
   "number_sections": true,
   "sideBar": true,
   "skip_h1_title": true,
   "title_cell": "Содержание",
   "title_sidebar": "Contents",
   "toc_cell": true,
   "toc_position": {
    "height": "calc(100% - 180px)",
    "left": "10px",
    "top": "150px",
    "width": "171.391px"
   },
   "toc_section_display": true,
   "toc_window_display": false
  }
 },
 "nbformat": 4,
 "nbformat_minor": 2
}
