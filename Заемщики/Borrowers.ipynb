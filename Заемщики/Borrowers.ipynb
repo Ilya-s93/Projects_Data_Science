{
 "cells": [
  {
   "cell_type": "markdown",
   "metadata": {},
   "source": [
    "## Загрузка файла и просмотр данных"
   ]
  },
  {
   "cell_type": "code",
   "execution_count": 1,
   "metadata": {},
   "outputs": [
    {
     "data": {
      "text/html": [
       "<div>\n",
       "<style scoped>\n",
       "    .dataframe tbody tr th:only-of-type {\n",
       "        vertical-align: middle;\n",
       "    }\n",
       "\n",
       "    .dataframe tbody tr th {\n",
       "        vertical-align: top;\n",
       "    }\n",
       "\n",
       "    .dataframe thead th {\n",
       "        text-align: right;\n",
       "    }\n",
       "</style>\n",
       "<table border=\"1\" class=\"dataframe\">\n",
       "  <thead>\n",
       "    <tr style=\"text-align: right;\">\n",
       "      <th></th>\n",
       "      <th>children</th>\n",
       "      <th>days_employed</th>\n",
       "      <th>dob_years</th>\n",
       "      <th>education</th>\n",
       "      <th>education_id</th>\n",
       "      <th>family_status</th>\n",
       "      <th>family_status_id</th>\n",
       "      <th>gender</th>\n",
       "      <th>income_type</th>\n",
       "      <th>debt</th>\n",
       "      <th>total_income</th>\n",
       "      <th>purpose</th>\n",
       "    </tr>\n",
       "  </thead>\n",
       "  <tbody>\n",
       "    <tr>\n",
       "      <th>0</th>\n",
       "      <td>1</td>\n",
       "      <td>-8437.673028</td>\n",
       "      <td>42</td>\n",
       "      <td>высшее</td>\n",
       "      <td>0</td>\n",
       "      <td>женат / замужем</td>\n",
       "      <td>0</td>\n",
       "      <td>F</td>\n",
       "      <td>сотрудник</td>\n",
       "      <td>0</td>\n",
       "      <td>253875.639453</td>\n",
       "      <td>покупка жилья</td>\n",
       "    </tr>\n",
       "    <tr>\n",
       "      <th>1</th>\n",
       "      <td>1</td>\n",
       "      <td>-4024.803754</td>\n",
       "      <td>36</td>\n",
       "      <td>среднее</td>\n",
       "      <td>1</td>\n",
       "      <td>женат / замужем</td>\n",
       "      <td>0</td>\n",
       "      <td>F</td>\n",
       "      <td>сотрудник</td>\n",
       "      <td>0</td>\n",
       "      <td>112080.014102</td>\n",
       "      <td>приобретение автомобиля</td>\n",
       "    </tr>\n",
       "    <tr>\n",
       "      <th>2</th>\n",
       "      <td>0</td>\n",
       "      <td>-5623.422610</td>\n",
       "      <td>33</td>\n",
       "      <td>Среднее</td>\n",
       "      <td>1</td>\n",
       "      <td>женат / замужем</td>\n",
       "      <td>0</td>\n",
       "      <td>M</td>\n",
       "      <td>сотрудник</td>\n",
       "      <td>0</td>\n",
       "      <td>145885.952297</td>\n",
       "      <td>покупка жилья</td>\n",
       "    </tr>\n",
       "    <tr>\n",
       "      <th>3</th>\n",
       "      <td>3</td>\n",
       "      <td>-4124.747207</td>\n",
       "      <td>32</td>\n",
       "      <td>среднее</td>\n",
       "      <td>1</td>\n",
       "      <td>женат / замужем</td>\n",
       "      <td>0</td>\n",
       "      <td>M</td>\n",
       "      <td>сотрудник</td>\n",
       "      <td>0</td>\n",
       "      <td>267628.550329</td>\n",
       "      <td>дополнительное образование</td>\n",
       "    </tr>\n",
       "    <tr>\n",
       "      <th>4</th>\n",
       "      <td>0</td>\n",
       "      <td>340266.072047</td>\n",
       "      <td>53</td>\n",
       "      <td>среднее</td>\n",
       "      <td>1</td>\n",
       "      <td>гражданский брак</td>\n",
       "      <td>1</td>\n",
       "      <td>F</td>\n",
       "      <td>пенсионер</td>\n",
       "      <td>0</td>\n",
       "      <td>158616.077870</td>\n",
       "      <td>сыграть свадьбу</td>\n",
       "    </tr>\n",
       "  </tbody>\n",
       "</table>\n",
       "</div>"
      ],
      "text/plain": [
       "   children  days_employed  dob_years education  education_id  \\\n",
       "0         1   -8437.673028         42    высшее             0   \n",
       "1         1   -4024.803754         36   среднее             1   \n",
       "2         0   -5623.422610         33   Среднее             1   \n",
       "3         3   -4124.747207         32   среднее             1   \n",
       "4         0  340266.072047         53   среднее             1   \n",
       "\n",
       "      family_status  family_status_id gender income_type  debt   total_income  \\\n",
       "0   женат / замужем                 0      F   сотрудник     0  253875.639453   \n",
       "1   женат / замужем                 0      F   сотрудник     0  112080.014102   \n",
       "2   женат / замужем                 0      M   сотрудник     0  145885.952297   \n",
       "3   женат / замужем                 0      M   сотрудник     0  267628.550329   \n",
       "4  гражданский брак                 1      F   пенсионер     0  158616.077870   \n",
       "\n",
       "                      purpose  \n",
       "0               покупка жилья  \n",
       "1     приобретение автомобиля  \n",
       "2               покупка жилья  \n",
       "3  дополнительное образование  \n",
       "4             сыграть свадьбу  "
      ]
     },
     "execution_count": 1,
     "metadata": {},
     "output_type": "execute_result"
    }
   ],
   "source": [
    "import pandas as pd\n",
    "\n",
    "data = pd.read_csv('./data.csv')\n",
    "\n",
    "#вывели 5 первых строк\n",
    "data.head()"
   ]
  },
  {
   "cell_type": "code",
   "execution_count": 2,
   "metadata": {},
   "outputs": [
    {
     "name": "stdout",
     "output_type": "stream",
     "text": [
      "<class 'pandas.core.frame.DataFrame'>\n",
      "RangeIndex: 21525 entries, 0 to 21524\n",
      "Data columns (total 12 columns):\n",
      " #   Column            Non-Null Count  Dtype  \n",
      "---  ------            --------------  -----  \n",
      " 0   children          21525 non-null  int64  \n",
      " 1   days_employed     19351 non-null  float64\n",
      " 2   dob_years         21525 non-null  int64  \n",
      " 3   education         21525 non-null  object \n",
      " 4   education_id      21525 non-null  int64  \n",
      " 5   family_status     21525 non-null  object \n",
      " 6   family_status_id  21525 non-null  int64  \n",
      " 7   gender            21525 non-null  object \n",
      " 8   income_type       21525 non-null  object \n",
      " 9   debt              21525 non-null  int64  \n",
      " 10  total_income      19351 non-null  float64\n",
      " 11  purpose           21525 non-null  object \n",
      "dtypes: float64(2), int64(5), object(5)\n",
      "memory usage: 2.0+ MB\n"
     ]
    }
   ],
   "source": [
    "#информация о таблицы\n",
    "data.info()"
   ]
  },
  {
   "cell_type": "markdown",
   "metadata": {},
   "source": [
    "У нас в датасет 12 столбцов:\n",
    "\n",
    "* children — количество детей в семье\n",
    "* days_employed — общий трудовой стаж в днях\n",
    "* dob_years — возраст клиента в годах\n",
    "* education — уровень образования клиента\n",
    "* education_id — идентификатор уровня образования\n",
    "* family_status — семейное положение\n",
    "* family_status_id — идентификатор семейного положения\n",
    "* gender — пол клиента\n",
    "* income_type — тип занятости\n",
    "* debt — имел ли задолженность по возврату кредитов\n",
    "* total_income — ежемесячный доход\n",
    "* purpose — цель получения кредита\n"
   ]
  },
  {
   "cell_type": "markdown",
   "metadata": {},
   "source": [
    "Вывод: \n",
    "\n",
    "Таблица содержит клиентов, которые подают заявки на получения кредита. У нас есть пропуски в стобцах days_employed и total_income. Нужно поменять тип данных 'dob_years' на целое число."
   ]
  },
  {
   "cell_type": "markdown",
   "metadata": {},
   "source": [
    " ## Шаг 2. Предобработка данных"
   ]
  },
  {
   "cell_type": "markdown",
   "metadata": {},
   "source": [
    "### Обработка пропусков"
   ]
  },
  {
   "cell_type": "code",
   "execution_count": 3,
   "metadata": {},
   "outputs": [
    {
     "data": {
      "text/plain": [
       "children               0\n",
       "days_employed       2174\n",
       "dob_years              0\n",
       "education              0\n",
       "education_id           0\n",
       "family_status          0\n",
       "family_status_id       0\n",
       "gender                 0\n",
       "income_type            0\n",
       "debt                   0\n",
       "total_income        2174\n",
       "purpose                0\n",
       "dtype: int64"
      ]
     },
     "execution_count": 3,
     "metadata": {},
     "output_type": "execute_result"
    }
   ],
   "source": [
    "data.isnull().sum()"
   ]
  },
  {
   "cell_type": "code",
   "execution_count": 4,
   "metadata": {
    "scrolled": true
   },
   "outputs": [
    {
     "data": {
      "text/html": [
       "<div>\n",
       "<style scoped>\n",
       "    .dataframe tbody tr th:only-of-type {\n",
       "        vertical-align: middle;\n",
       "    }\n",
       "\n",
       "    .dataframe tbody tr th {\n",
       "        vertical-align: top;\n",
       "    }\n",
       "\n",
       "    .dataframe thead th {\n",
       "        text-align: right;\n",
       "    }\n",
       "</style>\n",
       "<table border=\"1\" class=\"dataframe\">\n",
       "  <thead>\n",
       "    <tr style=\"text-align: right;\">\n",
       "      <th></th>\n",
       "      <th>children</th>\n",
       "      <th>days_employed</th>\n",
       "      <th>dob_years</th>\n",
       "      <th>education</th>\n",
       "      <th>education_id</th>\n",
       "      <th>family_status</th>\n",
       "      <th>family_status_id</th>\n",
       "      <th>gender</th>\n",
       "      <th>income_type</th>\n",
       "      <th>debt</th>\n",
       "      <th>total_income</th>\n",
       "      <th>purpose</th>\n",
       "    </tr>\n",
       "  </thead>\n",
       "  <tbody>\n",
       "    <tr>\n",
       "      <th>0</th>\n",
       "      <td>1</td>\n",
       "      <td>-8437.673028</td>\n",
       "      <td>42</td>\n",
       "      <td>высшее</td>\n",
       "      <td>0</td>\n",
       "      <td>женат / замужем</td>\n",
       "      <td>0</td>\n",
       "      <td>F</td>\n",
       "      <td>сотрудник</td>\n",
       "      <td>0</td>\n",
       "      <td>253875.639453</td>\n",
       "      <td>покупка жилья</td>\n",
       "    </tr>\n",
       "    <tr>\n",
       "      <th>1</th>\n",
       "      <td>1</td>\n",
       "      <td>-4024.803754</td>\n",
       "      <td>36</td>\n",
       "      <td>среднее</td>\n",
       "      <td>1</td>\n",
       "      <td>женат / замужем</td>\n",
       "      <td>0</td>\n",
       "      <td>F</td>\n",
       "      <td>сотрудник</td>\n",
       "      <td>0</td>\n",
       "      <td>112080.014102</td>\n",
       "      <td>приобретение автомобиля</td>\n",
       "    </tr>\n",
       "    <tr>\n",
       "      <th>2</th>\n",
       "      <td>0</td>\n",
       "      <td>-5623.422610</td>\n",
       "      <td>33</td>\n",
       "      <td>Среднее</td>\n",
       "      <td>1</td>\n",
       "      <td>женат / замужем</td>\n",
       "      <td>0</td>\n",
       "      <td>M</td>\n",
       "      <td>сотрудник</td>\n",
       "      <td>0</td>\n",
       "      <td>145885.952297</td>\n",
       "      <td>покупка жилья</td>\n",
       "    </tr>\n",
       "    <tr>\n",
       "      <th>3</th>\n",
       "      <td>3</td>\n",
       "      <td>-4124.747207</td>\n",
       "      <td>32</td>\n",
       "      <td>среднее</td>\n",
       "      <td>1</td>\n",
       "      <td>женат / замужем</td>\n",
       "      <td>0</td>\n",
       "      <td>M</td>\n",
       "      <td>сотрудник</td>\n",
       "      <td>0</td>\n",
       "      <td>267628.550329</td>\n",
       "      <td>дополнительное образование</td>\n",
       "    </tr>\n",
       "    <tr>\n",
       "      <th>4</th>\n",
       "      <td>0</td>\n",
       "      <td>340266.072047</td>\n",
       "      <td>53</td>\n",
       "      <td>среднее</td>\n",
       "      <td>1</td>\n",
       "      <td>гражданский брак</td>\n",
       "      <td>1</td>\n",
       "      <td>F</td>\n",
       "      <td>пенсионер</td>\n",
       "      <td>0</td>\n",
       "      <td>158616.077870</td>\n",
       "      <td>сыграть свадьбу</td>\n",
       "    </tr>\n",
       "    <tr>\n",
       "      <th>...</th>\n",
       "      <td>...</td>\n",
       "      <td>...</td>\n",
       "      <td>...</td>\n",
       "      <td>...</td>\n",
       "      <td>...</td>\n",
       "      <td>...</td>\n",
       "      <td>...</td>\n",
       "      <td>...</td>\n",
       "      <td>...</td>\n",
       "      <td>...</td>\n",
       "      <td>...</td>\n",
       "      <td>...</td>\n",
       "    </tr>\n",
       "    <tr>\n",
       "      <th>21520</th>\n",
       "      <td>1</td>\n",
       "      <td>-4529.316663</td>\n",
       "      <td>43</td>\n",
       "      <td>среднее</td>\n",
       "      <td>1</td>\n",
       "      <td>гражданский брак</td>\n",
       "      <td>1</td>\n",
       "      <td>F</td>\n",
       "      <td>компаньон</td>\n",
       "      <td>0</td>\n",
       "      <td>224791.862382</td>\n",
       "      <td>операции с жильем</td>\n",
       "    </tr>\n",
       "    <tr>\n",
       "      <th>21521</th>\n",
       "      <td>0</td>\n",
       "      <td>343937.404131</td>\n",
       "      <td>67</td>\n",
       "      <td>среднее</td>\n",
       "      <td>1</td>\n",
       "      <td>женат / замужем</td>\n",
       "      <td>0</td>\n",
       "      <td>F</td>\n",
       "      <td>пенсионер</td>\n",
       "      <td>0</td>\n",
       "      <td>155999.806512</td>\n",
       "      <td>сделка с автомобилем</td>\n",
       "    </tr>\n",
       "    <tr>\n",
       "      <th>21522</th>\n",
       "      <td>1</td>\n",
       "      <td>-2113.346888</td>\n",
       "      <td>38</td>\n",
       "      <td>среднее</td>\n",
       "      <td>1</td>\n",
       "      <td>гражданский брак</td>\n",
       "      <td>1</td>\n",
       "      <td>M</td>\n",
       "      <td>сотрудник</td>\n",
       "      <td>1</td>\n",
       "      <td>89672.561153</td>\n",
       "      <td>недвижимость</td>\n",
       "    </tr>\n",
       "    <tr>\n",
       "      <th>21523</th>\n",
       "      <td>3</td>\n",
       "      <td>-3112.481705</td>\n",
       "      <td>38</td>\n",
       "      <td>среднее</td>\n",
       "      <td>1</td>\n",
       "      <td>женат / замужем</td>\n",
       "      <td>0</td>\n",
       "      <td>M</td>\n",
       "      <td>сотрудник</td>\n",
       "      <td>1</td>\n",
       "      <td>244093.050500</td>\n",
       "      <td>на покупку своего автомобиля</td>\n",
       "    </tr>\n",
       "    <tr>\n",
       "      <th>21524</th>\n",
       "      <td>2</td>\n",
       "      <td>-1984.507589</td>\n",
       "      <td>40</td>\n",
       "      <td>среднее</td>\n",
       "      <td>1</td>\n",
       "      <td>женат / замужем</td>\n",
       "      <td>0</td>\n",
       "      <td>F</td>\n",
       "      <td>сотрудник</td>\n",
       "      <td>0</td>\n",
       "      <td>82047.418899</td>\n",
       "      <td>на покупку автомобиля</td>\n",
       "    </tr>\n",
       "  </tbody>\n",
       "</table>\n",
       "<p>21525 rows × 12 columns</p>\n",
       "</div>"
      ],
      "text/plain": [
       "       children  days_employed  dob_years education  education_id  \\\n",
       "0             1   -8437.673028         42    высшее             0   \n",
       "1             1   -4024.803754         36   среднее             1   \n",
       "2             0   -5623.422610         33   Среднее             1   \n",
       "3             3   -4124.747207         32   среднее             1   \n",
       "4             0  340266.072047         53   среднее             1   \n",
       "...         ...            ...        ...       ...           ...   \n",
       "21520         1   -4529.316663         43   среднее             1   \n",
       "21521         0  343937.404131         67   среднее             1   \n",
       "21522         1   -2113.346888         38   среднее             1   \n",
       "21523         3   -3112.481705         38   среднее             1   \n",
       "21524         2   -1984.507589         40   среднее             1   \n",
       "\n",
       "          family_status  family_status_id gender income_type  debt  \\\n",
       "0       женат / замужем                 0      F   сотрудник     0   \n",
       "1       женат / замужем                 0      F   сотрудник     0   \n",
       "2       женат / замужем                 0      M   сотрудник     0   \n",
       "3       женат / замужем                 0      M   сотрудник     0   \n",
       "4      гражданский брак                 1      F   пенсионер     0   \n",
       "...                 ...               ...    ...         ...   ...   \n",
       "21520  гражданский брак                 1      F   компаньон     0   \n",
       "21521   женат / замужем                 0      F   пенсионер     0   \n",
       "21522  гражданский брак                 1      M   сотрудник     1   \n",
       "21523   женат / замужем                 0      M   сотрудник     1   \n",
       "21524   женат / замужем                 0      F   сотрудник     0   \n",
       "\n",
       "        total_income                       purpose  \n",
       "0      253875.639453                 покупка жилья  \n",
       "1      112080.014102       приобретение автомобиля  \n",
       "2      145885.952297                 покупка жилья  \n",
       "3      267628.550329    дополнительное образование  \n",
       "4      158616.077870               сыграть свадьбу  \n",
       "...              ...                           ...  \n",
       "21520  224791.862382             операции с жильем  \n",
       "21521  155999.806512          сделка с автомобилем  \n",
       "21522   89672.561153                  недвижимость  \n",
       "21523  244093.050500  на покупку своего автомобиля  \n",
       "21524   82047.418899         на покупку автомобиля  \n",
       "\n",
       "[21525 rows x 12 columns]"
      ]
     },
     "execution_count": 4,
     "metadata": {},
     "output_type": "execute_result"
    }
   ],
   "source": [
    "data.fillna({\n",
    "    \"days_employed\": data['days_employed'].median(),\n",
    "    \"total_income\": data['total_income'].median()\n",
    "})"
   ]
  },
  {
   "cell_type": "markdown",
   "metadata": {},
   "source": [
    "Обнаружили пропуски в столбцах 'days_employed' и 'total_income' - их одинаковое количество, возможно клиенты не знают какой у них трудовой стаж и доход, либо просто скрывают, поэтому заменим на среднее значени каждого столбца."
   ]
  },
  {
   "cell_type": "code",
   "execution_count": 5,
   "metadata": {},
   "outputs": [
    {
     "data": {
      "text/html": [
       "<div>\n",
       "<style scoped>\n",
       "    .dataframe tbody tr th:only-of-type {\n",
       "        vertical-align: middle;\n",
       "    }\n",
       "\n",
       "    .dataframe tbody tr th {\n",
       "        vertical-align: top;\n",
       "    }\n",
       "\n",
       "    .dataframe thead th {\n",
       "        text-align: right;\n",
       "    }\n",
       "</style>\n",
       "<table border=\"1\" class=\"dataframe\">\n",
       "  <thead>\n",
       "    <tr style=\"text-align: right;\">\n",
       "      <th></th>\n",
       "      <th>children</th>\n",
       "      <th>days_employed</th>\n",
       "      <th>dob_years</th>\n",
       "      <th>education</th>\n",
       "      <th>education_id</th>\n",
       "      <th>family_status</th>\n",
       "      <th>family_status_id</th>\n",
       "      <th>gender</th>\n",
       "      <th>income_type</th>\n",
       "      <th>debt</th>\n",
       "      <th>total_income</th>\n",
       "      <th>purpose</th>\n",
       "    </tr>\n",
       "  </thead>\n",
       "  <tbody>\n",
       "    <tr>\n",
       "      <th>10701</th>\n",
       "      <td>0</td>\n",
       "      <td>-2358.600502</td>\n",
       "      <td>24</td>\n",
       "      <td>неоконченное высшее</td>\n",
       "      <td>2</td>\n",
       "      <td>гражданский брак</td>\n",
       "      <td>1</td>\n",
       "      <td>XNA</td>\n",
       "      <td>компаньон</td>\n",
       "      <td>0</td>\n",
       "      <td>203905.157261</td>\n",
       "      <td>покупка недвижимости</td>\n",
       "    </tr>\n",
       "  </tbody>\n",
       "</table>\n",
       "</div>"
      ],
      "text/plain": [
       "       children  days_employed  dob_years            education  education_id  \\\n",
       "10701         0   -2358.600502         24  неоконченное высшее             2   \n",
       "\n",
       "          family_status  family_status_id gender income_type  debt  \\\n",
       "10701  гражданский брак                 1    XNA   компаньон     0   \n",
       "\n",
       "        total_income               purpose  \n",
       "10701  203905.157261  покупка недвижимости  "
      ]
     },
     "execution_count": 5,
     "metadata": {},
     "output_type": "execute_result"
    }
   ],
   "source": [
    "#посмотрим уникальные значени столбца пол\n",
    "data['gender'].unique()\n",
    "#просмотр XNA значения\n",
    "data[data['gender'] == 'XNA'] "
   ]
  },
  {
   "cell_type": "code",
   "execution_count": 6,
   "metadata": {},
   "outputs": [
    {
     "data": {
      "text/plain": [
       "F    14237\n",
       "M     7288\n",
       "Name: gender, dtype: int64"
      ]
     },
     "execution_count": 6,
     "metadata": {},
     "output_type": "execute_result"
    }
   ],
   "source": [
    "#заменим XNA на F (заменили на F, так как его больше всего)\n",
    "data.loc[data['gender'] == 'XNA', 'gender'] = 'F'\n",
    "data['gender'].value_counts() "
   ]
  },
  {
   "cell_type": "code",
   "execution_count": 7,
   "metadata": {},
   "outputs": [
    {
     "data": {
      "text/plain": [
       "35    617\n",
       "40    609\n",
       "41    607\n",
       "34    603\n",
       "38    598\n",
       "42    597\n",
       "33    581\n",
       "39    573\n",
       "31    560\n",
       "36    555\n",
       "44    547\n",
       "29    545\n",
       "30    540\n",
       "48    538\n",
       "37    537\n",
       "50    514\n",
       "43    513\n",
       "32    510\n",
       "49    508\n",
       "28    503\n",
       "45    497\n",
       "27    493\n",
       "56    487\n",
       "52    484\n",
       "47    480\n",
       "54    479\n",
       "46    475\n",
       "58    461\n",
       "57    460\n",
       "53    459\n",
       "51    448\n",
       "59    444\n",
       "55    443\n",
       "26    408\n",
       "60    377\n",
       "25    357\n",
       "61    355\n",
       "62    352\n",
       "63    269\n",
       "64    265\n",
       "24    264\n",
       "23    254\n",
       "65    194\n",
       "66    183\n",
       "22    183\n",
       "67    167\n",
       "21    111\n",
       "0     101\n",
       "68     99\n",
       "69     85\n",
       "70     65\n",
       "71     58\n",
       "20     51\n",
       "72     33\n",
       "19     14\n",
       "73      8\n",
       "74      6\n",
       "75      1\n",
       "Name: dob_years, dtype: int64"
      ]
     },
     "execution_count": 7,
     "metadata": {},
     "output_type": "execute_result"
    }
   ],
   "source": [
    "#посмотрим возраст(есть 0)\n",
    "data['dob_years'].value_counts()"
   ]
  },
  {
   "cell_type": "code",
   "execution_count": 8,
   "metadata": {},
   "outputs": [
    {
     "data": {
      "text/plain": [
       "Series([], Name: dob_years, dtype: float64)"
      ]
     },
     "execution_count": 8,
     "metadata": {},
     "output_type": "execute_result"
    }
   ],
   "source": [
    "mean_years = data.loc[data['dob_years'] != 0, 'dob_years'].mean() #посчитать среднее значение, кроме нуля, с помощтю mean()\n",
    "data.loc[data['dob_years'] == 0, 'dob_years'] = mean_years #замена 0 на среднее\n",
    "data.loc[data['dob_years'] == 0, 'dob_years'] #проверка"
   ]
  },
  {
   "cell_type": "markdown",
   "metadata": {},
   "source": [
    "Заменили XNA на F в таблице 'gender' и в таблице dob_years вместо 0 указали средний возраст."
   ]
  },
  {
   "cell_type": "markdown",
   "metadata": {},
   "source": [
    "### Замена типа данных"
   ]
  },
  {
   "cell_type": "code",
   "execution_count": 9,
   "metadata": {},
   "outputs": [
    {
     "name": "stdout",
     "output_type": "stream",
     "text": [
      "<class 'pandas.core.frame.DataFrame'>\n",
      "RangeIndex: 21525 entries, 0 to 21524\n",
      "Data columns (total 12 columns):\n",
      " #   Column            Non-Null Count  Dtype  \n",
      "---  ------            --------------  -----  \n",
      " 0   children          21525 non-null  int64  \n",
      " 1   days_employed     19351 non-null  float64\n",
      " 2   dob_years         21525 non-null  float64\n",
      " 3   education         21525 non-null  object \n",
      " 4   education_id      21525 non-null  int64  \n",
      " 5   family_status     21525 non-null  object \n",
      " 6   family_status_id  21525 non-null  int64  \n",
      " 7   gender            21525 non-null  object \n",
      " 8   income_type       21525 non-null  object \n",
      " 9   debt              21525 non-null  int64  \n",
      " 10  total_income      19351 non-null  float64\n",
      " 11  purpose           21525 non-null  object \n",
      "dtypes: float64(3), int64(4), object(5)\n",
      "memory usage: 2.0+ MB\n"
     ]
    }
   ],
   "source": [
    "#просмотр типа данных\n",
    "data.info()"
   ]
  },
  {
   "cell_type": "code",
   "execution_count": 10,
   "metadata": {},
   "outputs": [
    {
     "data": {
      "text/plain": [
       "dtype('int64')"
      ]
     },
     "execution_count": 10,
     "metadata": {},
     "output_type": "execute_result"
    }
   ],
   "source": [
    "data['dob_years'] = data['dob_years'].astype(int)\n",
    "data['dob_years'].dtypes"
   ]
  },
  {
   "cell_type": "markdown",
   "metadata": {},
   "source": [
    "Исправили тип данных в таблице dob_years"
   ]
  },
  {
   "cell_type": "markdown",
   "metadata": {},
   "source": [
    "### Обработка дубликатов"
   ]
  },
  {
   "cell_type": "code",
   "execution_count": 11,
   "metadata": {},
   "outputs": [
    {
     "data": {
      "text/plain": [
       "array(['высшее', 'среднее', 'неоконченное высшее', 'начальное',\n",
       "       'ученая степень'], dtype=object)"
      ]
     },
     "execution_count": 11,
     "metadata": {},
     "output_type": "execute_result"
    }
   ],
   "source": [
    "data['education'].unique()\n",
    "#измененили на нижний регистр\n",
    "data['education'] = data['education'].str.lower()\n",
    "data['education'].unique()"
   ]
  },
  {
   "cell_type": "code",
   "execution_count": 12,
   "metadata": {},
   "outputs": [
    {
     "data": {
      "text/plain": [
       "array(['женат / замужем', 'гражданский брак', 'вдовец / вдова',\n",
       "       'в разводе', 'не женат / не замужем'], dtype=object)"
      ]
     },
     "execution_count": 12,
     "metadata": {},
     "output_type": "execute_result"
    }
   ],
   "source": [
    "data['family_status'].unique()\n",
    "data['family_status'] = data['family_status'].str.lower()\n",
    "data['family_status'].unique()"
   ]
  },
  {
   "cell_type": "code",
   "execution_count": 13,
   "metadata": {},
   "outputs": [
    {
     "data": {
      "text/plain": [
       "0"
      ]
     },
     "execution_count": 13,
     "metadata": {},
     "output_type": "execute_result"
    }
   ],
   "source": [
    "data.duplicated().sum()\n",
    "#удалили дубликаты и предыдущие индексы\n",
    "data = data.drop_duplicates().reset_index(drop = True)\n",
    "data.duplicated().sum()"
   ]
  },
  {
   "cell_type": "markdown",
   "metadata": {},
   "source": [
    "В таблице были заглывные буквы, привели к общему регистру. Выявили 71 дубликат, возможно клиенты повторно подавали заявки на кредит или ошибки в данных. Удалили дубликаты для достоверного анализа."
   ]
  },
  {
   "cell_type": "markdown",
   "metadata": {},
   "source": [
    "### Лемматизация"
   ]
  },
  {
   "cell_type": "code",
   "execution_count": 14,
   "metadata": {},
   "outputs": [
    {
     "data": {
      "text/plain": [
       "свадьба                                   791\n",
       "на проведение свадьбы                     768\n",
       "сыграть свадьбу                           765\n",
       "операции с недвижимостью                  675\n",
       "покупка коммерческой недвижимости         661\n",
       "операции с жильем                         652\n",
       "покупка жилья для сдачи                   651\n",
       "операции с коммерческой недвижимостью     650\n",
       "покупка жилья                             646\n",
       "жилье                                     646\n",
       "покупка жилья для семьи                   638\n",
       "строительство собственной недвижимости    635\n",
       "недвижимость                              633\n",
       "операции со своей недвижимостью           627\n",
       "строительство жилой недвижимости          624\n",
       "покупка недвижимости                      621\n",
       "покупка своего жилья                      620\n",
       "строительство недвижимости                619\n",
       "ремонт жилью                              607\n",
       "покупка жилой недвижимости                606\n",
       "на покупку своего автомобиля              505\n",
       "заняться высшим образованием              496\n",
       "автомобиль                                494\n",
       "сделка с подержанным автомобилем          486\n",
       "автомобили                                478\n",
       "на покупку подержанного автомобиля        478\n",
       "свой автомобиль                           478\n",
       "на покупку автомобиля                     471\n",
       "приобретение автомобиля                   461\n",
       "дополнительное образование                460\n",
       "сделка с автомобилем                      455\n",
       "высшее образование                        452\n",
       "образование                               447\n",
       "получение дополнительного образования     446\n",
       "получение образования                     442\n",
       "профильное образование                    436\n",
       "получение высшего образования             426\n",
       "заняться образованием                     408\n",
       "Name: purpose, dtype: int64"
      ]
     },
     "execution_count": 14,
     "metadata": {},
     "output_type": "execute_result"
    }
   ],
   "source": [
    "#просмотр данных\n",
    "data['purpose'].value_counts()"
   ]
  },
  {
   "cell_type": "code",
   "execution_count": 15,
   "metadata": {},
   "outputs": [
    {
     "data": {
      "text/plain": [
       "недвижимость    10811\n",
       "автомобиль       4306\n",
       "образование      4013\n",
       "свадьба          2324\n",
       "Name: purpose_lemma, dtype: int64"
      ]
     },
     "execution_count": 15,
     "metadata": {},
     "output_type": "execute_result"
    }
   ],
   "source": [
    "from pymystem3 import Mystem\n",
    "m = Mystem() \n",
    "\n",
    "#напишем функцию, которая будет находить ключевые слова из столбца 'purpose'\n",
    "def lemma_row(data): \n",
    "            row = m.lemmatize(data)\n",
    "            if 'образование' in row:\n",
    "                return 'образование'\n",
    "            elif 'свадьба' in row:\n",
    "                return'свадьба'\n",
    "            elif 'автомобиль' in row:\n",
    "                return'автомобиль'\n",
    "            elif 'недвижимость' or 'жилье' in row:\n",
    "                return'недвижимость' \n",
    "            \n",
    "data['purpose_lemma'] = data['purpose'].apply(lemma_row)\n",
    "data['purpose_lemma'].value_counts()"
   ]
  },
  {
   "cell_type": "markdown",
   "metadata": {},
   "source": [
    "**Вывод**"
   ]
  },
  {
   "cell_type": "markdown",
   "metadata": {},
   "source": [
    "Применили лемматизацию в функции и с помощью метода apply применили к столбцу 'purpose'"
   ]
  },
  {
   "cell_type": "markdown",
   "metadata": {},
   "source": [
    "### Категоризация данных"
   ]
  },
  {
   "cell_type": "code",
   "execution_count": 16,
   "metadata": {},
   "outputs": [
    {
     "data": {
      "text/plain": [
       "бездетные      14091\n",
       "1-2 ребёнка     6907\n",
       "многодетная      456\n",
       "Name: type_family, dtype: int64"
      ]
     },
     "execution_count": 16,
     "metadata": {},
     "output_type": "execute_result"
    }
   ],
   "source": [
    "#применили функцию для определения типа семьи\n",
    "def child_family(child):\n",
    "            if child == 0:\n",
    "                return 'бездетные'\n",
    "            if child > 2:\n",
    "                return 'многодетная'\n",
    "            return '1-2 ребёнка'\n",
    "data['type_family'] = data['children'].apply(child_family)\n",
    "data['type_family'].value_counts()"
   ]
  },
  {
   "cell_type": "code",
   "execution_count": 17,
   "metadata": {},
   "outputs": [
    {
     "data": {
      "text/plain": [
       "малый доход      11892\n",
       "высокий доход     7459\n",
       "средний доход     2103\n",
       "Name: type_dohod, dtype: int64"
      ]
     },
     "execution_count": 17,
     "metadata": {},
     "output_type": "execute_result"
    }
   ],
   "source": [
    "#в функции посчитали средний доход\n",
    "def dohod(i):\n",
    "    sred = data['total_income'].mean() #средний доход\n",
    "    if i < sred:\n",
    "        return 'малый доход'\n",
    "    if i > sred:\n",
    "        return 'высокий доход'\n",
    "    return 'средний доход'\n",
    "\n",
    "data['type_dohod'] = data['total_income'].apply(dohod)\n",
    "data['type_dohod'].value_counts()"
   ]
  },
  {
   "cell_type": "markdown",
   "metadata": {},
   "source": [
    "**Вывод**"
   ]
  },
  {
   "cell_type": "markdown",
   "metadata": {},
   "source": [
    "Разделили клиентов по типу семьи и по доходу."
   ]
  },
  {
   "cell_type": "markdown",
   "metadata": {},
   "source": [
    "## Ответим на вопросы"
   ]
  },
  {
   "cell_type": "markdown",
   "metadata": {},
   "source": [
    "### Есть ли зависимость между наличием детей и возвратом кредита в срок?"
   ]
  },
  {
   "cell_type": "markdown",
   "metadata": {},
   "source": [
    "С помощью сводных таблиц сделаем групировку по типу семьи, покажем общее количество клиентов, кол–во клиентов не вернувших долг и вероятность клиента стать должником:"
   ]
  },
  {
   "cell_type": "code",
   "execution_count": 18,
   "metadata": {
    "scrolled": true
   },
   "outputs": [
    {
     "data": {
      "text/html": [
       "<div>\n",
       "<style scoped>\n",
       "    .dataframe tbody tr th:only-of-type {\n",
       "        vertical-align: middle;\n",
       "    }\n",
       "\n",
       "    .dataframe tbody tr th {\n",
       "        vertical-align: top;\n",
       "    }\n",
       "\n",
       "    .dataframe thead tr th {\n",
       "        text-align: left;\n",
       "    }\n",
       "\n",
       "    .dataframe thead tr:last-of-type th {\n",
       "        text-align: right;\n",
       "    }\n",
       "</style>\n",
       "<table border=\"1\" class=\"dataframe\">\n",
       "  <thead>\n",
       "    <tr>\n",
       "      <th></th>\n",
       "      <th colspan=\"3\" halign=\"left\">debt</th>\n",
       "    </tr>\n",
       "    <tr>\n",
       "      <th></th>\n",
       "      <th>count</th>\n",
       "      <th>mean</th>\n",
       "      <th>sum</th>\n",
       "    </tr>\n",
       "    <tr>\n",
       "      <th>type_family</th>\n",
       "      <th></th>\n",
       "      <th></th>\n",
       "      <th></th>\n",
       "    </tr>\n",
       "  </thead>\n",
       "  <tbody>\n",
       "    <tr>\n",
       "      <th>1-2 ребёнка</th>\n",
       "      <td>6907.0</td>\n",
       "      <td>0.092515</td>\n",
       "      <td>639.0</td>\n",
       "    </tr>\n",
       "    <tr>\n",
       "      <th>бездетные</th>\n",
       "      <td>14091.0</td>\n",
       "      <td>0.075438</td>\n",
       "      <td>1063.0</td>\n",
       "    </tr>\n",
       "    <tr>\n",
       "      <th>многодетная</th>\n",
       "      <td>456.0</td>\n",
       "      <td>0.085526</td>\n",
       "      <td>39.0</td>\n",
       "    </tr>\n",
       "  </tbody>\n",
       "</table>\n",
       "</div>"
      ],
      "text/plain": [
       "                debt                  \n",
       "               count      mean     sum\n",
       "type_family                           \n",
       "1-2 ребёнка   6907.0  0.092515   639.0\n",
       "бездетные    14091.0  0.075438  1063.0\n",
       "многодетная    456.0  0.085526    39.0"
      ]
     },
     "execution_count": 18,
     "metadata": {},
     "output_type": "execute_result"
    }
   ],
   "source": [
    "data_child_debt = data.pivot_table(index = ['type_family'], \n",
    "                         values = ['debt'],\n",
    "                         aggfunc = {'debt':['count','sum', 'mean']})\n",
    "data_child_debt"
   ]
  },
  {
   "cell_type": "markdown",
   "metadata": {},
   "source": [
    "**Вывод**"
   ]
  },
  {
   "cell_type": "markdown",
   "metadata": {},
   "source": [
    "Семьи без детей имеют самую низкую вероятность стать должниками, зависимость есть."
   ]
  },
  {
   "cell_type": "markdown",
   "metadata": {},
   "source": [
    " ### Есть ли зависимость между семейным положением и возвратом кредита в срок?"
   ]
  },
  {
   "cell_type": "code",
   "execution_count": 19,
   "metadata": {},
   "outputs": [
    {
     "data": {
      "text/html": [
       "<div>\n",
       "<style scoped>\n",
       "    .dataframe tbody tr th:only-of-type {\n",
       "        vertical-align: middle;\n",
       "    }\n",
       "\n",
       "    .dataframe tbody tr th {\n",
       "        vertical-align: top;\n",
       "    }\n",
       "\n",
       "    .dataframe thead tr th {\n",
       "        text-align: left;\n",
       "    }\n",
       "\n",
       "    .dataframe thead tr:last-of-type th {\n",
       "        text-align: right;\n",
       "    }\n",
       "</style>\n",
       "<table border=\"1\" class=\"dataframe\">\n",
       "  <thead>\n",
       "    <tr>\n",
       "      <th></th>\n",
       "      <th colspan=\"3\" halign=\"left\">debt</th>\n",
       "    </tr>\n",
       "    <tr>\n",
       "      <th></th>\n",
       "      <th>count</th>\n",
       "      <th>mean</th>\n",
       "      <th>sum</th>\n",
       "    </tr>\n",
       "    <tr>\n",
       "      <th>family_status</th>\n",
       "      <th></th>\n",
       "      <th></th>\n",
       "      <th></th>\n",
       "    </tr>\n",
       "  </thead>\n",
       "  <tbody>\n",
       "    <tr>\n",
       "      <th>в разводе</th>\n",
       "      <td>1195.0</td>\n",
       "      <td>0.071130</td>\n",
       "      <td>85.0</td>\n",
       "    </tr>\n",
       "    <tr>\n",
       "      <th>вдовец / вдова</th>\n",
       "      <td>959.0</td>\n",
       "      <td>0.065693</td>\n",
       "      <td>63.0</td>\n",
       "    </tr>\n",
       "    <tr>\n",
       "      <th>гражданский брак</th>\n",
       "      <td>4151.0</td>\n",
       "      <td>0.093471</td>\n",
       "      <td>388.0</td>\n",
       "    </tr>\n",
       "    <tr>\n",
       "      <th>женат / замужем</th>\n",
       "      <td>12339.0</td>\n",
       "      <td>0.075452</td>\n",
       "      <td>931.0</td>\n",
       "    </tr>\n",
       "    <tr>\n",
       "      <th>не женат / не замужем</th>\n",
       "      <td>2810.0</td>\n",
       "      <td>0.097509</td>\n",
       "      <td>274.0</td>\n",
       "    </tr>\n",
       "  </tbody>\n",
       "</table>\n",
       "</div>"
      ],
      "text/plain": [
       "                          debt                 \n",
       "                         count      mean    sum\n",
       "family_status                                  \n",
       "в разводе               1195.0  0.071130   85.0\n",
       "вдовец / вдова           959.0  0.065693   63.0\n",
       "гражданский брак        4151.0  0.093471  388.0\n",
       "женат / замужем        12339.0  0.075452  931.0\n",
       "не женат / не замужем   2810.0  0.097509  274.0"
      ]
     },
     "execution_count": 19,
     "metadata": {},
     "output_type": "execute_result"
    }
   ],
   "source": [
    "data_family_debt = data.pivot_table(index = ['family_status'], \n",
    "                         values = ['debt'],\n",
    "                         aggfunc = {'debt':['count','sum', 'mean']})\n",
    "data_family_debt"
   ]
  },
  {
   "cell_type": "markdown",
   "metadata": {},
   "source": [
    "**Вывод**"
   ]
  },
  {
   "cell_type": "markdown",
   "metadata": {},
   "source": [
    "Клиенты, которые вдовец/вдова имеют самую низкую вероятность стать должниками, зависимость есть."
   ]
  },
  {
   "cell_type": "markdown",
   "metadata": {},
   "source": [
    "### Есть ли зависимость между уровнем дохода и возвратом кредита в срок?"
   ]
  },
  {
   "cell_type": "code",
   "execution_count": 20,
   "metadata": {},
   "outputs": [
    {
     "data": {
      "text/html": [
       "<div>\n",
       "<style scoped>\n",
       "    .dataframe tbody tr th:only-of-type {\n",
       "        vertical-align: middle;\n",
       "    }\n",
       "\n",
       "    .dataframe tbody tr th {\n",
       "        vertical-align: top;\n",
       "    }\n",
       "\n",
       "    .dataframe thead tr th {\n",
       "        text-align: left;\n",
       "    }\n",
       "\n",
       "    .dataframe thead tr:last-of-type th {\n",
       "        text-align: right;\n",
       "    }\n",
       "</style>\n",
       "<table border=\"1\" class=\"dataframe\">\n",
       "  <thead>\n",
       "    <tr>\n",
       "      <th></th>\n",
       "      <th colspan=\"3\" halign=\"left\">debt</th>\n",
       "    </tr>\n",
       "    <tr>\n",
       "      <th></th>\n",
       "      <th>count</th>\n",
       "      <th>mean</th>\n",
       "      <th>sum</th>\n",
       "    </tr>\n",
       "    <tr>\n",
       "      <th>type_dohod</th>\n",
       "      <th></th>\n",
       "      <th></th>\n",
       "      <th></th>\n",
       "    </tr>\n",
       "  </thead>\n",
       "  <tbody>\n",
       "    <tr>\n",
       "      <th>высокий доход</th>\n",
       "      <td>7459.0</td>\n",
       "      <td>0.076150</td>\n",
       "      <td>568.0</td>\n",
       "    </tr>\n",
       "    <tr>\n",
       "      <th>малый доход</th>\n",
       "      <td>11892.0</td>\n",
       "      <td>0.084342</td>\n",
       "      <td>1003.0</td>\n",
       "    </tr>\n",
       "    <tr>\n",
       "      <th>средний доход</th>\n",
       "      <td>2103.0</td>\n",
       "      <td>0.080837</td>\n",
       "      <td>170.0</td>\n",
       "    </tr>\n",
       "  </tbody>\n",
       "</table>\n",
       "</div>"
      ],
      "text/plain": [
       "                  debt                  \n",
       "                 count      mean     sum\n",
       "type_dohod                              \n",
       "высокий доход   7459.0  0.076150   568.0\n",
       "малый доход    11892.0  0.084342  1003.0\n",
       "средний доход   2103.0  0.080837   170.0"
      ]
     },
     "execution_count": 20,
     "metadata": {},
     "output_type": "execute_result"
    }
   ],
   "source": [
    "data_dohod_debt = data.pivot_table(index = ['type_dohod'], \n",
    "                         values = ['debt'],\n",
    "                         aggfunc = {'debt':['count','sum', 'mean']})\n",
    "data_dohod_debt"
   ]
  },
  {
   "cell_type": "markdown",
   "metadata": {},
   "source": [
    "**Вывод**"
   ]
  },
  {
   "cell_type": "markdown",
   "metadata": {},
   "source": [
    "Клиенты с высоким уровнем дохода имеют самую низкую вероятность стать должниками, зависимость есть."
   ]
  },
  {
   "cell_type": "markdown",
   "metadata": {},
   "source": [
    "### Как разные цели кредита влияют на его возврат в срок?"
   ]
  },
  {
   "cell_type": "code",
   "execution_count": 21,
   "metadata": {},
   "outputs": [
    {
     "data": {
      "text/html": [
       "<div>\n",
       "<style scoped>\n",
       "    .dataframe tbody tr th:only-of-type {\n",
       "        vertical-align: middle;\n",
       "    }\n",
       "\n",
       "    .dataframe tbody tr th {\n",
       "        vertical-align: top;\n",
       "    }\n",
       "\n",
       "    .dataframe thead tr th {\n",
       "        text-align: left;\n",
       "    }\n",
       "\n",
       "    .dataframe thead tr:last-of-type th {\n",
       "        text-align: right;\n",
       "    }\n",
       "</style>\n",
       "<table border=\"1\" class=\"dataframe\">\n",
       "  <thead>\n",
       "    <tr>\n",
       "      <th></th>\n",
       "      <th colspan=\"3\" halign=\"left\">debt</th>\n",
       "    </tr>\n",
       "    <tr>\n",
       "      <th></th>\n",
       "      <th>count</th>\n",
       "      <th>mean</th>\n",
       "      <th>sum</th>\n",
       "    </tr>\n",
       "    <tr>\n",
       "      <th>purpose_lemma</th>\n",
       "      <th></th>\n",
       "      <th></th>\n",
       "      <th></th>\n",
       "    </tr>\n",
       "  </thead>\n",
       "  <tbody>\n",
       "    <tr>\n",
       "      <th>автомобиль</th>\n",
       "      <td>4306.0</td>\n",
       "      <td>0.093590</td>\n",
       "      <td>403.0</td>\n",
       "    </tr>\n",
       "    <tr>\n",
       "      <th>недвижимость</th>\n",
       "      <td>10811.0</td>\n",
       "      <td>0.072334</td>\n",
       "      <td>782.0</td>\n",
       "    </tr>\n",
       "    <tr>\n",
       "      <th>образование</th>\n",
       "      <td>4013.0</td>\n",
       "      <td>0.092200</td>\n",
       "      <td>370.0</td>\n",
       "    </tr>\n",
       "    <tr>\n",
       "      <th>свадьба</th>\n",
       "      <td>2324.0</td>\n",
       "      <td>0.080034</td>\n",
       "      <td>186.0</td>\n",
       "    </tr>\n",
       "  </tbody>\n",
       "</table>\n",
       "</div>"
      ],
      "text/plain": [
       "                  debt                 \n",
       "                 count      mean    sum\n",
       "purpose_lemma                          \n",
       "автомобиль      4306.0  0.093590  403.0\n",
       "недвижимость   10811.0  0.072334  782.0\n",
       "образование     4013.0  0.092200  370.0\n",
       "свадьба         2324.0  0.080034  186.0"
      ]
     },
     "execution_count": 21,
     "metadata": {},
     "output_type": "execute_result"
    }
   ],
   "source": [
    "data_purpose_debt = data.pivot_table(index = ['purpose_lemma'], \n",
    "                         values = ['debt'],\n",
    "                         aggfunc = {'debt':['count','sum', 'mean']})\n",
    "data_purpose_debt"
   ]
  },
  {
   "cell_type": "markdown",
   "metadata": {},
   "source": [
    "**Вывод**"
   ]
  },
  {
   "cell_type": "markdown",
   "metadata": {},
   "source": [
    "Клиенты, у которых цель приобрести недвижимость иимеют самую низкую вероятность стать должниками."
   ]
  },
  {
   "cell_type": "markdown",
   "metadata": {},
   "source": [
    "## Общий вывод"
   ]
  },
  {
   "cell_type": "markdown",
   "metadata": {},
   "source": [
    "Таким образом, для проведения правильного анализа потребовалось скорректировать таблицу: \n",
    "- заменить все пустые значения\n",
    "- удалить дубликаты\n",
    "- привести к общему регистру\n",
    "- изменить тип значения\n",
    "- провести лемматизацию и категоризацию данных\n",
    "\n",
    "После чего, мы узнали, что на возврат кредита в срок влияет множество факторов такие, как наличие детей, семейное положение, уровень дохода и цель кредита. \n",
    "\n",
    "Самые платежеспособные клиенты - это бездетные, в разводе или женат/замужем, высокий уровень дохода и цель кредита приобрести недвижимость."
   ]
  }
 ],
 "metadata": {
  "ExecuteTimeLog": [
   {
    "duration": 624,
    "start_time": "2021-08-02T19:47:17.856Z"
   }
  ],
  "kernelspec": {
   "display_name": "Python 3",
   "language": "python",
   "name": "python3"
  },
  "language_info": {
   "codemirror_mode": {
    "name": "ipython",
    "version": 3
   },
   "file_extension": ".py",
   "mimetype": "text/x-python",
   "name": "python",
   "nbconvert_exporter": "python",
   "pygments_lexer": "ipython3",
   "version": "3.8.5"
  },
  "toc": {
   "base_numbering": 1,
   "nav_menu": {},
   "number_sections": true,
   "sideBar": true,
   "skip_h1_title": true,
   "title_cell": "Table of Contents",
   "title_sidebar": "Contents",
   "toc_cell": false,
   "toc_position": {},
   "toc_section_display": true,
   "toc_window_display": false
  }
 },
 "nbformat": 4,
 "nbformat_minor": 2
}
