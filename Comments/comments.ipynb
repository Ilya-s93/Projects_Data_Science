{
 "cells": [
  {
   "cell_type": "markdown",
   "metadata": {},
   "source": [
    "# Проект для «Викишоп»"
   ]
  },
  {
   "cell_type": "markdown",
   "metadata": {},
   "source": [
    "Интернет-магазин «Викишоп» запускает новый сервис. Теперь пользователи могут редактировать и дополнять описания товаров, как в вики-сообществах. То есть клиенты предлагают свои правки и комментируют изменения других. Магазину нужен инструмент, который будет искать токсичные комментарии и отправлять их на модерацию. \n",
    "\n",
    "Обучите модель классифицировать комментарии на позитивные и негативные. В вашем распоряжении набор данных с разметкой о токсичности правок.\n",
    "\n",
    "Постройте модель со значением метрики качества *F1* не меньше 0.75. \n",
    "\n",
    "**Описание данных**\n",
    "\n",
    "Данные находятся в файле `toxic_comments.csv`. Столбец *text* в нём содержит текст комментария, а *toxic* — целевой признак."
   ]
  },
  {
   "cell_type": "markdown",
   "metadata": {},
   "source": [
    "## Подготовка"
   ]
  },
  {
   "cell_type": "code",
   "execution_count": 1,
   "metadata": {},
   "outputs": [],
   "source": [
    "%%capture\n",
    "!pip install wordcloud;"
   ]
  },
  {
   "cell_type": "code",
   "execution_count": 2,
   "metadata": {},
   "outputs": [
    {
     "name": "stderr",
     "output_type": "stream",
     "text": [
      "[nltk_data] Downloading package stopwords to\n",
      "[nltk_data]     /Users/ilyasmirnov/nltk_data...\n",
      "[nltk_data]   Package stopwords is already up-to-date!\n"
     ]
    }
   ],
   "source": [
    "import pandas as pd\n",
    "import numpy as np\n",
    "import matplotlib.pyplot as plt\n",
    "import nltk\n",
    "import re\n",
    "import warnings\n",
    "\n",
    "\n",
    "from nltk.corpus import stopwords\n",
    "from wordcloud import WordCloud\n",
    "\n",
    "from sklearn.feature_extraction.text import TfidfVectorizer\n",
    "from sklearn.pipeline import Pipeline\n",
    "from sklearn.feature_extraction.text import CountVectorizer\n",
    "from sklearn.feature_extraction.text import TfidfTransformer\n",
    "\n",
    "\n",
    "from sklearn.model_selection import train_test_split, GridSearchCV\n",
    "from sklearn.metrics import f1_score\n",
    "from sklearn.tree import DecisionTreeClassifier\n",
    "from sklearn.linear_model import LogisticRegression\n",
    "from sklearn.linear_model import SGDClassifier\n",
    "\n",
    "nltk.download('stopwords')\n",
    "stopwords = set(stopwords.words('english'))\n",
    "\n",
    "\n",
    "warnings.filterwarnings('ignore')"
   ]
  },
  {
   "cell_type": "code",
   "execution_count": 3,
   "metadata": {},
   "outputs": [
    {
     "data": {
      "text/html": [
       "<div>\n",
       "<style scoped>\n",
       "    .dataframe tbody tr th:only-of-type {\n",
       "        vertical-align: middle;\n",
       "    }\n",
       "\n",
       "    .dataframe tbody tr th {\n",
       "        vertical-align: top;\n",
       "    }\n",
       "\n",
       "    .dataframe thead th {\n",
       "        text-align: right;\n",
       "    }\n",
       "</style>\n",
       "<table border=\"1\" class=\"dataframe\">\n",
       "  <thead>\n",
       "    <tr style=\"text-align: right;\">\n",
       "      <th></th>\n",
       "      <th>text</th>\n",
       "      <th>toxic</th>\n",
       "    </tr>\n",
       "  </thead>\n",
       "  <tbody>\n",
       "    <tr>\n",
       "      <th>0</th>\n",
       "      <td>Explanation\\nWhy the edits made under my usern...</td>\n",
       "      <td>0</td>\n",
       "    </tr>\n",
       "    <tr>\n",
       "      <th>1</th>\n",
       "      <td>D'aww! He matches this background colour I'm s...</td>\n",
       "      <td>0</td>\n",
       "    </tr>\n",
       "    <tr>\n",
       "      <th>2</th>\n",
       "      <td>Hey man, I'm really not trying to edit war. It...</td>\n",
       "      <td>0</td>\n",
       "    </tr>\n",
       "    <tr>\n",
       "      <th>3</th>\n",
       "      <td>\"\\nMore\\nI can't make any real suggestions on ...</td>\n",
       "      <td>0</td>\n",
       "    </tr>\n",
       "    <tr>\n",
       "      <th>4</th>\n",
       "      <td>You, sir, are my hero. Any chance you remember...</td>\n",
       "      <td>0</td>\n",
       "    </tr>\n",
       "    <tr>\n",
       "      <th>5</th>\n",
       "      <td>\"\\n\\nCongratulations from me as well, use the ...</td>\n",
       "      <td>0</td>\n",
       "    </tr>\n",
       "    <tr>\n",
       "      <th>6</th>\n",
       "      <td>COCKSUCKER BEFORE YOU PISS AROUND ON MY WORK</td>\n",
       "      <td>1</td>\n",
       "    </tr>\n",
       "    <tr>\n",
       "      <th>7</th>\n",
       "      <td>Your vandalism to the Matt Shirvington article...</td>\n",
       "      <td>0</td>\n",
       "    </tr>\n",
       "    <tr>\n",
       "      <th>8</th>\n",
       "      <td>Sorry if the word 'nonsense' was offensive to ...</td>\n",
       "      <td>0</td>\n",
       "    </tr>\n",
       "    <tr>\n",
       "      <th>9</th>\n",
       "      <td>alignment on this subject and which are contra...</td>\n",
       "      <td>0</td>\n",
       "    </tr>\n",
       "  </tbody>\n",
       "</table>\n",
       "</div>"
      ],
      "text/plain": [
       "                                                text  toxic\n",
       "0  Explanation\\nWhy the edits made under my usern...      0\n",
       "1  D'aww! He matches this background colour I'm s...      0\n",
       "2  Hey man, I'm really not trying to edit war. It...      0\n",
       "3  \"\\nMore\\nI can't make any real suggestions on ...      0\n",
       "4  You, sir, are my hero. Any chance you remember...      0\n",
       "5  \"\\n\\nCongratulations from me as well, use the ...      0\n",
       "6       COCKSUCKER BEFORE YOU PISS AROUND ON MY WORK      1\n",
       "7  Your vandalism to the Matt Shirvington article...      0\n",
       "8  Sorry if the word 'nonsense' was offensive to ...      0\n",
       "9  alignment on this subject and which are contra...      0"
      ]
     },
     "execution_count": 3,
     "metadata": {},
     "output_type": "execute_result"
    }
   ],
   "source": [
    "data = pd.read_csv('./toxic_comments.csv')\n",
    "data.head(10)"
   ]
  },
  {
   "cell_type": "code",
   "execution_count": 4,
   "metadata": {},
   "outputs": [
    {
     "name": "stdout",
     "output_type": "stream",
     "text": [
      "<class 'pandas.core.frame.DataFrame'>\n",
      "RangeIndex: 159571 entries, 0 to 159570\n",
      "Data columns (total 2 columns):\n",
      " #   Column  Non-Null Count   Dtype \n",
      "---  ------  --------------   ----- \n",
      " 0   text    159571 non-null  object\n",
      " 1   toxic   159571 non-null  int64 \n",
      "dtypes: int64(1), object(1)\n",
      "memory usage: 2.4+ MB\n"
     ]
    }
   ],
   "source": [
    "#пропусков нет, тип данных соответствует\n",
    "data.info()"
   ]
  },
  {
   "cell_type": "code",
   "execution_count": 5,
   "metadata": {},
   "outputs": [
    {
     "data": {
      "text/plain": [
       "0"
      ]
     },
     "execution_count": 5,
     "metadata": {},
     "output_type": "execute_result"
    }
   ],
   "source": [
    "#посмотрели дубли\n",
    "data.duplicated().sum()"
   ]
  },
  {
   "cell_type": "code",
   "execution_count": 6,
   "metadata": {},
   "outputs": [
    {
     "data": {
      "text/plain": [
       "array([0, 1])"
      ]
     },
     "execution_count": 6,
     "metadata": {},
     "output_type": "execute_result"
    }
   ],
   "source": [
    "#лишних значений нет\n",
    "data['toxic'].unique()"
   ]
  },
  {
   "cell_type": "markdown",
   "metadata": {},
   "source": [
    "Лемматизируем комментарии и очистим лишние символы регулярным выражением:"
   ]
  },
  {
   "cell_type": "code",
   "execution_count": 7,
   "metadata": {},
   "outputs": [
    {
     "data": {
      "text/html": [
       "<div>\n",
       "<style scoped>\n",
       "    .dataframe tbody tr th:only-of-type {\n",
       "        vertical-align: middle;\n",
       "    }\n",
       "\n",
       "    .dataframe tbody tr th {\n",
       "        vertical-align: top;\n",
       "    }\n",
       "\n",
       "    .dataframe thead th {\n",
       "        text-align: right;\n",
       "    }\n",
       "</style>\n",
       "<table border=\"1\" class=\"dataframe\">\n",
       "  <thead>\n",
       "    <tr style=\"text-align: right;\">\n",
       "      <th></th>\n",
       "      <th>toxic</th>\n",
       "      <th>cl_text</th>\n",
       "    </tr>\n",
       "  </thead>\n",
       "  <tbody>\n",
       "    <tr>\n",
       "      <th>0</th>\n",
       "      <td>0</td>\n",
       "      <td>explanation why the edits made under my userna...</td>\n",
       "    </tr>\n",
       "    <tr>\n",
       "      <th>1</th>\n",
       "      <td>0</td>\n",
       "      <td>d aww he matches this background colour i m se...</td>\n",
       "    </tr>\n",
       "    <tr>\n",
       "      <th>2</th>\n",
       "      <td>0</td>\n",
       "      <td>hey man i m really not trying to edit war it s...</td>\n",
       "    </tr>\n",
       "    <tr>\n",
       "      <th>3</th>\n",
       "      <td>0</td>\n",
       "      <td>more i ca n t make any real suggestions on imp...</td>\n",
       "    </tr>\n",
       "    <tr>\n",
       "      <th>4</th>\n",
       "      <td>0</td>\n",
       "      <td>you sir are my hero any chance you remember wh...</td>\n",
       "    </tr>\n",
       "  </tbody>\n",
       "</table>\n",
       "</div>"
      ],
      "text/plain": [
       "   toxic                                            cl_text\n",
       "0      0  explanation why the edits made under my userna...\n",
       "1      0  d aww he matches this background colour i m se...\n",
       "2      0  hey man i m really not trying to edit war it s...\n",
       "3      0  more i ca n t make any real suggestions on imp...\n",
       "4      0  you sir are my hero any chance you remember wh..."
      ]
     },
     "execution_count": 7,
     "metadata": {},
     "output_type": "execute_result"
    }
   ],
   "source": [
    "def clear_text(text):\n",
    "    tokenized = nltk.word_tokenize(text)\n",
    "    joined = ' '.join(tokenized)\n",
    "    clear_text = re.sub(r'[^a-zA-Z]', ' ', joined)\n",
    "    clear_text = \" \".join(clear_text.split())\n",
    "    clear_text = clear_text.lower()\n",
    "    return clear_text\n",
    "\n",
    "data['cl_text'] = data['text'].apply(clear_text)\n",
    "data = data.drop(['text'], axis=1)\n",
    "\n",
    "data.head()"
   ]
  },
  {
   "cell_type": "code",
   "execution_count": 8,
   "metadata": {},
   "outputs": [
    {
     "data": {
      "image/png": "[encoded data removed]",
      "text/plain": [
       "<Figure size 675x450 with 1 Axes>"
      ]
     },
     "metadata": {
      "needs_background": "light"
     },
     "output_type": "display_data"
    }
   ],
   "source": [
    "x, y = np.ogrid[:300, :300]\n",
    "\n",
    "mask = (x - 150) ** 2 + (y - 150) ** 2 > 130 ** 2\n",
    "mask = 255 * mask.astype(int)\n",
    "\n",
    "toxic_commment = data['cl_text'][data['toxic'] == 1].values.astype('U')\n",
    "\n",
    "wc = WordCloud(background_color=\"white\", repeat=True, mask=mask, stopwords=stopwords, random_state=45)\n",
    "wc.generate(toxic_commment[0])\n",
    "\n",
    "plt.figure(figsize=(15, 10), dpi=45)\n",
    "plt.axis(\"off\")\n",
    "plt.imshow(wc, interpolation=\"bilinear\")\n",
    "plt.show()"
   ]
  },
  {
   "cell_type": "markdown",
   "metadata": {},
   "source": [
    "Вывод:\n",
    "\n",
    "    - пропусков нет, тип данных соответствует;\n",
    "    - дублей нет;\n",
    "    - уникальные значения в столбце 'toxic' в порядке;\n",
    "    - лемматизировали и очистили от лишних символов данные в столбце 'text', а так же в облаке слов показали слова, которые чаще всего встречаются - cocksucker, piss."
   ]
  },
  {
   "cell_type": "markdown",
   "metadata": {},
   "source": [
    "## Обучение"
   ]
  },
  {
   "cell_type": "markdown",
   "metadata": {},
   "source": [
    "Разобьем данные на выборки и переведем слова в векторный вид методом tf_idf:"
   ]
  },
  {
   "cell_type": "code",
   "execution_count": 9,
   "metadata": {},
   "outputs": [],
   "source": [
    "features = data['cl_text']\n",
    "target = data['toxic']\n",
    "\n",
    "\n",
    "features_train, features_test, target_train, target_test = train_test_split(features, target, \n",
    "                                                                            test_size=0.3, random_state=42)\n",
    "\n",
    "#tf_idf\n",
    "count_tf_idf = TfidfVectorizer(stop_words=stopwords)\n",
    "\n",
    "\n",
    "features_train_tf = count_tf_idf.fit_transform(features_train)\n",
    "features_test_tf = count_tf_idf.transform(features_test)"
   ]
  },
  {
   "cell_type": "markdown",
   "metadata": {},
   "source": [
    "Теперь обучим следующие модели:\n",
    "\n",
    "    - DecisionTreeClassifier;\n",
    "    - LogisticRegression;\n",
    "    - SGDClassifier."
   ]
  },
  {
   "cell_type": "markdown",
   "metadata": {},
   "source": [
    "### DecisionTreeClassifier"
   ]
  },
  {
   "cell_type": "code",
   "execution_count": 10,
   "metadata": {},
   "outputs": [
    {
     "name": "stdout",
     "output_type": "stream",
     "text": [
      "Fitting 5 folds for each of 4 candidates, totalling 20 fits\n",
      "[Parallel(n_jobs=1)]: Using backend SequentialBackend with 1 concurrent workers.\n",
      "[CV] dtc__max_depth=50, dtc__min_samples_leaf=10, dtc__random_state=42 \n",
      "[CV]  dtc__max_depth=50, dtc__min_samples_leaf=10, dtc__random_state=42, score=0.667, total=  26.6s\n",
      "[Parallel(n_jobs=1)]: Done   1 out of   1 | elapsed:   26.6s remaining:    0.0s\n",
      "[CV] dtc__max_depth=50, dtc__min_samples_leaf=10, dtc__random_state=42 \n",
      "[CV]  dtc__max_depth=50, dtc__min_samples_leaf=10, dtc__random_state=42, score=0.684, total=  27.1s\n",
      "[Parallel(n_jobs=1)]: Done   2 out of   2 | elapsed:   53.8s remaining:    0.0s\n",
      "[CV] dtc__max_depth=50, dtc__min_samples_leaf=10, dtc__random_state=42 \n",
      "[CV]  dtc__max_depth=50, dtc__min_samples_leaf=10, dtc__random_state=42, score=0.673, total=  26.1s\n",
      "[Parallel(n_jobs=1)]: Done   3 out of   3 | elapsed:  1.3min remaining:    0.0s\n",
      "[CV] dtc__max_depth=50, dtc__min_samples_leaf=10, dtc__random_state=42 \n",
      "[CV]  dtc__max_depth=50, dtc__min_samples_leaf=10, dtc__random_state=42, score=0.699, total=  27.2s\n",
      "[Parallel(n_jobs=1)]: Done   4 out of   4 | elapsed:  1.8min remaining:    0.0s\n",
      "[CV] dtc__max_depth=50, dtc__min_samples_leaf=10, dtc__random_state=42 \n",
      "[CV]  dtc__max_depth=50, dtc__min_samples_leaf=10, dtc__random_state=42, score=0.675, total=  25.8s\n",
      "[Parallel(n_jobs=1)]: Done   5 out of   5 | elapsed:  2.2min remaining:    0.0s\n",
      "[CV] dtc__max_depth=50, dtc__min_samples_leaf=30, dtc__random_state=42 \n",
      "[CV]  dtc__max_depth=50, dtc__min_samples_leaf=30, dtc__random_state=42, score=0.668, total=  26.2s\n",
      "[Parallel(n_jobs=1)]: Done   6 out of   6 | elapsed:  2.7min remaining:    0.0s\n",
      "[CV] dtc__max_depth=50, dtc__min_samples_leaf=30, dtc__random_state=42 \n",
      "[CV]  dtc__max_depth=50, dtc__min_samples_leaf=30, dtc__random_state=42, score=0.661, total=  25.9s\n",
      "[Parallel(n_jobs=1)]: Done   7 out of   7 | elapsed:  3.1min remaining:    0.0s\n",
      "[CV] dtc__max_depth=50, dtc__min_samples_leaf=30, dtc__random_state=42 \n",
      "[CV]  dtc__max_depth=50, dtc__min_samples_leaf=30, dtc__random_state=42, score=0.662, total=  27.4s\n",
      "[Parallel(n_jobs=1)]: Done   8 out of   8 | elapsed:  3.5min remaining:    0.0s\n",
      "[CV] dtc__max_depth=50, dtc__min_samples_leaf=30, dtc__random_state=42 \n",
      "[CV]  dtc__max_depth=50, dtc__min_samples_leaf=30, dtc__random_state=42, score=0.688, total=  27.0s\n",
      "[Parallel(n_jobs=1)]: Done   9 out of   9 | elapsed:  4.0min remaining:    0.0s\n",
      "[CV] dtc__max_depth=50, dtc__min_samples_leaf=30, dtc__random_state=42 \n",
      "[CV]  dtc__max_depth=50, dtc__min_samples_leaf=30, dtc__random_state=42, score=0.663, total=  26.7s\n",
      "[Parallel(n_jobs=1)]: Done  10 out of  10 | elapsed:  4.4min remaining:    0.0s\n",
      "[CV] dtc__max_depth=100, dtc__min_samples_leaf=10, dtc__random_state=42 \n",
      "[CV]  dtc__max_depth=100, dtc__min_samples_leaf=10, dtc__random_state=42, score=0.668, total=  44.6s\n",
      "[Parallel(n_jobs=1)]: Done  11 out of  11 | elapsed:  5.2min remaining:    0.0s\n",
      "[CV] dtc__max_depth=100, dtc__min_samples_leaf=10, dtc__random_state=42 \n",
      "[CV]  dtc__max_depth=100, dtc__min_samples_leaf=10, dtc__random_state=42, score=0.682, total=  45.8s\n",
      "[Parallel(n_jobs=1)]: Done  12 out of  12 | elapsed:  5.9min remaining:    0.0s\n",
      "[CV] dtc__max_depth=100, dtc__min_samples_leaf=10, dtc__random_state=42 \n",
      "[CV]  dtc__max_depth=100, dtc__min_samples_leaf=10, dtc__random_state=42, score=0.672, total=  46.1s\n",
      "[Parallel(n_jobs=1)]: Done  13 out of  13 | elapsed:  6.7min remaining:    0.0s\n",
      "[CV] dtc__max_depth=100, dtc__min_samples_leaf=10, dtc__random_state=42 \n",
      "[CV]  dtc__max_depth=100, dtc__min_samples_leaf=10, dtc__random_state=42, score=0.694, total=  46.6s\n",
      "[Parallel(n_jobs=1)]: Done  14 out of  14 | elapsed:  7.5min remaining:    0.0s\n",
      "[CV] dtc__max_depth=100, dtc__min_samples_leaf=10, dtc__random_state=42 \n",
      "[CV]  dtc__max_depth=100, dtc__min_samples_leaf=10, dtc__random_state=42, score=0.674, total=  45.3s\n",
      "[Parallel(n_jobs=1)]: Done  15 out of  15 | elapsed:  8.2min remaining:    0.0s\n",
      "[CV] dtc__max_depth=100, dtc__min_samples_leaf=30, dtc__random_state=42 \n",
      "[CV]  dtc__max_depth=100, dtc__min_samples_leaf=30, dtc__random_state=42, score=0.669, total=  37.0s\n",
      "[Parallel(n_jobs=1)]: Done  16 out of  16 | elapsed:  8.9min remaining:    0.0s\n",
      "[CV] dtc__max_depth=100, dtc__min_samples_leaf=30, dtc__random_state=42 \n",
      "[CV]  dtc__max_depth=100, dtc__min_samples_leaf=30, dtc__random_state=42, score=0.660, total=  39.3s\n",
      "[Parallel(n_jobs=1)]: Done  17 out of  17 | elapsed:  9.5min remaining:    0.0s\n",
      "[CV] dtc__max_depth=100, dtc__min_samples_leaf=30, dtc__random_state=42 \n",
      "[CV]  dtc__max_depth=100, dtc__min_samples_leaf=30, dtc__random_state=42, score=0.664, total=  42.0s\n",
      "[Parallel(n_jobs=1)]: Done  18 out of  18 | elapsed: 10.2min remaining:    0.0s\n",
      "[CV] dtc__max_depth=100, dtc__min_samples_leaf=30, dtc__random_state=42 \n",
      "[CV]  dtc__max_depth=100, dtc__min_samples_leaf=30, dtc__random_state=42, score=0.688, total=  36.4s\n",
      "[Parallel(n_jobs=1)]: Done  19 out of  19 | elapsed: 10.8min remaining:    0.0s\n",
      "[CV] dtc__max_depth=100, dtc__min_samples_leaf=30, dtc__random_state=42 \n",
      "[CV]  dtc__max_depth=100, dtc__min_samples_leaf=30, dtc__random_state=42, score=0.661, total=  34.9s\n",
      "[Parallel(n_jobs=1)]: Done  20 out of  20 | elapsed: 11.4min remaining:    0.0s\n",
      "[Parallel(n_jobs=1)]: Done  20 out of  20 | elapsed: 11.4min finished\n"
     ]
    },
    {
     "data": {
      "text/plain": [
       "GridSearchCV(cv=5,\n",
       "             estimator=Pipeline(steps=[('vect', CountVectorizer()),\n",
       "                                       ('tfidf', TfidfTransformer()),\n",
       "                                       ('dtc', DecisionTreeClassifier())]),\n",
       "             param_grid={'dtc__max_depth': [50, 100],\n",
       "                         'dtc__min_samples_leaf': [10, 30],\n",
       "                         'dtc__random_state': [42]},\n",
       "             scoring='f1', verbose=100)"
      ]
     },
     "execution_count": 10,
     "metadata": {},
     "output_type": "execute_result"
    }
   ],
   "source": [
    "pipeline = Pipeline([\n",
    "    ('vect', CountVectorizer()),\n",
    "    ('tfidf', TfidfTransformer()),\n",
    "    ('dtc', DecisionTreeClassifier()),\n",
    "])\n",
    "# соберем словарь параметров\n",
    "parameters = {\n",
    "    'dtc__max_depth':[50,100], 'dtc__min_samples_leaf':[10,30], 'dtc__random_state':[42]\n",
    "}\n",
    "# проведем поиск лучших параметров и обучим лучшую модель\n",
    "grid_search = GridSearchCV(pipeline, parameters, verbose=100,\n",
    "                          cv=5, scoring='f1')\n",
    "grid_search.fit(features_train, target_train)"
   ]
  },
  {
   "cell_type": "code",
   "execution_count": 11,
   "metadata": {},
   "outputs": [
    {
     "name": "stdout",
     "output_type": "stream",
     "text": [
      "Лучшие параметры:  {'dtc__max_depth': 50, 'dtc__min_samples_leaf': 10, 'dtc__random_state': 42}\n"
     ]
    }
   ],
   "source": [
    "print('Лучшие параметры: ', grid_search.best_params_)"
   ]
  },
  {
   "cell_type": "code",
   "execution_count": 12,
   "metadata": {},
   "outputs": [
    {
     "name": "stdout",
     "output_type": "stream",
     "text": [
      "F1 модели DecisionTreeClassifier на обучающей выборке:  0.6795782226719961\n"
     ]
    }
   ],
   "source": [
    "print('F1 модели DecisionTreeClassifier на обучающей выборке: ', grid_search.best_score_)"
   ]
  },
  {
   "cell_type": "code",
   "execution_count": 13,
   "metadata": {},
   "outputs": [
    {
     "name": "stdout",
     "output_type": "stream",
     "text": [
      "F1_score модели DecisionTreeClassifier:  0.7042627701968361\n"
     ]
    }
   ],
   "source": [
    "mod_dtc = DecisionTreeClassifier(max_depth=50, min_samples_leaf=10, random_state=42)\n",
    "mod_dtc.fit(features_train_tf, target_train)\n",
    "pred = mod_dtc.predict(features_test_tf)\n",
    "f1_dtc = f1_score(target_test, pred)\n",
    "print('F1_score модели DecisionTreeClassifier: ', f1_dtc)"
   ]
  },
  {
   "cell_type": "markdown",
   "metadata": {},
   "source": [
    "### LogisticRegression"
   ]
  },
  {
   "cell_type": "code",
   "execution_count": 14,
   "metadata": {},
   "outputs": [
    {
     "name": "stdout",
     "output_type": "stream",
     "text": [
      "CPU times: user 49.6 s, sys: 590 ms, total: 50.2 s\n",
      "Wall time: 12.7 s\n"
     ]
    },
    {
     "data": {
      "text/plain": [
       "GridSearchCV(cv=3, estimator=LogisticRegression(),\n",
       "             param_grid=[{'random_state': [42],\n",
       "                          'solver': ['newton-cg', 'lbfgs', 'liblinear']}],\n",
       "             scoring='f1')"
      ]
     },
     "execution_count": 14,
     "metadata": {},
     "output_type": "execute_result"
    }
   ],
   "source": [
    "%%time\n",
    "\n",
    "mod_lr = LogisticRegression()\n",
    "params = [{'solver':['newton-cg', 'lbfgs', 'liblinear'], 'random_state':[42]}]\n",
    "\n",
    "gsearch_lr = GridSearchCV(mod_lr, params, scoring='f1',cv=3)\n",
    "gsearch_lr.fit(features_train_tf, target_train)"
   ]
  },
  {
   "cell_type": "code",
   "execution_count": 15,
   "metadata": {},
   "outputs": [
    {
     "name": "stdout",
     "output_type": "stream",
     "text": [
      "Лучшие параметры:  {'random_state': 42, 'solver': 'liblinear'}\n"
     ]
    }
   ],
   "source": [
    "print('Лучшие параметры: ', gsearch_lr.best_params_)"
   ]
  },
  {
   "cell_type": "code",
   "execution_count": 16,
   "metadata": {},
   "outputs": [
    {
     "name": "stdout",
     "output_type": "stream",
     "text": [
      "F1 модели LogisticRegression на обучающей выборке:  0.6834256884691143\n"
     ]
    }
   ],
   "source": [
    "print('F1 модели LogisticRegression на обучающей выборке: ', gsearch_lr.best_score_)"
   ]
  },
  {
   "cell_type": "code",
   "execution_count": 17,
   "metadata": {},
   "outputs": [
    {
     "name": "stdout",
     "output_type": "stream",
     "text": [
      "F1_score модели LogisticRegression:  0.7280966767371602\n"
     ]
    }
   ],
   "source": [
    "mod_lr = LogisticRegression(solver = 'liblinear', random_state = 42)\n",
    "mod_lr.fit(features_train_tf, target_train)\n",
    "pred = mod_lr.predict(features_test_tf)\n",
    "f1_lr = f1_score(target_test, pred)\n",
    "print('F1_score модели LogisticRegression: ', f1_lr)"
   ]
  },
  {
   "cell_type": "markdown",
   "metadata": {},
   "source": [
    "### SGDClassifier"
   ]
  },
  {
   "cell_type": "code",
   "execution_count": 18,
   "metadata": {},
   "outputs": [
    {
     "name": "stdout",
     "output_type": "stream",
     "text": [
      "CPU times: user 4min 8s, sys: 1.3 s, total: 4min 9s\n",
      "Wall time: 2min 2s\n"
     ]
    },
    {
     "data": {
      "text/plain": [
       "GridSearchCV(cv=3, estimator=SGDClassifier(),\n",
       "             param_grid=[{'class_weight': ['balanced'],\n",
       "                          'eta0': [0.01, 0.1, 0.2, 0.3, 0.5],\n",
       "                          'learning_rate': ['constant', 'optimal', 'invscaling',\n",
       "                                            'adaptive'],\n",
       "                          'loss': ['hinge', 'log', 'modified_huber'],\n",
       "                          'random_state': [42]}],\n",
       "             scoring='f1')"
      ]
     },
     "execution_count": 18,
     "metadata": {},
     "output_type": "execute_result"
    }
   ],
   "source": [
    "%%time\n",
    "\n",
    "mod_sgd = SGDClassifier()\n",
    "params = [{'loss':['hinge', 'log', 'modified_huber'],\n",
    "                'learning_rate':['constant', 'optimal', 'invscaling', 'adaptive'],\n",
    "                'eta0':[0.01, 0.1, 0.2, 0.3, 0.5], \n",
    "                'class_weight':['balanced'],\n",
    "                'random_state':[42]}]\n",
    "\n",
    "gsearch_sgd = GridSearchCV(mod_sgd, params, scoring='f1',cv=3)\n",
    "gsearch_sgd.fit(features_train_tf, target_train)"
   ]
  },
  {
   "cell_type": "code",
   "execution_count": 19,
   "metadata": {},
   "outputs": [
    {
     "name": "stdout",
     "output_type": "stream",
     "text": [
      "Лучшие параметры:  {'class_weight': 'balanced', 'eta0': 0.2, 'learning_rate': 'adaptive', 'loss': 'modified_huber', 'random_state': 42}\n"
     ]
    }
   ],
   "source": [
    "print('Лучшие параметры: ', gsearch_sgd.best_params_)"
   ]
  },
  {
   "cell_type": "code",
   "execution_count": 20,
   "metadata": {},
   "outputs": [
    {
     "name": "stdout",
     "output_type": "stream",
     "text": [
      "F1 модели SGDClassifier на обучающей выборке:  0.7523522926633378\n"
     ]
    }
   ],
   "source": [
    "print('F1 модели SGDClassifier на обучающей выборке: ', gsearch_sgd.best_score_)"
   ]
  },
  {
   "cell_type": "code",
   "execution_count": 21,
   "metadata": {},
   "outputs": [
    {
     "name": "stdout",
     "output_type": "stream",
     "text": [
      "F1_score модели SGDClassifier:  0.7561243144424131\n"
     ]
    }
   ],
   "source": [
    "mod_sgd = SGDClassifier()\n",
    "mod_sgd.set_params(**gsearch_sgd.best_params_)\n",
    "mod_sgd.fit(features_train_tf, target_train)\n",
    "pred = mod_sgd.predict(features_test_tf)\n",
    "f1_sgd = f1_score(target_test, pred)\n",
    "print('F1_score модели SGDClassifier: ', f1_sgd)"
   ]
  },
  {
   "cell_type": "markdown",
   "metadata": {},
   "source": [
    "Выведем таблицу моделей:"
   ]
  },
  {
   "cell_type": "code",
   "execution_count": 22,
   "metadata": {},
   "outputs": [
    {
     "data": {
      "text/html": [
       "<div>\n",
       "<style scoped>\n",
       "    .dataframe tbody tr th:only-of-type {\n",
       "        vertical-align: middle;\n",
       "    }\n",
       "\n",
       "    .dataframe tbody tr th {\n",
       "        vertical-align: top;\n",
       "    }\n",
       "\n",
       "    .dataframe thead th {\n",
       "        text-align: right;\n",
       "    }\n",
       "</style>\n",
       "<table border=\"1\" class=\"dataframe\">\n",
       "  <thead>\n",
       "    <tr style=\"text-align: right;\">\n",
       "      <th></th>\n",
       "      <th>F1 score</th>\n",
       "      <th>Выполнение задачи</th>\n",
       "    </tr>\n",
       "  </thead>\n",
       "  <tbody>\n",
       "    <tr>\n",
       "      <th>DecisionTreeClassifier</th>\n",
       "      <td>0.704263</td>\n",
       "      <td>False</td>\n",
       "    </tr>\n",
       "    <tr>\n",
       "      <th>LogisticRegression</th>\n",
       "      <td>0.728097</td>\n",
       "      <td>False</td>\n",
       "    </tr>\n",
       "    <tr>\n",
       "      <th>SGDClassifier</th>\n",
       "      <td>0.756124</td>\n",
       "      <td>True</td>\n",
       "    </tr>\n",
       "  </tbody>\n",
       "</table>\n",
       "</div>"
      ],
      "text/plain": [
       "                        F1 score  Выполнение задачи\n",
       "DecisionTreeClassifier  0.704263              False\n",
       "LogisticRegression      0.728097              False\n",
       "SGDClassifier           0.756124               True"
      ]
     },
     "execution_count": 22,
     "metadata": {},
     "output_type": "execute_result"
    }
   ],
   "source": [
    "index = ['DecisionTreeClassifier', \n",
    "         'LogisticRegression',\n",
    "         'SGDClassifier']\n",
    "data = {'F1 score':[f1_dtc, f1_lr, f1_sgd]}\n",
    "\n",
    "scores_data = pd.DataFrame(data=data, index=index)\n",
    "scores_data['Выполнение задачи'] = scores_data['F1 score'] > 0.75\n",
    "scores_data"
   ]
  },
  {
   "cell_type": "markdown",
   "metadata": {},
   "source": [
    "## Выводы"
   ]
  },
  {
   "cell_type": "markdown",
   "metadata": {},
   "source": [
    "В ходе работы, мы:\n",
    "\n",
    "    - провели предобработку данных;\n",
    "    - в столбце 'text' убрали лишние символы и лемматизировали его;\n",
    "    - разбили данные на выборки и использовали tf_idt;\n",
    "    - обучили модели с гиперпараметрами и нашли метрику f1.\n",
    "\n",
    "Самой лучшей моделью, как видим выше, оказалась SGDClassifier с метрикой f1 равной 0.76 с гиперпараметрами: class_weight = 'balanced', 'eta0'= 0.3, 'learning_rate'= 'adaptive', 'loss'= 'modified_huber', 'random_state'= 42. Время обучения этой модели 2min 43s так же лучше, чем у DecisionTreeClassifier (13min 8s) и LogisticRegression(2min 55s). Это говорит нам, что токсичные комментарии находятся лучше."
   ]
  }
 ],
 "metadata": {
  "ExecuteTimeLog": [
   {
    "duration": 1337,
    "start_time": "2021-07-21T20:48:40.210Z"
   },
   {
    "duration": 3483,
    "start_time": "2021-07-21T20:49:13.916Z"
   },
   {
    "duration": 754,
    "start_time": "2021-07-21T20:49:36.268Z"
   },
   {
    "duration": 752,
    "start_time": "2021-07-21T20:49:49.876Z"
   },
   {
    "duration": 801,
    "start_time": "2021-07-21T20:49:55.569Z"
   },
   {
    "duration": 32,
    "start_time": "2021-07-21T20:50:57.995Z"
   },
   {
    "duration": 5,
    "start_time": "2021-07-21T20:52:28.910Z"
   },
   {
    "duration": 760,
    "start_time": "2021-07-21T20:52:29.822Z"
   },
   {
    "duration": 31,
    "start_time": "2021-07-21T20:52:31.378Z"
   },
   {
    "duration": 8,
    "start_time": "2021-07-21T20:52:51.887Z"
   },
   {
    "duration": 5,
    "start_time": "2021-07-21T21:30:51.806Z"
   },
   {
    "duration": 736,
    "start_time": "2021-07-21T21:30:53.056Z"
   },
   {
    "duration": 32,
    "start_time": "2021-07-21T21:30:54.639Z"
   },
   {
    "duration": 6,
    "start_time": "2021-07-21T21:30:55.819Z"
   },
   {
    "duration": 427,
    "start_time": "2021-07-21T21:31:10.807Z"
   },
   {
    "duration": 342,
    "start_time": "2021-07-21T21:31:33.399Z"
   },
   {
    "duration": 321,
    "start_time": "2021-07-21T21:31:39.783Z"
   },
   {
    "duration": 5,
    "start_time": "2021-07-21T21:32:23.007Z"
   },
   {
    "duration": 749,
    "start_time": "2021-07-21T21:32:24.135Z"
   },
   {
    "duration": 31,
    "start_time": "2021-07-21T21:32:25.751Z"
   },
   {
    "duration": 6,
    "start_time": "2021-07-21T21:32:26.747Z"
   },
   {
    "duration": 318,
    "start_time": "2021-07-21T21:32:28.167Z"
   },
   {
    "duration": 10,
    "start_time": "2021-07-21T21:32:36.334Z"
   },
   {
    "duration": 279,
    "start_time": "2021-07-21T21:41:01.782Z"
   },
   {
    "duration": 428,
    "start_time": "2021-07-21T21:53:23.342Z"
   },
   {
    "duration": 7,
    "start_time": "2021-07-21T22:01:40.531Z"
   },
   {
    "duration": 21610,
    "start_time": "2021-07-21T22:02:06.181Z"
   },
   {
    "duration": 469,
    "start_time": "2021-07-21T22:04:53.681Z"
   },
   {
    "duration": 1745,
    "start_time": "2021-07-21T22:05:02.499Z"
   },
   {
    "duration": 770,
    "start_time": "2021-07-21T22:05:06.478Z"
   },
   {
    "duration": 34,
    "start_time": "2021-07-21T22:05:07.952Z"
   },
   {
    "duration": 274,
    "start_time": "2021-07-21T22:05:08.820Z"
   },
   {
    "duration": 7,
    "start_time": "2021-07-21T22:05:09.430Z"
   },
   {
    "duration": 9,
    "start_time": "2021-07-21T22:05:10.234Z"
   },
   {
    "duration": 16829,
    "start_time": "2021-07-21T22:05:11.305Z"
   },
   {
    "duration": 7,
    "start_time": "2021-07-21T22:07:23.178Z"
   },
   {
    "duration": 6,
    "start_time": "2021-07-21T22:07:47.068Z"
   },
   {
    "duration": 403,
    "start_time": "2021-07-21T22:07:54.787Z"
   },
   {
    "duration": 6,
    "start_time": "2021-07-21T22:07:59.546Z"
   },
   {
    "duration": 8,
    "start_time": "2021-07-21T22:14:28.211Z"
   },
   {
    "duration": 6,
    "start_time": "2021-07-21T22:15:00.747Z"
   },
   {
    "duration": 720,
    "start_time": "2021-07-21T22:15:02.528Z"
   },
   {
    "duration": 28,
    "start_time": "2021-07-21T22:15:04.174Z"
   },
   {
    "duration": 258,
    "start_time": "2021-07-21T22:15:05.002Z"
   },
   {
    "duration": 7,
    "start_time": "2021-07-21T22:15:05.554Z"
   },
   {
    "duration": 9,
    "start_time": "2021-07-21T22:15:06.186Z"
   },
   {
    "duration": 1586,
    "start_time": "2021-07-21T22:15:24.981Z"
   },
   {
    "duration": 757,
    "start_time": "2021-07-21T22:15:26.570Z"
   },
   {
    "duration": 29,
    "start_time": "2021-07-21T22:15:27.330Z"
   },
   {
    "duration": 289,
    "start_time": "2021-07-21T22:15:27.362Z"
   },
   {
    "duration": 6,
    "start_time": "2021-07-21T22:15:27.653Z"
   },
   {
    "duration": 28,
    "start_time": "2021-07-21T22:15:27.662Z"
   },
   {
    "duration": 17277,
    "start_time": "2021-07-21T22:15:27.692Z"
   },
   {
    "duration": 6,
    "start_time": "2021-07-21T22:16:01.555Z"
   },
   {
    "duration": 396,
    "start_time": "2021-07-21T22:18:01.399Z"
   },
   {
    "duration": 1568,
    "start_time": "2021-07-21T22:18:04.607Z"
   },
   {
    "duration": 765,
    "start_time": "2021-07-21T22:18:06.178Z"
   },
   {
    "duration": 36,
    "start_time": "2021-07-21T22:18:06.946Z"
   },
   {
    "duration": 298,
    "start_time": "2021-07-21T22:18:06.985Z"
   },
   {
    "duration": 8,
    "start_time": "2021-07-21T22:18:07.286Z"
   },
   {
    "duration": 9,
    "start_time": "2021-07-21T22:18:07.387Z"
   },
   {
    "duration": 3552,
    "start_time": "2021-07-21T22:18:08.033Z"
   },
   {
    "duration": 10,
    "start_time": "2021-07-21T22:18:33.332Z"
   },
   {
    "duration": 1627,
    "start_time": "2021-07-21T22:18:53.967Z"
   },
   {
    "duration": 783,
    "start_time": "2021-07-21T22:18:55.596Z"
   },
   {
    "duration": 33,
    "start_time": "2021-07-21T22:18:56.384Z"
   },
   {
    "duration": 310,
    "start_time": "2021-07-21T22:18:56.420Z"
   },
   {
    "duration": 6,
    "start_time": "2021-07-21T22:18:56.732Z"
   },
   {
    "duration": 10,
    "start_time": "2021-07-21T22:18:56.740Z"
   },
   {
    "duration": 3640,
    "start_time": "2021-07-21T22:18:56.753Z"
   },
   {
    "duration": -22,
    "start_time": "2021-07-21T22:19:00.418Z"
   },
   {
    "duration": 2787,
    "start_time": "2021-07-21T22:25:29.815Z"
   },
   {
    "duration": 6,
    "start_time": "2021-07-21T22:25:59.013Z"
   },
   {
    "duration": 2768,
    "start_time": "2021-07-21T22:26:02.548Z"
   },
   {
    "duration": 1639,
    "start_time": "2021-07-21T22:27:43.486Z"
   },
   {
    "duration": 765,
    "start_time": "2021-07-21T22:27:45.128Z"
   },
   {
    "duration": 27,
    "start_time": "2021-07-21T22:27:45.900Z"
   },
   {
    "duration": 300,
    "start_time": "2021-07-21T22:27:45.930Z"
   },
   {
    "duration": 6,
    "start_time": "2021-07-21T22:27:46.232Z"
   },
   {
    "duration": 18,
    "start_time": "2021-07-21T22:27:46.241Z"
   },
   {
    "duration": 152537,
    "start_time": "2021-07-21T22:27:46.262Z"
   },
   {
    "duration": 516,
    "start_time": "2021-07-21T22:30:18.802Z"
   },
   {
    "duration": 7,
    "start_time": "2021-07-21T22:37:00.159Z"
   },
   {
    "duration": 15780,
    "start_time": "2021-07-21T23:04:01.486Z"
   },
   {
    "duration": 95946,
    "start_time": "2021-07-21T23:14:51.059Z"
   },
   {
    "duration": 6,
    "start_time": "2021-07-21T23:17:25.525Z"
   },
   {
    "duration": 9718,
    "start_time": "2021-07-21T23:17:33.239Z"
   },
   {
    "duration": 9441,
    "start_time": "2021-07-21T23:18:02.523Z"
   },
   {
    "duration": 6,
    "start_time": "2021-07-21T23:19:44.190Z"
   },
   {
    "duration": 3131,
    "start_time": "2021-07-21T23:23:22.676Z"
   },
   {
    "duration": 1647,
    "start_time": "2021-07-21T23:23:43.546Z"
   },
   {
    "duration": 756,
    "start_time": "2021-07-21T23:23:45.196Z"
   },
   {
    "duration": 34,
    "start_time": "2021-07-21T23:23:45.955Z"
   },
   {
    "duration": 292,
    "start_time": "2021-07-21T23:23:45.991Z"
   },
   {
    "duration": 6,
    "start_time": "2021-07-21T23:23:46.286Z"
   },
   {
    "duration": 151241,
    "start_time": "2021-07-21T23:23:46.294Z"
   },
   {
    "duration": 15969,
    "start_time": "2021-07-21T23:26:17.538Z"
   },
   {
    "duration": 3301,
    "start_time": "2021-07-21T23:26:33.511Z"
   },
   {
    "duration": 423,
    "start_time": "2021-07-21T23:31:56.068Z"
   },
   {
    "duration": 1599,
    "start_time": "2021-07-21T23:32:11.950Z"
   },
   {
    "duration": 759,
    "start_time": "2021-07-21T23:32:13.552Z"
   },
   {
    "duration": 30,
    "start_time": "2021-07-21T23:32:14.314Z"
   },
   {
    "duration": 290,
    "start_time": "2021-07-21T23:32:14.347Z"
   },
   {
    "duration": 5,
    "start_time": "2021-07-21T23:32:14.640Z"
   },
   {
    "duration": 150627,
    "start_time": "2021-07-21T23:32:14.648Z"
   },
   {
    "duration": 16020,
    "start_time": "2021-07-21T23:34:45.281Z"
   },
   {
    "duration": 3385,
    "start_time": "2021-07-21T23:35:01.305Z"
   },
   {
    "duration": 1608,
    "start_time": "2021-07-23T18:00:06.565Z"
   },
   {
    "duration": 782,
    "start_time": "2021-07-23T18:00:08.175Z"
   },
   {
    "duration": 31,
    "start_time": "2021-07-23T18:00:08.963Z"
   },
   {
    "duration": 308,
    "start_time": "2021-07-23T18:00:08.997Z"
   },
   {
    "duration": 5,
    "start_time": "2021-07-23T18:00:09.307Z"
   },
   {
    "duration": 166823,
    "start_time": "2021-07-23T18:00:09.315Z"
   },
   {
    "duration": 16666,
    "start_time": "2021-07-23T18:02:56.141Z"
   },
   {
    "duration": 4362,
    "start_time": "2021-07-23T18:03:12.810Z"
   },
   {
    "duration": 395,
    "start_time": "2021-07-23T18:21:12.603Z"
   },
   {
    "duration": 1726,
    "start_time": "2021-07-23T18:21:20.320Z"
   },
   {
    "duration": 765,
    "start_time": "2021-07-23T18:21:22.049Z"
   },
   {
    "duration": 45,
    "start_time": "2021-07-23T18:21:22.817Z"
   },
   {
    "duration": 287,
    "start_time": "2021-07-23T18:21:22.864Z"
   },
   {
    "duration": 9,
    "start_time": "2021-07-23T18:21:23.154Z"
   },
   {
    "duration": 169914,
    "start_time": "2021-07-23T18:21:23.165Z"
   },
   {
    "duration": 16818,
    "start_time": "2021-07-23T18:24:13.081Z"
   },
   {
    "duration": 3809,
    "start_time": "2021-07-23T18:24:29.903Z"
   },
   {
    "duration": 620,
    "start_time": "2021-07-23T18:27:31.164Z"
   },
   {
    "duration": 1638,
    "start_time": "2021-07-23T18:27:44.481Z"
   },
   {
    "duration": 822,
    "start_time": "2021-07-23T18:27:46.122Z"
   },
   {
    "duration": 39,
    "start_time": "2021-07-23T18:27:46.947Z"
   },
   {
    "duration": 311,
    "start_time": "2021-07-23T18:27:46.989Z"
   },
   {
    "duration": 5,
    "start_time": "2021-07-23T18:27:47.302Z"
   },
   {
    "duration": 166557,
    "start_time": "2021-07-23T18:27:47.310Z"
   },
   {
    "duration": 16693,
    "start_time": "2021-07-23T18:30:33.869Z"
   },
   {
    "duration": 1832,
    "start_time": "2021-07-23T19:13:10.545Z"
   },
   {
    "duration": 812,
    "start_time": "2021-07-23T19:13:12.380Z"
   },
   {
    "duration": 32,
    "start_time": "2021-07-23T19:13:13.195Z"
   },
   {
    "duration": 306,
    "start_time": "2021-07-23T19:13:13.230Z"
   },
   {
    "duration": 6,
    "start_time": "2021-07-23T19:13:13.538Z"
   },
   {
    "duration": 168155,
    "start_time": "2021-07-23T19:13:13.563Z"
   },
   {
    "duration": 16800,
    "start_time": "2021-07-23T19:16:01.720Z"
   },
   {
    "duration": 3580,
    "start_time": "2021-07-23T19:16:18.524Z"
   },
   {
    "duration": 1598,
    "start_time": "2021-07-23T19:27:38.880Z"
   },
   {
    "duration": 810,
    "start_time": "2021-07-23T19:27:40.480Z"
   },
   {
    "duration": 32,
    "start_time": "2021-07-23T19:27:41.293Z"
   },
   {
    "duration": 324,
    "start_time": "2021-07-23T19:27:41.328Z"
   },
   {
    "duration": 6,
    "start_time": "2021-07-23T19:27:41.662Z"
   },
   {
    "duration": 170005,
    "start_time": "2021-07-23T19:27:41.670Z"
   },
   {
    "duration": 17240,
    "start_time": "2021-07-23T19:30:31.678Z"
   },
   {
    "duration": 3502,
    "start_time": "2021-07-23T19:30:48.921Z"
   },
   {
    "duration": 104,
    "start_time": "2021-07-23T19:39:22.875Z"
   },
   {
    "duration": 1684,
    "start_time": "2021-07-23T19:39:30.139Z"
   },
   {
    "duration": 104,
    "start_time": "2021-07-23T19:40:17.403Z"
   },
   {
    "duration": 327,
    "start_time": "2021-07-23T19:40:51.947Z"
   },
   {
    "duration": 1643,
    "start_time": "2021-07-23T19:41:01.822Z"
   },
   {
    "duration": 794,
    "start_time": "2021-07-23T19:41:03.468Z"
   },
   {
    "duration": 34,
    "start_time": "2021-07-23T19:41:04.266Z"
   },
   {
    "duration": 302,
    "start_time": "2021-07-23T19:41:04.303Z"
   },
   {
    "duration": 6,
    "start_time": "2021-07-23T19:41:04.607Z"
   },
   {
    "duration": 166649,
    "start_time": "2021-07-23T19:41:04.615Z"
   },
   {
    "duration": 16469,
    "start_time": "2021-07-23T19:43:51.267Z"
   },
   {
    "duration": 544,
    "start_time": "2021-07-23T19:44:07.739Z"
   },
   {
    "duration": -18,
    "start_time": "2021-07-23T19:44:08.304Z"
   },
   {
    "duration": -20,
    "start_time": "2021-07-23T19:44:08.307Z"
   },
   {
    "duration": -24,
    "start_time": "2021-07-23T19:44:08.312Z"
   },
   {
    "duration": 7,
    "start_time": "2021-07-23T19:57:21.595Z"
   },
   {
    "duration": 57260,
    "start_time": "2021-07-23T20:01:00.266Z"
   },
   {
    "duration": 362,
    "start_time": "2021-07-23T20:12:41.007Z"
   },
   {
    "duration": 4,
    "start_time": "2021-07-23T20:13:11.001Z"
   },
   {
    "duration": 231358,
    "start_time": "2021-07-23T20:13:27.281Z"
   },
   {
    "duration": 5,
    "start_time": "2021-07-23T20:19:55.655Z"
   },
   {
    "duration": 6,
    "start_time": "2021-07-23T20:24:16.891Z"
   },
   {
    "duration": 421855,
    "start_time": "2021-07-23T20:55:56.093Z"
   },
   {
    "duration": 1679,
    "start_time": "2021-07-23T21:03:05.130Z"
   },
   {
    "duration": 829,
    "start_time": "2021-07-23T21:03:06.813Z"
   },
   {
    "duration": 41,
    "start_time": "2021-07-23T21:03:07.649Z"
   },
   {
    "duration": 321,
    "start_time": "2021-07-23T21:03:07.692Z"
   },
   {
    "duration": 5,
    "start_time": "2021-07-23T21:03:08.016Z"
   },
   {
    "duration": 169781,
    "start_time": "2021-07-23T21:03:08.023Z"
   },
   {
    "duration": 16866,
    "start_time": "2021-07-23T21:05:57.808Z"
   },
   {
    "duration": 184313,
    "start_time": "2021-07-23T21:06:14.677Z"
   },
   {
    "duration": 5,
    "start_time": "2021-07-23T21:09:18.992Z"
   },
   {
    "duration": 9,
    "start_time": "2021-07-23T21:09:18.999Z"
   },
   {
    "duration": 461,
    "start_time": "2021-07-23T21:09:19.010Z"
   },
   {
    "duration": -62,
    "start_time": "2021-07-23T21:09:19.535Z"
   },
   {
    "duration": -65,
    "start_time": "2021-07-23T21:09:19.539Z"
   },
   {
    "duration": -66,
    "start_time": "2021-07-23T21:09:19.542Z"
   },
   {
    "duration": 14149,
    "start_time": "2021-07-23T21:17:02.558Z"
   },
   {
    "duration": 14237,
    "start_time": "2021-07-23T21:17:27.631Z"
   },
   {
    "duration": 9533,
    "start_time": "2021-07-23T21:40:37.314Z"
   },
   {
    "duration": 906,
    "start_time": "2021-07-23T21:55:39.172Z"
   },
   {
    "duration": 5,
    "start_time": "2021-07-23T21:56:10.447Z"
   },
   {
    "duration": 6,
    "start_time": "2021-07-23T21:57:25.317Z"
   },
   {
    "duration": 355,
    "start_time": "2021-07-23T21:58:12.143Z"
   },
   {
    "duration": 448,
    "start_time": "2021-07-23T21:58:40.497Z"
   },
   {
    "duration": 1662,
    "start_time": "2021-07-23T21:59:02.446Z"
   },
   {
    "duration": 803,
    "start_time": "2021-07-23T21:59:04.111Z"
   },
   {
    "duration": 46,
    "start_time": "2021-07-23T21:59:04.919Z"
   },
   {
    "duration": 313,
    "start_time": "2021-07-23T21:59:04.968Z"
   },
   {
    "duration": 9,
    "start_time": "2021-07-23T21:59:05.284Z"
   },
   {
    "duration": 166654,
    "start_time": "2021-07-23T21:59:05.296Z"
   },
   {
    "duration": 17017,
    "start_time": "2021-07-23T22:01:51.953Z"
   },
   {
    "duration": 184238,
    "start_time": "2021-07-23T22:02:08.974Z"
   },
   {
    "duration": 5,
    "start_time": "2021-07-23T22:05:13.214Z"
   },
   {
    "duration": 8,
    "start_time": "2021-07-23T22:05:13.222Z"
   },
   {
    "duration": 14352,
    "start_time": "2021-07-23T22:05:13.233Z"
   },
   {
    "duration": 9757,
    "start_time": "2021-07-23T22:05:27.587Z"
   },
   {
    "duration": 475,
    "start_time": "2021-07-23T22:13:12.054Z"
   },
   {
    "duration": 1647,
    "start_time": "2021-07-23T22:14:01.526Z"
   },
   {
    "duration": 803,
    "start_time": "2021-07-23T22:14:03.175Z"
   },
   {
    "duration": 33,
    "start_time": "2021-07-23T22:14:03.982Z"
   },
   {
    "duration": 314,
    "start_time": "2021-07-23T22:14:04.018Z"
   },
   {
    "duration": 5,
    "start_time": "2021-07-23T22:14:04.335Z"
   },
   {
    "duration": 167859,
    "start_time": "2021-07-23T22:14:04.342Z"
   },
   {
    "duration": 16735,
    "start_time": "2021-07-23T22:16:52.204Z"
   },
   {
    "duration": 183421,
    "start_time": "2021-07-23T22:17:08.944Z"
   },
   {
    "duration": 4,
    "start_time": "2021-07-23T22:20:12.369Z"
   },
   {
    "duration": 11,
    "start_time": "2021-07-23T22:20:12.383Z"
   },
   {
    "duration": 14035,
    "start_time": "2021-07-23T22:20:12.397Z"
   },
   {
    "duration": 9412,
    "start_time": "2021-07-23T22:20:26.435Z"
   },
   {
    "duration": 1710,
    "start_time": "2021-07-23T22:23:09.564Z"
   },
   {
    "duration": 820,
    "start_time": "2021-07-23T22:23:11.277Z"
   },
   {
    "duration": 33,
    "start_time": "2021-07-23T22:23:12.100Z"
   },
   {
    "duration": 336,
    "start_time": "2021-07-23T22:23:12.136Z"
   },
   {
    "duration": 7,
    "start_time": "2021-07-23T22:23:12.476Z"
   },
   {
    "duration": 172093,
    "start_time": "2021-07-23T22:23:12.486Z"
   },
   {
    "duration": 25399,
    "start_time": "2021-07-23T22:26:04.581Z"
   },
   {
    "duration": 263765,
    "start_time": "2021-07-23T22:26:29.985Z"
   },
   {
    "duration": 11,
    "start_time": "2021-07-23T22:30:53.753Z"
   },
   {
    "duration": 7,
    "start_time": "2021-07-23T22:30:53.767Z"
   },
   {
    "duration": 17896,
    "start_time": "2021-07-23T22:30:53.778Z"
   },
   {
    "duration": 9459,
    "start_time": "2021-07-23T22:31:11.676Z"
   },
   {
    "duration": 1694,
    "start_time": "2021-07-23T22:33:33.197Z"
   },
   {
    "duration": 801,
    "start_time": "2021-07-23T22:33:34.894Z"
   },
   {
    "duration": 40,
    "start_time": "2021-07-23T22:33:35.699Z"
   },
   {
    "duration": 409,
    "start_time": "2021-07-23T22:33:35.743Z"
   },
   {
    "duration": 12,
    "start_time": "2021-07-23T22:33:36.155Z"
   },
   {
    "duration": 169576,
    "start_time": "2021-07-23T22:33:36.170Z"
   },
   {
    "duration": 16832,
    "start_time": "2021-07-23T22:36:25.748Z"
   },
   {
    "duration": 183445,
    "start_time": "2021-07-23T22:36:42.583Z"
   },
   {
    "duration": 4,
    "start_time": "2021-07-23T22:39:46.032Z"
   },
   {
    "duration": 22,
    "start_time": "2021-07-23T22:39:46.039Z"
   },
   {
    "duration": 14421,
    "start_time": "2021-07-23T22:39:46.064Z"
   },
   {
    "duration": 10060,
    "start_time": "2021-07-23T22:40:00.488Z"
   },
   {
    "duration": 1593,
    "start_time": "2021-07-23T22:40:49.204Z"
   },
   {
    "duration": 796,
    "start_time": "2021-07-23T22:40:50.800Z"
   },
   {
    "duration": 31,
    "start_time": "2021-07-23T22:40:51.599Z"
   },
   {
    "duration": 314,
    "start_time": "2021-07-23T22:40:51.632Z"
   },
   {
    "duration": 6,
    "start_time": "2021-07-23T22:40:51.948Z"
   },
   {
    "duration": 168118,
    "start_time": "2021-07-23T22:40:51.962Z"
   },
   {
    "duration": 25298,
    "start_time": "2021-07-23T22:43:40.082Z"
   },
   {
    "duration": 193590,
    "start_time": "2021-07-23T22:44:05.385Z"
   },
   {
    "duration": 5,
    "start_time": "2021-07-23T22:47:18.977Z"
   },
   {
    "duration": 11,
    "start_time": "2021-07-23T22:47:18.985Z"
   },
   {
    "duration": 14140,
    "start_time": "2021-07-23T22:47:18.999Z"
   },
   {
    "duration": 9402,
    "start_time": "2021-07-23T22:47:33.141Z"
   },
   {
    "duration": 1621,
    "start_time": "2021-07-23T22:59:45.349Z"
   },
   {
    "duration": 793,
    "start_time": "2021-07-23T22:59:46.973Z"
   },
   {
    "duration": 33,
    "start_time": "2021-07-23T22:59:47.769Z"
   },
   {
    "duration": 313,
    "start_time": "2021-07-23T22:59:47.805Z"
   },
   {
    "duration": 6,
    "start_time": "2021-07-23T22:59:48.121Z"
   },
   {
    "duration": 165696,
    "start_time": "2021-07-23T22:59:48.129Z"
   },
   {
    "duration": 16897,
    "start_time": "2021-07-23T23:02:33.827Z"
   },
   {
    "duration": 1706,
    "start_time": "2021-07-26T18:53:50.491Z"
   },
   {
    "duration": 761,
    "start_time": "2021-07-26T18:53:52.199Z"
   },
   {
    "duration": 38,
    "start_time": "2021-07-26T18:53:52.964Z"
   },
   {
    "duration": 295,
    "start_time": "2021-07-26T18:53:53.006Z"
   },
   {
    "duration": 6,
    "start_time": "2021-07-26T18:53:53.304Z"
   },
   {
    "duration": 171413,
    "start_time": "2021-07-26T18:53:53.312Z"
   },
   {
    "duration": 16262,
    "start_time": "2021-07-26T18:56:44.729Z"
   },
   {
    "duration": 180471,
    "start_time": "2021-07-26T18:57:00.995Z"
   },
   {
    "duration": 5,
    "start_time": "2021-07-26T19:00:01.469Z"
   },
   {
    "duration": 29,
    "start_time": "2021-07-26T19:00:01.476Z"
   },
   {
    "duration": 14186,
    "start_time": "2021-07-26T19:00:01.508Z"
   },
   {
    "duration": 9906,
    "start_time": "2021-07-26T19:00:15.696Z"
   },
   {
    "duration": -77,
    "start_time": "2021-07-26T19:15:31.580Z"
   },
   {
    "duration": -79,
    "start_time": "2021-07-26T19:15:31.583Z"
   },
   {
    "duration": -80,
    "start_time": "2021-07-26T19:15:31.586Z"
   },
   {
    "duration": -79,
    "start_time": "2021-07-26T19:15:31.589Z"
   },
   {
    "duration": 1609,
    "start_time": "2021-07-26T19:18:23.706Z"
   },
   {
    "duration": 10592,
    "start_time": "2021-07-26T19:18:25.318Z"
   },
   {
    "duration": 42,
    "start_time": "2021-07-26T19:18:35.914Z"
   },
   {
    "duration": 423,
    "start_time": "2021-07-26T19:18:35.960Z"
   },
   {
    "duration": 16,
    "start_time": "2021-07-26T19:18:36.386Z"
   },
   {
    "duration": 168533,
    "start_time": "2021-07-26T19:18:36.405Z"
   },
   {
    "duration": 16517,
    "start_time": "2021-07-26T19:21:24.941Z"
   },
   {
    "duration": 192867,
    "start_time": "2021-07-26T19:21:41.463Z"
   },
   {
    "duration": 4,
    "start_time": "2021-07-26T19:24:54.333Z"
   },
   {
    "duration": 12,
    "start_time": "2021-07-26T19:24:54.340Z"
   },
   {
    "duration": 14608,
    "start_time": "2021-07-26T19:24:54.355Z"
   },
   {
    "duration": 11117,
    "start_time": "2021-07-26T19:25:08.966Z"
   },
   {
    "duration": 366,
    "start_time": "2021-07-26T19:26:59.651Z"
   },
   {
    "duration": 1650,
    "start_time": "2021-07-26T19:27:09.733Z"
   },
   {
    "duration": 10352,
    "start_time": "2021-07-26T19:27:11.385Z"
   },
   {
    "duration": 34,
    "start_time": "2021-07-26T19:27:21.741Z"
   },
   {
    "duration": 358,
    "start_time": "2021-07-26T19:27:21.778Z"
   },
   {
    "duration": 7,
    "start_time": "2021-07-26T19:27:22.139Z"
   },
   {
    "duration": 181193,
    "start_time": "2021-07-26T19:27:22.149Z"
   },
   {
    "duration": 20084,
    "start_time": "2021-07-26T19:30:23.345Z"
   },
   {
    "duration": 187935,
    "start_time": "2021-07-26T19:30:43.433Z"
   },
   {
    "duration": 6,
    "start_time": "2021-07-26T19:33:51.372Z"
   },
   {
    "duration": 21,
    "start_time": "2021-07-26T19:33:51.381Z"
   },
   {
    "duration": 13721,
    "start_time": "2021-07-26T19:33:51.405Z"
   },
   {
    "duration": 11898,
    "start_time": "2021-07-26T19:34:05.129Z"
   },
   {
    "duration": 1688,
    "start_time": "2021-07-26T19:39:37.228Z"
   },
   {
    "duration": 10628,
    "start_time": "2021-07-26T19:39:38.919Z"
   },
   {
    "duration": 32,
    "start_time": "2021-07-26T19:39:49.550Z"
   },
   {
    "duration": 318,
    "start_time": "2021-07-26T19:39:49.585Z"
   },
   {
    "duration": 10,
    "start_time": "2021-07-26T19:39:49.906Z"
   },
   {
    "duration": 176431,
    "start_time": "2021-07-26T19:39:49.919Z"
   },
   {
    "duration": 17651,
    "start_time": "2021-07-26T19:42:46.352Z"
   },
   {
    "duration": 195737,
    "start_time": "2021-07-26T19:43:04.009Z"
   },
   {
    "duration": 5,
    "start_time": "2021-07-26T19:46:19.749Z"
   },
   {
    "duration": 8,
    "start_time": "2021-07-26T19:46:19.756Z"
   },
   {
    "duration": 15146,
    "start_time": "2021-07-26T19:46:19.766Z"
   },
   {
    "duration": 11662,
    "start_time": "2021-07-26T19:46:34.915Z"
   },
   {
    "duration": 1824,
    "start_time": "2021-07-26T20:21:51.113Z"
   },
   {
    "duration": 10527,
    "start_time": "2021-07-26T20:21:52.940Z"
   },
   {
    "duration": 40,
    "start_time": "2021-07-26T20:22:03.470Z"
   },
   {
    "duration": 303,
    "start_time": "2021-07-26T20:22:03.514Z"
   },
   {
    "duration": 6,
    "start_time": "2021-07-26T20:22:03.820Z"
   },
   {
    "duration": 172706,
    "start_time": "2021-07-26T20:22:03.828Z"
   },
   {
    "duration": 17912,
    "start_time": "2021-07-26T20:24:56.536Z"
   },
   {
    "duration": 481,
    "start_time": "2021-07-26T20:25:14.452Z"
   },
   {
    "duration": 6,
    "start_time": "2021-07-26T20:25:14.929Z"
   },
   {
    "duration": 6,
    "start_time": "2021-07-26T20:25:14.931Z"
   },
   {
    "duration": -3,
    "start_time": "2021-07-26T20:25:14.941Z"
   },
   {
    "duration": -3,
    "start_time": "2021-07-26T20:25:14.943Z"
   },
   {
    "duration": -3,
    "start_time": "2021-07-26T20:25:14.945Z"
   },
   {
    "duration": -4,
    "start_time": "2021-07-26T20:25:14.947Z"
   },
   {
    "duration": -28,
    "start_time": "2021-07-26T20:25:14.972Z"
   },
   {
    "duration": -29,
    "start_time": "2021-07-26T20:25:14.975Z"
   },
   {
    "duration": -31,
    "start_time": "2021-07-26T20:25:14.978Z"
   },
   {
    "duration": -33,
    "start_time": "2021-07-26T20:25:14.981Z"
   },
   {
    "duration": -33,
    "start_time": "2021-07-26T20:25:14.983Z"
   },
   {
    "duration": 11,
    "start_time": "2021-07-26T20:26:12.225Z"
   },
   {
    "duration": 226103,
    "start_time": "2021-07-26T20:26:16.161Z"
   },
   {
    "duration": 5,
    "start_time": "2021-07-26T20:30:24.877Z"
   },
   {
    "duration": 22,
    "start_time": "2021-07-26T20:32:33.873Z"
   },
   {
    "duration": 14353,
    "start_time": "2021-07-26T20:32:35.816Z"
   },
   {
    "duration": 310,
    "start_time": "2021-07-26T20:33:02.321Z"
   },
   {
    "duration": 1624,
    "start_time": "2021-07-26T20:47:02.838Z"
   },
   {
    "duration": 816,
    "start_time": "2021-07-26T20:47:04.465Z"
   },
   {
    "duration": 42,
    "start_time": "2021-07-26T20:47:05.284Z"
   },
   {
    "duration": 315,
    "start_time": "2021-07-26T20:47:05.329Z"
   },
   {
    "duration": 6,
    "start_time": "2021-07-26T20:47:05.647Z"
   },
   {
    "duration": 175921,
    "start_time": "2021-07-26T20:47:05.656Z"
   },
   {
    "duration": 17540,
    "start_time": "2021-07-26T20:50:01.580Z"
   },
   {
    "duration": 191689,
    "start_time": "2021-07-26T20:50:19.125Z"
   },
   {
    "duration": 5,
    "start_time": "2021-07-26T20:53:30.817Z"
   },
   {
    "duration": 12,
    "start_time": "2021-07-26T20:53:30.825Z"
   },
   {
    "duration": 16632,
    "start_time": "2021-07-26T20:53:30.840Z"
   },
   {
    "duration": 458,
    "start_time": "2021-07-26T20:53:47.475Z"
   },
   {
    "duration": -31,
    "start_time": "2021-07-26T20:53:47.967Z"
   },
   {
    "duration": -32,
    "start_time": "2021-07-26T20:53:47.969Z"
   },
   {
    "duration": -32,
    "start_time": "2021-07-26T20:53:47.971Z"
   },
   {
    "duration": -36,
    "start_time": "2021-07-26T20:53:47.977Z"
   },
   {
    "duration": -38,
    "start_time": "2021-07-26T20:53:47.980Z"
   },
   {
    "duration": -38,
    "start_time": "2021-07-26T20:53:47.982Z"
   },
   {
    "duration": -38,
    "start_time": "2021-07-26T20:53:47.984Z"
   },
   {
    "duration": 13076,
    "start_time": "2021-07-26T21:06:45.922Z"
   },
   {
    "duration": 1618,
    "start_time": "2021-07-26T21:07:08.563Z"
   },
   {
    "duration": 1143,
    "start_time": "2021-07-26T21:07:10.184Z"
   },
   {
    "duration": 43,
    "start_time": "2021-07-26T21:07:11.331Z"
   },
   {
    "duration": 349,
    "start_time": "2021-07-26T21:07:11.377Z"
   },
   {
    "duration": 6,
    "start_time": "2021-07-26T21:07:11.729Z"
   },
   {
    "duration": 172924,
    "start_time": "2021-07-26T21:07:11.738Z"
   },
   {
    "duration": 17468,
    "start_time": "2021-07-26T21:10:04.665Z"
   },
   {
    "duration": 187471,
    "start_time": "2021-07-26T21:10:22.136Z"
   },
   {
    "duration": 6,
    "start_time": "2021-07-26T21:13:29.612Z"
   },
   {
    "duration": 5,
    "start_time": "2021-07-26T21:13:29.623Z"
   },
   {
    "duration": 15563,
    "start_time": "2021-07-26T21:13:29.631Z"
   },
   {
    "duration": 425337,
    "start_time": "2021-07-26T21:13:45.201Z"
   },
   {
    "duration": -125,
    "start_time": "2021-07-26T21:20:50.667Z"
   },
   {
    "duration": -126,
    "start_time": "2021-07-26T21:20:50.669Z"
   },
   {
    "duration": -128,
    "start_time": "2021-07-26T21:20:50.672Z"
   },
   {
    "duration": -129,
    "start_time": "2021-07-26T21:20:50.674Z"
   },
   {
    "duration": -130,
    "start_time": "2021-07-26T21:20:50.676Z"
   },
   {
    "duration": -131,
    "start_time": "2021-07-26T21:20:50.679Z"
   },
   {
    "duration": -134,
    "start_time": "2021-07-26T21:20:50.683Z"
   },
   {
    "duration": 6,
    "start_time": "2021-07-26T21:20:55.639Z"
   },
   {
    "duration": 785,
    "start_time": "2021-07-26T21:20:56.258Z"
   },
   {
    "duration": 27,
    "start_time": "2021-07-26T21:20:57.046Z"
   },
   {
    "duration": 289,
    "start_time": "2021-07-26T21:20:57.124Z"
   },
   {
    "duration": 8,
    "start_time": "2021-07-26T21:20:57.416Z"
   },
   {
    "duration": 1673,
    "start_time": "2021-07-26T21:31:06.586Z"
   },
   {
    "duration": 11066,
    "start_time": "2021-07-26T21:31:08.262Z"
   },
   {
    "duration": 37,
    "start_time": "2021-07-26T21:31:19.331Z"
   },
   {
    "duration": 336,
    "start_time": "2021-07-26T21:31:19.370Z"
   },
   {
    "duration": 11,
    "start_time": "2021-07-26T21:31:19.709Z"
   },
   {
    "duration": 172738,
    "start_time": "2021-07-26T21:31:19.723Z"
   },
   {
    "duration": 17951,
    "start_time": "2021-07-26T21:34:12.464Z"
   },
   {
    "duration": 205287,
    "start_time": "2021-07-26T21:34:30.418Z"
   },
   {
    "duration": 6,
    "start_time": "2021-07-26T21:37:55.709Z"
   },
   {
    "duration": 11,
    "start_time": "2021-07-26T21:37:55.718Z"
   },
   {
    "duration": 14209,
    "start_time": "2021-07-26T21:37:55.732Z"
   },
   {
    "duration": 229234,
    "start_time": "2021-07-26T21:38:09.944Z"
   },
   {
    "duration": 5,
    "start_time": "2021-07-26T21:41:59.181Z"
   },
   {
    "duration": 16,
    "start_time": "2021-07-26T21:41:59.188Z"
   },
   {
    "duration": 467,
    "start_time": "2021-07-26T21:41:59.207Z"
   },
   {
    "duration": 56,
    "start_time": "2021-07-26T21:41:59.621Z"
   },
   {
    "duration": 54,
    "start_time": "2021-07-26T21:41:59.624Z"
   },
   {
    "duration": 54,
    "start_time": "2021-07-26T21:41:59.626Z"
   },
   {
    "duration": 54,
    "start_time": "2021-07-26T21:41:59.627Z"
   },
   {
    "duration": 269,
    "start_time": "2021-07-26T21:47:23.252Z"
   },
   {
    "duration": 12851,
    "start_time": "2021-07-26T21:47:35.341Z"
   },
   {
    "duration": 1595,
    "start_time": "2021-07-26T21:52:07.745Z"
   },
   {
    "duration": 10313,
    "start_time": "2021-07-26T21:52:09.343Z"
   },
   {
    "duration": 42,
    "start_time": "2021-07-26T21:52:19.659Z"
   },
   {
    "duration": 300,
    "start_time": "2021-07-26T21:52:19.704Z"
   },
   {
    "duration": 8,
    "start_time": "2021-07-26T21:52:20.007Z"
   },
   {
    "duration": 174981,
    "start_time": "2021-07-26T21:52:20.021Z"
   },
   {
    "duration": 17991,
    "start_time": "2021-07-26T21:55:15.005Z"
   },
   {
    "duration": 2048,
    "start_time": "2021-07-26T22:10:53.434Z"
   },
   {
    "duration": 10598,
    "start_time": "2021-07-26T22:10:55.485Z"
   },
   {
    "duration": 39,
    "start_time": "2021-07-26T22:11:06.086Z"
   },
   {
    "duration": 403,
    "start_time": "2021-07-26T22:11:06.129Z"
   },
   {
    "duration": 8,
    "start_time": "2021-07-26T22:11:06.535Z"
   },
   {
    "duration": 171786,
    "start_time": "2021-07-26T22:11:06.546Z"
   },
   {
    "duration": 17594,
    "start_time": "2021-07-26T22:13:58.334Z"
   },
   {
    "duration": 1649,
    "start_time": "2021-07-26T22:18:08.313Z"
   },
   {
    "duration": 10526,
    "start_time": "2021-07-26T22:18:09.965Z"
   },
   {
    "duration": 45,
    "start_time": "2021-07-26T22:18:20.494Z"
   },
   {
    "duration": 413,
    "start_time": "2021-07-26T22:18:20.543Z"
   },
   {
    "duration": 6,
    "start_time": "2021-07-26T22:18:20.959Z"
   },
   {
    "duration": 173299,
    "start_time": "2021-07-26T22:18:20.968Z"
   },
   {
    "duration": 18325,
    "start_time": "2021-07-26T22:21:14.269Z"
   },
   {
    "duration": 1754,
    "start_time": "2021-07-26T22:31:40.672Z"
   },
   {
    "duration": 10244,
    "start_time": "2021-07-26T22:31:42.429Z"
   },
   {
    "duration": 36,
    "start_time": "2021-07-26T22:31:52.677Z"
   },
   {
    "duration": 305,
    "start_time": "2021-07-26T22:31:52.716Z"
   },
   {
    "duration": 6,
    "start_time": "2021-07-26T22:31:53.024Z"
   },
   {
    "duration": 174920,
    "start_time": "2021-07-26T22:31:53.033Z"
   },
   {
    "duration": 17529,
    "start_time": "2021-07-26T22:34:47.956Z"
   },
   {
    "duration": 750,
    "start_time": "2021-07-26T22:35:05.487Z"
   },
   {
    "duration": -91,
    "start_time": "2021-07-26T22:35:06.331Z"
   },
   {
    "duration": -92,
    "start_time": "2021-07-26T22:35:06.334Z"
   },
   {
    "duration": -92,
    "start_time": "2021-07-26T22:35:06.336Z"
   },
   {
    "duration": -96,
    "start_time": "2021-07-26T22:35:06.341Z"
   },
   {
    "duration": -96,
    "start_time": "2021-07-26T22:35:06.343Z"
   },
   {
    "duration": -96,
    "start_time": "2021-07-26T22:35:06.345Z"
   },
   {
    "duration": -97,
    "start_time": "2021-07-26T22:35:06.347Z"
   },
   {
    "duration": -99,
    "start_time": "2021-07-26T22:35:06.350Z"
   },
   {
    "duration": -99,
    "start_time": "2021-07-26T22:35:06.352Z"
   },
   {
    "duration": -100,
    "start_time": "2021-07-26T22:35:06.354Z"
   },
   {
    "duration": -100,
    "start_time": "2021-07-26T22:35:06.356Z"
   },
   {
    "duration": -101,
    "start_time": "2021-07-26T22:35:06.358Z"
   },
   {
    "duration": 10,
    "start_time": "2021-07-26T22:35:49.859Z"
   },
   {
    "duration": 202002,
    "start_time": "2021-07-26T22:36:02.654Z"
   },
   {
    "duration": 1610,
    "start_time": "2021-07-26T22:48:14.261Z"
   },
   {
    "duration": 814,
    "start_time": "2021-07-26T22:48:15.874Z"
   },
   {
    "duration": 42,
    "start_time": "2021-07-26T22:48:16.691Z"
   },
   {
    "duration": 326,
    "start_time": "2021-07-26T22:48:16.736Z"
   },
   {
    "duration": 8,
    "start_time": "2021-07-26T22:48:17.066Z"
   },
   {
    "duration": 174388,
    "start_time": "2021-07-26T22:48:17.077Z"
   },
   {
    "duration": 17996,
    "start_time": "2021-07-26T22:51:11.468Z"
   },
   {
    "duration": 192535,
    "start_time": "2021-07-26T22:51:29.468Z"
   },
   {
    "duration": 5,
    "start_time": "2021-07-26T22:54:42.009Z"
   },
   {
    "duration": 10,
    "start_time": "2021-07-26T22:54:42.017Z"
   },
   {
    "duration": 13760,
    "start_time": "2021-07-26T22:54:42.030Z"
   },
   {
    "duration": 233265,
    "start_time": "2021-07-26T22:54:55.793Z"
   },
   {
    "duration": 4,
    "start_time": "2021-07-26T22:58:49.061Z"
   },
   {
    "duration": 7,
    "start_time": "2021-07-26T22:58:49.068Z"
   },
   {
    "duration": 11984,
    "start_time": "2021-07-26T22:58:49.107Z"
   },
   {
    "duration": 210981,
    "start_time": "2021-07-26T22:59:01.093Z"
   },
   {
    "duration": 6,
    "start_time": "2021-07-26T23:02:32.077Z"
   },
   {
    "duration": 5,
    "start_time": "2021-07-26T23:02:32.101Z"
   },
   {
    "duration": 947,
    "start_time": "2021-07-26T23:02:32.109Z"
   },
   {
    "duration": 614,
    "start_time": "2021-07-26T23:06:31.720Z"
   },
   {
    "duration": 292,
    "start_time": "2021-07-26T23:16:26.706Z"
   },
   {
    "duration": 657,
    "start_time": "2021-07-26T23:16:50.552Z"
   },
   {
    "duration": 431,
    "start_time": "2021-07-26T23:36:09.520Z"
   },
   {
    "duration": 1845,
    "start_time": "2021-07-26T23:37:01.591Z"
   },
   {
    "duration": 825,
    "start_time": "2021-07-26T23:37:03.439Z"
   },
   {
    "duration": 50,
    "start_time": "2021-07-26T23:37:04.271Z"
   },
   {
    "duration": 318,
    "start_time": "2021-07-26T23:37:04.323Z"
   },
   {
    "duration": 6,
    "start_time": "2021-07-26T23:37:04.643Z"
   },
   {
    "duration": 174610,
    "start_time": "2021-07-26T23:37:04.651Z"
   },
   {
    "duration": 17390,
    "start_time": "2021-07-26T23:39:59.265Z"
   },
   {
    "duration": 186913,
    "start_time": "2021-07-26T23:40:16.658Z"
   },
   {
    "duration": 33,
    "start_time": "2021-07-26T23:43:23.574Z"
   },
   {
    "duration": 9,
    "start_time": "2021-07-26T23:43:23.616Z"
   },
   {
    "duration": 14929,
    "start_time": "2021-07-26T23:43:23.627Z"
   },
   {
    "duration": 228610,
    "start_time": "2021-07-26T23:43:38.559Z"
   },
   {
    "duration": 4,
    "start_time": "2021-07-26T23:47:27.171Z"
   },
   {
    "duration": 8,
    "start_time": "2021-07-26T23:47:27.199Z"
   },
   {
    "duration": 11767,
    "start_time": "2021-07-26T23:47:27.210Z"
   },
   {
    "duration": 201315,
    "start_time": "2021-07-26T23:47:38.979Z"
   },
   {
    "duration": 6,
    "start_time": "2021-07-26T23:51:00.296Z"
   },
   {
    "duration": 15,
    "start_time": "2021-07-26T23:51:00.304Z"
   },
   {
    "duration": 605,
    "start_time": "2021-07-26T23:51:00.325Z"
   },
   {
    "duration": 7780,
    "start_time": "2021-07-26T23:51:00.933Z"
   },
   {
    "duration": -77,
    "start_time": "2021-07-26T23:51:08.792Z"
   },
   {
    "duration": 1600,
    "start_time": "2021-07-27T15:09:28.467Z"
   },
   {
    "duration": 788,
    "start_time": "2021-07-27T15:09:30.070Z"
   },
   {
    "duration": 42,
    "start_time": "2021-07-27T15:09:30.861Z"
   },
   {
    "duration": 309,
    "start_time": "2021-07-27T15:09:30.906Z"
   },
   {
    "duration": 6,
    "start_time": "2021-07-27T15:09:31.217Z"
   },
   {
    "duration": 166051,
    "start_time": "2021-07-27T15:09:31.227Z"
   },
   {
    "duration": 24639,
    "start_time": "2021-07-27T15:12:17.281Z"
   },
   {
    "duration": 168754,
    "start_time": "2021-07-27T15:12:41.925Z"
   },
   {
    "duration": 4,
    "start_time": "2021-07-27T15:15:30.682Z"
   },
   {
    "duration": 5,
    "start_time": "2021-07-27T15:15:30.701Z"
   },
   {
    "duration": 9894,
    "start_time": "2021-07-27T15:15:30.708Z"
   },
   {
    "duration": 233847,
    "start_time": "2021-07-27T15:15:40.605Z"
   },
   {
    "duration": 5,
    "start_time": "2021-07-27T15:19:34.454Z"
   },
   {
    "duration": 6,
    "start_time": "2021-07-27T15:19:34.462Z"
   },
   {
    "duration": 8996,
    "start_time": "2021-07-27T15:19:34.470Z"
   },
   {
    "duration": 167589,
    "start_time": "2021-07-27T15:19:43.469Z"
   },
   {
    "duration": 5,
    "start_time": "2021-07-27T15:22:31.061Z"
   },
   {
    "duration": 15,
    "start_time": "2021-07-27T15:22:31.068Z"
   },
   {
    "duration": 582,
    "start_time": "2021-07-27T15:22:31.102Z"
   },
   {
    "duration": 6851,
    "start_time": "2021-07-27T15:22:31.686Z"
   },
   {
    "duration": 7,
    "start_time": "2021-07-27T15:23:58.136Z"
   },
   {
    "duration": 14,
    "start_time": "2021-07-27T15:24:07.820Z"
   },
   {
    "duration": 13,
    "start_time": "2021-07-27T15:24:39.524Z"
   },
   {
    "duration": 273,
    "start_time": "2021-07-27T15:25:03.245Z"
   },
   {
    "duration": 6,
    "start_time": "2021-07-27T15:25:44.918Z"
   },
   {
    "duration": 746,
    "start_time": "2021-07-27T15:25:48.502Z"
   },
   {
    "duration": 31,
    "start_time": "2021-07-27T15:25:49.250Z"
   },
   {
    "duration": 275,
    "start_time": "2021-07-27T15:25:49.399Z"
   },
   {
    "duration": 7,
    "start_time": "2021-07-27T15:25:49.838Z"
   },
   {
    "duration": 168725,
    "start_time": "2021-07-27T15:25:51.493Z"
   },
   {
    "duration": 2048,
    "start_time": "2021-07-27T15:29:48.616Z"
   },
   {
    "duration": 986,
    "start_time": "2021-07-27T15:29:50.668Z"
   },
   {
    "duration": 45,
    "start_time": "2021-07-27T15:29:51.657Z"
   },
   {
    "duration": 311,
    "start_time": "2021-07-27T15:29:51.706Z"
   },
   {
    "duration": 8,
    "start_time": "2021-07-27T15:29:54.654Z"
   },
   {
    "duration": 167363,
    "start_time": "2021-07-27T15:29:56.987Z"
   },
   {
    "duration": 24454,
    "start_time": "2021-07-27T15:32:54.524Z"
   },
   {
    "duration": 179156,
    "start_time": "2021-07-27T15:33:48.637Z"
   },
   {
    "duration": 6,
    "start_time": "2021-07-27T15:37:04.486Z"
   },
   {
    "duration": 5,
    "start_time": "2021-07-27T15:37:07.352Z"
   },
   {
    "duration": 522,
    "start_time": "2021-07-27T15:37:16.839Z"
   },
   {
    "duration": 3,
    "start_time": "2021-07-27T15:38:22.753Z"
   },
   {
    "duration": 53,
    "start_time": "2021-07-27T15:53:45.840Z"
   },
   {
    "duration": 176,
    "start_time": "2021-07-27T15:53:51.849Z"
   },
   {
    "duration": 1707,
    "start_time": "2021-07-27T15:54:05.479Z"
   },
   {
    "duration": 797,
    "start_time": "2021-07-27T15:54:08.270Z"
   },
   {
    "duration": 39,
    "start_time": "2021-07-27T15:54:09.749Z"
   },
   {
    "duration": 307,
    "start_time": "2021-07-27T15:54:10.512Z"
   },
   {
    "duration": 11,
    "start_time": "2021-07-27T15:54:11.602Z"
   },
   {
    "duration": 168645,
    "start_time": "2021-07-27T15:54:14.524Z"
   },
   {
    "duration": 17131,
    "start_time": "2021-07-27T15:57:12.426Z"
   },
   {
    "duration": 51125,
    "start_time": "2021-07-27T15:58:13.595Z"
   },
   {
    "duration": 5,
    "start_time": "2021-07-27T15:59:10.450Z"
   },
   {
    "duration": 5,
    "start_time": "2021-07-27T15:59:13.481Z"
   },
   {
    "duration": 11245,
    "start_time": "2021-07-27T15:59:24.379Z"
   },
   {
    "duration": 644,
    "start_time": "2021-07-27T15:59:48.195Z"
   },
   {
    "duration": 4645,
    "start_time": "2021-07-27T15:59:53.023Z"
   },
   {
    "duration": 18605,
    "start_time": "2021-07-27T16:00:06.705Z"
   },
   {
    "duration": 178,
    "start_time": "2021-07-27T16:02:21.965Z"
   },
   {
    "duration": 222734,
    "start_time": "2021-07-27T16:04:44.388Z"
   },
   {
    "duration": 5,
    "start_time": "2021-07-27T16:08:37.746Z"
   },
   {
    "duration": 4,
    "start_time": "2021-07-27T16:08:40.323Z"
   },
   {
    "duration": 15099,
    "start_time": "2021-07-27T16:08:42.539Z"
   },
   {
    "duration": 447358,
    "start_time": "2021-07-27T16:09:26.043Z"
   },
   {
    "duration": 6,
    "start_time": "2021-07-27T16:16:59.478Z"
   },
   {
    "duration": 5,
    "start_time": "2021-07-27T16:17:07.980Z"
   },
   {
    "duration": 50540,
    "start_time": "2021-07-27T16:17:10.355Z"
   },
   {
    "duration": 190,
    "start_time": "2021-07-27T16:19:18.350Z"
   },
   {
    "duration": 221260,
    "start_time": "2021-07-27T16:19:28.230Z"
   },
   {
    "duration": 5,
    "start_time": "2021-07-27T16:23:18.801Z"
   },
   {
    "duration": 4,
    "start_time": "2021-07-27T16:23:21.822Z"
   },
   {
    "duration": 2690,
    "start_time": "2021-07-27T16:23:25.386Z"
   },
   {
    "duration": 1524,
    "start_time": "2021-07-27T16:24:27.564Z"
   },
   {
    "duration": 760,
    "start_time": "2021-07-27T16:24:29.091Z"
   },
   {
    "duration": 30,
    "start_time": "2021-07-27T16:24:29.854Z"
   },
   {
    "duration": 294,
    "start_time": "2021-07-27T16:24:29.901Z"
   },
   {
    "duration": 5,
    "start_time": "2021-07-27T16:24:30.200Z"
   },
   {
    "duration": 166420,
    "start_time": "2021-07-27T16:24:30.207Z"
   },
   {
    "duration": 25541,
    "start_time": "2021-07-27T16:27:16.629Z"
   },
   {
    "duration": 4,
    "start_time": "2021-07-27T16:27:42.177Z"
   },
   {
    "duration": 2132,
    "start_time": "2021-07-27T18:23:34.612Z"
   },
   {
    "duration": 10387,
    "start_time": "2021-07-27T18:23:36.747Z"
   },
   {
    "duration": 31,
    "start_time": "2021-07-27T18:23:47.137Z"
   },
   {
    "duration": 304,
    "start_time": "2021-07-27T18:23:47.171Z"
   },
   {
    "duration": 6,
    "start_time": "2021-07-27T18:23:47.477Z"
   },
   {
    "duration": 174904,
    "start_time": "2021-07-27T18:23:47.485Z"
   },
   {
    "duration": 16335,
    "start_time": "2021-07-27T18:26:42.391Z"
   },
   {
    "duration": 544423,
    "start_time": "2021-07-27T18:26:58.731Z"
   },
   {
    "duration": 5,
    "start_time": "2021-07-27T18:36:03.157Z"
   },
   {
    "duration": 34,
    "start_time": "2021-07-27T18:36:03.165Z"
   },
   {
    "duration": 66989,
    "start_time": "2021-07-27T18:36:03.201Z"
   },
   {
    "duration": 248666,
    "start_time": "2021-07-27T18:37:10.192Z"
   },
   {
    "duration": 4,
    "start_time": "2021-07-27T18:41:18.861Z"
   },
   {
    "duration": 11,
    "start_time": "2021-07-27T18:41:18.867Z"
   },
   {
    "duration": 8286,
    "start_time": "2021-07-27T18:41:18.901Z"
   },
   {
    "duration": 231262,
    "start_time": "2021-07-27T18:41:27.190Z"
   },
   {
    "duration": 4,
    "start_time": "2021-07-27T18:45:18.455Z"
   },
   {
    "duration": 6,
    "start_time": "2021-07-27T18:45:18.462Z"
   },
   {
    "duration": 2472,
    "start_time": "2021-07-27T18:45:18.471Z"
   },
   {
    "duration": 13,
    "start_time": "2021-07-27T18:45:20.945Z"
   },
   {
    "duration": 1490,
    "start_time": "2021-07-28T15:33:52.953Z"
   },
   {
    "duration": 765,
    "start_time": "2021-07-28T15:33:56.914Z"
   },
   {
    "duration": 32,
    "start_time": "2021-07-28T15:33:58.529Z"
   },
   {
    "duration": 274,
    "start_time": "2021-07-28T15:34:00.827Z"
   },
   {
    "duration": 6,
    "start_time": "2021-07-28T15:34:01.338Z"
   },
   {
    "duration": 6061,
    "start_time": "2021-07-28T15:34:05.002Z"
   },
   {
    "duration": 8841,
    "start_time": "2021-07-28T15:34:34.633Z"
   },
   {
    "duration": 9899,
    "start_time": "2021-07-28T15:35:22.317Z"
   },
   {
    "duration": 6883,
    "start_time": "2021-07-28T16:14:10.940Z"
   },
   {
    "duration": 6880,
    "start_time": "2021-07-28T16:14:36.757Z"
   },
   {
    "duration": 6,
    "start_time": "2021-07-28T16:35:06.712Z"
   },
   {
    "duration": 1138,
    "start_time": "2021-07-28T16:35:07.701Z"
   },
   {
    "duration": 36,
    "start_time": "2021-07-28T16:35:08.842Z"
   },
   {
    "duration": 428,
    "start_time": "2021-07-28T16:35:08.882Z"
   },
   {
    "duration": 7,
    "start_time": "2021-07-28T16:35:09.314Z"
   },
   {
    "duration": 4,
    "start_time": "2021-07-28T16:35:11.351Z"
   },
   {
    "duration": 764,
    "start_time": "2021-07-28T16:35:17.359Z"
   },
   {
    "duration": 799,
    "start_time": "2021-07-28T16:35:41.097Z"
   },
   {
    "duration": 608,
    "start_time": "2021-07-28T16:35:51.157Z"
   },
   {
    "duration": 770,
    "start_time": "2021-07-28T16:37:01.240Z"
   },
   {
    "duration": 31,
    "start_time": "2021-07-28T16:37:02.013Z"
   },
   {
    "duration": 295,
    "start_time": "2021-07-28T16:37:02.788Z"
   },
   {
    "duration": 7,
    "start_time": "2021-07-28T16:37:03.323Z"
   },
   {
    "duration": 4,
    "start_time": "2021-07-28T16:37:05.185Z"
   },
   {
    "duration": 498,
    "start_time": "2021-07-28T16:37:06.095Z"
   },
   {
    "duration": 6,
    "start_time": "2021-07-28T16:59:05.975Z"
   },
   {
    "duration": 759,
    "start_time": "2021-07-28T16:59:07.891Z"
   },
   {
    "duration": 39,
    "start_time": "2021-07-28T16:59:09.363Z"
   },
   {
    "duration": 396,
    "start_time": "2021-07-28T16:59:09.964Z"
   },
   {
    "duration": 8,
    "start_time": "2021-07-28T16:59:10.452Z"
   },
   {
    "duration": 1382,
    "start_time": "2021-07-28T16:59:13.540Z"
   },
   {
    "duration": 159004,
    "start_time": "2021-07-28T16:59:35.524Z"
   },
   {
    "duration": 7,
    "start_time": "2021-07-28T17:03:41.514Z"
   },
   {
    "duration": 758,
    "start_time": "2021-07-28T17:03:43.232Z"
   },
   {
    "duration": 32,
    "start_time": "2021-07-28T17:03:44.000Z"
   },
   {
    "duration": 300,
    "start_time": "2021-07-28T17:03:44.036Z"
   },
   {
    "duration": 7,
    "start_time": "2021-07-28T17:03:44.718Z"
   },
   {
    "duration": 3,
    "start_time": "2021-07-28T17:03:46.007Z"
   },
   {
    "duration": 137945,
    "start_time": "2021-07-28T17:03:46.761Z"
   },
   {
    "duration": 7213,
    "start_time": "2021-07-28T17:06:44.366Z"
   },
   {
    "duration": 6,
    "start_time": "2021-07-28T17:06:56.586Z"
   },
   {
    "duration": 758,
    "start_time": "2021-07-28T17:06:58.242Z"
   },
   {
    "duration": 31,
    "start_time": "2021-07-28T17:06:59.811Z"
   },
   {
    "duration": 289,
    "start_time": "2021-07-28T17:07:00.595Z"
   },
   {
    "duration": 7,
    "start_time": "2021-07-28T17:07:01.811Z"
   },
   {
    "duration": 4,
    "start_time": "2021-07-28T17:07:03.682Z"
   },
   {
    "duration": 146090,
    "start_time": "2021-07-28T17:07:08.134Z"
   },
   {
    "duration": 89,
    "start_time": "2021-07-28T17:30:34.342Z"
   },
   {
    "duration": 5,
    "start_time": "2021-07-28T18:11:36.042Z"
   },
   {
    "duration": 1088,
    "start_time": "2021-07-28T18:11:38.622Z"
   },
   {
    "duration": 38,
    "start_time": "2021-07-28T18:11:40.544Z"
   },
   {
    "duration": 378,
    "start_time": "2021-07-28T18:11:43.148Z"
   },
   {
    "duration": 8,
    "start_time": "2021-07-28T18:11:44.161Z"
   },
   {
    "duration": 4,
    "start_time": "2021-07-28T18:11:45.729Z"
   },
   {
    "duration": 5581,
    "start_time": "2021-07-28T18:11:46.728Z"
   },
   {
    "duration": 6,
    "start_time": "2021-07-28T18:43:43.618Z"
   },
   {
    "duration": 762,
    "start_time": "2021-07-28T18:43:45.617Z"
   },
   {
    "duration": 31,
    "start_time": "2021-07-28T18:43:47.151Z"
   },
   {
    "duration": 279,
    "start_time": "2021-07-28T18:43:47.776Z"
   },
   {
    "duration": 8,
    "start_time": "2021-07-28T18:43:48.455Z"
   },
   {
    "duration": 4,
    "start_time": "2021-07-28T18:43:49.420Z"
   },
   {
    "duration": 164567,
    "start_time": "2021-07-28T18:43:50.764Z"
   },
   {
    "duration": 8,
    "start_time": "2021-07-28T18:49:08.512Z"
   },
   {
    "duration": 815,
    "start_time": "2021-07-28T18:49:09.948Z"
   },
   {
    "duration": 39,
    "start_time": "2021-07-28T18:49:11.470Z"
   },
   {
    "duration": 281,
    "start_time": "2021-07-28T18:49:17.127Z"
   },
   {
    "duration": 6,
    "start_time": "2021-07-28T18:49:18.548Z"
   },
   {
    "duration": 3,
    "start_time": "2021-07-28T18:49:19.511Z"
   },
   {
    "duration": 144259,
    "start_time": "2021-07-28T18:49:20.238Z"
   },
   {
    "duration": 6,
    "start_time": "2021-07-28T19:10:20.034Z"
   },
   {
    "duration": 764,
    "start_time": "2021-07-28T19:10:21.152Z"
   },
   {
    "duration": 32,
    "start_time": "2021-07-28T19:10:21.920Z"
   },
   {
    "duration": 308,
    "start_time": "2021-07-28T19:10:21.959Z"
   },
   {
    "duration": 7,
    "start_time": "2021-07-28T19:10:22.282Z"
   },
   {
    "duration": 3,
    "start_time": "2021-07-28T19:10:23.612Z"
   },
   {
    "duration": 9781,
    "start_time": "2021-07-28T19:10:24.674Z"
   },
   {
    "duration": 6,
    "start_time": "2021-07-28T19:32:50.056Z"
   },
   {
    "duration": 805,
    "start_time": "2021-07-28T19:32:51.281Z"
   },
   {
    "duration": 34,
    "start_time": "2021-07-28T19:32:52.808Z"
   },
   {
    "duration": 279,
    "start_time": "2021-07-28T19:32:53.271Z"
   },
   {
    "duration": 9,
    "start_time": "2021-07-28T19:32:54.110Z"
   },
   {
    "duration": 3,
    "start_time": "2021-07-28T19:32:55.744Z"
   },
   {
    "duration": 180222,
    "start_time": "2021-07-28T19:32:56.822Z"
   },
   {
    "duration": 6,
    "start_time": "2021-07-28T20:09:01.077Z"
   },
   {
    "duration": 1562,
    "start_time": "2021-07-28T20:09:58.557Z"
   },
   {
    "duration": 799,
    "start_time": "2021-07-28T20:10:02.549Z"
   },
   {
    "duration": 34,
    "start_time": "2021-07-28T20:10:04.085Z"
   },
   {
    "duration": 284,
    "start_time": "2021-07-28T20:10:05.502Z"
   },
   {
    "duration": 7,
    "start_time": "2021-07-28T20:10:06.469Z"
   },
   {
    "duration": 3,
    "start_time": "2021-07-28T20:10:07.774Z"
   },
   {
    "duration": 176172,
    "start_time": "2021-07-28T20:10:08.428Z"
   },
   {
    "duration": 6920,
    "start_time": "2021-07-28T20:14:13.270Z"
   },
   {
    "duration": 6,
    "start_time": "2021-07-28T20:15:44.654Z"
   },
   {
    "duration": 812,
    "start_time": "2021-07-28T20:15:46.223Z"
   },
   {
    "duration": 33,
    "start_time": "2021-07-28T20:15:47.037Z"
   },
   {
    "duration": 282,
    "start_time": "2021-07-28T20:15:47.649Z"
   },
   {
    "duration": 6,
    "start_time": "2021-07-28T20:15:48.116Z"
   },
   {
    "duration": 3,
    "start_time": "2021-07-28T20:15:49.290Z"
   },
   {
    "duration": 141695,
    "start_time": "2021-07-28T20:15:52.175Z"
   },
   {
    "duration": 16829,
    "start_time": "2021-07-28T20:21:30.790Z"
   },
   {
    "duration": 6,
    "start_time": "2021-07-28T20:22:03.243Z"
   },
   {
    "duration": 302,
    "start_time": "2021-07-28T20:22:04.573Z"
   },
   {
    "duration": 3,
    "start_time": "2021-07-28T20:23:38.806Z"
   },
   {
    "duration": 339,
    "start_time": "2021-07-28T20:23:40.559Z"
   },
   {
    "duration": 284,
    "start_time": "2021-07-28T20:25:01.679Z"
   },
   {
    "duration": 278,
    "start_time": "2021-07-28T20:25:08.976Z"
   },
   {
    "duration": 364,
    "start_time": "2021-07-28T20:25:29.956Z"
   },
   {
    "duration": 471,
    "start_time": "2021-07-28T20:43:54.474Z"
   },
   {
    "duration": 5,
    "start_time": "2021-07-28T20:44:10.429Z"
   },
   {
    "duration": 270,
    "start_time": "2021-07-28T20:44:11.116Z"
   },
   {
    "duration": 316,
    "start_time": "2021-07-28T20:44:48.540Z"
   },
   {
    "duration": 301,
    "start_time": "2021-07-28T20:52:42.120Z"
   },
   {
    "duration": 300,
    "start_time": "2021-07-28T20:53:07.909Z"
   },
   {
    "duration": 4,
    "start_time": "2021-07-28T20:57:34.176Z"
   },
   {
    "duration": 428,
    "start_time": "2021-07-28T20:57:34.553Z"
   },
   {
    "duration": 320,
    "start_time": "2021-07-28T20:58:59.369Z"
   },
   {
    "duration": 302,
    "start_time": "2021-07-28T20:59:12.006Z"
   },
   {
    "duration": 304,
    "start_time": "2021-07-28T21:01:18.755Z"
   },
   {
    "duration": 308,
    "start_time": "2021-07-28T21:04:26.231Z"
   },
   {
    "duration": 155149,
    "start_time": "2021-07-28T21:05:59.051Z"
   },
   {
    "duration": 272,
    "start_time": "2021-07-28T21:11:15.835Z"
   },
   {
    "duration": 117,
    "start_time": "2021-07-28T21:11:36.847Z"
   },
   {
    "duration": 10,
    "start_time": "2021-07-28T21:12:43.176Z"
   },
   {
    "duration": 646,
    "start_time": "2021-07-28T21:14:25.486Z"
   },
   {
    "duration": 1609,
    "start_time": "2021-07-28T21:15:07.161Z"
   },
   {
    "duration": 771,
    "start_time": "2021-07-28T21:15:12.462Z"
   },
   {
    "duration": 31,
    "start_time": "2021-07-28T21:15:14.371Z"
   },
   {
    "duration": 281,
    "start_time": "2021-07-28T21:15:15.464Z"
   },
   {
    "duration": 6,
    "start_time": "2021-07-28T21:15:16.103Z"
   },
   {
    "duration": 3,
    "start_time": "2021-07-28T21:15:17.670Z"
   },
   {
    "duration": 6,
    "start_time": "2021-07-28T21:17:46.061Z"
   },
   {
    "duration": 740,
    "start_time": "2021-07-28T21:17:47.806Z"
   },
   {
    "duration": 31,
    "start_time": "2021-07-28T21:17:49.238Z"
   },
   {
    "duration": 275,
    "start_time": "2021-07-28T21:17:49.987Z"
   },
   {
    "duration": 6,
    "start_time": "2021-07-28T21:17:50.830Z"
   },
   {
    "duration": 139365,
    "start_time": "2021-07-28T21:17:53.854Z"
   },
   {
    "duration": 16480,
    "start_time": "2021-07-28T21:20:20.392Z"
   },
   {
    "duration": 5,
    "start_time": "2021-07-28T21:20:43.383Z"
   },
   {
    "duration": 821,
    "start_time": "2021-07-28T21:20:45.593Z"
   },
   {
    "duration": 44505,
    "start_time": "2021-07-28T21:21:15.024Z"
   },
   {
    "duration": 8,
    "start_time": "2021-07-28T21:22:17.024Z"
   },
   {
    "duration": 277,
    "start_time": "2021-07-28T21:27:01.727Z"
   },
   {
    "duration": 529,
    "start_time": "2021-07-28T21:28:42.239Z"
   },
   {
    "duration": 265,
    "start_time": "2021-07-28T21:29:44.797Z"
   },
   {
    "duration": 298,
    "start_time": "2021-07-28T21:30:10.472Z"
   },
   {
    "duration": 43592,
    "start_time": "2021-07-28T21:31:39.929Z"
   },
   {
    "duration": 68216,
    "start_time": "2021-07-28T21:33:03.637Z"
   },
   {
    "duration": 43846,
    "start_time": "2021-07-28T21:36:31.975Z"
   },
   {
    "duration": 68470,
    "start_time": "2021-07-28T21:39:26.537Z"
   },
   {
    "duration": 68347,
    "start_time": "2021-07-28T21:47:36.048Z"
   },
   {
    "duration": 67814,
    "start_time": "2021-07-28T22:16:41.544Z"
   },
   {
    "duration": 4,
    "start_time": "2021-07-28T22:22:12.004Z"
   },
   {
    "duration": 292,
    "start_time": "2021-07-28T22:22:12.676Z"
   },
   {
    "duration": 3,
    "start_time": "2021-07-28T22:22:29.112Z"
   },
   {
    "duration": 5,
    "start_time": "2021-07-28T22:22:29.741Z"
   },
   {
    "duration": 321,
    "start_time": "2021-07-28T22:22:58.327Z"
   },
   {
    "duration": 330,
    "start_time": "2021-07-28T22:28:38.029Z"
   },
   {
    "duration": 381,
    "start_time": "2021-07-28T22:29:36.221Z"
   },
   {
    "duration": 333,
    "start_time": "2021-07-28T22:29:59.683Z"
   },
   {
    "duration": 374,
    "start_time": "2021-07-28T22:40:04.120Z"
   },
   {
    "duration": 395,
    "start_time": "2021-07-28T22:40:24.292Z"
   },
   {
    "duration": 381,
    "start_time": "2021-07-28T22:40:50.210Z"
   },
   {
    "duration": 97,
    "start_time": "2021-07-28T22:41:32.441Z"
   },
   {
    "duration": 136,
    "start_time": "2021-07-28T22:41:37.664Z"
   },
   {
    "duration": 366,
    "start_time": "2021-07-28T22:41:45.042Z"
   },
   {
    "duration": 325,
    "start_time": "2021-07-28T22:41:50.945Z"
   },
   {
    "duration": 340,
    "start_time": "2021-07-28T22:42:31.364Z"
   },
   {
    "duration": 6,
    "start_time": "2021-07-28T22:50:41.673Z"
   },
   {
    "duration": 281,
    "start_time": "2021-07-28T22:50:52.755Z"
   },
   {
    "duration": 6,
    "start_time": "2021-07-28T22:50:58.113Z"
   },
   {
    "duration": 5,
    "start_time": "2021-07-28T22:53:59.997Z"
   },
   {
    "duration": 706,
    "start_time": "2021-07-28T22:54:03.181Z"
   },
   {
    "duration": 30,
    "start_time": "2021-07-28T22:54:06.046Z"
   },
   {
    "duration": 257,
    "start_time": "2021-07-28T22:54:06.505Z"
   },
   {
    "duration": 6,
    "start_time": "2021-07-28T22:54:06.907Z"
   },
   {
    "duration": 137632,
    "start_time": "2021-07-28T22:54:11.831Z"
   },
   {
    "duration": 284,
    "start_time": "2021-07-28T22:58:25.091Z"
   },
   {
    "duration": 4,
    "start_time": "2021-07-28T22:58:27.925Z"
   },
   {
    "duration": 258,
    "start_time": "2021-07-28T22:58:28.354Z"
   },
   {
    "duration": 5,
    "start_time": "2021-07-28T23:15:21.212Z"
   },
   {
    "duration": 296,
    "start_time": "2021-07-28T23:15:30.138Z"
   },
   {
    "duration": 5,
    "start_time": "2021-07-28T23:15:35.164Z"
   },
   {
    "duration": 282,
    "start_time": "2021-07-28T23:30:31.260Z"
   },
   {
    "duration": 292,
    "start_time": "2021-07-28T23:30:38.706Z"
   },
   {
    "duration": 282,
    "start_time": "2021-07-28T23:30:49.602Z"
   },
   {
    "duration": 271,
    "start_time": "2021-07-28T23:31:33.322Z"
   },
   {
    "duration": 99,
    "start_time": "2021-07-28T23:32:52.027Z"
   },
   {
    "duration": 319,
    "start_time": "2021-07-28T23:33:04.149Z"
   },
   {
    "duration": 489,
    "start_time": "2021-07-28T23:33:57.263Z"
   },
   {
    "duration": 346,
    "start_time": "2021-07-28T23:47:44.671Z"
   },
   {
    "duration": 4,
    "start_time": "2021-07-28T23:48:11.678Z"
   },
   {
    "duration": 345,
    "start_time": "2021-07-28T23:48:12.469Z"
   },
   {
    "duration": 7,
    "start_time": "2021-07-28T23:55:49.064Z"
   },
   {
    "duration": 1626,
    "start_time": "2021-07-29T00:02:10.130Z"
   },
   {
    "duration": 798,
    "start_time": "2021-07-29T00:02:13.515Z"
   },
   {
    "duration": 33,
    "start_time": "2021-07-29T00:02:15.392Z"
   },
   {
    "duration": 290,
    "start_time": "2021-07-29T00:02:16.038Z"
   },
   {
    "duration": 6,
    "start_time": "2021-07-29T00:02:16.472Z"
   },
   {
    "duration": 136501,
    "start_time": "2021-07-29T00:02:19.249Z"
   },
   {
    "duration": 15919,
    "start_time": "2021-07-29T00:06:55.732Z"
   },
   {
    "duration": 4,
    "start_time": "2021-07-29T00:19:47.064Z"
   },
   {
    "duration": 4,
    "start_time": "2021-07-29T00:19:50.297Z"
   },
   {
    "duration": 68133,
    "start_time": "2021-07-29T00:19:52.328Z"
   },
   {
    "duration": 239347,
    "start_time": "2021-07-29T00:21:12.326Z"
   },
   {
    "duration": 5,
    "start_time": "2021-07-29T00:25:11.676Z"
   },
   {
    "duration": 5,
    "start_time": "2021-07-29T00:26:05.648Z"
   },
   {
    "duration": 8364,
    "start_time": "2021-07-29T00:26:08.515Z"
   },
   {
    "duration": 248259,
    "start_time": "2021-07-29T00:26:30.458Z"
   },
   {
    "duration": 5,
    "start_time": "2021-07-29T00:30:38.719Z"
   },
   {
    "duration": 4,
    "start_time": "2021-07-29T00:30:47.101Z"
   },
   {
    "duration": 1576,
    "start_time": "2021-07-29T10:49:08.823Z"
   },
   {
    "duration": 768,
    "start_time": "2021-07-29T10:49:12.570Z"
   },
   {
    "duration": 34,
    "start_time": "2021-07-29T10:49:13.341Z"
   },
   {
    "duration": 281,
    "start_time": "2021-07-29T10:49:13.929Z"
   },
   {
    "duration": 6,
    "start_time": "2021-07-29T10:49:14.505Z"
   },
   {
    "duration": 143449,
    "start_time": "2021-07-29T10:49:17.892Z"
   },
   {
    "duration": 16996,
    "start_time": "2021-07-29T10:53:09.799Z"
   },
   {
    "duration": 571,
    "start_time": "2021-07-29T10:53:54.216Z"
   },
   {
    "duration": 362,
    "start_time": "2021-07-29T11:05:31.720Z"
   },
   {
    "duration": 1107,
    "start_time": "2021-07-29T19:46:43.200Z"
   },
   {
    "duration": 4780,
    "start_time": "2021-07-29T19:46:56.500Z"
   },
   {
    "duration": 24,
    "start_time": "2021-07-29T19:47:05.312Z"
   },
   {
    "duration": 199,
    "start_time": "2021-07-29T19:47:07.076Z"
   },
   {
    "duration": 5,
    "start_time": "2021-07-29T19:47:07.475Z"
   },
   {
    "duration": 87148,
    "start_time": "2021-07-29T19:47:10.828Z"
   },
   {
    "duration": 10947,
    "start_time": "2021-07-29T19:49:43.271Z"
   },
   {
    "duration": 379,
    "start_time": "2021-07-29T19:50:25.081Z"
   },
   {
    "duration": 307,
    "start_time": "2021-07-29T19:50:32.452Z"
   },
   {
    "duration": 295,
    "start_time": "2021-07-29T19:50:37.269Z"
   },
   {
    "duration": 350,
    "start_time": "2021-07-29T19:52:41.138Z"
   },
   {
    "duration": 296,
    "start_time": "2021-07-29T19:54:53.268Z"
   },
   {
    "duration": 297,
    "start_time": "2021-07-29T19:55:05.724Z"
   },
   {
    "duration": 288,
    "start_time": "2021-07-29T19:55:34.724Z"
   },
   {
    "duration": 259,
    "start_time": "2021-07-29T20:03:49.362Z"
   },
   {
    "duration": 241,
    "start_time": "2021-07-29T20:03:53.884Z"
   },
   {
    "duration": 4,
    "start_time": "2021-07-29T20:04:27.382Z"
   },
   {
    "duration": 4,
    "start_time": "2021-07-29T20:04:43.922Z"
   },
   {
    "duration": 346,
    "start_time": "2021-07-29T20:07:11.902Z"
   },
   {
    "duration": 6,
    "start_time": "2021-07-29T20:09:26.853Z"
   },
   {
    "duration": 4,
    "start_time": "2021-07-29T20:09:33.062Z"
   },
   {
    "duration": 286,
    "start_time": "2021-07-29T20:10:11.557Z"
   },
   {
    "duration": 84,
    "start_time": "2021-07-29T20:11:03.890Z"
   },
   {
    "duration": 280,
    "start_time": "2021-07-29T20:11:18.457Z"
   },
   {
    "duration": 290,
    "start_time": "2021-07-29T20:11:54.596Z"
   },
   {
    "duration": 80,
    "start_time": "2021-07-29T20:14:32.150Z"
   },
   {
    "duration": 338,
    "start_time": "2021-07-29T20:15:11.883Z"
   },
   {
    "duration": 268,
    "start_time": "2021-07-29T20:16:37.209Z"
   },
   {
    "duration": 288,
    "start_time": "2021-07-29T20:18:55.721Z"
   },
   {
    "duration": 313,
    "start_time": "2021-07-29T20:21:30.795Z"
   },
   {
    "duration": 288,
    "start_time": "2021-07-29T20:21:41.462Z"
   },
   {
    "duration": 295,
    "start_time": "2021-07-29T20:22:00.252Z"
   },
   {
    "duration": 275,
    "start_time": "2021-07-29T20:27:48.270Z"
   },
   {
    "duration": 322,
    "start_time": "2021-07-29T20:28:40.323Z"
   },
   {
    "duration": 290,
    "start_time": "2021-07-29T20:31:10.624Z"
   },
   {
    "duration": 295,
    "start_time": "2021-07-29T20:36:33.427Z"
   },
   {
    "duration": 79,
    "start_time": "2021-07-29T20:37:39.364Z"
   },
   {
    "duration": 77,
    "start_time": "2021-07-29T20:37:50.209Z"
   },
   {
    "duration": 367,
    "start_time": "2021-07-29T20:37:53.754Z"
   },
   {
    "duration": 411,
    "start_time": "2021-07-29T20:38:41.118Z"
   },
   {
    "duration": 279,
    "start_time": "2021-07-29T20:41:54.216Z"
   },
   {
    "duration": 277,
    "start_time": "2021-07-29T20:42:32.176Z"
   },
   {
    "duration": 294,
    "start_time": "2021-07-29T20:45:13.060Z"
   },
   {
    "duration": 280,
    "start_time": "2021-07-29T20:46:03.216Z"
   },
   {
    "duration": 275,
    "start_time": "2021-07-29T20:49:03.680Z"
   },
   {
    "duration": 275,
    "start_time": "2021-07-29T20:54:41.990Z"
   },
   {
    "duration": 291,
    "start_time": "2021-07-29T20:54:58.855Z"
   },
   {
    "duration": 318,
    "start_time": "2021-07-29T20:56:09.879Z"
   },
   {
    "duration": 308,
    "start_time": "2021-07-29T20:58:03.414Z"
   },
   {
    "duration": 240,
    "start_time": "2021-07-29T20:58:35.109Z"
   },
   {
    "duration": 239,
    "start_time": "2021-07-29T20:58:40.520Z"
   },
   {
    "duration": 291,
    "start_time": "2021-07-29T20:58:50.792Z"
   },
   {
    "duration": 293,
    "start_time": "2021-07-29T20:59:44.163Z"
   },
   {
    "duration": 278,
    "start_time": "2021-07-29T21:00:34.758Z"
   },
   {
    "duration": 345,
    "start_time": "2021-07-29T21:00:50.705Z"
   },
   {
    "duration": 423,
    "start_time": "2021-07-29T21:01:00.851Z"
   },
   {
    "duration": 319,
    "start_time": "2021-07-29T21:01:18.220Z"
   },
   {
    "duration": 307,
    "start_time": "2021-07-29T21:02:02.189Z"
   },
   {
    "duration": 346,
    "start_time": "2021-07-29T21:02:10.548Z"
   },
   {
    "duration": 288,
    "start_time": "2021-07-29T21:03:29.505Z"
   },
   {
    "duration": 237,
    "start_time": "2021-07-29T21:05:07.500Z"
   },
   {
    "duration": 249,
    "start_time": "2021-07-29T21:06:27.317Z"
   },
   {
    "duration": 255,
    "start_time": "2021-07-29T21:07:26.397Z"
   },
   {
    "duration": 298,
    "start_time": "2021-07-29T21:07:36.647Z"
   },
   {
    "duration": 594,
    "start_time": "2021-07-29T21:09:00.252Z"
   },
   {
    "duration": 4,
    "start_time": "2021-07-29T21:11:21.654Z"
   },
   {
    "duration": 384,
    "start_time": "2021-07-29T21:12:44.763Z"
   },
   {
    "duration": 4,
    "start_time": "2021-07-29T21:14:57.682Z"
   },
   {
    "duration": 620,
    "start_time": "2021-07-29T21:14:58.976Z"
   },
   {
    "duration": 28,
    "start_time": "2021-07-29T21:15:00.363Z"
   },
   {
    "duration": 211,
    "start_time": "2021-07-29T21:15:00.841Z"
   },
   {
    "duration": 4,
    "start_time": "2021-07-29T21:15:01.304Z"
   },
   {
    "duration": 2,
    "start_time": "2021-07-29T21:15:02.884Z"
   },
   {
    "duration": 86408,
    "start_time": "2021-07-29T21:15:03.935Z"
   },
   {
    "duration": 8805,
    "start_time": "2021-07-29T21:17:37.994Z"
   },
   {
    "duration": 371,
    "start_time": "2021-07-29T21:18:16.825Z"
   },
   {
    "duration": 344,
    "start_time": "2021-07-29T21:18:31.002Z"
   },
   {
    "duration": 1199,
    "start_time": "2021-07-29T21:20:11.618Z"
   },
   {
    "duration": 6110,
    "start_time": "2021-07-29T21:20:16.442Z"
   },
   {
    "duration": 24,
    "start_time": "2021-07-29T21:20:22.553Z"
   },
   {
    "duration": 218,
    "start_time": "2021-07-29T21:20:22.580Z"
   },
   {
    "duration": 4,
    "start_time": "2021-07-29T21:20:22.800Z"
   },
   {
    "duration": 3,
    "start_time": "2021-07-29T21:20:22.806Z"
   },
   {
    "duration": 85302,
    "start_time": "2021-07-29T21:20:22.811Z"
   },
   {
    "duration": 10784,
    "start_time": "2021-07-29T21:22:00.512Z"
   },
   {
    "duration": 4,
    "start_time": "2021-07-29T21:22:24.856Z"
   },
   {
    "duration": 330,
    "start_time": "2021-07-29T21:22:34.949Z"
   },
   {
    "duration": 4,
    "start_time": "2021-07-29T21:22:39.000Z"
   },
   {
    "duration": 3,
    "start_time": "2021-07-29T21:23:01.616Z"
   },
   {
    "duration": 4,
    "start_time": "2021-07-29T21:23:12.395Z"
   },
   {
    "duration": 4,
    "start_time": "2021-07-29T21:23:20.161Z"
   },
   {
    "duration": 351,
    "start_time": "2021-07-29T21:23:48.941Z"
   },
   {
    "duration": 296,
    "start_time": "2021-07-29T21:33:06.550Z"
   },
   {
    "duration": 329,
    "start_time": "2021-07-29T21:34:21.086Z"
   },
   {
    "duration": 289,
    "start_time": "2021-07-29T21:38:39.076Z"
   },
   {
    "duration": 299,
    "start_time": "2021-07-29T21:39:39.639Z"
   },
   {
    "duration": 252,
    "start_time": "2021-07-29T21:43:35.603Z"
   },
   {
    "duration": 301,
    "start_time": "2021-07-29T21:43:50.498Z"
   },
   {
    "duration": 319,
    "start_time": "2021-07-29T21:44:01.938Z"
   },
   {
    "duration": 432,
    "start_time": "2021-07-29T21:45:52.242Z"
   },
   {
    "duration": 387,
    "start_time": "2021-07-29T21:48:31.347Z"
   },
   {
    "duration": 78,
    "start_time": "2021-07-29T21:50:05.818Z"
   },
   {
    "duration": 622,
    "start_time": "2021-07-29T21:50:07.111Z"
   },
   {
    "duration": 80,
    "start_time": "2021-07-29T21:50:28.264Z"
   },
   {
    "duration": 4,
    "start_time": "2021-07-29T21:50:35.741Z"
   },
   {
    "duration": 603,
    "start_time": "2021-07-29T21:50:39.341Z"
   },
   {
    "duration": 24,
    "start_time": "2021-07-29T21:50:39.946Z"
   },
   {
    "duration": 203,
    "start_time": "2021-07-29T21:50:40.021Z"
   },
   {
    "duration": 5,
    "start_time": "2021-07-29T21:50:40.341Z"
   },
   {
    "duration": 2,
    "start_time": "2021-07-29T21:50:42.366Z"
   },
   {
    "duration": 3673,
    "start_time": "2021-07-29T21:50:42.958Z"
   },
   {
    "duration": 1178,
    "start_time": "2021-07-29T21:51:07.725Z"
   },
   {
    "duration": 6471,
    "start_time": "2021-07-29T21:51:16.825Z"
   },
   {
    "duration": 27,
    "start_time": "2021-07-29T21:51:25.076Z"
   },
   {
    "duration": 209,
    "start_time": "2021-07-29T21:51:25.520Z"
   },
   {
    "duration": 5,
    "start_time": "2021-07-29T21:51:26.101Z"
   },
   {
    "duration": 2,
    "start_time": "2021-07-29T21:51:28.515Z"
   },
   {
    "duration": 3595,
    "start_time": "2021-07-29T21:51:28.519Z"
   },
   {
    "duration": 10609,
    "start_time": "2021-07-29T21:51:36.895Z"
   },
   {
    "duration": 454,
    "start_time": "2021-07-29T21:52:02.146Z"
   },
   {
    "duration": 6,
    "start_time": "2021-07-29T21:59:11.455Z"
   },
   {
    "duration": 653,
    "start_time": "2021-07-29T21:59:15.062Z"
   },
   {
    "duration": 26,
    "start_time": "2021-07-29T21:59:16.685Z"
   },
   {
    "duration": 200,
    "start_time": "2021-07-29T21:59:17.256Z"
   },
   {
    "duration": 5,
    "start_time": "2021-07-29T21:59:18.176Z"
   },
   {
    "duration": 3,
    "start_time": "2021-07-29T21:59:19.724Z"
   },
   {
    "duration": 89770,
    "start_time": "2021-07-29T21:59:20.399Z"
   },
   {
    "duration": 3225,
    "start_time": "2021-07-29T22:00:59.333Z"
   },
   {
    "duration": 3251,
    "start_time": "2021-07-29T22:01:20.402Z"
   },
   {
    "duration": 3103,
    "start_time": "2021-07-29T22:05:08.038Z"
   },
   {
    "duration": 3160,
    "start_time": "2021-07-29T22:08:17.509Z"
   },
   {
    "duration": 1180,
    "start_time": "2021-07-29T22:11:40.619Z"
   },
   {
    "duration": 6273,
    "start_time": "2021-07-29T22:11:46.217Z"
   },
   {
    "duration": 27,
    "start_time": "2021-07-29T22:11:59.212Z"
   },
   {
    "duration": 225,
    "start_time": "2021-07-29T22:11:59.717Z"
   },
   {
    "duration": 4,
    "start_time": "2021-07-29T22:12:00.301Z"
   },
   {
    "duration": 2,
    "start_time": "2021-07-29T22:12:01.646Z"
   },
   {
    "duration": 85801,
    "start_time": "2021-07-29T22:12:01.922Z"
   },
   {
    "duration": 6614,
    "start_time": "2021-07-29T22:15:57.944Z"
   },
   {
    "duration": 4,
    "start_time": "2021-07-29T22:16:11.510Z"
   },
   {
    "duration": 1120994,
    "start_time": "2021-07-29T22:16:18.112Z"
   },
   {
    "duration": 4,
    "start_time": "2021-07-29T22:37:18.602Z"
   },
   {
    "duration": 629,
    "start_time": "2021-07-29T22:37:20.041Z"
   },
   {
    "duration": 26,
    "start_time": "2021-07-29T22:37:21.587Z"
   },
   {
    "duration": 194,
    "start_time": "2021-07-29T22:37:22.045Z"
   },
   {
    "duration": 5,
    "start_time": "2021-07-29T22:37:22.556Z"
   },
   {
    "duration": 2,
    "start_time": "2021-07-29T22:37:24.084Z"
   },
   {
    "duration": 85489,
    "start_time": "2021-07-29T22:37:25.410Z"
   },
   {
    "duration": 6395,
    "start_time": "2021-07-29T22:39:40.545Z"
   },
   {
    "duration": 100560,
    "start_time": "2021-07-29T22:39:57.701Z"
   },
   {
    "duration": 926911,
    "start_time": "2021-07-29T22:41:45.668Z"
   },
   {
    "duration": 5,
    "start_time": "2021-07-29T22:58:42.246Z"
   },
   {
    "duration": 597,
    "start_time": "2021-07-29T22:58:44.294Z"
   },
   {
    "duration": 29,
    "start_time": "2021-07-29T22:58:45.629Z"
   },
   {
    "duration": 196,
    "start_time": "2021-07-29T22:58:46.021Z"
   },
   {
    "duration": 4,
    "start_time": "2021-07-29T22:58:46.275Z"
   },
   {
    "duration": 2,
    "start_time": "2021-07-29T22:58:47.262Z"
   },
   {
    "duration": 90862,
    "start_time": "2021-07-29T22:58:47.824Z"
   },
   {
    "duration": 6960,
    "start_time": "2021-07-29T23:00:26.251Z"
   },
   {
    "duration": 819346,
    "start_time": "2021-07-29T23:00:54.165Z"
   },
   {
    "duration": 3,
    "start_time": "2021-07-29T23:17:07.934Z"
   },
   {
    "duration": 3,
    "start_time": "2021-07-29T23:17:13.809Z"
   },
   {
    "duration": 242,
    "start_time": "2021-07-29T23:17:52.999Z"
   },
   {
    "duration": 250,
    "start_time": "2021-07-29T23:19:04.796Z"
   },
   {
    "duration": 19346,
    "start_time": "2021-07-29T23:19:23.125Z"
   },
   {
    "duration": 1169,
    "start_time": "2021-07-29T23:21:08.724Z"
   },
   {
    "duration": 600,
    "start_time": "2021-07-29T23:21:09.895Z"
   },
   {
    "duration": 22,
    "start_time": "2021-07-29T23:21:10.496Z"
   },
   {
    "duration": 216,
    "start_time": "2021-07-29T23:21:10.520Z"
   },
   {
    "duration": 4,
    "start_time": "2021-07-29T23:21:10.741Z"
   },
   {
    "duration": 3,
    "start_time": "2021-07-29T23:21:10.747Z"
   },
   {
    "duration": 89590,
    "start_time": "2021-07-29T23:21:10.751Z"
   },
   {
    "duration": 6389,
    "start_time": "2021-07-29T23:22:40.343Z"
   },
   {
    "duration": 6,
    "start_time": "2021-07-29T23:22:46.735Z"
   },
   {
    "duration": 868393,
    "start_time": "2021-07-29T23:22:46.742Z"
   },
   {
    "duration": 3,
    "start_time": "2021-07-29T23:37:15.140Z"
   },
   {
    "duration": 6,
    "start_time": "2021-07-29T23:37:15.144Z"
   },
   {
    "duration": 19089,
    "start_time": "2021-07-29T23:37:15.152Z"
   },
   {
    "duration": 175438,
    "start_time": "2021-07-29T23:37:34.243Z"
   },
   {
    "duration": 3,
    "start_time": "2021-07-29T23:40:29.682Z"
   },
   {
    "duration": 8,
    "start_time": "2021-07-29T23:40:29.686Z"
   },
   {
    "duration": 8094,
    "start_time": "2021-07-29T23:40:29.695Z"
   },
   {
    "duration": 163382,
    "start_time": "2021-07-29T23:40:37.791Z"
   },
   {
    "duration": 3,
    "start_time": "2021-07-29T23:43:21.175Z"
   },
   {
    "duration": 8,
    "start_time": "2021-07-29T23:43:21.180Z"
   },
   {
    "duration": 1989,
    "start_time": "2021-07-29T23:43:21.190Z"
   },
   {
    "duration": 8,
    "start_time": "2021-07-29T23:43:23.181Z"
   },
   {
    "duration": 110,
    "start_time": "2021-07-29T23:47:37.226Z"
   },
   {
    "duration": 2049,
    "start_time": "2021-08-05T15:46:28.398Z"
   },
   {
    "duration": 294,
    "start_time": "2021-08-05T15:46:49.263Z"
   },
   {
    "duration": 373,
    "start_time": "2021-08-05T15:47:55.611Z"
   },
   {
    "duration": 408,
    "start_time": "2021-08-05T15:48:37.508Z"
   },
   {
    "duration": 5632,
    "start_time": "2021-08-05T15:50:07.876Z"
   },
   {
    "duration": 105,
    "start_time": "2021-08-05T15:50:31.231Z"
   },
   {
    "duration": 877,
    "start_time": "2021-08-05T15:50:35.439Z"
   },
   {
    "duration": 49,
    "start_time": "2021-08-05T15:50:36.319Z"
   },
   {
    "duration": 316,
    "start_time": "2021-08-05T15:50:36.371Z"
   },
   {
    "duration": 7,
    "start_time": "2021-08-05T15:50:36.690Z"
   },
   {
    "duration": 4,
    "start_time": "2021-08-05T15:50:37.811Z"
   },
   {
    "duration": 165781,
    "start_time": "2021-08-05T15:50:39.391Z"
   },
   {
    "duration": 338,
    "start_time": "2021-08-05T15:56:09.348Z"
   },
   {
    "duration": 100,
    "start_time": "2021-08-05T15:56:33.931Z"
   },
   {
    "duration": 297,
    "start_time": "2021-08-05T15:58:42.041Z"
   },
   {
    "duration": 291,
    "start_time": "2021-08-05T15:58:49.816Z"
   },
   {
    "duration": 502,
    "start_time": "2021-08-05T15:59:10.407Z"
   },
   {
    "duration": 1351,
    "start_time": "2021-08-05T16:00:56.945Z"
   },
   {
    "duration": 261,
    "start_time": "2021-08-05T16:02:21.736Z"
   },
   {
    "duration": 8409,
    "start_time": "2021-08-05T16:02:36.882Z"
   },
   {
    "duration": 11,
    "start_time": "2021-08-05T16:04:14.253Z"
   },
   {
    "duration": 7220,
    "start_time": "2021-08-05T16:04:22.252Z"
   },
   {
    "duration": 7007,
    "start_time": "2021-08-05T17:50:15.759Z"
   },
   {
    "duration": 5623,
    "start_time": "2021-08-05T17:54:39.931Z"
   },
   {
    "duration": 6155,
    "start_time": "2021-08-05T17:55:08.153Z"
   },
   {
    "duration": 268,
    "start_time": "2021-08-05T18:02:18.766Z"
   },
   {
    "duration": 44,
    "start_time": "2021-08-05T18:12:41.847Z"
   },
   {
    "duration": 9074,
    "start_time": "2021-08-05T18:13:59.319Z"
   },
   {
    "duration": 7718,
    "start_time": "2021-08-05T18:14:14.953Z"
   },
   {
    "duration": 384,
    "start_time": "2021-08-05T18:25:31.643Z"
   },
   {
    "duration": 377,
    "start_time": "2021-08-05T18:26:04.222Z"
   },
   {
    "duration": 1268,
    "start_time": "2021-08-05T18:27:29.638Z"
   },
   {
    "duration": 1608,
    "start_time": "2021-08-05T18:28:29.464Z"
   },
   {
    "duration": 1319,
    "start_time": "2021-08-05T18:28:41.607Z"
   },
   {
    "duration": 1419,
    "start_time": "2021-08-05T18:28:53.736Z"
   },
   {
    "duration": 1325,
    "start_time": "2021-08-05T18:29:07.222Z"
   },
   {
    "duration": 1509,
    "start_time": "2021-08-05T18:33:46.729Z"
   },
   {
    "duration": 705,
    "start_time": "2021-08-05T18:33:56.295Z"
   },
   {
    "duration": 6,
    "start_time": "2021-08-05T18:34:02.413Z"
   },
   {
    "duration": 688,
    "start_time": "2021-08-05T18:34:07.906Z"
   },
   {
    "duration": 274,
    "start_time": "2021-08-05T18:35:56.800Z"
   },
   {
    "duration": 1340,
    "start_time": "2021-08-05T18:36:29.837Z"
   }
  ],
  "kernelspec": {
   "display_name": "Python 3",
   "language": "python",
   "name": "python3"
  },
  "language_info": {
   "codemirror_mode": {
    "name": "ipython",
    "version": 3
   },
   "file_extension": ".py",
   "mimetype": "text/x-python",
   "name": "python",
   "nbconvert_exporter": "python",
   "pygments_lexer": "ipython3",
   "version": "3.8.5"
  },
  "toc": {
   "base_numbering": 1,
   "nav_menu": {},
   "number_sections": true,
   "sideBar": true,
   "skip_h1_title": true,
   "title_cell": "Содержание",
   "title_sidebar": "Contents",
   "toc_cell": true,
   "toc_position": {
    "height": "calc(100% - 180px)",
    "left": "10px",
    "top": "150px",
    "width": "302.391px"
   },
   "toc_section_display": true,
   "toc_window_display": false
  }
 },
 "nbformat": 4,
 "nbformat_minor": 2
}
